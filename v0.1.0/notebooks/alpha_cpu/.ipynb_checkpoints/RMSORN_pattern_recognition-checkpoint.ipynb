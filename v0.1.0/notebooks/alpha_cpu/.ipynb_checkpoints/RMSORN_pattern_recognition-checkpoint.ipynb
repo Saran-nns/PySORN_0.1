{
 "cells": [
  {
   "cell_type": "markdown",
   "metadata": {
    "colab_type": "raw",
    "id": "gMLVY3zd802S"
   },
   "source": [
    "### IMPORT REQUIRED LIBRARIES\n",
    "\n",
    "\n",
    "\n"
   ]
  },
  {
   "cell_type": "code",
   "execution_count": 1,
   "metadata": {
    "colab": {},
    "colab_type": "code",
    "id": "GfD36lDc802N"
   },
   "outputs": [],
   "source": [
    "from __future__ import division\n",
    "import numpy as np\n",
    "from scipy.stats import norm\n",
    "import random\n",
    "import tqdm\n",
    "import pandas as pd\n",
    "from collections import OrderedDict\n",
    "import matplotlib.pyplot as plt\n",
    "import heapq\n",
    "import pickle\n",
    "import torch as torch\n",
    "\n",
    "torch.manual_seed(1)\n",
    "random.seed(1)\n",
    "np.random.seed(1)\n"
   ]
  },
  {
   "cell_type": "markdown",
   "metadata": {
    "colab_type": "text",
    "id": "x6HcbHay802U"
   },
   "source": [
    "### UTILS"
   ]
  },
  {
   "cell_type": "code",
   "execution_count": 2,
   "metadata": {
    "colab": {},
    "colab_type": "code",
    "id": "qnKD75Bm802V"
   },
   "outputs": [],
   "source": [
    "def normalize_weight_matrix(weight_matrix):\n",
    "    \n",
    "    # Applied only while initializing the weight. Later Synaptic scalling applied on weight matrices\n",
    "    \n",
    "    \"\"\" Normalize the weights in the matrix such that incoming connections to a neuron sum up to 1\n",
    "    \n",
    "    Args:\n",
    "        weight_matrix(array) -- Incoming Weights from W_ee or W_ei or W_ie\n",
    "    \n",
    "    Returns:\n",
    "        weight_matrix(array) -- Normalized weight matrix\"\"\"\n",
    "\n",
    "    normalized_weight_matrix = weight_matrix / np.sum(weight_matrix,axis = 0)\n",
    "\n",
    "    return normalized_weight_matrix"
   ]
  },
  {
   "cell_type": "markdown",
   "metadata": {
    "colab_type": "text",
    "id": "6N2LuY9c27YO"
   },
   "source": [
    "### Implement lambda incoming connections for Excitatory neurons and outgoing connections per Inhibitory neuron"
   ]
  },
  {
   "cell_type": "code",
   "execution_count": 3,
   "metadata": {
    "colab": {},
    "colab_type": "code",
    "id": "KdS96s3-802Z"
   },
   "outputs": [],
   "source": [
    "\n",
    "\n",
    "def generate_lambd_connections(synaptic_connection,ne,ni, lambd_w,lambd_std):\n",
    "    \n",
    "    \n",
    "    \"\"\"\n",
    "    Args:\n",
    "    synaptic_connection -  Type of sysnpatic connection (EE,EI or IE)\n",
    "    ne - Number of excitatory units\n",
    "    ni - Number of inhibitory units\n",
    "    lambd_w - Average number of incoming connections\n",
    "    lambd_std - Standard deviation of average number of connections per neuron\n",
    "    \n",
    "    Returns:\n",
    "    \n",
    "    connection_weights - Weight matrix\n",
    "    \n",
    "    \"\"\"\n",
    "    \n",
    "    \n",
    "    if synaptic_connection == 'EE':\n",
    "        \n",
    "        \n",
    "        \"\"\"Choose random lamda connections per neuron\"\"\"\n",
    "\n",
    "        # Draw normally distribued ne integers with mean lambd_w\n",
    "\n",
    "        lambdas_incoming = norm.ppf(np.random.random(ne), loc=lambd_w, scale=lambd_std).astype(int)\n",
    "        \n",
    "        # lambdas_outgoing = norm.ppf(np.random.random(ne), loc=lambd_w, scale=lambd_std).astype(int)\n",
    "    \n",
    "        # List of neurons \n",
    "\n",
    "        list_neurons= list(range(ne))\n",
    "\n",
    "        # Connection weights\n",
    "\n",
    "        connection_weights = np.zeros((ne,ne))\n",
    "\n",
    "        # For each lambd value in the above list,\n",
    "        # generate weights for incoming and outgoing connections\n",
    "            \n",
    "        #-------------Gaussian Distribution of weights --------------\n",
    "            \n",
    "        # weight_matrix = np.random.randn(Sorn.ne, Sorn.ni) + 2 # Small random values from gaussian distribution\n",
    "                                                                # Centered around 2 to make all values positive \n",
    "            \n",
    "        # ------------Uniform Distribution --------------------------\n",
    "        global_incoming_weights = np.random.uniform(0.0,0.1,sum(lambdas_incoming))\n",
    "        \n",
    "        # Index Counter\n",
    "        global_incoming_weights_idx = 0\n",
    "        \n",
    "        # Choose the neurons in order [0 to 199]\n",
    "        \n",
    "        for neuron in list_neurons:\n",
    "\n",
    "            ### Choose ramdom unique (lambdas[neuron]) neurons from  list_neurons\n",
    "            possible_connections = list_neurons.copy()\n",
    "            \n",
    "            possible_connections.remove(neuron)  # Remove the selected neuron from possible connections i!=j\n",
    "            \n",
    "            # Choose random presynaptic neurons\n",
    "            possible_incoming_connections = random.sample(possible_connections,lambdas_incoming[neuron])  \n",
    "\n",
    "           \n",
    "            incoming_weights_neuron = global_incoming_weights[global_incoming_weights_idx:global_incoming_weights_idx+lambdas_incoming[neuron]]\n",
    "            \n",
    "            # ---------- Update the connection weight matrix ------------\n",
    "\n",
    "            # Update incoming connection weights for selected 'neuron'\n",
    "\n",
    "            for incoming_idx,incoming_weight in enumerate(incoming_weights_neuron):  \n",
    "                connection_weights[possible_incoming_connections[incoming_idx]][neuron] = incoming_weight\n",
    "            \n",
    "            global_incoming_weights_idx += lambdas_incoming[neuron]\n",
    "        \n",
    "        return connection_weights\n",
    "    \n",
    "    if synaptic_connection == 'EI':\n",
    "        \n",
    "        \"\"\"Choose random lamda connections per neuron\"\"\"\n",
    "\n",
    "        # Draw normally distribued ni integers with mean lambd_w\n",
    "        lambdas = norm.ppf(np.random.random(ni), loc=lambd_w, scale=lambd_std).astype(int)\n",
    "        \n",
    "        # List of neurons \n",
    "\n",
    "        list_neurons= list(range(ni))  # Each i can connect with random ne neurons \n",
    "\n",
    "        # Initializing connection weights variable\n",
    "\n",
    "        connection_weights = np.zeros((ni,ne))\n",
    "\n",
    "        # ------------Uniform Distribution -----------------------------\n",
    "        global_outgoing_weights = np.random.uniform(0.0,0.1,sum(lambdas))\n",
    "        \n",
    "        # Index Counter\n",
    "        global_outgoing_weights_idx = 0\n",
    "        \n",
    "        # Choose the neurons in order [0 to 40]\n",
    "\n",
    "        for neuron in list_neurons:\n",
    "\n",
    "            ### Choose ramdom unique (lambdas[neuron]) neurons from  list_neurons\n",
    "            possible_connections = list(range(ne))\n",
    "            \n",
    "            possible_outgoing_connections = random.sample(possible_connections,lambdas[neuron])  # possible_outgoing connections to the neuron\n",
    "\n",
    "            # Update weights\n",
    "            outgoing_weights = global_outgoing_weights[global_outgoing_weights_idx:global_outgoing_weights_idx+lambdas[neuron]]\n",
    "\n",
    "            # ---------- Update the connection weight matrix ------------\n",
    "\n",
    "            # Update outgoing connections for the neuron\n",
    "\n",
    "            for outgoing_idx,outgoing_weight in enumerate(outgoing_weights):  # Update the columns in the connection matrix\n",
    "                connection_weights[neuron][possible_outgoing_connections[outgoing_idx]] = outgoing_weight\n",
    "            \n",
    "            # Update the global weight values index\n",
    "            global_outgoing_weights_idx += lambdas[neuron]\n",
    "            \n",
    "        \n",
    "        return connection_weights\n",
    "        \n",
    "        "
   ]
  },
  {
   "cell_type": "markdown",
   "metadata": {
    "colab_type": "text",
    "id": "kwA0K5_u4nkG"
   },
   "source": [
    "### More Util functions"
   ]
  },
  {
   "cell_type": "code",
   "execution_count": 4,
   "metadata": {
    "colab": {},
    "colab_type": "code",
    "id": "Bturycg4802d"
   },
   "outputs": [],
   "source": [
    "def get_incoming_connection_dict(weights):\n",
    "    \n",
    "    # Get the non-zero entires in columns is the incoming connections for the neurons\n",
    "    \n",
    "    # Indices of nonzero entries in the columns\n",
    "    connection_dict=dict.fromkeys(range(1,len(weights)+1),0)\n",
    "    \n",
    "    for i in range(len(weights[0])):  # For each neuron\n",
    "        connection_dict[i] = list(np.nonzero(weights[:,i])[0])\n",
    "        \n",
    "    return connection_dict\n",
    "    "
   ]
  },
  {
   "cell_type": "code",
   "execution_count": 5,
   "metadata": {
    "colab": {},
    "colab_type": "code",
    "id": "b0l1Ly2g802h"
   },
   "outputs": [],
   "source": [
    "def get_outgoing_connection_dict(weights):\n",
    "    # Get the non-zero entires in rows is the outgoing connections for the neurons\n",
    "    \n",
    "    # Indices of nonzero entries in the rows\n",
    "    connection_dict=dict.fromkeys(range(1,len(weights)+1),1)\n",
    "    \n",
    "    for i in range(len(weights[0])):  # For each neuron\n",
    "        connection_dict[i] = list(np.nonzero(weights[i,:])[0])\n",
    "        \n",
    "    return connection_dict"
   ]
  },
  {
   "cell_type": "code",
   "execution_count": 6,
   "metadata": {
    "colab": {},
    "colab_type": "code",
    "id": "4YScmyJa802l"
   },
   "outputs": [],
   "source": [
    "def prune_small_weights(weights,cutoff_weight):\n",
    "    \n",
    "    \"\"\" Prune the connections with negative connection strength\"\"\"\n",
    "    weights[weights <= cutoff_weight] = cutoff_weight\n",
    "    \n",
    "    return weights\n",
    "    "
   ]
  },
  {
   "cell_type": "code",
   "execution_count": 7,
   "metadata": {
    "colab": {},
    "colab_type": "code",
    "id": "nuGuabFp802p"
   },
   "outputs": [],
   "source": [
    "def set_max_cutoff_weight(weights, cutoff_weight):\n",
    "    \n",
    "    \"\"\" Set cutoff limit for the values in given array\"\"\"\n",
    "    \n",
    "    weights[weights > cutoff_weight] = cutoff_weight\n",
    "    \n",
    "    return weights"
   ]
  },
  {
   "cell_type": "code",
   "execution_count": 8,
   "metadata": {
    "colab": {},
    "colab_type": "code",
    "id": "IR2-66u6802t"
   },
   "outputs": [],
   "source": [
    "def get_unconnected_indexes(wee):\n",
    "    \n",
    "    \"\"\"\n",
    "    Helper function for Structural plasticity to randomly select the unconnected units\n",
    "    \n",
    "    Args: \n",
    "    wee -  Weight matrix\n",
    "    \n",
    "    Returns:\n",
    "    list (indices) // indices = (row_idx,col_idx)\"\"\"\n",
    "    \n",
    "\n",
    "    i,j = np.where(wee <= 0.)\n",
    "    indices = list(zip(i,j))\n",
    "    \n",
    "    self_conn_removed = []\n",
    "    for i,idxs in enumerate(indices):\n",
    "        \n",
    "        if idxs[0] != idxs[1]:\n",
    "            \n",
    "            self_conn_removed.append(indices[i])\n",
    "    \n",
    "    return self_conn_removed"
   ]
  },
  {
   "cell_type": "code",
   "execution_count": 9,
   "metadata": {
    "colab": {},
    "colab_type": "code",
    "id": "Q1qctjLG802x"
   },
   "outputs": [],
   "source": [
    "def white_gaussian_noise(mu, sigma,t):\n",
    "\n",
    "    \"\"\"Generates white gaussian noise with mean mu, standard deviation sigma and\n",
    "    the noise length equals t \"\"\"\n",
    "    \n",
    "    noise = np.random.normal(mu, sigma, t)   \n",
    "    \n",
    "    return np.expand_dims(noise,1)\n"
   ]
  },
  {
   "cell_type": "code",
   "execution_count": 10,
   "metadata": {
    "colab": {},
    "colab_type": "code",
    "id": "O2lmxtlC8024"
   },
   "outputs": [],
   "source": [
    "### SANITY CHECK EACH WEIGHTS\n",
    "#### Note this function has no influence in weight matrix, will be deprecated in next version\n",
    "\n",
    "def zero_sum_incoming_check(weights):\n",
    "    \n",
    "    zero_sum_incomings = np.where(np.sum(weights,axis = 0) == 0.)\n",
    "    \n",
    "    if len(zero_sum_incomings[-1]) == 0:\n",
    "        return weights\n",
    "    else:\n",
    "        for zero_sum_incoming in zero_sum_incomings[-1]:\n",
    "            \n",
    "            rand_indices = np.random.randint(40,size = 2)  # 5 because each excitatory neuron connects with 5 inhibitory neurons \n",
    "                                                            # given the probability of connections 0.2\n",
    "            rand_values = np.random.uniform(0.0,0.1,2)\n",
    "            \n",
    "            for i,idx in enumerate(rand_indices):\n",
    "                \n",
    "                weights[:,zero_sum_incoming][idx] = rand_values[i]\n",
    "            \n",
    "    return weights"
   ]
  },
  {
   "cell_type": "markdown",
   "metadata": {
    "colab_type": "text",
    "id": "b7lA_nOd803A"
   },
   "source": [
    "### SORN "
   ]
  },
  {
   "cell_type": "code",
   "execution_count": 11,
   "metadata": {
    "colab": {},
    "colab_type": "code",
    "id": "ukB19wse803C"
   },
   "outputs": [],
   "source": [
    "class Sorn(object):\n",
    "    \n",
    "    \"\"\"SORN 1 network model Initialization\"\"\"\n",
    "\n",
    "    def __init__(self):\n",
    "        pass\n",
    "\n",
    "    \"\"\"Initialize network variables as class variables of SORN\"\"\"\n",
    "    \n",
    "    nu = 10                    # Number of input units\n",
    "    ne = 200                   # Number of excitatory units\n",
    "    ni = int(0.2*ne)           # Number of inhibitory units in the network\n",
    "    no = 1\n",
    "    eta_stdp = 0.004\n",
    "    eta_inhib = 0.001\n",
    "    eta_ip = 0.01\n",
    "    te_max = 1.0 \n",
    "    ti_max = 0.5\n",
    "    ti_min = 0.0\n",
    "    te_min = 0.0\n",
    "    mu_ip = 0.1\n",
    "    sigma_ip  = 0.0 # Standard deviation, variance == 0 \n",
    "    \n",
    "    \n",
    "    # Initialize weight matrices\n",
    "\n",
    "    def initialize_weight_matrix(self, network_type,synaptic_connection, self_connection, lambd_w): \n",
    "\n",
    "        \n",
    "        \"\"\"\n",
    "        Args:\n",
    "        \n",
    "        network_type(str) - Spare or Dense\n",
    "        synaptic_connection(str) - EE,EI,IE: Note that Spare connection is defined only for EE connections\n",
    "        self_connection(str) - True or False: i-->i ; Network is tested only using j-->i\n",
    "        lambd_w(int) - Average number of incoming and outgoing connections per neuron\n",
    "        \n",
    "        Returns:\n",
    "        weight_matrix(array) -  Array of connection strengths \n",
    "        \"\"\"\n",
    "        \n",
    "        if (network_type == \"Sparse\") and (self_connection == \"False\"):\n",
    "\n",
    "            \"\"\"Generate weight matrix for E-E/ E-I connections with mean lamda incoming and outgiong connections per neuron\"\"\"\n",
    "            \n",
    "            weight_matrix = generate_lambd_connections(synaptic_connection,Sorn.ne,Sorn.ni,lambd_w,lambd_std = 1)\n",
    "        \n",
    "        # Dense matrix for W_ie\n",
    "\n",
    "        elif (network_type == 'Dense') and (self_connection == 'False'):\n",
    "\n",
    "            # Gaussian distribution of weights\n",
    "            # weight_matrix = np.random.randn(Sorn.ne, Sorn.ni) + 2 # Small random values from gaussian distribution\n",
    "            # Centered around 1 \n",
    "            # weight_matrix.reshape(Sorn.ne, Sorn.ni) \n",
    "            # weight_matrix *= 0.01 # Setting spectral radius \n",
    "            \n",
    "            # Uniform distribution of weights\n",
    "            weight_matrix = np.random.uniform(0.0,0.1,(Sorn.ne, Sorn.ni))\n",
    "            weight_matrix.reshape((Sorn.ne,Sorn.ni))\n",
    "            \n",
    "        elif (network_type == 'Dense_output') and (self_connection == 'False'):\n",
    "\n",
    "            # Gaussian distribution of weights\n",
    "            # weight_matrix = np.random.randn(Sorn.ne, Sorn.ni) + 2 # Small random values from gaussian distribution\n",
    "            # Centered around 1 \n",
    "            # weight_matrix.reshape(Sorn.ne, Sorn.ni) \n",
    "            # weight_matrix *= 0.01 # Setting spectral radius \n",
    "            \n",
    "            # Uniform distribution of weights\n",
    "            weight_matrix = np.random.uniform(0.0,0.1,(Sorn.ne, Sorn.ni))\n",
    "            weight_matrix.reshape((Sorn.ne,Sorn.ni))\n",
    "\n",
    "        return weight_matrix\n",
    "\n",
    "    def initialize_threshold_matrix(self, te_min,te_max, ti_min,ti_max):\n",
    "\n",
    "        # Initialize the threshold for excitatory and inhibitory neurons\n",
    "        \n",
    "        \"\"\"Args:\n",
    "            te_min(float) -- Min threshold value for excitatory units\n",
    "            ti_min(float) -- Min threshold value for inhibitory units\n",
    "            te_max(float) -- Max threshold value for excitatory units\n",
    "            ti_max(float) -- Max threshold value for inhibitory units\n",
    "        Returns:\n",
    "            te(vector) -- Threshold values for excitatory units\n",
    "            ti(vector) -- Threshold values for inhibitory units\"\"\"\n",
    "\n",
    "        te = np.random.uniform(0., te_max, (Sorn.ne, 1))\n",
    "        ti = np.random.uniform(0., ti_max, (Sorn.ni, 1))\n",
    "        \n",
    "        # For patter recognition task: Heavyside step function with fixed threshold\n",
    "        to = 0.0\n",
    "\n",
    "        return te, ti,to\n",
    "\n",
    "    def initialize_activity_vector(self,ne, ni, no):\n",
    "        \n",
    "        # Initialize the activity vectors X and Y for excitatory and inhibitory neurons\n",
    "        \n",
    "        \"\"\"Args:\n",
    "            ne(int) -- Number of excitatory neurons\n",
    "            ni(int) -- Number of inhibitory neurons\n",
    "        Returns:\n",
    "             x(array) -- Array of activity vectors of excitatory population\n",
    "             y(array) -- Array of activity vectors of inhibitory population\"\"\"\n",
    "\n",
    "        x = np.zeros((ne, 2))\n",
    "        y = np.zeros((ni, 2))\n",
    "        o = np.zeros((no, 2))\n",
    "\n",
    "        return x, y, o"
   ]
  },
  {
   "cell_type": "code",
   "execution_count": 12,
   "metadata": {
    "colab": {},
    "colab_type": "code",
    "id": "_MDrcQ0w803d"
   },
   "outputs": [],
   "source": [
    "class Plasticity(Sorn):\n",
    "    \"\"\"\n",
    "    Instance of class Sorn. Inherits the variables and functions defined in class Sorn\n",
    "    Encapsulates all plasticity mechanisms mentioned in the article \"\"\"\n",
    "\n",
    "    # Initialize the global variables for the class //Class attributes\n",
    "\n",
    "    def __init__(self):\n",
    "        \n",
    "        super().__init__()\n",
    "        self.nu = Sorn.nu                  # Number of input units\n",
    "        self.ne = Sorn.ne                  # Number of excitatory units\n",
    "        self.no = Sorn.no\n",
    "        self.eta_stdp = Sorn.eta_stdp      # STDP plasticity Learning rate constant; SORN1 and SORN2\n",
    "        self.eta_ip = Sorn.eta_ip          # Intrinsic plasticity learning rate constant; SORN1 and SORN2\n",
    "        self.eta_inhib = Sorn.eta_inhib    # Intrinsic plasticity learning rate constant; SORN2 only\n",
    "        self.h_ip = 2 * Sorn.nu / Sorn.ne  # Target firing rate\n",
    "        self.mu_ip = Sorn.mu_ip            # Mean target firing rate  \n",
    "        self.ni = Sorn.ni                  # Number of inhibitory units in the network\n",
    "        self.time_steps = Sorn.time_steps  # Total time steps of simulation\n",
    "        self.te_min = Sorn.te_min          # Excitatory minimum Threshold\n",
    "        self.te_max = Sorn.te_max          # Excitatory maximum Threshold\n",
    "        \n",
    "    def stdp(self, wee, x, mr, cutoff_weights):\n",
    "        \n",
    "        \"\"\" Apply STDP rule : Regulates synaptic strength between the pre(Xj) and post(Xi) synaptic neurons\"\"\"\n",
    "\n",
    "        x = np.asarray(x)\n",
    "        xt_1 = x[:,0]\n",
    "        xt = x[:,1]\n",
    "        wee_t = wee.copy()\n",
    "        \n",
    "        # STDP applies only on the neurons which are connected.\n",
    "        \n",
    "        for i in range(len(wee_t[0])): # Each neuron i, Post-synaptic neuron\n",
    "            \n",
    "            for j in range(len(wee_t[0:])): # Incoming connection from jth pre-synaptic neuron to ith neuron\n",
    "                \n",
    "                if wee_t[j][i] != 0. : # Check connectivity\n",
    "                    \n",
    "                    # Get the change in weight\n",
    "                    delta_wee_t = mr*self.eta_stdp * (xt[i] * xt_1[j] - xt_1[i]*xt[j])\n",
    "\n",
    "                    # Update the weight between jth neuron to i \"\"Different from notation in article \n",
    "\n",
    "                    wee_t[j][i] = wee[j][i] + delta_wee_t\n",
    "        \n",
    "        \"\"\" Prune the smallest weights induced by plasticity mechanisms; Apply lower cutoff weight\"\"\"\n",
    "        wee_t = prune_small_weights(wee_t,cutoff_weights[0])\n",
    "        \n",
    "        \"\"\"Check and set all weights < upper cutoff weight \"\"\"\n",
    "        wee_t = set_max_cutoff_weight(wee_t,cutoff_weights[1])\n",
    "\n",
    "        return wee_t\n",
    "\n",
    "    def ostdp(self,woe, x, mo):\n",
    "    \n",
    "        \"\"\" Apply STDP rule : Regulates synaptic strength between the pre(Xj) and post(Xi) synaptic neurons\"\"\"\n",
    "        x = np.asarray(x)\n",
    "        xt_1 = x[:, 0]\n",
    "        xt = x[:, 1]\n",
    "        woe_t = woe.copy()\n",
    "        # STDP applies only on the neurons which are connected.\n",
    "        for i in range(len(woe_t[0])):  # Each neuron i, Post-synaptic neuron\n",
    "            for j in range(len(woe_t[0:])):  # Incoming connection from jth pre-synaptic neuron to ith neuron\n",
    "                if woe_t[j][i] != 0.:  # Check connectivity\n",
    "                    # Get the change in weight\n",
    "                    delta_woe_t = mo*self.eta_stdp * (xt[i] * xt_1[j] - xt_1[i] * xt[j])\n",
    "                    # Update the weight between jth neuron to i \"\"Different from notation in article\n",
    "                    woe_t[j][i] = woe[j][i] + delta_woe_t\n",
    "        return woe_t\n",
    "    \n",
    "    def ip(self, te, x):\n",
    "        \n",
    "        # IP rule: Active unit increases its threshold and inactive decreases its threshold.\n",
    "\n",
    "        xt = x[:, 1]\n",
    "\n",
    "        te_update = te + self.eta_ip * (xt.reshape(self.ne, 1) - self.h_ip)\n",
    "        \n",
    "        \"\"\" Check whether all te are in range [0.0,1.0] and update acordingly\"\"\"\n",
    "        \n",
    "        # Update te < 0.0 ---> 0.0\n",
    "        # te_update = prune_small_weights(te_update,self.te_min)\n",
    "        \n",
    "        # Set all te > 1.0 --> 1.0\n",
    "        # te_update = set_max_cutoff_weight(te_update,self.te_max)\n",
    "\n",
    "        return te_update\n",
    "\n",
    "    def ss(self, wee_t):\n",
    "        \n",
    "        \"\"\"Synaptic Scaling or Synaptic Normalization\"\"\"\n",
    "        \n",
    "        wee_t = wee_t / np.sum(wee_t,axis=0)\n",
    "\n",
    "        return wee_t\n",
    "\n",
    "    @staticmethod\n",
    "    def modulation_factor(reward_history, current_reward ,window_sizes):\n",
    "        \"\"\" Grid search for Modulation factor. Returns the maximum moving average over history of rewards with corresponding window\n",
    "        Args:\n",
    "            reward_history (list): List with the history of rewards \n",
    "            window_sizes (list): List of window sizes for gridsearch\n",
    "        Returns:\n",
    "            [int]: Modulation factor\n",
    "        \"\"\"\n",
    "        reward_avgs = [] # Holds the mean of all rolling averages for each window\n",
    "        for window_size in window_sizes:\n",
    "            reward_avgs.append(np.mean(np.convolve(reward_history, np.ones(window_size), 'valid') / window_size))\n",
    "        best_reward= np.max(reward_avgs) \n",
    "        best_reward_window = window_sizes[np.argmax(best_reward)]\n",
    "        \n",
    "        mo = current_reward - best_reward\n",
    "        mr = mo.copy()\n",
    "        # TODO: What if mo != mr ?\n",
    "        return mo, mr, best_reward, best_reward_window\n",
    "\n",
    "    ###########################################################\n",
    "\n",
    "    @staticmethod\n",
    "    def initialize_plasticity():\n",
    "\n",
    "        wee = wee_init\n",
    "        wei = wei_init\n",
    "        wie = wie_init\n",
    "        woe = woe_init\n",
    "        te = te_init\n",
    "        ti = ti_init\n",
    "        to = to_init\n",
    "        x = x_init\n",
    "        y = y_init\n",
    "        o = o_init\n",
    "        \n",
    "        return wee, wei, wie,woe, te, ti, to, x, y, o\n",
    "\n",
    "    @staticmethod\n",
    "    def reorganize_network():\n",
    "        pass"
   ]
  },
  {
   "cell_type": "code",
   "execution_count": 13,
   "metadata": {
    "colab": {},
    "colab_type": "code",
    "id": "6RrY8CIS803j"
   },
   "outputs": [],
   "source": [
    "class MatrixCollection(Sorn):\n",
    "    def __init__(self,phase, matrices = None):\n",
    "        super().__init__()\n",
    "        \n",
    "        self.phase = phase\n",
    "        self.matrices = matrices\n",
    "        if self.phase == 'Plasticity' and self.matrices == None :\n",
    "\n",
    "            self.time_steps = Sorn.time_steps + 1  # Total training steps\n",
    "            self.Wee, self.Wei, self.Wie,self.Woe, self.Te, self.Ti, self.To, self.X, self.Y, self.O = [0] * self.time_steps, [0] * self.time_steps, \\\n",
    "                                                                             [0] * self.time_steps, [0] * self.time_steps, \\\n",
    "                                                                             [0] * self.time_steps, [0] * self.time_steps, \\\n",
    "                                                                             [0] * self.time_steps, [0] * self.time_steps, \\\n",
    "                                                                             [0] * self.time_steps\n",
    "            \n",
    "            wee, wei, wie, woe, te, ti, to, x, y, o = Plasticity.initialize_plasticity()\n",
    "\n",
    "            # Assign initial matrix to the master matrices\n",
    "            self.Wee[0] = wee\n",
    "            self.Wei[0] = wei\n",
    "            self.Wie[0] = wie\n",
    "            self.Woe[0] = woe\n",
    "            self.Te[0] = te\n",
    "            self.Ti[0] = ti\n",
    "            self.To[0] = to\n",
    "            self.X[0] = x\n",
    "            self.Y[0] = y\n",
    "            self.O[0] = o\n",
    "        \n",
    "        elif self.phase == 'Plasticity' and self.matrices != None:\n",
    "            \n",
    "            self.time_steps = Sorn.time_steps + 1  # Total training steps\n",
    "            self.Wee, self.Wei, self.Wie,self.Woe, self.Te, self.Ti,self.To, self.X, self.Y,self.O = [0] * self.time_steps, [0] * self.time_steps, \\\n",
    "                                                                             [0] * self.time_steps, [0] * self.time_steps, \\\n",
    "                                                                             [0] * self.time_steps, [0] * self.time_steps, \\\n",
    "                                                                             [0] * self.time_steps, [0] * self.time_steps, [0] * self.time_steps, \\\n",
    "                                                                             [0] * self.time_steps\n",
    "            # Assign matrices from plasticity phase to the new master matrices for training phase\n",
    "            self.Wee[0] = matrices['Wee']\n",
    "            self.Wei[0] = matrices['Wei']\n",
    "            self.Wie[0] = matrices['Wie']\n",
    "            self.Woe[0] = matrices['Woe']\n",
    "            self.Te[0] = matrices['Te']\n",
    "            self.Ti[0] = matrices['Ti']\n",
    "            self.To[0] = matrices['To']\n",
    "            self.X[0] = matrices['X']\n",
    "            self.Y[0] = matrices['Y']\n",
    "            self.O[0] = matrices['O']\n",
    "            \n",
    "        elif self.phase == 'Training':\n",
    "\n",
    "            \"\"\"NOTE:\n",
    "            time_steps here is diferent for plasticity or trianing phase\"\"\"\n",
    "            self.time_steps = Sorn.time_steps + 1  # Total training steps\n",
    "            self.Wee, self.Wei, self.Wie,self.Woe, self.Te, self.Ti,self.To, self.X, self.Y,self.O = [0] * self.time_steps, [0] * self.time_steps, \\\n",
    "                                                                             [0] * self.time_steps, [0] * self.time_steps, \\\n",
    "                                                                             [0] * self.time_steps, [0] * self.time_steps, \\\n",
    "                                                                             [0] * self.time_steps, [0] * self.time_steps, [0] * self.time_steps, \\\n",
    "                                                                             [0] * self.time_steps\n",
    "            # Assign matrices from plasticity phase to new respective matrices for training phase\n",
    "            self.Wee[0] = matrices['Wee']\n",
    "            self.Wei[0] = matrices['Wei']\n",
    "            self.Wie[0] = matrices['Wie']\n",
    "            self.Woe[0] = matrices['Woe']\n",
    "            self.Te[0] = matrices['Te']\n",
    "            self.Ti[0] = matrices['Ti']\n",
    "            self.To[0] = matrices['To']\n",
    "            self.X[0] = matrices['X']\n",
    "            self.Y[0] = matrices['Y']\n",
    "            self.O[0] = matrices['O']\n",
    "                 \n",
    "    # @staticmethod\n",
    "    def weight_matrix(self, wee, wei, wie, woe, i):\n",
    "        # Get delta_weight from Plasticity.stdp \n",
    "        # i - training step\n",
    "        self.Wee[i + 1] = wee\n",
    "        self.Wei[i + 1] = wei\n",
    "        self.Wie[i + 1] = wie\n",
    "        self.Woe[i + 1] = woe\n",
    "        return self.Wee, self.Wei, self.Wie, self.Woe\n",
    "\n",
    "    # @staticmethod\n",
    "    def threshold_matrix(self, te, ti, i):\n",
    "        self.Te[i + 1] = te\n",
    "        self.Ti[i + 1] = ti\n",
    "        self.To[i + 1] = to\n",
    "        return self.Te, self.Ti, self.To\n",
    "\n",
    "    # @staticmethod\n",
    "    def network_activity_t(self, excitatory_net, inhibitory_net, output_net, i):\n",
    "        self.X[i + 1] = excitatory_net\n",
    "        self.Y[i + 1] = inhibitory_net\n",
    "        self.O[i + 1] = output_net\n",
    "        return self.X, self.Y, self.O\n",
    "\n",
    "    # @staticmethod\n",
    "    def network_activity_t_1(self, x, y, i):\n",
    "        x_1, y_1, o_1 = [0] * self.time_steps, [0] * self.time_steps, [0] * self.time_steps\n",
    "        x_1[i] = x\n",
    "        y_1[i] = y\n",
    "        o_1[i] = o\n",
    "\n",
    "        return x_1, y_1, o_1"
   ]
  },
  {
   "cell_type": "code",
   "execution_count": 14,
   "metadata": {
    "colab": {},
    "colab_type": "code",
    "id": "XnPxhhDj803p"
   },
   "outputs": [],
   "source": [
    "class NetworkState(Plasticity):\n",
    "    \n",
    "    \"\"\"The evolution of network states\"\"\"\n",
    "\n",
    "    def __init__(self, v_t):\n",
    "        super().__init__()\n",
    "        self.v_t = v_t\n",
    "    \n",
    "    def incoming_drive(self,weights,activity_vector):\n",
    "            \n",
    "        # Broadcasting weight*acivity vectors \n",
    "        \n",
    "        incoming = weights* activity_vector\n",
    "        incoming = np.array(incoming.sum(axis=0))\n",
    "        return incoming\n",
    "        \n",
    "    def excitatory_network_state(self, wee, wei, te, x, y,white_noise_e):\n",
    "        \n",
    "        \"\"\" Activity of Excitatory neurons in the network\"\"\"\n",
    "    \n",
    "        xt = x[:, 1]  \n",
    "        xt = xt.reshape(self.ne, 1)\n",
    "        yt = y[:, 1]\n",
    "        yt = yt.reshape(self.ni, 1)\n",
    "\n",
    "        incoming_drive_e = np.expand_dims(self.incoming_drive(weights = wee,activity_vector=xt),1)\n",
    "        incoming_drive_i = np.expand_dims(self.incoming_drive(weights = wei,activity_vector=yt),1)\n",
    "        \n",
    "        if self.v_t.shape[0] < self.ne:\n",
    "            \n",
    "            inp = [0]*self.ne\n",
    "            inp[:len(self.v_t)] = self.v_t\n",
    "            self.v_t = inp.copy()\n",
    "            \n",
    "        tot_incoming_drive = incoming_drive_e -  incoming_drive_i + white_noise_e + np.expand_dims(np.asarray(self.v_t),1) - te\n",
    "        \n",
    "        \"\"\"Heaviside step function\"\"\"\n",
    "\n",
    "        \"\"\"Implement Heaviside step function\"\"\"\n",
    "        heaviside_step = np.expand_dims([0.] * len(tot_incoming_drive),1)\n",
    "        heaviside_step[tot_incoming_drive > 0] = 1.\n",
    "\n",
    "        xt_next = np.asarray(heaviside_step.copy())\n",
    "\n",
    "        return xt_next\n",
    "\n",
    "    def inhibitory_network_state(self, wie, ti, x,white_noise_i):\n",
    "\n",
    "        # Activity of inhibitory neurons\n",
    "        wie = np.asarray(wie)\n",
    "        xt = x[:, 1]\n",
    "        xt = xt.reshape(Sorn.ne, 1)    \n",
    "        incoming_drive_e = np.expand_dims(self.incoming_drive(weights = wie, activity_vector=xt),1) \n",
    "        tot_incoming_drive = incoming_drive_e + white_noise_i - ti\n",
    "\n",
    "        \"\"\"Implement Heaviside step function\"\"\"\n",
    "        heaviside_step = np.expand_dims([0.] * len(tot_incoming_drive),1)\n",
    "        heaviside_step[tot_incoming_drive > 0] = 1.\n",
    "\n",
    "        yt_next = np.asarray(heaviside_step.copy())  \n",
    "\n",
    "        return yt_next\n",
    "\n",
    "    \n",
    "    def recurrent_drive(self, wee, wei, te, x, y,white_noise_e):\n",
    "        \n",
    "        \"\"\"Network state due to recurrent drive received by the each unit at time t+1\"\"\"\n",
    "        \n",
    "    \n",
    "        xt = x[:, 1]  \n",
    "        xt = xt.reshape(self.ne, 1)\n",
    "        yt = y[:, 1]\n",
    "        yt = yt.reshape(self.ni, 1)\n",
    "        \n",
    "        incoming_drive_e = np.expand_dims(self.incoming_drive(weights = wee,activity_vector=xt),1)\n",
    "        incoming_drive_i = np.expand_dims(self.incoming_drive(weights = wei,activity_vector=yt),1)\n",
    "        \n",
    "        tot_incoming_drive = incoming_drive_e -  incoming_drive_i + white_noise_e - te\n",
    " \n",
    "        \"\"\"Implement Heaviside step function\"\"\"\n",
    "        heaviside_step = np.expand_dims([0.] * len(tot_incoming_drive),1)\n",
    "        heaviside_step[tot_incoming_drive > 0] = 1.\n",
    "\n",
    "        xt_next = np.asarray(heaviside_step.copy())\n",
    "\n",
    "        return xt_next\n",
    "    \n",
    "    def output_network_state(self,woe, to, x):\n",
    "        \"\"\" Output layer states\n",
    "        Args:\n",
    "            woe (array): Connection weights between Reurrent network and Output layer\n",
    "            to (array): Threshold of Ouput layer neurons\n",
    "            x (array): Excitatory recurrent network states\n",
    "        \"\"\"\n",
    "        woe = np.asarray(woe)\n",
    "        xt = x[:, 1]\n",
    "        xt = xt.reshape(Sorn.no, 1)\n",
    "        \n",
    "        incoming_drive_o = np.expand_dims(self.incoming_drive(weights=woe, activity_vector=xt), 1)\n",
    "        tot_incoming_drive = incoming_drive_o - to\n",
    "        \n",
    "        # TODO: If output neuron is 1, the use Heavyside step function\n",
    "        if len(to)==1:   \n",
    "            \"\"\"Implement Heaviside step function\"\"\"\n",
    "            heaviside_step = np.expand_dims([0.] * len(tot_incoming_drive),1)\n",
    "            heaviside_step[tot_incoming_drive > 0] = 1.\n",
    "            return heaviside_step\n",
    "        else:\n",
    "            \"\"\"Winner takes all\"\"\"\n",
    "            ot_next = np.where(tot_incoming_drive == tot_incoming_drive.max(), tot_incoming_drive, 0.)\n",
    "            return ot_next\n",
    "\n",
    "    "
   ]
  },
  {
   "cell_type": "markdown",
   "metadata": {},
   "source": [
    "### Helper class for training SORN"
   ]
  },
  {
   "cell_type": "code",
   "execution_count": 15,
   "metadata": {},
   "outputs": [],
   "source": [
    "class TrainSornPlasticity(Sorn):\n",
    "    \n",
    "    \n",
    "    \"\"\"\n",
    "        Args:\n",
    "        inputs - one hot vector of inputs\n",
    "    \n",
    "        Returns:\n",
    "        matrix_collection - collection of all weight matrices in dictionaries\n",
    "        \"\"\"\n",
    "    \n",
    "    def __init__(self):\n",
    "        \n",
    "        super().__init__()\n",
    "        \n",
    "        pass\n",
    "        \n",
    "    def train_sorn(self,phase,matrices,inputs):\n",
    "        \n",
    "        self.phase = phase\n",
    "        self.time_steps = 1\n",
    "        Sorn.time_steps = 1\n",
    "        self.inputs = np.asarray(inputs)\n",
    "        self.phase = phase\n",
    "        self.matrices = matrices\n",
    "        \n",
    "        # Collect the network activity at all time steps\n",
    "        \n",
    "        X_all = [0]*self.time_steps\n",
    "        Y_all = [0]*self.time_steps\n",
    "        R_all = [0]*self.time_steps\n",
    "        \n",
    "        frac_pos_active_conn = []\n",
    "         \n",
    "        \"\"\" DONOT INITIALIZE WEIGHTS\"\"\"\n",
    "        \n",
    "        matrix_collection = MatrixCollection(phase = self.phase, matrices = self.matrices)  \n",
    "        \n",
    "        for i in range(1):\n",
    "            \n",
    "            \"\"\" Generate white noise\"\"\"\n",
    "            # white_noise_e = white_gaussian_noise(mu= 0., sigma = 0.04,t = Sorn.ne)\n",
    "            # white_noise_i = white_gaussian_noise(mu= 0., sigma = 0.04,t = Sorn.ni)\n",
    "            \n",
    "            network_state = NetworkState(self.inputs.T)  # Feed Input as an argument to the class\n",
    "            \n",
    "\n",
    "            # Buffers to get the resulting x and y vectors at the current time step and update the master matrix\n",
    "\n",
    "            x_buffer, y_buffer = np.zeros(( Sorn.ne, 2)), np.zeros((Sorn.ni, 2))\n",
    "\n",
    "            te_buffer, ti_buffer = np.zeros((Sorn.ne, 1)), np.zeros((Sorn.ni, 1))\n",
    "\n",
    "            # Get the matrices and rename them for ease of reading\n",
    "\n",
    "            Wee, Wei, Wie = matrix_collection.Wee, matrix_collection.Wei, matrix_collection.Wie\n",
    "            Te, Ti = matrix_collection.Te, matrix_collection.Ti\n",
    "            X, Y = matrix_collection.X, matrix_collection.Y\n",
    "            \n",
    "            \n",
    "            \"\"\" Fraction of active connections between E-E network\"\"\"\n",
    "            frac_pos_active_conn.append((Wee[i] > 0.0).sum())\n",
    "            \n",
    "            # Recurrent drive at t+1 used to predict the next external stimuli\n",
    "            \n",
    "            r = network_state.recurrent_drive(Wee[i], Wei[i], Te[i], X[i], Y[i],white_noise_e = 0.)\n",
    "\n",
    "            \"\"\"Get excitatory states and inhibitory states given the weights and thresholds\"\"\"\n",
    "\n",
    "            # x(t+1), y(t+1)\n",
    "            excitatory_state_xt_buffer = network_state.excitatory_network_state(Wee[i], Wei[i], Te[i], X[i], Y[i],white_noise_e = 0.)\n",
    "\n",
    "            inhibitory_state_yt_buffer = network_state.inhibitory_network_state(Wie[i], Ti[i], X[i],white_noise_i = 0.)\n",
    "            \n",
    "            \n",
    "            \"\"\" Update X and Y \"\"\"\n",
    "            x_buffer[:, 0] = X[i][:, 1]  # xt -->(becomes) xt_1\n",
    "            x_buffer[:, 1] = excitatory_state_xt_buffer.T  # New_activation; x_buffer --> xt\n",
    "            \n",
    "\n",
    "            y_buffer[:, 0] = Y[i][:, 1]\n",
    "            y_buffer[:, 1] = inhibitory_state_yt_buffer.T\n",
    "            \n",
    "\n",
    "            \"\"\"Plasticity phase\"\"\"\n",
    "\n",
    "            plasticity = Plasticity()\n",
    "\n",
    "            # STDP \n",
    "            Wee_t = plasticity.stdp(Wee[i],x_buffer,cutoff_weights = (0.0,1.0))\n",
    "              \n",
    "            # Intrinsic plasticity\n",
    "            Te_t = plasticity.ip(Te[i],x_buffer)\n",
    "              \n",
    "            # Structural plasticity\n",
    "            Wee_t = plasticity.structural_plasticity(Wee_t)      \n",
    "            \n",
    "            # iSTDP \n",
    "            Wei_t = plasticity.istdp(Wei[i],x_buffer,y_buffer,cutoff_weights = (0.0,1.0))\n",
    "            \n",
    "            # Synaptic scaling Wee\n",
    "            Wee_t = Plasticity().ss(Wee_t)\n",
    "            \n",
    "            # Synaptic scaling Wei\n",
    "            Wei_t = Plasticity().ss(Wei_t)\n",
    "\n",
    "            \"\"\"Assign the matrices to the matrix collections\"\"\"\n",
    "            matrix_collection.weight_matrix(Wee_t, Wei_t, Wie[i], i)\n",
    "            matrix_collection.threshold_matrix(Te_t, Ti[i], i)\n",
    "            matrix_collection.network_activity_t(x_buffer, y_buffer, i)\n",
    "            \n",
    "            X_all[i] = x_buffer[:,1]\n",
    "            Y_all[i] = y_buffer[:,1]\n",
    "            R_all[i] = r\n",
    "   \n",
    "        plastic_matrices = {'Wee':matrix_collection.Wee[-1], \n",
    "                            'Wei': matrix_collection.Wei[-1], \n",
    "                            'Wie':matrix_collection.Wie[-1],\n",
    "                            'Te': matrix_collection.Te[-1], 'Ti': matrix_collection.Ti[-1],\n",
    "                            'X': X[-1], 'Y': Y[-1]}\n",
    "        \n",
    "        return plastic_matrices,X_all,Y_all,R_all,frac_pos_active_conn"
   ]
  },
  {
   "cell_type": "code",
   "execution_count": 16,
   "metadata": {},
   "outputs": [],
   "source": [
    "class RunSorn(Sorn):\n",
    "    \n",
    "    def __init__(self,phase,matrices,time_steps):\n",
    "        \n",
    "        super().__init__()\n",
    "        self.time_steps = time_steps\n",
    "        Sorn.time_steps = time_steps\n",
    "        self.phase = phase\n",
    "        self.matrices = matrices\n",
    "\n",
    "    def run_sorn(self, inp):\n",
    "        \n",
    "        # Initialize/Get the weight, threshold matrices and activity vectors\n",
    "        matrix_collection = MatrixCollection(phase = self.phase,matrices = self.matrices)\n",
    "        \n",
    "        # Collect the network activity at all time steps\n",
    "        \n",
    "        X_all = [0]*self.time_steps\n",
    "        Y_all = [0]*self.time_steps\n",
    "        R_all = [0]*self.time_steps\n",
    "        \n",
    "        frac_pos_active_conn = []\n",
    "        \n",
    "        # To get the last activation status of Exc and Inh neurons\n",
    "            \n",
    "        for i in tqdm.tqdm(range(self.time_steps)):\n",
    "            \n",
    "            \n",
    "            \"\"\" Generate white noise\"\"\"\n",
    "            white_noise_e = white_gaussian_noise(mu= 0., sigma = 0.04,t = Sorn.ne)\n",
    "            white_noise_i = white_gaussian_noise(mu= 0., sigma = 0.04,t = Sorn.ni)\n",
    "    \n",
    "            \n",
    "            network_state = NetworkState(inp)  # Feed input and initialize network state\n",
    "            \n",
    "            # Buffers to get the resulting x and y vectors at the current time step and update the master matrix\n",
    "\n",
    "            x_buffer, y_buffer = np.zeros(( Sorn.ne, 2)), np.zeros((Sorn.ni, 2))\n",
    "\n",
    "            te_buffer, ti_buffer = np.zeros((Sorn.ne, 1)), np.zeros((Sorn.ni, 1))\n",
    "\n",
    "            # Get the matrices and rename them for ease of reading\n",
    "\n",
    "            Wee, Wei, Wie = matrix_collection.Wee, matrix_collection.Wei, matrix_collection.Wie\n",
    "            Te, Ti = matrix_collection.Te, matrix_collection.Ti\n",
    "            X, Y = matrix_collection.X, matrix_collection.Y\n",
    "            \n",
    "            \n",
    "            \"\"\" Fraction of active connections between E-E network\"\"\"\n",
    "            frac_pos_active_conn.append((Wee[i] > 0.0).sum())\n",
    "            \n",
    "            \"\"\" Recurrent drive\"\"\"\n",
    "            \n",
    "            r = network_state.recurrent_drive(Wee[i], Wei[i], Te[i], X[i], Y[i],white_noise_e)\n",
    "            \n",
    "            \"\"\"Get excitatory states and inhibitory states given the weights and thresholds\"\"\"\n",
    "\n",
    "            # x(t+1), y(t+1)\n",
    "            excitatory_state_xt_buffer = network_state.excitatory_network_state(Wee[i], Wei[i], Te[i], X[i], Y[i],white_noise_e)\n",
    "\n",
    "            inhibitory_state_yt_buffer = network_state.inhibitory_network_state(Wie[i], Ti[i], X[i],white_noise_i)\n",
    "\n",
    "            \n",
    "            \"\"\" Update X and Y \"\"\"\n",
    "            x_buffer[:, 0] = X[i][:, 1]  # xt -->(becomes) xt_1\n",
    "            x_buffer[:, 1] = excitatory_state_xt_buffer.T  # New_activation; x_buffer --> xt\n",
    "            \n",
    "\n",
    "            y_buffer[:, 0] = Y[i][:, 1]\n",
    "            y_buffer[:, 1] = inhibitory_state_yt_buffer.T\n",
    "            \n",
    "            \"\"\"Plasticity phase\"\"\"\n",
    "\n",
    "            plasticity = Plasticity()\n",
    "\n",
    "            # STDP \n",
    "            Wee_t = plasticity.stdp(Wee[i],x_buffer,cutoff_weights = (0.0,1.0))\n",
    "              \n",
    "            # Intrinsic plasticity\n",
    "            Te_t = plasticity.ip(Te[i],x_buffer)\n",
    "              \n",
    "            # Structural plasticity\n",
    "            Wee_t = plasticity.structural_plasticity(Wee_t)      \n",
    "            \n",
    "            # iSTDP \n",
    "            Wei_t = plasticity.istdp(Wei[i],x_buffer,y_buffer,cutoff_weights = (0.0,1.0))\n",
    "            \n",
    "            # Synaptic scaling Wee\n",
    "            Wee_t = Plasticity().ss(Wee_t)\n",
    "            \n",
    "            # Synaptic scaling Wei\n",
    "            Wei_t = Plasticity().ss(Wei_t)\n",
    "\n",
    "            \"\"\"Assign the matrices to the matrix collections\"\"\"\n",
    "            matrix_collection.weight_matrix(Wee_t, Wei_t, Wie[i], i)\n",
    "            matrix_collection.threshold_matrix(Te_t, Ti[i], i)\n",
    "            matrix_collection.network_activity_t(x_buffer, y_buffer, i)\n",
    "            \n",
    "            X_all[i] = x_buffer[:,1]\n",
    "            Y_all[i] = y_buffer[:,1]\n",
    "            R_all[i] = r\n",
    "            \n",
    "   \n",
    "        plastic_matrices = {'Wee':matrix_collection.Wee[-1], \n",
    "                            'Wei': matrix_collection.Wei[-1], \n",
    "                            'Wie':matrix_collection.Wie[-1],\n",
    "                            'Te': matrix_collection.Te[-1], 'Ti': matrix_collection.Ti[-1],\n",
    "                            'X': X[-1], 'Y': Y[-1]}\n",
    "        \n",
    "        return plastic_matrices,X_all,Y_all,R_all,frac_pos_active_conn"
   ]
  },
  {
   "cell_type": "code",
   "execution_count": 17,
   "metadata": {},
   "outputs": [],
   "source": [
    "with open('stdp2009_1000k.pkl','rb') as f:  \n",
    "    plastic_matrices,X_all,Y_all,R_all,frac_pos_active_conn = pickle.load(f)"
   ]
  },
  {
   "cell_type": "markdown",
   "metadata": {},
   "source": [
    "#### Generate sine wave : Input-Target sequence for the network to learn"
   ]
  },
  {
   "cell_type": "code",
   "execution_count": 18,
   "metadata": {},
   "outputs": [],
   "source": [
    "def generate_discrete_sine(sample_rate,freq):\n",
    "\n",
    "    fs = sample_rate  # Sample rate \n",
    "    f = freq # Frequency of the signal\n",
    "    x = np.arange(sample_rate) # the points on the x axis for plotting\n",
    "    # compute the value (amplitude) of the sin wave at the for each sample\n",
    "    y = [ np.sin(2*np.pi*f * (i/fs)) for i in x]\n",
    "    # showing the exact location of the smaples\n",
    "    plt.stem(x,y, 'r', )\n",
    "    plt.plot(x,y)\n",
    "    plt.xlabel('Sample points')\n",
    "    plt.ylabel('Amplitude')\n",
    "    plt.savefig('Signwave')\n",
    "    plt.show()\n",
    "    return y,plt"
   ]
  },
  {
   "cell_type": "code",
   "execution_count": 19,
   "metadata": {},
   "outputs": [
    {
     "name": "stdout",
     "output_type": "stream",
     "text": [
      "[0, 1, 2, 3, 4, 5, 6, 7, 8, 9]\n"
     ]
    }
   ],
   "source": [
    "#Training input\n",
    "# inputs,_= generate_discrete_sine(sample_rate=11,freq=1)\n",
    "\n",
    "inputs = list(range(10))\n",
    "print(inputs)"
   ]
  },
  {
   "cell_type": "code",
   "execution_count": 20,
   "metadata": {},
   "outputs": [
    {
     "name": "stdout",
     "output_type": "stream",
     "text": [
      "Shape of one hot inputs (200, 10) [34, 145, 195, 16, 65, 30, 126, 194, 115, 120]\n"
     ]
    }
   ],
   "source": [
    "def one_hot_inp(ne,input_units):\n",
    "    \n",
    "    \"\"\"Args:\n",
    "    n - Number of excitatory units in sorn\n",
    "    inputs - input labels\n",
    "    Returns:\n",
    "    one_hot_vecot for each label with length equals ne\"\"\"\n",
    "    \n",
    "    one_hot = np.zeros((ne,len(input_units)))\n",
    "    rows_idx = random.sample(range(0,ne),len(input_units))\n",
    "    for j in range(len(input_units)): \n",
    "        one_hot[rows_idx[j]][j] = 1\n",
    "        \n",
    "    return one_hot,rows_idx\n",
    "\n",
    "one_hot_inp_identity,input_neurons = one_hot_inp(200,inputs)  \n",
    "\"\"\"Edit: ROWS Equals number of neurons, hence each input has to be transposed\"\"\"\n",
    "print('Shape of one hot inputs',one_hot_inp_identity.shape,input_neurons)"
   ]
  },
  {
   "cell_type": "code",
   "execution_count": 21,
   "metadata": {},
   "outputs": [
    {
     "name": "stdout",
     "output_type": "stream",
     "text": [
      "Shape of one hot inputs [0. 0. 0. 0. 0. 0. 0. 0. 0. 0. 0. 0. 0. 0. 0. 0. 0. 0. 0. 0. 0. 0. 0. 0.\n",
      " 0. 0. 0. 0. 0. 0. 0. 0. 0. 0. 0. 0. 0. 0. 0. 0. 0. 0. 0. 0. 0. 0. 0. 0.\n",
      " 0. 0. 0. 0. 0. 0. 0. 0. 0. 0. 0. 0. 0. 0. 0. 0. 0. 0. 0. 0. 0. 0. 0. 0.\n",
      " 0. 0. 0. 0. 0. 0. 0. 0. 0. 0. 0. 0. 0. 0. 0. 0. 0. 0. 0. 0. 0. 0. 0. 0.\n",
      " 0. 1. 0. 0. 0. 0. 0. 0. 0. 0. 0. 0. 0. 0. 0. 0. 0. 0. 0. 0. 0. 0. 0. 0.\n",
      " 0. 0. 0. 0. 0. 0. 0. 0. 0. 0. 0. 0. 0. 0. 0. 0. 0. 0. 0. 0. 0. 0. 0. 0.\n",
      " 0. 0. 0. 0. 0. 0. 0. 0. 0. 0. 0. 0. 0. 0. 0. 0. 0. 0. 0. 0. 0. 0. 0. 0.\n",
      " 0. 0. 0. 0. 0. 0. 0. 0. 0. 0. 0. 0. 0. 0. 0. 0. 0. 0. 0. 0. 0. 0. 0. 0.\n",
      " 0. 0. 0. 0. 0. 0. 0. 0.] [(166,), (97,), (53,), (24,), (124,), (7,), (99,), (110,), (155,), (195,)]\n"
     ]
    }
   ],
   "source": [
    "def multi_one_hot_inp(ne,inputs,n_nodes_per_inp):\n",
    "    \n",
    "    \"\"\"Args:\n",
    "    n - Number of excitatory units in sorn\n",
    "    inputs - input labels\n",
    "    Returns:\n",
    "    one_hot_vecot for each label with length equals ne\"\"\"\n",
    "    \n",
    "    one_hot = np.zeros((ne,len(inputs)))\n",
    "    \n",
    "    idxs = []\n",
    "    \n",
    "    for _ in range(n_nodes_per_inp):\n",
    "        idxs.append(random.sample(range(0,ne),len(inputs)))\n",
    "    \n",
    "    idxs = list(zip(*idxs))\n",
    "\n",
    "    j = 0  # Max(j) = len(inputs)\n",
    "    for idx_list in idxs:\n",
    "        for i in idx_list:\n",
    "            one_hot[i][j] = 1\n",
    "        j+=1\n",
    "        \n",
    "    return one_hot,idxs\n",
    "\n",
    "one_hot_inp_identity,input_neurons = multi_one_hot_inp(200,inputs,1)  \n",
    "\"\"\"Edit: ROWS Equals number of neurons, hence each input has to be transposed\"\"\"\n",
    "print('Shape of one hot inputs',one_hot_inp_identity[:,1],input_neurons)"
   ]
  },
  {
   "cell_type": "code",
   "execution_count": 22,
   "metadata": {},
   "outputs": [
    {
     "name": "stdout",
     "output_type": "stream",
     "text": [
      "[166] 0\n",
      "1000000.0\n",
      "[97] 1\n",
      "1000000.0\n",
      "[53] 2\n",
      "1000000.0\n",
      "[24] 3\n",
      "1000000.0\n",
      "[124] 4\n",
      "1000000.0\n",
      "[7] 5\n",
      "1000000.0\n",
      "[99] 6\n",
      "1000000.0\n",
      "[110] 7\n",
      "1000000.0\n",
      "[155] 8\n",
      "1000000.0\n",
      "[195] 9\n",
      "1000000.0\n"
     ]
    }
   ],
   "source": [
    "# Replace 1.0 in one hot matrices into real inputs/ fake strong inputs\n",
    "\n",
    "_inputs = one_hot_inp_identity.copy()\n",
    "for i in range(len(inputs)):\n",
    "    idxs = np.argwhere(_inputs[:,i] == np.amax(_inputs[:,i]))\n",
    "    idxs = idxs.flatten().tolist()\n",
    "    print(idxs,i)\n",
    "    for idx in idxs:\n",
    "        # _inputs[idx][i] = inputs[i]\n",
    "        _inputs[idx][i] = 1e6  # High value to make sure the neuron fires\n",
    "    print(_inputs[idx][i])"
   ]
  },
  {
   "cell_type": "code",
   "execution_count": 23,
   "metadata": {},
   "outputs": [
    {
     "name": "stdout",
     "output_type": "stream",
     "text": [
      "[0. 1. 0. 0. 0. 0. 0. 0. 0. 0.]\n"
     ]
    }
   ],
   "source": [
    "### One hot vector for targets\n",
    "\n",
    "def one_hot_out(targets):\n",
    "    \n",
    "    one_hot = np.zeros((len(targets),len(targets)))\n",
    "    np.fill_diagonal(one_hot,1.0)\n",
    "    \n",
    "    return one_hot\n",
    "\n",
    "print(np.asarray(one_hot_out(inputs)[:,1]).T)"
   ]
  },
  {
   "cell_type": "markdown",
   "metadata": {},
   "source": [
    "####  Build separate class to feed inputs to SORN with plasticity ON"
   ]
  },
  {
   "cell_type": "code",
   "execution_count": 24,
   "metadata": {},
   "outputs": [],
   "source": [
    "class SimulateSorn(Sorn):\n",
    "    \n",
    "    \"\"\"\n",
    "        Args:\n",
    "        inputs - one hot vector of inputs\n",
    "    \n",
    "        Returns:\n",
    "        matrix_collection - collection of all weight matrices in dictionaries\n",
    "        \"\"\"\n",
    "    \n",
    "    def __init__(self,phase,matrices,inputs,epochs):\n",
    "        super().__init__()\n",
    "        self.time_steps = np.shape(inputs)[1] * epochs\n",
    "        Sorn.time_steps = np.shape(inputs)[1] * epochs\n",
    "        self.inputs = np.asarray(np.tile(inputs,(1,epochs)))\n",
    "        self.phase = phase\n",
    "        self.matrices = matrices\n",
    "        self.epochs = epochs\n",
    "\n",
    "    def train_sorn(self):  \n",
    "        # Collect the network activity at all time steps\n",
    "        X_all = [0]*self.time_steps\n",
    "        Y_all = [0]*self.time_steps\n",
    "        R_all = [0]*self.time_steps\n",
    "        Rewards = []\n",
    "        frac_pos_active_conn = []\n",
    "        \n",
    "        \"\"\" DONOT INITIALIZE WEIGHTS\"\"\"\n",
    "        \n",
    "        matrix_collection = MatrixCollection(phase = self.phase, matrices = self.matrices)  \n",
    "        time_steps_counter= 0\n",
    "        sequence_length = len(self.inputs[i])\n",
    "        for i in tqdm.tqdm(range(np.shape(self.inputs)[1])):\n",
    "            i = i+ time_steps_counter\n",
    "            for j in range(seq_length):\n",
    "                \"\"\" Generate white noise\"\"\"\n",
    "                white_noise_e = white_gaussian_noise(mu= 0., sigma = 0.04,t = Sorn.ne)\n",
    "                white_noise_i = white_gaussian_noise(mu= 0., sigma = 0.04,t = Sorn.ni)\n",
    "                network_state = NetworkState(self.inputs[i][j].T)  # Feed Input as an argument to the class\n",
    "\n",
    "                # Buffers to get the resulting x, y and o vectors at the current time step and update the master matrix\n",
    "                x_buffer, y_buffer,o_buffer = np.zeros(( Sorn.ne, 2)), np.zeros((Sorn.ni, 2)), np.zeros(( Sorn.no, 2))\n",
    "\n",
    "                te_buffer, ti_buffer,to_buffer = np.zeros((Sorn.ne, 1)), np.zeros((Sorn.ni, 1, np.zeros(( Sorn.no, 1))\n",
    "\n",
    "                # Get the matrices and rename them for ease of reading\n",
    "\n",
    "                Wee, Wei, Wie,Woe = matrix_collection.Wee, matrix_collection.Wei, matrix_collection.Wie, matrix_collection.Woe\n",
    "                Te, Ti,To = matrix_collection.Te, matrix_collection.Ti,matrix_collection.To\n",
    "                X, Y, O = matrix_collection.X, matrix_collection.Y, matrix_collection.O\n",
    "\n",
    "                \"\"\" Fraction of active connections between E-E network\"\"\"\n",
    "                frac_pos_active_conn.append((Wee[i] > 0.0).sum())\n",
    "\n",
    "                # Recurrent drive,excitatory, inhibitory and output network states \n",
    "                r = network_state.recurrent_drive(Wee[i], Wei[i], Te[i], X[i], Y[i],white_noise_e = 0.)\n",
    "                excitatory_state_xt_buffer = network_state.excitatory_network_state(Wee[i], Wei[i], Te[i], X[i], Y[i],white_noise_e = 0.)\n",
    "                inhibitory_state_yt_buffer = network_state.inhibitory_network_state(Wie[i], Ti[i], X[i],white_noise_i = 0.)\n",
    "                output_state_ot_buffer = network_state.output_network_state(Woe[i], To[i], X[i])\n",
    "                \n",
    "                \"\"\" Update X and Y \"\"\"\n",
    "                x_buffer[:, 0] = X[i][:, 1]  # xt -->(becomes) xt_1\n",
    "                x_buffer[:, 1] = excitatory_state_xt_buffer.T  # New_activation; x_buffer --> xt\n",
    "                y_buffer[:, 0] = Y[i][:, 1]\n",
    "                y_buffer[:, 1] = inhibitory_state_yt_buffer.T\n",
    "                o_buffer[:, 0] = O[i][:, 1]\n",
    "                o_buffer[:, 1] = output_state_ot_buffer.T\n",
    "\n",
    "                \"\"\"Plasticity phase\"\"\"\n",
    "                plasticity = Plasticity()\n",
    "\n",
    "                # Reward and mo, mr\n",
    "                                                                    \n",
    "                if i!=0 and i%(sequence_length-1)==0:\n",
    "                    current_reward = output_state_ot_buffer -  target[int(i/sequence_length)]\n",
    "                    reward_history.extend(reward)\n",
    "                    mo, mr, best_reward, best_reward_window = plasticity.modulation_factors(reward_history, current_reward, window_sizes)\n",
    "                else:\n",
    "                    mo,mr = Mo[-1],Mr[-1]                                                       \n",
    "                # STDP \n",
    "                Wee_t = plasticity.stdp(Wee[i],x_buffer,mr, cutoff_weights = (0.0,1.0))\n",
    "                Woe_t = plasticity.ostdp(Woe[i],x_buffer,mo)\n",
    "                # Intrinsic plasticity\n",
    "                Te_t = plasticity.ip(Te[i],x_buffer)\n",
    "\n",
    "                # Synaptic scaling\n",
    "                Wee_t = Plasticity().ss(Wee_t)\n",
    "                Wei_t = Plasticity().ss(Wei_t)\n",
    "                Woe_t = Plasticity().ss(Woe_t)\n",
    "\n",
    "                \"\"\"Assign the matrices to the matrix collections\"\"\"\n",
    "                matrix_collection.weight_matrix(Wee_t, Wei_t, Wie[i], i)\n",
    "                matrix_collection.threshold_matrix(Te_t, Ti[i], i)\n",
    "                matrix_collection.network_activity_t(x_buffer, y_buffer, i)\n",
    "\n",
    "                X_all[i] = x_buffer[:,1]\n",
    "                Y_all[i] = y_buffer[:,1]\n",
    "                R_all[i] = r\n",
    "   \n",
    "        plastic_matrices = {'Wee':matrix_collection.Wee[-1], \n",
    "                            'Wei': matrix_collection.Wei[-1], \n",
    "                            'Wie':matrix_collection.Wie[-1],\n",
    "                            'Te': matrix_collection.Te[-1], 'Ti': matrix_collection.Ti[-1],\n",
    "                            'X': X[-1], 'Y': Y[-1]}\n",
    "        \n",
    "        return plastic_matrices,X_all,Y_all,R_all,frac_pos_active_conn"
   ]
  },
  {
   "cell_type": "markdown",
   "metadata": {},
   "source": [
    "### TRAINING PHASE"
   ]
  },
  {
   "cell_type": "markdown",
   "metadata": {},
   "source": [
    "#### Feeding inputs to the network while the plasticity is ON"
   ]
  },
  {
   "cell_type": "code",
   "execution_count": 25,
   "metadata": {},
   "outputs": [
    {
     "name": "stderr",
     "output_type": "stream",
     "text": [
      "100%|██████████████████████████████████████████████████████████████████████████████| 1000/1000 [00:21<00:00, 46.74it/s]\n"
     ]
    }
   ],
   "source": [
    "train_plast_inp_mat,X_all_inp,Y_all_inp,R_all, frac_pos_active_conn = SimulateSorn(phase = 'Plasticity', \n",
    "                                                                               matrices = plastic_matrices,\n",
    "                                                                               inputs = one_hot_inp_identity,\n",
    "                                                                               epochs = 100).train_sorn() "
   ]
  },
  {
   "cell_type": "code",
   "execution_count": 26,
   "metadata": {},
   "outputs": [],
   "source": [
    "with open('stdp13_100ts_FeedInputs_Multinodes.pkl', 'wb') as f:  \n",
    "    pickle.dump([train_plast_inp_mat,X_all_inp,Y_all_inp,R_all,frac_pos_active_conn], f)"
   ]
  },
  {
   "cell_type": "code",
   "execution_count": 27,
   "metadata": {},
   "outputs": [],
   "source": [
    "with open('stdp13_100ts_FeedInputs_Multinodes.pkl','rb') as f:  \n",
    "    train_plast_inp_mat,X_all_inp,Y_all_inp,R_all,frac_pos_active_conn = pickle.load(f)"
   ]
  },
  {
   "cell_type": "code",
   "execution_count": 28,
   "metadata": {},
   "outputs": [
    {
     "data": {
      "text/plain": [
       "[<matplotlib.lines.Line2D at 0x1935647c470>]"
      ]
     },
     "execution_count": 28,
     "metadata": {},
     "output_type": "execute_result"
    },
    {
     "data": {
      "image/png": "[encoded data removed]",
      "text/plain": [
       "<Figure size 432x288 with 1 Axes>"
      ]
     },
     "metadata": {
      "needs_background": "light"
     },
     "output_type": "display_data"
    }
   ],
   "source": [
    "plt.plot(frac_pos_active_conn)"
   ]
  },
  {
   "cell_type": "code",
   "execution_count": null,
   "metadata": {},
   "outputs": [],
   "source": []
  },
  {
   "cell_type": "code",
   "execution_count": 29,
   "metadata": {},
   "outputs": [
    {
     "data": {
      "image/png": "[encoded data removed]",
      "text/plain": [
       "<Figure size 432x288 with 1 Axes>"
      ]
     },
     "metadata": {
      "needs_background": "light"
     },
     "output_type": "display_data"
    }
   ],
   "source": [
    "spike_train = np.asarray(X_all_inp)\n",
    "# X - axis; Neurons\n",
    "# Y - axis; time_steps\n",
    "\n",
    "# Get the indices where spike_train is 1\n",
    "x,y = np.argwhere(spike_train[0:1100].T == 1).T\n",
    "\n",
    "def firing_rate_network(spike_train):    \n",
    "    firing_rates = np.count_nonzero(spike_train,1)\n",
    "    \n",
    "    return firing_rates\n",
    "\n",
    "fr_net = firing_rate_network(spike_train[0:50000]).tolist()\n",
    "\n",
    "# Filter zero entries in firing rate list above\n",
    "fr_net = list(filter(lambda a: a != 0, fr_net))\n",
    "plt.title('Distribution of population activity without inactive timesteps')\n",
    "plt.xlabel('Spikes/timestep')\n",
    "plt.ylabel('Count')\n",
    "\n",
    "plt.hist(fr_net,10)\n",
    "plt.savefig('FiringrateNetwork.png')\n",
    "plt.show()\n",
    "    \n"
   ]
  },
  {
   "cell_type": "code",
   "execution_count": 30,
   "metadata": {},
   "outputs": [
    {
     "data": {
      "image/png": "[encoded data removed]",
      "text/plain": [
       "<Figure size 576x360 with 1 Axes>"
      ]
     },
     "metadata": {
      "needs_background": "light"
     },
     "output_type": "display_data"
    }
   ],
   "source": [
    "def _scatter_plot(x,y,firing_rates):\n",
    "    \n",
    "    plt.figure(figsize = (8,5))\n",
    "    plt.scatter(y,x, s= 0.1,color = 'black')\n",
    "    # plt.plot(y,x,'|b')\n",
    "    # plt.gca().invert_yaxis()\n",
    "    plt.plot(firing_rates,label = 'Firing rate')\n",
    "    plt.xlabel('Time(ms)')\n",
    "    plt.ylabel('Neuron #')\n",
    "    plt.legend(loc = 'upper left')\n",
    "    plt.savefig('Spiketrain.png')\n",
    "    plt.show()\n",
    "\n",
    "def _raster_plot(x,y,firing_rates):\n",
    "    \n",
    "    plt.figure(figsize = (11,6))\n",
    "    plt.plot(y,x,'|r')\n",
    "    plt.plot(firing_rates, label = 'Firing rate')\n",
    "    # plt.gca().invert_yaxis()\n",
    "    plt.xlabel('Time(ms)')\n",
    "    plt.ylabel('Neuron #')\n",
    "    plt.legend(loc = 'upper left')\n",
    "    plt.savefig('Spiketrain.png')\n",
    "    plt.show()\n",
    "\n",
    "fr = firing_rate_network(spike_train[0:1100]).tolist()\n",
    "\n",
    "_scatter_plot(x,y,fr)\n",
    "# # _raster_plot(x,y,fr)"
   ]
  },
  {
   "cell_type": "markdown",
   "metadata": {},
   "source": [
    "####  Implementation of Linear output layer using pytorch"
   ]
  },
  {
   "cell_type": "code",
   "execution_count": 31,
   "metadata": {},
   "outputs": [],
   "source": [
    "\"\"\"Edit: Rows in c equals number of neurons, hence each input has to be transposed\"\"\"\n",
    "\n",
    "ne = 200\n",
    "output_dims = len(inputs)\n",
    "ins = _inputs\n",
    "targets = one_hot_out(inputs) # Returns array (inputs,inputs) # Diagonals set to 1."
   ]
  },
  {
   "cell_type": "code",
   "execution_count": 32,
   "metadata": {},
   "outputs": [],
   "source": [
    "import torch\n",
    "from torch import nn,optim\n",
    "import torch.nn.functional as F\n",
    "from torch.autograd import Variable\n",
    "from torch import FloatTensor\n",
    "\n",
    "\n",
    "input_size = 200  # Reservoir size\n",
    "output_size = 10  # Number of classes, Sample data points from sine wave\n",
    "\n",
    "class Net(nn.Module):\n",
    "    \n",
    "    def __init__(self):\n",
    "        \n",
    "        super().__init__()\n",
    "        self.output = nn.Linear(input_size,output_size,bias = False)\n",
    "          \n",
    "    def forward(self,x):\n",
    "        \n",
    "        y = F.softmax(self.output(x), dim = 0)\n",
    "        \n",
    "        return y"
   ]
  },
  {
   "cell_type": "code",
   "execution_count": 33,
   "metadata": {},
   "outputs": [
    {
     "name": "stdout",
     "output_type": "stream",
     "text": [
      "Net(\n",
      "  (output): Linear(in_features=200, out_features=10, bias=False)\n",
      ")\n"
     ]
    }
   ],
   "source": [
    "torch.manual_seed(1)\n",
    "\n",
    "learning_rate = 0.0001\n",
    "\n",
    "# Init model instance\n",
    "model = Net()\n",
    "\n",
    "# Optimizer\n",
    "opt = optim.RMSprop(params = model.parameters(),lr = learning_rate)\n",
    "\n",
    "net = Net()\n",
    "print(net)"
   ]
  },
  {
   "cell_type": "markdown",
   "metadata": {},
   "source": [
    "### Training SORN / output layer / Series Prediction tasks"
   ]
  },
  {
   "cell_type": "code",
   "execution_count": 34,
   "metadata": {},
   "outputs": [],
   "source": [
    "class Optimize_SORN(Sorn):\n",
    "    \n",
    "    \n",
    "    \"\"\"\n",
    "        Args:\n",
    "        inputs - one hot vector of inputs\n",
    "    \n",
    "        Returns:\n",
    "        matrix_collection - collection of all weight matrices in dictionaries\n",
    "        \"\"\"\n",
    "    \n",
    "    def __init__(self,phase,matrices,time_steps,inputs,targets,epochs,batch_size,output_dims,learning_rate):\n",
    "            \n",
    "        super().__init__()    \n",
    "        # Instance arguments\n",
    "        self.time_steps = np.shape(inputs)[1] * time_steps  \n",
    "        Sorn.time_steps = np.shape(inputs)[1] * time_steps  # Used to initial matrices for SORN\n",
    "        self.inputs = np.asarray(np.tile(inputs,(1,time_steps)))\n",
    "        self.targets = targets\n",
    "        self.phase = phase\n",
    "        self.matrices = matrices\n",
    "        self.epochs = epochs\n",
    "        self.d_out = output_dims\n",
    "        self.learning_rate = learning_rate\n",
    "        self.d_in = np.shape(inputs)[0]\n",
    "        self.batch_size = batch_size\n",
    "    \n",
    "    def train_sorn(self):\n",
    "          \n",
    "        torch.manual_seed(1)\n",
    "        \n",
    "        X_all = []\n",
    "        Y_out = [0]*self.time_steps\n",
    "        R_all = []\n",
    "        O_all = []\n",
    "        \n",
    "        matrix_collection = MatrixCollection(phase = self.phase, matrices = self.matrices)  # All matrices are initialized here\n",
    "        errors = []\n",
    "        errors_r = []\n",
    "        frac_pos_active_conn = []\n",
    "        time_steps_counter = 0\n",
    "        for i in tqdm.tqdm(range(self.time_steps)):\n",
    "            i = i+ time_steps_counter\n",
    "            for j in range(len(self.inputs[i])): # For each char in sequence \"1234\" \n",
    "                \"\"\" Generate white noise\"\"\"\n",
    "                white_noise_e = white_gaussian_noise(mu= 0., sigma = 0.04,t = Sorn.ne)\n",
    "                white_noise_i = white_gaussian_noise(mu= 0., sigma = 0.04,t = Sorn.ni)\n",
    "                network_state = NetworkState(self.inputs[i][j].T)  # Feed Input as an argument to the class\n",
    "                # Buffers to get the resulting x and y vectors at the current time step and update the master matrix\n",
    "                x_buffer, y_buffer, = np.zeros(( Sorn.ne, 2)), np.zeros((Sorn.ni, 2))\n",
    "                te_buffer, ti_buffer = np.zeros((Sorn.ne, 1)), np.zeros((Sorn.ni, 1))\n",
    "            \n",
    "                # Get the matrices and rename them for ease of reading\n",
    "                Wee, Wei, Wie, Woe = matrix_collection.Wee, matrix_collection.Wei, matrix_collection.Wie,  matrix_collection.Woe\n",
    "                Te, Ti,To = matrix_collection.Te, matrix_collection.Ti, matrix_collection.To \n",
    "                X, Y, O = matrix_collection.X, matrix_collection.Y, matrix_collection.O\n",
    "\n",
    "                \"\"\" Fraction of active connections between E-E network\"\"\"\n",
    "                frac_pos_active_conn.append((Wee[i] > 0.0).sum())\n",
    "\n",
    "                # Recurrent drive at t+1 used to predict the next external stimuli\n",
    "                r = network_state.recurrent_drive(Wee[i], Wei[i], Te[i], X[i], Y[i],white_noise_e = 0.)\n",
    "\n",
    "                \"\"\"Get excitatory states and inhibitory states given the weights and thresholds\"\"\"\n",
    "\n",
    "                # x(t+1), y(t+1)\n",
    "                excitatory_state_xt_buffer = network_state.excitatory_network_state(Wee[i], Wei[i], Te[i], X[i], Y[i],white_noise_e = 0.)\n",
    "\n",
    "                inhibitory_state_yt_buffer = network_state.inhibitory_network_state(Wie[i], Ti[i], X[i],white_noise_i = 0.)\n",
    "\n",
    "                output_state_ot_buffer = network_state.output_network_state(Woe[i], To[i], X[i])\n",
    "                \n",
    "            \"\"\" Update X and Y \"\"\"\n",
    "            x_buffer[:, 0] = X[i][:, 1]  # xt -->(becomes) xt_1\n",
    "            x_buffer[:, 1] = excitatory_state_xt_buffer.T  # New_activation; x_buffer --> xt\n",
    "            \n",
    "            y_buffer[:, 0] = Y[i][:, 1]\n",
    "            y_buffer[:, 1] = inhibitory_state_yt_buffer.T\n",
    "            \n",
    "            o_buffer[:, 0] = O[i][:, 1]\n",
    "            o_buffer[:, 1] = output_state_ot_buffer.T\n",
    "\n",
    "            \n",
    "            \"\"\"Plasticity is frozen, hence all matrices of SORN are fixed\"\"\"\n",
    "\n",
    "            matrix_collection.weight_matrix(Wee[i], Wei[i], Wie[i],Woe[i], i) wee, wei, wie, woe, i\n",
    "            matrix_collection.threshold_matrix(Te[i], Ti[i], To[i], i)\n",
    "\n",
    "            # Append x and y buffers to master matrix\n",
    "            \n",
    "            \"\"\"Network states are being updated every time step\"\"\"\n",
    "            matrix_collection.network_activity_t(x_buffer, y_buffer, o_buffer, i)\n",
    "            \n",
    "            X_all.append(x_buffer[:,1])\n",
    "            Y_out[i] = y_buffer[:,1]\n",
    "            R_all.append(r)\n",
    "            \n",
    "            \n",
    "            \n",
    "        matrix_collections = {'Wee':matrix_collection.Wee,\n",
    "                            'Wei': matrix_collection.Wei,\n",
    "                            'Wie': matrix_collection.Wie,\n",
    "                            'Te':matrix_collection.Te,\n",
    "                            'Ti': matrix_collection.Ti,\n",
    "                            'X': matrix_collection.X,\n",
    "                            'Y': matrix_collection.Y}\n",
    "\n",
    "        return X_all,Y_out,R_all,matrix_collections,errors,errors_r,frac_pos_active_conn"
   ]
  },
  {
   "cell_type": "code",
   "execution_count": 35,
   "metadata": {},
   "outputs": [
    {
     "name": "stderr",
     "output_type": "stream",
     "text": [
      "  0%|                                                                                        | 0/20000 [00:00<?, ?it/s]"
     ]
    },
    {
     "name": "stdout",
     "output_type": "stream",
     "text": [
      "Predicted through Recurrent input tensor([7, 2, 1, 4, 6, 4, 0, 1, 2, 5])\n",
      "Prediction using External drive tensor([7, 2, 1, 4, 6, 4, 0, 0, 2, 5])\n"
     ]
    },
    {
     "name": "stderr",
     "output_type": "stream",
     "text": [
      "c:\\users\\saran\\appdata\\local\\conda\\conda\\envs\\tensor\\lib\\site-packages\\ipykernel_launcher.py:130: UserWarning: invalid index of a 0-dim tensor. This will be an error in PyTorch 0.5. Use tensor.item() to convert a 0-dim tensor to a Python number\n",
      "c:\\users\\saran\\appdata\\local\\conda\\conda\\envs\\tensor\\lib\\site-packages\\ipykernel_launcher.py:136: UserWarning: invalid index of a 0-dim tensor. This will be an error in PyTorch 0.5. Use tensor.item() to convert a 0-dim tensor to a Python number\n",
      "c:\\users\\saran\\appdata\\local\\conda\\conda\\envs\\tensor\\lib\\site-packages\\ipykernel_launcher.py:137: UserWarning: invalid index of a 0-dim tensor. This will be an error in PyTorch 0.5. Use tensor.item() to convert a 0-dim tensor to a Python number\n"
     ]
    },
    {
     "name": "stdout",
     "output_type": "stream",
     "text": [
      "Actual prediction Loss tensor(-0.0999)\n"
     ]
    },
    {
     "name": "stderr",
     "output_type": "stream",
     "text": [
      "  0%|                                                                               | 10/20000 [00:01<59:11,  5.63it/s]"
     ]
    },
    {
     "name": "stdout",
     "output_type": "stream",
     "text": [
      "Predicted through Recurrent input tensor([4, 6, 2, 0, 3, 2, 1, 4, 0, 5])\n",
      "Prediction using External drive tensor([4, 6, 2, 0, 3, 2, 1, 4, 0, 5])\n",
      "Actual prediction Loss tensor(-0.0967)\n",
      "Predicted through Recurrent input tensor([0, 1, 2, 2, 4, 6, 6, 0, 3, 2])\n",
      "Prediction using External drive tensor([0, 1, 2, 2, 4, 6, 6, 0, 3, 2])\n",
      "Actual prediction Loss tensor(-0.1149)\n",
      "Predicted through Recurrent input tensor([1, 1, 3, 2, 1, 4, 2, 2, 4, 7])\n",
      "Prediction using External drive tensor([1, 4, 9, 2, 1, 4, 2, 2, 3, 5])\n",
      "Actual prediction Loss tensor(-0.0990)\n",
      "Predicted through Recurrent input tensor([2, 0, 3, 2, 1, 4, 6, 2, 1, 4])\n",
      "Prediction using External drive tensor([6, 0, 9, 2, 1, 4, 8, 8, 1, 4])\n",
      "Actual prediction Loss tensor(-0.1018)\n"
     ]
    },
    {
     "name": "stderr",
     "output_type": "stream",
     "text": [
      "  0%|▏                                                                              | 54/20000 [00:01<41:34,  8.00it/s]"
     ]
    },
    {
     "name": "stdout",
     "output_type": "stream",
     "text": [
      "Predicted through Recurrent input tensor([5, 6, 3, 9, 2, 1, 3, 2, 7, 7])\n",
      "Prediction using External drive tensor([6, 6, 0, 9, 2, 1, 3, 8, 1, 4])\n",
      "Actual prediction Loss tensor(-0.0977)\n",
      "Predicted through Recurrent input tensor([8, 1, 3, 5, 4, 5, 6, 0, 9, 2])\n",
      "Prediction using External drive tensor([8, 1, 1, 5, 4, 5, 6, 0, 9, 2])\n",
      "Actual prediction Loss tensor(-0.1095)\n",
      "Predicted through Recurrent input tensor([6, 4, 0, 7, 7, 9, 2, 2, 4, 7])\n",
      "Prediction using External drive tensor([6, 4, 0, 7, 7, 9, 2, 2, 1, 7])\n",
      "Actual prediction Loss tensor(-0.0964)\n",
      "Predicted through Recurrent input tensor([6, 1, 2, 5, 4, 4, 9, 2, 1, 9])\n",
      "Prediction using External drive tensor([6, 1, 2, 5, 4, 4, 9, 0, 1, 9])\n",
      "Actual prediction Loss tensor(-0.1092)\n"
     ]
    },
    {
     "name": "stderr",
     "output_type": "stream",
     "text": [
      "  0%|▎                                                                              | 91/20000 [00:01<29:19, 11.32it/s]"
     ]
    },
    {
     "name": "stdout",
     "output_type": "stream",
     "text": [
      "Predicted through Recurrent input tensor([2, 1, 7, 6, 2, 0, 9, 2, 3, 4])\n",
      "Prediction using External drive tensor([2, 1, 7, 6, 2, 0, 9, 2, 1, 4])\n",
      "Actual prediction Loss tensor(-0.0987)\n",
      "Predicted through Recurrent input tensor([8, 6, 1, 5, 4, 4, 3, 7, 0, 2])\n",
      "Prediction using External drive tensor([8, 6, 1, 5, 4, 4, 3, 7, 7, 2])\n",
      "Actual prediction Loss tensor(-0.1072)\n",
      "Predicted through Recurrent input tensor([2, 5, 4, 6, 7, 0, 6, 2, 5, 4])\n",
      "Prediction using External drive tensor([0, 5, 4, 6, 0, 0, 9, 2, 1, 4])\n",
      "Actual prediction Loss tensor(-0.1047)\n",
      "Predicted through Recurrent input tensor([8, 1, 2, 9, 4, 5, 2, 0, 7, 9])\n",
      "Prediction using External drive tensor([8, 1, 2, 9, 4, 5, 2, 0, 7, 9])\n",
      "Actual prediction Loss tensor(-0.1154)\n"
     ]
    },
    {
     "name": "stderr",
     "output_type": "stream",
     "text": [
      "  1%|▌                                                                             | 130/20000 [00:02<20:44, 15.97it/s]"
     ]
    },
    {
     "name": "stdout",
     "output_type": "stream",
     "text": [
      "Predicted through Recurrent input tensor([7, 1, 9, 2, 6, 4, 6, 2, 1, 9])\n",
      "Prediction using External drive tensor([7, 1, 9, 2, 6, 4, 9, 2, 1, 9])\n",
      "Actual prediction Loss tensor(-0.1125)\n",
      "Predicted through Recurrent input tensor([2, 1, 1, 9, 4, 5, 9, 2, 1, 4])\n",
      "Prediction using External drive tensor([2, 1, 1, 9, 4, 5, 9, 0, 1, 4])\n",
      "Actual prediction Loss tensor(-0.1103)\n",
      "Predicted through Recurrent input tensor([8, 1, 2, 5, 4, 5, 6, 0, 9, 4])\n",
      "Prediction using External drive tensor([0, 1, 2, 5, 4, 5, 6, 0, 3, 4])\n",
      "Actual prediction Loss tensor(-0.1172)\n"
     ]
    },
    {
     "name": "stderr",
     "output_type": "stream",
     "text": [
      "  1%|▋                                                                             | 169/20000 [00:02<14:44, 22.41it/s]"
     ]
    },
    {
     "name": "stdout",
     "output_type": "stream",
     "text": [
      "Predicted through Recurrent input tensor([4, 4, 0, 7, 7, 9, 2, 4, 1, 7])\n",
      "Prediction using External drive tensor([4, 4, 0, 7, 7, 9, 2, 4, 1, 9])\n",
      "Actual prediction Loss tensor(-0.1037)\n",
      "Predicted through Recurrent input tensor([6, 1, 2, 5, 4, 4, 9, 0, 1, 9])\n",
      "Prediction using External drive tensor([6, 1, 2, 5, 4, 4, 9, 0, 1, 9])\n",
      "Actual prediction Loss tensor(-0.1199)\n",
      "Predicted through Recurrent input tensor([2, 1, 7, 6, 4, 0, 9, 2, 1, 1])\n",
      "Prediction using External drive tensor([0, 1, 7, 6, 4, 0, 9, 2, 1, 4])\n",
      "Actual prediction Loss tensor(-0.1083)\n",
      "Predicted through Recurrent input tensor([8, 6, 1, 5, 4, 4, 3, 7, 0, 2])\n",
      "Prediction using External drive tensor([0, 6, 1, 5, 4, 4, 8, 7, 7, 2])\n",
      "Actual prediction Loss tensor(-0.1122)\n"
     ]
    },
    {
     "name": "stderr",
     "output_type": "stream",
     "text": [
      "  1%|▊                                                                             | 209/20000 [00:02<10:33, 31.26it/s]"
     ]
    },
    {
     "name": "stdout",
     "output_type": "stream",
     "text": [
      "Predicted through Recurrent input tensor([0, 5, 4, 6, 7, 0, 6, 2, 5, 4])\n",
      "Prediction using External drive tensor([0, 5, 4, 6, 7, 0, 6, 0, 1, 4])\n",
      "Actual prediction Loss tensor(-0.1113)\n",
      "Predicted through Recurrent input tensor([8, 1, 2, 9, 4, 5, 2, 0, 7, 9])\n",
      "Prediction using External drive tensor([8, 1, 2, 9, 4, 5, 2, 0, 1, 9])\n",
      "Actual prediction Loss tensor(-0.1236)\n",
      "Predicted through Recurrent input tensor([7, 1, 9, 0, 1, 9, 6, 7, 1, 9])\n",
      "Prediction using External drive tensor([7, 1, 9, 3, 1, 9, 6, 7, 1, 9])\n",
      "Actual prediction Loss tensor(-0.1216)\n",
      "Predicted through Recurrent input tensor([0, 1, 2, 9, 4, 5, 9, 0, 1, 9])\n",
      "Prediction using External drive tensor([0, 1, 2, 9, 4, 5, 9, 0, 1, 9])\n",
      "Actual prediction Loss tensor(-0.1212)\n"
     ]
    },
    {
     "name": "stderr",
     "output_type": "stream",
     "text": [
      "  1%|▉                                                                             | 245/20000 [00:02<07:38, 43.04it/s]"
     ]
    },
    {
     "name": "stdout",
     "output_type": "stream",
     "text": [
      "Predicted through Recurrent input tensor([0, 1, 2, 5, 4, 5, 6, 7, 9, 4])\n",
      "Prediction using External drive tensor([0, 1, 2, 5, 4, 5, 6, 7, 3, 4])\n",
      "Actual prediction Loss tensor(-0.1253)\n",
      "Predicted through Recurrent input tensor([4, 4, 0, 7, 7, 9, 3, 4, 1, 9])\n",
      "Prediction using External drive tensor([4, 4, 0, 7, 7, 9, 3, 4, 1, 9])\n",
      "Actual prediction Loss tensor(-0.1112)\n",
      "Predicted through Recurrent input tensor([6, 1, 2, 4, 4, 4, 6, 7, 1, 9])\n",
      "Prediction using External drive tensor([6, 1, 2, 3, 4, 4, 9, 7, 1, 9])\n",
      "Actual prediction Loss tensor(-0.1319)\n",
      "Predicted through Recurrent input tensor([0, 1, 2, 6, 4, 1, 9, 2, 1, 1])\n",
      "Prediction using External drive tensor([0, 1, 2, 6, 4, 0, 9, 2, 1, 1])\n",
      "Actual prediction Loss tensor(-0.1194)\n"
     ]
    },
    {
     "name": "stderr",
     "output_type": "stream",
     "text": [
      "  1%|█                                                                             | 285/20000 [00:02<05:35, 58.75it/s]"
     ]
    },
    {
     "name": "stdout",
     "output_type": "stream",
     "text": [
      "Predicted through Recurrent input tensor([9, 6, 1, 5, 4, 4, 8, 7, 0, 2])\n",
      "Prediction using External drive tensor([9, 6, 1, 5, 4, 4, 8, 7, 0, 2])\n",
      "Actual prediction Loss tensor(-0.1179)\n",
      "Predicted through Recurrent input tensor([0, 1, 4, 5, 7, 0, 6, 2, 8, 4])\n",
      "Prediction using External drive tensor([0, 1, 4, 5, 4, 0, 6, 0, 8, 4])\n",
      "Actual prediction Loss tensor(-0.1186)\n",
      "Predicted through Recurrent input tensor([8, 1, 2, 9, 4, 5, 2, 0, 7, 3])\n",
      "Prediction using External drive tensor([8, 1, 2, 3, 4, 5, 2, 0, 1, 9])\n",
      "Actual prediction Loss tensor(-0.1327)\n",
      "Predicted through Recurrent input tensor([7, 1, 2, 0, 1, 9, 6, 7, 1, 9])\n",
      "Prediction using External drive tensor([7, 1, 2, 3, 1, 9, 6, 7, 1, 9])\n",
      "Actual prediction Loss tensor(-0.1312)\n"
     ]
    },
    {
     "name": "stderr",
     "output_type": "stream",
     "text": [
      "  2%|█▎                                                                            | 323/20000 [00:02<04:09, 78.72it/s]"
     ]
    },
    {
     "name": "stdout",
     "output_type": "stream",
     "text": [
      "Predicted through Recurrent input tensor([0, 1, 2, 9, 4, 5, 9, 0, 1, 9])\n",
      "Prediction using External drive tensor([0, 1, 2, 3, 4, 5, 9, 0, 1, 9])\n",
      "Actual prediction Loss tensor(-0.1332)\n",
      "Predicted through Recurrent input tensor([0, 1, 2, 5, 4, 5, 6, 7, 9, 4])\n",
      "Prediction using External drive tensor([0, 1, 2, 5, 4, 5, 6, 7, 3, 4])\n",
      "Actual prediction Loss tensor(-0.1340)\n",
      "Predicted through Recurrent input tensor([4, 5, 0, 7, 7, 9, 3, 4, 1, 9])\n",
      "Prediction using External drive tensor([4, 1, 2, 7, 7, 9, 3, 4, 1, 9])\n",
      "Actual prediction Loss tensor(-0.1193)\n",
      "Predicted through Recurrent input tensor([0, 1, 2, 4, 4, 5, 6, 7, 1, 9])\n",
      "Prediction using External drive tensor([0, 1, 2, 3, 4, 8, 6, 7, 1, 9])\n",
      "Actual prediction Loss tensor(-0.1452)\n"
     ]
    },
    {
     "name": "stderr",
     "output_type": "stream",
     "text": [
      "  2%|█▍                                                                           | 361/20000 [00:02<03:10, 103.20it/s]"
     ]
    },
    {
     "name": "stdout",
     "output_type": "stream",
     "text": [
      "Predicted through Recurrent input tensor([0, 1, 2, 6, 4, 5, 9, 2, 4, 1])\n",
      "Prediction using External drive tensor([0, 1, 2, 6, 4, 5, 9, 2, 7, 1])\n",
      "Actual prediction Loss tensor(-0.1320)\n",
      "Predicted through Recurrent input tensor([9, 6, 1, 5, 4, 4, 8, 7, 0, 2])\n",
      "Prediction using External drive tensor([9, 6, 1, 5, 4, 4, 8, 7, 0, 2])\n",
      "Actual prediction Loss tensor(-0.1241)\n",
      "Predicted through Recurrent input tensor([0, 1, 4, 5, 7, 0, 6, 7, 8, 4])\n",
      "Prediction using External drive tensor([0, 1, 4, 5, 4, 0, 6, 7, 8, 4])\n",
      "Actual prediction Loss tensor(-0.1265)\n",
      "Predicted through Recurrent input tensor([8, 1, 2, 1, 4, 5, 6, 7, 1, 3])\n",
      "Prediction using External drive tensor([8, 1, 2, 3, 4, 5, 6, 7, 1, 9])\n",
      "Actual prediction Loss tensor(-0.1426)\n"
     ]
    },
    {
     "name": "stderr",
     "output_type": "stream",
     "text": [
      "  2%|█▌                                                                           | 400/20000 [00:02<02:28, 132.01it/s]"
     ]
    },
    {
     "name": "stdout",
     "output_type": "stream",
     "text": [
      "Predicted through Recurrent input tensor([7, 1, 2, 0, 1, 9, 6, 7, 8, 9])\n",
      "Prediction using External drive tensor([7, 1, 2, 0, 1, 9, 6, 7, 8, 9])\n",
      "Actual prediction Loss tensor(-0.1415)\n",
      "Predicted through Recurrent input tensor([0, 1, 2, 9, 4, 5, 6, 0, 1, 9])\n",
      "Prediction using External drive tensor([0, 1, 2, 3, 4, 5, 6, 0, 1, 9])\n",
      "Actual prediction Loss tensor(-0.1464)\n",
      "Predicted through Recurrent input tensor([0, 1, 2, 5, 4, 5, 6, 7, 9, 4])\n",
      "Prediction using External drive tensor([0, 1, 2, 3, 4, 5, 6, 7, 3, 4])\n",
      "Actual prediction Loss tensor(-0.1433)\n",
      "Predicted through Recurrent input tensor([4, 5, 2, 7, 7, 9, 3, 4, 1, 9])\n",
      "Prediction using External drive tensor([4, 1, 2, 7, 1, 9, 3, 4, 1, 9])\n",
      "Actual prediction Loss tensor(-0.1281)\n"
     ]
    },
    {
     "name": "stderr",
     "output_type": "stream",
     "text": [
      "  2%|█▋                                                                           | 440/20000 [00:02<01:58, 164.40it/s]"
     ]
    },
    {
     "name": "stdout",
     "output_type": "stream",
     "text": [
      "Predicted through Recurrent input tensor([0, 1, 2, 4, 4, 5, 6, 7, 1, 9])\n",
      "Prediction using External drive tensor([0, 1, 2, 3, 4, 5, 6, 7, 1, 9])\n",
      "Actual prediction Loss tensor(-0.1599)\n",
      "Predicted through Recurrent input tensor([0, 1, 2, 6, 4, 5, 9, 2, 4, 1])\n",
      "Prediction using External drive tensor([0, 1, 2, 6, 4, 5, 9, 7, 8, 5])\n",
      "Actual prediction Loss tensor(-0.1460)\n",
      "Predicted through Recurrent input tensor([9, 6, 1, 5, 4, 4, 8, 7, 0, 1])\n",
      "Prediction using External drive tensor([9, 6, 2, 3, 4, 4, 8, 7, 0, 2])\n",
      "Actual prediction Loss tensor(-0.1308)\n",
      "Predicted through Recurrent input tensor([0, 1, 4, 5, 7, 0, 6, 7, 8, 4])\n",
      "Prediction using External drive tensor([0, 1, 4, 5, 4, 0, 6, 7, 8, 9])\n",
      "Actual prediction Loss tensor(-0.1350)\n"
     ]
    },
    {
     "name": "stderr",
     "output_type": "stream",
     "text": [
      "  2%|█▊                                                                           | 480/20000 [00:02<01:38, 198.20it/s]"
     ]
    },
    {
     "name": "stdout",
     "output_type": "stream",
     "text": [
      "Predicted through Recurrent input tensor([8, 1, 2, 1, 4, 5, 6, 7, 9, 3])\n",
      "Prediction using External drive tensor([8, 1, 2, 3, 4, 5, 6, 7, 1, 9])\n",
      "Actual prediction Loss tensor(-0.1533)\n",
      "Predicted through Recurrent input tensor([7, 1, 2, 0, 1, 9, 6, 7, 8, 9])\n",
      "Prediction using External drive tensor([7, 1, 2, 0, 1, 9, 6, 7, 8, 9])\n",
      "Actual prediction Loss tensor(-0.1524)\n",
      "Predicted through Recurrent input tensor([0, 1, 2, 3, 4, 5, 6, 0, 1, 9])\n",
      "Prediction using External drive tensor([0, 1, 2, 3, 4, 5, 6, 7, 8, 9])\n",
      "Actual prediction Loss tensor(-0.1609)\n",
      "Predicted through Recurrent input tensor([0, 1, 2, 5, 4, 5, 6, 7, 9, 4])\n",
      "Prediction using External drive tensor([0, 1, 2, 3, 4, 5, 6, 7, 8, 4])\n",
      "Actual prediction Loss tensor(-0.1534)\n"
     ]
    },
    {
     "name": "stderr",
     "output_type": "stream",
     "text": [
      "  3%|██                                                                           | 520/20000 [00:03<01:24, 230.72it/s]"
     ]
    },
    {
     "name": "stdout",
     "output_type": "stream",
     "text": [
      "Predicted through Recurrent input tensor([4, 1, 2, 7, 7, 9, 3, 4, 8, 9])\n",
      "Prediction using External drive tensor([4, 1, 2, 7, 1, 9, 3, 4, 8, 9])\n",
      "Actual prediction Loss tensor(-0.1375)\n",
      "Predicted through Recurrent input tensor([0, 1, 2, 3, 4, 5, 6, 7, 1, 9])\n",
      "Prediction using External drive tensor([0, 1, 2, 3, 4, 5, 6, 7, 1, 9])\n",
      "Actual prediction Loss tensor(-0.1760)\n",
      "Predicted through Recurrent input tensor([0, 1, 2, 6, 4, 5, 9, 3, 4, 1])\n",
      "Prediction using External drive tensor([0, 1, 2, 3, 4, 5, 9, 7, 8, 5])\n",
      "Actual prediction Loss tensor(-0.1616)\n",
      "Predicted through Recurrent input tensor([9, 6, 1, 2, 4, 4, 8, 7, 0, 1])\n",
      "Prediction using External drive tensor([9, 6, 2, 3, 4, 4, 8, 7, 0, 2])\n",
      "Actual prediction Loss tensor(-0.1380)\n"
     ]
    },
    {
     "name": "stderr",
     "output_type": "stream",
     "text": [
      "  3%|██▏                                                                          | 560/20000 [00:03<01:13, 263.23it/s]"
     ]
    },
    {
     "name": "stdout",
     "output_type": "stream",
     "text": [
      "Predicted through Recurrent input tensor([0, 1, 4, 5, 1, 0, 6, 7, 8, 9])\n",
      "Prediction using External drive tensor([0, 1, 2, 5, 4, 0, 6, 7, 8, 9])\n",
      "Actual prediction Loss tensor(-0.1443)\n",
      "Predicted through Recurrent input tensor([8, 1, 2, 1, 4, 5, 6, 7, 9, 3])\n",
      "Prediction using External drive tensor([0, 1, 2, 3, 4, 5, 6, 7, 1, 9])\n",
      "Actual prediction Loss tensor(-0.1650)\n",
      "Predicted through Recurrent input tensor([7, 1, 2, 0, 1, 9, 6, 7, 8, 9])\n",
      "Prediction using External drive tensor([7, 1, 2, 0, 1, 9, 6, 7, 8, 9])\n",
      "Actual prediction Loss tensor(-0.1640)\n",
      "Predicted through Recurrent input tensor([0, 1, 2, 3, 4, 5, 6, 0, 8, 9])\n",
      "Prediction using External drive tensor([0, 1, 2, 3, 4, 5, 6, 7, 8, 9])\n",
      "Actual prediction Loss tensor(-0.1766)\n"
     ]
    },
    {
     "name": "stderr",
     "output_type": "stream",
     "text": [
      "  3%|██▎                                                                          | 600/20000 [00:03<01:07, 289.50it/s]"
     ]
    },
    {
     "name": "stdout",
     "output_type": "stream",
     "text": [
      "Predicted through Recurrent input tensor([0, 1, 2, 9, 4, 5, 6, 7, 8, 4])\n",
      "Prediction using External drive tensor([0, 1, 2, 3, 4, 5, 6, 7, 8, 4])\n",
      "Actual prediction Loss tensor(-0.1643)\n",
      "Predicted through Recurrent input tensor([4, 1, 2, 7, 1, 9, 3, 4, 8, 9])\n",
      "Prediction using External drive tensor([4, 1, 2, 3, 1, 9, 3, 7, 8, 9])\n",
      "Actual prediction Loss tensor(-0.1476)\n",
      "Predicted through Recurrent input tensor([0, 1, 2, 3, 4, 5, 6, 7, 8, 9])\n",
      "Prediction using External drive tensor([0, 1, 2, 3, 4, 5, 6, 7, 8, 9])\n",
      "Actual prediction Loss tensor(-0.1937)\n",
      "Predicted through Recurrent input tensor([0, 1, 2, 3, 4, 5, 9, 7, 4, 5])\n",
      "Prediction using External drive tensor([0, 1, 2, 3, 4, 5, 9, 7, 8, 5])\n",
      "Actual prediction Loss tensor(-0.1787)\n"
     ]
    },
    {
     "name": "stderr",
     "output_type": "stream",
     "text": [
      "  3%|██▍                                                                          | 640/20000 [00:03<01:01, 312.69it/s]"
     ]
    },
    {
     "name": "stdout",
     "output_type": "stream",
     "text": [
      "Predicted through Recurrent input tensor([9, 7, 2, 2, 4, 4, 8, 7, 0, 1])\n",
      "Prediction using External drive tensor([9, 0, 2, 3, 4, 4, 8, 7, 0, 9])\n",
      "Actual prediction Loss tensor(-0.1456)\n",
      "Predicted through Recurrent input tensor([0, 1, 4, 5, 1, 0, 6, 7, 8, 9])\n",
      "Prediction using External drive tensor([0, 1, 2, 5, 4, 0, 6, 7, 8, 9])\n",
      "Actual prediction Loss tensor(-0.1542)\n",
      "Predicted through Recurrent input tensor([8, 1, 2, 1, 4, 5, 6, 7, 9, 3])\n",
      "Prediction using External drive tensor([0, 1, 2, 3, 4, 5, 6, 7, 8, 9])\n",
      "Actual prediction Loss tensor(-0.1776)\n",
      "Predicted through Recurrent input tensor([7, 1, 2, 0, 1, 9, 6, 7, 8, 9])\n",
      "Prediction using External drive tensor([7, 1, 2, 0, 1, 9, 6, 7, 8, 9])\n",
      "Actual prediction Loss tensor(-0.1762)\n"
     ]
    },
    {
     "name": "stderr",
     "output_type": "stream",
     "text": [
      "  3%|██▌                                                                          | 680/20000 [00:03<00:57, 334.60it/s]"
     ]
    },
    {
     "name": "stdout",
     "output_type": "stream",
     "text": [
      "Predicted through Recurrent input tensor([0, 1, 2, 3, 4, 5, 6, 7, 8, 9])\n",
      "Prediction using External drive tensor([0, 1, 2, 3, 4, 5, 6, 7, 8, 9])\n",
      "Actual prediction Loss tensor(-0.1936)\n",
      "Predicted through Recurrent input tensor([0, 1, 2, 9, 4, 5, 6, 7, 8, 4])\n",
      "Prediction using External drive tensor([0, 1, 2, 3, 4, 5, 6, 7, 8, 4])\n",
      "Actual prediction Loss tensor(-0.1759)\n",
      "Predicted through Recurrent input tensor([4, 1, 2, 7, 1, 9, 3, 4, 8, 9])\n",
      "Prediction using External drive tensor([0, 1, 2, 3, 1, 9, 3, 7, 8, 9])\n",
      "Actual prediction Loss tensor(-0.1585)\n",
      "Predicted through Recurrent input tensor([0, 1, 2, 3, 4, 5, 6, 7, 8, 9])\n",
      "Prediction using External drive tensor([0, 1, 2, 3, 4, 5, 6, 7, 8, 9])\n",
      "Actual prediction Loss tensor(-0.2128)\n"
     ]
    },
    {
     "name": "stderr",
     "output_type": "stream",
     "text": [
      "  4%|██▊                                                                          | 720/20000 [00:03<00:55, 345.48it/s]"
     ]
    },
    {
     "name": "stdout",
     "output_type": "stream",
     "text": [
      "Predicted through Recurrent input tensor([0, 1, 2, 3, 4, 5, 9, 7, 8, 5])\n",
      "Prediction using External drive tensor([0, 1, 2, 3, 4, 5, 9, 7, 8, 5])\n",
      "Actual prediction Loss tensor(-0.1974)\n",
      "Predicted through Recurrent input tensor([9, 7, 2, 2, 4, 4, 5, 7, 0, 1])\n",
      "Prediction using External drive tensor([9, 1, 2, 3, 4, 5, 8, 7, 0, 9])\n",
      "Actual prediction Loss tensor(-0.1537)\n",
      "Predicted through Recurrent input tensor([0, 1, 4, 5, 4, 0, 6, 7, 8, 9])\n",
      "Prediction using External drive tensor([0, 1, 2, 5, 4, 5, 6, 7, 8, 9])\n",
      "Actual prediction Loss tensor(-0.1648)\n",
      "Predicted through Recurrent input tensor([8, 1, 2, 1, 4, 5, 6, 7, 9, 3])\n",
      "Prediction using External drive tensor([0, 1, 2, 3, 4, 5, 6, 7, 8, 9])\n",
      "Actual prediction Loss tensor(-0.1912)\n"
     ]
    },
    {
     "name": "stderr",
     "output_type": "stream",
     "text": [
      "  4%|██▉                                                                          | 760/20000 [00:03<00:54, 353.52it/s]"
     ]
    },
    {
     "name": "stdout",
     "output_type": "stream",
     "text": [
      "Predicted through Recurrent input tensor([7, 1, 2, 0, 1, 9, 6, 7, 8, 9])\n",
      "Prediction using External drive tensor([7, 1, 2, 0, 1, 2, 6, 7, 8, 9])\n",
      "Actual prediction Loss tensor(-0.1890)\n",
      "Predicted through Recurrent input tensor([0, 1, 2, 3, 4, 5, 6, 7, 8, 9])\n",
      "Prediction using External drive tensor([0, 1, 2, 3, 4, 5, 6, 7, 8, 9])\n",
      "Actual prediction Loss tensor(-0.2118)\n",
      "Predicted through Recurrent input tensor([0, 1, 2, 9, 4, 5, 6, 7, 8, 4])\n",
      "Prediction using External drive tensor([0, 1, 2, 3, 4, 5, 6, 7, 8, 4])\n",
      "Actual prediction Loss tensor(-0.1884)\n",
      "Predicted through Recurrent input tensor([4, 1, 2, 7, 1, 9, 3, 4, 8, 9])\n",
      "Prediction using External drive tensor([0, 1, 2, 3, 1, 9, 3, 7, 8, 9])\n",
      "Actual prediction Loss tensor(-0.1700)\n"
     ]
    },
    {
     "name": "stderr",
     "output_type": "stream",
     "text": [
      "  4%|███                                                                          | 800/20000 [00:03<00:52, 365.29it/s]"
     ]
    },
    {
     "name": "stdout",
     "output_type": "stream",
     "text": [
      "Predicted through Recurrent input tensor([0, 1, 2, 3, 4, 5, 6, 7, 8, 9])\n",
      "Prediction using External drive tensor([0, 1, 2, 3, 4, 5, 6, 7, 8, 9])\n",
      "Actual prediction Loss tensor(-0.2335)\n",
      "Predicted through Recurrent input tensor([0, 1, 2, 3, 4, 5, 9, 7, 8, 5])\n",
      "Prediction using External drive tensor([0, 1, 2, 3, 4, 5, 9, 7, 8, 5])\n",
      "Actual prediction Loss tensor(-0.2177)\n",
      "Predicted through Recurrent input tensor([9, 7, 2, 2, 4, 4, 5, 7, 0, 1])\n",
      "Prediction using External drive tensor([9, 1, 2, 3, 4, 5, 5, 7, 0, 9])\n",
      "Actual prediction Loss tensor(-0.1622)\n",
      "Predicted through Recurrent input tensor([0, 1, 2, 5, 4, 3, 6, 7, 8, 9])\n",
      "Prediction using External drive tensor([0, 1, 2, 5, 4, 3, 6, 7, 8, 9])\n",
      "Actual prediction Loss tensor(-0.1762)\n"
     ]
    },
    {
     "name": "stderr",
     "output_type": "stream",
     "text": [
      "  4%|███▏                                                                         | 840/20000 [00:03<00:52, 366.80it/s]"
     ]
    },
    {
     "name": "stdout",
     "output_type": "stream",
     "text": [
      "Predicted through Recurrent input tensor([8, 1, 2, 1, 4, 5, 6, 7, 9, 3])\n",
      "Prediction using External drive tensor([0, 1, 2, 3, 4, 5, 6, 7, 8, 9])\n",
      "Actual prediction Loss tensor(-0.2056)\n",
      "Predicted through Recurrent input tensor([7, 1, 2, 0, 1, 2, 6, 7, 8, 9])\n",
      "Prediction using External drive tensor([0, 1, 2, 0, 1, 2, 6, 7, 8, 9])\n",
      "Actual prediction Loss tensor(-0.2023)\n",
      "Predicted through Recurrent input tensor([0, 1, 2, 3, 4, 5, 6, 7, 8, 9])\n",
      "Prediction using External drive tensor([0, 1, 2, 3, 4, 5, 6, 7, 8, 9])\n",
      "Actual prediction Loss tensor(-0.2313)\n",
      "Predicted through Recurrent input tensor([0, 1, 2, 9, 4, 5, 6, 7, 8, 4])\n",
      "Prediction using External drive tensor([0, 1, 2, 3, 4, 5, 6, 7, 8, 4])\n",
      "Actual prediction Loss tensor(-0.2016)\n"
     ]
    },
    {
     "name": "stderr",
     "output_type": "stream",
     "text": [
      "  4%|███▍                                                                         | 881/20000 [00:04<00:50, 376.68it/s]"
     ]
    },
    {
     "name": "stdout",
     "output_type": "stream",
     "text": [
      "Predicted through Recurrent input tensor([4, 1, 2, 7, 1, 9, 3, 7, 8, 9])\n",
      "Prediction using External drive tensor([0, 1, 2, 3, 4, 9, 3, 7, 8, 9])\n",
      "Actual prediction Loss tensor(-0.1823)\n",
      "Predicted through Recurrent input tensor([0, 1, 2, 3, 4, 5, 6, 7, 8, 9])\n",
      "Prediction using External drive tensor([0, 1, 2, 3, 4, 5, 6, 7, 8, 9])\n",
      "Actual prediction Loss tensor(-0.2555)\n",
      "Predicted through Recurrent input tensor([0, 1, 2, 3, 4, 5, 9, 7, 8, 5])\n",
      "Prediction using External drive tensor([0, 1, 2, 3, 4, 5, 9, 7, 8, 5])\n",
      "Actual prediction Loss tensor(-0.2395)\n",
      "Predicted through Recurrent input tensor([9, 7, 2, 2, 4, 4, 5, 7, 0, 1])\n",
      "Prediction using External drive tensor([9, 1, 2, 3, 4, 5, 5, 7, 0, 9])\n",
      "Actual prediction Loss tensor(-0.1711)\n"
     ]
    },
    {
     "name": "stderr",
     "output_type": "stream",
     "text": [
      "  5%|███▌                                                                         | 920/20000 [00:04<00:50, 376.18it/s]"
     ]
    },
    {
     "name": "stdout",
     "output_type": "stream",
     "text": [
      "Predicted through Recurrent input tensor([0, 1, 2, 5, 4, 3, 6, 7, 8, 9])\n",
      "Prediction using External drive tensor([0, 1, 2, 5, 4, 3, 6, 7, 8, 9])\n",
      "Actual prediction Loss tensor(-0.1881)\n",
      "Predicted through Recurrent input tensor([8, 1, 2, 1, 4, 5, 6, 7, 9, 3])\n",
      "Prediction using External drive tensor([0, 1, 2, 3, 4, 5, 6, 7, 8, 9])\n",
      "Actual prediction Loss tensor(-0.2210)\n",
      "Predicted through Recurrent input tensor([7, 1, 2, 0, 1, 2, 6, 7, 8, 9])\n",
      "Prediction using External drive tensor([0, 1, 2, 0, 1, 2, 6, 7, 8, 9])\n",
      "Actual prediction Loss tensor(-0.2160)\n",
      "Predicted through Recurrent input tensor([0, 1, 2, 3, 4, 5, 6, 7, 8, 9])\n",
      "Prediction using External drive tensor([0, 1, 2, 3, 4, 5, 6, 7, 8, 9])\n",
      "Actual prediction Loss tensor(-0.2518)\n"
     ]
    },
    {
     "name": "stderr",
     "output_type": "stream",
     "text": [
      "  5%|███▋                                                                         | 960/20000 [00:04<00:50, 379.75it/s]"
     ]
    },
    {
     "name": "stdout",
     "output_type": "stream",
     "text": [
      "Predicted through Recurrent input tensor([0, 1, 2, 9, 4, 5, 6, 7, 8, 4])\n",
      "Prediction using External drive tensor([0, 1, 2, 3, 4, 5, 6, 7, 8, 4])\n",
      "Actual prediction Loss tensor(-0.2156)\n",
      "Predicted through Recurrent input tensor([4, 1, 2, 7, 1, 3, 3, 7, 8, 9])\n",
      "Prediction using External drive tensor([0, 1, 2, 3, 4, 3, 3, 7, 8, 9])\n",
      "Actual prediction Loss tensor(-0.1952)\n",
      "Predicted through Recurrent input tensor([0, 1, 2, 3, 4, 5, 6, 7, 8, 9])\n",
      "Prediction using External drive tensor([0, 1, 2, 3, 4, 5, 6, 7, 8, 9])\n",
      "Actual prediction Loss tensor(-0.2789)\n",
      "Predicted through Recurrent input tensor([0, 1, 2, 3, 4, 5, 9, 7, 8, 5])\n",
      "Prediction using External drive tensor([0, 1, 2, 3, 4, 5, 6, 7, 8, 5])\n",
      "Actual prediction Loss tensor(-0.2625)\n"
     ]
    },
    {
     "name": "stderr",
     "output_type": "stream",
     "text": [
      "  5%|███▊                                                                        | 1000/20000 [00:04<00:49, 384.49it/s]"
     ]
    },
    {
     "name": "stdout",
     "output_type": "stream",
     "text": [
      "Predicted through Recurrent input tensor([9, 7, 2, 2, 4, 4, 5, 7, 0, 1])\n",
      "Prediction using External drive tensor([9, 1, 2, 3, 4, 5, 5, 7, 0, 9])\n",
      "Actual prediction Loss tensor(-0.1803)\n",
      "Predicted through Recurrent input tensor([0, 1, 2, 5, 4, 3, 6, 7, 8, 9])\n",
      "Prediction using External drive tensor([0, 1, 2, 5, 4, 3, 6, 7, 8, 9])\n",
      "Actual prediction Loss tensor(-0.2007)\n",
      "Predicted through Recurrent input tensor([8, 1, 2, 1, 4, 5, 6, 7, 9, 3])\n",
      "Prediction using External drive tensor([0, 1, 2, 3, 4, 5, 6, 7, 8, 9])\n",
      "Actual prediction Loss tensor(-0.2373)\n",
      "Predicted through Recurrent input tensor([7, 1, 2, 0, 1, 2, 6, 7, 8, 9])\n",
      "Prediction using External drive tensor([0, 1, 2, 0, 1, 2, 6, 7, 8, 9])\n",
      "Actual prediction Loss tensor(-0.2300)\n"
     ]
    },
    {
     "name": "stderr",
     "output_type": "stream",
     "text": [
      "  5%|███▉                                                                        | 1040/20000 [00:04<00:49, 381.23it/s]"
     ]
    },
    {
     "name": "stdout",
     "output_type": "stream",
     "text": [
      "Predicted through Recurrent input tensor([0, 1, 2, 3, 4, 5, 6, 7, 8, 9])\n",
      "Prediction using External drive tensor([0, 1, 2, 3, 4, 5, 6, 7, 8, 9])\n",
      "Actual prediction Loss tensor(-0.2734)\n",
      "Predicted through Recurrent input tensor([0, 1, 2, 9, 4, 5, 6, 7, 8, 4])\n",
      "Prediction using External drive tensor([0, 1, 2, 3, 4, 5, 6, 7, 8, 4])\n",
      "Actual prediction Loss tensor(-0.2302)\n",
      "Predicted through Recurrent input tensor([4, 1, 2, 3, 1, 3, 3, 7, 8, 9])\n",
      "Prediction using External drive tensor([0, 1, 2, 3, 4, 3, 3, 7, 8, 9])\n",
      "Actual prediction Loss tensor(-0.2087)\n",
      "Predicted through Recurrent input tensor([0, 1, 2, 3, 4, 5, 6, 7, 8, 9])\n",
      "Prediction using External drive tensor([0, 1, 2, 3, 4, 5, 6, 7, 8, 9])\n",
      "Actual prediction Loss tensor(-0.3034)\n"
     ]
    },
    {
     "name": "stderr",
     "output_type": "stream",
     "text": [
      "  5%|████                                                                        | 1080/20000 [00:04<00:49, 381.15it/s]"
     ]
    },
    {
     "name": "stdout",
     "output_type": "stream",
     "text": [
      "Predicted through Recurrent input tensor([0, 1, 2, 3, 4, 5, 9, 7, 8, 5])\n",
      "Prediction using External drive tensor([0, 1, 2, 3, 4, 5, 6, 7, 8, 5])\n",
      "Actual prediction Loss tensor(-0.2867)\n",
      "Predicted through Recurrent input tensor([9, 7, 2, 2, 4, 4, 5, 7, 0, 1])\n",
      "Prediction using External drive tensor([9, 1, 2, 3, 4, 5, 5, 7, 0, 9])\n",
      "Actual prediction Loss tensor(-0.1900)\n",
      "Predicted through Recurrent input tensor([0, 1, 2, 5, 4, 3, 6, 7, 8, 9])\n",
      "Prediction using External drive tensor([0, 1, 2, 5, 4, 3, 6, 7, 8, 9])\n",
      "Actual prediction Loss tensor(-0.2140)\n",
      "Predicted through Recurrent input tensor([8, 1, 2, 1, 4, 5, 6, 7, 9, 3])\n",
      "Prediction using External drive tensor([0, 1, 2, 3, 4, 5, 6, 7, 8, 9])\n",
      "Actual prediction Loss tensor(-0.2544)\n"
     ]
    },
    {
     "name": "stderr",
     "output_type": "stream",
     "text": [
      "  6%|████▎                                                                       | 1120/20000 [00:04<00:49, 384.38it/s]"
     ]
    },
    {
     "name": "stdout",
     "output_type": "stream",
     "text": [
      "Predicted through Recurrent input tensor([7, 1, 2, 0, 1, 2, 6, 7, 8, 9])\n",
      "Prediction using External drive tensor([0, 1, 2, 0, 1, 2, 6, 7, 8, 9])\n",
      "Actual prediction Loss tensor(-0.2441)\n",
      "Predicted through Recurrent input tensor([0, 1, 2, 3, 4, 5, 6, 7, 8, 9])\n",
      "Prediction using External drive tensor([0, 1, 2, 3, 4, 5, 6, 7, 8, 9])\n",
      "Actual prediction Loss tensor(-0.2958)\n",
      "Predicted through Recurrent input tensor([0, 1, 2, 9, 4, 5, 6, 7, 8, 4])\n",
      "Prediction using External drive tensor([0, 1, 2, 3, 4, 5, 6, 7, 8, 4])\n",
      "Actual prediction Loss tensor(-0.2455)\n",
      "Predicted through Recurrent input tensor([4, 1, 2, 3, 1, 3, 3, 7, 8, 9])\n",
      "Prediction using External drive tensor([0, 1, 2, 3, 4, 3, 3, 7, 8, 9])\n",
      "Actual prediction Loss tensor(-0.2228)\n"
     ]
    },
    {
     "name": "stderr",
     "output_type": "stream",
     "text": [
      "  6%|████▍                                                                       | 1160/20000 [00:04<00:49, 382.25it/s]"
     ]
    },
    {
     "name": "stdout",
     "output_type": "stream",
     "text": [
      "Predicted through Recurrent input tensor([0, 1, 2, 3, 4, 5, 6, 7, 8, 9])\n",
      "Prediction using External drive tensor([0, 1, 2, 3, 4, 5, 6, 7, 8, 9])\n",
      "Actual prediction Loss tensor(-0.3287)\n",
      "Predicted through Recurrent input tensor([0, 1, 2, 3, 4, 5, 9, 7, 8, 5])\n",
      "Prediction using External drive tensor([0, 1, 2, 3, 4, 5, 6, 7, 8, 5])\n",
      "Actual prediction Loss tensor(-0.3117)\n",
      "Predicted through Recurrent input tensor([9, 0, 2, 2, 4, 5, 5, 7, 0, 1])\n",
      "Prediction using External drive tensor([9, 1, 2, 3, 4, 5, 5, 7, 0, 9])\n",
      "Actual prediction Loss tensor(-0.1999)\n",
      "Predicted through Recurrent input tensor([0, 1, 2, 5, 2, 3, 6, 7, 8, 9])\n",
      "Prediction using External drive tensor([0, 1, 2, 5, 4, 3, 6, 7, 8, 9])\n",
      "Actual prediction Loss tensor(-0.2277)\n"
     ]
    },
    {
     "name": "stderr",
     "output_type": "stream",
     "text": [
      "  6%|████▌                                                                       | 1201/20000 [00:04<00:48, 387.96it/s]"
     ]
    },
    {
     "name": "stdout",
     "output_type": "stream",
     "text": [
      "Predicted through Recurrent input tensor([8, 1, 2, 1, 4, 5, 6, 7, 9, 3])\n",
      "Prediction using External drive tensor([0, 1, 2, 3, 4, 5, 6, 7, 8, 9])\n",
      "Actual prediction Loss tensor(-0.2721)\n",
      "Predicted through Recurrent input tensor([4, 1, 2, 0, 1, 2, 6, 7, 8, 9])\n",
      "Prediction using External drive tensor([0, 1, 2, 0, 1, 2, 6, 7, 8, 9])\n",
      "Actual prediction Loss tensor(-0.2584)\n",
      "Predicted through Recurrent input tensor([0, 1, 2, 3, 4, 5, 6, 7, 8, 9])\n",
      "Prediction using External drive tensor([0, 1, 2, 3, 4, 5, 6, 7, 8, 9])\n",
      "Actual prediction Loss tensor(-0.3188)\n",
      "Predicted through Recurrent input tensor([0, 1, 2, 3, 4, 5, 6, 7, 8, 4])\n",
      "Prediction using External drive tensor([0, 1, 2, 3, 4, 5, 6, 7, 8, 9])\n",
      "Actual prediction Loss tensor(-0.2613)\n"
     ]
    },
    {
     "name": "stderr",
     "output_type": "stream",
     "text": [
      "  6%|████▋                                                                       | 1242/20000 [00:04<00:47, 393.18it/s]"
     ]
    },
    {
     "name": "stdout",
     "output_type": "stream",
     "text": [
      "Predicted through Recurrent input tensor([4, 1, 2, 3, 1, 3, 3, 7, 8, 9])\n",
      "Prediction using External drive tensor([0, 1, 2, 3, 4, 3, 3, 7, 8, 9])\n",
      "Actual prediction Loss tensor(-0.2373)\n",
      "Predicted through Recurrent input tensor([0, 1, 2, 3, 4, 5, 6, 7, 8, 9])\n",
      "Prediction using External drive tensor([0, 1, 2, 3, 4, 5, 6, 7, 8, 9])\n",
      "Actual prediction Loss tensor(-0.3547)\n",
      "Predicted through Recurrent input tensor([0, 1, 2, 3, 4, 5, 6, 7, 8, 5])\n",
      "Prediction using External drive tensor([0, 1, 2, 3, 4, 5, 6, 7, 8, 5])\n",
      "Actual prediction Loss tensor(-0.3373)\n",
      "Predicted through Recurrent input tensor([9, 0, 2, 2, 4, 5, 5, 7, 0, 1])\n",
      "Prediction using External drive tensor([9, 1, 2, 3, 4, 5, 5, 7, 8, 9])\n",
      "Actual prediction Loss tensor(-0.2100)\n"
     ]
    },
    {
     "name": "stderr",
     "output_type": "stream",
     "text": [
      "  6%|████▊                                                                       | 1282/20000 [00:05<00:48, 388.30it/s]"
     ]
    },
    {
     "name": "stdout",
     "output_type": "stream",
     "text": [
      "Predicted through Recurrent input tensor([0, 1, 2, 5, 2, 3, 6, 7, 8, 9])\n",
      "Prediction using External drive tensor([0, 1, 2, 5, 4, 3, 6, 7, 8, 9])\n",
      "Actual prediction Loss tensor(-0.2419)\n",
      "Predicted through Recurrent input tensor([8, 1, 2, 1, 4, 5, 6, 7, 8, 3])\n",
      "Prediction using External drive tensor([0, 1, 2, 3, 4, 5, 6, 7, 8, 9])\n",
      "Actual prediction Loss tensor(-0.2904)\n",
      "Predicted through Recurrent input tensor([4, 1, 2, 0, 1, 2, 6, 7, 8, 9])\n",
      "Prediction using External drive tensor([0, 1, 2, 0, 1, 2, 6, 7, 8, 9])\n",
      "Actual prediction Loss tensor(-0.2726)\n",
      "Predicted through Recurrent input tensor([0, 1, 2, 3, 4, 5, 6, 7, 8, 9])\n",
      "Prediction using External drive tensor([0, 1, 2, 3, 4, 5, 6, 7, 8, 9])\n",
      "Actual prediction Loss tensor(-0.3422)\n"
     ]
    },
    {
     "name": "stderr",
     "output_type": "stream",
     "text": [
      "  7%|█████                                                                       | 1321/20000 [00:05<00:48, 387.65it/s]"
     ]
    },
    {
     "name": "stdout",
     "output_type": "stream",
     "text": [
      "Predicted through Recurrent input tensor([0, 1, 2, 3, 4, 5, 6, 7, 8, 4])\n",
      "Prediction using External drive tensor([0, 1, 2, 3, 4, 5, 6, 7, 8, 9])\n",
      "Actual prediction Loss tensor(-0.2776)\n",
      "Predicted through Recurrent input tensor([0, 1, 2, 3, 1, 3, 3, 7, 8, 9])\n",
      "Prediction using External drive tensor([0, 1, 2, 3, 4, 3, 3, 7, 8, 9])\n",
      "Actual prediction Loss tensor(-0.2523)\n",
      "Predicted through Recurrent input tensor([0, 1, 2, 3, 4, 5, 6, 7, 8, 9])\n",
      "Prediction using External drive tensor([0, 1, 2, 3, 4, 5, 6, 7, 8, 9])\n",
      "Actual prediction Loss tensor(-0.3811)\n",
      "Predicted through Recurrent input tensor([0, 1, 2, 3, 4, 5, 6, 7, 8, 5])\n",
      "Prediction using External drive tensor([0, 1, 2, 3, 4, 5, 6, 7, 8, 5])\n",
      "Actual prediction Loss tensor(-0.3633)\n"
     ]
    },
    {
     "name": "stderr",
     "output_type": "stream",
     "text": [
      "  7%|█████▏                                                                      | 1360/20000 [00:05<00:48, 387.19it/s]"
     ]
    },
    {
     "name": "stdout",
     "output_type": "stream",
     "text": [
      "Predicted through Recurrent input tensor([9, 0, 2, 2, 4, 5, 5, 7, 0, 1])\n",
      "Prediction using External drive tensor([9, 1, 2, 3, 4, 5, 5, 7, 8, 9])\n",
      "Actual prediction Loss tensor(-0.2204)\n",
      "Predicted through Recurrent input tensor([0, 1, 2, 5, 2, 3, 6, 7, 8, 9])\n",
      "Prediction using External drive tensor([0, 1, 2, 5, 4, 3, 6, 7, 8, 9])\n",
      "Actual prediction Loss tensor(-0.2564)\n",
      "Predicted through Recurrent input tensor([8, 1, 2, 1, 4, 5, 6, 7, 8, 3])\n",
      "Prediction using External drive tensor([0, 1, 2, 3, 4, 5, 6, 7, 8, 9])\n",
      "Actual prediction Loss tensor(-0.3092)\n",
      "Predicted through Recurrent input tensor([4, 1, 2, 0, 1, 2, 3, 7, 8, 9])\n",
      "Prediction using External drive tensor([0, 1, 2, 0, 1, 2, 6, 7, 8, 9])\n",
      "Actual prediction Loss tensor(-0.2867)\n"
     ]
    },
    {
     "name": "stderr",
     "output_type": "stream",
     "text": [
      "  7%|█████▎                                                                      | 1400/20000 [00:05<00:47, 387.54it/s]"
     ]
    },
    {
     "name": "stdout",
     "output_type": "stream",
     "text": [
      "Predicted through Recurrent input tensor([0, 1, 2, 3, 4, 5, 6, 7, 8, 9])\n",
      "Prediction using External drive tensor([0, 1, 2, 3, 4, 5, 6, 7, 8, 9])\n",
      "Actual prediction Loss tensor(-0.3659)\n",
      "Predicted through Recurrent input tensor([0, 1, 2, 3, 4, 5, 6, 7, 8, 4])\n",
      "Prediction using External drive tensor([0, 1, 2, 3, 4, 5, 6, 7, 8, 9])\n",
      "Actual prediction Loss tensor(-0.2942)\n",
      "Predicted through Recurrent input tensor([0, 1, 2, 3, 1, 3, 3, 7, 8, 9])\n",
      "Prediction using External drive tensor([0, 1, 2, 3, 4, 3, 3, 7, 8, 9])\n",
      "Actual prediction Loss tensor(-0.2677)\n",
      "Predicted through Recurrent input tensor([0, 1, 2, 3, 4, 5, 6, 7, 8, 9])\n",
      "Prediction using External drive tensor([0, 1, 2, 3, 4, 5, 6, 7, 8, 9])\n",
      "Actual prediction Loss tensor(-0.4076)\n"
     ]
    },
    {
     "name": "stderr",
     "output_type": "stream",
     "text": [
      "  7%|█████▍                                                                      | 1440/20000 [00:05<00:47, 387.78it/s]"
     ]
    },
    {
     "name": "stdout",
     "output_type": "stream",
     "text": [
      "Predicted through Recurrent input tensor([0, 1, 2, 3, 4, 5, 6, 7, 8, 5])\n",
      "Prediction using External drive tensor([0, 1, 2, 3, 4, 5, 6, 7, 8, 9])\n",
      "Actual prediction Loss tensor(-0.3892)\n",
      "Predicted through Recurrent input tensor([9, 0, 2, 2, 4, 5, 5, 7, 0, 1])\n",
      "Prediction using External drive tensor([9, 1, 2, 3, 4, 5, 6, 7, 8, 9])\n",
      "Actual prediction Loss tensor(-0.2309)\n",
      "Predicted through Recurrent input tensor([0, 1, 2, 5, 2, 3, 6, 7, 8, 9])\n",
      "Prediction using External drive tensor([0, 1, 2, 5, 4, 3, 6, 7, 8, 9])\n",
      "Actual prediction Loss tensor(-0.2713)\n",
      "Predicted through Recurrent input tensor([8, 1, 2, 1, 4, 5, 6, 7, 8, 3])\n",
      "Prediction using External drive tensor([0, 1, 2, 3, 4, 5, 6, 7, 8, 9])\n",
      "Actual prediction Loss tensor(-0.3283)\n"
     ]
    },
    {
     "name": "stderr",
     "output_type": "stream",
     "text": [
      "  7%|█████▌                                                                      | 1480/20000 [00:05<00:47, 389.08it/s]"
     ]
    },
    {
     "name": "stdout",
     "output_type": "stream",
     "text": [
      "Predicted through Recurrent input tensor([4, 1, 2, 0, 1, 2, 3, 7, 8, 9])\n",
      "Prediction using External drive tensor([0, 1, 2, 0, 1, 2, 6, 7, 8, 9])\n",
      "Actual prediction Loss tensor(-0.3006)\n",
      "Predicted through Recurrent input tensor([0, 1, 2, 3, 4, 5, 6, 7, 8, 9])\n",
      "Prediction using External drive tensor([0, 1, 2, 3, 4, 5, 6, 7, 8, 9])\n",
      "Actual prediction Loss tensor(-0.3897)\n",
      "Predicted through Recurrent input tensor([0, 1, 2, 3, 4, 5, 6, 7, 8, 4])\n",
      "Prediction using External drive tensor([0, 1, 2, 3, 4, 5, 6, 7, 8, 9])\n",
      "Actual prediction Loss tensor(-0.3111)\n",
      "Predicted through Recurrent input tensor([0, 1, 2, 3, 1, 3, 3, 7, 8, 9])\n",
      "Prediction using External drive tensor([0, 1, 2, 3, 4, 3, 6, 7, 8, 9])\n",
      "Actual prediction Loss tensor(-0.2833)\n"
     ]
    },
    {
     "name": "stderr",
     "output_type": "stream",
     "text": [
      "  8%|█████▊                                                                      | 1520/20000 [00:05<00:47, 391.15it/s]"
     ]
    },
    {
     "name": "stdout",
     "output_type": "stream",
     "text": [
      "Predicted through Recurrent input tensor([0, 1, 2, 3, 4, 5, 6, 7, 8, 9])\n",
      "Prediction using External drive tensor([0, 1, 2, 3, 4, 5, 6, 7, 8, 9])\n",
      "Actual prediction Loss tensor(-0.4338)\n",
      "Predicted through Recurrent input tensor([0, 1, 2, 3, 4, 5, 6, 7, 8, 5])\n",
      "Prediction using External drive tensor([0, 1, 2, 3, 4, 5, 6, 7, 8, 9])\n",
      "Actual prediction Loss tensor(-0.4149)\n",
      "Predicted through Recurrent input tensor([9, 0, 2, 2, 4, 5, 5, 7, 0, 1])\n",
      "Prediction using External drive tensor([9, 1, 2, 3, 4, 5, 6, 7, 8, 9])\n",
      "Actual prediction Loss tensor(-0.2415)\n",
      "Predicted through Recurrent input tensor([0, 1, 2, 5, 2, 3, 6, 7, 8, 9])\n",
      "Prediction using External drive tensor([0, 1, 2, 5, 4, 3, 6, 7, 8, 9])\n",
      "Actual prediction Loss tensor(-0.2864)\n"
     ]
    },
    {
     "name": "stderr",
     "output_type": "stream",
     "text": [
      "  8%|█████▉                                                                      | 1560/20000 [00:05<00:47, 384.67it/s]"
     ]
    },
    {
     "name": "stdout",
     "output_type": "stream",
     "text": [
      "Predicted through Recurrent input tensor([8, 1, 2, 1, 4, 5, 6, 7, 8, 3])\n",
      "Prediction using External drive tensor([0, 1, 2, 3, 4, 5, 6, 7, 8, 9])\n",
      "Actual prediction Loss tensor(-0.3476)\n",
      "Predicted through Recurrent input tensor([4, 1, 2, 0, 1, 2, 3, 7, 8, 9])\n",
      "Prediction using External drive tensor([0, 1, 2, 0, 1, 2, 6, 7, 8, 9])\n",
      "Actual prediction Loss tensor(-0.3142)\n",
      "Predicted through Recurrent input tensor([0, 1, 2, 3, 4, 5, 6, 7, 8, 9])\n",
      "Prediction using External drive tensor([0, 1, 2, 3, 4, 5, 6, 7, 8, 9])\n",
      "Actual prediction Loss tensor(-0.4132)\n",
      "Predicted through Recurrent input tensor([0, 1, 2, 3, 4, 5, 6, 7, 8, 4])\n",
      "Prediction using External drive tensor([0, 1, 2, 3, 4, 5, 6, 7, 8, 9])\n",
      "Actual prediction Loss tensor(-0.3281)\n"
     ]
    },
    {
     "name": "stderr",
     "output_type": "stream",
     "text": [
      "  8%|██████                                                                      | 1600/20000 [00:05<00:47, 385.77it/s]"
     ]
    },
    {
     "name": "stdout",
     "output_type": "stream",
     "text": [
      "Predicted through Recurrent input tensor([0, 1, 2, 3, 1, 3, 3, 7, 8, 9])\n",
      "Prediction using External drive tensor([0, 1, 2, 3, 4, 3, 6, 7, 8, 9])\n",
      "Actual prediction Loss tensor(-0.2991)\n",
      "Predicted through Recurrent input tensor([0, 1, 2, 3, 4, 5, 6, 7, 8, 9])\n",
      "Prediction using External drive tensor([0, 1, 2, 3, 4, 5, 6, 7, 8, 9])\n",
      "Actual prediction Loss tensor(-0.4596)\n",
      "Predicted through Recurrent input tensor([0, 1, 2, 3, 4, 5, 6, 7, 8, 5])\n",
      "Prediction using External drive tensor([0, 1, 2, 3, 4, 5, 6, 7, 8, 9])\n",
      "Actual prediction Loss tensor(-0.4400)\n",
      "Predicted through Recurrent input tensor([9, 0, 2, 2, 4, 5, 5, 7, 0, 1])\n",
      "Prediction using External drive tensor([9, 1, 2, 3, 4, 5, 6, 7, 8, 9])\n",
      "Actual prediction Loss tensor(-0.2522)\n"
     ]
    },
    {
     "name": "stderr",
     "output_type": "stream",
     "text": [
      "  8%|██████▏                                                                     | 1640/20000 [00:06<00:48, 382.11it/s]"
     ]
    },
    {
     "name": "stdout",
     "output_type": "stream",
     "text": [
      "Predicted through Recurrent input tensor([0, 1, 2, 5, 2, 3, 6, 7, 8, 9])\n",
      "Prediction using External drive tensor([0, 1, 2, 5, 4, 3, 6, 7, 8, 9])\n",
      "Actual prediction Loss tensor(-0.3016)\n",
      "Predicted through Recurrent input tensor([8, 1, 2, 1, 4, 5, 6, 7, 8, 3])\n",
      "Prediction using External drive tensor([0, 1, 2, 3, 4, 5, 6, 7, 8, 9])\n",
      "Actual prediction Loss tensor(-0.3669)\n",
      "Predicted through Recurrent input tensor([4, 1, 2, 0, 1, 2, 3, 7, 8, 9])\n",
      "Prediction using External drive tensor([0, 1, 2, 0, 1, 2, 6, 7, 8, 9])\n",
      "Actual prediction Loss tensor(-0.3274)\n",
      "Predicted through Recurrent input tensor([0, 1, 2, 3, 4, 5, 6, 7, 8, 9])\n",
      "Prediction using External drive tensor([0, 1, 2, 3, 4, 5, 6, 7, 8, 9])\n",
      "Actual prediction Loss tensor(-0.4365)\n"
     ]
    },
    {
     "name": "stderr",
     "output_type": "stream",
     "text": [
      "  8%|██████▍                                                                     | 1680/20000 [00:06<00:47, 382.85it/s]"
     ]
    },
    {
     "name": "stdout",
     "output_type": "stream",
     "text": [
      "Predicted through Recurrent input tensor([0, 1, 2, 3, 4, 5, 6, 7, 8, 4])\n",
      "Prediction using External drive tensor([0, 1, 2, 3, 4, 5, 6, 7, 8, 9])\n",
      "Actual prediction Loss tensor(-0.3451)\n",
      "Predicted through Recurrent input tensor([0, 1, 2, 3, 1, 3, 3, 7, 8, 9])\n",
      "Prediction using External drive tensor([0, 1, 2, 3, 4, 3, 6, 7, 8, 9])\n",
      "Actual prediction Loss tensor(-0.3151)\n",
      "Predicted through Recurrent input tensor([0, 1, 2, 3, 4, 5, 6, 7, 8, 9])\n",
      "Prediction using External drive tensor([0, 1, 2, 3, 4, 5, 6, 7, 8, 9])\n",
      "Actual prediction Loss tensor(-0.4848)\n",
      "Predicted through Recurrent input tensor([0, 1, 2, 3, 4, 5, 6, 7, 8, 5])\n",
      "Prediction using External drive tensor([0, 1, 2, 3, 4, 5, 6, 7, 8, 9])\n",
      "Actual prediction Loss tensor(-0.4645)\n"
     ]
    },
    {
     "name": "stderr",
     "output_type": "stream",
     "text": [
      "  9%|██████▌                                                                     | 1720/20000 [00:06<00:47, 382.29it/s]"
     ]
    },
    {
     "name": "stdout",
     "output_type": "stream",
     "text": [
      "Predicted through Recurrent input tensor([9, 0, 2, 2, 4, 5, 5, 7, 0, 1])\n",
      "Prediction using External drive tensor([9, 1, 2, 3, 4, 5, 6, 7, 8, 9])\n",
      "Actual prediction Loss tensor(-0.2629)\n",
      "Predicted through Recurrent input tensor([0, 1, 2, 5, 2, 3, 6, 7, 8, 9])\n",
      "Prediction using External drive tensor([0, 1, 2, 5, 4, 3, 6, 7, 8, 9])\n",
      "Actual prediction Loss tensor(-0.3168)\n",
      "Predicted through Recurrent input tensor([8, 1, 2, 1, 4, 5, 6, 7, 8, 3])\n",
      "Prediction using External drive tensor([0, 1, 2, 3, 4, 5, 6, 7, 8, 9])\n",
      "Actual prediction Loss tensor(-0.3862)\n",
      "Predicted through Recurrent input tensor([4, 1, 2, 0, 1, 2, 3, 7, 8, 9])\n",
      "Prediction using External drive tensor([0, 1, 2, 0, 1, 2, 6, 7, 8, 9])\n",
      "Actual prediction Loss tensor(-0.3403)\n"
     ]
    },
    {
     "name": "stderr",
     "output_type": "stream",
     "text": [
      "  9%|██████▋                                                                     | 1760/20000 [00:06<00:47, 384.08it/s]"
     ]
    },
    {
     "name": "stdout",
     "output_type": "stream",
     "text": [
      "Predicted through Recurrent input tensor([0, 1, 2, 3, 4, 5, 6, 7, 8, 9])\n",
      "Prediction using External drive tensor([0, 1, 2, 3, 4, 5, 6, 7, 8, 9])\n",
      "Actual prediction Loss tensor(-0.4593)\n",
      "Predicted through Recurrent input tensor([0, 1, 2, 3, 4, 5, 6, 7, 8, 4])\n",
      "Prediction using External drive tensor([0, 1, 2, 3, 4, 5, 6, 7, 8, 9])\n",
      "Actual prediction Loss tensor(-0.3620)\n",
      "Predicted through Recurrent input tensor([0, 1, 2, 3, 4, 3, 3, 7, 8, 9])\n",
      "Prediction using External drive tensor([0, 1, 2, 3, 4, 3, 6, 7, 8, 9])\n",
      "Actual prediction Loss tensor(-0.3310)\n",
      "Predicted through Recurrent input tensor([0, 1, 2, 3, 4, 5, 6, 7, 8, 9])\n",
      "Prediction using External drive tensor([0, 1, 2, 3, 4, 5, 6, 7, 8, 9])\n",
      "Actual prediction Loss tensor(-0.5090)\n"
     ]
    },
    {
     "name": "stderr",
     "output_type": "stream",
     "text": [
      "  9%|██████▊                                                                     | 1800/20000 [00:06<00:47, 380.95it/s]"
     ]
    },
    {
     "name": "stdout",
     "output_type": "stream",
     "text": [
      "Predicted through Recurrent input tensor([0, 1, 2, 3, 4, 5, 6, 7, 8, 5])\n",
      "Prediction using External drive tensor([0, 1, 2, 3, 4, 5, 6, 7, 8, 9])\n",
      "Actual prediction Loss tensor(-0.4882)\n",
      "Predicted through Recurrent input tensor([9, 0, 2, 2, 4, 5, 5, 7, 0, 1])\n",
      "Prediction using External drive tensor([9, 1, 2, 3, 4, 5, 6, 7, 8, 9])\n",
      "Actual prediction Loss tensor(-0.2736)\n",
      "Predicted through Recurrent input tensor([0, 1, 2, 5, 2, 3, 6, 7, 8, 9])\n",
      "Prediction using External drive tensor([0, 1, 2, 5, 4, 3, 6, 7, 8, 9])\n",
      "Actual prediction Loss tensor(-0.3320)\n",
      "Predicted through Recurrent input tensor([8, 1, 2, 3, 4, 5, 6, 7, 8, 3])\n",
      "Prediction using External drive tensor([0, 1, 2, 3, 4, 5, 6, 7, 8, 9])\n",
      "Actual prediction Loss tensor(-0.4053)\n"
     ]
    },
    {
     "name": "stderr",
     "output_type": "stream",
     "text": [
      "  9%|██████▉                                                                     | 1840/20000 [00:06<00:47, 380.95it/s]"
     ]
    },
    {
     "name": "stdout",
     "output_type": "stream",
     "text": [
      "Predicted through Recurrent input tensor([4, 1, 2, 0, 1, 2, 3, 7, 8, 9])\n",
      "Prediction using External drive tensor([0, 1, 2, 0, 1, 2, 6, 7, 8, 9])\n",
      "Actual prediction Loss tensor(-0.3528)\n",
      "Predicted through Recurrent input tensor([0, 1, 2, 3, 4, 5, 6, 7, 8, 9])\n",
      "Prediction using External drive tensor([0, 1, 2, 3, 4, 5, 6, 7, 8, 9])\n",
      "Actual prediction Loss tensor(-0.4815)\n",
      "Predicted through Recurrent input tensor([0, 1, 2, 3, 4, 5, 6, 7, 8, 4])\n",
      "Prediction using External drive tensor([0, 1, 2, 3, 4, 5, 6, 7, 8, 9])\n",
      "Actual prediction Loss tensor(-0.3787)\n",
      "Predicted through Recurrent input tensor([0, 1, 2, 3, 4, 3, 3, 7, 8, 9])\n",
      "Prediction using External drive tensor([0, 1, 2, 3, 4, 3, 6, 7, 8, 9])\n",
      "Actual prediction Loss tensor(-0.3469)\n"
     ]
    },
    {
     "name": "stderr",
     "output_type": "stream",
     "text": [
      "  9%|███████▏                                                                    | 1880/20000 [00:06<00:47, 382.04it/s]"
     ]
    },
    {
     "name": "stdout",
     "output_type": "stream",
     "text": [
      "Predicted through Recurrent input tensor([0, 1, 2, 3, 4, 5, 6, 7, 8, 9])\n",
      "Prediction using External drive tensor([0, 1, 2, 3, 4, 5, 6, 7, 8, 9])\n",
      "Actual prediction Loss tensor(-0.5323)\n",
      "Predicted through Recurrent input tensor([0, 1, 2, 3, 4, 5, 6, 7, 8, 5])\n",
      "Prediction using External drive tensor([0, 1, 2, 3, 4, 5, 6, 7, 8, 9])\n",
      "Actual prediction Loss tensor(-0.5110)\n",
      "Predicted through Recurrent input tensor([9, 0, 2, 2, 4, 5, 5, 7, 0, 1])\n",
      "Prediction using External drive tensor([9, 1, 2, 3, 4, 5, 6, 7, 8, 9])\n",
      "Actual prediction Loss tensor(-0.2842)\n",
      "Predicted through Recurrent input tensor([0, 1, 2, 5, 2, 3, 6, 7, 8, 9])\n",
      "Prediction using External drive tensor([0, 1, 2, 5, 4, 3, 6, 7, 8, 9])\n",
      "Actual prediction Loss tensor(-0.3472)\n"
     ]
    },
    {
     "name": "stderr",
     "output_type": "stream",
     "text": [
      " 10%|███████▎                                                                    | 1920/20000 [00:06<00:46, 386.14it/s]"
     ]
    },
    {
     "name": "stdout",
     "output_type": "stream",
     "text": [
      "Predicted through Recurrent input tensor([8, 1, 2, 3, 4, 5, 6, 7, 8, 3])\n",
      "Prediction using External drive tensor([0, 1, 2, 3, 4, 5, 6, 7, 8, 9])\n",
      "Actual prediction Loss tensor(-0.4242)\n",
      "Predicted through Recurrent input tensor([4, 1, 2, 0, 1, 2, 3, 7, 8, 9])\n",
      "Prediction using External drive tensor([0, 1, 2, 0, 1, 2, 6, 7, 8, 9])\n",
      "Actual prediction Loss tensor(-0.3648)\n",
      "Predicted through Recurrent input tensor([0, 1, 2, 3, 4, 5, 6, 7, 8, 9])\n",
      "Prediction using External drive tensor([0, 1, 2, 3, 4, 5, 6, 7, 8, 9])\n",
      "Actual prediction Loss tensor(-0.5031)\n",
      "Predicted through Recurrent input tensor([0, 1, 2, 3, 4, 5, 6, 7, 8, 4])\n",
      "Prediction using External drive tensor([0, 1, 2, 3, 4, 5, 6, 7, 8, 9])\n",
      "Actual prediction Loss tensor(-0.3953)\n"
     ]
    },
    {
     "name": "stderr",
     "output_type": "stream",
     "text": [
      " 10%|███████▍                                                                    | 1960/20000 [00:06<00:47, 383.46it/s]"
     ]
    },
    {
     "name": "stdout",
     "output_type": "stream",
     "text": [
      "Predicted through Recurrent input tensor([0, 1, 2, 3, 4, 3, 3, 7, 8, 9])\n",
      "Prediction using External drive tensor([0, 1, 2, 3, 4, 3, 6, 7, 8, 9])\n",
      "Actual prediction Loss tensor(-0.3628)\n",
      "Predicted through Recurrent input tensor([0, 1, 2, 3, 4, 5, 6, 7, 8, 9])\n",
      "Prediction using External drive tensor([0, 1, 2, 3, 4, 5, 6, 7, 8, 9])\n",
      "Actual prediction Loss tensor(-0.5546)\n",
      "Predicted through Recurrent input tensor([0, 1, 2, 3, 4, 5, 6, 7, 8, 5])\n",
      "Prediction using External drive tensor([0, 1, 2, 3, 4, 5, 6, 7, 8, 9])\n",
      "Actual prediction Loss tensor(-0.5328)\n",
      "Predicted through Recurrent input tensor([9, 0, 2, 2, 4, 5, 5, 7, 0, 1])\n",
      "Prediction using External drive tensor([9, 1, 2, 3, 4, 5, 6, 7, 8, 9])\n",
      "Actual prediction Loss tensor(-0.2948)\n"
     ]
    },
    {
     "name": "stderr",
     "output_type": "stream",
     "text": [
      " 10%|███████▌                                                                    | 2000/20000 [00:06<00:46, 388.28it/s]"
     ]
    },
    {
     "name": "stdout",
     "output_type": "stream",
     "text": [
      "Predicted through Recurrent input tensor([0, 1, 2, 5, 2, 3, 6, 7, 8, 9])\n",
      "Prediction using External drive tensor([0, 1, 2, 5, 4, 3, 6, 7, 8, 9])\n",
      "Actual prediction Loss tensor(-0.3621)\n",
      "Predicted through Recurrent input tensor([8, 1, 2, 3, 4, 5, 6, 7, 8, 3])\n",
      "Prediction using External drive tensor([0, 1, 2, 3, 4, 5, 6, 7, 8, 9])\n",
      "Actual prediction Loss tensor(-0.4427)\n",
      "Predicted through Recurrent input tensor([4, 1, 2, 0, 1, 2, 3, 7, 8, 9])\n",
      "Prediction using External drive tensor([0, 1, 2, 0, 1, 2, 6, 7, 8, 9])\n",
      "Actual prediction Loss tensor(-0.3765)\n",
      "Predicted through Recurrent input tensor([0, 1, 2, 3, 4, 5, 6, 7, 8, 9])\n",
      "Prediction using External drive tensor([0, 1, 2, 3, 4, 5, 6, 7, 8, 9])\n",
      "Actual prediction Loss tensor(-0.5238)\n"
     ]
    },
    {
     "name": "stderr",
     "output_type": "stream",
     "text": [
      " 10%|███████▊                                                                    | 2040/20000 [00:07<00:46, 386.05it/s]"
     ]
    },
    {
     "name": "stdout",
     "output_type": "stream",
     "text": [
      "Predicted through Recurrent input tensor([0, 1, 2, 3, 4, 5, 6, 7, 8, 4])\n",
      "Prediction using External drive tensor([0, 1, 2, 3, 4, 5, 6, 7, 8, 9])\n",
      "Actual prediction Loss tensor(-0.4115)\n",
      "Predicted through Recurrent input tensor([0, 1, 2, 3, 4, 3, 3, 7, 8, 9])\n",
      "Prediction using External drive tensor([0, 1, 2, 3, 4, 3, 6, 7, 8, 9])\n",
      "Actual prediction Loss tensor(-0.3785)\n",
      "Predicted through Recurrent input tensor([0, 1, 2, 3, 4, 5, 6, 7, 8, 9])\n",
      "Prediction using External drive tensor([0, 1, 2, 3, 4, 5, 6, 7, 8, 9])\n",
      "Actual prediction Loss tensor(-0.5757)\n",
      "Predicted through Recurrent input tensor([0, 1, 2, 3, 4, 5, 6, 7, 8, 5])\n",
      "Prediction using External drive tensor([0, 1, 2, 3, 4, 5, 6, 7, 8, 9])\n",
      "Actual prediction Loss tensor(-0.5535)\n"
     ]
    },
    {
     "name": "stderr",
     "output_type": "stream",
     "text": [
      " 10%|███████▉                                                                    | 2080/20000 [00:07<00:46, 383.40it/s]"
     ]
    },
    {
     "name": "stdout",
     "output_type": "stream",
     "text": [
      "Predicted through Recurrent input tensor([9, 0, 2, 2, 4, 5, 5, 7, 0, 1])\n",
      "Prediction using External drive tensor([9, 1, 2, 3, 4, 5, 6, 7, 8, 9])\n",
      "Actual prediction Loss tensor(-0.3054)\n",
      "Predicted through Recurrent input tensor([0, 1, 2, 5, 2, 3, 6, 7, 8, 9])\n",
      "Prediction using External drive tensor([0, 1, 2, 5, 4, 3, 6, 7, 8, 9])\n",
      "Actual prediction Loss tensor(-0.3769)\n",
      "Predicted through Recurrent input tensor([8, 1, 2, 3, 4, 5, 6, 7, 8, 3])\n",
      "Prediction using External drive tensor([0, 1, 2, 3, 4, 5, 6, 7, 8, 9])\n",
      "Actual prediction Loss tensor(-0.4609)\n",
      "Predicted through Recurrent input tensor([4, 1, 2, 0, 1, 2, 3, 7, 8, 9])\n",
      "Prediction using External drive tensor([0, 1, 2, 0, 1, 2, 6, 7, 8, 9])\n",
      "Actual prediction Loss tensor(-0.3877)\n"
     ]
    },
    {
     "name": "stderr",
     "output_type": "stream",
     "text": [
      " 11%|████████                                                                    | 2120/20000 [00:07<00:46, 384.87it/s]"
     ]
    },
    {
     "name": "stdout",
     "output_type": "stream",
     "text": [
      "Predicted through Recurrent input tensor([0, 1, 2, 3, 4, 5, 6, 7, 8, 9])\n",
      "Prediction using External drive tensor([0, 1, 2, 3, 4, 5, 6, 7, 8, 9])\n",
      "Actual prediction Loss tensor(-0.5438)\n",
      "Predicted through Recurrent input tensor([0, 1, 2, 3, 4, 5, 6, 7, 8, 4])\n",
      "Prediction using External drive tensor([0, 1, 2, 3, 4, 5, 6, 7, 8, 9])\n",
      "Actual prediction Loss tensor(-0.4273)\n",
      "Predicted through Recurrent input tensor([0, 1, 2, 3, 4, 3, 3, 7, 8, 9])\n",
      "Prediction using External drive tensor([0, 1, 2, 3, 4, 3, 6, 7, 8, 9])\n",
      "Actual prediction Loss tensor(-0.3940)\n",
      "Predicted through Recurrent input tensor([0, 1, 2, 3, 4, 5, 6, 7, 8, 9])\n",
      "Prediction using External drive tensor([0, 1, 2, 3, 4, 5, 6, 7, 8, 9])\n",
      "Actual prediction Loss tensor(-0.5956)\n"
     ]
    },
    {
     "name": "stderr",
     "output_type": "stream",
     "text": [
      " 11%|████████▏                                                                   | 2160/20000 [00:07<00:46, 385.91it/s]"
     ]
    },
    {
     "name": "stdout",
     "output_type": "stream",
     "text": [
      "Predicted through Recurrent input tensor([0, 1, 2, 3, 4, 5, 6, 7, 8, 5])\n",
      "Prediction using External drive tensor([0, 1, 2, 3, 4, 5, 6, 7, 8, 9])\n",
      "Actual prediction Loss tensor(-0.5732)\n",
      "Predicted through Recurrent input tensor([9, 0, 2, 2, 4, 5, 5, 7, 0, 1])\n",
      "Prediction using External drive tensor([9, 1, 2, 3, 4, 5, 6, 7, 8, 9])\n",
      "Actual prediction Loss tensor(-0.3159)\n",
      "Predicted through Recurrent input tensor([0, 1, 2, 5, 4, 3, 6, 7, 8, 9])\n",
      "Prediction using External drive tensor([0, 1, 2, 5, 4, 3, 6, 7, 8, 9])\n",
      "Actual prediction Loss tensor(-0.3914)\n",
      "Predicted through Recurrent input tensor([8, 1, 2, 3, 4, 5, 6, 7, 8, 3])\n",
      "Prediction using External drive tensor([0, 1, 2, 3, 4, 5, 6, 7, 8, 9])\n",
      "Actual prediction Loss tensor(-0.4785)\n"
     ]
    },
    {
     "name": "stderr",
     "output_type": "stream",
     "text": [
      " 11%|████████▎                                                                   | 2200/20000 [00:07<00:46, 385.52it/s]"
     ]
    },
    {
     "name": "stdout",
     "output_type": "stream",
     "text": [
      "Predicted through Recurrent input tensor([4, 1, 2, 0, 1, 2, 3, 7, 8, 9])\n",
      "Prediction using External drive tensor([0, 1, 2, 0, 1, 2, 6, 7, 8, 9])\n",
      "Actual prediction Loss tensor(-0.3985)\n",
      "Predicted through Recurrent input tensor([0, 1, 2, 3, 4, 5, 6, 7, 8, 9])\n",
      "Prediction using External drive tensor([0, 1, 2, 3, 4, 5, 6, 7, 8, 9])\n",
      "Actual prediction Loss tensor(-0.5629)\n",
      "Predicted through Recurrent input tensor([0, 1, 2, 3, 4, 5, 6, 7, 8, 4])\n",
      "Prediction using External drive tensor([0, 1, 2, 3, 4, 5, 6, 7, 8, 9])\n",
      "Actual prediction Loss tensor(-0.4428)\n",
      "Predicted through Recurrent input tensor([0, 1, 2, 3, 4, 3, 3, 7, 8, 9])\n",
      "Prediction using External drive tensor([0, 1, 2, 3, 4, 3, 6, 7, 8, 9])\n",
      "Actual prediction Loss tensor(-0.4092)\n"
     ]
    },
    {
     "name": "stderr",
     "output_type": "stream",
     "text": [
      " 11%|████████▌                                                                   | 2240/20000 [00:07<00:46, 385.25it/s]"
     ]
    },
    {
     "name": "stdout",
     "output_type": "stream",
     "text": [
      "Predicted through Recurrent input tensor([0, 1, 2, 3, 4, 5, 6, 7, 8, 9])\n",
      "Prediction using External drive tensor([0, 1, 2, 3, 4, 5, 6, 7, 8, 9])\n",
      "Actual prediction Loss tensor(-0.6145)\n",
      "Predicted through Recurrent input tensor([0, 1, 2, 3, 4, 5, 6, 7, 8, 5])\n",
      "Prediction using External drive tensor([0, 1, 2, 3, 4, 5, 6, 7, 8, 9])\n",
      "Actual prediction Loss tensor(-0.5918)\n",
      "Predicted through Recurrent input tensor([9, 0, 2, 2, 4, 5, 5, 7, 0, 1])\n",
      "Prediction using External drive tensor([9, 1, 2, 3, 4, 5, 6, 7, 8, 9])\n",
      "Actual prediction Loss tensor(-0.3263)\n",
      "Predicted through Recurrent input tensor([0, 1, 2, 5, 4, 3, 6, 7, 8, 9])\n",
      "Prediction using External drive tensor([0, 1, 2, 5, 4, 3, 6, 7, 8, 9])\n",
      "Actual prediction Loss tensor(-0.4056)\n"
     ]
    },
    {
     "name": "stderr",
     "output_type": "stream",
     "text": [
      " 11%|████████▋                                                                   | 2280/20000 [00:07<00:45, 386.17it/s]"
     ]
    },
    {
     "name": "stdout",
     "output_type": "stream",
     "text": [
      "Predicted through Recurrent input tensor([8, 1, 2, 3, 4, 5, 6, 7, 8, 3])\n",
      "Prediction using External drive tensor([0, 1, 2, 3, 4, 5, 6, 7, 8, 9])\n",
      "Actual prediction Loss tensor(-0.4958)\n",
      "Predicted through Recurrent input tensor([4, 1, 2, 0, 1, 2, 3, 7, 8, 9])\n",
      "Prediction using External drive tensor([0, 1, 2, 0, 1, 5, 6, 7, 8, 9])\n",
      "Actual prediction Loss tensor(-0.4090)\n",
      "Predicted through Recurrent input tensor([0, 1, 2, 3, 4, 5, 6, 7, 8, 9])\n",
      "Prediction using External drive tensor([0, 1, 2, 3, 4, 5, 6, 7, 8, 9])\n",
      "Actual prediction Loss tensor(-0.5812)\n",
      "Predicted through Recurrent input tensor([0, 1, 2, 3, 4, 5, 6, 7, 8, 4])\n",
      "Prediction using External drive tensor([0, 1, 2, 3, 4, 5, 6, 7, 8, 9])\n",
      "Actual prediction Loss tensor(-0.4578)\n"
     ]
    },
    {
     "name": "stderr",
     "output_type": "stream",
     "text": [
      " 12%|████████▊                                                                   | 2320/20000 [00:07<00:45, 387.95it/s]"
     ]
    },
    {
     "name": "stdout",
     "output_type": "stream",
     "text": [
      "Predicted through Recurrent input tensor([0, 1, 2, 3, 4, 3, 3, 7, 8, 9])\n",
      "Prediction using External drive tensor([0, 1, 2, 3, 4, 3, 6, 7, 8, 9])\n",
      "Actual prediction Loss tensor(-0.4242)\n",
      "Predicted through Recurrent input tensor([0, 1, 2, 3, 4, 5, 6, 7, 8, 9])\n",
      "Prediction using External drive tensor([0, 1, 2, 3, 4, 5, 6, 7, 8, 9])\n",
      "Actual prediction Loss tensor(-0.6322)\n",
      "Predicted through Recurrent input tensor([0, 1, 2, 3, 4, 5, 6, 7, 8, 5])\n",
      "Prediction using External drive tensor([0, 1, 2, 3, 4, 5, 6, 7, 8, 9])\n",
      "Actual prediction Loss tensor(-0.6094)\n",
      "Predicted through Recurrent input tensor([9, 0, 2, 2, 4, 5, 5, 7, 0, 1])\n",
      "Prediction using External drive tensor([9, 1, 2, 3, 4, 5, 6, 7, 8, 9])\n",
      "Actual prediction Loss tensor(-0.3367)\n"
     ]
    },
    {
     "name": "stderr",
     "output_type": "stream",
     "text": [
      " 12%|████████▉                                                                   | 2360/20000 [00:07<00:45, 386.94it/s]"
     ]
    },
    {
     "name": "stdout",
     "output_type": "stream",
     "text": [
      "Predicted through Recurrent input tensor([0, 1, 2, 5, 4, 3, 6, 7, 8, 9])\n",
      "Prediction using External drive tensor([0, 1, 2, 5, 4, 3, 6, 7, 8, 9])\n",
      "Actual prediction Loss tensor(-0.4195)\n",
      "Predicted through Recurrent input tensor([8, 1, 2, 3, 4, 5, 6, 7, 8, 3])\n",
      "Prediction using External drive tensor([0, 1, 2, 3, 4, 5, 6, 7, 8, 9])\n",
      "Actual prediction Loss tensor(-0.5125)\n",
      "Predicted through Recurrent input tensor([4, 1, 2, 0, 1, 2, 3, 7, 8, 9])\n",
      "Prediction using External drive tensor([0, 1, 2, 0, 1, 5, 6, 7, 8, 9])\n",
      "Actual prediction Loss tensor(-0.4190)\n",
      "Predicted through Recurrent input tensor([0, 1, 2, 3, 4, 5, 6, 7, 8, 9])\n",
      "Prediction using External drive tensor([0, 1, 2, 3, 4, 5, 6, 7, 8, 9])\n",
      "Actual prediction Loss tensor(-0.5986)\n"
     ]
    },
    {
     "name": "stderr",
     "output_type": "stream",
     "text": [
      " 12%|█████████                                                                   | 2400/20000 [00:07<00:45, 388.49it/s]"
     ]
    },
    {
     "name": "stdout",
     "output_type": "stream",
     "text": [
      "Predicted through Recurrent input tensor([0, 1, 2, 3, 4, 5, 6, 7, 8, 4])\n",
      "Prediction using External drive tensor([0, 1, 2, 3, 4, 5, 6, 7, 8, 9])\n",
      "Actual prediction Loss tensor(-0.4725)\n",
      "Predicted through Recurrent input tensor([0, 1, 2, 3, 4, 3, 3, 7, 8, 9])\n",
      "Prediction using External drive tensor([0, 1, 2, 3, 4, 3, 6, 7, 8, 9])\n",
      "Actual prediction Loss tensor(-0.4389)\n",
      "Predicted through Recurrent input tensor([0, 1, 2, 3, 4, 5, 6, 7, 8, 9])\n",
      "Prediction using External drive tensor([0, 1, 2, 3, 4, 5, 6, 7, 8, 9])\n",
      "Actual prediction Loss tensor(-0.6488)\n",
      "Predicted through Recurrent input tensor([0, 1, 2, 3, 4, 5, 6, 7, 8, 5])\n",
      "Prediction using External drive tensor([0, 1, 2, 3, 4, 5, 6, 7, 8, 9])\n",
      "Actual prediction Loss tensor(-0.6261)\n"
     ]
    },
    {
     "name": "stderr",
     "output_type": "stream",
     "text": [
      " 12%|█████████▎                                                                  | 2442/20000 [00:08<00:44, 396.31it/s]"
     ]
    },
    {
     "name": "stdout",
     "output_type": "stream",
     "text": [
      "Predicted through Recurrent input tensor([9, 0, 2, 2, 4, 5, 5, 7, 0, 1])\n",
      "Prediction using External drive tensor([9, 1, 2, 3, 4, 5, 6, 7, 8, 9])\n",
      "Actual prediction Loss tensor(-0.3470)\n",
      "Predicted through Recurrent input tensor([0, 1, 2, 5, 4, 3, 6, 7, 8, 9])\n",
      "Prediction using External drive tensor([0, 1, 2, 5, 4, 3, 6, 7, 8, 9])\n",
      "Actual prediction Loss tensor(-0.4332)\n",
      "Predicted through Recurrent input tensor([0, 1, 2, 3, 4, 5, 6, 7, 8, 3])\n",
      "Prediction using External drive tensor([0, 1, 2, 3, 4, 5, 6, 7, 8, 9])\n",
      "Actual prediction Loss tensor(-0.5287)\n",
      "Predicted through Recurrent input tensor([4, 1, 2, 0, 1, 2, 3, 7, 8, 9])\n",
      "Prediction using External drive tensor([0, 1, 2, 0, 1, 5, 6, 7, 8, 9])\n",
      "Actual prediction Loss tensor(-0.4288)\n"
     ]
    },
    {
     "name": "stderr",
     "output_type": "stream",
     "text": [
      " 12%|█████████▍                                                                  | 2484/20000 [00:08<00:43, 401.98it/s]"
     ]
    },
    {
     "name": "stdout",
     "output_type": "stream",
     "text": [
      "Predicted through Recurrent input tensor([0, 1, 2, 3, 4, 5, 6, 7, 8, 9])\n",
      "Prediction using External drive tensor([0, 1, 2, 3, 4, 5, 6, 7, 8, 9])\n",
      "Actual prediction Loss tensor(-0.6152)\n",
      "Predicted through Recurrent input tensor([0, 1, 2, 3, 4, 5, 6, 7, 8, 4])\n",
      "Prediction using External drive tensor([0, 1, 2, 3, 4, 5, 6, 7, 8, 9])\n",
      "Actual prediction Loss tensor(-0.4866)\n",
      "Predicted through Recurrent input tensor([0, 1, 2, 3, 4, 3, 3, 7, 8, 9])\n",
      "Prediction using External drive tensor([0, 1, 2, 3, 4, 5, 6, 7, 8, 9])\n",
      "Actual prediction Loss tensor(-0.4532)\n",
      "Predicted through Recurrent input tensor([0, 1, 2, 3, 4, 5, 6, 7, 8, 9])\n",
      "Prediction using External drive tensor([0, 1, 2, 3, 4, 5, 6, 7, 8, 9])\n",
      "Actual prediction Loss tensor(-0.6645)\n"
     ]
    },
    {
     "name": "stderr",
     "output_type": "stream",
     "text": [
      " 13%|█████████▌                                                                  | 2525/20000 [00:08<00:43, 401.97it/s]"
     ]
    },
    {
     "name": "stdout",
     "output_type": "stream",
     "text": [
      "Predicted through Recurrent input tensor([0, 1, 2, 3, 4, 5, 6, 7, 8, 8])\n",
      "Prediction using External drive tensor([0, 1, 2, 3, 4, 5, 6, 7, 8, 9])\n",
      "Actual prediction Loss tensor(-0.6418)\n",
      "Predicted through Recurrent input tensor([9, 0, 2, 2, 4, 5, 5, 7, 0, 1])\n",
      "Prediction using External drive tensor([9, 1, 2, 3, 4, 5, 6, 7, 8, 9])\n",
      "Actual prediction Loss tensor(-0.3572)\n",
      "Predicted through Recurrent input tensor([0, 1, 2, 5, 4, 3, 6, 7, 8, 9])\n",
      "Prediction using External drive tensor([0, 1, 2, 5, 4, 3, 6, 7, 8, 9])\n",
      "Actual prediction Loss tensor(-0.4464)\n",
      "Predicted through Recurrent input tensor([0, 1, 2, 3, 4, 5, 6, 7, 8, 3])\n",
      "Prediction using External drive tensor([0, 1, 2, 3, 4, 5, 6, 7, 8, 9])\n",
      "Actual prediction Loss tensor(-0.5444)\n"
     ]
    },
    {
     "name": "stderr",
     "output_type": "stream",
     "text": [
      " 13%|█████████▊                                                                  | 2566/20000 [00:08<00:43, 400.79it/s]"
     ]
    },
    {
     "name": "stdout",
     "output_type": "stream",
     "text": [
      "Predicted through Recurrent input tensor([4, 1, 2, 0, 1, 2, 3, 7, 8, 9])\n",
      "Prediction using External drive tensor([0, 1, 2, 0, 1, 5, 6, 7, 8, 9])\n",
      "Actual prediction Loss tensor(-0.4382)\n",
      "Predicted through Recurrent input tensor([0, 1, 2, 3, 4, 5, 6, 7, 8, 9])\n",
      "Prediction using External drive tensor([0, 1, 2, 3, 4, 5, 6, 7, 8, 9])\n",
      "Actual prediction Loss tensor(-0.6310)\n",
      "Predicted through Recurrent input tensor([0, 1, 2, 3, 4, 5, 6, 7, 8, 4])\n",
      "Prediction using External drive tensor([0, 1, 2, 3, 4, 5, 6, 7, 8, 9])\n",
      "Actual prediction Loss tensor(-0.5004)\n",
      "Predicted through Recurrent input tensor([0, 1, 2, 3, 4, 3, 3, 7, 8, 9])\n",
      "Prediction using External drive tensor([0, 1, 2, 3, 4, 5, 6, 7, 8, 9])\n",
      "Actual prediction Loss tensor(-0.4673)\n"
     ]
    },
    {
     "name": "stderr",
     "output_type": "stream",
     "text": [
      " 13%|█████████▉                                                                  | 2607/20000 [00:08<00:43, 398.80it/s]"
     ]
    },
    {
     "name": "stdout",
     "output_type": "stream",
     "text": [
      "Predicted through Recurrent input tensor([0, 1, 2, 3, 4, 5, 6, 7, 8, 9])\n",
      "Prediction using External drive tensor([0, 1, 2, 3, 4, 5, 6, 7, 8, 9])\n",
      "Actual prediction Loss tensor(-0.6791)\n",
      "Predicted through Recurrent input tensor([0, 1, 2, 3, 4, 5, 6, 7, 8, 8])\n",
      "Prediction using External drive tensor([0, 1, 2, 3, 4, 5, 6, 7, 8, 9])\n",
      "Actual prediction Loss tensor(-0.6566)\n",
      "Predicted through Recurrent input tensor([9, 0, 2, 2, 4, 5, 5, 7, 0, 1])\n",
      "Prediction using External drive tensor([9, 1, 2, 3, 4, 5, 6, 7, 8, 9])\n",
      "Actual prediction Loss tensor(-0.3673)\n",
      "Predicted through Recurrent input tensor([0, 1, 2, 5, 4, 3, 6, 7, 8, 9])\n",
      "Prediction using External drive tensor([0, 1, 2, 5, 4, 3, 6, 7, 8, 9])\n",
      "Actual prediction Loss tensor(-0.4594)\n"
     ]
    },
    {
     "name": "stderr",
     "output_type": "stream",
     "text": [
      " 13%|██████████                                                                  | 2647/20000 [00:08<00:43, 397.97it/s]"
     ]
    },
    {
     "name": "stdout",
     "output_type": "stream",
     "text": [
      "Predicted through Recurrent input tensor([0, 1, 2, 3, 4, 5, 6, 7, 8, 3])\n",
      "Prediction using External drive tensor([0, 1, 2, 3, 4, 5, 6, 7, 8, 9])\n",
      "Actual prediction Loss tensor(-0.5595)\n",
      "Predicted through Recurrent input tensor([4, 1, 2, 0, 1, 2, 3, 7, 8, 9])\n",
      "Prediction using External drive tensor([0, 1, 2, 0, 1, 5, 6, 7, 8, 9])\n",
      "Actual prediction Loss tensor(-0.4473)\n",
      "Predicted through Recurrent input tensor([0, 1, 2, 3, 4, 5, 6, 7, 8, 9])\n",
      "Prediction using External drive tensor([0, 1, 2, 3, 4, 5, 6, 7, 8, 9])\n",
      "Actual prediction Loss tensor(-0.6460)\n",
      "Predicted through Recurrent input tensor([0, 1, 2, 3, 4, 5, 6, 7, 8, 9])\n",
      "Prediction using External drive tensor([0, 1, 2, 3, 4, 5, 6, 7, 8, 9])\n",
      "Actual prediction Loss tensor(-0.5136)\n"
     ]
    },
    {
     "name": "stderr",
     "output_type": "stream",
     "text": [
      " 13%|██████████▏                                                                 | 2687/20000 [00:08<00:43, 397.38it/s]"
     ]
    },
    {
     "name": "stdout",
     "output_type": "stream",
     "text": [
      "Predicted through Recurrent input tensor([0, 1, 2, 3, 4, 3, 3, 7, 8, 9])\n",
      "Prediction using External drive tensor([0, 1, 2, 3, 4, 5, 6, 7, 8, 9])\n",
      "Actual prediction Loss tensor(-0.4809)\n",
      "Predicted through Recurrent input tensor([0, 1, 2, 3, 4, 5, 6, 7, 8, 9])\n",
      "Prediction using External drive tensor([0, 1, 2, 3, 4, 5, 6, 7, 8, 9])\n",
      "Actual prediction Loss tensor(-0.6929)\n",
      "Predicted through Recurrent input tensor([0, 1, 2, 3, 4, 5, 6, 7, 8, 8])\n",
      "Prediction using External drive tensor([0, 1, 2, 3, 4, 5, 6, 7, 8, 9])\n",
      "Actual prediction Loss tensor(-0.6706)\n",
      "Predicted through Recurrent input tensor([9, 1, 2, 2, 4, 5, 5, 7, 0, 1])\n",
      "Prediction using External drive tensor([9, 1, 2, 3, 4, 5, 6, 7, 8, 9])\n",
      "Actual prediction Loss tensor(-0.3774)\n"
     ]
    },
    {
     "name": "stderr",
     "output_type": "stream",
     "text": [
      " 14%|██████████▎                                                                 | 2727/20000 [00:08<00:43, 395.80it/s]"
     ]
    },
    {
     "name": "stdout",
     "output_type": "stream",
     "text": [
      "Predicted through Recurrent input tensor([0, 1, 2, 5, 4, 3, 6, 7, 8, 9])\n",
      "Prediction using External drive tensor([0, 1, 2, 5, 4, 3, 6, 7, 8, 9])\n",
      "Actual prediction Loss tensor(-0.4721)\n",
      "Predicted through Recurrent input tensor([0, 1, 2, 3, 4, 5, 6, 7, 8, 3])\n",
      "Prediction using External drive tensor([0, 1, 2, 3, 4, 5, 6, 7, 8, 9])\n",
      "Actual prediction Loss tensor(-0.5742)\n",
      "Predicted through Recurrent input tensor([4, 1, 2, 0, 1, 2, 3, 7, 8, 9])\n",
      "Prediction using External drive tensor([0, 1, 2, 0, 1, 5, 6, 7, 8, 9])\n",
      "Actual prediction Loss tensor(-0.4562)\n",
      "Predicted through Recurrent input tensor([0, 1, 2, 3, 4, 5, 6, 7, 8, 9])\n",
      "Prediction using External drive tensor([0, 1, 2, 3, 4, 5, 6, 7, 8, 9])\n",
      "Actual prediction Loss tensor(-0.6602)\n"
     ]
    },
    {
     "name": "stderr",
     "output_type": "stream",
     "text": [
      " 14%|██████████▌                                                                 | 2767/20000 [00:08<00:43, 394.70it/s]"
     ]
    },
    {
     "name": "stdout",
     "output_type": "stream",
     "text": [
      "Predicted through Recurrent input tensor([0, 1, 2, 3, 4, 5, 6, 7, 8, 9])\n",
      "Prediction using External drive tensor([0, 1, 2, 3, 4, 5, 6, 7, 8, 9])\n",
      "Actual prediction Loss tensor(-0.5265)\n",
      "Predicted through Recurrent input tensor([0, 1, 2, 3, 4, 3, 3, 7, 8, 9])\n",
      "Prediction using External drive tensor([0, 1, 2, 3, 4, 5, 6, 7, 8, 9])\n",
      "Actual prediction Loss tensor(-0.4943)\n",
      "Predicted through Recurrent input tensor([0, 1, 2, 3, 4, 5, 6, 7, 8, 9])\n",
      "Prediction using External drive tensor([0, 1, 2, 3, 4, 5, 6, 7, 8, 9])\n",
      "Actual prediction Loss tensor(-0.7058)\n",
      "Predicted through Recurrent input tensor([0, 1, 2, 3, 4, 5, 6, 7, 8, 8])\n",
      "Prediction using External drive tensor([0, 1, 2, 3, 4, 5, 6, 7, 8, 9])\n",
      "Actual prediction Loss tensor(-0.6838)\n"
     ]
    },
    {
     "name": "stderr",
     "output_type": "stream",
     "text": [
      " 14%|██████████▋                                                                 | 2807/20000 [00:08<00:43, 392.78it/s]"
     ]
    },
    {
     "name": "stdout",
     "output_type": "stream",
     "text": [
      "Predicted through Recurrent input tensor([9, 1, 2, 2, 4, 5, 5, 7, 0, 1])\n",
      "Prediction using External drive tensor([9, 1, 2, 3, 4, 5, 6, 7, 8, 9])\n",
      "Actual prediction Loss tensor(-0.3874)\n",
      "Predicted through Recurrent input tensor([0, 1, 2, 5, 4, 3, 6, 7, 8, 9])\n",
      "Prediction using External drive tensor([0, 1, 2, 5, 4, 3, 6, 7, 8, 9])\n",
      "Actual prediction Loss tensor(-0.4844)\n",
      "Predicted through Recurrent input tensor([0, 1, 2, 3, 4, 5, 6, 7, 8, 3])\n",
      "Prediction using External drive tensor([0, 1, 2, 3, 4, 5, 6, 7, 8, 9])\n",
      "Actual prediction Loss tensor(-0.5883)\n",
      "Predicted through Recurrent input tensor([4, 1, 2, 0, 1, 2, 3, 7, 8, 9])\n",
      "Prediction using External drive tensor([0, 1, 2, 0, 1, 5, 6, 7, 8, 9])\n",
      "Actual prediction Loss tensor(-0.4648)\n"
     ]
    },
    {
     "name": "stderr",
     "output_type": "stream",
     "text": [
      " 14%|██████████▊                                                                 | 2848/20000 [00:09<00:43, 396.63it/s]"
     ]
    },
    {
     "name": "stdout",
     "output_type": "stream",
     "text": [
      "Predicted through Recurrent input tensor([0, 1, 2, 3, 4, 5, 6, 7, 8, 9])\n",
      "Prediction using External drive tensor([0, 1, 2, 3, 4, 5, 6, 7, 8, 9])\n",
      "Actual prediction Loss tensor(-0.6737)\n",
      "Predicted through Recurrent input tensor([0, 1, 2, 3, 4, 5, 6, 7, 8, 9])\n",
      "Prediction using External drive tensor([0, 1, 2, 3, 4, 5, 6, 7, 8, 9])\n",
      "Actual prediction Loss tensor(-0.5389)\n",
      "Predicted through Recurrent input tensor([0, 1, 2, 3, 4, 3, 3, 7, 8, 9])\n",
      "Prediction using External drive tensor([0, 1, 2, 3, 4, 5, 6, 7, 8, 9])\n",
      "Actual prediction Loss tensor(-0.5073)\n",
      "Predicted through Recurrent input tensor([0, 1, 2, 3, 4, 5, 6, 7, 8, 9])\n",
      "Prediction using External drive tensor([0, 1, 2, 3, 4, 5, 6, 7, 8, 9])\n",
      "Actual prediction Loss tensor(-0.7180)\n"
     ]
    },
    {
     "name": "stderr",
     "output_type": "stream",
     "text": [
      " 14%|██████████▉                                                                 | 2888/20000 [00:09<00:43, 394.11it/s]"
     ]
    },
    {
     "name": "stdout",
     "output_type": "stream",
     "text": [
      "Predicted through Recurrent input tensor([0, 1, 2, 3, 4, 5, 6, 7, 8, 8])\n",
      "Prediction using External drive tensor([0, 1, 2, 3, 4, 5, 6, 7, 8, 9])\n",
      "Actual prediction Loss tensor(-0.6963)\n",
      "Predicted through Recurrent input tensor([9, 1, 2, 2, 4, 5, 6, 7, 0, 1])\n",
      "Prediction using External drive tensor([9, 1, 2, 3, 4, 5, 6, 7, 8, 9])\n",
      "Actual prediction Loss tensor(-0.3973)\n",
      "Predicted through Recurrent input tensor([0, 1, 2, 5, 4, 3, 6, 7, 8, 9])\n",
      "Prediction using External drive tensor([0, 1, 2, 5, 4, 3, 6, 7, 8, 9])\n",
      "Actual prediction Loss tensor(-0.4964)\n",
      "Predicted through Recurrent input tensor([0, 1, 2, 3, 4, 5, 6, 7, 8, 3])\n",
      "Prediction using External drive tensor([0, 1, 2, 3, 4, 5, 6, 7, 8, 9])\n",
      "Actual prediction Loss tensor(-0.6020)\n"
     ]
    },
    {
     "name": "stderr",
     "output_type": "stream",
     "text": [
      " 15%|███████████▏                                                                | 2928/20000 [00:09<00:44, 387.80it/s]"
     ]
    },
    {
     "name": "stdout",
     "output_type": "stream",
     "text": [
      "Predicted through Recurrent input tensor([4, 1, 2, 0, 1, 2, 3, 7, 8, 9])\n",
      "Prediction using External drive tensor([0, 1, 2, 0, 1, 5, 6, 7, 8, 9])\n",
      "Actual prediction Loss tensor(-0.4731)\n",
      "Predicted through Recurrent input tensor([0, 1, 2, 3, 4, 5, 6, 7, 8, 9])\n",
      "Prediction using External drive tensor([0, 1, 2, 3, 4, 5, 6, 7, 8, 9])\n",
      "Actual prediction Loss tensor(-0.6864)\n",
      "Predicted through Recurrent input tensor([0, 1, 2, 3, 4, 5, 6, 7, 8, 9])\n",
      "Prediction using External drive tensor([0, 1, 2, 3, 4, 5, 6, 7, 8, 9])\n",
      "Actual prediction Loss tensor(-0.5509)\n",
      "Predicted through Recurrent input tensor([0, 1, 2, 3, 4, 3, 3, 7, 8, 9])\n",
      "Prediction using External drive tensor([0, 1, 2, 3, 4, 5, 6, 7, 8, 9])\n",
      "Actual prediction Loss tensor(-0.5199)\n"
     ]
    },
    {
     "name": "stderr",
     "output_type": "stream",
     "text": [
      " 15%|███████████▎                                                                | 2967/20000 [00:09<00:44, 382.74it/s]"
     ]
    },
    {
     "name": "stdout",
     "output_type": "stream",
     "text": [
      "Predicted through Recurrent input tensor([0, 1, 2, 3, 4, 5, 6, 7, 8, 9])\n",
      "Prediction using External drive tensor([0, 1, 2, 3, 4, 5, 6, 7, 8, 9])\n",
      "Actual prediction Loss tensor(-0.7294)\n",
      "Predicted through Recurrent input tensor([0, 1, 2, 3, 4, 5, 6, 7, 8, 9])\n",
      "Prediction using External drive tensor([0, 1, 2, 3, 4, 5, 6, 7, 8, 9])\n",
      "Actual prediction Loss tensor(-0.7081)\n",
      "Predicted through Recurrent input tensor([9, 1, 2, 2, 4, 5, 6, 7, 0, 1])\n",
      "Prediction using External drive tensor([9, 1, 2, 3, 4, 5, 6, 7, 8, 9])\n",
      "Actual prediction Loss tensor(-0.4072)\n",
      "Predicted through Recurrent input tensor([0, 1, 2, 5, 4, 3, 6, 7, 8, 9])\n",
      "Prediction using External drive tensor([0, 1, 2, 5, 4, 3, 6, 7, 8, 9])\n",
      "Actual prediction Loss tensor(-0.5081)\n"
     ]
    },
    {
     "name": "stderr",
     "output_type": "stream",
     "text": [
      " 15%|███████████▍                                                                | 3006/20000 [00:09<00:44, 382.63it/s]"
     ]
    },
    {
     "name": "stdout",
     "output_type": "stream",
     "text": [
      "Predicted through Recurrent input tensor([0, 1, 2, 3, 4, 5, 6, 7, 8, 3])\n",
      "Prediction using External drive tensor([0, 1, 2, 3, 4, 5, 6, 7, 8, 9])\n",
      "Actual prediction Loss tensor(-0.6151)\n",
      "Predicted through Recurrent input tensor([4, 1, 2, 0, 1, 2, 3, 7, 8, 9])\n",
      "Prediction using External drive tensor([0, 1, 2, 0, 1, 5, 6, 7, 8, 9])\n",
      "Actual prediction Loss tensor(-0.4812)\n",
      "Predicted through Recurrent input tensor([0, 1, 2, 3, 4, 5, 6, 7, 8, 9])\n",
      "Prediction using External drive tensor([0, 1, 2, 3, 4, 5, 6, 7, 8, 9])\n",
      "Actual prediction Loss tensor(-0.6985)\n",
      "Predicted through Recurrent input tensor([0, 1, 2, 3, 4, 5, 6, 7, 8, 9])\n",
      "Prediction using External drive tensor([0, 1, 2, 3, 4, 5, 6, 7, 8, 9])\n",
      "Actual prediction Loss tensor(-0.5624)\n"
     ]
    },
    {
     "name": "stderr",
     "output_type": "stream",
     "text": [
      " 15%|███████████▌                                                                | 3045/20000 [00:09<00:44, 383.67it/s]"
     ]
    },
    {
     "name": "stdout",
     "output_type": "stream",
     "text": [
      "Predicted through Recurrent input tensor([0, 1, 2, 3, 4, 3, 3, 7, 8, 9])\n",
      "Prediction using External drive tensor([0, 1, 2, 3, 4, 5, 6, 7, 8, 9])\n",
      "Actual prediction Loss tensor(-0.5322)\n",
      "Predicted through Recurrent input tensor([0, 1, 2, 3, 4, 5, 6, 7, 8, 9])\n",
      "Prediction using External drive tensor([0, 1, 2, 3, 4, 5, 6, 7, 8, 9])\n",
      "Actual prediction Loss tensor(-0.7401)\n",
      "Predicted through Recurrent input tensor([0, 1, 2, 3, 4, 5, 6, 7, 8, 9])\n",
      "Prediction using External drive tensor([0, 1, 2, 3, 4, 5, 6, 7, 8, 9])\n",
      "Actual prediction Loss tensor(-0.7192)\n",
      "Predicted through Recurrent input tensor([9, 1, 2, 2, 4, 5, 6, 7, 0, 1])\n",
      "Prediction using External drive tensor([9, 1, 2, 3, 4, 5, 6, 7, 8, 9])\n",
      "Actual prediction Loss tensor(-0.4170)\n"
     ]
    },
    {
     "name": "stderr",
     "output_type": "stream",
     "text": [
      " 15%|███████████▋                                                                | 3085/20000 [00:09<00:43, 387.30it/s]"
     ]
    },
    {
     "name": "stdout",
     "output_type": "stream",
     "text": [
      "Predicted through Recurrent input tensor([0, 1, 2, 5, 4, 3, 6, 7, 8, 9])\n",
      "Prediction using External drive tensor([0, 1, 2, 5, 4, 3, 6, 7, 8, 9])\n",
      "Actual prediction Loss tensor(-0.5196)\n",
      "Predicted through Recurrent input tensor([0, 1, 2, 3, 4, 5, 6, 7, 8, 3])\n",
      "Prediction using External drive tensor([0, 1, 2, 3, 4, 5, 6, 7, 8, 9])\n",
      "Actual prediction Loss tensor(-0.6278)\n",
      "Predicted through Recurrent input tensor([4, 1, 2, 0, 1, 2, 3, 7, 8, 9])\n",
      "Prediction using External drive tensor([0, 1, 2, 0, 1, 5, 6, 7, 8, 9])\n",
      "Actual prediction Loss tensor(-0.4891)\n",
      "Predicted through Recurrent input tensor([0, 1, 2, 3, 4, 5, 6, 7, 8, 9])\n",
      "Prediction using External drive tensor([0, 1, 2, 3, 4, 5, 6, 7, 8, 9])\n",
      "Actual prediction Loss tensor(-0.7100)\n"
     ]
    },
    {
     "name": "stderr",
     "output_type": "stream",
     "text": [
      " 16%|███████████▉                                                                | 3127/20000 [00:09<00:42, 395.44it/s]"
     ]
    },
    {
     "name": "stdout",
     "output_type": "stream",
     "text": [
      "Predicted through Recurrent input tensor([0, 1, 2, 3, 4, 5, 6, 7, 8, 9])\n",
      "Prediction using External drive tensor([0, 1, 2, 3, 4, 5, 6, 7, 8, 9])\n",
      "Actual prediction Loss tensor(-0.5736)\n",
      "Predicted through Recurrent input tensor([0, 1, 2, 3, 4, 3, 3, 7, 8, 9])\n",
      "Prediction using External drive tensor([0, 1, 2, 3, 4, 5, 6, 7, 8, 9])\n",
      "Actual prediction Loss tensor(-0.5442)\n",
      "Predicted through Recurrent input tensor([0, 1, 2, 3, 4, 5, 6, 7, 8, 9])\n",
      "Prediction using External drive tensor([0, 1, 2, 3, 4, 5, 6, 7, 8, 9])\n",
      "Actual prediction Loss tensor(-0.7502)\n",
      "Predicted through Recurrent input tensor([0, 1, 2, 3, 4, 5, 6, 7, 8, 9])\n",
      "Prediction using External drive tensor([0, 1, 2, 3, 4, 5, 6, 7, 8, 9])\n",
      "Actual prediction Loss tensor(-0.7297)\n"
     ]
    },
    {
     "name": "stderr",
     "output_type": "stream",
     "text": [
      " 16%|████████████                                                                | 3167/20000 [00:09<00:43, 390.98it/s]"
     ]
    },
    {
     "name": "stdout",
     "output_type": "stream",
     "text": [
      "Predicted through Recurrent input tensor([9, 1, 2, 2, 4, 5, 6, 7, 0, 1])\n",
      "Prediction using External drive tensor([9, 1, 2, 3, 4, 5, 6, 7, 8, 9])\n",
      "Actual prediction Loss tensor(-0.4268)\n",
      "Predicted through Recurrent input tensor([0, 1, 2, 5, 4, 3, 6, 7, 8, 9])\n",
      "Prediction using External drive tensor([0, 1, 2, 5, 4, 3, 6, 7, 8, 9])\n",
      "Actual prediction Loss tensor(-0.5307)\n",
      "Predicted through Recurrent input tensor([0, 1, 2, 3, 4, 5, 6, 7, 8, 3])\n",
      "Prediction using External drive tensor([0, 1, 2, 3, 4, 5, 6, 7, 8, 9])\n",
      "Actual prediction Loss tensor(-0.6400)\n",
      "Predicted through Recurrent input tensor([4, 1, 2, 0, 1, 2, 3, 7, 8, 9])\n",
      "Prediction using External drive tensor([0, 1, 2, 0, 1, 5, 6, 7, 8, 9])\n",
      "Actual prediction Loss tensor(-0.4969)\n"
     ]
    },
    {
     "name": "stderr",
     "output_type": "stream",
     "text": [
      " 16%|████████████▏                                                               | 3207/20000 [00:10<00:43, 389.05it/s]"
     ]
    },
    {
     "name": "stdout",
     "output_type": "stream",
     "text": [
      "Predicted through Recurrent input tensor([0, 1, 2, 3, 4, 5, 6, 7, 8, 9])\n",
      "Prediction using External drive tensor([0, 1, 2, 3, 4, 5, 6, 7, 8, 9])\n",
      "Actual prediction Loss tensor(-0.7209)\n",
      "Predicted through Recurrent input tensor([0, 1, 2, 3, 4, 5, 6, 7, 8, 9])\n",
      "Prediction using External drive tensor([0, 1, 2, 3, 4, 5, 6, 7, 8, 9])\n",
      "Actual prediction Loss tensor(-0.5844)\n",
      "Predicted through Recurrent input tensor([0, 1, 2, 3, 4, 3, 3, 7, 8, 9])\n",
      "Prediction using External drive tensor([0, 1, 2, 3, 4, 5, 6, 7, 8, 9])\n",
      "Actual prediction Loss tensor(-0.5558)\n",
      "Predicted through Recurrent input tensor([0, 1, 2, 3, 4, 5, 6, 7, 8, 9])\n",
      "Prediction using External drive tensor([0, 1, 2, 3, 4, 5, 6, 7, 8, 9])\n",
      "Actual prediction Loss tensor(-0.7597)\n"
     ]
    },
    {
     "name": "stderr",
     "output_type": "stream",
     "text": [
      " 16%|████████████▎                                                               | 3246/20000 [00:10<00:43, 388.17it/s]"
     ]
    },
    {
     "name": "stdout",
     "output_type": "stream",
     "text": [
      "Predicted through Recurrent input tensor([0, 1, 2, 3, 4, 5, 6, 7, 8, 9])\n",
      "Prediction using External drive tensor([0, 1, 2, 3, 4, 5, 6, 7, 8, 9])\n",
      "Actual prediction Loss tensor(-0.7397)\n",
      "Predicted through Recurrent input tensor([9, 1, 2, 2, 4, 5, 6, 7, 0, 1])\n",
      "Prediction using External drive tensor([9, 1, 2, 3, 4, 5, 6, 7, 8, 9])\n",
      "Actual prediction Loss tensor(-0.4365)\n",
      "Predicted through Recurrent input tensor([0, 1, 2, 5, 4, 3, 6, 7, 8, 9])\n",
      "Prediction using External drive tensor([0, 1, 2, 5, 4, 3, 6, 7, 8, 9])\n",
      "Actual prediction Loss tensor(-0.5416)\n",
      "Predicted through Recurrent input tensor([0, 1, 2, 3, 4, 5, 6, 7, 8, 3])\n",
      "Prediction using External drive tensor([0, 1, 2, 3, 4, 5, 6, 7, 8, 9])\n",
      "Actual prediction Loss tensor(-0.6517)\n"
     ]
    },
    {
     "name": "stderr",
     "output_type": "stream",
     "text": [
      " 16%|████████████▍                                                               | 3289/20000 [00:10<00:41, 398.73it/s]"
     ]
    },
    {
     "name": "stdout",
     "output_type": "stream",
     "text": [
      "Predicted through Recurrent input tensor([4, 1, 2, 0, 1, 2, 3, 7, 8, 9])\n",
      "Prediction using External drive tensor([0, 1, 2, 0, 1, 5, 6, 7, 8, 9])\n",
      "Actual prediction Loss tensor(-0.5044)\n",
      "Predicted through Recurrent input tensor([0, 1, 2, 3, 4, 5, 6, 7, 8, 9])\n",
      "Prediction using External drive tensor([0, 1, 2, 3, 4, 5, 6, 7, 8, 9])\n",
      "Actual prediction Loss tensor(-0.7312)\n",
      "Predicted through Recurrent input tensor([0, 1, 2, 3, 4, 5, 6, 7, 8, 9])\n",
      "Prediction using External drive tensor([0, 1, 2, 3, 4, 5, 6, 7, 8, 9])\n",
      "Actual prediction Loss tensor(-0.5948)\n",
      "Predicted through Recurrent input tensor([0, 1, 2, 3, 4, 3, 6, 7, 8, 9])\n",
      "Prediction using External drive tensor([0, 1, 2, 3, 4, 5, 6, 7, 8, 9])\n",
      "Actual prediction Loss tensor(-0.5671)\n"
     ]
    },
    {
     "name": "stderr",
     "output_type": "stream",
     "text": [
      " 17%|████████████▋                                                               | 3329/20000 [00:10<00:42, 394.39it/s]"
     ]
    },
    {
     "name": "stdout",
     "output_type": "stream",
     "text": [
      "Predicted through Recurrent input tensor([0, 1, 2, 3, 4, 5, 6, 7, 8, 9])\n",
      "Prediction using External drive tensor([0, 1, 2, 3, 4, 5, 6, 7, 8, 9])\n",
      "Actual prediction Loss tensor(-0.7687)\n",
      "Predicted through Recurrent input tensor([0, 1, 2, 3, 4, 5, 6, 7, 8, 9])\n",
      "Prediction using External drive tensor([0, 1, 2, 3, 4, 5, 6, 7, 8, 9])\n",
      "Actual prediction Loss tensor(-0.7492)\n",
      "Predicted through Recurrent input tensor([9, 1, 2, 2, 4, 5, 6, 7, 0, 1])\n",
      "Prediction using External drive tensor([9, 1, 2, 3, 4, 5, 6, 7, 8, 9])\n",
      "Actual prediction Loss tensor(-0.4461)\n",
      "Predicted through Recurrent input tensor([0, 1, 2, 5, 4, 3, 6, 7, 8, 9])\n",
      "Prediction using External drive tensor([0, 1, 2, 5, 4, 3, 6, 7, 8, 9])\n",
      "Actual prediction Loss tensor(-0.5523)\n",
      "Predicted through Recurrent input tensor([0, 1, 2, 3, 4, 5, 6, 7, 8, 3])\n",
      "Prediction using External drive tensor([0, 1, 2, 3, 4, 5, 6, 7, 8, 9])\n",
      "Actual prediction Loss tensor(-0.6630)\n"
     ]
    },
    {
     "name": "stderr",
     "output_type": "stream",
     "text": [
      " 17%|████████████▊                                                               | 3370/20000 [00:10<00:42, 388.73it/s]"
     ]
    },
    {
     "name": "stdout",
     "output_type": "stream",
     "text": [
      "Predicted through Recurrent input tensor([4, 1, 2, 0, 1, 2, 3, 7, 8, 9])\n",
      "Prediction using External drive tensor([0, 1, 2, 0, 1, 5, 6, 7, 8, 9])\n",
      "Actual prediction Loss tensor(-0.5118)\n",
      "Predicted through Recurrent input tensor([0, 1, 2, 3, 4, 5, 6, 7, 8, 9])\n",
      "Prediction using External drive tensor([0, 1, 2, 3, 4, 5, 6, 7, 8, 9])\n",
      "Actual prediction Loss tensor(-0.7409)\n",
      "Predicted through Recurrent input tensor([0, 1, 2, 3, 4, 5, 6, 7, 8, 9])\n",
      "Prediction using External drive tensor([0, 1, 2, 3, 4, 5, 6, 7, 8, 9])\n",
      "Actual prediction Loss tensor(-0.6048)\n",
      "Predicted through Recurrent input tensor([0, 1, 2, 3, 4, 3, 6, 7, 8, 9])\n",
      "Prediction using External drive tensor([0, 1, 2, 3, 4, 5, 6, 7, 8, 9])\n",
      "Actual prediction Loss tensor(-0.5781)\n"
     ]
    },
    {
     "name": "stderr",
     "output_type": "stream",
     "text": [
      " 17%|████████████▉                                                               | 3410/20000 [00:10<00:42, 388.62it/s]"
     ]
    },
    {
     "name": "stdout",
     "output_type": "stream",
     "text": [
      "Predicted through Recurrent input tensor([0, 1, 2, 3, 4, 5, 6, 7, 8, 9])\n",
      "Prediction using External drive tensor([0, 1, 2, 3, 4, 5, 6, 7, 8, 9])\n",
      "Actual prediction Loss tensor(-0.7772)\n",
      "Predicted through Recurrent input tensor([0, 1, 2, 3, 4, 5, 6, 7, 8, 9])\n",
      "Prediction using External drive tensor([0, 1, 2, 3, 4, 5, 6, 7, 8, 9])\n",
      "Actual prediction Loss tensor(-0.7581)\n",
      "Predicted through Recurrent input tensor([9, 1, 2, 3, 4, 5, 6, 7, 0, 1])\n",
      "Prediction using External drive tensor([9, 1, 2, 3, 4, 5, 6, 7, 8, 9])\n",
      "Actual prediction Loss tensor(-0.4556)\n",
      "Predicted through Recurrent input tensor([0, 1, 2, 5, 4, 3, 6, 7, 8, 9])\n",
      "Prediction using External drive tensor([0, 1, 2, 5, 4, 3, 6, 7, 8, 9])\n",
      "Actual prediction Loss tensor(-0.5627)\n"
     ]
    },
    {
     "name": "stderr",
     "output_type": "stream",
     "text": [
      " 17%|█████████████                                                               | 3450/20000 [00:10<00:43, 384.06it/s]"
     ]
    },
    {
     "name": "stdout",
     "output_type": "stream",
     "text": [
      "Predicted through Recurrent input tensor([0, 1, 2, 3, 4, 5, 6, 7, 8, 3])\n",
      "Prediction using External drive tensor([0, 1, 2, 3, 4, 5, 6, 7, 8, 9])\n",
      "Actual prediction Loss tensor(-0.6739)\n",
      "Predicted through Recurrent input tensor([4, 1, 2, 0, 1, 2, 3, 7, 8, 9])\n",
      "Prediction using External drive tensor([0, 1, 2, 0, 1, 5, 6, 7, 8, 9])\n",
      "Actual prediction Loss tensor(-0.5191)\n",
      "Predicted through Recurrent input tensor([0, 1, 2, 3, 4, 5, 6, 7, 8, 9])\n",
      "Prediction using External drive tensor([0, 1, 2, 3, 4, 5, 6, 7, 8, 9])\n",
      "Actual prediction Loss tensor(-0.7502)\n",
      "Predicted through Recurrent input tensor([0, 1, 2, 3, 4, 5, 6, 7, 8, 9])\n",
      "Prediction using External drive tensor([0, 1, 2, 3, 4, 5, 6, 7, 8, 9])\n",
      "Actual prediction Loss tensor(-0.6146)\n"
     ]
    },
    {
     "name": "stderr",
     "output_type": "stream",
     "text": [
      " 17%|█████████████▎                                                              | 3490/20000 [00:10<00:42, 385.34it/s]"
     ]
    },
    {
     "name": "stdout",
     "output_type": "stream",
     "text": [
      "Predicted through Recurrent input tensor([0, 1, 2, 3, 4, 3, 6, 7, 8, 9])\n",
      "Prediction using External drive tensor([0, 1, 2, 3, 4, 5, 6, 7, 8, 9])\n",
      "Actual prediction Loss tensor(-0.5887)\n",
      "Predicted through Recurrent input tensor([0, 1, 2, 3, 4, 5, 6, 7, 8, 9])\n",
      "Prediction using External drive tensor([0, 1, 2, 3, 4, 5, 6, 7, 8, 9])\n",
      "Actual prediction Loss tensor(-0.7852)\n",
      "Predicted through Recurrent input tensor([0, 1, 2, 3, 4, 5, 6, 7, 8, 9])\n",
      "Prediction using External drive tensor([0, 1, 2, 3, 4, 5, 6, 7, 8, 9])\n",
      "Actual prediction Loss tensor(-0.7667)\n",
      "Predicted through Recurrent input tensor([9, 1, 2, 3, 4, 5, 6, 7, 0, 1])\n",
      "Prediction using External drive tensor([9, 1, 2, 3, 4, 5, 6, 7, 8, 9])\n",
      "Actual prediction Loss tensor(-0.4651)\n"
     ]
    },
    {
     "name": "stderr",
     "output_type": "stream",
     "text": [
      " 18%|█████████████▍                                                              | 3530/20000 [00:10<00:42, 388.49it/s]"
     ]
    },
    {
     "name": "stdout",
     "output_type": "stream",
     "text": [
      "Predicted through Recurrent input tensor([0, 1, 2, 5, 4, 3, 6, 7, 8, 9])\n",
      "Prediction using External drive tensor([0, 1, 2, 5, 4, 3, 6, 7, 8, 9])\n",
      "Actual prediction Loss tensor(-0.5728)\n",
      "Predicted through Recurrent input tensor([0, 1, 2, 3, 4, 5, 6, 7, 8, 3])\n",
      "Prediction using External drive tensor([0, 1, 2, 3, 4, 5, 6, 7, 8, 9])\n",
      "Actual prediction Loss tensor(-0.6843)\n",
      "Predicted through Recurrent input tensor([4, 1, 2, 0, 1, 2, 3, 7, 8, 9])\n",
      "Prediction using External drive tensor([0, 1, 2, 0, 4, 5, 6, 7, 8, 9])\n",
      "Actual prediction Loss tensor(-0.5262)\n",
      "Predicted through Recurrent input tensor([0, 1, 2, 3, 4, 5, 6, 7, 8, 9])\n",
      "Prediction using External drive tensor([0, 1, 2, 3, 4, 5, 6, 7, 8, 9])\n",
      "Actual prediction Loss tensor(-0.7590)\n"
     ]
    },
    {
     "name": "stderr",
     "output_type": "stream",
     "text": [
      " 18%|█████████████▌                                                              | 3570/20000 [00:10<00:42, 388.45it/s]"
     ]
    },
    {
     "name": "stdout",
     "output_type": "stream",
     "text": [
      "Predicted through Recurrent input tensor([0, 1, 2, 3, 4, 5, 6, 7, 8, 9])\n",
      "Prediction using External drive tensor([0, 1, 2, 3, 4, 5, 6, 7, 8, 9])\n",
      "Actual prediction Loss tensor(-0.6239)\n",
      "Predicted through Recurrent input tensor([0, 1, 2, 3, 4, 3, 6, 7, 8, 9])\n",
      "Prediction using External drive tensor([0, 1, 2, 3, 4, 5, 6, 7, 8, 9])\n",
      "Actual prediction Loss tensor(-0.5991)\n",
      "Predicted through Recurrent input tensor([0, 1, 2, 3, 4, 5, 6, 7, 8, 9])\n",
      "Prediction using External drive tensor([0, 1, 2, 3, 4, 5, 6, 7, 8, 9])\n",
      "Actual prediction Loss tensor(-0.7928)\n",
      "Predicted through Recurrent input tensor([0, 1, 2, 3, 4, 5, 6, 7, 8, 9])\n",
      "Prediction using External drive tensor([0, 1, 2, 3, 4, 5, 6, 7, 8, 9])\n",
      "Actual prediction Loss tensor(-0.7747)\n"
     ]
    },
    {
     "name": "stderr",
     "output_type": "stream",
     "text": [
      " 18%|█████████████▋                                                              | 3610/20000 [00:11<00:42, 388.42it/s]"
     ]
    },
    {
     "name": "stdout",
     "output_type": "stream",
     "text": [
      "Predicted through Recurrent input tensor([9, 1, 2, 3, 4, 5, 6, 7, 0, 1])\n",
      "Prediction using External drive tensor([9, 1, 2, 3, 4, 5, 6, 7, 8, 9])\n",
      "Actual prediction Loss tensor(-0.4745)\n",
      "Predicted through Recurrent input tensor([0, 1, 2, 5, 4, 3, 6, 7, 8, 9])\n",
      "Prediction using External drive tensor([0, 1, 2, 5, 4, 3, 6, 7, 8, 9])\n",
      "Actual prediction Loss tensor(-0.5828)\n",
      "Predicted through Recurrent input tensor([0, 1, 2, 3, 4, 5, 6, 7, 8, 3])\n",
      "Prediction using External drive tensor([0, 1, 2, 3, 4, 5, 6, 7, 8, 9])\n",
      "Actual prediction Loss tensor(-0.6943)\n",
      "Predicted through Recurrent input tensor([4, 1, 2, 0, 1, 2, 3, 7, 8, 9])\n",
      "Prediction using External drive tensor([0, 1, 2, 0, 4, 5, 6, 7, 8, 9])\n",
      "Actual prediction Loss tensor(-0.5332)\n"
     ]
    },
    {
     "name": "stderr",
     "output_type": "stream",
     "text": [
      " 18%|█████████████▊                                                              | 3650/20000 [00:11<00:42, 388.40it/s]"
     ]
    },
    {
     "name": "stdout",
     "output_type": "stream",
     "text": [
      "Predicted through Recurrent input tensor([0, 1, 2, 3, 4, 5, 6, 7, 8, 9])\n",
      "Prediction using External drive tensor([0, 1, 2, 3, 4, 5, 6, 7, 8, 9])\n",
      "Actual prediction Loss tensor(-0.7673)\n",
      "Predicted through Recurrent input tensor([0, 1, 2, 3, 4, 5, 6, 7, 8, 9])\n",
      "Prediction using External drive tensor([0, 1, 2, 3, 4, 5, 6, 7, 8, 9])\n",
      "Actual prediction Loss tensor(-0.6330)\n",
      "Predicted through Recurrent input tensor([0, 1, 2, 3, 4, 3, 6, 7, 8, 9])\n",
      "Prediction using External drive tensor([0, 1, 2, 3, 4, 5, 6, 7, 8, 9])\n",
      "Actual prediction Loss tensor(-0.6092)\n",
      "Predicted through Recurrent input tensor([0, 1, 2, 3, 4, 5, 6, 7, 8, 9])\n",
      "Prediction using External drive tensor([0, 1, 2, 3, 4, 5, 6, 7, 8, 9])\n",
      "Actual prediction Loss tensor(-0.8000)\n"
     ]
    },
    {
     "name": "stderr",
     "output_type": "stream",
     "text": [
      " 18%|██████████████                                                              | 3690/20000 [00:11<00:42, 387.26it/s]"
     ]
    },
    {
     "name": "stdout",
     "output_type": "stream",
     "text": [
      "Predicted through Recurrent input tensor([0, 1, 2, 3, 4, 5, 6, 7, 8, 9])\n",
      "Prediction using External drive tensor([0, 1, 2, 3, 4, 5, 6, 7, 8, 9])\n",
      "Actual prediction Loss tensor(-0.7824)\n",
      "Predicted through Recurrent input tensor([9, 1, 2, 3, 4, 5, 6, 7, 8, 1])\n",
      "Prediction using External drive tensor([0, 1, 2, 3, 4, 5, 6, 7, 8, 9])\n",
      "Actual prediction Loss tensor(-0.4838)\n",
      "Predicted through Recurrent input tensor([0, 1, 2, 5, 4, 3, 6, 7, 8, 9])\n",
      "Prediction using External drive tensor([0, 1, 2, 5, 4, 3, 6, 7, 8, 9])\n",
      "Actual prediction Loss tensor(-0.5925)\n",
      "Predicted through Recurrent input tensor([0, 1, 2, 3, 4, 5, 6, 7, 8, 3])\n",
      "Prediction using External drive tensor([0, 1, 2, 3, 4, 5, 6, 7, 8, 9])\n",
      "Actual prediction Loss tensor(-0.7040)\n"
     ]
    },
    {
     "name": "stderr",
     "output_type": "stream",
     "text": [
      " 19%|██████████████▏                                                             | 3730/20000 [00:11<00:42, 385.34it/s]"
     ]
    },
    {
     "name": "stdout",
     "output_type": "stream",
     "text": [
      "Predicted through Recurrent input tensor([4, 1, 2, 0, 1, 2, 3, 7, 8, 9])\n",
      "Prediction using External drive tensor([0, 1, 2, 0, 4, 5, 6, 7, 8, 9])\n",
      "Actual prediction Loss tensor(-0.5401)\n",
      "Predicted through Recurrent input tensor([0, 1, 2, 3, 4, 5, 6, 7, 8, 9])\n",
      "Prediction using External drive tensor([0, 1, 2, 3, 4, 5, 6, 7, 8, 9])\n",
      "Actual prediction Loss tensor(-0.7752)\n",
      "Predicted through Recurrent input tensor([0, 1, 2, 3, 4, 5, 6, 7, 8, 9])\n",
      "Prediction using External drive tensor([0, 1, 2, 3, 4, 5, 6, 7, 8, 9])\n",
      "Actual prediction Loss tensor(-0.6418)\n",
      "Predicted through Recurrent input tensor([0, 1, 2, 3, 4, 5, 6, 7, 8, 9])\n",
      "Prediction using External drive tensor([0, 1, 2, 3, 4, 5, 6, 7, 8, 9])\n",
      "Actual prediction Loss tensor(-0.6190)\n"
     ]
    },
    {
     "name": "stderr",
     "output_type": "stream",
     "text": [
      " 19%|██████████████▎                                                             | 3770/20000 [00:11<00:42, 381.82it/s]"
     ]
    },
    {
     "name": "stdout",
     "output_type": "stream",
     "text": [
      "Predicted through Recurrent input tensor([0, 1, 2, 3, 4, 5, 6, 7, 8, 9])\n",
      "Prediction using External drive tensor([0, 1, 2, 3, 4, 5, 6, 7, 8, 9])\n",
      "Actual prediction Loss tensor(-0.8068)\n",
      "Predicted through Recurrent input tensor([0, 1, 2, 3, 4, 5, 6, 7, 8, 9])\n",
      "Prediction using External drive tensor([0, 1, 2, 3, 4, 5, 6, 7, 8, 9])\n",
      "Actual prediction Loss tensor(-0.7897)\n",
      "Predicted through Recurrent input tensor([9, 1, 2, 3, 4, 5, 6, 7, 8, 1])\n",
      "Prediction using External drive tensor([0, 1, 2, 3, 4, 5, 6, 7, 8, 9])\n",
      "Actual prediction Loss tensor(-0.4930)\n",
      "Predicted through Recurrent input tensor([0, 1, 2, 5, 4, 3, 6, 7, 8, 9])\n",
      "Prediction using External drive tensor([0, 1, 2, 5, 4, 5, 6, 7, 8, 9])\n",
      "Actual prediction Loss tensor(-0.6021)\n"
     ]
    },
    {
     "name": "stderr",
     "output_type": "stream",
     "text": [
      " 19%|██████████████▍                                                             | 3810/20000 [00:11<00:42, 381.56it/s]"
     ]
    },
    {
     "name": "stdout",
     "output_type": "stream",
     "text": [
      "Predicted through Recurrent input tensor([0, 1, 2, 3, 4, 5, 6, 7, 8, 3])\n",
      "Prediction using External drive tensor([0, 1, 2, 3, 4, 5, 6, 7, 8, 9])\n",
      "Actual prediction Loss tensor(-0.7132)\n",
      "Predicted through Recurrent input tensor([4, 1, 2, 0, 1, 5, 3, 7, 8, 9])\n",
      "Prediction using External drive tensor([0, 1, 2, 0, 4, 5, 6, 7, 8, 9])\n",
      "Actual prediction Loss tensor(-0.5468)\n",
      "Predicted through Recurrent input tensor([0, 1, 2, 3, 4, 5, 6, 7, 8, 9])\n",
      "Prediction using External drive tensor([0, 1, 2, 3, 4, 5, 6, 7, 8, 9])\n",
      "Actual prediction Loss tensor(-0.7827)\n",
      "Predicted through Recurrent input tensor([0, 1, 2, 3, 4, 5, 6, 7, 8, 9])\n",
      "Prediction using External drive tensor([0, 1, 2, 3, 4, 5, 6, 7, 8, 9])\n",
      "Actual prediction Loss tensor(-0.6502)\n"
     ]
    },
    {
     "name": "stderr",
     "output_type": "stream",
     "text": [
      " 19%|██████████████▋                                                             | 3850/20000 [00:11<00:42, 383.57it/s]"
     ]
    },
    {
     "name": "stdout",
     "output_type": "stream",
     "text": [
      "Predicted through Recurrent input tensor([0, 1, 2, 3, 4, 5, 6, 7, 8, 9])\n",
      "Prediction using External drive tensor([0, 1, 2, 3, 4, 5, 6, 7, 8, 9])\n",
      "Actual prediction Loss tensor(-0.6285)\n",
      "Predicted through Recurrent input tensor([0, 1, 2, 3, 4, 5, 6, 7, 8, 9])\n",
      "Prediction using External drive tensor([0, 1, 2, 3, 4, 5, 6, 7, 8, 9])\n",
      "Actual prediction Loss tensor(-0.8132)\n",
      "Predicted through Recurrent input tensor([0, 1, 2, 3, 4, 5, 6, 7, 8, 9])\n",
      "Prediction using External drive tensor([0, 1, 2, 3, 4, 5, 6, 7, 8, 9])\n",
      "Actual prediction Loss tensor(-0.7967)\n",
      "Predicted through Recurrent input tensor([9, 1, 2, 3, 4, 5, 6, 7, 8, 1])\n",
      "Prediction using External drive tensor([0, 1, 2, 3, 4, 5, 6, 7, 8, 9])\n",
      "Actual prediction Loss tensor(-0.5021)\n"
     ]
    },
    {
     "name": "stderr",
     "output_type": "stream",
     "text": [
      " 19%|██████████████▊                                                             | 3890/20000 [00:11<00:41, 384.99it/s]"
     ]
    },
    {
     "name": "stdout",
     "output_type": "stream",
     "text": [
      "Predicted through Recurrent input tensor([0, 1, 2, 5, 4, 3, 6, 7, 8, 9])\n",
      "Prediction using External drive tensor([0, 1, 2, 5, 4, 5, 6, 7, 8, 9])\n",
      "Actual prediction Loss tensor(-0.6114)\n",
      "Predicted through Recurrent input tensor([0, 1, 2, 3, 4, 5, 6, 7, 8, 3])\n",
      "Prediction using External drive tensor([0, 1, 2, 3, 4, 5, 6, 7, 8, 9])\n",
      "Actual prediction Loss tensor(-0.7221)\n",
      "Predicted through Recurrent input tensor([4, 1, 2, 0, 1, 5, 3, 7, 8, 9])\n",
      "Prediction using External drive tensor([0, 1, 2, 0, 4, 5, 6, 7, 8, 9])\n",
      "Actual prediction Loss tensor(-0.5535)\n",
      "Predicted through Recurrent input tensor([0, 1, 2, 3, 4, 5, 6, 7, 8, 9])\n",
      "Prediction using External drive tensor([0, 1, 2, 3, 4, 5, 6, 7, 8, 9])\n",
      "Actual prediction Loss tensor(-0.7898)\n"
     ]
    },
    {
     "name": "stderr",
     "output_type": "stream",
     "text": [
      " 20%|██████████████▉                                                             | 3930/20000 [00:11<00:41, 384.88it/s]"
     ]
    },
    {
     "name": "stdout",
     "output_type": "stream",
     "text": [
      "Predicted through Recurrent input tensor([0, 1, 2, 3, 4, 5, 6, 7, 8, 9])\n",
      "Prediction using External drive tensor([0, 1, 2, 3, 4, 5, 6, 7, 8, 9])\n",
      "Actual prediction Loss tensor(-0.6584)\n",
      "Predicted through Recurrent input tensor([0, 1, 2, 3, 4, 5, 6, 7, 8, 9])\n",
      "Prediction using External drive tensor([0, 1, 2, 3, 4, 5, 6, 7, 8, 9])\n",
      "Actual prediction Loss tensor(-0.6378)\n",
      "Predicted through Recurrent input tensor([0, 1, 2, 3, 4, 5, 6, 7, 8, 9])\n",
      "Prediction using External drive tensor([0, 1, 2, 3, 4, 5, 6, 7, 8, 9])\n",
      "Actual prediction Loss tensor(-0.8194)\n",
      "Predicted through Recurrent input tensor([0, 1, 2, 3, 4, 5, 6, 7, 8, 9])\n",
      "Prediction using External drive tensor([0, 1, 2, 3, 4, 5, 6, 7, 8, 9])\n",
      "Actual prediction Loss tensor(-0.8033)\n"
     ]
    },
    {
     "name": "stderr",
     "output_type": "stream",
     "text": [
      " 20%|███████████████                                                             | 3970/20000 [00:12<00:41, 385.91it/s]"
     ]
    },
    {
     "name": "stdout",
     "output_type": "stream",
     "text": [
      "Predicted through Recurrent input tensor([9, 1, 2, 3, 4, 5, 6, 7, 8, 1])\n",
      "Prediction using External drive tensor([0, 1, 2, 3, 4, 5, 6, 7, 8, 9])\n",
      "Actual prediction Loss tensor(-0.5111)\n",
      "Predicted through Recurrent input tensor([0, 1, 2, 5, 4, 3, 6, 7, 8, 9])\n",
      "Prediction using External drive tensor([0, 1, 2, 5, 4, 5, 6, 7, 8, 9])\n",
      "Actual prediction Loss tensor(-0.6205)\n",
      "Predicted through Recurrent input tensor([0, 1, 2, 3, 4, 5, 6, 7, 8, 3])\n",
      "Prediction using External drive tensor([0, 1, 2, 3, 4, 5, 6, 7, 8, 9])\n",
      "Actual prediction Loss tensor(-0.7306)\n",
      "Predicted through Recurrent input tensor([4, 1, 2, 0, 1, 5, 3, 7, 8, 9])\n",
      "Prediction using External drive tensor([0, 1, 2, 0, 4, 5, 6, 7, 8, 9])\n",
      "Actual prediction Loss tensor(-0.5600)\n"
     ]
    },
    {
     "name": "stderr",
     "output_type": "stream",
     "text": [
      " 20%|███████████████▏                                                            | 4010/20000 [00:12<00:41, 386.64it/s]"
     ]
    },
    {
     "name": "stdout",
     "output_type": "stream",
     "text": [
      "Predicted through Recurrent input tensor([0, 1, 2, 3, 4, 5, 6, 7, 8, 9])\n",
      "Prediction using External drive tensor([0, 1, 2, 3, 4, 5, 6, 7, 8, 9])\n",
      "Actual prediction Loss tensor(-0.7966)\n",
      "Predicted through Recurrent input tensor([0, 1, 2, 3, 4, 5, 6, 7, 8, 9])\n",
      "Prediction using External drive tensor([0, 1, 2, 3, 4, 5, 6, 7, 8, 9])\n",
      "Actual prediction Loss tensor(-0.6663)\n",
      "Predicted through Recurrent input tensor([0, 1, 2, 3, 4, 5, 6, 7, 8, 9])\n",
      "Prediction using External drive tensor([0, 1, 2, 3, 4, 5, 6, 7, 8, 9])\n",
      "Actual prediction Loss tensor(-0.6468)\n",
      "Predicted through Recurrent input tensor([0, 1, 2, 3, 4, 5, 6, 7, 8, 9])\n",
      "Prediction using External drive tensor([0, 1, 2, 3, 4, 5, 6, 7, 8, 9])\n",
      "Actual prediction Loss tensor(-0.8252)\n"
     ]
    },
    {
     "name": "stderr",
     "output_type": "stream",
     "text": [
      " 20%|███████████████▍                                                            | 4050/20000 [00:12<00:41, 387.15it/s]"
     ]
    },
    {
     "name": "stdout",
     "output_type": "stream",
     "text": [
      "Predicted through Recurrent input tensor([0, 1, 2, 3, 4, 5, 6, 7, 8, 9])\n",
      "Prediction using External drive tensor([0, 1, 2, 3, 4, 5, 6, 7, 8, 9])\n",
      "Actual prediction Loss tensor(-0.8096)\n",
      "Predicted through Recurrent input tensor([9, 1, 2, 3, 4, 5, 6, 7, 8, 1])\n",
      "Prediction using External drive tensor([0, 1, 2, 3, 4, 5, 6, 7, 8, 9])\n",
      "Actual prediction Loss tensor(-0.5200)\n",
      "Predicted through Recurrent input tensor([0, 1, 2, 5, 4, 3, 6, 7, 8, 9])\n",
      "Prediction using External drive tensor([0, 1, 2, 3, 4, 5, 6, 7, 8, 9])\n",
      "Actual prediction Loss tensor(-0.6295)\n",
      "Predicted through Recurrent input tensor([0, 1, 2, 3, 4, 5, 6, 7, 8, 3])\n",
      "Prediction using External drive tensor([0, 1, 2, 3, 4, 5, 6, 7, 8, 9])\n",
      "Actual prediction Loss tensor(-0.7388)\n"
     ]
    },
    {
     "name": "stderr",
     "output_type": "stream",
     "text": [
      " 20%|███████████████▌                                                            | 4090/20000 [00:12<00:41, 384.16it/s]"
     ]
    },
    {
     "name": "stdout",
     "output_type": "stream",
     "text": [
      "Predicted through Recurrent input tensor([4, 1, 2, 0, 1, 5, 3, 7, 8, 9])\n",
      "Prediction using External drive tensor([0, 1, 2, 0, 4, 5, 6, 7, 8, 9])\n",
      "Actual prediction Loss tensor(-0.5665)\n",
      "Predicted through Recurrent input tensor([0, 1, 2, 3, 4, 5, 6, 7, 8, 9])\n",
      "Prediction using External drive tensor([0, 1, 2, 3, 4, 5, 6, 7, 8, 9])\n",
      "Actual prediction Loss tensor(-0.8031)\n",
      "Predicted through Recurrent input tensor([0, 1, 2, 3, 4, 5, 6, 7, 8, 9])\n",
      "Prediction using External drive tensor([0, 1, 2, 3, 4, 5, 6, 7, 8, 9])\n",
      "Actual prediction Loss tensor(-0.6740)\n",
      "Predicted through Recurrent input tensor([0, 1, 2, 3, 4, 5, 6, 7, 8, 9])\n",
      "Prediction using External drive tensor([0, 1, 2, 3, 4, 5, 6, 7, 8, 9])\n",
      "Actual prediction Loss tensor(-0.6555)\n"
     ]
    },
    {
     "name": "stderr",
     "output_type": "stream",
     "text": [
      " 21%|███████████████▋                                                            | 4131/20000 [00:12<00:40, 390.44it/s]"
     ]
    },
    {
     "name": "stdout",
     "output_type": "stream",
     "text": [
      "Predicted through Recurrent input tensor([0, 1, 2, 3, 4, 5, 6, 7, 8, 9])\n",
      "Prediction using External drive tensor([0, 1, 2, 3, 4, 5, 6, 7, 8, 9])\n",
      "Actual prediction Loss tensor(-0.8308)\n",
      "Predicted through Recurrent input tensor([0, 1, 2, 3, 4, 5, 6, 7, 8, 9])\n",
      "Prediction using External drive tensor([0, 1, 2, 3, 4, 5, 6, 7, 8, 9])\n",
      "Actual prediction Loss tensor(-0.8156)\n",
      "Predicted through Recurrent input tensor([9, 1, 2, 3, 4, 5, 6, 7, 8, 1])\n",
      "Prediction using External drive tensor([0, 1, 2, 3, 4, 5, 6, 7, 8, 9])\n",
      "Actual prediction Loss tensor(-0.5288)\n",
      "Predicted through Recurrent input tensor([0, 1, 2, 5, 4, 3, 6, 7, 8, 9])\n",
      "Prediction using External drive tensor([0, 1, 2, 3, 4, 5, 6, 7, 8, 9])\n",
      "Actual prediction Loss tensor(-0.6382)\n"
     ]
    },
    {
     "name": "stderr",
     "output_type": "stream",
     "text": [
      " 21%|███████████████▊                                                            | 4171/20000 [00:12<00:40, 389.82it/s]"
     ]
    },
    {
     "name": "stdout",
     "output_type": "stream",
     "text": [
      "Predicted through Recurrent input tensor([0, 1, 2, 3, 4, 5, 6, 7, 8, 3])\n",
      "Prediction using External drive tensor([0, 1, 2, 3, 4, 5, 6, 7, 8, 9])\n",
      "Actual prediction Loss tensor(-0.7467)\n",
      "Predicted through Recurrent input tensor([4, 1, 2, 0, 1, 5, 3, 7, 8, 9])\n",
      "Prediction using External drive tensor([0, 1, 2, 0, 4, 5, 6, 7, 8, 9])\n",
      "Actual prediction Loss tensor(-0.5728)\n",
      "Predicted through Recurrent input tensor([0, 1, 2, 3, 4, 5, 6, 7, 8, 9])\n",
      "Prediction using External drive tensor([0, 1, 2, 3, 4, 5, 6, 7, 8, 9])\n",
      "Actual prediction Loss tensor(-0.8092)\n",
      "Predicted through Recurrent input tensor([0, 1, 2, 3, 4, 5, 6, 7, 8, 9])\n",
      "Prediction using External drive tensor([0, 1, 2, 3, 4, 5, 6, 7, 8, 9])\n",
      "Actual prediction Loss tensor(-0.6814)\n"
     ]
    },
    {
     "name": "stderr",
     "output_type": "stream",
     "text": [
      " 21%|████████████████                                                            | 4211/20000 [00:12<00:40, 388.24it/s]"
     ]
    },
    {
     "name": "stdout",
     "output_type": "stream",
     "text": [
      "Predicted through Recurrent input tensor([0, 1, 2, 3, 4, 5, 6, 7, 8, 9])\n",
      "Prediction using External drive tensor([0, 1, 2, 3, 4, 5, 6, 7, 8, 9])\n",
      "Actual prediction Loss tensor(-0.6640)\n",
      "Predicted through Recurrent input tensor([0, 1, 2, 3, 4, 5, 6, 7, 8, 9])\n",
      "Prediction using External drive tensor([0, 1, 2, 3, 4, 5, 6, 7, 8, 9])\n",
      "Actual prediction Loss tensor(-0.8361)\n",
      "Predicted through Recurrent input tensor([0, 1, 2, 3, 4, 5, 6, 7, 8, 9])\n",
      "Prediction using External drive tensor([0, 1, 2, 3, 4, 5, 6, 7, 8, 9])\n",
      "Actual prediction Loss tensor(-0.8214)\n",
      "Predicted through Recurrent input tensor([9, 1, 2, 3, 4, 5, 6, 7, 8, 1])\n",
      "Prediction using External drive tensor([0, 1, 2, 3, 4, 5, 6, 7, 8, 9])\n",
      "Actual prediction Loss tensor(-0.5375)\n"
     ]
    },
    {
     "name": "stderr",
     "output_type": "stream",
     "text": [
      " 21%|████████████████▏                                                           | 4250/20000 [00:12<00:40, 387.61it/s]"
     ]
    },
    {
     "name": "stdout",
     "output_type": "stream",
     "text": [
      "Predicted through Recurrent input tensor([0, 1, 2, 5, 4, 3, 6, 7, 8, 9])\n",
      "Prediction using External drive tensor([0, 1, 2, 3, 4, 5, 6, 7, 8, 9])\n",
      "Actual prediction Loss tensor(-0.6468)\n",
      "Predicted through Recurrent input tensor([0, 1, 2, 3, 4, 5, 6, 7, 8, 3])\n",
      "Prediction using External drive tensor([0, 1, 2, 3, 4, 5, 6, 7, 8, 9])\n",
      "Actual prediction Loss tensor(-0.7542)\n",
      "Predicted through Recurrent input tensor([4, 1, 2, 0, 1, 5, 3, 7, 8, 9])\n",
      "Prediction using External drive tensor([0, 1, 2, 3, 4, 5, 6, 7, 8, 9])\n",
      "Actual prediction Loss tensor(-0.5791)\n",
      "Predicted through Recurrent input tensor([0, 1, 2, 3, 4, 5, 6, 7, 8, 9])\n",
      "Prediction using External drive tensor([0, 1, 2, 3, 4, 5, 6, 7, 8, 9])\n",
      "Actual prediction Loss tensor(-0.8150)\n"
     ]
    },
    {
     "name": "stderr",
     "output_type": "stream",
     "text": [
      " 21%|████████████████▎                                                           | 4290/20000 [00:12<00:40, 387.83it/s]"
     ]
    },
    {
     "name": "stdout",
     "output_type": "stream",
     "text": [
      "Predicted through Recurrent input tensor([0, 1, 2, 3, 4, 5, 6, 7, 8, 9])\n",
      "Prediction using External drive tensor([0, 1, 2, 3, 4, 5, 6, 7, 8, 9])\n",
      "Actual prediction Loss tensor(-0.6886)\n",
      "Predicted through Recurrent input tensor([0, 1, 2, 3, 4, 5, 6, 7, 8, 9])\n",
      "Prediction using External drive tensor([0, 1, 2, 3, 4, 5, 6, 7, 8, 9])\n",
      "Actual prediction Loss tensor(-0.6723)\n",
      "Predicted through Recurrent input tensor([0, 1, 2, 3, 4, 5, 6, 7, 8, 9])\n",
      "Prediction using External drive tensor([0, 1, 2, 3, 4, 5, 6, 7, 8, 9])\n",
      "Actual prediction Loss tensor(-0.8411)\n",
      "Predicted through Recurrent input tensor([0, 1, 2, 3, 4, 5, 6, 7, 8, 9])\n",
      "Prediction using External drive tensor([0, 1, 2, 3, 4, 5, 6, 7, 8, 9])\n",
      "Actual prediction Loss tensor(-0.8268)\n"
     ]
    },
    {
     "name": "stderr",
     "output_type": "stream",
     "text": [
      " 22%|████████████████▍                                                           | 4330/20000 [00:12<00:40, 382.42it/s]"
     ]
    },
    {
     "name": "stdout",
     "output_type": "stream",
     "text": [
      "Predicted through Recurrent input tensor([9, 1, 2, 3, 4, 5, 6, 7, 8, 1])\n",
      "Prediction using External drive tensor([0, 1, 2, 3, 4, 5, 6, 7, 8, 9])\n",
      "Actual prediction Loss tensor(-0.5461)\n",
      "Predicted through Recurrent input tensor([0, 1, 2, 5, 4, 5, 6, 7, 8, 9])\n",
      "Prediction using External drive tensor([0, 1, 2, 3, 4, 5, 6, 7, 8, 9])\n",
      "Actual prediction Loss tensor(-0.6552)\n",
      "Predicted through Recurrent input tensor([0, 1, 2, 3, 4, 5, 6, 7, 8, 3])\n",
      "Prediction using External drive tensor([0, 1, 2, 3, 4, 5, 6, 7, 8, 9])\n",
      "Actual prediction Loss tensor(-0.7615)\n",
      "Predicted through Recurrent input tensor([4, 1, 2, 0, 1, 5, 3, 7, 8, 9])\n",
      "Prediction using External drive tensor([0, 1, 2, 3, 4, 5, 6, 7, 8, 9])\n",
      "Actual prediction Loss tensor(-0.5853)\n"
     ]
    },
    {
     "name": "stderr",
     "output_type": "stream",
     "text": [
      " 22%|████████████████▌                                                           | 4370/20000 [00:13<00:40, 384.18it/s]"
     ]
    },
    {
     "name": "stdout",
     "output_type": "stream",
     "text": [
      "Predicted through Recurrent input tensor([0, 1, 2, 3, 4, 5, 6, 7, 8, 9])\n",
      "Prediction using External drive tensor([0, 1, 2, 3, 4, 5, 6, 7, 8, 9])\n",
      "Actual prediction Loss tensor(-0.8206)\n",
      "Predicted through Recurrent input tensor([0, 1, 2, 3, 4, 5, 6, 7, 8, 9])\n",
      "Prediction using External drive tensor([0, 1, 2, 3, 4, 5, 6, 7, 8, 9])\n",
      "Actual prediction Loss tensor(-0.6956)\n",
      "Predicted through Recurrent input tensor([0, 1, 2, 3, 4, 5, 6, 7, 8, 9])\n",
      "Prediction using External drive tensor([0, 1, 2, 3, 4, 5, 6, 7, 8, 9])\n",
      "Actual prediction Loss tensor(-0.6804)\n",
      "Predicted through Recurrent input tensor([0, 1, 2, 3, 4, 5, 6, 7, 8, 9])\n",
      "Prediction using External drive tensor([0, 1, 2, 3, 4, 5, 6, 7, 8, 9])\n",
      "Actual prediction Loss tensor(-0.8459)\n"
     ]
    },
    {
     "name": "stderr",
     "output_type": "stream",
     "text": [
      " 22%|████████████████▊                                                           | 4410/20000 [00:13<00:40, 383.21it/s]"
     ]
    },
    {
     "name": "stdout",
     "output_type": "stream",
     "text": [
      "Predicted through Recurrent input tensor([0, 1, 2, 3, 4, 5, 6, 7, 8, 9])\n",
      "Prediction using External drive tensor([0, 1, 2, 3, 4, 5, 6, 7, 8, 9])\n",
      "Actual prediction Loss tensor(-0.8321)\n",
      "Predicted through Recurrent input tensor([9, 1, 2, 3, 4, 5, 6, 7, 8, 1])\n",
      "Prediction using External drive tensor([0, 1, 2, 3, 4, 5, 6, 7, 8, 9])\n",
      "Actual prediction Loss tensor(-0.5545)\n",
      "Predicted through Recurrent input tensor([0, 1, 2, 5, 4, 5, 6, 7, 8, 9])\n",
      "Prediction using External drive tensor([0, 1, 2, 3, 4, 5, 6, 7, 8, 9])\n",
      "Actual prediction Loss tensor(-0.6634)\n",
      "Predicted through Recurrent input tensor([0, 1, 2, 3, 4, 5, 6, 7, 8, 3])\n",
      "Prediction using External drive tensor([0, 1, 2, 3, 4, 5, 6, 7, 8, 9])\n",
      "Actual prediction Loss tensor(-0.7684)\n"
     ]
    },
    {
     "name": "stderr",
     "output_type": "stream",
     "text": [
      " 22%|████████████████▉                                                           | 4450/20000 [00:13<00:40, 383.63it/s]"
     ]
    },
    {
     "name": "stdout",
     "output_type": "stream",
     "text": [
      "Predicted through Recurrent input tensor([4, 1, 2, 0, 1, 5, 3, 7, 8, 9])\n",
      "Prediction using External drive tensor([0, 1, 2, 3, 4, 5, 6, 7, 8, 9])\n",
      "Actual prediction Loss tensor(-0.5914)\n",
      "Predicted through Recurrent input tensor([0, 1, 2, 3, 4, 5, 6, 7, 8, 9])\n",
      "Prediction using External drive tensor([0, 1, 2, 3, 4, 5, 6, 7, 8, 9])\n",
      "Actual prediction Loss tensor(-0.8259)\n",
      "Predicted through Recurrent input tensor([0, 1, 2, 3, 4, 5, 6, 7, 8, 9])\n",
      "Prediction using External drive tensor([0, 1, 2, 3, 4, 5, 6, 7, 8, 9])\n",
      "Actual prediction Loss tensor(-0.7023)\n",
      "Predicted through Recurrent input tensor([0, 1, 2, 3, 4, 5, 6, 7, 8, 9])\n",
      "Prediction using External drive tensor([0, 1, 2, 3, 4, 5, 6, 7, 8, 9])\n",
      "Actual prediction Loss tensor(-0.6882)\n"
     ]
    },
    {
     "name": "stderr",
     "output_type": "stream",
     "text": [
      " 22%|█████████████████                                                           | 4490/20000 [00:13<00:40, 385.03it/s]"
     ]
    },
    {
     "name": "stdout",
     "output_type": "stream",
     "text": [
      "Predicted through Recurrent input tensor([0, 1, 2, 3, 4, 5, 6, 7, 8, 9])\n",
      "Prediction using External drive tensor([0, 1, 2, 3, 4, 5, 6, 7, 8, 9])\n",
      "Actual prediction Loss tensor(-0.8505)\n",
      "Predicted through Recurrent input tensor([0, 1, 2, 3, 4, 5, 6, 7, 8, 9])\n",
      "Prediction using External drive tensor([0, 1, 2, 3, 4, 5, 6, 7, 8, 9])\n",
      "Actual prediction Loss tensor(-0.8371)\n",
      "Predicted through Recurrent input tensor([9, 1, 2, 3, 4, 5, 6, 7, 8, 1])\n",
      "Prediction using External drive tensor([0, 1, 2, 3, 4, 5, 6, 7, 8, 9])\n",
      "Actual prediction Loss tensor(-0.5629)\n",
      "Predicted through Recurrent input tensor([0, 1, 2, 5, 4, 5, 6, 7, 8, 9])\n",
      "Prediction using External drive tensor([0, 1, 2, 3, 4, 5, 6, 7, 8, 9])\n",
      "Actual prediction Loss tensor(-0.6714)\n"
     ]
    },
    {
     "name": "stderr",
     "output_type": "stream",
     "text": [
      " 23%|█████████████████▏                                                          | 4530/20000 [00:13<00:39, 388.27it/s]"
     ]
    },
    {
     "name": "stdout",
     "output_type": "stream",
     "text": [
      "Predicted through Recurrent input tensor([0, 1, 2, 3, 4, 5, 6, 7, 8, 3])\n",
      "Prediction using External drive tensor([0, 1, 2, 3, 4, 5, 6, 7, 8, 9])\n",
      "Actual prediction Loss tensor(-0.7751)\n",
      "Predicted through Recurrent input tensor([4, 1, 2, 0, 1, 5, 3, 7, 8, 9])\n",
      "Prediction using External drive tensor([0, 1, 2, 3, 4, 5, 6, 7, 8, 9])\n",
      "Actual prediction Loss tensor(-0.5975)\n",
      "Predicted through Recurrent input tensor([0, 1, 2, 3, 4, 5, 6, 7, 8, 9])\n",
      "Prediction using External drive tensor([0, 1, 2, 3, 4, 5, 6, 7, 8, 9])\n",
      "Actual prediction Loss tensor(-0.8310)\n",
      "Predicted through Recurrent input tensor([0, 1, 2, 3, 4, 5, 6, 7, 8, 9])\n",
      "Prediction using External drive tensor([0, 1, 2, 3, 4, 5, 6, 7, 8, 9])\n",
      "Actual prediction Loss tensor(-0.7089)\n"
     ]
    },
    {
     "name": "stderr",
     "output_type": "stream",
     "text": [
      " 23%|█████████████████▎                                                          | 4570/20000 [00:13<00:40, 383.82it/s]"
     ]
    },
    {
     "name": "stdout",
     "output_type": "stream",
     "text": [
      "Predicted through Recurrent input tensor([0, 1, 2, 3, 4, 5, 6, 7, 8, 9])\n",
      "Prediction using External drive tensor([0, 1, 2, 3, 4, 5, 6, 7, 8, 9])\n",
      "Actual prediction Loss tensor(-0.6959)\n",
      "Predicted through Recurrent input tensor([0, 1, 2, 3, 4, 5, 6, 7, 8, 9])\n",
      "Prediction using External drive tensor([0, 1, 2, 3, 4, 5, 6, 7, 8, 9])\n",
      "Actual prediction Loss tensor(-0.8549)\n",
      "Predicted through Recurrent input tensor([0, 1, 2, 3, 4, 5, 6, 7, 8, 9])\n",
      "Prediction using External drive tensor([0, 1, 2, 3, 4, 5, 6, 7, 8, 9])\n",
      "Actual prediction Loss tensor(-0.8418)\n",
      "Predicted through Recurrent input tensor([9, 1, 2, 3, 4, 5, 6, 7, 8, 1])\n",
      "Prediction using External drive tensor([0, 1, 2, 3, 4, 5, 6, 7, 8, 9])\n",
      "Actual prediction Loss tensor(-0.5711)\n"
     ]
    },
    {
     "name": "stderr",
     "output_type": "stream",
     "text": [
      " 23%|█████████████████▌                                                          | 4610/20000 [00:13<00:40, 380.77it/s]"
     ]
    },
    {
     "name": "stdout",
     "output_type": "stream",
     "text": [
      "Predicted through Recurrent input tensor([0, 1, 2, 5, 4, 5, 6, 7, 8, 9])\n",
      "Prediction using External drive tensor([0, 1, 2, 3, 4, 5, 6, 7, 8, 9])\n",
      "Actual prediction Loss tensor(-0.6793)\n",
      "Predicted through Recurrent input tensor([0, 1, 2, 3, 4, 5, 6, 7, 8, 3])\n",
      "Prediction using External drive tensor([0, 1, 2, 3, 4, 5, 6, 7, 8, 9])\n",
      "Actual prediction Loss tensor(-0.7814)\n",
      "Predicted through Recurrent input tensor([4, 1, 2, 0, 1, 5, 3, 7, 8, 9])\n",
      "Prediction using External drive tensor([0, 1, 2, 3, 4, 5, 6, 7, 8, 9])\n",
      "Actual prediction Loss tensor(-0.6034)\n",
      "Predicted through Recurrent input tensor([0, 1, 2, 3, 4, 5, 6, 7, 8, 9])\n",
      "Prediction using External drive tensor([0, 1, 2, 3, 4, 5, 6, 7, 8, 9])\n",
      "Actual prediction Loss tensor(-0.8358)\n"
     ]
    },
    {
     "name": "stderr",
     "output_type": "stream",
     "text": [
      " 23%|█████████████████▋                                                          | 4650/20000 [00:13<00:40, 381.91it/s]"
     ]
    },
    {
     "name": "stdout",
     "output_type": "stream",
     "text": [
      "Predicted through Recurrent input tensor([0, 1, 2, 3, 4, 5, 6, 7, 8, 9])\n",
      "Prediction using External drive tensor([0, 1, 2, 3, 4, 5, 6, 7, 8, 9])\n",
      "Actual prediction Loss tensor(-0.7152)\n",
      "Predicted through Recurrent input tensor([0, 1, 2, 3, 4, 5, 6, 7, 8, 9])\n",
      "Prediction using External drive tensor([0, 1, 2, 3, 4, 5, 6, 7, 8, 9])\n",
      "Actual prediction Loss tensor(-0.7033)\n",
      "Predicted through Recurrent input tensor([0, 1, 2, 3, 4, 5, 6, 7, 8, 9])\n",
      "Prediction using External drive tensor([0, 1, 2, 3, 4, 5, 6, 7, 8, 9])\n",
      "Actual prediction Loss tensor(-0.8591)\n",
      "Predicted through Recurrent input tensor([0, 1, 2, 3, 4, 5, 6, 7, 8, 9])\n",
      "Prediction using External drive tensor([0, 1, 2, 3, 4, 5, 6, 7, 8, 9])\n",
      "Actual prediction Loss tensor(-0.8464)\n"
     ]
    },
    {
     "name": "stderr",
     "output_type": "stream",
     "text": [
      " 23%|█████████████████▊                                                          | 4690/20000 [00:13<00:40, 381.63it/s]"
     ]
    },
    {
     "name": "stdout",
     "output_type": "stream",
     "text": [
      "Predicted through Recurrent input tensor([9, 1, 2, 3, 4, 5, 6, 7, 8, 1])\n",
      "Prediction using External drive tensor([0, 1, 2, 3, 4, 5, 6, 7, 8, 9])\n",
      "Actual prediction Loss tensor(-0.5791)\n",
      "Predicted through Recurrent input tensor([0, 1, 2, 5, 4, 5, 6, 7, 8, 9])\n",
      "Prediction using External drive tensor([0, 1, 2, 3, 4, 5, 6, 7, 8, 9])\n",
      "Actual prediction Loss tensor(-0.6870)\n",
      "Predicted through Recurrent input tensor([0, 1, 2, 3, 4, 5, 6, 7, 8, 3])\n",
      "Prediction using External drive tensor([0, 1, 2, 3, 4, 5, 6, 7, 8, 9])\n",
      "Actual prediction Loss tensor(-0.7876)\n",
      "Predicted through Recurrent input tensor([4, 1, 2, 0, 1, 5, 3, 7, 8, 9])\n",
      "Prediction using External drive tensor([0, 1, 2, 3, 4, 5, 6, 7, 8, 9])\n",
      "Actual prediction Loss tensor(-0.6093)\n"
     ]
    },
    {
     "name": "stderr",
     "output_type": "stream",
     "text": [
      " 24%|█████████████████▉                                                          | 4730/20000 [00:13<00:39, 383.62it/s]"
     ]
    },
    {
     "name": "stdout",
     "output_type": "stream",
     "text": [
      "Predicted through Recurrent input tensor([0, 1, 2, 3, 4, 5, 6, 7, 8, 9])\n",
      "Prediction using External drive tensor([0, 1, 2, 3, 4, 5, 6, 7, 8, 9])\n",
      "Actual prediction Loss tensor(-0.8404)\n",
      "Predicted through Recurrent input tensor([0, 1, 2, 3, 4, 5, 6, 7, 8, 9])\n",
      "Prediction using External drive tensor([0, 1, 2, 3, 4, 5, 6, 7, 8, 9])\n",
      "Actual prediction Loss tensor(-0.7213)\n",
      "Predicted through Recurrent input tensor([0, 1, 2, 3, 4, 5, 6, 7, 8, 9])\n",
      "Prediction using External drive tensor([0, 1, 2, 3, 4, 5, 6, 7, 8, 9])\n",
      "Actual prediction Loss tensor(-0.7106)\n",
      "Predicted through Recurrent input tensor([0, 1, 2, 3, 4, 5, 6, 7, 8, 9])\n",
      "Prediction using External drive tensor([0, 1, 2, 3, 4, 5, 6, 7, 8, 9])\n",
      "Actual prediction Loss tensor(-0.8631)\n"
     ]
    },
    {
     "name": "stderr",
     "output_type": "stream",
     "text": [
      " 24%|██████████████████▏                                                         | 4770/20000 [00:14<00:40, 377.40it/s]"
     ]
    },
    {
     "name": "stdout",
     "output_type": "stream",
     "text": [
      "Predicted through Recurrent input tensor([0, 1, 2, 3, 4, 5, 6, 7, 8, 9])\n",
      "Prediction using External drive tensor([0, 1, 2, 3, 4, 5, 6, 7, 8, 9])\n",
      "Actual prediction Loss tensor(-0.8508)\n",
      "Predicted through Recurrent input tensor([9, 1, 2, 3, 4, 5, 6, 7, 8, 1])\n",
      "Prediction using External drive tensor([0, 1, 2, 3, 4, 5, 6, 7, 8, 9])\n",
      "Actual prediction Loss tensor(-0.5871)\n",
      "Predicted through Recurrent input tensor([0, 1, 2, 5, 4, 5, 6, 7, 8, 9])\n",
      "Prediction using External drive tensor([0, 1, 2, 3, 4, 5, 6, 7, 8, 9])\n",
      "Actual prediction Loss tensor(-0.6945)\n",
      "Predicted through Recurrent input tensor([0, 1, 2, 3, 4, 5, 6, 7, 8, 3])\n",
      "Prediction using External drive tensor([0, 1, 2, 3, 4, 5, 6, 7, 8, 9])\n",
      "Actual prediction Loss tensor(-0.7934)\n"
     ]
    },
    {
     "name": "stderr",
     "output_type": "stream",
     "text": [
      " 24%|██████████████████▎                                                         | 4810/20000 [00:14<00:39, 381.71it/s]"
     ]
    },
    {
     "name": "stdout",
     "output_type": "stream",
     "text": [
      "Predicted through Recurrent input tensor([4, 1, 2, 0, 1, 5, 3, 7, 8, 9])\n",
      "Prediction using External drive tensor([0, 1, 2, 3, 4, 5, 6, 7, 8, 9])\n",
      "Actual prediction Loss tensor(-0.6151)\n",
      "Predicted through Recurrent input tensor([0, 1, 2, 3, 4, 5, 6, 7, 8, 9])\n",
      "Prediction using External drive tensor([0, 1, 2, 3, 4, 5, 6, 7, 8, 9])\n",
      "Actual prediction Loss tensor(-0.8448)\n",
      "Predicted through Recurrent input tensor([0, 1, 2, 3, 4, 5, 6, 7, 8, 9])\n",
      "Prediction using External drive tensor([0, 1, 2, 3, 4, 5, 6, 7, 8, 9])\n",
      "Actual prediction Loss tensor(-0.7273)\n",
      "Predicted through Recurrent input tensor([0, 1, 2, 3, 4, 5, 6, 7, 8, 9])\n",
      "Prediction using External drive tensor([0, 1, 2, 3, 4, 5, 6, 7, 8, 9])\n",
      "Actual prediction Loss tensor(-0.7176)\n"
     ]
    },
    {
     "name": "stderr",
     "output_type": "stream",
     "text": [
      " 24%|██████████████████▍                                                         | 4850/20000 [00:14<00:39, 381.47it/s]"
     ]
    },
    {
     "name": "stdout",
     "output_type": "stream",
     "text": [
      "Predicted through Recurrent input tensor([0, 1, 2, 3, 4, 5, 6, 7, 8, 9])\n",
      "Prediction using External drive tensor([0, 1, 2, 3, 4, 5, 6, 7, 8, 9])\n",
      "Actual prediction Loss tensor(-0.8669)\n",
      "Predicted through Recurrent input tensor([0, 1, 2, 3, 4, 5, 6, 7, 8, 9])\n",
      "Prediction using External drive tensor([0, 1, 2, 3, 4, 5, 6, 7, 8, 9])\n",
      "Actual prediction Loss tensor(-0.8550)\n",
      "Predicted through Recurrent input tensor([9, 1, 2, 3, 4, 5, 6, 7, 8, 1])\n",
      "Prediction using External drive tensor([0, 1, 2, 3, 4, 5, 6, 7, 8, 9])\n",
      "Actual prediction Loss tensor(-0.5949)\n",
      "Predicted through Recurrent input tensor([0, 1, 2, 5, 4, 5, 6, 7, 8, 9])\n",
      "Prediction using External drive tensor([0, 1, 2, 3, 4, 5, 6, 7, 8, 9])\n",
      "Actual prediction Loss tensor(-0.7018)\n"
     ]
    },
    {
     "name": "stderr",
     "output_type": "stream",
     "text": [
      " 24%|██████████████████▌                                                         | 4890/20000 [00:14<00:39, 384.62it/s]"
     ]
    },
    {
     "name": "stdout",
     "output_type": "stream",
     "text": [
      "Predicted through Recurrent input tensor([0, 1, 2, 3, 4, 5, 6, 7, 8, 3])\n",
      "Prediction using External drive tensor([0, 1, 2, 3, 4, 5, 6, 7, 8, 9])\n",
      "Actual prediction Loss tensor(-0.7991)\n",
      "Predicted through Recurrent input tensor([4, 1, 2, 0, 1, 5, 3, 7, 8, 9])\n",
      "Prediction using External drive tensor([0, 1, 2, 3, 4, 5, 6, 7, 8, 9])\n",
      "Actual prediction Loss tensor(-0.6208)\n",
      "Predicted through Recurrent input tensor([0, 1, 2, 3, 4, 5, 6, 7, 8, 9])\n",
      "Prediction using External drive tensor([0, 1, 2, 3, 4, 5, 6, 7, 8, 9])\n",
      "Actual prediction Loss tensor(-0.8490)\n",
      "Predicted through Recurrent input tensor([0, 1, 2, 3, 4, 5, 6, 7, 8, 9])\n",
      "Prediction using External drive tensor([0, 1, 2, 3, 4, 5, 6, 7, 8, 9])\n",
      "Actual prediction Loss tensor(-0.7330)\n"
     ]
    },
    {
     "name": "stderr",
     "output_type": "stream",
     "text": [
      " 25%|██████████████████▋                                                         | 4930/20000 [00:14<00:39, 385.73it/s]"
     ]
    },
    {
     "name": "stdout",
     "output_type": "stream",
     "text": [
      "Predicted through Recurrent input tensor([0, 1, 2, 3, 4, 5, 6, 7, 8, 9])\n",
      "Prediction using External drive tensor([0, 1, 2, 3, 4, 5, 6, 7, 8, 9])\n",
      "Actual prediction Loss tensor(-0.7245)\n",
      "Predicted through Recurrent input tensor([0, 1, 2, 3, 4, 5, 6, 7, 8, 9])\n",
      "Prediction using External drive tensor([0, 1, 2, 3, 4, 5, 6, 7, 8, 9])\n",
      "Actual prediction Loss tensor(-0.8706)\n",
      "Predicted through Recurrent input tensor([0, 1, 2, 3, 4, 5, 6, 7, 8, 9])\n",
      "Prediction using External drive tensor([0, 1, 2, 3, 4, 5, 6, 7, 8, 9])\n",
      "Actual prediction Loss tensor(-0.8590)\n",
      "Predicted through Recurrent input tensor([9, 1, 2, 3, 4, 5, 6, 7, 8, 1])\n",
      "Prediction using External drive tensor([0, 1, 2, 3, 4, 5, 6, 7, 8, 9])\n",
      "Actual prediction Loss tensor(-0.6025)\n"
     ]
    },
    {
     "name": "stderr",
     "output_type": "stream",
     "text": [
      " 25%|██████████████████▉                                                         | 4970/20000 [00:14<00:39, 383.18it/s]"
     ]
    },
    {
     "name": "stdout",
     "output_type": "stream",
     "text": [
      "Predicted through Recurrent input tensor([0, 1, 2, 5, 4, 5, 6, 7, 8, 9])\n",
      "Prediction using External drive tensor([0, 1, 2, 3, 4, 5, 6, 7, 8, 9])\n",
      "Actual prediction Loss tensor(-0.7091)\n",
      "Predicted through Recurrent input tensor([0, 1, 2, 3, 4, 5, 6, 7, 8, 3])\n",
      "Prediction using External drive tensor([0, 1, 2, 3, 4, 5, 6, 7, 8, 9])\n",
      "Actual prediction Loss tensor(-0.8045)\n",
      "Predicted through Recurrent input tensor([4, 1, 2, 0, 1, 5, 3, 7, 8, 9])\n",
      "Prediction using External drive tensor([0, 1, 2, 3, 4, 5, 6, 7, 8, 9])\n",
      "Actual prediction Loss tensor(-0.6265)\n",
      "Predicted through Recurrent input tensor([0, 1, 2, 3, 4, 5, 6, 7, 8, 9])\n",
      "Prediction using External drive tensor([0, 1, 2, 3, 4, 5, 6, 7, 8, 9])\n",
      "Actual prediction Loss tensor(-0.8530)\n"
     ]
    },
    {
     "name": "stderr",
     "output_type": "stream",
     "text": [
      " 25%|███████████████████                                                         | 5010/20000 [00:14<00:39, 382.51it/s]"
     ]
    },
    {
     "name": "stdout",
     "output_type": "stream",
     "text": [
      "Predicted through Recurrent input tensor([0, 1, 2, 3, 4, 5, 6, 7, 8, 9])\n",
      "Prediction using External drive tensor([0, 1, 2, 3, 4, 5, 6, 7, 8, 9])\n",
      "Actual prediction Loss tensor(-0.7386)\n",
      "Predicted through Recurrent input tensor([0, 1, 2, 3, 4, 5, 6, 7, 8, 9])\n",
      "Prediction using External drive tensor([0, 1, 2, 3, 4, 5, 6, 7, 8, 9])\n",
      "Actual prediction Loss tensor(-0.7312)\n",
      "Predicted through Recurrent input tensor([0, 1, 2, 3, 4, 5, 6, 7, 8, 9])\n",
      "Prediction using External drive tensor([0, 1, 2, 3, 4, 5, 6, 7, 8, 9])\n",
      "Actual prediction Loss tensor(-0.8741)\n",
      "Predicted through Recurrent input tensor([0, 1, 2, 3, 4, 5, 6, 7, 8, 9])\n",
      "Prediction using External drive tensor([0, 1, 2, 3, 4, 5, 6, 7, 8, 9])\n",
      "Actual prediction Loss tensor(-0.8628)\n"
     ]
    },
    {
     "name": "stderr",
     "output_type": "stream",
     "text": [
      " 25%|███████████████████▏                                                        | 5050/20000 [00:14<00:39, 380.95it/s]"
     ]
    },
    {
     "name": "stdout",
     "output_type": "stream",
     "text": [
      "Predicted through Recurrent input tensor([9, 1, 2, 3, 4, 5, 6, 7, 8, 1])\n",
      "Prediction using External drive tensor([0, 1, 2, 3, 4, 5, 6, 7, 8, 9])\n",
      "Actual prediction Loss tensor(-0.6101)\n",
      "Predicted through Recurrent input tensor([0, 1, 2, 5, 4, 5, 6, 7, 8, 9])\n",
      "Prediction using External drive tensor([0, 1, 2, 3, 4, 5, 6, 7, 8, 9])\n",
      "Actual prediction Loss tensor(-0.7161)\n",
      "Predicted through Recurrent input tensor([0, 1, 2, 3, 4, 5, 6, 7, 8, 9])\n",
      "Prediction using External drive tensor([0, 1, 2, 3, 4, 5, 6, 7, 8, 9])\n",
      "Actual prediction Loss tensor(-0.8097)\n",
      "Predicted through Recurrent input tensor([4, 1, 2, 0, 1, 5, 3, 7, 8, 9])\n",
      "Prediction using External drive tensor([0, 1, 2, 3, 4, 5, 6, 7, 8, 9])\n",
      "Actual prediction Loss tensor(-0.6321)\n"
     ]
    },
    {
     "name": "stderr",
     "output_type": "stream",
     "text": [
      " 25%|███████████████████▎                                                        | 5090/20000 [00:14<00:39, 379.86it/s]"
     ]
    },
    {
     "name": "stdout",
     "output_type": "stream",
     "text": [
      "Predicted through Recurrent input tensor([0, 1, 2, 3, 4, 5, 6, 7, 8, 9])\n",
      "Prediction using External drive tensor([0, 1, 2, 3, 4, 5, 6, 7, 8, 9])\n",
      "Actual prediction Loss tensor(-0.8569)\n",
      "Predicted through Recurrent input tensor([0, 1, 2, 3, 4, 5, 6, 7, 8, 9])\n",
      "Prediction using External drive tensor([0, 1, 2, 3, 4, 5, 6, 7, 8, 9])\n",
      "Actual prediction Loss tensor(-0.7441)\n",
      "Predicted through Recurrent input tensor([0, 1, 2, 3, 4, 5, 6, 7, 8, 9])\n",
      "Prediction using External drive tensor([0, 1, 2, 3, 4, 5, 6, 7, 8, 9])\n",
      "Actual prediction Loss tensor(-0.7377)\n",
      "Predicted through Recurrent input tensor([0, 1, 2, 3, 4, 5, 6, 7, 8, 9])\n",
      "Prediction using External drive tensor([0, 1, 2, 3, 4, 5, 6, 7, 8, 9])\n",
      "Actual prediction Loss tensor(-0.8775)\n"
     ]
    },
    {
     "name": "stderr",
     "output_type": "stream",
     "text": [
      " 26%|███████████████████▍                                                        | 5130/20000 [00:15<00:39, 381.28it/s]"
     ]
    },
    {
     "name": "stdout",
     "output_type": "stream",
     "text": [
      "Predicted through Recurrent input tensor([0, 1, 2, 3, 4, 5, 6, 7, 8, 9])\n",
      "Prediction using External drive tensor([0, 1, 2, 3, 4, 5, 6, 7, 8, 9])\n",
      "Actual prediction Loss tensor(-0.8665)\n",
      "Predicted through Recurrent input tensor([9, 1, 2, 3, 4, 5, 6, 7, 8, 1])\n",
      "Prediction using External drive tensor([0, 1, 2, 3, 4, 5, 6, 7, 8, 9])\n",
      "Actual prediction Loss tensor(-0.6175)\n",
      "Predicted through Recurrent input tensor([0, 1, 2, 5, 4, 5, 6, 7, 8, 9])\n",
      "Prediction using External drive tensor([0, 1, 2, 3, 4, 5, 6, 7, 8, 9])\n",
      "Actual prediction Loss tensor(-0.7230)\n",
      "Predicted through Recurrent input tensor([0, 1, 2, 3, 4, 5, 6, 7, 8, 9])\n",
      "Prediction using External drive tensor([0, 1, 2, 3, 4, 5, 6, 7, 8, 9])\n",
      "Actual prediction Loss tensor(-0.8147)\n"
     ]
    },
    {
     "name": "stderr",
     "output_type": "stream",
     "text": [
      " 26%|███████████████████▋                                                        | 5170/20000 [00:15<00:39, 380.09it/s]"
     ]
    },
    {
     "name": "stdout",
     "output_type": "stream",
     "text": [
      "Predicted through Recurrent input tensor([4, 1, 2, 0, 1, 5, 3, 7, 8, 9])\n",
      "Prediction using External drive tensor([0, 1, 2, 3, 4, 5, 6, 7, 8, 9])\n",
      "Actual prediction Loss tensor(-0.6376)\n",
      "Predicted through Recurrent input tensor([0, 1, 2, 3, 4, 5, 6, 7, 8, 9])\n",
      "Prediction using External drive tensor([0, 1, 2, 3, 4, 5, 6, 7, 8, 9])\n",
      "Actual prediction Loss tensor(-0.8606)\n",
      "Predicted through Recurrent input tensor([0, 1, 2, 3, 4, 5, 6, 7, 8, 9])\n",
      "Prediction using External drive tensor([0, 1, 2, 3, 4, 5, 6, 7, 8, 9])\n",
      "Actual prediction Loss tensor(-0.7494)\n",
      "Predicted through Recurrent input tensor([0, 1, 2, 3, 4, 5, 6, 7, 8, 9])\n",
      "Prediction using External drive tensor([0, 1, 2, 3, 4, 5, 6, 7, 8, 9])\n",
      "Actual prediction Loss tensor(-0.7440)\n"
     ]
    },
    {
     "name": "stderr",
     "output_type": "stream",
     "text": [
      " 26%|███████████████████▊                                                        | 5210/20000 [00:15<00:38, 379.27it/s]"
     ]
    },
    {
     "name": "stdout",
     "output_type": "stream",
     "text": [
      "Predicted through Recurrent input tensor([0, 1, 2, 3, 4, 5, 6, 7, 8, 9])\n",
      "Prediction using External drive tensor([0, 1, 2, 3, 4, 5, 6, 7, 8, 9])\n",
      "Actual prediction Loss tensor(-0.8807)\n",
      "Predicted through Recurrent input tensor([0, 1, 2, 3, 4, 5, 6, 7, 8, 9])\n",
      "Prediction using External drive tensor([0, 1, 2, 3, 4, 5, 6, 7, 8, 9])\n",
      "Actual prediction Loss tensor(-0.8701)\n",
      "Predicted through Recurrent input tensor([9, 1, 2, 3, 4, 5, 6, 7, 8, 1])\n",
      "Prediction using External drive tensor([0, 1, 2, 3, 4, 5, 6, 7, 8, 9])\n",
      "Actual prediction Loss tensor(-0.6248)\n",
      "Predicted through Recurrent input tensor([0, 1, 2, 5, 4, 5, 6, 7, 8, 9])\n",
      "Prediction using External drive tensor([0, 1, 2, 3, 4, 5, 6, 7, 8, 9])\n",
      "Actual prediction Loss tensor(-0.7298)\n"
     ]
    },
    {
     "name": "stderr",
     "output_type": "stream",
     "text": [
      " 26%|███████████████████▉                                                        | 5250/20000 [00:15<00:38, 380.86it/s]"
     ]
    },
    {
     "name": "stdout",
     "output_type": "stream",
     "text": [
      "Predicted through Recurrent input tensor([0, 1, 2, 3, 4, 5, 6, 7, 8, 9])\n",
      "Prediction using External drive tensor([0, 1, 2, 3, 4, 5, 6, 7, 8, 9])\n",
      "Actual prediction Loss tensor(-0.8195)\n",
      "Predicted through Recurrent input tensor([4, 1, 2, 0, 1, 5, 3, 7, 8, 9])\n",
      "Prediction using External drive tensor([0, 1, 2, 3, 4, 5, 6, 7, 8, 9])\n",
      "Actual prediction Loss tensor(-0.6430)\n",
      "Predicted through Recurrent input tensor([0, 1, 2, 3, 4, 5, 6, 7, 8, 9])\n",
      "Prediction using External drive tensor([0, 1, 2, 3, 4, 5, 6, 7, 8, 9])\n",
      "Actual prediction Loss tensor(-0.8641)\n",
      "Predicted through Recurrent input tensor([0, 1, 2, 3, 4, 5, 6, 7, 8, 9])\n",
      "Prediction using External drive tensor([0, 1, 2, 3, 4, 5, 6, 7, 8, 9])\n",
      "Actual prediction Loss tensor(-0.7545)\n"
     ]
    },
    {
     "name": "stderr",
     "output_type": "stream",
     "text": [
      " 26%|████████████████████                                                        | 5290/20000 [00:15<00:38, 377.65it/s]"
     ]
    },
    {
     "name": "stdout",
     "output_type": "stream",
     "text": [
      "Predicted through Recurrent input tensor([0, 1, 2, 3, 4, 5, 6, 7, 8, 9])\n",
      "Prediction using External drive tensor([0, 1, 2, 3, 4, 5, 6, 7, 8, 9])\n",
      "Actual prediction Loss tensor(-0.7502)\n",
      "Predicted through Recurrent input tensor([0, 1, 2, 3, 4, 5, 6, 7, 8, 9])\n",
      "Prediction using External drive tensor([0, 1, 2, 3, 4, 5, 6, 7, 8, 9])\n",
      "Actual prediction Loss tensor(-0.8838)\n",
      "Predicted through Recurrent input tensor([0, 1, 2, 3, 4, 5, 6, 7, 8, 9])\n",
      "Prediction using External drive tensor([0, 1, 2, 3, 4, 5, 6, 7, 8, 9])\n",
      "Actual prediction Loss tensor(-0.8735)\n",
      "Predicted through Recurrent input tensor([9, 1, 2, 3, 4, 5, 6, 7, 8, 1])\n",
      "Prediction using External drive tensor([0, 1, 2, 3, 4, 5, 6, 7, 8, 9])\n",
      "Actual prediction Loss tensor(-0.6319)\n"
     ]
    },
    {
     "name": "stderr",
     "output_type": "stream",
     "text": [
      " 27%|████████████████████▎                                                       | 5330/20000 [00:15<00:39, 373.33it/s]"
     ]
    },
    {
     "name": "stdout",
     "output_type": "stream",
     "text": [
      "Predicted through Recurrent input tensor([0, 1, 2, 5, 4, 5, 6, 7, 8, 9])\n",
      "Prediction using External drive tensor([0, 1, 2, 3, 4, 5, 6, 7, 8, 9])\n",
      "Actual prediction Loss tensor(-0.7364)\n",
      "Predicted through Recurrent input tensor([0, 1, 2, 3, 4, 5, 6, 7, 8, 9])\n",
      "Prediction using External drive tensor([0, 1, 2, 3, 4, 5, 6, 7, 8, 9])\n",
      "Actual prediction Loss tensor(-0.8241)\n",
      "Predicted through Recurrent input tensor([4, 1, 2, 0, 1, 5, 3, 7, 8, 9])\n",
      "Prediction using External drive tensor([0, 1, 2, 3, 4, 5, 6, 7, 8, 9])\n",
      "Actual prediction Loss tensor(-0.6484)\n",
      "Predicted through Recurrent input tensor([0, 1, 2, 3, 4, 5, 6, 7, 8, 9])\n",
      "Prediction using External drive tensor([0, 1, 2, 3, 4, 5, 6, 7, 8, 9])\n",
      "Actual prediction Loss tensor(-0.8675)\n"
     ]
    },
    {
     "name": "stderr",
     "output_type": "stream",
     "text": [
      " 27%|████████████████████▍                                                       | 5370/20000 [00:15<00:38, 377.72it/s]"
     ]
    },
    {
     "name": "stdout",
     "output_type": "stream",
     "text": [
      "Predicted through Recurrent input tensor([0, 1, 2, 3, 4, 5, 6, 7, 8, 9])\n",
      "Prediction using External drive tensor([0, 1, 2, 3, 4, 5, 6, 7, 8, 9])\n",
      "Actual prediction Loss tensor(-0.7595)\n",
      "Predicted through Recurrent input tensor([0, 1, 2, 3, 4, 5, 6, 7, 8, 9])\n",
      "Prediction using External drive tensor([0, 1, 2, 3, 4, 5, 6, 7, 8, 9])\n",
      "Actual prediction Loss tensor(-0.7562)\n",
      "Predicted through Recurrent input tensor([0, 1, 2, 3, 4, 5, 6, 7, 8, 9])\n",
      "Prediction using External drive tensor([0, 1, 2, 3, 4, 5, 6, 7, 8, 9])\n",
      "Actual prediction Loss tensor(-0.8868)\n",
      "Predicted through Recurrent input tensor([0, 1, 2, 3, 4, 5, 6, 7, 8, 9])\n",
      "Prediction using External drive tensor([0, 1, 2, 3, 4, 5, 6, 7, 8, 9])\n",
      "Actual prediction Loss tensor(-0.8767)\n"
     ]
    },
    {
     "name": "stderr",
     "output_type": "stream",
     "text": [
      " 27%|████████████████████▌                                                       | 5410/20000 [00:15<00:38, 378.68it/s]"
     ]
    },
    {
     "name": "stdout",
     "output_type": "stream",
     "text": [
      "Predicted through Recurrent input tensor([9, 1, 2, 3, 4, 5, 6, 7, 8, 1])\n",
      "Prediction using External drive tensor([0, 1, 2, 3, 4, 5, 6, 7, 8, 9])\n",
      "Actual prediction Loss tensor(-0.6389)\n",
      "Predicted through Recurrent input tensor([0, 1, 2, 5, 4, 5, 6, 7, 8, 9])\n",
      "Prediction using External drive tensor([0, 1, 2, 3, 4, 5, 6, 7, 8, 9])\n",
      "Actual prediction Loss tensor(-0.7428)\n",
      "Predicted through Recurrent input tensor([0, 1, 2, 3, 4, 5, 6, 7, 8, 9])\n",
      "Prediction using External drive tensor([0, 1, 2, 3, 4, 5, 6, 7, 8, 9])\n",
      "Actual prediction Loss tensor(-0.8286)\n",
      "Predicted through Recurrent input tensor([4, 1, 2, 0, 1, 5, 3, 7, 8, 9])\n",
      "Prediction using External drive tensor([0, 1, 2, 3, 4, 5, 6, 7, 8, 9])\n",
      "Actual prediction Loss tensor(-0.6537)\n"
     ]
    },
    {
     "name": "stderr",
     "output_type": "stream",
     "text": [
      " 27%|████████████████████▋                                                       | 5450/20000 [00:15<00:38, 376.15it/s]"
     ]
    },
    {
     "name": "stdout",
     "output_type": "stream",
     "text": [
      "Predicted through Recurrent input tensor([0, 1, 2, 3, 4, 5, 6, 7, 8, 9])\n",
      "Prediction using External drive tensor([0, 1, 2, 3, 4, 5, 6, 7, 8, 9])\n",
      "Actual prediction Loss tensor(-0.8708)\n",
      "Predicted through Recurrent input tensor([0, 1, 2, 3, 4, 5, 6, 7, 8, 9])\n",
      "Prediction using External drive tensor([0, 1, 2, 3, 4, 5, 6, 7, 8, 9])\n",
      "Actual prediction Loss tensor(-0.7643)\n",
      "Predicted through Recurrent input tensor([0, 1, 2, 3, 4, 5, 6, 7, 8, 9])\n",
      "Prediction using External drive tensor([0, 1, 2, 3, 4, 5, 6, 7, 8, 9])\n",
      "Actual prediction Loss tensor(-0.7621)\n",
      "Predicted through Recurrent input tensor([0, 1, 2, 3, 4, 5, 6, 7, 8, 9])\n",
      "Prediction using External drive tensor([0, 1, 2, 3, 4, 5, 6, 7, 8, 9])\n",
      "Actual prediction Loss tensor(-0.8896)\n"
     ]
    },
    {
     "name": "stderr",
     "output_type": "stream",
     "text": [
      " 27%|████████████████████▊                                                       | 5490/20000 [00:15<00:38, 379.73it/s]"
     ]
    },
    {
     "name": "stdout",
     "output_type": "stream",
     "text": [
      "Predicted through Recurrent input tensor([0, 1, 2, 3, 4, 5, 6, 7, 8, 9])\n",
      "Prediction using External drive tensor([0, 1, 2, 3, 4, 5, 6, 7, 8, 9])\n",
      "Actual prediction Loss tensor(-0.8799)\n",
      "Predicted through Recurrent input tensor([9, 1, 2, 3, 4, 5, 6, 7, 8, 1])\n",
      "Prediction using External drive tensor([0, 1, 2, 3, 4, 5, 6, 7, 8, 9])\n",
      "Actual prediction Loss tensor(-0.6458)\n",
      "Predicted through Recurrent input tensor([0, 1, 2, 5, 4, 5, 6, 7, 8, 9])\n",
      "Prediction using External drive tensor([0, 1, 2, 3, 4, 5, 6, 7, 8, 9])\n",
      "Actual prediction Loss tensor(-0.7491)\n",
      "Predicted through Recurrent input tensor([0, 1, 2, 3, 4, 5, 6, 7, 8, 9])\n",
      "Prediction using External drive tensor([0, 1, 2, 3, 4, 5, 6, 7, 8, 9])\n",
      "Actual prediction Loss tensor(-0.8328)\n"
     ]
    },
    {
     "name": "stderr",
     "output_type": "stream",
     "text": [
      " 28%|█████████████████████                                                       | 5530/20000 [00:16<00:38, 380.10it/s]"
     ]
    },
    {
     "name": "stdout",
     "output_type": "stream",
     "text": [
      "Predicted through Recurrent input tensor([4, 1, 2, 0, 1, 5, 3, 7, 8, 9])\n",
      "Prediction using External drive tensor([0, 1, 2, 3, 4, 5, 6, 7, 8, 9])\n",
      "Actual prediction Loss tensor(-0.6589)\n",
      "Predicted through Recurrent input tensor([0, 1, 2, 3, 4, 5, 6, 7, 8, 9])\n",
      "Prediction using External drive tensor([0, 1, 2, 3, 4, 5, 6, 7, 8, 9])\n",
      "Actual prediction Loss tensor(-0.8739)\n",
      "Predicted through Recurrent input tensor([0, 1, 2, 3, 4, 5, 6, 7, 8, 9])\n",
      "Prediction using External drive tensor([0, 1, 2, 3, 4, 5, 6, 7, 8, 9])\n",
      "Actual prediction Loss tensor(-0.7690)\n",
      "Predicted through Recurrent input tensor([0, 1, 2, 3, 4, 5, 6, 7, 8, 9])\n",
      "Prediction using External drive tensor([0, 1, 2, 3, 4, 5, 6, 7, 8, 9])\n",
      "Actual prediction Loss tensor(-0.7678)\n"
     ]
    },
    {
     "name": "stderr",
     "output_type": "stream",
     "text": [
      " 28%|█████████████████████▏                                                      | 5570/20000 [00:16<00:38, 375.00it/s]"
     ]
    },
    {
     "name": "stdout",
     "output_type": "stream",
     "text": [
      "Predicted through Recurrent input tensor([0, 1, 2, 3, 4, 5, 6, 7, 8, 9])\n",
      "Prediction using External drive tensor([0, 1, 2, 3, 4, 5, 6, 7, 8, 9])\n",
      "Actual prediction Loss tensor(-0.8924)\n",
      "Predicted through Recurrent input tensor([0, 1, 2, 3, 4, 5, 6, 7, 8, 9])\n",
      "Prediction using External drive tensor([0, 1, 2, 3, 4, 5, 6, 7, 8, 9])\n",
      "Actual prediction Loss tensor(-0.8829)\n",
      "Predicted through Recurrent input tensor([9, 1, 2, 3, 4, 5, 6, 7, 8, 1])\n",
      "Prediction using External drive tensor([0, 1, 2, 3, 4, 5, 6, 7, 8, 9])\n",
      "Actual prediction Loss tensor(-0.6526)\n",
      "Predicted through Recurrent input tensor([0, 1, 2, 5, 4, 5, 6, 7, 8, 9])\n",
      "Prediction using External drive tensor([0, 1, 2, 3, 4, 5, 6, 7, 8, 9])\n",
      "Actual prediction Loss tensor(-0.7553)\n"
     ]
    },
    {
     "name": "stderr",
     "output_type": "stream",
     "text": [
      " 28%|█████████████████████▎                                                      | 5610/20000 [00:16<00:38, 376.77it/s]"
     ]
    },
    {
     "name": "stdout",
     "output_type": "stream",
     "text": [
      "Predicted through Recurrent input tensor([0, 1, 2, 3, 4, 5, 6, 7, 8, 9])\n",
      "Prediction using External drive tensor([0, 1, 2, 3, 4, 5, 6, 7, 8, 9])\n",
      "Actual prediction Loss tensor(-0.8369)\n",
      "Predicted through Recurrent input tensor([4, 1, 2, 0, 1, 5, 3, 7, 8, 9])\n",
      "Prediction using External drive tensor([0, 1, 2, 3, 4, 5, 6, 7, 8, 9])\n",
      "Actual prediction Loss tensor(-0.6641)\n",
      "Predicted through Recurrent input tensor([0, 1, 2, 3, 4, 5, 6, 7, 8, 9])\n",
      "Prediction using External drive tensor([0, 1, 2, 3, 4, 5, 6, 7, 8, 9])\n",
      "Actual prediction Loss tensor(-0.8769)\n",
      "Predicted through Recurrent input tensor([0, 1, 2, 3, 4, 5, 6, 7, 8, 9])\n",
      "Prediction using External drive tensor([0, 1, 2, 3, 4, 5, 6, 7, 8, 9])\n",
      "Actual prediction Loss tensor(-0.7735)\n"
     ]
    },
    {
     "name": "stderr",
     "output_type": "stream",
     "text": [
      " 28%|█████████████████████▍                                                      | 5650/20000 [00:16<00:37, 381.26it/s]"
     ]
    },
    {
     "name": "stdout",
     "output_type": "stream",
     "text": [
      "Predicted through Recurrent input tensor([0, 1, 2, 3, 4, 5, 6, 7, 8, 9])\n",
      "Prediction using External drive tensor([0, 1, 2, 3, 4, 5, 6, 7, 8, 9])\n",
      "Actual prediction Loss tensor(-0.7733)\n",
      "Predicted through Recurrent input tensor([0, 1, 2, 3, 4, 5, 6, 7, 8, 9])\n",
      "Prediction using External drive tensor([0, 1, 2, 3, 4, 5, 6, 7, 8, 9])\n",
      "Actual prediction Loss tensor(-0.8950)\n",
      "Predicted through Recurrent input tensor([0, 1, 2, 3, 4, 5, 6, 7, 8, 9])\n",
      "Prediction using External drive tensor([0, 1, 2, 3, 4, 5, 6, 7, 8, 9])\n",
      "Actual prediction Loss tensor(-0.8858)\n",
      "Predicted through Recurrent input tensor([9, 1, 2, 3, 4, 5, 6, 7, 8, 1])\n",
      "Prediction using External drive tensor([0, 1, 2, 3, 4, 5, 6, 7, 8, 9])\n",
      "Actual prediction Loss tensor(-0.6592)\n"
     ]
    },
    {
     "name": "stderr",
     "output_type": "stream",
     "text": [
      " 28%|█████████████████████▌                                                      | 5690/20000 [00:16<00:37, 381.16it/s]"
     ]
    },
    {
     "name": "stdout",
     "output_type": "stream",
     "text": [
      "Predicted through Recurrent input tensor([0, 1, 2, 5, 4, 5, 6, 7, 8, 9])\n",
      "Prediction using External drive tensor([0, 1, 2, 3, 4, 5, 6, 7, 8, 9])\n",
      "Actual prediction Loss tensor(-0.7613)\n",
      "Predicted through Recurrent input tensor([0, 1, 2, 3, 4, 5, 6, 7, 8, 9])\n",
      "Prediction using External drive tensor([0, 1, 2, 3, 4, 5, 6, 7, 8, 9])\n",
      "Actual prediction Loss tensor(-0.8409)\n",
      "Predicted through Recurrent input tensor([4, 1, 2, 0, 1, 5, 3, 7, 8, 9])\n",
      "Prediction using External drive tensor([0, 1, 2, 3, 4, 5, 6, 7, 8, 9])\n",
      "Actual prediction Loss tensor(-0.6692)\n",
      "Predicted through Recurrent input tensor([0, 1, 2, 3, 4, 5, 6, 7, 8, 9])\n",
      "Prediction using External drive tensor([0, 1, 2, 3, 4, 5, 6, 7, 8, 9])\n",
      "Actual prediction Loss tensor(-0.8798)\n"
     ]
    },
    {
     "name": "stderr",
     "output_type": "stream",
     "text": [
      " 29%|█████████████████████▊                                                      | 5730/20000 [00:16<00:37, 385.51it/s]"
     ]
    },
    {
     "name": "stdout",
     "output_type": "stream",
     "text": [
      "Predicted through Recurrent input tensor([0, 1, 2, 3, 4, 5, 6, 7, 8, 9])\n",
      "Prediction using External drive tensor([0, 1, 2, 3, 4, 5, 6, 7, 8, 9])\n",
      "Actual prediction Loss tensor(-0.7780)\n",
      "Predicted through Recurrent input tensor([0, 1, 2, 3, 4, 5, 6, 7, 8, 9])\n",
      "Prediction using External drive tensor([0, 1, 2, 3, 4, 5, 6, 7, 8, 9])\n",
      "Actual prediction Loss tensor(-0.7787)\n",
      "Predicted through Recurrent input tensor([0, 1, 2, 3, 4, 5, 6, 7, 8, 9])\n",
      "Prediction using External drive tensor([0, 1, 2, 3, 4, 5, 6, 7, 8, 9])\n",
      "Actual prediction Loss tensor(-0.8976)\n",
      "Predicted through Recurrent input tensor([0, 1, 2, 3, 4, 5, 6, 7, 8, 9])\n",
      "Prediction using External drive tensor([0, 1, 2, 3, 4, 5, 6, 7, 8, 9])\n",
      "Actual prediction Loss tensor(-0.8886)\n"
     ]
    },
    {
     "name": "stderr",
     "output_type": "stream",
     "text": [
      " 29%|█████████████████████▉                                                      | 5771/20000 [00:16<00:36, 390.30it/s]"
     ]
    },
    {
     "name": "stdout",
     "output_type": "stream",
     "text": [
      "Predicted through Recurrent input tensor([9, 1, 2, 3, 4, 5, 6, 7, 8, 1])\n",
      "Prediction using External drive tensor([0, 1, 2, 3, 4, 5, 6, 7, 8, 9])\n",
      "Actual prediction Loss tensor(-0.6657)\n",
      "Predicted through Recurrent input tensor([0, 1, 2, 5, 4, 5, 6, 7, 8, 9])\n",
      "Prediction using External drive tensor([0, 1, 2, 3, 4, 5, 6, 7, 8, 9])\n",
      "Actual prediction Loss tensor(-0.7672)\n",
      "Predicted through Recurrent input tensor([0, 1, 2, 3, 4, 5, 6, 7, 8, 9])\n",
      "Prediction using External drive tensor([0, 1, 2, 3, 4, 5, 6, 7, 8, 9])\n",
      "Actual prediction Loss tensor(-0.8447)\n",
      "Predicted through Recurrent input tensor([4, 1, 2, 0, 1, 5, 3, 7, 8, 9])\n",
      "Prediction using External drive tensor([0, 1, 2, 3, 4, 5, 6, 7, 8, 9])\n",
      "Actual prediction Loss tensor(-0.6742)\n"
     ]
    },
    {
     "name": "stderr",
     "output_type": "stream",
     "text": [
      " 29%|██████████████████████                                                      | 5811/20000 [00:16<00:37, 380.81it/s]"
     ]
    },
    {
     "name": "stdout",
     "output_type": "stream",
     "text": [
      "Predicted through Recurrent input tensor([0, 1, 2, 3, 4, 5, 6, 7, 8, 9])\n",
      "Prediction using External drive tensor([0, 1, 2, 3, 4, 5, 6, 7, 8, 9])\n",
      "Actual prediction Loss tensor(-0.8826)\n",
      "Predicted through Recurrent input tensor([0, 1, 2, 3, 4, 5, 6, 7, 8, 9])\n",
      "Prediction using External drive tensor([0, 1, 2, 3, 4, 5, 6, 7, 8, 9])\n",
      "Actual prediction Loss tensor(-0.7823)\n",
      "Predicted through Recurrent input tensor([0, 1, 2, 3, 4, 5, 6, 7, 8, 9])\n",
      "Prediction using External drive tensor([0, 1, 2, 3, 4, 5, 6, 7, 8, 9])\n",
      "Actual prediction Loss tensor(-0.7839)\n",
      "Predicted through Recurrent input tensor([0, 1, 2, 3, 4, 5, 6, 7, 8, 9])\n",
      "Prediction using External drive tensor([0, 1, 2, 3, 4, 5, 6, 7, 8, 9])\n",
      "Actual prediction Loss tensor(-0.9000)\n"
     ]
    },
    {
     "name": "stderr",
     "output_type": "stream",
     "text": [
      " 29%|██████████████████████▏                                                     | 5850/20000 [00:16<00:37, 380.16it/s]"
     ]
    },
    {
     "name": "stdout",
     "output_type": "stream",
     "text": [
      "Predicted through Recurrent input tensor([0, 1, 2, 3, 4, 5, 6, 7, 8, 9])\n",
      "Prediction using External drive tensor([0, 1, 2, 3, 4, 5, 6, 7, 8, 9])\n",
      "Actual prediction Loss tensor(-0.8912)\n",
      "Predicted through Recurrent input tensor([9, 1, 2, 3, 4, 5, 6, 7, 8, 1])\n",
      "Prediction using External drive tensor([0, 1, 2, 3, 4, 5, 6, 7, 8, 9])\n",
      "Actual prediction Loss tensor(-0.6721)\n",
      "Predicted through Recurrent input tensor([0, 1, 2, 5, 4, 5, 6, 7, 8, 9])\n",
      "Prediction using External drive tensor([0, 1, 2, 3, 4, 5, 6, 7, 8, 9])\n",
      "Actual prediction Loss tensor(-0.7730)\n",
      "Predicted through Recurrent input tensor([0, 1, 2, 3, 4, 5, 6, 7, 8, 9])\n",
      "Prediction using External drive tensor([0, 1, 2, 3, 4, 5, 6, 7, 8, 9])\n",
      "Actual prediction Loss tensor(-0.8484)\n"
     ]
    },
    {
     "name": "stderr",
     "output_type": "stream",
     "text": [
      " 29%|██████████████████████▍                                                     | 5890/20000 [00:17<00:37, 379.31it/s]"
     ]
    },
    {
     "name": "stdout",
     "output_type": "stream",
     "text": [
      "Predicted through Recurrent input tensor([4, 1, 2, 0, 1, 5, 3, 7, 8, 9])\n",
      "Prediction using External drive tensor([0, 1, 2, 3, 4, 5, 6, 7, 8, 9])\n",
      "Actual prediction Loss tensor(-0.6791)\n",
      "Predicted through Recurrent input tensor([0, 1, 2, 3, 4, 5, 6, 7, 8, 9])\n",
      "Prediction using External drive tensor([0, 1, 2, 3, 4, 5, 6, 7, 8, 9])\n",
      "Actual prediction Loss tensor(-0.8852)\n",
      "Predicted through Recurrent input tensor([0, 1, 2, 3, 4, 5, 6, 7, 8, 9])\n",
      "Prediction using External drive tensor([0, 1, 2, 3, 4, 5, 6, 7, 8, 9])\n",
      "Actual prediction Loss tensor(-0.7865)\n",
      "Predicted through Recurrent input tensor([0, 1, 2, 3, 4, 5, 6, 7, 8, 9])\n",
      "Prediction using External drive tensor([0, 1, 2, 3, 4, 5, 6, 7, 8, 9])\n",
      "Actual prediction Loss tensor(-0.7890)\n"
     ]
    },
    {
     "name": "stderr",
     "output_type": "stream",
     "text": [
      " 30%|██████████████████████▌                                                     | 5930/20000 [00:17<00:37, 377.65it/s]"
     ]
    },
    {
     "name": "stdout",
     "output_type": "stream",
     "text": [
      "Predicted through Recurrent input tensor([0, 1, 2, 3, 4, 5, 6, 7, 8, 9])\n",
      "Prediction using External drive tensor([0, 1, 2, 3, 4, 5, 6, 7, 8, 9])\n",
      "Actual prediction Loss tensor(-0.9024)\n",
      "Predicted through Recurrent input tensor([0, 1, 2, 3, 4, 5, 6, 7, 8, 9])\n",
      "Prediction using External drive tensor([0, 1, 2, 3, 4, 5, 6, 7, 8, 9])\n",
      "Actual prediction Loss tensor(-0.8938)\n",
      "Predicted through Recurrent input tensor([9, 1, 2, 3, 4, 5, 6, 7, 8, 1])\n",
      "Prediction using External drive tensor([0, 1, 2, 3, 4, 5, 6, 7, 8, 9])\n",
      "Actual prediction Loss tensor(-0.6784)\n",
      "Predicted through Recurrent input tensor([0, 1, 2, 3, 4, 5, 6, 7, 8, 9])\n",
      "Prediction using External drive tensor([0, 1, 2, 3, 4, 5, 6, 7, 8, 9])\n",
      "Actual prediction Loss tensor(-0.7786)\n"
     ]
    },
    {
     "name": "stderr",
     "output_type": "stream",
     "text": [
      " 30%|██████████████████████▋                                                     | 5970/20000 [00:17<00:37, 378.64it/s]"
     ]
    },
    {
     "name": "stdout",
     "output_type": "stream",
     "text": [
      "Predicted through Recurrent input tensor([0, 1, 2, 3, 4, 5, 6, 7, 8, 9])\n",
      "Prediction using External drive tensor([0, 1, 2, 3, 4, 5, 6, 7, 8, 9])\n",
      "Actual prediction Loss tensor(-0.8519)\n",
      "Predicted through Recurrent input tensor([4, 1, 2, 0, 1, 5, 3, 7, 8, 9])\n",
      "Prediction using External drive tensor([0, 1, 2, 3, 4, 5, 6, 7, 8, 9])\n",
      "Actual prediction Loss tensor(-0.6840)\n",
      "Predicted through Recurrent input tensor([0, 1, 2, 3, 4, 5, 6, 7, 8, 9])\n",
      "Prediction using External drive tensor([0, 1, 2, 3, 4, 5, 6, 7, 8, 9])\n",
      "Actual prediction Loss tensor(-0.8878)\n",
      "Predicted through Recurrent input tensor([0, 1, 2, 3, 4, 5, 6, 7, 8, 9])\n",
      "Prediction using External drive tensor([0, 1, 2, 3, 4, 5, 6, 7, 8, 9])\n",
      "Actual prediction Loss tensor(-0.7905)\n"
     ]
    },
    {
     "name": "stderr",
     "output_type": "stream",
     "text": [
      " 30%|██████████████████████▊                                                     | 6010/20000 [00:17<00:36, 380.41it/s]"
     ]
    },
    {
     "name": "stdout",
     "output_type": "stream",
     "text": [
      "Predicted through Recurrent input tensor([0, 1, 2, 3, 4, 5, 6, 7, 8, 9])\n",
      "Prediction using External drive tensor([0, 1, 2, 3, 4, 5, 6, 7, 8, 9])\n",
      "Actual prediction Loss tensor(-0.7939)\n",
      "Predicted through Recurrent input tensor([0, 1, 2, 3, 4, 5, 6, 7, 8, 9])\n",
      "Prediction using External drive tensor([0, 1, 2, 3, 4, 5, 6, 7, 8, 9])\n",
      "Actual prediction Loss tensor(-0.9046)\n",
      "Predicted through Recurrent input tensor([0, 1, 2, 3, 4, 5, 6, 7, 8, 9])\n",
      "Prediction using External drive tensor([0, 1, 2, 3, 4, 5, 6, 7, 8, 9])\n",
      "Actual prediction Loss tensor(-0.8963)\n",
      "Predicted through Recurrent input tensor([9, 1, 2, 3, 4, 5, 6, 7, 8, 1])\n",
      "Prediction using External drive tensor([0, 1, 2, 3, 4, 5, 6, 7, 8, 9])\n",
      "Actual prediction Loss tensor(-0.6846)\n"
     ]
    },
    {
     "name": "stderr",
     "output_type": "stream",
     "text": [
      " 30%|██████████████████████▉                                                     | 6050/20000 [00:17<00:36, 377.34it/s]"
     ]
    },
    {
     "name": "stdout",
     "output_type": "stream",
     "text": [
      "Predicted through Recurrent input tensor([0, 1, 2, 3, 4, 5, 6, 7, 8, 9])\n",
      "Prediction using External drive tensor([0, 1, 2, 3, 4, 5, 6, 7, 8, 9])\n",
      "Actual prediction Loss tensor(-0.7840)\n",
      "Predicted through Recurrent input tensor([0, 1, 2, 3, 4, 5, 6, 7, 8, 9])\n",
      "Prediction using External drive tensor([0, 1, 2, 3, 4, 5, 6, 7, 8, 9])\n",
      "Actual prediction Loss tensor(-0.8553)\n",
      "Predicted through Recurrent input tensor([4, 1, 2, 0, 1, 5, 3, 7, 8, 9])\n",
      "Prediction using External drive tensor([0, 1, 2, 3, 4, 5, 6, 7, 8, 9])\n",
      "Actual prediction Loss tensor(-0.6888)\n",
      "Predicted through Recurrent input tensor([0, 1, 2, 3, 4, 5, 6, 7, 8, 9])\n",
      "Prediction using External drive tensor([0, 1, 2, 3, 4, 5, 6, 7, 8, 9])\n",
      "Actual prediction Loss tensor(-0.8903)\n"
     ]
    },
    {
     "name": "stderr",
     "output_type": "stream",
     "text": [
      " 30%|███████████████████████▏                                                    | 6090/20000 [00:17<00:36, 381.67it/s]"
     ]
    },
    {
     "name": "stdout",
     "output_type": "stream",
     "text": [
      "Predicted through Recurrent input tensor([0, 1, 2, 3, 4, 5, 6, 7, 8, 9])\n",
      "Prediction using External drive tensor([0, 1, 2, 3, 4, 5, 6, 7, 8, 9])\n",
      "Actual prediction Loss tensor(-0.7945)\n",
      "Predicted through Recurrent input tensor([0, 1, 2, 3, 4, 5, 6, 7, 8, 9])\n",
      "Prediction using External drive tensor([0, 1, 2, 3, 4, 5, 6, 7, 8, 9])\n",
      "Actual prediction Loss tensor(-0.7987)\n",
      "Predicted through Recurrent input tensor([0, 1, 2, 3, 4, 5, 6, 7, 8, 9])\n",
      "Prediction using External drive tensor([0, 1, 2, 3, 4, 5, 6, 7, 8, 9])\n",
      "Actual prediction Loss tensor(-0.9068)\n",
      "Predicted through Recurrent input tensor([0, 1, 2, 3, 4, 5, 6, 7, 8, 9])\n",
      "Prediction using External drive tensor([0, 1, 2, 3, 4, 5, 6, 7, 8, 9])\n",
      "Actual prediction Loss tensor(-0.8987)\n"
     ]
    },
    {
     "name": "stderr",
     "output_type": "stream",
     "text": [
      " 31%|███████████████████████▎                                                    | 6130/20000 [00:17<00:36, 384.75it/s]"
     ]
    },
    {
     "name": "stdout",
     "output_type": "stream",
     "text": [
      "Predicted through Recurrent input tensor([9, 1, 2, 3, 4, 5, 6, 7, 8, 1])\n",
      "Prediction using External drive tensor([0, 1, 2, 3, 4, 5, 6, 7, 8, 9])\n",
      "Actual prediction Loss tensor(-0.6906)\n",
      "Predicted through Recurrent input tensor([0, 1, 2, 3, 4, 5, 6, 7, 8, 9])\n",
      "Prediction using External drive tensor([0, 1, 2, 3, 4, 5, 6, 7, 8, 9])\n",
      "Actual prediction Loss tensor(-0.7893)\n",
      "Predicted through Recurrent input tensor([0, 1, 2, 3, 4, 5, 6, 7, 8, 9])\n",
      "Prediction using External drive tensor([0, 1, 2, 3, 4, 5, 6, 7, 8, 9])\n",
      "Actual prediction Loss tensor(-0.8586)\n",
      "Predicted through Recurrent input tensor([4, 1, 2, 0, 1, 5, 3, 7, 8, 9])\n",
      "Prediction using External drive tensor([0, 1, 2, 3, 4, 5, 6, 7, 8, 9])\n",
      "Actual prediction Loss tensor(-0.6935)\n"
     ]
    },
    {
     "name": "stderr",
     "output_type": "stream",
     "text": [
      " 31%|███████████████████████▍                                                    | 6170/20000 [00:17<00:36, 383.61it/s]"
     ]
    },
    {
     "name": "stdout",
     "output_type": "stream",
     "text": [
      "Predicted through Recurrent input tensor([0, 1, 2, 3, 4, 5, 6, 7, 8, 9])\n",
      "Prediction using External drive tensor([0, 1, 2, 3, 4, 5, 6, 7, 8, 9])\n",
      "Actual prediction Loss tensor(-0.8927)\n",
      "Predicted through Recurrent input tensor([0, 1, 2, 3, 4, 5, 6, 7, 8, 9])\n",
      "Prediction using External drive tensor([0, 1, 2, 3, 4, 5, 6, 7, 8, 9])\n",
      "Actual prediction Loss tensor(-0.7983)\n",
      "Predicted through Recurrent input tensor([0, 1, 2, 3, 4, 5, 6, 7, 8, 9])\n",
      "Prediction using External drive tensor([0, 1, 2, 3, 4, 5, 6, 7, 8, 9])\n",
      "Actual prediction Loss tensor(-0.8034)\n",
      "Predicted through Recurrent input tensor([0, 1, 2, 3, 4, 5, 6, 7, 8, 9])\n",
      "Prediction using External drive tensor([0, 1, 2, 3, 4, 5, 6, 7, 8, 9])\n",
      "Actual prediction Loss tensor(-0.9089)\n"
     ]
    },
    {
     "name": "stderr",
     "output_type": "stream",
     "text": [
      " 31%|███████████████████████▌                                                    | 6210/20000 [00:17<00:36, 382.81it/s]"
     ]
    },
    {
     "name": "stdout",
     "output_type": "stream",
     "text": [
      "Predicted through Recurrent input tensor([0, 1, 2, 3, 4, 5, 6, 7, 8, 9])\n",
      "Prediction using External drive tensor([0, 1, 2, 3, 4, 5, 6, 7, 8, 9])\n",
      "Actual prediction Loss tensor(-0.9010)\n",
      "Predicted through Recurrent input tensor([9, 1, 2, 3, 4, 5, 6, 7, 8, 9])\n",
      "Prediction using External drive tensor([0, 1, 2, 3, 4, 5, 6, 7, 8, 9])\n",
      "Actual prediction Loss tensor(-0.6965)\n",
      "Predicted through Recurrent input tensor([0, 1, 2, 3, 4, 5, 6, 7, 8, 9])\n",
      "Prediction using External drive tensor([0, 1, 2, 3, 4, 5, 6, 7, 8, 9])\n",
      "Actual prediction Loss tensor(-0.7945)\n",
      "Predicted through Recurrent input tensor([0, 1, 2, 3, 4, 5, 6, 7, 8, 9])\n",
      "Prediction using External drive tensor([0, 1, 2, 3, 4, 5, 6, 7, 8, 9])\n",
      "Actual prediction Loss tensor(-0.8618)\n"
     ]
    },
    {
     "name": "stderr",
     "output_type": "stream",
     "text": [
      " 31%|███████████████████████▊                                                    | 6250/20000 [00:17<00:36, 380.07it/s]"
     ]
    },
    {
     "name": "stdout",
     "output_type": "stream",
     "text": [
      "Predicted through Recurrent input tensor([4, 1, 2, 0, 1, 5, 3, 7, 8, 9])\n",
      "Prediction using External drive tensor([0, 1, 2, 3, 4, 5, 6, 7, 8, 9])\n",
      "Actual prediction Loss tensor(-0.6981)\n",
      "Predicted through Recurrent input tensor([0, 1, 2, 3, 4, 5, 6, 7, 8, 9])\n",
      "Prediction using External drive tensor([0, 1, 2, 3, 4, 5, 6, 7, 8, 9])\n",
      "Actual prediction Loss tensor(-0.8950)\n",
      "Predicted through Recurrent input tensor([0, 1, 2, 3, 4, 5, 6, 7, 8, 9])\n",
      "Prediction using External drive tensor([0, 1, 2, 3, 4, 5, 6, 7, 8, 9])\n",
      "Actual prediction Loss tensor(-0.8021)\n",
      "Predicted through Recurrent input tensor([0, 1, 2, 3, 4, 5, 6, 7, 8, 9])\n",
      "Prediction using External drive tensor([0, 1, 2, 3, 4, 5, 6, 7, 8, 9])\n",
      "Actual prediction Loss tensor(-0.8079)\n"
     ]
    },
    {
     "name": "stderr",
     "output_type": "stream",
     "text": [
      " 31%|███████████████████████▉                                                    | 6290/20000 [00:18<00:36, 376.05it/s]"
     ]
    },
    {
     "name": "stdout",
     "output_type": "stream",
     "text": [
      "Predicted through Recurrent input tensor([0, 1, 2, 3, 4, 5, 6, 7, 8, 9])\n",
      "Prediction using External drive tensor([0, 1, 2, 3, 4, 5, 6, 7, 8, 9])\n",
      "Actual prediction Loss tensor(-0.9110)\n",
      "Predicted through Recurrent input tensor([0, 1, 2, 3, 4, 5, 6, 7, 8, 9])\n",
      "Prediction using External drive tensor([0, 1, 2, 3, 4, 5, 6, 7, 8, 9])\n",
      "Actual prediction Loss tensor(-0.9032)\n",
      "Predicted through Recurrent input tensor([9, 1, 2, 3, 4, 5, 6, 7, 8, 9])\n",
      "Prediction using External drive tensor([0, 1, 2, 3, 4, 5, 6, 7, 8, 9])\n",
      "Actual prediction Loss tensor(-0.7023)\n",
      "Predicted through Recurrent input tensor([0, 1, 2, 3, 4, 5, 6, 7, 8, 9])\n",
      "Prediction using External drive tensor([0, 1, 2, 3, 4, 5, 6, 7, 8, 9])\n",
      "Actual prediction Loss tensor(-0.7996)\n"
     ]
    },
    {
     "name": "stderr",
     "output_type": "stream",
     "text": [
      " 32%|████████████████████████                                                    | 6330/20000 [00:18<00:36, 376.44it/s]"
     ]
    },
    {
     "name": "stdout",
     "output_type": "stream",
     "text": [
      "Predicted through Recurrent input tensor([0, 1, 2, 3, 4, 5, 6, 7, 8, 9])\n",
      "Prediction using External drive tensor([0, 1, 2, 3, 4, 5, 6, 7, 8, 9])\n",
      "Actual prediction Loss tensor(-0.8649)\n",
      "Predicted through Recurrent input tensor([4, 1, 2, 0, 1, 5, 3, 7, 8, 9])\n",
      "Prediction using External drive tensor([0, 1, 2, 3, 4, 5, 6, 7, 8, 9])\n",
      "Actual prediction Loss tensor(-0.7027)\n",
      "Predicted through Recurrent input tensor([0, 1, 2, 3, 4, 5, 6, 7, 8, 9])\n",
      "Prediction using External drive tensor([0, 1, 2, 3, 4, 5, 6, 7, 8, 9])\n",
      "Actual prediction Loss tensor(-0.8972)\n",
      "Predicted through Recurrent input tensor([0, 1, 2, 3, 4, 5, 6, 7, 8, 9])\n",
      "Prediction using External drive tensor([0, 1, 2, 3, 4, 5, 6, 7, 8, 9])\n",
      "Actual prediction Loss tensor(-0.8057)\n"
     ]
    },
    {
     "name": "stderr",
     "output_type": "stream",
     "text": [
      " 32%|████████████████████████▏                                                   | 6370/20000 [00:18<00:36, 373.55it/s]"
     ]
    },
    {
     "name": "stdout",
     "output_type": "stream",
     "text": [
      "Predicted through Recurrent input tensor([0, 1, 2, 3, 4, 5, 6, 7, 8, 9])\n",
      "Prediction using External drive tensor([0, 1, 2, 3, 4, 5, 6, 7, 8, 9])\n",
      "Actual prediction Loss tensor(-0.8123)\n",
      "Predicted through Recurrent input tensor([0, 1, 2, 3, 4, 5, 6, 7, 8, 9])\n",
      "Prediction using External drive tensor([0, 1, 2, 3, 4, 5, 6, 7, 8, 9])\n",
      "Actual prediction Loss tensor(-0.9130)\n",
      "Predicted through Recurrent input tensor([0, 1, 2, 3, 4, 5, 6, 7, 8, 9])\n",
      "Prediction using External drive tensor([0, 1, 2, 3, 4, 5, 6, 7, 8, 9])\n",
      "Actual prediction Loss tensor(-0.9054)\n",
      "Predicted through Recurrent input tensor([9, 1, 2, 3, 4, 5, 6, 7, 8, 9])\n",
      "Prediction using External drive tensor([0, 1, 2, 3, 4, 5, 6, 7, 8, 9])\n",
      "Actual prediction Loss tensor(-0.7080)\n"
     ]
    },
    {
     "name": "stderr",
     "output_type": "stream",
     "text": [
      " 32%|████████████████████████▎                                                   | 6410/20000 [00:18<00:36, 372.59it/s]"
     ]
    },
    {
     "name": "stdout",
     "output_type": "stream",
     "text": [
      "Predicted through Recurrent input tensor([0, 1, 2, 3, 4, 5, 6, 7, 8, 9])\n",
      "Prediction using External drive tensor([0, 1, 2, 3, 4, 5, 6, 7, 8, 9])\n",
      "Actual prediction Loss tensor(-0.8045)\n",
      "Predicted through Recurrent input tensor([0, 1, 2, 3, 4, 5, 6, 7, 8, 9])\n",
      "Prediction using External drive tensor([0, 1, 2, 3, 4, 5, 6, 7, 8, 9])\n",
      "Actual prediction Loss tensor(-0.8678)\n",
      "Predicted through Recurrent input tensor([4, 1, 2, 0, 1, 5, 3, 7, 8, 9])\n",
      "Prediction using External drive tensor([0, 1, 2, 3, 4, 5, 6, 7, 8, 9])\n",
      "Actual prediction Loss tensor(-0.7072)\n",
      "Predicted through Recurrent input tensor([0, 1, 2, 3, 4, 5, 6, 7, 8, 9])\n",
      "Prediction using External drive tensor([0, 1, 2, 3, 4, 5, 6, 7, 8, 9])\n",
      "Actual prediction Loss tensor(-0.8993)\n"
     ]
    },
    {
     "name": "stderr",
     "output_type": "stream",
     "text": [
      " 32%|████████████████████████▌                                                   | 6450/20000 [00:18<00:36, 375.06it/s]"
     ]
    },
    {
     "name": "stdout",
     "output_type": "stream",
     "text": [
      "Predicted through Recurrent input tensor([0, 1, 2, 3, 4, 5, 6, 7, 8, 9])\n",
      "Prediction using External drive tensor([0, 1, 2, 3, 4, 5, 6, 7, 8, 9])\n",
      "Actual prediction Loss tensor(-0.8093)\n",
      "Predicted through Recurrent input tensor([0, 1, 2, 3, 4, 5, 6, 7, 8, 9])\n",
      "Prediction using External drive tensor([0, 1, 2, 3, 4, 5, 6, 7, 8, 9])\n",
      "Actual prediction Loss tensor(-0.8165)\n",
      "Predicted through Recurrent input tensor([0, 1, 2, 3, 4, 5, 6, 7, 8, 9])\n",
      "Prediction using External drive tensor([0, 1, 2, 3, 4, 5, 6, 7, 8, 9])\n",
      "Actual prediction Loss tensor(-0.9149)\n",
      "Predicted through Recurrent input tensor([0, 1, 2, 3, 4, 5, 6, 7, 8, 9])\n",
      "Prediction using External drive tensor([0, 1, 2, 3, 4, 5, 6, 7, 8, 9])\n",
      "Actual prediction Loss tensor(-0.9075)\n"
     ]
    },
    {
     "name": "stderr",
     "output_type": "stream",
     "text": [
      " 32%|████████████████████████▋                                                   | 6490/20000 [00:18<00:35, 376.81it/s]"
     ]
    },
    {
     "name": "stdout",
     "output_type": "stream",
     "text": [
      "Predicted through Recurrent input tensor([9, 1, 2, 3, 4, 5, 6, 7, 8, 9])\n",
      "Prediction using External drive tensor([0, 1, 2, 3, 4, 5, 6, 7, 8, 9])\n",
      "Actual prediction Loss tensor(-0.7136)\n",
      "Predicted through Recurrent input tensor([0, 1, 2, 3, 4, 5, 6, 7, 8, 9])\n",
      "Prediction using External drive tensor([0, 1, 2, 3, 4, 5, 6, 7, 8, 9])\n",
      "Actual prediction Loss tensor(-0.8092)\n",
      "Predicted through Recurrent input tensor([0, 1, 2, 3, 4, 5, 6, 7, 8, 9])\n",
      "Prediction using External drive tensor([0, 1, 2, 3, 4, 5, 6, 7, 8, 9])\n",
      "Actual prediction Loss tensor(-0.8707)\n"
     ]
    },
    {
     "name": "stderr",
     "output_type": "stream",
     "text": [
      " 33%|████████████████████████▊                                                   | 6528/20000 [00:18<00:35, 377.76it/s]"
     ]
    },
    {
     "name": "stdout",
     "output_type": "stream",
     "text": [
      "Predicted through Recurrent input tensor([4, 1, 2, 0, 1, 5, 3, 7, 8, 9])\n",
      "Prediction using External drive tensor([0, 1, 2, 3, 4, 5, 6, 7, 8, 9])\n",
      "Actual prediction Loss tensor(-0.7116)\n",
      "Predicted through Recurrent input tensor([0, 1, 2, 3, 4, 5, 6, 7, 8, 9])\n",
      "Prediction using External drive tensor([0, 1, 2, 3, 4, 5, 6, 7, 8, 9])\n",
      "Actual prediction Loss tensor(-0.9014)\n",
      "Predicted through Recurrent input tensor([0, 1, 2, 3, 4, 5, 6, 7, 8, 9])\n",
      "Prediction using External drive tensor([0, 1, 2, 3, 4, 5, 6, 7, 8, 9])\n",
      "Actual prediction Loss tensor(-0.8127)\n",
      "Predicted through Recurrent input tensor([0, 1, 2, 3, 4, 5, 6, 7, 8, 9])\n",
      "Prediction using External drive tensor([0, 1, 2, 3, 4, 5, 6, 7, 8, 9])\n",
      "Actual prediction Loss tensor(-0.8206)\n"
     ]
    },
    {
     "name": "stderr",
     "output_type": "stream",
     "text": [
      " 33%|████████████████████████▉                                                   | 6566/20000 [00:18<00:36, 372.86it/s]"
     ]
    },
    {
     "name": "stdout",
     "output_type": "stream",
     "text": [
      "Predicted through Recurrent input tensor([0, 1, 2, 3, 4, 5, 6, 7, 8, 9])\n",
      "Prediction using External drive tensor([0, 1, 2, 3, 4, 5, 6, 7, 8, 9])\n",
      "Actual prediction Loss tensor(-0.9167)\n",
      "Predicted through Recurrent input tensor([0, 1, 2, 3, 4, 5, 6, 7, 8, 9])\n",
      "Prediction using External drive tensor([0, 1, 2, 3, 4, 5, 6, 7, 8, 9])\n",
      "Actual prediction Loss tensor(-0.9095)\n",
      "Predicted through Recurrent input tensor([9, 1, 2, 3, 4, 5, 6, 7, 8, 9])\n",
      "Prediction using External drive tensor([0, 1, 2, 3, 4, 5, 6, 7, 8, 9])\n",
      "Actual prediction Loss tensor(-0.7191)\n",
      "Predicted through Recurrent input tensor([0, 1, 2, 3, 4, 5, 6, 7, 8, 9])\n",
      "Prediction using External drive tensor([0, 1, 2, 3, 4, 5, 6, 7, 8, 9])\n",
      "Actual prediction Loss tensor(-0.8139)\n"
     ]
    },
    {
     "name": "stderr",
     "output_type": "stream",
     "text": [
      " 33%|█████████████████████████                                                   | 6604/20000 [00:18<00:35, 373.87it/s]"
     ]
    },
    {
     "name": "stdout",
     "output_type": "stream",
     "text": [
      "Predicted through Recurrent input tensor([0, 1, 2, 3, 4, 5, 6, 7, 8, 9])\n",
      "Prediction using External drive tensor([0, 1, 2, 3, 4, 5, 6, 7, 8, 9])\n",
      "Actual prediction Loss tensor(-0.8735)\n",
      "Predicted through Recurrent input tensor([4, 1, 2, 0, 1, 5, 3, 7, 8, 9])\n",
      "Prediction using External drive tensor([0, 1, 2, 3, 4, 5, 6, 7, 8, 9])\n",
      "Actual prediction Loss tensor(-0.7160)\n",
      "Predicted through Recurrent input tensor([0, 1, 2, 3, 4, 5, 6, 7, 8, 9])\n",
      "Prediction using External drive tensor([0, 1, 2, 3, 4, 5, 6, 7, 8, 9])\n",
      "Actual prediction Loss tensor(-0.9034)\n",
      "Predicted through Recurrent input tensor([0, 1, 2, 3, 4, 5, 6, 7, 8, 9])\n",
      "Prediction using External drive tensor([0, 1, 2, 3, 4, 5, 6, 7, 8, 9])\n",
      "Actual prediction Loss tensor(-0.8161)\n"
     ]
    },
    {
     "name": "stderr",
     "output_type": "stream",
     "text": [
      " 33%|█████████████████████████▏                                                  | 6642/20000 [00:19<00:35, 374.57it/s]"
     ]
    },
    {
     "name": "stdout",
     "output_type": "stream",
     "text": [
      "Predicted through Recurrent input tensor([0, 1, 2, 3, 4, 5, 6, 7, 8, 9])\n",
      "Prediction using External drive tensor([0, 1, 2, 3, 4, 5, 6, 7, 8, 9])\n",
      "Actual prediction Loss tensor(-0.8246)\n",
      "Predicted through Recurrent input tensor([0, 1, 2, 3, 4, 5, 6, 7, 8, 9])\n",
      "Prediction using External drive tensor([0, 1, 2, 3, 4, 5, 6, 7, 8, 9])\n",
      "Actual prediction Loss tensor(-0.9185)\n",
      "Predicted through Recurrent input tensor([0, 1, 2, 3, 4, 5, 6, 7, 8, 9])\n",
      "Prediction using External drive tensor([0, 1, 2, 3, 4, 5, 6, 7, 8, 9])\n",
      "Actual prediction Loss tensor(-0.9114)\n",
      "Predicted through Recurrent input tensor([9, 1, 2, 3, 4, 5, 6, 7, 8, 9])\n",
      "Prediction using External drive tensor([0, 1, 2, 3, 4, 5, 6, 7, 8, 9])\n",
      "Actual prediction Loss tensor(-0.7245)\n"
     ]
    },
    {
     "name": "stderr",
     "output_type": "stream",
     "text": [
      " 33%|█████████████████████████▍                                                  | 6680/20000 [00:19<00:35, 371.77it/s]"
     ]
    },
    {
     "name": "stdout",
     "output_type": "stream",
     "text": [
      "Predicted through Recurrent input tensor([0, 1, 2, 3, 4, 5, 6, 7, 8, 9])\n",
      "Prediction using External drive tensor([0, 1, 2, 3, 4, 5, 6, 7, 8, 9])\n",
      "Actual prediction Loss tensor(-0.8184)\n",
      "Predicted through Recurrent input tensor([0, 1, 2, 3, 4, 5, 6, 7, 8, 9])\n",
      "Prediction using External drive tensor([0, 1, 2, 3, 4, 5, 6, 7, 8, 9])\n",
      "Actual prediction Loss tensor(-0.8761)\n",
      "Predicted through Recurrent input tensor([4, 1, 2, 0, 1, 5, 3, 7, 8, 9])\n",
      "Prediction using External drive tensor([0, 1, 2, 3, 4, 5, 6, 7, 8, 9])\n",
      "Actual prediction Loss tensor(-0.7203)\n",
      "Predicted through Recurrent input tensor([0, 1, 2, 3, 4, 5, 6, 7, 8, 9])\n",
      "Prediction using External drive tensor([0, 1, 2, 3, 4, 5, 6, 7, 8, 9])\n",
      "Actual prediction Loss tensor(-0.9053)\n"
     ]
    },
    {
     "name": "stderr",
     "output_type": "stream",
     "text": [
      " 34%|█████████████████████████▌                                                  | 6720/20000 [00:19<00:35, 374.48it/s]"
     ]
    },
    {
     "name": "stdout",
     "output_type": "stream",
     "text": [
      "Predicted through Recurrent input tensor([0, 1, 2, 3, 4, 5, 6, 7, 8, 9])\n",
      "Prediction using External drive tensor([0, 1, 2, 3, 4, 5, 6, 7, 8, 9])\n",
      "Actual prediction Loss tensor(-0.8194)\n",
      "Predicted through Recurrent input tensor([0, 1, 2, 3, 4, 5, 6, 7, 8, 9])\n",
      "Prediction using External drive tensor([0, 1, 2, 3, 4, 5, 6, 7, 8, 9])\n",
      "Actual prediction Loss tensor(-0.8285)\n",
      "Predicted through Recurrent input tensor([0, 1, 2, 3, 4, 5, 6, 7, 8, 9])\n",
      "Prediction using External drive tensor([0, 1, 2, 3, 4, 5, 6, 7, 8, 9])\n",
      "Actual prediction Loss tensor(-0.9202)\n",
      "Predicted through Recurrent input tensor([0, 1, 2, 3, 4, 5, 6, 7, 8, 9])\n",
      "Prediction using External drive tensor([0, 1, 2, 3, 4, 5, 6, 7, 8, 9])\n",
      "Actual prediction Loss tensor(-0.9133)\n"
     ]
    },
    {
     "name": "stderr",
     "output_type": "stream",
     "text": [
      " 34%|█████████████████████████▋                                                  | 6760/20000 [00:19<00:34, 380.70it/s]"
     ]
    },
    {
     "name": "stdout",
     "output_type": "stream",
     "text": [
      "Predicted through Recurrent input tensor([9, 1, 2, 3, 4, 5, 6, 7, 8, 9])\n",
      "Prediction using External drive tensor([0, 1, 2, 3, 4, 5, 6, 7, 8, 9])\n",
      "Actual prediction Loss tensor(-0.7297)\n",
      "Predicted through Recurrent input tensor([0, 1, 2, 3, 4, 5, 6, 7, 8, 9])\n",
      "Prediction using External drive tensor([0, 1, 2, 3, 4, 5, 6, 7, 8, 9])\n",
      "Actual prediction Loss tensor(-0.8228)\n",
      "Predicted through Recurrent input tensor([0, 1, 2, 3, 4, 5, 6, 7, 8, 9])\n",
      "Prediction using External drive tensor([0, 1, 2, 3, 4, 5, 6, 7, 8, 9])\n",
      "Actual prediction Loss tensor(-0.8787)\n",
      "Predicted through Recurrent input tensor([4, 1, 2, 0, 1, 5, 3, 7, 8, 9])\n",
      "Prediction using External drive tensor([0, 1, 2, 3, 4, 5, 6, 7, 8, 9])\n",
      "Actual prediction Loss tensor(-0.7245)\n"
     ]
    },
    {
     "name": "stderr",
     "output_type": "stream",
     "text": [
      " 34%|█████████████████████████▊                                                  | 6800/20000 [00:19<00:34, 378.61it/s]"
     ]
    },
    {
     "name": "stdout",
     "output_type": "stream",
     "text": [
      "Predicted through Recurrent input tensor([0, 1, 2, 3, 4, 5, 6, 7, 8, 9])\n",
      "Prediction using External drive tensor([0, 1, 2, 3, 4, 5, 6, 7, 8, 9])\n",
      "Actual prediction Loss tensor(-0.9072)\n",
      "Predicted through Recurrent input tensor([0, 1, 2, 3, 4, 5, 6, 7, 8, 9])\n",
      "Prediction using External drive tensor([0, 1, 2, 3, 4, 5, 6, 7, 8, 9])\n",
      "Actual prediction Loss tensor(-0.8225)\n",
      "Predicted through Recurrent input tensor([0, 1, 2, 3, 4, 5, 6, 7, 8, 9])\n",
      "Prediction using External drive tensor([0, 1, 2, 3, 4, 5, 6, 7, 8, 9])\n",
      "Actual prediction Loss tensor(-0.8322)\n",
      "Predicted through Recurrent input tensor([0, 1, 2, 3, 4, 5, 6, 7, 8, 9])\n",
      "Prediction using External drive tensor([0, 1, 2, 3, 4, 5, 6, 7, 8, 9])\n",
      "Actual prediction Loss tensor(-0.9219)\n"
     ]
    },
    {
     "name": "stderr",
     "output_type": "stream",
     "text": [
      " 34%|█████████████████████████▉                                                  | 6840/20000 [00:19<00:34, 377.16it/s]"
     ]
    },
    {
     "name": "stdout",
     "output_type": "stream",
     "text": [
      "Predicted through Recurrent input tensor([0, 1, 2, 3, 4, 5, 6, 7, 8, 9])\n",
      "Prediction using External drive tensor([0, 1, 2, 3, 4, 5, 6, 7, 8, 9])\n",
      "Actual prediction Loss tensor(-0.9151)\n",
      "Predicted through Recurrent input tensor([9, 1, 2, 3, 4, 5, 6, 7, 8, 9])\n",
      "Prediction using External drive tensor([0, 1, 2, 3, 4, 5, 6, 7, 8, 9])\n",
      "Actual prediction Loss tensor(-0.7349)\n",
      "Predicted through Recurrent input tensor([0, 1, 2, 3, 4, 5, 6, 7, 8, 9])\n",
      "Prediction using External drive tensor([0, 1, 2, 3, 4, 5, 6, 7, 8, 9])\n",
      "Actual prediction Loss tensor(-0.8270)\n",
      "Predicted through Recurrent input tensor([0, 1, 2, 3, 4, 5, 6, 7, 8, 9])\n",
      "Prediction using External drive tensor([0, 1, 2, 3, 4, 5, 6, 7, 8, 9])\n",
      "Actual prediction Loss tensor(-0.8812)\n"
     ]
    },
    {
     "name": "stderr",
     "output_type": "stream",
     "text": [
      " 34%|██████████████████████████▏                                                 | 6880/20000 [00:19<00:34, 378.29it/s]"
     ]
    },
    {
     "name": "stdout",
     "output_type": "stream",
     "text": [
      "Predicted through Recurrent input tensor([4, 1, 2, 0, 1, 5, 3, 7, 8, 9])\n",
      "Prediction using External drive tensor([0, 1, 2, 3, 4, 5, 6, 7, 8, 9])\n",
      "Actual prediction Loss tensor(-0.7286)\n",
      "Predicted through Recurrent input tensor([0, 1, 2, 3, 4, 5, 6, 7, 8, 9])\n",
      "Prediction using External drive tensor([0, 1, 2, 3, 4, 5, 6, 7, 8, 9])\n",
      "Actual prediction Loss tensor(-0.9090)\n",
      "Predicted through Recurrent input tensor([0, 1, 2, 3, 4, 5, 6, 7, 8, 9])\n",
      "Prediction using External drive tensor([0, 1, 2, 3, 4, 5, 6, 7, 8, 9])\n",
      "Actual prediction Loss tensor(-0.8256)\n",
      "Predicted through Recurrent input tensor([0, 1, 2, 3, 4, 5, 6, 7, 8, 9])\n",
      "Prediction using External drive tensor([0, 1, 2, 3, 4, 5, 6, 7, 8, 9])\n",
      "Actual prediction Loss tensor(-0.8358)\n"
     ]
    },
    {
     "name": "stderr",
     "output_type": "stream",
     "text": [
      " 35%|██████████████████████████▎                                                 | 6920/20000 [00:19<00:34, 382.35it/s]"
     ]
    },
    {
     "name": "stdout",
     "output_type": "stream",
     "text": [
      "Predicted through Recurrent input tensor([0, 1, 2, 3, 4, 5, 6, 7, 8, 9])\n",
      "Prediction using External drive tensor([0, 1, 2, 3, 4, 5, 6, 7, 8, 9])\n",
      "Actual prediction Loss tensor(-0.9235)\n",
      "Predicted through Recurrent input tensor([0, 1, 2, 3, 4, 5, 6, 7, 8, 9])\n",
      "Prediction using External drive tensor([0, 1, 2, 3, 4, 5, 6, 7, 8, 9])\n",
      "Actual prediction Loss tensor(-0.9168)\n",
      "Predicted through Recurrent input tensor([9, 1, 2, 3, 4, 5, 6, 7, 8, 9])\n",
      "Prediction using External drive tensor([0, 1, 2, 3, 4, 5, 6, 7, 8, 9])\n",
      "Actual prediction Loss tensor(-0.7399)\n",
      "Predicted through Recurrent input tensor([0, 1, 2, 3, 4, 5, 6, 7, 8, 9])\n",
      "Prediction using External drive tensor([0, 1, 2, 3, 4, 5, 6, 7, 8, 9])\n",
      "Actual prediction Loss tensor(-0.8311)\n"
     ]
    },
    {
     "name": "stderr",
     "output_type": "stream",
     "text": [
      " 35%|██████████████████████████▍                                                 | 6960/20000 [00:19<00:34, 380.83it/s]"
     ]
    },
    {
     "name": "stdout",
     "output_type": "stream",
     "text": [
      "Predicted through Recurrent input tensor([0, 1, 2, 3, 4, 5, 6, 7, 8, 9])\n",
      "Prediction using External drive tensor([0, 1, 2, 3, 4, 5, 6, 7, 8, 9])\n",
      "Actual prediction Loss tensor(-0.8837)\n",
      "Predicted through Recurrent input tensor([4, 1, 2, 0, 1, 5, 3, 7, 8, 9])\n",
      "Prediction using External drive tensor([0, 1, 2, 3, 4, 5, 6, 7, 8, 9])\n",
      "Actual prediction Loss tensor(-0.7327)\n",
      "Predicted through Recurrent input tensor([0, 1, 2, 3, 4, 5, 6, 7, 8, 9])\n",
      "Prediction using External drive tensor([0, 1, 2, 3, 4, 5, 6, 7, 8, 9])\n",
      "Actual prediction Loss tensor(-0.9108)\n",
      "Predicted through Recurrent input tensor([0, 1, 2, 3, 4, 5, 6, 7, 8, 9])\n",
      "Prediction using External drive tensor([0, 1, 2, 3, 4, 5, 6, 7, 8, 9])\n",
      "Actual prediction Loss tensor(-0.8287)\n"
     ]
    },
    {
     "name": "stderr",
     "output_type": "stream",
     "text": [
      " 35%|██████████████████████████▌                                                 | 7000/20000 [00:19<00:34, 375.51it/s]"
     ]
    },
    {
     "name": "stdout",
     "output_type": "stream",
     "text": [
      "Predicted through Recurrent input tensor([0, 1, 2, 3, 4, 5, 6, 7, 8, 9])\n",
      "Prediction using External drive tensor([0, 1, 2, 3, 4, 5, 6, 7, 8, 9])\n",
      "Actual prediction Loss tensor(-0.8393)\n",
      "Predicted through Recurrent input tensor([0, 1, 2, 3, 4, 5, 6, 7, 8, 9])\n",
      "Prediction using External drive tensor([0, 1, 2, 3, 4, 5, 6, 7, 8, 9])\n",
      "Actual prediction Loss tensor(-0.9250)\n",
      "Predicted through Recurrent input tensor([0, 1, 2, 3, 4, 5, 6, 7, 8, 9])\n",
      "Prediction using External drive tensor([0, 1, 2, 3, 4, 5, 6, 7, 8, 9])\n",
      "Actual prediction Loss tensor(-0.9185)\n",
      "Predicted through Recurrent input tensor([9, 1, 2, 3, 4, 5, 6, 7, 8, 9])\n",
      "Prediction using External drive tensor([0, 1, 2, 3, 4, 5, 6, 7, 8, 9])\n",
      "Actual prediction Loss tensor(-0.7449)\n"
     ]
    },
    {
     "name": "stderr",
     "output_type": "stream",
     "text": [
      " 35%|██████████████████████████▊                                                 | 7040/20000 [00:20<00:34, 378.19it/s]"
     ]
    },
    {
     "name": "stdout",
     "output_type": "stream",
     "text": [
      "Predicted through Recurrent input tensor([0, 1, 2, 3, 4, 5, 6, 7, 8, 9])\n",
      "Prediction using External drive tensor([0, 1, 2, 3, 4, 5, 6, 7, 8, 9])\n",
      "Actual prediction Loss tensor(-0.8351)\n",
      "Predicted through Recurrent input tensor([0, 1, 2, 3, 4, 5, 6, 7, 8, 9])\n",
      "Prediction using External drive tensor([0, 1, 2, 3, 4, 5, 6, 7, 8, 9])\n",
      "Actual prediction Loss tensor(-0.8860)\n",
      "Predicted through Recurrent input tensor([4, 1, 2, 0, 1, 5, 6, 7, 8, 9])\n",
      "Prediction using External drive tensor([0, 1, 2, 3, 4, 5, 6, 7, 8, 9])\n",
      "Actual prediction Loss tensor(-0.7367)\n",
      "Predicted through Recurrent input tensor([0, 1, 2, 3, 4, 5, 6, 7, 8, 9])\n",
      "Prediction using External drive tensor([0, 1, 2, 3, 4, 5, 6, 7, 8, 9])\n",
      "Actual prediction Loss tensor(-0.9125)\n"
     ]
    },
    {
     "name": "stderr",
     "output_type": "stream",
     "text": [
      " 35%|██████████████████████████▉                                                 | 7080/20000 [00:20<00:34, 375.81it/s]"
     ]
    },
    {
     "name": "stdout",
     "output_type": "stream",
     "text": [
      "Predicted through Recurrent input tensor([0, 1, 2, 3, 4, 5, 6, 7, 8, 9])\n",
      "Prediction using External drive tensor([0, 1, 2, 3, 4, 5, 6, 7, 8, 9])\n",
      "Actual prediction Loss tensor(-0.8316)\n",
      "Predicted through Recurrent input tensor([0, 1, 2, 3, 4, 5, 6, 7, 8, 9])\n",
      "Prediction using External drive tensor([0, 1, 2, 3, 4, 5, 6, 7, 8, 9])\n",
      "Actual prediction Loss tensor(-0.8427)\n",
      "Predicted through Recurrent input tensor([0, 1, 2, 3, 4, 5, 6, 7, 8, 9])\n",
      "Prediction using External drive tensor([0, 1, 2, 3, 4, 5, 6, 7, 8, 9])\n",
      "Actual prediction Loss tensor(-0.9265)\n",
      "Predicted through Recurrent input tensor([0, 1, 2, 3, 4, 5, 6, 7, 8, 9])\n",
      "Prediction using External drive tensor([0, 1, 2, 3, 4, 5, 6, 7, 8, 9])\n",
      "Actual prediction Loss tensor(-0.9202)\n"
     ]
    },
    {
     "name": "stderr",
     "output_type": "stream",
     "text": [
      " 36%|███████████████████████████                                                 | 7120/20000 [00:20<00:34, 374.16it/s]"
     ]
    },
    {
     "name": "stdout",
     "output_type": "stream",
     "text": [
      "Predicted through Recurrent input tensor([9, 1, 2, 3, 4, 5, 6, 7, 8, 9])\n",
      "Prediction using External drive tensor([0, 1, 2, 3, 4, 5, 6, 7, 8, 9])\n",
      "Actual prediction Loss tensor(-0.7498)\n",
      "Predicted through Recurrent input tensor([0, 1, 2, 3, 4, 5, 6, 7, 8, 9])\n",
      "Prediction using External drive tensor([0, 1, 2, 3, 4, 5, 6, 7, 8, 9])\n",
      "Actual prediction Loss tensor(-0.8390)\n",
      "Predicted through Recurrent input tensor([0, 1, 2, 3, 4, 5, 6, 7, 8, 9])\n",
      "Prediction using External drive tensor([0, 1, 2, 3, 4, 5, 6, 7, 8, 9])\n",
      "Actual prediction Loss tensor(-0.8883)\n",
      "Predicted through Recurrent input tensor([4, 1, 2, 0, 1, 5, 6, 7, 8, 9])\n",
      "Prediction using External drive tensor([0, 1, 2, 3, 4, 5, 6, 7, 8, 9])\n",
      "Actual prediction Loss tensor(-0.7407)\n"
     ]
    },
    {
     "name": "stderr",
     "output_type": "stream",
     "text": [
      " 36%|███████████████████████████▏                                                | 7160/20000 [00:20<00:34, 375.12it/s]"
     ]
    },
    {
     "name": "stdout",
     "output_type": "stream",
     "text": [
      "Predicted through Recurrent input tensor([0, 1, 2, 3, 4, 5, 6, 7, 8, 9])\n",
      "Prediction using External drive tensor([0, 1, 2, 3, 4, 5, 6, 7, 8, 9])\n",
      "Actual prediction Loss tensor(-0.9141)\n",
      "Predicted through Recurrent input tensor([0, 1, 2, 3, 4, 5, 6, 7, 8, 9])\n",
      "Prediction using External drive tensor([0, 1, 2, 3, 4, 5, 6, 7, 8, 9])\n",
      "Actual prediction Loss tensor(-0.8345)\n",
      "Predicted through Recurrent input tensor([0, 1, 2, 3, 4, 5, 6, 7, 8, 9])\n",
      "Prediction using External drive tensor([0, 1, 2, 3, 4, 5, 6, 7, 8, 9])\n",
      "Actual prediction Loss tensor(-0.8460)\n",
      "Predicted through Recurrent input tensor([0, 1, 2, 3, 4, 5, 6, 7, 8, 9])\n",
      "Prediction using External drive tensor([0, 1, 2, 3, 4, 5, 6, 7, 8, 9])\n",
      "Actual prediction Loss tensor(-0.9280)\n"
     ]
    },
    {
     "name": "stderr",
     "output_type": "stream",
     "text": [
      " 36%|███████████████████████████▎                                                | 7200/20000 [00:20<00:34, 371.60it/s]"
     ]
    },
    {
     "name": "stdout",
     "output_type": "stream",
     "text": [
      "Predicted through Recurrent input tensor([0, 1, 2, 3, 4, 5, 6, 7, 8, 9])\n",
      "Prediction using External drive tensor([0, 1, 2, 3, 4, 5, 6, 7, 8, 9])\n",
      "Actual prediction Loss tensor(-0.9218)\n",
      "Predicted through Recurrent input tensor([9, 1, 2, 3, 4, 5, 6, 7, 8, 9])\n",
      "Prediction using External drive tensor([0, 1, 2, 3, 4, 5, 6, 7, 8, 9])\n",
      "Actual prediction Loss tensor(-0.7545)\n",
      "Predicted through Recurrent input tensor([0, 1, 2, 3, 4, 5, 6, 7, 8, 9])\n",
      "Prediction using External drive tensor([0, 1, 2, 3, 4, 5, 6, 7, 8, 9])\n",
      "Actual prediction Loss tensor(-0.8428)\n",
      "Predicted through Recurrent input tensor([0, 1, 2, 3, 4, 5, 6, 7, 8, 9])\n",
      "Prediction using External drive tensor([0, 1, 2, 3, 4, 5, 6, 7, 8, 9])\n",
      "Actual prediction Loss tensor(-0.8905)\n"
     ]
    },
    {
     "name": "stderr",
     "output_type": "stream",
     "text": [
      " 36%|███████████████████████████▌                                                | 7240/20000 [00:20<00:34, 371.23it/s]"
     ]
    },
    {
     "name": "stdout",
     "output_type": "stream",
     "text": [
      "Predicted through Recurrent input tensor([4, 1, 2, 0, 1, 5, 6, 7, 8, 9])\n",
      "Prediction using External drive tensor([0, 1, 2, 3, 4, 5, 6, 7, 8, 9])\n",
      "Actual prediction Loss tensor(-0.7445)\n",
      "Predicted through Recurrent input tensor([0, 1, 2, 3, 4, 5, 6, 7, 8, 9])\n",
      "Prediction using External drive tensor([0, 1, 2, 3, 4, 5, 6, 7, 8, 9])\n",
      "Actual prediction Loss tensor(-0.9157)\n",
      "Predicted through Recurrent input tensor([0, 1, 2, 3, 4, 5, 6, 7, 8, 9])\n",
      "Prediction using External drive tensor([0, 1, 2, 3, 4, 5, 6, 7, 8, 9])\n",
      "Actual prediction Loss tensor(-0.8373)\n",
      "Predicted through Recurrent input tensor([0, 1, 2, 3, 4, 5, 6, 7, 8, 9])\n",
      "Prediction using External drive tensor([0, 1, 2, 3, 4, 5, 6, 7, 8, 9])\n",
      "Actual prediction Loss tensor(-0.8492)\n"
     ]
    },
    {
     "name": "stderr",
     "output_type": "stream",
     "text": [
      " 36%|███████████████████████████▋                                                | 7280/20000 [00:20<00:34, 372.01it/s]"
     ]
    },
    {
     "name": "stdout",
     "output_type": "stream",
     "text": [
      "Predicted through Recurrent input tensor([0, 1, 2, 3, 4, 5, 6, 7, 8, 9])\n",
      "Prediction using External drive tensor([0, 1, 2, 3, 4, 5, 6, 7, 8, 9])\n",
      "Actual prediction Loss tensor(-0.9294)\n",
      "Predicted through Recurrent input tensor([0, 1, 2, 3, 4, 5, 6, 7, 8, 9])\n",
      "Prediction using External drive tensor([0, 1, 2, 3, 4, 5, 6, 7, 8, 9])\n",
      "Actual prediction Loss tensor(-0.9233)\n",
      "Predicted through Recurrent input tensor([9, 1, 2, 3, 4, 5, 6, 7, 8, 9])\n",
      "Prediction using External drive tensor([0, 1, 2, 3, 4, 5, 6, 7, 8, 9])\n",
      "Actual prediction Loss tensor(-0.7592)\n",
      "Predicted through Recurrent input tensor([0, 1, 2, 3, 4, 5, 6, 7, 8, 9])\n",
      "Prediction using External drive tensor([0, 1, 2, 3, 4, 5, 6, 7, 8, 9])\n",
      "Actual prediction Loss tensor(-0.8464)\n"
     ]
    },
    {
     "name": "stderr",
     "output_type": "stream",
     "text": [
      " 37%|███████████████████████████▊                                                | 7320/20000 [00:20<00:33, 374.65it/s]"
     ]
    },
    {
     "name": "stdout",
     "output_type": "stream",
     "text": [
      "Predicted through Recurrent input tensor([0, 1, 2, 3, 4, 5, 6, 7, 8, 9])\n",
      "Prediction using External drive tensor([0, 1, 2, 3, 4, 5, 6, 7, 8, 9])\n",
      "Actual prediction Loss tensor(-0.8927)\n",
      "Predicted through Recurrent input tensor([4, 1, 2, 0, 1, 5, 6, 7, 8, 9])\n",
      "Prediction using External drive tensor([0, 1, 2, 3, 4, 5, 6, 7, 8, 9])\n",
      "Actual prediction Loss tensor(-0.7483)\n",
      "Predicted through Recurrent input tensor([0, 1, 2, 3, 4, 5, 6, 7, 8, 9])\n",
      "Prediction using External drive tensor([0, 1, 2, 3, 4, 5, 6, 7, 8, 9])\n",
      "Actual prediction Loss tensor(-0.9173)\n",
      "Predicted through Recurrent input tensor([0, 1, 2, 3, 4, 5, 6, 7, 8, 9])\n",
      "Prediction using External drive tensor([0, 1, 2, 3, 4, 5, 6, 7, 8, 9])\n",
      "Actual prediction Loss tensor(-0.8400)\n"
     ]
    },
    {
     "name": "stderr",
     "output_type": "stream",
     "text": [
      " 37%|███████████████████████████▉                                                | 7360/20000 [00:20<00:33, 374.40it/s]"
     ]
    },
    {
     "name": "stdout",
     "output_type": "stream",
     "text": [
      "Predicted through Recurrent input tensor([0, 1, 2, 3, 4, 5, 6, 7, 8, 9])\n",
      "Prediction using External drive tensor([0, 1, 2, 3, 4, 5, 6, 7, 8, 9])\n",
      "Actual prediction Loss tensor(-0.8523)\n",
      "Predicted through Recurrent input tensor([0, 1, 2, 3, 4, 5, 6, 7, 8, 9])\n",
      "Prediction using External drive tensor([0, 1, 2, 3, 4, 5, 6, 7, 8, 9])\n",
      "Actual prediction Loss tensor(-0.9308)\n",
      "Predicted through Recurrent input tensor([0, 1, 2, 3, 4, 5, 6, 7, 8, 9])\n",
      "Prediction using External drive tensor([0, 1, 2, 3, 4, 5, 6, 7, 8, 9])\n",
      "Actual prediction Loss tensor(-0.9248)\n",
      "Predicted through Recurrent input tensor([9, 1, 2, 3, 4, 5, 6, 7, 8, 9])\n",
      "Prediction using External drive tensor([0, 1, 2, 3, 4, 5, 6, 7, 8, 9])\n",
      "Actual prediction Loss tensor(-0.7637)\n"
     ]
    },
    {
     "name": "stderr",
     "output_type": "stream",
     "text": [
      " 37%|████████████████████████████                                                | 7400/20000 [00:21<00:33, 373.18it/s]"
     ]
    },
    {
     "name": "stdout",
     "output_type": "stream",
     "text": [
      "Predicted through Recurrent input tensor([0, 1, 2, 3, 4, 5, 6, 7, 8, 9])\n",
      "Prediction using External drive tensor([0, 1, 2, 3, 4, 5, 6, 7, 8, 9])\n",
      "Actual prediction Loss tensor(-0.8499)\n",
      "Predicted through Recurrent input tensor([0, 1, 2, 3, 4, 5, 6, 7, 8, 9])\n",
      "Prediction using External drive tensor([0, 1, 2, 3, 4, 5, 6, 7, 8, 9])\n",
      "Actual prediction Loss tensor(-0.8948)\n",
      "Predicted through Recurrent input tensor([4, 1, 2, 0, 1, 5, 6, 7, 8, 9])\n",
      "Prediction using External drive tensor([0, 1, 2, 3, 4, 5, 6, 7, 8, 9])\n",
      "Actual prediction Loss tensor(-0.7521)\n",
      "Predicted through Recurrent input tensor([0, 1, 2, 3, 4, 5, 6, 7, 8, 9])\n",
      "Prediction using External drive tensor([0, 1, 2, 3, 4, 5, 6, 7, 8, 9])\n",
      "Actual prediction Loss tensor(-0.9188)\n"
     ]
    },
    {
     "name": "stderr",
     "output_type": "stream",
     "text": [
      " 37%|████████████████████████████▎                                               | 7440/20000 [00:21<00:33, 376.54it/s]"
     ]
    },
    {
     "name": "stdout",
     "output_type": "stream",
     "text": [
      "Predicted through Recurrent input tensor([0, 1, 2, 3, 4, 5, 6, 7, 8, 9])\n",
      "Prediction using External drive tensor([0, 1, 2, 3, 4, 5, 6, 7, 8, 9])\n",
      "Actual prediction Loss tensor(-0.8427)\n",
      "Predicted through Recurrent input tensor([0, 1, 2, 3, 4, 5, 6, 7, 8, 9])\n",
      "Prediction using External drive tensor([0, 1, 2, 3, 4, 5, 6, 7, 8, 9])\n",
      "Actual prediction Loss tensor(-0.8553)\n",
      "Predicted through Recurrent input tensor([0, 1, 2, 3, 4, 5, 6, 7, 8, 9])\n",
      "Prediction using External drive tensor([0, 1, 2, 3, 4, 5, 6, 7, 8, 9])\n",
      "Actual prediction Loss tensor(-0.9321)\n",
      "Predicted through Recurrent input tensor([0, 1, 2, 3, 4, 5, 6, 7, 8, 9])\n",
      "Prediction using External drive tensor([0, 1, 2, 3, 4, 5, 6, 7, 8, 9])\n",
      "Actual prediction Loss tensor(-0.9263)\n"
     ]
    },
    {
     "name": "stderr",
     "output_type": "stream",
     "text": [
      " 37%|████████████████████████████▍                                               | 7480/20000 [00:21<00:33, 375.72it/s]"
     ]
    },
    {
     "name": "stdout",
     "output_type": "stream",
     "text": [
      "Predicted through Recurrent input tensor([9, 1, 2, 3, 4, 5, 6, 7, 8, 9])\n",
      "Prediction using External drive tensor([0, 1, 2, 3, 4, 5, 6, 7, 8, 9])\n",
      "Actual prediction Loss tensor(-0.7682)\n",
      "Predicted through Recurrent input tensor([0, 1, 2, 3, 4, 5, 6, 7, 8, 9])\n",
      "Prediction using External drive tensor([0, 1, 2, 3, 4, 5, 6, 7, 8, 9])\n",
      "Actual prediction Loss tensor(-0.8534)\n",
      "Predicted through Recurrent input tensor([0, 1, 2, 3, 4, 5, 6, 7, 8, 9])\n",
      "Prediction using External drive tensor([0, 1, 2, 3, 4, 5, 6, 7, 8, 9])\n",
      "Actual prediction Loss tensor(-0.8968)\n",
      "Predicted through Recurrent input tensor([4, 1, 2, 0, 1, 5, 6, 7, 8, 9])\n",
      "Prediction using External drive tensor([0, 1, 2, 3, 4, 5, 6, 7, 8, 9])\n",
      "Actual prediction Loss tensor(-0.7557)\n"
     ]
    },
    {
     "name": "stderr",
     "output_type": "stream",
     "text": [
      " 38%|████████████████████████████▌                                               | 7520/20000 [00:21<00:33, 374.10it/s]"
     ]
    },
    {
     "name": "stdout",
     "output_type": "stream",
     "text": [
      "Predicted through Recurrent input tensor([0, 1, 2, 3, 4, 5, 6, 7, 8, 9])\n",
      "Prediction using External drive tensor([0, 1, 2, 3, 4, 5, 6, 7, 8, 9])\n",
      "Actual prediction Loss tensor(-0.9202)\n",
      "Predicted through Recurrent input tensor([0, 1, 2, 3, 4, 5, 6, 7, 8, 9])\n",
      "Prediction using External drive tensor([0, 1, 2, 3, 4, 5, 6, 7, 8, 9])\n",
      "Actual prediction Loss tensor(-0.8453)\n",
      "Predicted through Recurrent input tensor([0, 1, 2, 3, 4, 5, 6, 7, 8, 9])\n",
      "Prediction using External drive tensor([0, 1, 2, 3, 4, 5, 6, 7, 8, 9])\n",
      "Actual prediction Loss tensor(-0.8582)\n",
      "Predicted through Recurrent input tensor([0, 1, 2, 3, 4, 5, 6, 7, 8, 9])\n",
      "Prediction using External drive tensor([0, 1, 2, 3, 4, 5, 6, 7, 8, 9])\n",
      "Actual prediction Loss tensor(-0.9334)\n"
     ]
    },
    {
     "name": "stderr",
     "output_type": "stream",
     "text": [
      " 38%|████████████████████████████▋                                               | 7560/20000 [00:21<00:33, 369.87it/s]"
     ]
    },
    {
     "name": "stdout",
     "output_type": "stream",
     "text": [
      "Predicted through Recurrent input tensor([0, 1, 2, 3, 4, 5, 6, 7, 8, 9])\n",
      "Prediction using External drive tensor([0, 1, 2, 3, 4, 5, 6, 7, 8, 9])\n",
      "Actual prediction Loss tensor(-0.9277)\n",
      "Predicted through Recurrent input tensor([9, 1, 2, 3, 4, 5, 6, 7, 8, 9])\n",
      "Prediction using External drive tensor([0, 1, 2, 3, 4, 5, 6, 7, 8, 9])\n",
      "Actual prediction Loss tensor(-0.7726)\n",
      "Predicted through Recurrent input tensor([0, 1, 2, 3, 4, 5, 6, 7, 8, 9])\n",
      "Prediction using External drive tensor([0, 1, 2, 3, 4, 5, 6, 7, 8, 9])\n",
      "Actual prediction Loss tensor(-0.8567)\n"
     ]
    },
    {
     "name": "stderr",
     "output_type": "stream",
     "text": [
      " 38%|████████████████████████████▊                                               | 7598/20000 [00:21<00:34, 362.19it/s]"
     ]
    },
    {
     "name": "stdout",
     "output_type": "stream",
     "text": [
      "Predicted through Recurrent input tensor([0, 1, 2, 3, 4, 5, 6, 7, 8, 9])\n",
      "Prediction using External drive tensor([0, 1, 2, 3, 4, 5, 6, 7, 8, 9])\n",
      "Actual prediction Loss tensor(-0.8987)\n",
      "Predicted through Recurrent input tensor([4, 1, 2, 0, 1, 5, 6, 7, 8, 9])\n",
      "Prediction using External drive tensor([0, 1, 2, 3, 4, 5, 6, 7, 8, 9])\n",
      "Actual prediction Loss tensor(-0.7594)\n",
      "Predicted through Recurrent input tensor([0, 1, 2, 3, 4, 5, 6, 7, 8, 9])\n",
      "Prediction using External drive tensor([0, 1, 2, 3, 4, 5, 6, 7, 8, 9])\n",
      "Actual prediction Loss tensor(-0.9216)\n",
      "Predicted through Recurrent input tensor([0, 1, 2, 3, 4, 5, 6, 7, 8, 9])\n",
      "Prediction using External drive tensor([0, 1, 2, 3, 4, 5, 6, 7, 8, 9])\n",
      "Actual prediction Loss tensor(-0.8478)\n"
     ]
    },
    {
     "name": "stderr",
     "output_type": "stream",
     "text": [
      " 38%|█████████████████████████████                                               | 7635/20000 [00:21<00:35, 344.15it/s]"
     ]
    },
    {
     "name": "stdout",
     "output_type": "stream",
     "text": [
      "Predicted through Recurrent input tensor([0, 1, 2, 3, 4, 5, 6, 7, 8, 9])\n",
      "Prediction using External drive tensor([0, 1, 2, 3, 4, 5, 6, 7, 8, 9])\n",
      "Actual prediction Loss tensor(-0.8610)\n",
      "Predicted through Recurrent input tensor([0, 1, 2, 3, 4, 5, 6, 7, 8, 9])\n",
      "Prediction using External drive tensor([0, 1, 2, 3, 4, 5, 6, 7, 8, 9])\n",
      "Actual prediction Loss tensor(-0.9347)\n",
      "Predicted through Recurrent input tensor([0, 1, 2, 3, 4, 5, 6, 7, 8, 9])\n",
      "Prediction using External drive tensor([0, 1, 2, 3, 4, 5, 6, 7, 8, 9])\n",
      "Actual prediction Loss tensor(-0.9290)\n",
      "Predicted through Recurrent input tensor([0, 1, 2, 3, 4, 5, 6, 7, 8, 9])\n",
      "Prediction using External drive tensor([0, 1, 2, 3, 4, 5, 6, 7, 8, 9])\n",
      "Actual prediction Loss tensor(-0.7768)\n"
     ]
    },
    {
     "name": "stderr",
     "output_type": "stream",
     "text": [
      " 38%|█████████████████████████████▏                                              | 7670/20000 [00:21<00:36, 339.84it/s]"
     ]
    },
    {
     "name": "stdout",
     "output_type": "stream",
     "text": [
      "Predicted through Recurrent input tensor([0, 1, 2, 3, 4, 5, 6, 7, 8, 9])\n",
      "Prediction using External drive tensor([0, 1, 2, 3, 4, 5, 6, 7, 8, 9])\n",
      "Actual prediction Loss tensor(-0.8599)\n",
      "Predicted through Recurrent input tensor([0, 1, 2, 3, 4, 5, 6, 7, 8, 9])\n",
      "Prediction using External drive tensor([0, 1, 2, 3, 4, 5, 6, 7, 8, 9])\n",
      "Actual prediction Loss tensor(-0.9007)\n",
      "Predicted through Recurrent input tensor([4, 1, 2, 0, 1, 5, 6, 7, 8, 9])\n",
      "Prediction using External drive tensor([0, 1, 2, 3, 4, 5, 6, 7, 8, 9])\n",
      "Actual prediction Loss tensor(-0.7629)\n"
     ]
    },
    {
     "name": "stderr",
     "output_type": "stream",
     "text": [
      " 39%|█████████████████████████████▎                                              | 7705/20000 [00:21<00:36, 338.85it/s]"
     ]
    },
    {
     "name": "stdout",
     "output_type": "stream",
     "text": [
      "Predicted through Recurrent input tensor([0, 1, 2, 3, 4, 5, 6, 7, 8, 9])\n",
      "Prediction using External drive tensor([0, 1, 2, 3, 4, 5, 6, 7, 8, 9])\n",
      "Actual prediction Loss tensor(-0.9230)\n",
      "Predicted through Recurrent input tensor([0, 1, 2, 3, 4, 5, 6, 7, 8, 9])\n",
      "Prediction using External drive tensor([0, 1, 2, 3, 4, 5, 6, 7, 8, 9])\n",
      "Actual prediction Loss tensor(-0.8502)\n",
      "Predicted through Recurrent input tensor([0, 1, 2, 3, 4, 5, 6, 7, 8, 9])\n",
      "Prediction using External drive tensor([0, 1, 2, 3, 4, 5, 6, 7, 8, 9])\n",
      "Actual prediction Loss tensor(-0.8637)\n",
      "Predicted through Recurrent input tensor([0, 1, 2, 3, 4, 5, 6, 7, 8, 9])\n",
      "Prediction using External drive tensor([0, 1, 2, 3, 4, 5, 6, 7, 8, 9])\n",
      "Actual prediction Loss tensor(-0.9359)\n"
     ]
    },
    {
     "name": "stderr",
     "output_type": "stream",
     "text": [
      " 39%|█████████████████████████████▍                                              | 7740/20000 [00:22<00:36, 332.37it/s]"
     ]
    },
    {
     "name": "stdout",
     "output_type": "stream",
     "text": [
      "Predicted through Recurrent input tensor([0, 1, 2, 3, 4, 5, 6, 7, 8, 9])\n",
      "Prediction using External drive tensor([0, 1, 2, 3, 4, 5, 6, 7, 8, 9])\n",
      "Actual prediction Loss tensor(-0.9303)\n",
      "Predicted through Recurrent input tensor([0, 1, 2, 3, 4, 5, 6, 7, 8, 9])\n",
      "Prediction using External drive tensor([0, 1, 2, 3, 4, 5, 6, 7, 8, 9])\n",
      "Actual prediction Loss tensor(-0.7810)\n",
      "Predicted through Recurrent input tensor([0, 1, 2, 3, 4, 5, 6, 7, 8, 9])\n",
      "Prediction using External drive tensor([0, 1, 2, 3, 4, 5, 6, 7, 8, 9])\n",
      "Actual prediction Loss tensor(-0.8630)\n"
     ]
    },
    {
     "name": "stderr",
     "output_type": "stream",
     "text": [
      " 39%|█████████████████████████████▌                                              | 7774/20000 [00:22<00:36, 332.66it/s]"
     ]
    },
    {
     "name": "stdout",
     "output_type": "stream",
     "text": [
      "Predicted through Recurrent input tensor([0, 1, 2, 3, 4, 5, 6, 7, 8, 9])\n",
      "Prediction using External drive tensor([0, 1, 2, 3, 4, 5, 6, 7, 8, 9])\n",
      "Actual prediction Loss tensor(-0.9025)\n",
      "Predicted through Recurrent input tensor([4, 1, 2, 0, 1, 5, 6, 7, 8, 9])\n",
      "Prediction using External drive tensor([0, 1, 2, 3, 4, 5, 6, 7, 8, 9])\n",
      "Actual prediction Loss tensor(-0.7664)\n",
      "Predicted through Recurrent input tensor([0, 1, 2, 3, 4, 5, 6, 7, 8, 9])\n",
      "Prediction using External drive tensor([0, 1, 2, 3, 4, 5, 6, 7, 8, 9])\n",
      "Actual prediction Loss tensor(-0.9243)\n",
      "Predicted through Recurrent input tensor([0, 1, 2, 3, 4, 5, 6, 7, 8, 9])\n",
      "Prediction using External drive tensor([0, 1, 2, 3, 4, 5, 6, 7, 8, 9])\n",
      "Actual prediction Loss tensor(-0.8526)\n"
     ]
    },
    {
     "name": "stderr",
     "output_type": "stream",
     "text": [
      " 39%|█████████████████████████████▋                                              | 7810/20000 [00:22<00:37, 329.21it/s]"
     ]
    },
    {
     "name": "stdout",
     "output_type": "stream",
     "text": [
      "Predicted through Recurrent input tensor([0, 1, 2, 3, 4, 5, 6, 7, 8, 9])\n",
      "Prediction using External drive tensor([0, 1, 2, 3, 4, 5, 6, 7, 8, 9])\n",
      "Actual prediction Loss tensor(-0.8663)\n",
      "Predicted through Recurrent input tensor([0, 1, 2, 3, 4, 5, 6, 7, 8, 9])\n",
      "Prediction using External drive tensor([0, 1, 2, 3, 4, 5, 6, 7, 8, 9])\n",
      "Actual prediction Loss tensor(-0.9371)\n",
      "Predicted through Recurrent input tensor([0, 1, 2, 3, 4, 5, 6, 7, 8, 9])\n",
      "Prediction using External drive tensor([0, 1, 2, 3, 4, 5, 6, 7, 8, 9])\n",
      "Actual prediction Loss tensor(-0.9316)\n"
     ]
    },
    {
     "name": "stderr",
     "output_type": "stream",
     "text": [
      " 39%|█████████████████████████████▊                                              | 7845/20000 [00:22<00:36, 334.22it/s]"
     ]
    },
    {
     "name": "stdout",
     "output_type": "stream",
     "text": [
      "Predicted through Recurrent input tensor([0, 1, 2, 3, 4, 5, 6, 7, 8, 9])\n",
      "Prediction using External drive tensor([0, 1, 2, 3, 4, 5, 6, 7, 8, 9])\n",
      "Actual prediction Loss tensor(-0.7851)\n",
      "Predicted through Recurrent input tensor([0, 1, 2, 3, 4, 5, 6, 7, 8, 9])\n",
      "Prediction using External drive tensor([0, 1, 2, 3, 4, 5, 6, 7, 8, 9])\n",
      "Actual prediction Loss tensor(-0.8660)\n",
      "Predicted through Recurrent input tensor([0, 1, 2, 3, 4, 5, 6, 7, 8, 9])\n",
      "Prediction using External drive tensor([0, 1, 2, 3, 4, 5, 6, 7, 8, 9])\n",
      "Actual prediction Loss tensor(-0.9043)\n",
      "Predicted through Recurrent input tensor([4, 1, 2, 0, 1, 5, 6, 7, 8, 9])\n",
      "Prediction using External drive tensor([0, 1, 2, 3, 4, 5, 6, 7, 8, 9])\n",
      "Actual prediction Loss tensor(-0.7698)\n"
     ]
    },
    {
     "name": "stderr",
     "output_type": "stream",
     "text": [
      " 39%|█████████████████████████████▉                                              | 7880/20000 [00:22<00:36, 331.11it/s]"
     ]
    },
    {
     "name": "stdout",
     "output_type": "stream",
     "text": [
      "Predicted through Recurrent input tensor([0, 1, 2, 3, 4, 5, 6, 7, 8, 9])\n",
      "Prediction using External drive tensor([0, 1, 2, 3, 4, 5, 6, 7, 8, 9])\n",
      "Actual prediction Loss tensor(-0.9256)\n",
      "Predicted through Recurrent input tensor([0, 1, 2, 3, 4, 5, 6, 7, 8, 9])\n",
      "Prediction using External drive tensor([0, 1, 2, 3, 4, 5, 6, 7, 8, 9])\n",
      "Actual prediction Loss tensor(-0.8550)\n",
      "Predicted through Recurrent input tensor([0, 1, 2, 3, 4, 5, 6, 7, 8, 9])\n",
      "Prediction using External drive tensor([0, 1, 2, 3, 4, 5, 6, 7, 8, 9])\n",
      "Actual prediction Loss tensor(-0.8689)\n"
     ]
    },
    {
     "name": "stderr",
     "output_type": "stream",
     "text": [
      " 40%|██████████████████████████████                                              | 7914/20000 [00:22<00:36, 329.84it/s]"
     ]
    },
    {
     "name": "stdout",
     "output_type": "stream",
     "text": [
      "Predicted through Recurrent input tensor([0, 1, 2, 3, 4, 5, 6, 7, 8, 9])\n",
      "Prediction using External drive tensor([0, 1, 2, 3, 4, 5, 6, 7, 8, 9])\n",
      "Actual prediction Loss tensor(-0.9383)\n",
      "Predicted through Recurrent input tensor([0, 1, 2, 3, 4, 5, 6, 7, 8, 9])\n",
      "Prediction using External drive tensor([0, 1, 2, 3, 4, 5, 6, 7, 8, 9])\n",
      "Actual prediction Loss tensor(-0.9329)\n",
      "Predicted through Recurrent input tensor([0, 1, 2, 3, 4, 5, 6, 7, 8, 9])\n",
      "Prediction using External drive tensor([0, 1, 2, 3, 4, 5, 6, 7, 8, 9])\n",
      "Actual prediction Loss tensor(-0.7891)\n",
      "Predicted through Recurrent input tensor([0, 1, 2, 3, 4, 5, 6, 7, 8, 9])\n",
      "Prediction using External drive tensor([0, 1, 2, 3, 4, 5, 6, 7, 8, 9])\n",
      "Actual prediction Loss tensor(-0.8689)\n"
     ]
    },
    {
     "name": "stderr",
     "output_type": "stream",
     "text": [
      " 40%|██████████████████████████████▏                                             | 7950/20000 [00:22<00:36, 329.07it/s]"
     ]
    },
    {
     "name": "stdout",
     "output_type": "stream",
     "text": [
      "Predicted through Recurrent input tensor([0, 1, 2, 3, 4, 5, 6, 7, 8, 9])\n",
      "Prediction using External drive tensor([0, 1, 2, 3, 4, 5, 6, 7, 8, 9])\n",
      "Actual prediction Loss tensor(-0.9061)\n",
      "Predicted through Recurrent input tensor([4, 1, 2, 0, 1, 5, 6, 7, 8, 9])\n",
      "Prediction using External drive tensor([0, 1, 2, 3, 4, 5, 6, 7, 8, 9])\n",
      "Actual prediction Loss tensor(-0.7732)\n",
      "Predicted through Recurrent input tensor([0, 1, 2, 3, 4, 5, 6, 7, 8, 9])\n",
      "Prediction using External drive tensor([0, 1, 2, 3, 4, 5, 6, 7, 8, 9])\n",
      "Actual prediction Loss tensor(-0.9269)\n"
     ]
    },
    {
     "name": "stderr",
     "output_type": "stream",
     "text": [
      " 40%|██████████████████████████████▎                                             | 7983/20000 [00:22<00:36, 327.39it/s]"
     ]
    },
    {
     "name": "stdout",
     "output_type": "stream",
     "text": [
      "Predicted through Recurrent input tensor([0, 1, 2, 3, 4, 5, 6, 7, 8, 9])\n",
      "Prediction using External drive tensor([0, 1, 2, 3, 4, 5, 6, 7, 8, 9])\n",
      "Actual prediction Loss tensor(-0.8573)\n",
      "Predicted through Recurrent input tensor([0, 1, 2, 3, 4, 5, 6, 7, 8, 9])\n",
      "Prediction using External drive tensor([0, 1, 2, 3, 4, 5, 6, 7, 8, 9])\n",
      "Actual prediction Loss tensor(-0.8714)\n",
      "Predicted through Recurrent input tensor([0, 1, 2, 3, 4, 5, 6, 7, 8, 9])\n",
      "Prediction using External drive tensor([0, 1, 2, 3, 4, 5, 6, 7, 8, 9])\n",
      "Actual prediction Loss tensor(-0.9394)\n"
     ]
    },
    {
     "name": "stderr",
     "output_type": "stream",
     "text": [
      " 40%|██████████████████████████████▍                                             | 8019/20000 [00:22<00:35, 336.53it/s]"
     ]
    },
    {
     "name": "stdout",
     "output_type": "stream",
     "text": [
      "Predicted through Recurrent input tensor([0, 1, 2, 3, 4, 5, 6, 7, 8, 9])\n",
      "Prediction using External drive tensor([0, 1, 2, 3, 4, 5, 6, 7, 8, 9])\n",
      "Actual prediction Loss tensor(-0.9341)\n",
      "Predicted through Recurrent input tensor([0, 1, 2, 3, 4, 5, 6, 7, 8, 9])\n",
      "Prediction using External drive tensor([0, 1, 2, 3, 4, 5, 6, 7, 8, 9])\n",
      "Actual prediction Loss tensor(-0.7930)\n",
      "Predicted through Recurrent input tensor([0, 1, 2, 3, 4, 5, 6, 7, 8, 9])\n",
      "Prediction using External drive tensor([0, 1, 2, 3, 4, 5, 6, 7, 8, 9])\n",
      "Actual prediction Loss tensor(-0.8717)\n",
      "Predicted through Recurrent input tensor([0, 1, 2, 3, 4, 5, 6, 7, 8, 9])\n",
      "Prediction using External drive tensor([0, 1, 2, 3, 4, 5, 6, 7, 8, 9])\n",
      "Actual prediction Loss tensor(-0.9078)\n"
     ]
    },
    {
     "name": "stderr",
     "output_type": "stream",
     "text": [
      " 40%|██████████████████████████████▌                                             | 8053/20000 [00:22<00:36, 324.05it/s]"
     ]
    },
    {
     "name": "stdout",
     "output_type": "stream",
     "text": [
      "Predicted through Recurrent input tensor([4, 1, 2, 0, 4, 5, 6, 7, 8, 9])\n",
      "Prediction using External drive tensor([0, 1, 2, 3, 4, 5, 6, 7, 8, 9])\n",
      "Actual prediction Loss tensor(-0.7765)\n",
      "Predicted through Recurrent input tensor([0, 1, 2, 3, 4, 5, 6, 7, 8, 9])\n",
      "Prediction using External drive tensor([0, 1, 2, 3, 4, 5, 6, 7, 8, 9])\n",
      "Actual prediction Loss tensor(-0.9281)\n",
      "Predicted through Recurrent input tensor([0, 1, 2, 3, 4, 5, 6, 7, 8, 9])\n",
      "Prediction using External drive tensor([0, 1, 2, 3, 4, 5, 6, 7, 8, 9])\n",
      "Actual prediction Loss tensor(-0.8595)\n",
      "Predicted through Recurrent input tensor([0, 1, 2, 3, 4, 5, 6, 7, 8, 9])\n",
      "Prediction using External drive tensor([0, 1, 2, 3, 4, 5, 6, 7, 8, 9])\n",
      "Actual prediction Loss tensor(-0.8738)\n"
     ]
    },
    {
     "name": "stderr",
     "output_type": "stream",
     "text": [
      " 40%|██████████████████████████████▋                                             | 8090/20000 [00:23<00:36, 327.65it/s]"
     ]
    },
    {
     "name": "stdout",
     "output_type": "stream",
     "text": [
      "Predicted through Recurrent input tensor([0, 1, 2, 3, 4, 5, 6, 7, 8, 9])\n",
      "Prediction using External drive tensor([0, 1, 2, 3, 4, 5, 6, 7, 8, 9])\n",
      "Actual prediction Loss tensor(-0.9405)\n",
      "Predicted through Recurrent input tensor([0, 1, 2, 3, 4, 5, 6, 7, 8, 9])\n",
      "Prediction using External drive tensor([0, 1, 2, 3, 4, 5, 6, 7, 8, 9])\n",
      "Actual prediction Loss tensor(-0.9353)\n",
      "Predicted through Recurrent input tensor([0, 1, 2, 3, 4, 5, 6, 7, 8, 9])\n",
      "Prediction using External drive tensor([0, 1, 2, 3, 4, 5, 6, 7, 8, 9])\n",
      "Actual prediction Loss tensor(-0.7968)\n"
     ]
    },
    {
     "name": "stderr",
     "output_type": "stream",
     "text": [
      " 41%|██████████████████████████████▊                                             | 8123/20000 [00:23<00:36, 328.35it/s]"
     ]
    },
    {
     "name": "stdout",
     "output_type": "stream",
     "text": [
      "Predicted through Recurrent input tensor([0, 1, 2, 3, 4, 5, 6, 7, 8, 9])\n",
      "Prediction using External drive tensor([0, 1, 2, 3, 4, 5, 6, 7, 8, 9])\n",
      "Actual prediction Loss tensor(-0.8745)\n",
      "Predicted through Recurrent input tensor([0, 1, 2, 3, 4, 5, 6, 7, 8, 9])\n",
      "Prediction using External drive tensor([0, 1, 2, 3, 4, 5, 6, 7, 8, 9])\n",
      "Actual prediction Loss tensor(-0.9095)\n",
      "Predicted through Recurrent input tensor([4, 1, 2, 0, 4, 5, 6, 7, 8, 9])\n",
      "Prediction using External drive tensor([0, 1, 2, 3, 4, 5, 6, 7, 8, 9])\n",
      "Actual prediction Loss tensor(-0.7797)\n",
      "Predicted through Recurrent input tensor([0, 1, 2, 3, 4, 5, 6, 7, 8, 9])\n",
      "Prediction using External drive tensor([0, 1, 2, 3, 4, 5, 6, 7, 8, 9])\n",
      "Actual prediction Loss tensor(-0.9293)\n"
     ]
    },
    {
     "name": "stderr",
     "output_type": "stream",
     "text": [
      " 41%|███████████████████████████████                                             | 8160/20000 [00:23<00:35, 330.71it/s]"
     ]
    },
    {
     "name": "stdout",
     "output_type": "stream",
     "text": [
      "Predicted through Recurrent input tensor([0, 1, 2, 3, 4, 5, 6, 7, 8, 9])\n",
      "Prediction using External drive tensor([0, 1, 2, 3, 4, 5, 6, 7, 8, 9])\n",
      "Actual prediction Loss tensor(-0.8617)\n",
      "Predicted through Recurrent input tensor([0, 1, 2, 3, 4, 5, 6, 7, 8, 9])\n",
      "Prediction using External drive tensor([0, 1, 2, 3, 4, 5, 6, 7, 8, 9])\n",
      "Actual prediction Loss tensor(-0.8761)\n",
      "Predicted through Recurrent input tensor([0, 1, 2, 3, 4, 5, 6, 7, 8, 9])\n",
      "Prediction using External drive tensor([0, 1, 2, 3, 4, 5, 6, 7, 8, 9])\n",
      "Actual prediction Loss tensor(-0.9416)\n"
     ]
    },
    {
     "name": "stderr",
     "output_type": "stream",
     "text": [
      " 41%|███████████████████████████████▏                                            | 8194/20000 [00:23<00:36, 325.78it/s]"
     ]
    },
    {
     "name": "stdout",
     "output_type": "stream",
     "text": [
      "Predicted through Recurrent input tensor([0, 1, 2, 3, 4, 5, 6, 7, 8, 9])\n",
      "Prediction using External drive tensor([0, 1, 2, 3, 4, 5, 6, 7, 8, 9])\n",
      "Actual prediction Loss tensor(-0.9364)\n",
      "Predicted through Recurrent input tensor([0, 1, 2, 3, 4, 5, 6, 7, 8, 9])\n",
      "Prediction using External drive tensor([0, 1, 2, 3, 4, 5, 6, 7, 8, 9])\n",
      "Actual prediction Loss tensor(-0.8006)\n",
      "Predicted through Recurrent input tensor([0, 1, 2, 3, 4, 5, 6, 7, 8, 9])\n",
      "Prediction using External drive tensor([0, 1, 2, 3, 4, 5, 6, 7, 8, 9])\n",
      "Actual prediction Loss tensor(-0.8771)\n",
      "Predicted through Recurrent input tensor([0, 1, 2, 3, 4, 5, 6, 7, 8, 9])\n",
      "Prediction using External drive tensor([0, 1, 2, 3, 4, 5, 6, 7, 8, 9])\n",
      "Actual prediction Loss tensor(-0.9111)\n"
     ]
    },
    {
     "name": "stderr",
     "output_type": "stream",
     "text": [
      " 41%|███████████████████████████████▎                                            | 8230/20000 [00:23<00:36, 324.46it/s]"
     ]
    },
    {
     "name": "stdout",
     "output_type": "stream",
     "text": [
      "Predicted through Recurrent input tensor([4, 1, 2, 0, 4, 5, 6, 7, 8, 9])\n",
      "Prediction using External drive tensor([0, 1, 2, 3, 4, 5, 6, 7, 8, 9])\n",
      "Actual prediction Loss tensor(-0.7829)\n",
      "Predicted through Recurrent input tensor([0, 1, 2, 3, 4, 5, 6, 7, 8, 9])\n",
      "Prediction using External drive tensor([0, 1, 2, 3, 4, 5, 6, 7, 8, 9])\n",
      "Actual prediction Loss tensor(-0.9305)\n",
      "Predicted through Recurrent input tensor([0, 1, 2, 3, 4, 5, 6, 7, 8, 9])\n",
      "Prediction using External drive tensor([0, 1, 2, 3, 4, 5, 6, 7, 8, 9])\n",
      "Actual prediction Loss tensor(-0.8638)\n"
     ]
    },
    {
     "name": "stderr",
     "output_type": "stream",
     "text": [
      " 41%|███████████████████████████████▍                                            | 8263/20000 [00:23<00:36, 324.18it/s]"
     ]
    },
    {
     "name": "stdout",
     "output_type": "stream",
     "text": [
      "Predicted through Recurrent input tensor([0, 1, 2, 3, 4, 5, 6, 7, 8, 9])\n",
      "Prediction using External drive tensor([0, 1, 2, 3, 4, 5, 6, 7, 8, 9])\n",
      "Actual prediction Loss tensor(-0.8784)\n",
      "Predicted through Recurrent input tensor([0, 1, 2, 3, 4, 5, 6, 7, 8, 9])\n",
      "Prediction using External drive tensor([0, 1, 2, 3, 4, 5, 6, 7, 8, 9])\n",
      "Actual prediction Loss tensor(-0.9426)\n",
      "Predicted through Recurrent input tensor([0, 1, 2, 3, 4, 5, 6, 7, 8, 9])\n",
      "Prediction using External drive tensor([0, 1, 2, 3, 4, 5, 6, 7, 8, 9])\n",
      "Actual prediction Loss tensor(-0.9376)\n"
     ]
    },
    {
     "name": "stderr",
     "output_type": "stream",
     "text": [
      " 41%|███████████████████████████████▌                                            | 8298/20000 [00:23<00:35, 331.52it/s]"
     ]
    },
    {
     "name": "stdout",
     "output_type": "stream",
     "text": [
      "Predicted through Recurrent input tensor([0, 1, 2, 3, 4, 5, 6, 7, 8, 9])\n",
      "Prediction using External drive tensor([0, 1, 2, 3, 4, 5, 6, 7, 8, 9])\n",
      "Actual prediction Loss tensor(-0.8042)\n",
      "Predicted through Recurrent input tensor([0, 1, 2, 3, 4, 5, 6, 7, 8, 9])\n",
      "Prediction using External drive tensor([0, 1, 2, 3, 4, 5, 6, 7, 8, 9])\n",
      "Actual prediction Loss tensor(-0.8797)\n",
      "Predicted through Recurrent input tensor([0, 1, 2, 3, 4, 5, 6, 7, 8, 9])\n",
      "Prediction using External drive tensor([0, 1, 2, 3, 4, 5, 6, 7, 8, 9])\n",
      "Actual prediction Loss tensor(-0.9127)\n",
      "Predicted through Recurrent input tensor([4, 1, 2, 0, 4, 5, 6, 7, 8, 9])\n",
      "Prediction using External drive tensor([0, 1, 2, 3, 4, 5, 6, 7, 8, 9])\n",
      "Actual prediction Loss tensor(-0.7860)\n"
     ]
    },
    {
     "name": "stderr",
     "output_type": "stream",
     "text": [
      " 42%|███████████████████████████████▋                                            | 8332/20000 [00:23<00:35, 325.39it/s]"
     ]
    },
    {
     "name": "stdout",
     "output_type": "stream",
     "text": [
      "Predicted through Recurrent input tensor([0, 1, 2, 3, 4, 5, 6, 7, 8, 9])\n",
      "Prediction using External drive tensor([0, 1, 2, 3, 4, 5, 6, 7, 8, 9])\n",
      "Actual prediction Loss tensor(-0.9316)\n",
      "Predicted through Recurrent input tensor([0, 1, 2, 3, 4, 5, 6, 7, 8, 9])\n",
      "Prediction using External drive tensor([0, 1, 2, 3, 4, 5, 6, 7, 8, 9])\n",
      "Actual prediction Loss tensor(-0.8659)\n",
      "Predicted through Recurrent input tensor([0, 1, 2, 3, 4, 5, 6, 7, 8, 9])\n",
      "Prediction using External drive tensor([0, 1, 2, 3, 4, 5, 6, 7, 8, 9])\n",
      "Actual prediction Loss tensor(-0.8806)\n"
     ]
    },
    {
     "name": "stderr",
     "output_type": "stream",
     "text": [
      " 42%|███████████████████████████████▊                                            | 8365/20000 [00:23<00:35, 325.79it/s]"
     ]
    },
    {
     "name": "stdout",
     "output_type": "stream",
     "text": [
      "Predicted through Recurrent input tensor([0, 1, 2, 3, 4, 5, 6, 7, 8, 9])\n",
      "Prediction using External drive tensor([0, 1, 2, 3, 4, 5, 6, 7, 8, 9])\n",
      "Actual prediction Loss tensor(-0.9436)\n",
      "Predicted through Recurrent input tensor([0, 1, 2, 3, 4, 5, 6, 7, 8, 9])\n",
      "Prediction using External drive tensor([0, 1, 2, 3, 4, 5, 6, 7, 8, 9])\n",
      "Actual prediction Loss tensor(-0.9386)\n",
      "Predicted through Recurrent input tensor([0, 1, 2, 3, 4, 5, 6, 7, 8, 9])\n",
      "Prediction using External drive tensor([0, 1, 2, 3, 4, 5, 6, 7, 8, 9])\n",
      "Actual prediction Loss tensor(-0.8078)\n",
      "Predicted through Recurrent input tensor([0, 1, 2, 3, 4, 5, 6, 7, 8, 9])\n",
      "Prediction using External drive tensor([0, 1, 2, 3, 4, 5, 6, 7, 8, 9])\n",
      "Actual prediction Loss tensor(-0.8822)\n"
     ]
    },
    {
     "name": "stderr",
     "output_type": "stream",
     "text": [
      " 42%|███████████████████████████████▉                                            | 8400/20000 [00:24<00:35, 324.37it/s]"
     ]
    },
    {
     "name": "stdout",
     "output_type": "stream",
     "text": [
      "Predicted through Recurrent input tensor([0, 1, 2, 3, 4, 5, 6, 7, 8, 9])\n",
      "Prediction using External drive tensor([0, 1, 2, 3, 4, 5, 6, 7, 8, 9])\n",
      "Actual prediction Loss tensor(-0.9142)\n",
      "Predicted through Recurrent input tensor([4, 1, 2, 0, 4, 5, 6, 7, 8, 9])\n",
      "Prediction using External drive tensor([0, 1, 2, 3, 4, 5, 6, 7, 8, 9])\n",
      "Actual prediction Loss tensor(-0.7891)\n",
      "Predicted through Recurrent input tensor([0, 1, 2, 3, 4, 5, 6, 7, 8, 9])\n",
      "Prediction using External drive tensor([0, 1, 2, 3, 4, 5, 6, 7, 8, 9])\n",
      "Actual prediction Loss tensor(-0.9327)\n"
     ]
    },
    {
     "name": "stderr",
     "output_type": "stream",
     "text": [
      " 42%|████████████████████████████████                                            | 8435/20000 [00:24<00:35, 329.78it/s]"
     ]
    },
    {
     "name": "stdout",
     "output_type": "stream",
     "text": [
      "Predicted through Recurrent input tensor([0, 1, 2, 3, 4, 5, 6, 7, 8, 9])\n",
      "Prediction using External drive tensor([0, 1, 2, 3, 4, 5, 6, 7, 8, 9])\n",
      "Actual prediction Loss tensor(-0.8679)\n",
      "Predicted through Recurrent input tensor([0, 1, 2, 3, 4, 5, 6, 7, 8, 9])\n",
      "Prediction using External drive tensor([0, 1, 2, 3, 4, 5, 6, 7, 8, 9])\n",
      "Actual prediction Loss tensor(-0.8827)\n",
      "Predicted through Recurrent input tensor([0, 1, 2, 3, 4, 5, 6, 7, 8, 9])\n",
      "Prediction using External drive tensor([0, 1, 2, 3, 4, 5, 6, 7, 8, 9])\n",
      "Actual prediction Loss tensor(-0.9446)\n"
     ]
    },
    {
     "name": "stderr",
     "output_type": "stream",
     "text": [
      " 42%|████████████████████████████████▏                                           | 8469/20000 [00:24<00:34, 332.78it/s]"
     ]
    },
    {
     "name": "stdout",
     "output_type": "stream",
     "text": [
      "Predicted through Recurrent input tensor([0, 1, 2, 3, 4, 5, 6, 7, 8, 9])\n",
      "Prediction using External drive tensor([0, 1, 2, 3, 4, 5, 6, 7, 8, 9])\n",
      "Actual prediction Loss tensor(-0.9397)\n",
      "Predicted through Recurrent input tensor([0, 1, 2, 3, 4, 5, 6, 7, 8, 9])\n",
      "Prediction using External drive tensor([0, 1, 2, 3, 4, 5, 6, 7, 8, 9])\n",
      "Actual prediction Loss tensor(-0.8113)\n",
      "Predicted through Recurrent input tensor([0, 1, 2, 3, 4, 5, 6, 7, 8, 9])\n",
      "Prediction using External drive tensor([0, 1, 2, 3, 4, 5, 6, 7, 8, 9])\n",
      "Actual prediction Loss tensor(-0.8846)\n",
      "Predicted through Recurrent input tensor([0, 1, 2, 3, 4, 5, 6, 7, 8, 9])\n",
      "Prediction using External drive tensor([0, 1, 2, 3, 4, 5, 6, 7, 8, 9])\n",
      "Actual prediction Loss tensor(-0.9157)\n"
     ]
    },
    {
     "name": "stderr",
     "output_type": "stream",
     "text": [
      " 43%|████████████████████████████████▎                                           | 8503/20000 [00:24<00:35, 322.53it/s]"
     ]
    },
    {
     "name": "stdout",
     "output_type": "stream",
     "text": [
      "Predicted through Recurrent input tensor([4, 1, 2, 0, 4, 5, 6, 7, 8, 9])\n",
      "Prediction using External drive tensor([0, 1, 2, 3, 4, 5, 6, 7, 8, 9])\n",
      "Actual prediction Loss tensor(-0.7921)\n",
      "Predicted through Recurrent input tensor([0, 1, 2, 3, 4, 5, 6, 7, 8, 9])\n",
      "Prediction using External drive tensor([0, 1, 2, 3, 4, 5, 6, 7, 8, 9])\n",
      "Actual prediction Loss tensor(-0.9338)\n",
      "Predicted through Recurrent input tensor([0, 1, 2, 3, 4, 5, 6, 7, 8, 9])\n",
      "Prediction using External drive tensor([0, 1, 2, 3, 4, 5, 6, 7, 8, 9])\n",
      "Actual prediction Loss tensor(-0.8699)\n"
     ]
    },
    {
     "name": "stderr",
     "output_type": "stream",
     "text": [
      " 43%|████████████████████████████████▍                                           | 8538/20000 [00:24<00:34, 329.37it/s]"
     ]
    },
    {
     "name": "stdout",
     "output_type": "stream",
     "text": [
      "Predicted through Recurrent input tensor([0, 1, 2, 3, 4, 5, 6, 7, 8, 9])\n",
      "Prediction using External drive tensor([0, 1, 2, 3, 4, 5, 6, 7, 8, 9])\n",
      "Actual prediction Loss tensor(-0.8848)\n",
      "Predicted through Recurrent input tensor([0, 1, 2, 3, 4, 5, 6, 7, 8, 9])\n",
      "Prediction using External drive tensor([0, 1, 2, 3, 4, 5, 6, 7, 8, 9])\n",
      "Actual prediction Loss tensor(-0.9455)\n",
      "Predicted through Recurrent input tensor([0, 1, 2, 3, 4, 5, 6, 7, 8, 9])\n",
      "Prediction using External drive tensor([0, 1, 2, 3, 4, 5, 6, 7, 8, 9])\n",
      "Actual prediction Loss tensor(-0.9407)\n",
      "Predicted through Recurrent input tensor([0, 1, 2, 3, 4, 5, 6, 7, 8, 9])\n",
      "Prediction using External drive tensor([0, 1, 2, 3, 4, 5, 6, 7, 8, 9])\n",
      "Actual prediction Loss tensor(-0.8147)\n"
     ]
    },
    {
     "name": "stderr",
     "output_type": "stream",
     "text": [
      " 43%|████████████████████████████████▌                                           | 8572/20000 [00:24<00:35, 325.80it/s]"
     ]
    },
    {
     "name": "stdout",
     "output_type": "stream",
     "text": [
      "Predicted through Recurrent input tensor([0, 1, 2, 3, 4, 5, 6, 7, 8, 9])\n",
      "Prediction using External drive tensor([0, 1, 2, 3, 4, 5, 6, 7, 8, 9])\n",
      "Actual prediction Loss tensor(-0.8870)\n",
      "Predicted through Recurrent input tensor([0, 1, 2, 3, 4, 5, 6, 7, 8, 9])\n",
      "Prediction using External drive tensor([0, 1, 2, 3, 4, 5, 6, 7, 8, 9])\n",
      "Actual prediction Loss tensor(-0.9171)\n",
      "Predicted through Recurrent input tensor([4, 1, 2, 0, 4, 5, 6, 7, 8, 9])\n",
      "Prediction using External drive tensor([0, 1, 2, 3, 4, 5, 6, 7, 8, 9])\n",
      "Actual prediction Loss tensor(-0.7951)\n"
     ]
    },
    {
     "name": "stderr",
     "output_type": "stream",
     "text": [
      " 43%|████████████████████████████████▋                                           | 8608/20000 [00:24<00:34, 334.42it/s]"
     ]
    },
    {
     "name": "stdout",
     "output_type": "stream",
     "text": [
      "Predicted through Recurrent input tensor([0, 1, 2, 3, 4, 5, 6, 7, 8, 9])\n",
      "Prediction using External drive tensor([0, 1, 2, 3, 4, 5, 6, 7, 8, 9])\n",
      "Actual prediction Loss tensor(-0.9348)\n",
      "Predicted through Recurrent input tensor([0, 1, 2, 3, 4, 5, 6, 7, 8, 9])\n",
      "Prediction using External drive tensor([0, 1, 2, 3, 4, 5, 6, 7, 8, 9])\n",
      "Actual prediction Loss tensor(-0.8719)\n",
      "Predicted through Recurrent input tensor([0, 1, 2, 3, 4, 5, 6, 7, 8, 9])\n",
      "Prediction using External drive tensor([0, 1, 2, 3, 4, 5, 6, 7, 8, 9])\n",
      "Actual prediction Loss tensor(-0.8868)\n",
      "Predicted through Recurrent input tensor([0, 1, 2, 3, 4, 5, 6, 7, 8, 9])\n",
      "Prediction using External drive tensor([0, 1, 2, 3, 4, 5, 6, 7, 8, 9])\n",
      "Actual prediction Loss tensor(-0.9465)\n"
     ]
    },
    {
     "name": "stderr",
     "output_type": "stream",
     "text": [
      " 43%|████████████████████████████████▊                                           | 8642/20000 [00:24<00:34, 330.20it/s]"
     ]
    },
    {
     "name": "stdout",
     "output_type": "stream",
     "text": [
      "Predicted through Recurrent input tensor([0, 1, 2, 3, 4, 5, 6, 7, 8, 9])\n",
      "Prediction using External drive tensor([0, 1, 2, 3, 4, 5, 6, 7, 8, 9])\n",
      "Actual prediction Loss tensor(-0.9417)\n",
      "Predicted through Recurrent input tensor([0, 1, 2, 3, 4, 5, 6, 7, 8, 9])\n",
      "Prediction using External drive tensor([0, 1, 2, 3, 4, 5, 6, 7, 8, 9])\n",
      "Actual prediction Loss tensor(-0.8180)\n",
      "Predicted through Recurrent input tensor([0, 1, 2, 3, 4, 5, 6, 7, 8, 9])\n",
      "Prediction using External drive tensor([0, 1, 2, 3, 4, 5, 6, 7, 8, 9])\n",
      "Actual prediction Loss tensor(-0.8892)\n"
     ]
    },
    {
     "name": "stderr",
     "output_type": "stream",
     "text": [
      " 43%|████████████████████████████████▉                                           | 8676/20000 [00:24<00:34, 332.10it/s]"
     ]
    },
    {
     "name": "stdout",
     "output_type": "stream",
     "text": [
      "Predicted through Recurrent input tensor([0, 1, 2, 3, 4, 5, 6, 7, 8, 9])\n",
      "Prediction using External drive tensor([0, 1, 2, 3, 4, 5, 6, 7, 8, 9])\n",
      "Actual prediction Loss tensor(-0.9186)\n",
      "Predicted through Recurrent input tensor([4, 1, 2, 0, 4, 5, 6, 7, 8, 9])\n",
      "Prediction using External drive tensor([0, 1, 2, 3, 4, 5, 6, 7, 8, 9])\n",
      "Actual prediction Loss tensor(-0.7980)\n",
      "Predicted through Recurrent input tensor([0, 1, 2, 3, 4, 5, 6, 7, 8, 9])\n",
      "Prediction using External drive tensor([0, 1, 2, 3, 4, 5, 6, 7, 8, 9])\n",
      "Actual prediction Loss tensor(-0.9359)\n",
      "Predicted through Recurrent input tensor([0, 1, 2, 3, 4, 5, 6, 7, 8, 9])\n",
      "Prediction using External drive tensor([0, 1, 2, 3, 4, 5, 6, 7, 8, 9])\n",
      "Actual prediction Loss tensor(-0.8738)\n"
     ]
    },
    {
     "name": "stderr",
     "output_type": "stream",
     "text": [
      " 44%|█████████████████████████████████                                           | 8710/20000 [00:24<00:34, 328.62it/s]"
     ]
    },
    {
     "name": "stdout",
     "output_type": "stream",
     "text": [
      "Predicted through Recurrent input tensor([0, 1, 2, 3, 4, 5, 6, 7, 8, 9])\n",
      "Prediction using External drive tensor([0, 1, 2, 3, 4, 5, 6, 7, 8, 9])\n",
      "Actual prediction Loss tensor(-0.8887)\n",
      "Predicted through Recurrent input tensor([0, 1, 2, 3, 4, 5, 6, 7, 8, 9])\n",
      "Prediction using External drive tensor([0, 1, 2, 3, 4, 5, 6, 7, 8, 9])\n",
      "Actual prediction Loss tensor(-0.9474)\n",
      "Predicted through Recurrent input tensor([0, 1, 2, 3, 4, 5, 6, 7, 8, 9])\n",
      "Prediction using External drive tensor([0, 1, 2, 3, 4, 5, 6, 7, 8, 9])\n",
      "Actual prediction Loss tensor(-0.9427)\n"
     ]
    },
    {
     "name": "stderr",
     "output_type": "stream",
     "text": [
      " 44%|█████████████████████████████████▏                                          | 8744/20000 [00:25<00:34, 330.98it/s]"
     ]
    },
    {
     "name": "stdout",
     "output_type": "stream",
     "text": [
      "Predicted through Recurrent input tensor([0, 1, 2, 3, 4, 5, 6, 7, 8, 9])\n",
      "Prediction using External drive tensor([0, 1, 2, 3, 4, 5, 6, 7, 8, 9])\n",
      "Actual prediction Loss tensor(-0.8212)\n",
      "Predicted through Recurrent input tensor([0, 1, 2, 3, 4, 5, 6, 7, 8, 9])\n",
      "Prediction using External drive tensor([0, 1, 2, 3, 4, 5, 6, 7, 8, 9])\n",
      "Actual prediction Loss tensor(-0.8914)\n",
      "Predicted through Recurrent input tensor([0, 1, 2, 3, 4, 5, 6, 7, 8, 9])\n",
      "Prediction using External drive tensor([0, 1, 2, 3, 4, 5, 6, 7, 8, 9])\n",
      "Actual prediction Loss tensor(-0.9200)\n",
      "Predicted through Recurrent input tensor([4, 1, 2, 0, 4, 5, 6, 7, 8, 9])\n",
      "Prediction using External drive tensor([0, 1, 2, 3, 4, 5, 6, 7, 8, 9])\n",
      "Actual prediction Loss tensor(-0.8008)\n"
     ]
    },
    {
     "name": "stderr",
     "output_type": "stream",
     "text": [
      " 44%|█████████████████████████████████▎                                          | 8780/20000 [00:25<00:34, 328.95it/s]"
     ]
    },
    {
     "name": "stdout",
     "output_type": "stream",
     "text": [
      "Predicted through Recurrent input tensor([0, 1, 2, 3, 4, 5, 6, 7, 8, 9])\n",
      "Prediction using External drive tensor([0, 1, 2, 3, 4, 5, 6, 7, 8, 9])\n",
      "Actual prediction Loss tensor(-0.9369)\n",
      "Predicted through Recurrent input tensor([0, 1, 2, 3, 4, 5, 6, 7, 8, 9])\n",
      "Prediction using External drive tensor([0, 1, 2, 3, 4, 5, 6, 7, 8, 9])\n",
      "Actual prediction Loss tensor(-0.8756)\n",
      "Predicted through Recurrent input tensor([0, 1, 2, 3, 4, 5, 6, 7, 8, 9])\n",
      "Prediction using External drive tensor([0, 1, 2, 3, 4, 5, 6, 7, 8, 9])\n",
      "Actual prediction Loss tensor(-0.8906)\n"
     ]
    },
    {
     "name": "stderr",
     "output_type": "stream",
     "text": [
      " 44%|█████████████████████████████████▍                                          | 8815/20000 [00:25<00:33, 334.04it/s]"
     ]
    },
    {
     "name": "stdout",
     "output_type": "stream",
     "text": [
      "Predicted through Recurrent input tensor([0, 1, 2, 3, 4, 5, 6, 7, 8, 9])\n",
      "Prediction using External drive tensor([0, 1, 2, 3, 4, 5, 6, 7, 8, 9])\n",
      "Actual prediction Loss tensor(-0.9483)\n",
      "Predicted through Recurrent input tensor([0, 1, 2, 3, 4, 5, 6, 7, 8, 9])\n",
      "Prediction using External drive tensor([0, 1, 2, 3, 4, 5, 6, 7, 8, 9])\n",
      "Actual prediction Loss tensor(-0.9437)\n",
      "Predicted through Recurrent input tensor([0, 1, 2, 3, 4, 5, 6, 7, 8, 9])\n",
      "Prediction using External drive tensor([0, 1, 2, 3, 4, 5, 6, 7, 8, 9])\n",
      "Actual prediction Loss tensor(-0.8244)\n",
      "Predicted through Recurrent input tensor([0, 1, 2, 3, 4, 5, 6, 7, 8, 9])\n",
      "Prediction using External drive tensor([0, 1, 2, 3, 4, 5, 6, 7, 8, 9])\n",
      "Actual prediction Loss tensor(-0.8936)\n"
     ]
    },
    {
     "name": "stderr",
     "output_type": "stream",
     "text": [
      " 44%|█████████████████████████████████▋                                          | 8850/20000 [00:25<00:34, 327.27it/s]"
     ]
    },
    {
     "name": "stdout",
     "output_type": "stream",
     "text": [
      "Predicted through Recurrent input tensor([0, 1, 2, 3, 4, 5, 6, 7, 8, 9])\n",
      "Prediction using External drive tensor([0, 1, 2, 3, 4, 5, 6, 7, 8, 9])\n",
      "Actual prediction Loss tensor(-0.9213)\n",
      "Predicted through Recurrent input tensor([4, 1, 2, 0, 4, 5, 6, 7, 8, 9])\n",
      "Prediction using External drive tensor([0, 1, 2, 3, 4, 5, 6, 7, 8, 9])\n",
      "Actual prediction Loss tensor(-0.8036)\n",
      "Predicted through Recurrent input tensor([0, 1, 2, 3, 4, 5, 6, 7, 8, 9])\n",
      "Prediction using External drive tensor([0, 1, 2, 3, 4, 5, 6, 7, 8, 9])\n",
      "Actual prediction Loss tensor(-0.9378)\n"
     ]
    },
    {
     "name": "stderr",
     "output_type": "stream",
     "text": [
      " 44%|█████████████████████████████████▊                                          | 8883/20000 [00:25<00:33, 328.08it/s]"
     ]
    },
    {
     "name": "stdout",
     "output_type": "stream",
     "text": [
      "Predicted through Recurrent input tensor([0, 1, 2, 3, 4, 5, 6, 7, 8, 9])\n",
      "Prediction using External drive tensor([0, 1, 2, 3, 4, 5, 6, 7, 8, 9])\n",
      "Actual prediction Loss tensor(-0.8774)\n",
      "Predicted through Recurrent input tensor([0, 1, 2, 3, 4, 5, 6, 7, 8, 9])\n",
      "Prediction using External drive tensor([0, 1, 2, 3, 4, 5, 6, 7, 8, 9])\n",
      "Actual prediction Loss tensor(-0.8925)\n",
      "Predicted through Recurrent input tensor([0, 1, 2, 3, 4, 5, 6, 7, 8, 9])\n",
      "Prediction using External drive tensor([0, 1, 2, 3, 4, 5, 6, 7, 8, 9])\n",
      "Actual prediction Loss tensor(-0.9491)\n"
     ]
    },
    {
     "name": "stderr",
     "output_type": "stream",
     "text": [
      " 45%|█████████████████████████████████▉                                          | 8919/20000 [00:25<00:32, 336.11it/s]"
     ]
    },
    {
     "name": "stdout",
     "output_type": "stream",
     "text": [
      "Predicted through Recurrent input tensor([0, 1, 2, 3, 4, 5, 6, 7, 8, 9])\n",
      "Prediction using External drive tensor([0, 1, 2, 3, 4, 5, 6, 7, 8, 9])\n",
      "Actual prediction Loss tensor(-0.9446)\n",
      "Predicted through Recurrent input tensor([0, 1, 2, 3, 4, 5, 6, 7, 8, 9])\n",
      "Prediction using External drive tensor([0, 1, 2, 3, 4, 5, 6, 7, 8, 9])\n",
      "Actual prediction Loss tensor(-0.8275)\n",
      "Predicted through Recurrent input tensor([0, 1, 2, 3, 4, 5, 6, 7, 8, 9])\n",
      "Prediction using External drive tensor([0, 1, 2, 3, 4, 5, 6, 7, 8, 9])\n",
      "Actual prediction Loss tensor(-0.8956)\n",
      "Predicted through Recurrent input tensor([0, 1, 2, 3, 4, 5, 6, 7, 8, 9])\n",
      "Prediction using External drive tensor([0, 1, 2, 3, 4, 5, 6, 7, 8, 9])\n",
      "Actual prediction Loss tensor(-0.9226)\n"
     ]
    },
    {
     "name": "stderr",
     "output_type": "stream",
     "text": [
      " 45%|██████████████████████████████████                                          | 8953/20000 [00:25<00:33, 325.64it/s]"
     ]
    },
    {
     "name": "stdout",
     "output_type": "stream",
     "text": [
      "Predicted through Recurrent input tensor([0, 1, 2, 0, 4, 5, 6, 7, 8, 9])\n",
      "Prediction using External drive tensor([0, 1, 2, 3, 4, 5, 6, 7, 8, 9])\n",
      "Actual prediction Loss tensor(-0.8064)\n",
      "Predicted through Recurrent input tensor([0, 1, 2, 3, 4, 5, 6, 7, 8, 9])\n",
      "Prediction using External drive tensor([0, 1, 2, 3, 4, 5, 6, 7, 8, 9])\n",
      "Actual prediction Loss tensor(-0.9388)\n",
      "Predicted through Recurrent input tensor([0, 1, 2, 3, 4, 5, 6, 7, 8, 9])\n",
      "Prediction using External drive tensor([0, 1, 2, 3, 4, 5, 6, 7, 8, 9])\n",
      "Actual prediction Loss tensor(-0.8792)\n"
     ]
    },
    {
     "name": "stderr",
     "output_type": "stream",
     "text": [
      " 45%|██████████████████████████████████▏                                         | 8986/20000 [00:25<00:33, 324.04it/s]"
     ]
    },
    {
     "name": "stdout",
     "output_type": "stream",
     "text": [
      "Predicted through Recurrent input tensor([0, 1, 2, 3, 4, 5, 6, 7, 8, 9])\n",
      "Prediction using External drive tensor([0, 1, 2, 3, 4, 5, 6, 7, 8, 9])\n",
      "Actual prediction Loss tensor(-0.8943)\n",
      "Predicted through Recurrent input tensor([0, 1, 2, 3, 4, 5, 6, 7, 8, 9])\n",
      "Prediction using External drive tensor([0, 1, 2, 3, 4, 5, 6, 7, 8, 9])\n",
      "Actual prediction Loss tensor(-0.9500)\n",
      "Predicted through Recurrent input tensor([0, 1, 2, 3, 4, 5, 6, 7, 8, 9])\n",
      "Prediction using External drive tensor([0, 1, 2, 3, 4, 5, 6, 7, 8, 9])\n",
      "Actual prediction Loss tensor(-0.9455)\n",
      "Predicted through Recurrent input tensor([0, 1, 2, 3, 4, 5, 6, 7, 8, 9])\n",
      "Prediction using External drive tensor([0, 1, 2, 3, 4, 5, 6, 7, 8, 9])\n",
      "Actual prediction Loss tensor(-0.8305)\n"
     ]
    },
    {
     "name": "stderr",
     "output_type": "stream",
     "text": [
      " 45%|██████████████████████████████████▎                                         | 9020/20000 [00:25<00:34, 322.13it/s]"
     ]
    },
    {
     "name": "stdout",
     "output_type": "stream",
     "text": [
      "Predicted through Recurrent input tensor([0, 1, 2, 3, 4, 5, 6, 7, 8, 9])\n",
      "Prediction using External drive tensor([0, 1, 2, 3, 4, 5, 6, 7, 8, 9])\n",
      "Actual prediction Loss tensor(-0.8977)\n",
      "Predicted through Recurrent input tensor([0, 1, 2, 3, 4, 5, 6, 7, 8, 9])\n",
      "Prediction using External drive tensor([0, 1, 2, 3, 4, 5, 6, 7, 8, 9])\n",
      "Actual prediction Loss tensor(-0.9239)\n",
      "Predicted through Recurrent input tensor([0, 1, 2, 0, 4, 5, 6, 7, 8, 9])\n",
      "Prediction using External drive tensor([0, 1, 2, 3, 4, 5, 6, 7, 8, 9])\n",
      "Actual prediction Loss tensor(-0.8091)\n"
     ]
    },
    {
     "name": "stderr",
     "output_type": "stream",
     "text": [
      " 45%|██████████████████████████████████▍                                         | 9054/20000 [00:26<00:33, 326.35it/s]"
     ]
    },
    {
     "name": "stdout",
     "output_type": "stream",
     "text": [
      "Predicted through Recurrent input tensor([0, 1, 2, 3, 4, 5, 6, 7, 8, 9])\n",
      "Prediction using External drive tensor([0, 1, 2, 3, 4, 5, 6, 7, 8, 9])\n",
      "Actual prediction Loss tensor(-0.9397)\n",
      "Predicted through Recurrent input tensor([0, 1, 2, 3, 4, 5, 6, 7, 8, 9])\n",
      "Prediction using External drive tensor([0, 1, 2, 3, 4, 5, 6, 7, 8, 9])\n",
      "Actual prediction Loss tensor(-0.8809)\n",
      "Predicted through Recurrent input tensor([0, 1, 2, 3, 4, 5, 6, 7, 8, 9])\n",
      "Prediction using External drive tensor([0, 1, 2, 3, 4, 5, 6, 7, 8, 9])\n",
      "Actual prediction Loss tensor(-0.8961)\n"
     ]
    },
    {
     "name": "stderr",
     "output_type": "stream",
     "text": [
      " 45%|██████████████████████████████████▌                                         | 9087/20000 [00:26<00:33, 327.44it/s]"
     ]
    },
    {
     "name": "stdout",
     "output_type": "stream",
     "text": [
      "Predicted through Recurrent input tensor([0, 1, 2, 3, 4, 5, 6, 7, 8, 9])\n",
      "Prediction using External drive tensor([0, 1, 2, 3, 4, 5, 6, 7, 8, 9])\n",
      "Actual prediction Loss tensor(-0.9508)\n",
      "Predicted through Recurrent input tensor([0, 1, 2, 3, 4, 5, 6, 7, 8, 9])\n",
      "Prediction using External drive tensor([0, 1, 2, 3, 4, 5, 6, 7, 8, 9])\n",
      "Actual prediction Loss tensor(-0.9464)\n",
      "Predicted through Recurrent input tensor([0, 1, 2, 3, 4, 5, 6, 7, 8, 9])\n",
      "Prediction using External drive tensor([0, 1, 2, 3, 4, 5, 6, 7, 8, 9])\n",
      "Actual prediction Loss tensor(-0.8335)\n",
      "Predicted through Recurrent input tensor([0, 1, 2, 3, 4, 5, 6, 7, 8, 9])\n",
      "Prediction using External drive tensor([0, 1, 2, 3, 4, 5, 6, 7, 8, 9])\n",
      "Actual prediction Loss tensor(-0.8996)\n"
     ]
    },
    {
     "name": "stderr",
     "output_type": "stream",
     "text": [
      " 46%|██████████████████████████████████▋                                         | 9120/20000 [00:26<00:33, 321.49it/s]"
     ]
    },
    {
     "name": "stdout",
     "output_type": "stream",
     "text": [
      "Predicted through Recurrent input tensor([0, 1, 2, 3, 4, 5, 6, 7, 8, 9])\n",
      "Prediction using External drive tensor([0, 1, 2, 3, 4, 5, 6, 7, 8, 9])\n",
      "Actual prediction Loss tensor(-0.9252)\n",
      "Predicted through Recurrent input tensor([0, 1, 2, 0, 4, 5, 6, 7, 8, 9])\n",
      "Prediction using External drive tensor([0, 1, 2, 3, 4, 5, 6, 7, 8, 9])\n",
      "Actual prediction Loss tensor(-0.8117)\n",
      "Predicted through Recurrent input tensor([0, 1, 2, 3, 4, 5, 6, 7, 8, 9])\n",
      "Prediction using External drive tensor([0, 1, 2, 3, 4, 5, 6, 7, 8, 9])\n",
      "Actual prediction Loss tensor(-0.9406)\n"
     ]
    },
    {
     "name": "stderr",
     "output_type": "stream",
     "text": [
      " 46%|██████████████████████████████████▊                                         | 9154/20000 [00:26<00:33, 326.82it/s]"
     ]
    },
    {
     "name": "stdout",
     "output_type": "stream",
     "text": [
      "Predicted through Recurrent input tensor([0, 1, 2, 3, 4, 5, 6, 7, 8, 9])\n",
      "Prediction using External drive tensor([0, 1, 2, 3, 4, 5, 6, 7, 8, 9])\n",
      "Actual prediction Loss tensor(-0.8826)\n",
      "Predicted through Recurrent input tensor([0, 1, 2, 3, 4, 5, 6, 7, 8, 9])\n",
      "Prediction using External drive tensor([0, 1, 2, 3, 4, 5, 6, 7, 8, 9])\n",
      "Actual prediction Loss tensor(-0.8978)\n",
      "Predicted through Recurrent input tensor([0, 1, 2, 3, 4, 5, 6, 7, 8, 9])\n",
      "Prediction using External drive tensor([0, 1, 2, 3, 4, 5, 6, 7, 8, 9])\n",
      "Actual prediction Loss tensor(-0.9516)\n",
      "Predicted through Recurrent input tensor([0, 1, 2, 3, 4, 5, 6, 7, 8, 9])\n",
      "Prediction using External drive tensor([0, 1, 2, 3, 4, 5, 6, 7, 8, 9])\n",
      "Actual prediction Loss tensor(-0.9473)\n"
     ]
    },
    {
     "name": "stderr",
     "output_type": "stream",
     "text": [
      " 46%|██████████████████████████████████▉                                         | 9190/20000 [00:26<00:32, 327.85it/s]"
     ]
    },
    {
     "name": "stdout",
     "output_type": "stream",
     "text": [
      "Predicted through Recurrent input tensor([0, 1, 2, 3, 4, 5, 6, 7, 8, 9])\n",
      "Prediction using External drive tensor([0, 1, 2, 3, 4, 5, 6, 7, 8, 9])\n",
      "Actual prediction Loss tensor(-0.8364)\n",
      "Predicted through Recurrent input tensor([0, 1, 2, 3, 4, 5, 6, 7, 8, 9])\n",
      "Prediction using External drive tensor([0, 1, 2, 3, 4, 5, 6, 7, 8, 9])\n",
      "Actual prediction Loss tensor(-0.9015)\n",
      "Predicted through Recurrent input tensor([0, 1, 2, 3, 4, 5, 6, 7, 8, 9])\n",
      "Prediction using External drive tensor([0, 1, 2, 3, 4, 5, 6, 7, 8, 9])\n",
      "Actual prediction Loss tensor(-0.9264)\n"
     ]
    },
    {
     "name": "stderr",
     "output_type": "stream",
     "text": [
      " 46%|███████████████████████████████████                                         | 9224/20000 [00:26<00:32, 329.48it/s]"
     ]
    },
    {
     "name": "stdout",
     "output_type": "stream",
     "text": [
      "Predicted through Recurrent input tensor([0, 1, 2, 0, 4, 5, 6, 7, 8, 9])\n",
      "Prediction using External drive tensor([0, 1, 2, 3, 4, 5, 6, 7, 8, 9])\n",
      "Actual prediction Loss tensor(-0.8144)\n",
      "Predicted through Recurrent input tensor([0, 1, 2, 3, 4, 5, 6, 7, 8, 9])\n",
      "Prediction using External drive tensor([0, 1, 2, 3, 4, 5, 6, 7, 8, 9])\n",
      "Actual prediction Loss tensor(-0.9415)\n",
      "Predicted through Recurrent input tensor([0, 1, 2, 3, 4, 5, 6, 7, 8, 9])\n",
      "Prediction using External drive tensor([0, 1, 2, 3, 4, 5, 6, 7, 8, 9])\n",
      "Actual prediction Loss tensor(-0.8843)\n",
      "Predicted through Recurrent input tensor([0, 1, 2, 3, 4, 5, 6, 7, 8, 9])\n",
      "Prediction using External drive tensor([0, 1, 2, 3, 4, 5, 6, 7, 8, 9])\n",
      "Actual prediction Loss tensor(-0.8994)\n"
     ]
    },
    {
     "name": "stderr",
     "output_type": "stream",
     "text": [
      " 46%|███████████████████████████████████▏                                        | 9260/20000 [00:26<00:32, 329.72it/s]"
     ]
    },
    {
     "name": "stdout",
     "output_type": "stream",
     "text": [
      "Predicted through Recurrent input tensor([0, 1, 2, 3, 4, 5, 6, 7, 8, 9])\n",
      "Prediction using External drive tensor([0, 1, 2, 3, 4, 5, 6, 7, 8, 9])\n",
      "Actual prediction Loss tensor(-0.9524)\n",
      "Predicted through Recurrent input tensor([0, 1, 2, 3, 4, 5, 6, 7, 8, 9])\n",
      "Prediction using External drive tensor([0, 1, 2, 3, 4, 5, 6, 7, 8, 9])\n",
      "Actual prediction Loss tensor(-0.9481)\n",
      "Predicted through Recurrent input tensor([0, 1, 2, 3, 4, 5, 6, 7, 8, 9])\n",
      "Prediction using External drive tensor([0, 1, 2, 3, 4, 5, 6, 7, 8, 9])\n",
      "Actual prediction Loss tensor(-0.8392)\n"
     ]
    },
    {
     "name": "stderr",
     "output_type": "stream",
     "text": [
      " 46%|███████████████████████████████████▎                                        | 9294/20000 [00:26<00:32, 332.74it/s]"
     ]
    },
    {
     "name": "stdout",
     "output_type": "stream",
     "text": [
      "Predicted through Recurrent input tensor([0, 1, 2, 3, 4, 5, 6, 7, 8, 9])\n",
      "Prediction using External drive tensor([0, 1, 2, 3, 4, 5, 6, 7, 8, 9])\n",
      "Actual prediction Loss tensor(-0.9034)\n",
      "Predicted through Recurrent input tensor([0, 1, 2, 3, 4, 5, 6, 7, 8, 9])\n",
      "Prediction using External drive tensor([0, 1, 2, 3, 4, 5, 6, 7, 8, 9])\n",
      "Actual prediction Loss tensor(-0.9276)\n",
      "Predicted through Recurrent input tensor([0, 1, 2, 0, 4, 5, 6, 7, 8, 9])\n",
      "Prediction using External drive tensor([0, 1, 2, 3, 4, 5, 6, 7, 8, 9])\n",
      "Actual prediction Loss tensor(-0.8169)\n"
     ]
    },
    {
     "name": "stderr",
     "output_type": "stream",
     "text": [
      " 47%|███████████████████████████████████▍                                        | 9329/20000 [00:26<00:31, 336.76it/s]"
     ]
    },
    {
     "name": "stdout",
     "output_type": "stream",
     "text": [
      "Predicted through Recurrent input tensor([0, 1, 2, 3, 4, 5, 6, 7, 8, 9])\n",
      "Prediction using External drive tensor([0, 1, 2, 3, 4, 5, 6, 7, 8, 9])\n",
      "Actual prediction Loss tensor(-0.9424)\n",
      "Predicted through Recurrent input tensor([0, 1, 2, 3, 4, 5, 6, 7, 8, 9])\n",
      "Prediction using External drive tensor([0, 1, 2, 3, 4, 5, 6, 7, 8, 9])\n",
      "Actual prediction Loss tensor(-0.8859)\n",
      "Predicted through Recurrent input tensor([0, 1, 2, 3, 4, 5, 6, 7, 8, 9])\n",
      "Prediction using External drive tensor([0, 1, 2, 3, 4, 5, 6, 7, 8, 9])\n",
      "Actual prediction Loss tensor(-0.9011)\n",
      "Predicted through Recurrent input tensor([0, 1, 2, 3, 4, 5, 6, 7, 8, 9])\n",
      "Prediction using External drive tensor([0, 1, 2, 3, 4, 5, 6, 7, 8, 9])\n",
      "Actual prediction Loss tensor(-0.9531)\n"
     ]
    },
    {
     "name": "stderr",
     "output_type": "stream",
     "text": [
      " 47%|███████████████████████████████████▌                                        | 9363/20000 [00:26<00:32, 330.83it/s]"
     ]
    },
    {
     "name": "stdout",
     "output_type": "stream",
     "text": [
      "Predicted through Recurrent input tensor([0, 1, 2, 3, 4, 5, 6, 7, 8, 9])\n",
      "Prediction using External drive tensor([0, 1, 2, 3, 4, 5, 6, 7, 8, 9])\n",
      "Actual prediction Loss tensor(-0.9489)\n",
      "Predicted through Recurrent input tensor([0, 1, 2, 3, 4, 5, 6, 7, 8, 9])\n",
      "Prediction using External drive tensor([0, 1, 2, 3, 4, 5, 6, 7, 8, 9])\n",
      "Actual prediction Loss tensor(-0.8419)\n",
      "Predicted through Recurrent input tensor([0, 1, 2, 3, 4, 5, 6, 7, 8, 9])\n",
      "Prediction using External drive tensor([0, 1, 2, 3, 4, 5, 6, 7, 8, 9])\n",
      "Actual prediction Loss tensor(-0.9051)\n"
     ]
    },
    {
     "name": "stderr",
     "output_type": "stream",
     "text": [
      " 47%|███████████████████████████████████▋                                        | 9397/20000 [00:27<00:31, 333.53it/s]"
     ]
    },
    {
     "name": "stdout",
     "output_type": "stream",
     "text": [
      "Predicted through Recurrent input tensor([0, 1, 2, 3, 4, 5, 6, 7, 8, 9])\n",
      "Prediction using External drive tensor([0, 1, 2, 3, 4, 5, 6, 7, 8, 9])\n",
      "Actual prediction Loss tensor(-0.9287)\n",
      "Predicted through Recurrent input tensor([0, 1, 2, 0, 4, 5, 6, 7, 8, 9])\n",
      "Prediction using External drive tensor([0, 1, 2, 3, 4, 5, 6, 7, 8, 9])\n",
      "Actual prediction Loss tensor(-0.8194)\n",
      "Predicted through Recurrent input tensor([0, 1, 2, 3, 4, 5, 6, 7, 8, 9])\n",
      "Prediction using External drive tensor([0, 1, 2, 3, 4, 5, 6, 7, 8, 9])\n",
      "Actual prediction Loss tensor(-0.9432)\n",
      "Predicted through Recurrent input tensor([0, 1, 2, 3, 4, 5, 6, 7, 8, 9])\n",
      "Prediction using External drive tensor([0, 1, 2, 3, 4, 5, 6, 7, 8, 9])\n",
      "Actual prediction Loss tensor(-0.8875)\n"
     ]
    },
    {
     "name": "stderr",
     "output_type": "stream",
     "text": [
      " 47%|███████████████████████████████████▊                                        | 9431/20000 [00:27<00:31, 332.49it/s]"
     ]
    },
    {
     "name": "stdout",
     "output_type": "stream",
     "text": [
      "Predicted through Recurrent input tensor([0, 1, 2, 3, 4, 5, 6, 7, 8, 9])\n",
      "Prediction using External drive tensor([0, 1, 2, 3, 4, 5, 6, 7, 8, 9])\n",
      "Actual prediction Loss tensor(-0.9027)\n",
      "Predicted through Recurrent input tensor([0, 1, 2, 3, 4, 5, 6, 7, 8, 9])\n",
      "Prediction using External drive tensor([0, 1, 2, 3, 4, 5, 6, 7, 8, 9])\n",
      "Actual prediction Loss tensor(-0.9539)\n",
      "Predicted through Recurrent input tensor([0, 1, 2, 3, 4, 5, 6, 7, 8, 9])\n",
      "Prediction using External drive tensor([0, 1, 2, 3, 4, 5, 6, 7, 8, 9])\n",
      "Actual prediction Loss tensor(-0.9497)\n"
     ]
    },
    {
     "name": "stderr",
     "output_type": "stream",
     "text": [
      " 47%|███████████████████████████████████▉                                        | 9466/20000 [00:27<00:31, 336.58it/s]"
     ]
    },
    {
     "name": "stdout",
     "output_type": "stream",
     "text": [
      "Predicted through Recurrent input tensor([0, 1, 2, 3, 4, 5, 6, 7, 8, 9])\n",
      "Prediction using External drive tensor([0, 1, 2, 3, 4, 5, 6, 7, 8, 9])\n",
      "Actual prediction Loss tensor(-0.8446)\n",
      "Predicted through Recurrent input tensor([0, 1, 2, 3, 4, 5, 6, 7, 8, 9])\n",
      "Prediction using External drive tensor([0, 1, 2, 3, 4, 5, 6, 7, 8, 9])\n",
      "Actual prediction Loss tensor(-0.9069)\n",
      "Predicted through Recurrent input tensor([0, 1, 2, 3, 4, 5, 6, 7, 8, 9])\n",
      "Prediction using External drive tensor([0, 1, 2, 3, 4, 5, 6, 7, 8, 9])\n",
      "Actual prediction Loss tensor(-0.9299)\n",
      "Predicted through Recurrent input tensor([0, 1, 2, 0, 4, 5, 6, 7, 8, 9])\n",
      "Prediction using External drive tensor([0, 1, 2, 3, 4, 5, 6, 7, 8, 9])\n",
      "Actual prediction Loss tensor(-0.8219)\n"
     ]
    },
    {
     "name": "stderr",
     "output_type": "stream",
     "text": [
      " 48%|████████████████████████████████████                                        | 9500/20000 [00:27<00:32, 326.89it/s]"
     ]
    },
    {
     "name": "stdout",
     "output_type": "stream",
     "text": [
      "Predicted through Recurrent input tensor([0, 1, 2, 3, 4, 5, 6, 7, 8, 9])\n",
      "Prediction using External drive tensor([0, 1, 2, 3, 4, 5, 6, 7, 8, 9])\n",
      "Actual prediction Loss tensor(-0.9440)\n",
      "Predicted through Recurrent input tensor([0, 1, 2, 3, 4, 5, 6, 7, 8, 9])\n",
      "Prediction using External drive tensor([0, 1, 2, 3, 4, 5, 6, 7, 8, 9])\n",
      "Actual prediction Loss tensor(-0.8890)\n",
      "Predicted through Recurrent input tensor([0, 1, 2, 3, 4, 5, 6, 7, 8, 9])\n",
      "Prediction using External drive tensor([0, 1, 2, 3, 4, 5, 6, 7, 8, 9])\n",
      "Actual prediction Loss tensor(-0.9042)\n"
     ]
    },
    {
     "name": "stderr",
     "output_type": "stream",
     "text": [
      " 48%|████████████████████████████████████▏                                       | 9533/20000 [00:27<00:32, 323.95it/s]"
     ]
    },
    {
     "name": "stdout",
     "output_type": "stream",
     "text": [
      "Predicted through Recurrent input tensor([0, 1, 2, 3, 4, 5, 6, 7, 8, 9])\n",
      "Prediction using External drive tensor([0, 1, 2, 3, 4, 5, 6, 7, 8, 9])\n",
      "Actual prediction Loss tensor(-0.9546)\n",
      "Predicted through Recurrent input tensor([0, 1, 2, 3, 4, 5, 6, 7, 8, 9])\n",
      "Prediction using External drive tensor([0, 1, 2, 3, 4, 5, 6, 7, 8, 9])\n",
      "Actual prediction Loss tensor(-0.9505)\n",
      "Predicted through Recurrent input tensor([0, 1, 2, 3, 4, 5, 6, 7, 8, 9])\n",
      "Prediction using External drive tensor([0, 1, 2, 3, 4, 5, 6, 7, 8, 9])\n",
      "Actual prediction Loss tensor(-0.8472)\n"
     ]
    },
    {
     "name": "stderr",
     "output_type": "stream",
     "text": [
      " 48%|████████████████████████████████████▎                                       | 9567/20000 [00:27<00:31, 327.66it/s]"
     ]
    },
    {
     "name": "stdout",
     "output_type": "stream",
     "text": [
      "Predicted through Recurrent input tensor([0, 1, 2, 3, 4, 5, 6, 7, 8, 9])\n",
      "Prediction using External drive tensor([0, 1, 2, 3, 4, 5, 6, 7, 8, 9])\n",
      "Actual prediction Loss tensor(-0.9086)\n",
      "Predicted through Recurrent input tensor([0, 1, 2, 3, 4, 5, 6, 7, 8, 9])\n",
      "Prediction using External drive tensor([0, 1, 2, 3, 4, 5, 6, 7, 8, 9])\n",
      "Actual prediction Loss tensor(-0.9310)\n",
      "Predicted through Recurrent input tensor([0, 1, 2, 0, 4, 5, 6, 7, 8, 9])\n",
      "Prediction using External drive tensor([0, 1, 2, 3, 4, 5, 6, 7, 8, 9])\n",
      "Actual prediction Loss tensor(-0.8243)\n",
      "Predicted through Recurrent input tensor([0, 1, 2, 3, 4, 5, 6, 7, 8, 9])\n",
      "Prediction using External drive tensor([0, 1, 2, 3, 4, 5, 6, 7, 8, 9])\n",
      "Actual prediction Loss tensor(-0.9448)\n"
     ]
    },
    {
     "name": "stderr",
     "output_type": "stream",
     "text": [
      " 48%|████████████████████████████████████▍                                       | 9600/20000 [00:27<00:32, 321.64it/s]"
     ]
    },
    {
     "name": "stdout",
     "output_type": "stream",
     "text": [
      "Predicted through Recurrent input tensor([0, 1, 2, 3, 4, 5, 6, 7, 8, 9])\n",
      "Prediction using External drive tensor([0, 1, 2, 3, 4, 5, 6, 7, 8, 9])\n",
      "Actual prediction Loss tensor(-0.8905)\n",
      "Predicted through Recurrent input tensor([0, 1, 2, 3, 4, 5, 6, 7, 8, 9])\n",
      "Prediction using External drive tensor([0, 1, 2, 3, 4, 5, 6, 7, 8, 9])\n",
      "Actual prediction Loss tensor(-0.9057)\n",
      "Predicted through Recurrent input tensor([0, 1, 2, 3, 4, 5, 6, 7, 8, 9])\n",
      "Prediction using External drive tensor([0, 1, 2, 3, 4, 5, 6, 7, 8, 9])\n",
      "Actual prediction Loss tensor(-0.9553)\n"
     ]
    },
    {
     "name": "stderr",
     "output_type": "stream",
     "text": [
      " 48%|████████████████████████████████████▌                                       | 9633/20000 [00:27<00:32, 321.26it/s]"
     ]
    },
    {
     "name": "stdout",
     "output_type": "stream",
     "text": [
      "Predicted through Recurrent input tensor([0, 1, 2, 3, 4, 5, 6, 7, 8, 9])\n",
      "Prediction using External drive tensor([0, 1, 2, 3, 4, 5, 6, 7, 8, 9])\n",
      "Actual prediction Loss tensor(-0.9513)\n",
      "Predicted through Recurrent input tensor([0, 1, 2, 3, 4, 5, 6, 7, 8, 9])\n",
      "Prediction using External drive tensor([0, 1, 2, 3, 4, 5, 6, 7, 8, 9])\n",
      "Actual prediction Loss tensor(-0.8498)\n",
      "Predicted through Recurrent input tensor([0, 1, 2, 3, 4, 5, 6, 7, 8, 9])\n",
      "Prediction using External drive tensor([0, 1, 2, 3, 4, 5, 6, 7, 8, 9])\n",
      "Actual prediction Loss tensor(-0.9102)\n"
     ]
    },
    {
     "name": "stderr",
     "output_type": "stream",
     "text": [
      " 48%|████████████████████████████████████▋                                       | 9666/20000 [00:27<00:31, 323.83it/s]"
     ]
    },
    {
     "name": "stdout",
     "output_type": "stream",
     "text": [
      "Predicted through Recurrent input tensor([0, 1, 2, 3, 4, 5, 6, 7, 8, 9])\n",
      "Prediction using External drive tensor([0, 1, 2, 3, 4, 5, 6, 7, 8, 9])\n",
      "Actual prediction Loss tensor(-0.9321)\n",
      "Predicted through Recurrent input tensor([0, 1, 2, 0, 4, 5, 6, 7, 8, 9])\n",
      "Prediction using External drive tensor([0, 1, 2, 3, 4, 5, 6, 7, 8, 9])\n",
      "Actual prediction Loss tensor(-0.8267)\n",
      "Predicted through Recurrent input tensor([0, 1, 2, 3, 4, 5, 6, 7, 8, 9])\n",
      "Prediction using External drive tensor([0, 1, 2, 3, 4, 5, 6, 7, 8, 9])\n",
      "Actual prediction Loss tensor(-0.9456)\n",
      "Predicted through Recurrent input tensor([0, 1, 2, 3, 4, 5, 6, 7, 8, 9])\n",
      "Prediction using External drive tensor([0, 1, 2, 3, 4, 5, 6, 7, 8, 9])\n",
      "Actual prediction Loss tensor(-0.8920)\n"
     ]
    },
    {
     "name": "stderr",
     "output_type": "stream",
     "text": [
      " 48%|████████████████████████████████████▊                                       | 9700/20000 [00:27<00:32, 320.17it/s]"
     ]
    },
    {
     "name": "stdout",
     "output_type": "stream",
     "text": [
      "Predicted through Recurrent input tensor([0, 1, 2, 3, 4, 5, 6, 7, 8, 9])\n",
      "Prediction using External drive tensor([0, 1, 2, 3, 4, 5, 6, 7, 8, 9])\n",
      "Actual prediction Loss tensor(-0.9072)\n",
      "Predicted through Recurrent input tensor([0, 1, 2, 3, 4, 5, 6, 7, 8, 9])\n",
      "Prediction using External drive tensor([0, 1, 2, 3, 4, 5, 6, 7, 8, 9])\n",
      "Actual prediction Loss tensor(-0.9560)\n",
      "Predicted through Recurrent input tensor([0, 1, 2, 3, 4, 5, 6, 7, 8, 9])\n",
      "Prediction using External drive tensor([0, 1, 2, 3, 4, 5, 6, 7, 8, 9])\n",
      "Actual prediction Loss tensor(-0.9520)\n"
     ]
    },
    {
     "name": "stderr",
     "output_type": "stream",
     "text": [
      " 49%|████████████████████████████████████▉                                       | 9733/20000 [00:28<00:31, 322.11it/s]"
     ]
    },
    {
     "name": "stdout",
     "output_type": "stream",
     "text": [
      "Predicted through Recurrent input tensor([0, 1, 2, 3, 4, 5, 6, 7, 8, 9])\n",
      "Prediction using External drive tensor([0, 1, 2, 3, 4, 5, 6, 7, 8, 9])\n",
      "Actual prediction Loss tensor(-0.8523)\n",
      "Predicted through Recurrent input tensor([0, 1, 2, 3, 4, 5, 6, 7, 8, 9])\n",
      "Prediction using External drive tensor([0, 1, 2, 3, 4, 5, 6, 7, 8, 9])\n",
      "Actual prediction Loss tensor(-0.9118)\n",
      "Predicted through Recurrent input tensor([0, 1, 2, 3, 4, 5, 6, 7, 8, 9])\n",
      "Prediction using External drive tensor([0, 1, 2, 3, 4, 5, 6, 7, 8, 9])\n",
      "Actual prediction Loss tensor(-0.9332)\n"
     ]
    },
    {
     "name": "stderr",
     "output_type": "stream",
     "text": [
      " 49%|█████████████████████████████████████                                       | 9769/20000 [00:28<00:30, 331.69it/s]"
     ]
    },
    {
     "name": "stdout",
     "output_type": "stream",
     "text": [
      "Predicted through Recurrent input tensor([0, 1, 2, 0, 4, 5, 6, 7, 8, 9])\n",
      "Prediction using External drive tensor([0, 1, 2, 3, 4, 5, 6, 7, 8, 9])\n",
      "Actual prediction Loss tensor(-0.8291)\n",
      "Predicted through Recurrent input tensor([0, 1, 2, 3, 4, 5, 6, 7, 8, 9])\n",
      "Prediction using External drive tensor([0, 1, 2, 3, 4, 5, 6, 7, 8, 9])\n",
      "Actual prediction Loss tensor(-0.9464)\n",
      "Predicted through Recurrent input tensor([0, 1, 2, 3, 4, 5, 6, 7, 8, 9])\n",
      "Prediction using External drive tensor([0, 1, 2, 3, 4, 5, 6, 7, 8, 9])\n",
      "Actual prediction Loss tensor(-0.8935)\n",
      "Predicted through Recurrent input tensor([0, 1, 2, 3, 4, 5, 6, 7, 8, 9])\n",
      "Prediction using External drive tensor([0, 1, 2, 3, 4, 5, 6, 7, 8, 9])\n",
      "Actual prediction Loss tensor(-0.9086)\n"
     ]
    },
    {
     "name": "stderr",
     "output_type": "stream",
     "text": [
      " 49%|█████████████████████████████████████▎                                      | 9803/20000 [00:28<00:31, 323.64it/s]"
     ]
    },
    {
     "name": "stdout",
     "output_type": "stream",
     "text": [
      "Predicted through Recurrent input tensor([0, 1, 2, 3, 4, 5, 6, 7, 8, 9])\n",
      "Prediction using External drive tensor([0, 1, 2, 3, 4, 5, 6, 7, 8, 9])\n",
      "Actual prediction Loss tensor(-0.9567)\n",
      "Predicted through Recurrent input tensor([0, 1, 2, 3, 4, 5, 6, 7, 8, 9])\n",
      "Prediction using External drive tensor([0, 1, 2, 3, 4, 5, 6, 7, 8, 9])\n",
      "Actual prediction Loss tensor(-0.9527)\n",
      "Predicted through Recurrent input tensor([0, 1, 2, 3, 4, 5, 6, 7, 8, 9])\n",
      "Prediction using External drive tensor([0, 1, 2, 3, 4, 5, 6, 7, 8, 9])\n",
      "Actual prediction Loss tensor(-0.8547)\n"
     ]
    },
    {
     "name": "stderr",
     "output_type": "stream",
     "text": [
      " 49%|█████████████████████████████████████▍                                      | 9836/20000 [00:28<00:31, 324.56it/s]"
     ]
    },
    {
     "name": "stdout",
     "output_type": "stream",
     "text": [
      "Predicted through Recurrent input tensor([0, 1, 2, 3, 4, 5, 6, 7, 8, 9])\n",
      "Prediction using External drive tensor([0, 1, 2, 3, 4, 5, 6, 7, 8, 9])\n",
      "Actual prediction Loss tensor(-0.9134)\n",
      "Predicted through Recurrent input tensor([0, 1, 2, 3, 4, 5, 6, 7, 8, 9])\n",
      "Prediction using External drive tensor([0, 1, 2, 3, 4, 5, 6, 7, 8, 9])\n",
      "Actual prediction Loss tensor(-0.9342)\n",
      "Predicted through Recurrent input tensor([0, 1, 2, 0, 4, 5, 6, 7, 8, 9])\n",
      "Prediction using External drive tensor([0, 1, 2, 3, 4, 5, 6, 7, 8, 9])\n",
      "Actual prediction Loss tensor(-0.8314)\n",
      "Predicted through Recurrent input tensor([0, 1, 2, 3, 4, 5, 6, 7, 8, 9])\n",
      "Prediction using External drive tensor([0, 1, 2, 3, 4, 5, 6, 7, 8, 9])\n",
      "Actual prediction Loss tensor(-0.9471)\n"
     ]
    },
    {
     "name": "stderr",
     "output_type": "stream",
     "text": [
      " 49%|█████████████████████████████████████▌                                      | 9870/20000 [00:28<00:31, 322.49it/s]"
     ]
    },
    {
     "name": "stdout",
     "output_type": "stream",
     "text": [
      "Predicted through Recurrent input tensor([0, 1, 2, 3, 4, 5, 6, 7, 8, 9])\n",
      "Prediction using External drive tensor([0, 1, 2, 3, 4, 5, 6, 7, 8, 9])\n",
      "Actual prediction Loss tensor(-0.8949)\n",
      "Predicted through Recurrent input tensor([0, 1, 2, 3, 4, 5, 6, 7, 8, 9])\n",
      "Prediction using External drive tensor([0, 1, 2, 3, 4, 5, 6, 7, 8, 9])\n",
      "Actual prediction Loss tensor(-0.9100)\n",
      "Predicted through Recurrent input tensor([0, 1, 2, 3, 4, 5, 6, 7, 8, 9])\n",
      "Prediction using External drive tensor([0, 1, 2, 3, 4, 5, 6, 7, 8, 9])\n",
      "Actual prediction Loss tensor(-0.9574)\n"
     ]
    },
    {
     "name": "stderr",
     "output_type": "stream",
     "text": [
      " 50%|█████████████████████████████████████▋                                      | 9903/20000 [00:28<00:31, 324.71it/s]"
     ]
    },
    {
     "name": "stdout",
     "output_type": "stream",
     "text": [
      "Predicted through Recurrent input tensor([0, 1, 2, 3, 4, 5, 6, 7, 8, 9])\n",
      "Prediction using External drive tensor([0, 1, 2, 3, 4, 5, 6, 7, 8, 9])\n",
      "Actual prediction Loss tensor(-0.9534)\n",
      "Predicted through Recurrent input tensor([0, 1, 2, 3, 4, 5, 6, 7, 8, 9])\n",
      "Prediction using External drive tensor([0, 1, 2, 3, 4, 5, 6, 7, 8, 9])\n",
      "Actual prediction Loss tensor(-0.8571)\n",
      "Predicted through Recurrent input tensor([0, 1, 2, 3, 4, 5, 6, 7, 8, 9])\n",
      "Prediction using External drive tensor([0, 1, 2, 3, 4, 5, 6, 7, 8, 9])\n",
      "Actual prediction Loss tensor(-0.9149)\n",
      "Predicted through Recurrent input tensor([0, 1, 2, 3, 4, 5, 6, 7, 8, 9])\n",
      "Prediction using External drive tensor([0, 1, 2, 3, 4, 5, 6, 7, 8, 9])\n",
      "Actual prediction Loss tensor(-0.9352)\n"
     ]
    },
    {
     "name": "stderr",
     "output_type": "stream",
     "text": [
      " 50%|█████████████████████████████████████▊                                      | 9940/20000 [00:28<00:30, 328.12it/s]"
     ]
    },
    {
     "name": "stdout",
     "output_type": "stream",
     "text": [
      "Predicted through Recurrent input tensor([0, 1, 2, 0, 4, 5, 6, 7, 8, 9])\n",
      "Prediction using External drive tensor([0, 1, 2, 3, 4, 5, 6, 7, 8, 9])\n",
      "Actual prediction Loss tensor(-0.8336)\n",
      "Predicted through Recurrent input tensor([0, 1, 2, 3, 4, 5, 6, 7, 8, 9])\n",
      "Prediction using External drive tensor([0, 1, 2, 3, 4, 5, 6, 7, 8, 9])\n",
      "Actual prediction Loss tensor(-0.9479)\n",
      "Predicted through Recurrent input tensor([0, 1, 2, 3, 4, 5, 6, 7, 8, 9])\n",
      "Prediction using External drive tensor([0, 1, 2, 3, 4, 5, 6, 7, 8, 9])\n",
      "Actual prediction Loss tensor(-0.8963)\n"
     ]
    },
    {
     "name": "stderr",
     "output_type": "stream",
     "text": [
      " 50%|█████████████████████████████████████▉                                      | 9974/20000 [00:28<00:30, 328.71it/s]"
     ]
    },
    {
     "name": "stdout",
     "output_type": "stream",
     "text": [
      "Predicted through Recurrent input tensor([0, 1, 2, 3, 4, 5, 6, 7, 8, 9])\n",
      "Prediction using External drive tensor([0, 1, 2, 3, 4, 5, 6, 7, 8, 9])\n",
      "Actual prediction Loss tensor(-0.9114)\n",
      "Predicted through Recurrent input tensor([0, 1, 2, 3, 4, 5, 6, 7, 8, 9])\n",
      "Prediction using External drive tensor([0, 1, 2, 3, 4, 5, 6, 7, 8, 9])\n",
      "Actual prediction Loss tensor(-0.9580)\n",
      "Predicted through Recurrent input tensor([0, 1, 2, 3, 4, 5, 6, 7, 8, 9])\n",
      "Prediction using External drive tensor([0, 1, 2, 3, 4, 5, 6, 7, 8, 9])\n",
      "Actual prediction Loss tensor(-0.9541)\n",
      "Predicted through Recurrent input tensor([0, 1, 2, 3, 4, 5, 6, 7, 8, 9])\n",
      "Prediction using External drive tensor([0, 1, 2, 3, 4, 5, 6, 7, 8, 9])\n",
      "Actual prediction Loss tensor(-0.8594)\n"
     ]
    },
    {
     "name": "stderr",
     "output_type": "stream",
     "text": [
      " 50%|█████████████████████████████████████▌                                     | 10010/20000 [00:28<00:30, 327.38it/s]"
     ]
    },
    {
     "name": "stdout",
     "output_type": "stream",
     "text": [
      "Predicted through Recurrent input tensor([0, 1, 2, 3, 4, 5, 6, 7, 8, 9])\n",
      "Prediction using External drive tensor([0, 1, 2, 3, 4, 5, 6, 7, 8, 9])\n",
      "Actual prediction Loss tensor(-0.9164)\n",
      "Predicted through Recurrent input tensor([0, 1, 2, 3, 4, 5, 6, 7, 8, 9])\n",
      "Prediction using External drive tensor([0, 1, 2, 3, 4, 5, 6, 7, 8, 9])\n",
      "Actual prediction Loss tensor(-0.9362)\n",
      "Predicted through Recurrent input tensor([0, 1, 2, 0, 4, 5, 6, 7, 8, 9])\n",
      "Prediction using External drive tensor([0, 1, 2, 3, 4, 5, 6, 7, 8, 9])\n",
      "Actual prediction Loss tensor(-0.8358)\n"
     ]
    },
    {
     "name": "stderr",
     "output_type": "stream",
     "text": [
      " 50%|█████████████████████████████████████▋                                     | 10043/20000 [00:29<00:30, 326.21it/s]"
     ]
    },
    {
     "name": "stdout",
     "output_type": "stream",
     "text": [
      "Predicted through Recurrent input tensor([0, 1, 2, 3, 4, 5, 6, 7, 8, 9])\n",
      "Prediction using External drive tensor([0, 1, 2, 3, 4, 5, 6, 7, 8, 9])\n",
      "Actual prediction Loss tensor(-0.9486)\n",
      "Predicted through Recurrent input tensor([0, 1, 2, 3, 4, 5, 6, 7, 8, 9])\n",
      "Prediction using External drive tensor([0, 1, 2, 3, 4, 5, 6, 7, 8, 9])\n",
      "Actual prediction Loss tensor(-0.8977)\n",
      "Predicted through Recurrent input tensor([0, 1, 2, 3, 4, 5, 6, 7, 8, 9])\n",
      "Prediction using External drive tensor([0, 1, 2, 3, 4, 5, 6, 7, 8, 9])\n",
      "Actual prediction Loss tensor(-0.9127)\n"
     ]
    },
    {
     "name": "stderr",
     "output_type": "stream",
     "text": [
      " 50%|█████████████████████████████████████▊                                     | 10077/20000 [00:29<00:30, 328.32it/s]"
     ]
    },
    {
     "name": "stdout",
     "output_type": "stream",
     "text": [
      "Predicted through Recurrent input tensor([0, 1, 2, 3, 4, 5, 6, 7, 8, 9])\n",
      "Prediction using External drive tensor([0, 1, 2, 3, 4, 5, 6, 7, 8, 9])\n",
      "Actual prediction Loss tensor(-0.9586)\n",
      "Predicted through Recurrent input tensor([0, 1, 2, 3, 4, 5, 6, 7, 8, 9])\n",
      "Prediction using External drive tensor([0, 1, 2, 3, 4, 5, 6, 7, 8, 9])\n",
      "Actual prediction Loss tensor(-0.9548)\n",
      "Predicted through Recurrent input tensor([0, 1, 2, 3, 4, 5, 6, 7, 8, 9])\n",
      "Prediction using External drive tensor([0, 1, 2, 3, 4, 5, 6, 7, 8, 9])\n",
      "Actual prediction Loss tensor(-0.8617)\n",
      "Predicted through Recurrent input tensor([0, 1, 2, 3, 4, 5, 6, 7, 8, 9])\n",
      "Prediction using External drive tensor([0, 1, 2, 3, 4, 5, 6, 7, 8, 9])\n",
      "Actual prediction Loss tensor(-0.9178)\n"
     ]
    },
    {
     "name": "stderr",
     "output_type": "stream",
     "text": [
      " 51%|█████████████████████████████████████▉                                     | 10110/20000 [00:29<00:30, 319.28it/s]"
     ]
    },
    {
     "name": "stdout",
     "output_type": "stream",
     "text": [
      "Predicted through Recurrent input tensor([0, 1, 2, 3, 4, 5, 6, 7, 8, 9])\n",
      "Prediction using External drive tensor([0, 1, 2, 3, 4, 5, 6, 7, 8, 9])\n",
      "Actual prediction Loss tensor(-0.9372)\n",
      "Predicted through Recurrent input tensor([0, 1, 2, 0, 4, 5, 6, 7, 8, 9])\n",
      "Prediction using External drive tensor([0, 1, 2, 3, 4, 5, 6, 7, 8, 9])\n",
      "Actual prediction Loss tensor(-0.8380)\n",
      "Predicted through Recurrent input tensor([0, 1, 2, 3, 4, 5, 6, 7, 8, 9])\n",
      "Prediction using External drive tensor([0, 1, 2, 3, 4, 5, 6, 7, 8, 9])\n",
      "Actual prediction Loss tensor(-0.9493)\n"
     ]
    },
    {
     "name": "stderr",
     "output_type": "stream",
     "text": [
      " 51%|██████████████████████████████████████                                     | 10143/20000 [00:29<00:30, 322.42it/s]"
     ]
    },
    {
     "name": "stdout",
     "output_type": "stream",
     "text": [
      "Predicted through Recurrent input tensor([0, 1, 2, 3, 4, 5, 6, 7, 8, 9])\n",
      "Prediction using External drive tensor([0, 1, 2, 3, 4, 5, 6, 7, 8, 9])\n",
      "Actual prediction Loss tensor(-0.8990)\n",
      "Predicted through Recurrent input tensor([0, 1, 2, 3, 4, 5, 6, 7, 8, 9])\n",
      "Prediction using External drive tensor([0, 1, 2, 3, 4, 5, 6, 7, 8, 9])\n",
      "Actual prediction Loss tensor(-0.9140)\n",
      "Predicted through Recurrent input tensor([0, 1, 2, 3, 4, 5, 6, 7, 8, 9])\n",
      "Prediction using External drive tensor([0, 1, 2, 3, 4, 5, 6, 7, 8, 9])\n",
      "Actual prediction Loss tensor(-0.9593)\n"
     ]
    },
    {
     "name": "stderr",
     "output_type": "stream",
     "text": [
      " 51%|██████████████████████████████████████▏                                    | 10177/20000 [00:29<00:30, 326.56it/s]"
     ]
    },
    {
     "name": "stdout",
     "output_type": "stream",
     "text": [
      "Predicted through Recurrent input tensor([0, 1, 2, 3, 4, 5, 6, 7, 8, 9])\n",
      "Prediction using External drive tensor([0, 1, 2, 3, 4, 5, 6, 7, 8, 9])\n",
      "Actual prediction Loss tensor(-0.9555)\n",
      "Predicted through Recurrent input tensor([0, 1, 2, 3, 4, 5, 6, 7, 8, 9])\n",
      "Prediction using External drive tensor([0, 1, 2, 3, 4, 5, 6, 7, 8, 9])\n",
      "Actual prediction Loss tensor(-0.8639)\n",
      "Predicted through Recurrent input tensor([0, 1, 2, 3, 4, 5, 6, 7, 8, 9])\n",
      "Prediction using External drive tensor([0, 1, 2, 3, 4, 5, 6, 7, 8, 9])\n",
      "Actual prediction Loss tensor(-0.9192)\n",
      "Predicted through Recurrent input tensor([0, 1, 2, 3, 4, 5, 6, 7, 8, 9])\n",
      "Prediction using External drive tensor([0, 1, 2, 3, 4, 5, 6, 7, 8, 9])\n",
      "Actual prediction Loss tensor(-0.9381)\n"
     ]
    },
    {
     "name": "stderr",
     "output_type": "stream",
     "text": [
      " 51%|██████████████████████████████████████▎                                    | 10210/20000 [00:29<00:30, 319.96it/s]"
     ]
    },
    {
     "name": "stdout",
     "output_type": "stream",
     "text": [
      "Predicted through Recurrent input tensor([0, 1, 2, 0, 4, 5, 6, 7, 8, 9])\n",
      "Prediction using External drive tensor([0, 1, 2, 3, 4, 5, 6, 7, 8, 9])\n",
      "Actual prediction Loss tensor(-0.8402)\n",
      "Predicted through Recurrent input tensor([0, 1, 2, 3, 4, 5, 6, 7, 8, 9])\n",
      "Prediction using External drive tensor([0, 1, 2, 3, 4, 5, 6, 7, 8, 9])\n",
      "Actual prediction Loss tensor(-0.9500)\n",
      "Predicted through Recurrent input tensor([0, 1, 2, 3, 4, 5, 6, 7, 8, 9])\n",
      "Prediction using External drive tensor([0, 1, 2, 3, 4, 5, 6, 7, 8, 9])\n",
      "Actual prediction Loss tensor(-0.9003)\n"
     ]
    },
    {
     "name": "stderr",
     "output_type": "stream",
     "text": [
      " 51%|██████████████████████████████████████▍                                    | 10243/20000 [00:29<00:30, 322.90it/s]"
     ]
    },
    {
     "name": "stdout",
     "output_type": "stream",
     "text": [
      "Predicted through Recurrent input tensor([0, 1, 2, 3, 4, 5, 6, 7, 8, 9])\n",
      "Prediction using External drive tensor([0, 1, 2, 3, 4, 5, 6, 7, 8, 9])\n",
      "Actual prediction Loss tensor(-0.9153)\n",
      "Predicted through Recurrent input tensor([0, 1, 2, 3, 4, 5, 6, 7, 8, 9])\n",
      "Prediction using External drive tensor([0, 1, 2, 3, 4, 5, 6, 7, 8, 9])\n",
      "Actual prediction Loss tensor(-0.9599)\n",
      "Predicted through Recurrent input tensor([0, 1, 2, 3, 4, 5, 6, 7, 8, 9])\n",
      "Prediction using External drive tensor([0, 1, 2, 3, 4, 5, 6, 7, 8, 9])\n",
      "Actual prediction Loss tensor(-0.9561)\n"
     ]
    },
    {
     "name": "stderr",
     "output_type": "stream",
     "text": [
      " 51%|██████████████████████████████████████▌                                    | 10277/20000 [00:29<00:29, 326.91it/s]"
     ]
    },
    {
     "name": "stdout",
     "output_type": "stream",
     "text": [
      "Predicted through Recurrent input tensor([0, 1, 2, 3, 4, 5, 6, 7, 8, 9])\n",
      "Prediction using External drive tensor([0, 1, 2, 3, 4, 5, 6, 7, 8, 9])\n",
      "Actual prediction Loss tensor(-0.8661)\n",
      "Predicted through Recurrent input tensor([0, 1, 2, 3, 4, 5, 6, 7, 8, 9])\n",
      "Prediction using External drive tensor([0, 1, 2, 3, 4, 5, 6, 7, 8, 9])\n",
      "Actual prediction Loss tensor(-0.9206)\n",
      "Predicted through Recurrent input tensor([0, 1, 2, 3, 4, 5, 6, 7, 8, 9])\n",
      "Prediction using External drive tensor([0, 1, 2, 3, 4, 5, 6, 7, 8, 9])\n",
      "Actual prediction Loss tensor(-0.9390)\n",
      "Predicted through Recurrent input tensor([0, 1, 2, 0, 4, 5, 6, 7, 8, 9])\n",
      "Prediction using External drive tensor([0, 1, 2, 3, 4, 5, 6, 7, 8, 9])\n",
      "Actual prediction Loss tensor(-0.8423)\n"
     ]
    },
    {
     "name": "stderr",
     "output_type": "stream",
     "text": [
      " 52%|██████████████████████████████████████▋                                    | 10310/20000 [00:29<00:30, 319.26it/s]"
     ]
    },
    {
     "name": "stdout",
     "output_type": "stream",
     "text": [
      "Predicted through Recurrent input tensor([0, 1, 2, 3, 4, 5, 6, 7, 8, 9])\n",
      "Prediction using External drive tensor([0, 1, 2, 3, 4, 5, 6, 7, 8, 9])\n",
      "Actual prediction Loss tensor(-0.9507)\n",
      "Predicted through Recurrent input tensor([0, 1, 2, 3, 4, 5, 6, 7, 8, 9])\n",
      "Prediction using External drive tensor([0, 1, 2, 3, 4, 5, 6, 7, 8, 9])\n",
      "Actual prediction Loss tensor(-0.9016)\n",
      "Predicted through Recurrent input tensor([0, 1, 2, 3, 4, 5, 6, 7, 8, 9])\n",
      "Prediction using External drive tensor([0, 1, 2, 3, 4, 5, 6, 7, 8, 9])\n",
      "Actual prediction Loss tensor(-0.9165)\n"
     ]
    },
    {
     "name": "stderr",
     "output_type": "stream",
     "text": [
      " 52%|██████████████████████████████████████▊                                    | 10344/20000 [00:29<00:29, 322.44it/s]"
     ]
    },
    {
     "name": "stdout",
     "output_type": "stream",
     "text": [
      "Predicted through Recurrent input tensor([0, 1, 2, 3, 4, 5, 6, 7, 8, 9])\n",
      "Prediction using External drive tensor([0, 1, 2, 3, 4, 5, 6, 7, 8, 9])\n",
      "Actual prediction Loss tensor(-0.9605)\n",
      "Predicted through Recurrent input tensor([0, 1, 2, 3, 4, 5, 6, 7, 8, 9])\n",
      "Prediction using External drive tensor([0, 1, 2, 3, 4, 5, 6, 7, 8, 9])\n",
      "Actual prediction Loss tensor(-0.9568)\n",
      "Predicted through Recurrent input tensor([0, 1, 2, 3, 4, 5, 6, 7, 8, 9])\n",
      "Prediction using External drive tensor([0, 1, 2, 3, 4, 5, 6, 7, 8, 9])\n",
      "Actual prediction Loss tensor(-0.8682)\n",
      "Predicted through Recurrent input tensor([0, 1, 2, 3, 4, 5, 6, 7, 8, 9])\n",
      "Prediction using External drive tensor([0, 1, 2, 3, 4, 5, 6, 7, 8, 9])\n",
      "Actual prediction Loss tensor(-0.9219)\n"
     ]
    },
    {
     "name": "stderr",
     "output_type": "stream",
     "text": [
      " 52%|██████████████████████████████████████▉                                    | 10380/20000 [00:30<00:29, 323.87it/s]"
     ]
    },
    {
     "name": "stdout",
     "output_type": "stream",
     "text": [
      "Predicted through Recurrent input tensor([0, 1, 2, 3, 4, 5, 6, 7, 8, 9])\n",
      "Prediction using External drive tensor([0, 1, 2, 3, 4, 5, 6, 7, 8, 9])\n",
      "Actual prediction Loss tensor(-0.9400)\n",
      "Predicted through Recurrent input tensor([0, 1, 2, 0, 4, 5, 6, 7, 8, 9])\n",
      "Prediction using External drive tensor([0, 1, 2, 3, 4, 5, 6, 7, 8, 9])\n",
      "Actual prediction Loss tensor(-0.8443)\n",
      "Predicted through Recurrent input tensor([0, 1, 2, 3, 4, 5, 6, 7, 8, 9])\n",
      "Prediction using External drive tensor([0, 1, 2, 3, 4, 5, 6, 7, 8, 9])\n",
      "Actual prediction Loss tensor(-0.9513)\n"
     ]
    },
    {
     "name": "stderr",
     "output_type": "stream",
     "text": [
      " 52%|███████████████████████████████████████                                    | 10414/20000 [00:30<00:29, 327.60it/s]"
     ]
    },
    {
     "name": "stdout",
     "output_type": "stream",
     "text": [
      "Predicted through Recurrent input tensor([0, 1, 2, 3, 4, 5, 6, 7, 8, 9])\n",
      "Prediction using External drive tensor([0, 1, 2, 3, 4, 5, 6, 7, 8, 9])\n",
      "Actual prediction Loss tensor(-0.9029)\n",
      "Predicted through Recurrent input tensor([0, 1, 2, 3, 4, 5, 6, 7, 8, 9])\n",
      "Prediction using External drive tensor([0, 1, 2, 3, 4, 5, 6, 7, 8, 9])\n",
      "Actual prediction Loss tensor(-0.9177)\n",
      "Predicted through Recurrent input tensor([0, 1, 2, 3, 4, 5, 6, 7, 8, 9])\n",
      "Prediction using External drive tensor([0, 1, 2, 3, 4, 5, 6, 7, 8, 9])\n",
      "Actual prediction Loss tensor(-0.9610)\n",
      "Predicted through Recurrent input tensor([0, 1, 2, 3, 4, 5, 6, 7, 8, 9])\n",
      "Prediction using External drive tensor([0, 1, 2, 3, 4, 5, 6, 7, 8, 9])\n",
      "Actual prediction Loss tensor(-0.9574)\n"
     ]
    },
    {
     "name": "stderr",
     "output_type": "stream",
     "text": [
      " 52%|███████████████████████████████████████▏                                   | 10450/20000 [00:30<00:29, 328.40it/s]"
     ]
    },
    {
     "name": "stdout",
     "output_type": "stream",
     "text": [
      "Predicted through Recurrent input tensor([0, 1, 2, 3, 4, 5, 6, 7, 8, 9])\n",
      "Prediction using External drive tensor([0, 1, 2, 3, 4, 5, 6, 7, 8, 9])\n",
      "Actual prediction Loss tensor(-0.8703)\n",
      "Predicted through Recurrent input tensor([0, 1, 2, 3, 4, 5, 6, 7, 8, 9])\n",
      "Prediction using External drive tensor([0, 1, 2, 3, 4, 5, 6, 7, 8, 9])\n",
      "Actual prediction Loss tensor(-0.9232)\n",
      "Predicted through Recurrent input tensor([0, 1, 2, 3, 4, 5, 6, 7, 8, 9])\n",
      "Prediction using External drive tensor([0, 1, 2, 3, 4, 5, 6, 7, 8, 9])\n",
      "Actual prediction Loss tensor(-0.9408)\n"
     ]
    },
    {
     "name": "stderr",
     "output_type": "stream",
     "text": [
      " 52%|███████████████████████████████████████▎                                   | 10483/20000 [00:30<00:29, 327.90it/s]"
     ]
    },
    {
     "name": "stdout",
     "output_type": "stream",
     "text": [
      "Predicted through Recurrent input tensor([0, 1, 2, 0, 4, 5, 6, 7, 8, 9])\n",
      "Prediction using External drive tensor([0, 1, 2, 3, 4, 5, 6, 7, 8, 9])\n",
      "Actual prediction Loss tensor(-0.8464)\n",
      "Predicted through Recurrent input tensor([0, 1, 2, 3, 4, 5, 6, 7, 8, 9])\n",
      "Prediction using External drive tensor([0, 1, 2, 3, 4, 5, 6, 7, 8, 9])\n",
      "Actual prediction Loss tensor(-0.9520)\n",
      "Predicted through Recurrent input tensor([0, 1, 2, 3, 4, 5, 6, 7, 8, 9])\n",
      "Prediction using External drive tensor([0, 1, 2, 3, 4, 5, 6, 7, 8, 9])\n",
      "Actual prediction Loss tensor(-0.9041)\n"
     ]
    },
    {
     "name": "stderr",
     "output_type": "stream",
     "text": [
      " 53%|███████████████████████████████████████▍                                   | 10519/20000 [00:30<00:28, 335.03it/s]"
     ]
    },
    {
     "name": "stdout",
     "output_type": "stream",
     "text": [
      "Predicted through Recurrent input tensor([0, 1, 2, 3, 4, 5, 6, 7, 8, 9])\n",
      "Prediction using External drive tensor([0, 1, 2, 3, 4, 5, 6, 7, 8, 9])\n",
      "Actual prediction Loss tensor(-0.9189)\n",
      "Predicted through Recurrent input tensor([0, 1, 2, 3, 4, 5, 6, 7, 8, 9])\n",
      "Prediction using External drive tensor([0, 1, 2, 3, 4, 5, 6, 7, 8, 9])\n",
      "Actual prediction Loss tensor(-0.9616)\n",
      "Predicted through Recurrent input tensor([0, 1, 2, 3, 4, 5, 6, 7, 8, 9])\n",
      "Prediction using External drive tensor([0, 1, 2, 3, 4, 5, 6, 7, 8, 9])\n",
      "Actual prediction Loss tensor(-0.9580)\n",
      "Predicted through Recurrent input tensor([0, 1, 2, 3, 4, 5, 6, 7, 8, 9])\n",
      "Prediction using External drive tensor([0, 1, 2, 3, 4, 5, 6, 7, 8, 9])\n",
      "Actual prediction Loss tensor(-0.8723)\n"
     ]
    },
    {
     "name": "stderr",
     "output_type": "stream",
     "text": [
      " 53%|███████████████████████████████████████▌                                   | 10553/20000 [00:30<00:28, 331.58it/s]"
     ]
    },
    {
     "name": "stdout",
     "output_type": "stream",
     "text": [
      "Predicted through Recurrent input tensor([0, 1, 2, 3, 4, 5, 6, 7, 8, 9])\n",
      "Prediction using External drive tensor([0, 1, 2, 3, 4, 5, 6, 7, 8, 9])\n",
      "Actual prediction Loss tensor(-0.9244)\n",
      "Predicted through Recurrent input tensor([0, 1, 2, 3, 4, 5, 6, 7, 8, 9])\n",
      "Prediction using External drive tensor([0, 1, 2, 3, 4, 5, 6, 7, 8, 9])\n",
      "Actual prediction Loss tensor(-0.9417)\n",
      "Predicted through Recurrent input tensor([0, 1, 2, 0, 4, 5, 6, 7, 8, 9])\n",
      "Prediction using External drive tensor([0, 1, 2, 3, 4, 5, 6, 7, 8, 9])\n",
      "Actual prediction Loss tensor(-0.8484)\n"
     ]
    },
    {
     "name": "stderr",
     "output_type": "stream",
     "text": [
      " 53%|███████████████████████████████████████▋                                   | 10588/20000 [00:30<00:28, 335.93it/s]"
     ]
    },
    {
     "name": "stdout",
     "output_type": "stream",
     "text": [
      "Predicted through Recurrent input tensor([0, 1, 2, 3, 4, 5, 6, 7, 8, 9])\n",
      "Prediction using External drive tensor([0, 1, 2, 3, 4, 5, 6, 7, 8, 9])\n",
      "Actual prediction Loss tensor(-0.9526)\n",
      "Predicted through Recurrent input tensor([0, 1, 2, 3, 4, 5, 6, 7, 8, 9])\n",
      "Prediction using External drive tensor([0, 1, 2, 3, 4, 5, 6, 7, 8, 9])\n",
      "Actual prediction Loss tensor(-0.9053)\n",
      "Predicted through Recurrent input tensor([0, 1, 2, 3, 4, 5, 6, 7, 8, 9])\n",
      "Prediction using External drive tensor([0, 1, 2, 3, 4, 5, 6, 7, 8, 9])\n",
      "Actual prediction Loss tensor(-0.9201)\n",
      "Predicted through Recurrent input tensor([0, 1, 2, 3, 4, 5, 6, 7, 8, 9])\n",
      "Prediction using External drive tensor([0, 1, 2, 3, 4, 5, 6, 7, 8, 9])\n",
      "Actual prediction Loss tensor(-0.9622)\n"
     ]
    },
    {
     "name": "stderr",
     "output_type": "stream",
     "text": [
      " 53%|███████████████████████████████████████▊                                   | 10622/20000 [00:30<00:28, 325.52it/s]"
     ]
    },
    {
     "name": "stdout",
     "output_type": "stream",
     "text": [
      "Predicted through Recurrent input tensor([0, 1, 2, 3, 4, 5, 6, 7, 8, 9])\n",
      "Prediction using External drive tensor([0, 1, 2, 3, 4, 5, 6, 7, 8, 9])\n",
      "Actual prediction Loss tensor(-0.9586)\n",
      "Predicted through Recurrent input tensor([0, 1, 2, 3, 4, 5, 6, 7, 8, 9])\n",
      "Prediction using External drive tensor([0, 1, 2, 3, 4, 5, 6, 7, 8, 9])\n",
      "Actual prediction Loss tensor(-0.8743)\n",
      "Predicted through Recurrent input tensor([0, 1, 2, 3, 4, 5, 6, 7, 8, 9])\n",
      "Prediction using External drive tensor([0, 1, 2, 3, 4, 5, 6, 7, 8, 9])\n",
      "Actual prediction Loss tensor(-0.9257)\n"
     ]
    },
    {
     "name": "stderr",
     "output_type": "stream",
     "text": [
      " 53%|███████████████████████████████████████▉                                   | 10656/20000 [00:30<00:28, 328.78it/s]"
     ]
    },
    {
     "name": "stdout",
     "output_type": "stream",
     "text": [
      "Predicted through Recurrent input tensor([0, 1, 2, 3, 4, 5, 6, 7, 8, 9])\n",
      "Prediction using External drive tensor([0, 1, 2, 3, 4, 5, 6, 7, 8, 9])\n",
      "Actual prediction Loss tensor(-0.9426)\n",
      "Predicted through Recurrent input tensor([0, 1, 2, 0, 4, 5, 6, 7, 8, 9])\n",
      "Prediction using External drive tensor([0, 1, 2, 3, 4, 5, 6, 7, 8, 9])\n",
      "Actual prediction Loss tensor(-0.8503)\n",
      "Predicted through Recurrent input tensor([0, 1, 2, 3, 4, 5, 6, 7, 8, 9])\n",
      "Prediction using External drive tensor([0, 1, 2, 3, 4, 5, 6, 7, 8, 9])\n",
      "Actual prediction Loss tensor(-0.9532)\n",
      "Predicted through Recurrent input tensor([0, 1, 2, 3, 4, 5, 6, 7, 8, 9])\n",
      "Prediction using External drive tensor([0, 1, 2, 3, 4, 5, 6, 7, 8, 9])\n",
      "Actual prediction Loss tensor(-0.9065)\n"
     ]
    },
    {
     "name": "stderr",
     "output_type": "stream",
     "text": [
      " 53%|████████████████████████████████████████                                   | 10690/20000 [00:31<00:28, 324.46it/s]"
     ]
    },
    {
     "name": "stdout",
     "output_type": "stream",
     "text": [
      "Predicted through Recurrent input tensor([0, 1, 2, 3, 4, 5, 6, 7, 8, 9])\n",
      "Prediction using External drive tensor([0, 1, 2, 3, 4, 5, 6, 7, 8, 9])\n",
      "Actual prediction Loss tensor(-0.9212)\n",
      "Predicted through Recurrent input tensor([0, 1, 2, 3, 4, 5, 6, 7, 8, 9])\n",
      "Prediction using External drive tensor([0, 1, 2, 3, 4, 5, 6, 7, 8, 9])\n",
      "Actual prediction Loss tensor(-0.9627)\n",
      "Predicted through Recurrent input tensor([0, 1, 2, 3, 4, 5, 6, 7, 8, 9])\n",
      "Prediction using External drive tensor([0, 1, 2, 3, 4, 5, 6, 7, 8, 9])\n",
      "Actual prediction Loss tensor(-0.9592)\n"
     ]
    },
    {
     "name": "stderr",
     "output_type": "stream",
     "text": [
      " 54%|████████████████████████████████████████▏                                  | 10723/20000 [00:31<00:28, 322.28it/s]"
     ]
    },
    {
     "name": "stdout",
     "output_type": "stream",
     "text": [
      "Predicted through Recurrent input tensor([0, 1, 2, 3, 4, 5, 6, 7, 8, 9])\n",
      "Prediction using External drive tensor([0, 1, 2, 3, 4, 5, 6, 7, 8, 9])\n",
      "Actual prediction Loss tensor(-0.8762)\n",
      "Predicted through Recurrent input tensor([0, 1, 2, 3, 4, 5, 6, 7, 8, 9])\n",
      "Prediction using External drive tensor([0, 1, 2, 3, 4, 5, 6, 7, 8, 9])\n",
      "Actual prediction Loss tensor(-0.9269)\n",
      "Predicted through Recurrent input tensor([0, 1, 2, 3, 4, 5, 6, 7, 8, 9])\n",
      "Prediction using External drive tensor([0, 1, 2, 3, 4, 5, 6, 7, 8, 9])\n",
      "Actual prediction Loss tensor(-0.9434)\n"
     ]
    },
    {
     "name": "stderr",
     "output_type": "stream",
     "text": [
      " 54%|████████████████████████████████████████▎                                  | 10756/20000 [00:31<00:28, 323.60it/s]"
     ]
    },
    {
     "name": "stdout",
     "output_type": "stream",
     "text": [
      "Predicted through Recurrent input tensor([0, 1, 2, 0, 4, 5, 6, 7, 8, 9])\n",
      "Prediction using External drive tensor([0, 1, 2, 3, 4, 5, 6, 7, 8, 9])\n",
      "Actual prediction Loss tensor(-0.8522)\n",
      "Predicted through Recurrent input tensor([0, 1, 2, 3, 4, 5, 6, 7, 8, 9])\n",
      "Prediction using External drive tensor([0, 1, 2, 3, 4, 5, 6, 7, 8, 9])\n",
      "Actual prediction Loss tensor(-0.9538)\n",
      "Predicted through Recurrent input tensor([0, 1, 2, 3, 4, 5, 6, 7, 8, 9])\n",
      "Prediction using External drive tensor([0, 1, 2, 3, 4, 5, 6, 7, 8, 9])\n",
      "Actual prediction Loss tensor(-0.9077)\n",
      "Predicted through Recurrent input tensor([0, 1, 2, 3, 4, 5, 6, 7, 8, 9])\n",
      "Prediction using External drive tensor([0, 1, 2, 3, 4, 5, 6, 7, 8, 9])\n",
      "Actual prediction Loss tensor(-0.9223)\n"
     ]
    },
    {
     "name": "stderr",
     "output_type": "stream",
     "text": [
      " 54%|████████████████████████████████████████▍                                  | 10790/20000 [00:31<00:28, 320.01it/s]"
     ]
    },
    {
     "name": "stdout",
     "output_type": "stream",
     "text": [
      "Predicted through Recurrent input tensor([0, 1, 2, 3, 4, 5, 6, 7, 8, 9])\n",
      "Prediction using External drive tensor([0, 1, 2, 3, 4, 5, 6, 7, 8, 9])\n",
      "Actual prediction Loss tensor(-0.9632)\n",
      "Predicted through Recurrent input tensor([0, 1, 2, 3, 4, 5, 6, 7, 8, 9])\n",
      "Prediction using External drive tensor([0, 1, 2, 3, 4, 5, 6, 7, 8, 9])\n",
      "Actual prediction Loss tensor(-0.9597)\n",
      "Predicted through Recurrent input tensor([0, 1, 2, 3, 4, 5, 6, 7, 8, 9])\n",
      "Prediction using External drive tensor([0, 1, 2, 3, 4, 5, 6, 7, 8, 9])\n",
      "Actual prediction Loss tensor(-0.8781)\n"
     ]
    },
    {
     "name": "stderr",
     "output_type": "stream",
     "text": [
      " 54%|████████████████████████████████████████▌                                  | 10824/20000 [00:31<00:28, 324.82it/s]"
     ]
    },
    {
     "name": "stdout",
     "output_type": "stream",
     "text": [
      "Predicted through Recurrent input tensor([0, 1, 2, 3, 4, 5, 6, 7, 8, 9])\n",
      "Prediction using External drive tensor([0, 1, 2, 3, 4, 5, 6, 7, 8, 9])\n",
      "Actual prediction Loss tensor(-0.9280)\n",
      "Predicted through Recurrent input tensor([0, 1, 2, 3, 4, 5, 6, 7, 8, 9])\n",
      "Prediction using External drive tensor([0, 1, 2, 3, 4, 5, 6, 7, 8, 9])\n",
      "Actual prediction Loss tensor(-0.9442)\n",
      "Predicted through Recurrent input tensor([0, 1, 2, 0, 4, 5, 6, 7, 8, 9])\n",
      "Prediction using External drive tensor([0, 1, 2, 3, 4, 5, 6, 7, 8, 9])\n",
      "Actual prediction Loss tensor(-0.8541)\n"
     ]
    },
    {
     "name": "stderr",
     "output_type": "stream",
     "text": [
      " 54%|████████████████████████████████████████▋                                  | 10858/20000 [00:31<00:27, 327.33it/s]"
     ]
    },
    {
     "name": "stdout",
     "output_type": "stream",
     "text": [
      "Predicted through Recurrent input tensor([0, 1, 2, 3, 4, 5, 6, 7, 8, 9])\n",
      "Prediction using External drive tensor([0, 1, 2, 3, 4, 5, 6, 7, 8, 9])\n",
      "Actual prediction Loss tensor(-0.9544)\n",
      "Predicted through Recurrent input tensor([0, 1, 2, 3, 4, 5, 6, 7, 8, 9])\n",
      "Prediction using External drive tensor([0, 1, 2, 3, 4, 5, 6, 7, 8, 9])\n",
      "Actual prediction Loss tensor(-0.9088)\n",
      "Predicted through Recurrent input tensor([0, 1, 2, 3, 4, 5, 6, 7, 8, 9])\n",
      "Prediction using External drive tensor([0, 1, 2, 3, 4, 5, 6, 7, 8, 9])\n",
      "Actual prediction Loss tensor(-0.9234)\n",
      "Predicted through Recurrent input tensor([0, 1, 2, 3, 4, 5, 6, 7, 8, 9])\n",
      "Prediction using External drive tensor([0, 1, 2, 3, 4, 5, 6, 7, 8, 9])\n",
      "Actual prediction Loss tensor(-0.9638)\n"
     ]
    },
    {
     "name": "stderr",
     "output_type": "stream",
     "text": [
      " 54%|████████████████████████████████████████▊                                  | 10891/20000 [00:31<00:28, 317.70it/s]"
     ]
    },
    {
     "name": "stdout",
     "output_type": "stream",
     "text": [
      "Predicted through Recurrent input tensor([0, 1, 2, 3, 4, 5, 6, 7, 8, 9])\n",
      "Prediction using External drive tensor([0, 1, 2, 3, 4, 5, 6, 7, 8, 9])\n",
      "Actual prediction Loss tensor(-0.9603)\n",
      "Predicted through Recurrent input tensor([0, 1, 2, 3, 4, 5, 6, 7, 8, 9])\n",
      "Prediction using External drive tensor([0, 1, 2, 3, 4, 5, 6, 7, 8, 9])\n",
      "Actual prediction Loss tensor(-0.8799)\n",
      "Predicted through Recurrent input tensor([0, 1, 2, 3, 4, 5, 6, 7, 8, 9])\n",
      "Prediction using External drive tensor([0, 1, 2, 3, 4, 5, 6, 7, 8, 9])\n",
      "Actual prediction Loss tensor(-0.9292)\n"
     ]
    },
    {
     "name": "stderr",
     "output_type": "stream",
     "text": [
      " 55%|████████████████████████████████████████▉                                  | 10924/20000 [00:31<00:28, 319.43it/s]"
     ]
    },
    {
     "name": "stdout",
     "output_type": "stream",
     "text": [
      "Predicted through Recurrent input tensor([0, 1, 2, 3, 4, 5, 6, 7, 8, 9])\n",
      "Prediction using External drive tensor([0, 1, 2, 3, 4, 5, 6, 7, 8, 9])\n",
      "Actual prediction Loss tensor(-0.9450)\n",
      "Predicted through Recurrent input tensor([0, 1, 2, 0, 4, 5, 6, 7, 8, 9])\n",
      "Prediction using External drive tensor([0, 1, 2, 3, 4, 5, 6, 7, 8, 9])\n",
      "Actual prediction Loss tensor(-0.8560)\n",
      "Predicted through Recurrent input tensor([0, 1, 2, 3, 4, 5, 6, 7, 8, 9])\n",
      "Prediction using External drive tensor([0, 1, 2, 3, 4, 5, 6, 7, 8, 9])\n",
      "Actual prediction Loss tensor(-0.9550)\n",
      "Predicted through Recurrent input tensor([0, 1, 2, 3, 4, 5, 6, 7, 8, 9])\n",
      "Prediction using External drive tensor([0, 1, 2, 3, 4, 5, 6, 7, 8, 9])\n",
      "Actual prediction Loss tensor(-0.9099)\n"
     ]
    },
    {
     "name": "stderr",
     "output_type": "stream",
     "text": [
      " 55%|█████████████████████████████████████████                                  | 10960/20000 [00:31<00:28, 321.74it/s]"
     ]
    },
    {
     "name": "stdout",
     "output_type": "stream",
     "text": [
      "Predicted through Recurrent input tensor([0, 1, 2, 3, 4, 5, 6, 7, 8, 9])\n",
      "Prediction using External drive tensor([0, 1, 2, 3, 4, 5, 6, 7, 8, 9])\n",
      "Actual prediction Loss tensor(-0.9245)\n",
      "Predicted through Recurrent input tensor([0, 1, 2, 3, 4, 5, 6, 7, 8, 9])\n",
      "Prediction using External drive tensor([0, 1, 2, 3, 4, 5, 6, 7, 8, 9])\n",
      "Actual prediction Loss tensor(-0.9643)\n",
      "Predicted through Recurrent input tensor([0, 1, 2, 3, 4, 5, 6, 7, 8, 9])\n",
      "Prediction using External drive tensor([0, 1, 2, 3, 4, 5, 6, 7, 8, 9])\n",
      "Actual prediction Loss tensor(-0.9608)\n"
     ]
    },
    {
     "name": "stderr",
     "output_type": "stream",
     "text": [
      " 55%|█████████████████████████████████████████▏                                 | 10995/20000 [00:31<00:27, 327.87it/s]"
     ]
    },
    {
     "name": "stdout",
     "output_type": "stream",
     "text": [
      "Predicted through Recurrent input tensor([0, 1, 2, 3, 4, 5, 6, 7, 8, 9])\n",
      "Prediction using External drive tensor([0, 1, 2, 3, 4, 5, 6, 7, 8, 9])\n",
      "Actual prediction Loss tensor(-0.8817)\n",
      "Predicted through Recurrent input tensor([0, 1, 2, 3, 4, 5, 6, 7, 8, 9])\n",
      "Prediction using External drive tensor([0, 1, 2, 3, 4, 5, 6, 7, 8, 9])\n",
      "Actual prediction Loss tensor(-0.9303)\n",
      "Predicted through Recurrent input tensor([0, 1, 2, 3, 4, 5, 6, 7, 8, 9])\n",
      "Prediction using External drive tensor([0, 1, 2, 3, 4, 5, 6, 7, 8, 9])\n",
      "Actual prediction Loss tensor(-0.9458)\n",
      "Predicted through Recurrent input tensor([0, 1, 2, 0, 4, 5, 6, 7, 8, 9])\n",
      "Prediction using External drive tensor([0, 1, 2, 3, 4, 5, 6, 7, 8, 9])\n",
      "Actual prediction Loss tensor(-0.8578)\n"
     ]
    },
    {
     "name": "stderr",
     "output_type": "stream",
     "text": [
      " 55%|█████████████████████████████████████████▎                                 | 11030/20000 [00:32<00:27, 324.90it/s]"
     ]
    },
    {
     "name": "stdout",
     "output_type": "stream",
     "text": [
      "Predicted through Recurrent input tensor([0, 1, 2, 3, 4, 5, 6, 7, 8, 9])\n",
      "Prediction using External drive tensor([0, 1, 2, 3, 4, 5, 6, 7, 8, 9])\n",
      "Actual prediction Loss tensor(-0.9556)\n",
      "Predicted through Recurrent input tensor([0, 1, 2, 3, 4, 5, 6, 7, 8, 9])\n",
      "Prediction using External drive tensor([0, 1, 2, 3, 4, 5, 6, 7, 8, 9])\n",
      "Actual prediction Loss tensor(-0.9110)\n",
      "Predicted through Recurrent input tensor([0, 1, 2, 3, 4, 5, 6, 7, 8, 9])\n",
      "Prediction using External drive tensor([0, 1, 2, 3, 4, 5, 6, 7, 8, 9])\n",
      "Actual prediction Loss tensor(-0.9255)\n"
     ]
    },
    {
     "name": "stderr",
     "output_type": "stream",
     "text": [
      " 55%|█████████████████████████████████████████▍                                 | 11064/20000 [00:32<00:27, 327.39it/s]"
     ]
    },
    {
     "name": "stdout",
     "output_type": "stream",
     "text": [
      "Predicted through Recurrent input tensor([0, 1, 2, 3, 4, 5, 6, 7, 8, 9])\n",
      "Prediction using External drive tensor([0, 1, 2, 3, 4, 5, 6, 7, 8, 9])\n",
      "Actual prediction Loss tensor(-0.9648)\n",
      "Predicted through Recurrent input tensor([0, 1, 2, 3, 4, 5, 6, 7, 8, 9])\n",
      "Prediction using External drive tensor([0, 1, 2, 3, 4, 5, 6, 7, 8, 9])\n",
      "Actual prediction Loss tensor(-0.9614)\n",
      "Predicted through Recurrent input tensor([0, 1, 2, 3, 4, 5, 6, 7, 8, 9])\n",
      "Prediction using External drive tensor([0, 1, 2, 3, 4, 5, 6, 7, 8, 9])\n",
      "Actual prediction Loss tensor(-0.8835)\n"
     ]
    },
    {
     "name": "stderr",
     "output_type": "stream",
     "text": [
      " 55%|█████████████████████████████████████████▌                                 | 11098/20000 [00:32<00:26, 330.11it/s]"
     ]
    },
    {
     "name": "stdout",
     "output_type": "stream",
     "text": [
      "Predicted through Recurrent input tensor([0, 1, 2, 3, 4, 5, 6, 7, 8, 9])\n",
      "Prediction using External drive tensor([0, 1, 2, 3, 4, 5, 6, 7, 8, 9])\n",
      "Actual prediction Loss tensor(-0.9314)\n",
      "Predicted through Recurrent input tensor([0, 1, 2, 3, 4, 5, 6, 7, 8, 9])\n",
      "Prediction using External drive tensor([0, 1, 2, 3, 4, 5, 6, 7, 8, 9])\n",
      "Actual prediction Loss tensor(-0.9466)\n",
      "Predicted through Recurrent input tensor([0, 1, 2, 0, 4, 5, 6, 7, 8, 9])\n",
      "Prediction using External drive tensor([0, 1, 2, 3, 4, 5, 6, 7, 8, 9])\n",
      "Actual prediction Loss tensor(-0.8596)\n",
      "Predicted through Recurrent input tensor([0, 1, 2, 3, 4, 5, 6, 7, 8, 9])\n",
      "Prediction using External drive tensor([0, 1, 2, 3, 4, 5, 6, 7, 8, 9])\n",
      "Actual prediction Loss tensor(-0.9561)\n"
     ]
    },
    {
     "name": "stderr",
     "output_type": "stream",
     "text": [
      " 56%|█████████████████████████████████████████▋                                 | 11132/20000 [00:32<00:27, 318.96it/s]"
     ]
    },
    {
     "name": "stdout",
     "output_type": "stream",
     "text": [
      "Predicted through Recurrent input tensor([0, 1, 2, 3, 4, 5, 6, 7, 8, 9])\n",
      "Prediction using External drive tensor([0, 1, 2, 3, 4, 5, 6, 7, 8, 9])\n",
      "Actual prediction Loss tensor(-0.9121)\n",
      "Predicted through Recurrent input tensor([0, 1, 2, 3, 4, 5, 6, 7, 8, 9])\n",
      "Prediction using External drive tensor([0, 1, 2, 3, 4, 5, 6, 7, 8, 9])\n",
      "Actual prediction Loss tensor(-0.9265)\n",
      "Predicted through Recurrent input tensor([0, 1, 2, 3, 4, 5, 6, 7, 8, 9])\n",
      "Prediction using External drive tensor([0, 1, 2, 3, 4, 5, 6, 7, 8, 9])\n",
      "Actual prediction Loss tensor(-0.9652)\n"
     ]
    },
    {
     "name": "stderr",
     "output_type": "stream",
     "text": [
      " 56%|█████████████████████████████████████████▉                                 | 11167/20000 [00:32<00:27, 326.76it/s]"
     ]
    },
    {
     "name": "stdout",
     "output_type": "stream",
     "text": [
      "Predicted through Recurrent input tensor([0, 1, 2, 3, 4, 5, 6, 7, 8, 9])\n",
      "Prediction using External drive tensor([0, 1, 2, 3, 4, 5, 6, 7, 8, 9])\n",
      "Actual prediction Loss tensor(-0.9619)\n",
      "Predicted through Recurrent input tensor([0, 1, 2, 3, 4, 5, 6, 7, 8, 9])\n",
      "Prediction using External drive tensor([0, 1, 2, 3, 4, 5, 6, 7, 8, 9])\n",
      "Actual prediction Loss tensor(-0.8852)\n",
      "Predicted through Recurrent input tensor([0, 1, 2, 3, 4, 5, 6, 7, 8, 9])\n",
      "Prediction using External drive tensor([0, 1, 2, 3, 4, 5, 6, 7, 8, 9])\n",
      "Actual prediction Loss tensor(-0.9324)\n",
      "Predicted through Recurrent input tensor([0, 1, 2, 3, 4, 5, 6, 7, 8, 9])\n",
      "Prediction using External drive tensor([0, 1, 2, 3, 4, 5, 6, 7, 8, 9])\n",
      "Actual prediction Loss tensor(-0.9473)\n"
     ]
    },
    {
     "name": "stderr",
     "output_type": "stream",
     "text": [
      " 56%|██████████████████████████████████████████                                 | 11200/20000 [00:32<00:27, 320.10it/s]"
     ]
    },
    {
     "name": "stdout",
     "output_type": "stream",
     "text": [
      "Predicted through Recurrent input tensor([0, 1, 2, 0, 4, 5, 6, 7, 8, 9])\n",
      "Prediction using External drive tensor([0, 1, 2, 3, 4, 5, 6, 7, 8, 9])\n",
      "Actual prediction Loss tensor(-0.8614)\n",
      "Predicted through Recurrent input tensor([0, 1, 2, 3, 4, 5, 6, 7, 8, 9])\n",
      "Prediction using External drive tensor([0, 1, 2, 3, 4, 5, 6, 7, 8, 9])\n",
      "Actual prediction Loss tensor(-0.9567)\n",
      "Predicted through Recurrent input tensor([0, 1, 2, 3, 4, 5, 6, 7, 8, 9])\n",
      "Prediction using External drive tensor([0, 1, 2, 3, 4, 5, 6, 7, 8, 9])\n",
      "Actual prediction Loss tensor(-0.9132)\n"
     ]
    },
    {
     "name": "stderr",
     "output_type": "stream",
     "text": [
      " 56%|██████████████████████████████████████████▏                                | 11234/20000 [00:32<00:26, 324.88it/s]"
     ]
    },
    {
     "name": "stdout",
     "output_type": "stream",
     "text": [
      "Predicted through Recurrent input tensor([0, 1, 2, 3, 4, 5, 6, 7, 8, 9])\n",
      "Prediction using External drive tensor([0, 1, 2, 3, 4, 5, 6, 7, 8, 9])\n",
      "Actual prediction Loss tensor(-0.9275)\n",
      "Predicted through Recurrent input tensor([0, 1, 2, 3, 4, 5, 6, 7, 8, 9])\n",
      "Prediction using External drive tensor([0, 1, 2, 3, 4, 5, 6, 7, 8, 9])\n",
      "Actual prediction Loss tensor(-0.9657)\n",
      "Predicted through Recurrent input tensor([0, 1, 2, 3, 4, 5, 6, 7, 8, 9])\n",
      "Prediction using External drive tensor([0, 1, 2, 3, 4, 5, 6, 7, 8, 9])\n",
      "Actual prediction Loss tensor(-0.9624)\n"
     ]
    },
    {
     "name": "stderr",
     "output_type": "stream",
     "text": [
      " 56%|██████████████████████████████████████████▎                                | 11269/20000 [00:32<00:26, 331.09it/s]"
     ]
    },
    {
     "name": "stdout",
     "output_type": "stream",
     "text": [
      "Predicted through Recurrent input tensor([0, 1, 2, 3, 4, 5, 6, 7, 8, 9])\n",
      "Prediction using External drive tensor([0, 1, 2, 3, 4, 5, 6, 7, 8, 9])\n",
      "Actual prediction Loss tensor(-0.8869)\n",
      "Predicted through Recurrent input tensor([0, 1, 2, 3, 4, 5, 6, 7, 8, 9])\n",
      "Prediction using External drive tensor([0, 1, 2, 3, 4, 5, 6, 7, 8, 9])\n",
      "Actual prediction Loss tensor(-0.9334)\n",
      "Predicted through Recurrent input tensor([0, 1, 2, 3, 4, 5, 6, 7, 8, 9])\n",
      "Prediction using External drive tensor([0, 1, 2, 3, 4, 5, 6, 7, 8, 9])\n",
      "Actual prediction Loss tensor(-0.9480)\n",
      "Predicted through Recurrent input tensor([0, 1, 2, 0, 4, 5, 6, 7, 8, 9])\n",
      "Prediction using External drive tensor([0, 1, 2, 3, 4, 5, 6, 7, 8, 9])\n",
      "Actual prediction Loss tensor(-0.8631)\n"
     ]
    },
    {
     "name": "stderr",
     "output_type": "stream",
     "text": [
      " 57%|██████████████████████████████████████████▍                                | 11303/20000 [00:32<00:27, 321.41it/s]"
     ]
    },
    {
     "name": "stdout",
     "output_type": "stream",
     "text": [
      "Predicted through Recurrent input tensor([0, 1, 2, 3, 4, 5, 6, 7, 8, 9])\n",
      "Prediction using External drive tensor([0, 1, 2, 3, 4, 5, 6, 7, 8, 9])\n",
      "Actual prediction Loss tensor(-0.9572)\n",
      "Predicted through Recurrent input tensor([0, 1, 2, 3, 4, 5, 6, 7, 8, 9])\n",
      "Prediction using External drive tensor([0, 1, 2, 3, 4, 5, 6, 7, 8, 9])\n",
      "Actual prediction Loss tensor(-0.9142)\n",
      "Predicted through Recurrent input tensor([0, 1, 2, 3, 4, 5, 6, 7, 8, 9])\n",
      "Prediction using External drive tensor([0, 1, 2, 3, 4, 5, 6, 7, 8, 9])\n",
      "Actual prediction Loss tensor(-0.9285)\n"
     ]
    },
    {
     "name": "stderr",
     "output_type": "stream",
     "text": [
      " 57%|██████████████████████████████████████████▌                                | 11338/20000 [00:33<00:26, 328.56it/s]"
     ]
    },
    {
     "name": "stdout",
     "output_type": "stream",
     "text": [
      "Predicted through Recurrent input tensor([0, 1, 2, 3, 4, 5, 6, 7, 8, 9])\n",
      "Prediction using External drive tensor([0, 1, 2, 3, 4, 5, 6, 7, 8, 9])\n",
      "Actual prediction Loss tensor(-0.9662)\n",
      "Predicted through Recurrent input tensor([0, 1, 2, 3, 4, 5, 6, 7, 8, 9])\n",
      "Prediction using External drive tensor([0, 1, 2, 3, 4, 5, 6, 7, 8, 9])\n",
      "Actual prediction Loss tensor(-0.9629)\n",
      "Predicted through Recurrent input tensor([0, 1, 2, 3, 4, 5, 6, 7, 8, 9])\n",
      "Prediction using External drive tensor([0, 1, 2, 3, 4, 5, 6, 7, 8, 9])\n",
      "Actual prediction Loss tensor(-0.8886)\n",
      "Predicted through Recurrent input tensor([0, 1, 2, 3, 4, 5, 6, 7, 8, 9])\n",
      "Prediction using External drive tensor([0, 1, 2, 3, 4, 5, 6, 7, 8, 9])\n",
      "Actual prediction Loss tensor(-0.9345)\n"
     ]
    },
    {
     "name": "stderr",
     "output_type": "stream",
     "text": [
      " 57%|██████████████████████████████████████████▋                                | 11371/20000 [00:33<00:26, 320.36it/s]"
     ]
    },
    {
     "name": "stdout",
     "output_type": "stream",
     "text": [
      "Predicted through Recurrent input tensor([0, 1, 2, 3, 4, 5, 6, 7, 8, 9])\n",
      "Prediction using External drive tensor([0, 1, 2, 3, 4, 5, 6, 7, 8, 9])\n",
      "Actual prediction Loss tensor(-0.9488)\n",
      "Predicted through Recurrent input tensor([0, 1, 2, 0, 4, 5, 6, 7, 8, 9])\n",
      "Prediction using External drive tensor([0, 1, 2, 3, 4, 5, 6, 7, 8, 9])\n",
      "Actual prediction Loss tensor(-0.8648)\n",
      "Predicted through Recurrent input tensor([0, 1, 2, 3, 4, 5, 6, 7, 8, 9])\n",
      "Prediction using External drive tensor([0, 1, 2, 3, 4, 5, 6, 7, 8, 9])\n",
      "Actual prediction Loss tensor(-0.9577)\n"
     ]
    },
    {
     "name": "stderr",
     "output_type": "stream",
     "text": [
      " 57%|██████████████████████████████████████████▊                                | 11404/20000 [00:33<00:26, 322.25it/s]"
     ]
    },
    {
     "name": "stdout",
     "output_type": "stream",
     "text": [
      "Predicted through Recurrent input tensor([0, 1, 2, 3, 4, 5, 6, 7, 8, 9])\n",
      "Prediction using External drive tensor([0, 1, 2, 3, 4, 5, 6, 7, 8, 9])\n",
      "Actual prediction Loss tensor(-0.9152)\n",
      "Predicted through Recurrent input tensor([0, 1, 2, 3, 4, 5, 6, 7, 8, 9])\n",
      "Prediction using External drive tensor([0, 1, 2, 3, 4, 5, 6, 7, 8, 9])\n",
      "Actual prediction Loss tensor(-0.9295)\n",
      "Predicted through Recurrent input tensor([0, 1, 2, 3, 4, 5, 6, 7, 8, 9])\n",
      "Prediction using External drive tensor([0, 1, 2, 3, 4, 5, 6, 7, 8, 9])\n",
      "Actual prediction Loss tensor(-0.9667)\n",
      "Predicted through Recurrent input tensor([0, 1, 2, 3, 4, 5, 6, 7, 8, 9])\n",
      "Prediction using External drive tensor([0, 1, 2, 3, 4, 5, 6, 7, 8, 9])\n",
      "Actual prediction Loss tensor(-0.9634)\n"
     ]
    },
    {
     "name": "stderr",
     "output_type": "stream",
     "text": [
      " 57%|██████████████████████████████████████████▉                                | 11440/20000 [00:33<00:26, 323.74it/s]"
     ]
    },
    {
     "name": "stdout",
     "output_type": "stream",
     "text": [
      "Predicted through Recurrent input tensor([0, 1, 2, 3, 4, 5, 6, 7, 8, 9])\n",
      "Prediction using External drive tensor([0, 1, 2, 3, 4, 5, 6, 7, 8, 9])\n",
      "Actual prediction Loss tensor(-0.8902)\n",
      "Predicted through Recurrent input tensor([0, 1, 2, 3, 4, 5, 6, 7, 8, 9])\n",
      "Prediction using External drive tensor([0, 1, 2, 3, 4, 5, 6, 7, 8, 9])\n",
      "Actual prediction Loss tensor(-0.9354)\n",
      "Predicted through Recurrent input tensor([0, 1, 2, 3, 4, 5, 6, 7, 8, 9])\n",
      "Prediction using External drive tensor([0, 1, 2, 3, 4, 5, 6, 7, 8, 9])\n",
      "Actual prediction Loss tensor(-0.9495)\n"
     ]
    },
    {
     "name": "stderr",
     "output_type": "stream",
     "text": [
      " 57%|███████████████████████████████████████████                                | 11473/20000 [00:33<00:26, 324.63it/s]"
     ]
    },
    {
     "name": "stdout",
     "output_type": "stream",
     "text": [
      "Predicted through Recurrent input tensor([0, 1, 2, 0, 4, 5, 6, 7, 8, 9])\n",
      "Prediction using External drive tensor([0, 1, 2, 3, 4, 5, 6, 7, 8, 9])\n",
      "Actual prediction Loss tensor(-0.8665)\n",
      "Predicted through Recurrent input tensor([0, 1, 2, 3, 4, 5, 6, 7, 8, 9])\n",
      "Prediction using External drive tensor([0, 1, 2, 3, 4, 5, 6, 7, 8, 9])\n",
      "Actual prediction Loss tensor(-0.9583)\n",
      "Predicted through Recurrent input tensor([0, 1, 2, 3, 4, 5, 6, 7, 8, 9])\n",
      "Prediction using External drive tensor([0, 1, 2, 3, 4, 5, 6, 7, 8, 9])\n",
      "Actual prediction Loss tensor(-0.9162)\n",
      "Predicted through Recurrent input tensor([0, 1, 2, 3, 4, 5, 6, 7, 8, 9])\n",
      "Prediction using External drive tensor([0, 1, 2, 3, 4, 5, 6, 7, 8, 9])\n",
      "Actual prediction Loss tensor(-0.9304)\n"
     ]
    },
    {
     "name": "stderr",
     "output_type": "stream",
     "text": [
      " 58%|███████████████████████████████████████████▏                               | 11510/20000 [00:33<00:25, 327.19it/s]"
     ]
    },
    {
     "name": "stdout",
     "output_type": "stream",
     "text": [
      "Predicted through Recurrent input tensor([0, 1, 2, 3, 4, 5, 6, 7, 8, 9])\n",
      "Prediction using External drive tensor([0, 1, 2, 3, 4, 5, 6, 7, 8, 9])\n",
      "Actual prediction Loss tensor(-0.9671)\n",
      "Predicted through Recurrent input tensor([0, 1, 2, 3, 4, 5, 6, 7, 8, 9])\n",
      "Prediction using External drive tensor([0, 1, 2, 3, 4, 5, 6, 7, 8, 9])\n",
      "Actual prediction Loss tensor(-0.9639)\n",
      "Predicted through Recurrent input tensor([0, 1, 2, 3, 4, 5, 6, 7, 8, 9])\n",
      "Prediction using External drive tensor([0, 1, 2, 3, 4, 5, 6, 7, 8, 9])\n",
      "Actual prediction Loss tensor(-0.8918)\n"
     ]
    },
    {
     "name": "stderr",
     "output_type": "stream",
     "text": [
      " 58%|███████████████████████████████████████████▎                               | 11543/20000 [00:33<00:25, 327.06it/s]"
     ]
    },
    {
     "name": "stdout",
     "output_type": "stream",
     "text": [
      "Predicted through Recurrent input tensor([0, 1, 2, 3, 4, 5, 6, 7, 8, 9])\n",
      "Prediction using External drive tensor([0, 1, 2, 3, 4, 5, 6, 7, 8, 9])\n",
      "Actual prediction Loss tensor(-0.9364)\n",
      "Predicted through Recurrent input tensor([0, 1, 2, 3, 4, 5, 6, 7, 8, 9])\n",
      "Prediction using External drive tensor([0, 1, 2, 3, 4, 5, 6, 7, 8, 9])\n",
      "Actual prediction Loss tensor(-0.9502)\n",
      "Predicted through Recurrent input tensor([0, 1, 2, 0, 4, 5, 6, 7, 8, 9])\n",
      "Prediction using External drive tensor([0, 1, 2, 3, 4, 5, 6, 7, 8, 9])\n",
      "Actual prediction Loss tensor(-0.8681)\n"
     ]
    },
    {
     "name": "stderr",
     "output_type": "stream",
     "text": [
      " 58%|███████████████████████████████████████████▍                               | 11577/20000 [00:33<00:25, 329.87it/s]"
     ]
    },
    {
     "name": "stdout",
     "output_type": "stream",
     "text": [
      "Predicted through Recurrent input tensor([0, 1, 2, 3, 4, 5, 6, 7, 8, 9])\n",
      "Prediction using External drive tensor([0, 1, 2, 3, 4, 5, 6, 7, 8, 9])\n",
      "Actual prediction Loss tensor(-0.9588)\n",
      "Predicted through Recurrent input tensor([0, 1, 2, 3, 4, 5, 6, 7, 8, 9])\n",
      "Prediction using External drive tensor([0, 1, 2, 3, 4, 5, 6, 7, 8, 9])\n",
      "Actual prediction Loss tensor(-0.9172)\n",
      "Predicted through Recurrent input tensor([0, 1, 2, 3, 4, 5, 6, 7, 8, 9])\n",
      "Prediction using External drive tensor([0, 1, 2, 3, 4, 5, 6, 7, 8, 9])\n",
      "Actual prediction Loss tensor(-0.9313)\n",
      "Predicted through Recurrent input tensor([0, 1, 2, 3, 4, 5, 6, 7, 8, 9])\n",
      "Prediction using External drive tensor([0, 1, 2, 3, 4, 5, 6, 7, 8, 9])\n",
      "Actual prediction Loss tensor(-0.9675)\n"
     ]
    },
    {
     "name": "stderr",
     "output_type": "stream",
     "text": [
      " 58%|███████████████████████████████████████████▌                               | 11611/20000 [00:33<00:25, 326.14it/s]"
     ]
    },
    {
     "name": "stdout",
     "output_type": "stream",
     "text": [
      "Predicted through Recurrent input tensor([0, 1, 2, 3, 4, 5, 6, 7, 8, 9])\n",
      "Prediction using External drive tensor([0, 1, 2, 3, 4, 5, 6, 7, 8, 9])\n",
      "Actual prediction Loss tensor(-0.9643)\n",
      "Predicted through Recurrent input tensor([0, 1, 2, 3, 4, 5, 6, 7, 8, 9])\n",
      "Prediction using External drive tensor([0, 1, 2, 3, 4, 5, 6, 7, 8, 9])\n",
      "Actual prediction Loss tensor(-0.8933)\n",
      "Predicted through Recurrent input tensor([0, 1, 2, 3, 4, 5, 6, 7, 8, 9])\n",
      "Prediction using External drive tensor([0, 1, 2, 3, 4, 5, 6, 7, 8, 9])\n",
      "Actual prediction Loss tensor(-0.9373)\n"
     ]
    },
    {
     "name": "stderr",
     "output_type": "stream",
     "text": [
      " 58%|███████████████████████████████████████████▋                               | 11644/20000 [00:33<00:25, 327.29it/s]"
     ]
    },
    {
     "name": "stdout",
     "output_type": "stream",
     "text": [
      "Predicted through Recurrent input tensor([0, 1, 2, 3, 4, 5, 6, 7, 8, 9])\n",
      "Prediction using External drive tensor([0, 1, 2, 3, 4, 5, 6, 7, 8, 9])\n",
      "Actual prediction Loss tensor(-0.9508)\n",
      "Predicted through Recurrent input tensor([0, 1, 2, 0, 4, 5, 6, 7, 8, 9])\n",
      "Prediction using External drive tensor([0, 1, 2, 3, 4, 5, 6, 7, 8, 9])\n",
      "Actual prediction Loss tensor(-0.8698)\n",
      "Predicted through Recurrent input tensor([0, 1, 2, 3, 4, 5, 6, 7, 8, 9])\n",
      "Prediction using External drive tensor([0, 1, 2, 3, 4, 5, 6, 7, 8, 9])\n",
      "Actual prediction Loss tensor(-0.9593)\n",
      "Predicted through Recurrent input tensor([0, 1, 2, 3, 4, 5, 6, 7, 8, 9])\n",
      "Prediction using External drive tensor([0, 1, 2, 3, 4, 5, 6, 7, 8, 9])\n",
      "Actual prediction Loss tensor(-0.9182)\n"
     ]
    },
    {
     "name": "stderr",
     "output_type": "stream",
     "text": [
      " 58%|███████████████████████████████████████████▊                               | 11680/20000 [00:34<00:25, 327.28it/s]"
     ]
    },
    {
     "name": "stdout",
     "output_type": "stream",
     "text": [
      "Predicted through Recurrent input tensor([0, 1, 2, 3, 4, 5, 6, 7, 8, 9])\n",
      "Prediction using External drive tensor([0, 1, 2, 3, 4, 5, 6, 7, 8, 9])\n",
      "Actual prediction Loss tensor(-0.9322)\n",
      "Predicted through Recurrent input tensor([0, 1, 2, 3, 4, 5, 6, 7, 8, 9])\n",
      "Prediction using External drive tensor([0, 1, 2, 3, 4, 5, 6, 7, 8, 9])\n",
      "Actual prediction Loss tensor(-0.9680)\n",
      "Predicted through Recurrent input tensor([0, 1, 2, 3, 4, 5, 6, 7, 8, 9])\n",
      "Prediction using External drive tensor([0, 1, 2, 3, 4, 5, 6, 7, 8, 9])\n",
      "Actual prediction Loss tensor(-0.9648)\n"
     ]
    },
    {
     "name": "stderr",
     "output_type": "stream",
     "text": [
      " 59%|███████████████████████████████████████████▉                               | 11716/20000 [00:34<00:24, 336.46it/s]"
     ]
    },
    {
     "name": "stdout",
     "output_type": "stream",
     "text": [
      "Predicted through Recurrent input tensor([0, 1, 2, 3, 4, 5, 6, 7, 8, 9])\n",
      "Prediction using External drive tensor([0, 1, 2, 3, 4, 5, 6, 7, 8, 9])\n",
      "Actual prediction Loss tensor(-0.8948)\n",
      "Predicted through Recurrent input tensor([0, 1, 2, 3, 4, 5, 6, 7, 8, 9])\n",
      "Prediction using External drive tensor([0, 1, 2, 3, 4, 5, 6, 7, 8, 9])\n",
      "Actual prediction Loss tensor(-0.9383)\n",
      "Predicted through Recurrent input tensor([0, 1, 2, 3, 4, 5, 6, 7, 8, 9])\n",
      "Prediction using External drive tensor([0, 1, 2, 3, 4, 5, 6, 7, 8, 9])\n",
      "Actual prediction Loss tensor(-0.9515)\n",
      "Predicted through Recurrent input tensor([0, 1, 2, 0, 4, 5, 6, 7, 8, 9])\n",
      "Prediction using External drive tensor([0, 1, 2, 3, 4, 5, 6, 7, 8, 9])\n",
      "Actual prediction Loss tensor(-0.8713)\n"
     ]
    },
    {
     "name": "stderr",
     "output_type": "stream",
     "text": [
      " 59%|████████████████████████████████████████████                               | 11750/20000 [00:34<00:24, 332.56it/s]"
     ]
    },
    {
     "name": "stdout",
     "output_type": "stream",
     "text": [
      "Predicted through Recurrent input tensor([0, 1, 2, 3, 4, 5, 6, 7, 8, 9])\n",
      "Prediction using External drive tensor([0, 1, 2, 3, 4, 5, 6, 7, 8, 9])\n",
      "Actual prediction Loss tensor(-0.9597)\n",
      "Predicted through Recurrent input tensor([0, 1, 2, 3, 4, 5, 6, 7, 8, 9])\n",
      "Prediction using External drive tensor([0, 1, 2, 3, 4, 5, 6, 7, 8, 9])\n",
      "Actual prediction Loss tensor(-0.9192)\n",
      "Predicted through Recurrent input tensor([0, 1, 2, 3, 4, 5, 6, 7, 8, 9])\n",
      "Prediction using External drive tensor([0, 1, 2, 3, 4, 5, 6, 7, 8, 9])\n",
      "Actual prediction Loss tensor(-0.9331)\n"
     ]
    },
    {
     "name": "stderr",
     "output_type": "stream",
     "text": [
      " 59%|████████████████████████████████████████████▏                              | 11784/20000 [00:34<00:24, 331.82it/s]"
     ]
    },
    {
     "name": "stdout",
     "output_type": "stream",
     "text": [
      "Predicted through Recurrent input tensor([0, 1, 2, 3, 4, 5, 6, 7, 8, 9])\n",
      "Prediction using External drive tensor([0, 1, 2, 3, 4, 5, 6, 7, 8, 9])\n",
      "Actual prediction Loss tensor(-0.9684)\n",
      "Predicted through Recurrent input tensor([0, 1, 2, 3, 4, 5, 6, 7, 8, 9])\n",
      "Prediction using External drive tensor([0, 1, 2, 3, 4, 5, 6, 7, 8, 9])\n",
      "Actual prediction Loss tensor(-0.9653)\n",
      "Predicted through Recurrent input tensor([0, 1, 2, 3, 4, 5, 6, 7, 8, 9])\n",
      "Prediction using External drive tensor([0, 1, 2, 3, 4, 5, 6, 7, 8, 9])\n",
      "Actual prediction Loss tensor(-0.8963)\n"
     ]
    },
    {
     "name": "stderr",
     "output_type": "stream",
     "text": [
      " 59%|████████████████████████████████████████████▎                              | 11818/20000 [00:34<00:24, 333.25it/s]"
     ]
    },
    {
     "name": "stdout",
     "output_type": "stream",
     "text": [
      "Predicted through Recurrent input tensor([0, 1, 2, 3, 4, 5, 6, 7, 8, 9])\n",
      "Prediction using External drive tensor([0, 1, 2, 3, 4, 5, 6, 7, 8, 9])\n",
      "Actual prediction Loss tensor(-0.9392)\n",
      "Predicted through Recurrent input tensor([0, 1, 2, 3, 4, 5, 6, 7, 8, 9])\n",
      "Prediction using External drive tensor([0, 1, 2, 3, 4, 5, 6, 7, 8, 9])\n",
      "Actual prediction Loss tensor(-0.9521)\n",
      "Predicted through Recurrent input tensor([0, 1, 2, 0, 4, 5, 6, 7, 8, 9])\n",
      "Prediction using External drive tensor([0, 1, 2, 3, 4, 5, 6, 7, 8, 9])\n",
      "Actual prediction Loss tensor(-0.8729)\n",
      "Predicted through Recurrent input tensor([0, 1, 2, 3, 4, 5, 6, 7, 8, 9])\n",
      "Prediction using External drive tensor([0, 1, 2, 3, 4, 5, 6, 7, 8, 9])\n",
      "Actual prediction Loss tensor(-0.9602)\n"
     ]
    },
    {
     "name": "stderr",
     "output_type": "stream",
     "text": [
      " 59%|████████████████████████████████████████████▍                              | 11852/20000 [00:34<00:24, 326.55it/s]"
     ]
    },
    {
     "name": "stdout",
     "output_type": "stream",
     "text": [
      "Predicted through Recurrent input tensor([0, 1, 2, 3, 4, 5, 6, 7, 8, 9])\n",
      "Prediction using External drive tensor([0, 1, 2, 3, 4, 5, 6, 7, 8, 9])\n",
      "Actual prediction Loss tensor(-0.9201)\n",
      "Predicted through Recurrent input tensor([0, 1, 2, 3, 4, 5, 6, 7, 8, 9])\n",
      "Prediction using External drive tensor([0, 1, 2, 3, 4, 5, 6, 7, 8, 9])\n",
      "Actual prediction Loss tensor(-0.9340)\n",
      "Predicted through Recurrent input tensor([0, 1, 2, 3, 4, 5, 6, 7, 8, 9])\n",
      "Prediction using External drive tensor([0, 1, 2, 3, 4, 5, 6, 7, 8, 9])\n",
      "Actual prediction Loss tensor(-0.9688)\n"
     ]
    },
    {
     "name": "stderr",
     "output_type": "stream",
     "text": [
      " 59%|████████████████████████████████████████████▌                              | 11886/20000 [00:34<00:24, 329.51it/s]"
     ]
    },
    {
     "name": "stdout",
     "output_type": "stream",
     "text": [
      "Predicted through Recurrent input tensor([0, 1, 2, 3, 4, 5, 6, 7, 8, 9])\n",
      "Prediction using External drive tensor([0, 1, 2, 3, 4, 5, 6, 7, 8, 9])\n",
      "Actual prediction Loss tensor(-0.9657)\n",
      "Predicted through Recurrent input tensor([0, 1, 2, 3, 4, 5, 6, 7, 8, 9])\n",
      "Prediction using External drive tensor([0, 1, 2, 3, 4, 5, 6, 7, 8, 9])\n",
      "Actual prediction Loss tensor(-0.8978)\n",
      "Predicted through Recurrent input tensor([0, 1, 2, 3, 4, 5, 6, 7, 8, 9])\n",
      "Prediction using External drive tensor([0, 1, 2, 3, 4, 5, 6, 7, 8, 9])\n",
      "Actual prediction Loss tensor(-0.9400)\n",
      "Predicted through Recurrent input tensor([0, 1, 2, 3, 4, 5, 6, 7, 8, 9])\n",
      "Prediction using External drive tensor([0, 1, 2, 3, 4, 5, 6, 7, 8, 9])\n",
      "Actual prediction Loss tensor(-0.9528)\n"
     ]
    },
    {
     "name": "stderr",
     "output_type": "stream",
     "text": [
      " 60%|████████████████████████████████████████████▋                              | 11920/20000 [00:34<00:24, 331.62it/s]"
     ]
    },
    {
     "name": "stdout",
     "output_type": "stream",
     "text": [
      "Predicted through Recurrent input tensor([0, 1, 2, 0, 4, 5, 6, 7, 8, 9])\n",
      "Prediction using External drive tensor([0, 1, 2, 3, 4, 5, 6, 7, 8, 9])\n",
      "Actual prediction Loss tensor(-0.8744)\n",
      "Predicted through Recurrent input tensor([0, 1, 2, 3, 4, 5, 6, 7, 8, 9])\n",
      "Prediction using External drive tensor([0, 1, 2, 3, 4, 5, 6, 7, 8, 9])\n",
      "Actual prediction Loss tensor(-0.9607)\n",
      "Predicted through Recurrent input tensor([0, 1, 2, 3, 4, 5, 6, 7, 8, 9])\n",
      "Prediction using External drive tensor([0, 1, 2, 3, 4, 5, 6, 7, 8, 9])\n",
      "Actual prediction Loss tensor(-0.9210)\n"
     ]
    },
    {
     "name": "stderr",
     "output_type": "stream",
     "text": [
      " 60%|████████████████████████████████████████████▊                              | 11954/20000 [00:34<00:24, 332.13it/s]"
     ]
    },
    {
     "name": "stdout",
     "output_type": "stream",
     "text": [
      "Predicted through Recurrent input tensor([0, 1, 2, 3, 4, 5, 6, 7, 8, 9])\n",
      "Prediction using External drive tensor([0, 1, 2, 3, 4, 5, 6, 7, 8, 9])\n",
      "Actual prediction Loss tensor(-0.9348)\n",
      "Predicted through Recurrent input tensor([0, 1, 2, 3, 4, 5, 6, 7, 8, 9])\n",
      "Prediction using External drive tensor([0, 1, 2, 3, 4, 5, 6, 7, 8, 9])\n",
      "Actual prediction Loss tensor(-0.9692)\n",
      "Predicted through Recurrent input tensor([0, 1, 2, 3, 4, 5, 6, 7, 8, 9])\n",
      "Prediction using External drive tensor([0, 1, 2, 3, 4, 5, 6, 7, 8, 9])\n",
      "Actual prediction Loss tensor(-0.9661)\n",
      "Predicted through Recurrent input tensor([0, 1, 2, 3, 4, 5, 6, 7, 8, 9])\n",
      "Prediction using External drive tensor([0, 1, 2, 3, 4, 5, 6, 7, 8, 9])\n",
      "Actual prediction Loss tensor(-0.8992)\n"
     ]
    },
    {
     "name": "stderr",
     "output_type": "stream",
     "text": [
      " 60%|████████████████████████████████████████████▉                              | 11990/20000 [00:35<00:24, 329.75it/s]"
     ]
    },
    {
     "name": "stdout",
     "output_type": "stream",
     "text": [
      "Predicted through Recurrent input tensor([0, 1, 2, 3, 4, 5, 6, 7, 8, 9])\n",
      "Prediction using External drive tensor([0, 1, 2, 3, 4, 5, 6, 7, 8, 9])\n",
      "Actual prediction Loss tensor(-0.9409)\n",
      "Predicted through Recurrent input tensor([0, 1, 2, 3, 4, 5, 6, 7, 8, 9])\n",
      "Prediction using External drive tensor([0, 1, 2, 3, 4, 5, 6, 7, 8, 9])\n",
      "Actual prediction Loss tensor(-0.9534)\n",
      "Predicted through Recurrent input tensor([0, 1, 2, 0, 4, 5, 6, 7, 8, 9])\n",
      "Prediction using External drive tensor([0, 1, 2, 3, 4, 5, 6, 7, 8, 9])\n",
      "Actual prediction Loss tensor(-0.8760)\n"
     ]
    },
    {
     "name": "stderr",
     "output_type": "stream",
     "text": [
      " 60%|█████████████████████████████████████████████                              | 12026/20000 [00:35<00:23, 337.33it/s]"
     ]
    },
    {
     "name": "stdout",
     "output_type": "stream",
     "text": [
      "Predicted through Recurrent input tensor([0, 1, 2, 3, 4, 5, 6, 7, 8, 9])\n",
      "Prediction using External drive tensor([0, 1, 2, 3, 4, 5, 6, 7, 8, 9])\n",
      "Actual prediction Loss tensor(-0.9612)\n",
      "Predicted through Recurrent input tensor([0, 1, 2, 3, 4, 5, 6, 7, 8, 9])\n",
      "Prediction using External drive tensor([0, 1, 2, 3, 4, 5, 6, 7, 8, 9])\n",
      "Actual prediction Loss tensor(-0.9219)\n",
      "Predicted through Recurrent input tensor([0, 1, 2, 3, 4, 5, 6, 7, 8, 9])\n",
      "Prediction using External drive tensor([0, 1, 2, 3, 4, 5, 6, 7, 8, 9])\n",
      "Actual prediction Loss tensor(-0.9356)\n",
      "Predicted through Recurrent input tensor([0, 1, 2, 3, 4, 5, 6, 7, 8, 9])\n",
      "Prediction using External drive tensor([0, 1, 2, 3, 4, 5, 6, 7, 8, 9])\n",
      "Actual prediction Loss tensor(-0.9696)\n"
     ]
    },
    {
     "name": "stderr",
     "output_type": "stream",
     "text": [
      " 60%|█████████████████████████████████████████████▏                             | 12060/20000 [00:35<00:24, 330.24it/s]"
     ]
    },
    {
     "name": "stdout",
     "output_type": "stream",
     "text": [
      "Predicted through Recurrent input tensor([0, 1, 2, 3, 4, 5, 6, 7, 8, 9])\n",
      "Prediction using External drive tensor([0, 1, 2, 3, 4, 5, 6, 7, 8, 9])\n",
      "Actual prediction Loss tensor(-0.9666)\n",
      "Predicted through Recurrent input tensor([0, 1, 2, 3, 4, 5, 6, 7, 8, 9])\n",
      "Prediction using External drive tensor([0, 1, 2, 3, 4, 5, 6, 7, 8, 9])\n",
      "Actual prediction Loss tensor(-0.9006)\n",
      "Predicted through Recurrent input tensor([0, 1, 2, 3, 4, 5, 6, 7, 8, 9])\n",
      "Prediction using External drive tensor([0, 1, 2, 3, 4, 5, 6, 7, 8, 9])\n",
      "Actual prediction Loss tensor(-0.9417)\n"
     ]
    },
    {
     "name": "stderr",
     "output_type": "stream",
     "text": [
      " 60%|█████████████████████████████████████████████▎                             | 12094/20000 [00:35<00:24, 327.34it/s]"
     ]
    },
    {
     "name": "stdout",
     "output_type": "stream",
     "text": [
      "Predicted through Recurrent input tensor([0, 1, 2, 3, 4, 5, 6, 7, 8, 9])\n",
      "Prediction using External drive tensor([0, 1, 2, 3, 4, 5, 6, 7, 8, 9])\n",
      "Actual prediction Loss tensor(-0.9540)\n",
      "Predicted through Recurrent input tensor([0, 1, 2, 0, 4, 5, 6, 7, 8, 9])\n",
      "Prediction using External drive tensor([0, 1, 2, 3, 4, 5, 6, 7, 8, 9])\n",
      "Actual prediction Loss tensor(-0.8774)\n",
      "Predicted through Recurrent input tensor([0, 1, 2, 3, 4, 5, 6, 7, 8, 9])\n",
      "Prediction using External drive tensor([0, 1, 2, 3, 4, 5, 6, 7, 8, 9])\n",
      "Actual prediction Loss tensor(-0.9616)\n",
      "Predicted through Recurrent input tensor([0, 1, 2, 3, 4, 5, 6, 7, 8, 9])\n",
      "Prediction using External drive tensor([0, 1, 2, 3, 4, 5, 6, 7, 8, 9])\n",
      "Actual prediction Loss tensor(-0.9228)\n"
     ]
    },
    {
     "name": "stderr",
     "output_type": "stream",
     "text": [
      " 61%|█████████████████████████████████████████████▍                             | 12130/20000 [00:35<00:24, 326.43it/s]"
     ]
    },
    {
     "name": "stdout",
     "output_type": "stream",
     "text": [
      "Predicted through Recurrent input tensor([0, 1, 2, 3, 4, 5, 6, 7, 8, 9])\n",
      "Prediction using External drive tensor([0, 1, 2, 3, 4, 5, 6, 7, 8, 9])\n",
      "Actual prediction Loss tensor(-0.9364)\n",
      "Predicted through Recurrent input tensor([0, 1, 2, 3, 4, 5, 6, 7, 8, 9])\n",
      "Prediction using External drive tensor([0, 1, 2, 3, 4, 5, 6, 7, 8, 9])\n",
      "Actual prediction Loss tensor(-0.9700)\n",
      "Predicted through Recurrent input tensor([0, 1, 2, 3, 4, 5, 6, 7, 8, 9])\n",
      "Prediction using External drive tensor([0, 1, 2, 3, 4, 5, 6, 7, 8, 9])\n",
      "Actual prediction Loss tensor(-0.9670)\n"
     ]
    },
    {
     "name": "stderr",
     "output_type": "stream",
     "text": [
      " 61%|█████████████████████████████████████████████▌                             | 12163/20000 [00:35<00:24, 323.64it/s]"
     ]
    },
    {
     "name": "stdout",
     "output_type": "stream",
     "text": [
      "Predicted through Recurrent input tensor([0, 1, 2, 3, 4, 5, 6, 7, 8, 9])\n",
      "Prediction using External drive tensor([0, 1, 2, 3, 4, 5, 6, 7, 8, 9])\n",
      "Actual prediction Loss tensor(-0.9020)\n",
      "Predicted through Recurrent input tensor([0, 1, 2, 3, 4, 5, 6, 7, 8, 9])\n",
      "Prediction using External drive tensor([0, 1, 2, 3, 4, 5, 6, 7, 8, 9])\n",
      "Actual prediction Loss tensor(-0.9426)\n",
      "Predicted through Recurrent input tensor([0, 1, 2, 3, 4, 5, 6, 7, 8, 9])\n",
      "Prediction using External drive tensor([0, 1, 2, 3, 4, 5, 6, 7, 8, 9])\n",
      "Actual prediction Loss tensor(-0.9546)\n",
      "Predicted through Recurrent input tensor([0, 1, 2, 0, 4, 5, 6, 7, 8, 9])\n",
      "Prediction using External drive tensor([0, 1, 2, 3, 4, 5, 6, 7, 8, 9])\n",
      "Actual prediction Loss tensor(-0.8789)\n"
     ]
    },
    {
     "name": "stderr",
     "output_type": "stream",
     "text": [
      " 61%|█████████████████████████████████████████████▊                             | 12200/20000 [00:35<00:23, 325.62it/s]"
     ]
    },
    {
     "name": "stdout",
     "output_type": "stream",
     "text": [
      "Predicted through Recurrent input tensor([0, 1, 2, 3, 4, 5, 6, 7, 8, 9])\n",
      "Prediction using External drive tensor([0, 1, 2, 3, 4, 5, 6, 7, 8, 9])\n",
      "Actual prediction Loss tensor(-0.9621)\n",
      "Predicted through Recurrent input tensor([0, 1, 2, 3, 4, 5, 6, 7, 8, 9])\n",
      "Prediction using External drive tensor([0, 1, 2, 3, 4, 5, 6, 7, 8, 9])\n",
      "Actual prediction Loss tensor(-0.9237)\n",
      "Predicted through Recurrent input tensor([0, 1, 2, 3, 4, 5, 6, 7, 8, 9])\n",
      "Prediction using External drive tensor([0, 1, 2, 3, 4, 5, 6, 7, 8, 9])\n",
      "Actual prediction Loss tensor(-0.9372)\n"
     ]
    },
    {
     "name": "stderr",
     "output_type": "stream",
     "text": [
      " 61%|█████████████████████████████████████████████▊                             | 12233/20000 [00:35<00:23, 325.96it/s]"
     ]
    },
    {
     "name": "stdout",
     "output_type": "stream",
     "text": [
      "Predicted through Recurrent input tensor([0, 1, 2, 3, 4, 5, 6, 7, 8, 9])\n",
      "Prediction using External drive tensor([0, 1, 2, 3, 4, 5, 6, 7, 8, 9])\n",
      "Actual prediction Loss tensor(-0.9704)\n",
      "Predicted through Recurrent input tensor([0, 1, 2, 3, 4, 5, 6, 7, 8, 9])\n",
      "Prediction using External drive tensor([0, 1, 2, 3, 4, 5, 6, 7, 8, 9])\n",
      "Actual prediction Loss tensor(-0.9674)\n",
      "Predicted through Recurrent input tensor([0, 1, 2, 3, 4, 5, 6, 7, 8, 9])\n",
      "Prediction using External drive tensor([0, 1, 2, 3, 4, 5, 6, 7, 8, 9])\n",
      "Actual prediction Loss tensor(-0.9033)\n",
      "Predicted through Recurrent input tensor([0, 1, 2, 3, 4, 5, 6, 7, 8, 9])\n",
      "Prediction using External drive tensor([0, 1, 2, 3, 4, 5, 6, 7, 8, 9])\n",
      "Actual prediction Loss tensor(-0.9434)\n"
     ]
    },
    {
     "name": "stderr",
     "output_type": "stream",
     "text": [
      " 61%|██████████████████████████████████████████████                             | 12270/20000 [00:35<00:23, 328.13it/s]"
     ]
    },
    {
     "name": "stdout",
     "output_type": "stream",
     "text": [
      "Predicted through Recurrent input tensor([0, 1, 2, 3, 4, 5, 6, 7, 8, 9])\n",
      "Prediction using External drive tensor([0, 1, 2, 3, 4, 5, 6, 7, 8, 9])\n",
      "Actual prediction Loss tensor(-0.9552)\n",
      "Predicted through Recurrent input tensor([0, 1, 2, 0, 4, 5, 6, 7, 8, 9])\n",
      "Prediction using External drive tensor([0, 1, 2, 3, 4, 5, 6, 7, 8, 9])\n",
      "Actual prediction Loss tensor(-0.8803)\n",
      "Predicted through Recurrent input tensor([0, 1, 2, 3, 4, 5, 6, 7, 8, 9])\n",
      "Prediction using External drive tensor([0, 1, 2, 3, 4, 5, 6, 7, 8, 9])\n",
      "Actual prediction Loss tensor(-0.9625)\n"
     ]
    },
    {
     "name": "stderr",
     "output_type": "stream",
     "text": [
      " 62%|██████████████████████████████████████████████▏                            | 12303/20000 [00:35<00:23, 326.74it/s]"
     ]
    },
    {
     "name": "stdout",
     "output_type": "stream",
     "text": [
      "Predicted through Recurrent input tensor([0, 1, 2, 3, 4, 5, 6, 7, 8, 9])\n",
      "Prediction using External drive tensor([0, 1, 2, 3, 4, 5, 6, 7, 8, 9])\n",
      "Actual prediction Loss tensor(-0.9245)\n",
      "Predicted through Recurrent input tensor([0, 1, 2, 3, 4, 5, 6, 7, 8, 9])\n",
      "Prediction using External drive tensor([0, 1, 2, 3, 4, 5, 6, 7, 8, 9])\n",
      "Actual prediction Loss tensor(-0.9380)\n",
      "Predicted through Recurrent input tensor([0, 1, 2, 3, 4, 5, 6, 7, 8, 9])\n",
      "Prediction using External drive tensor([0, 1, 2, 3, 4, 5, 6, 7, 8, 9])\n",
      "Actual prediction Loss tensor(-0.9708)\n"
     ]
    },
    {
     "name": "stderr",
     "output_type": "stream",
     "text": [
      " 62%|██████████████████████████████████████████████▎                            | 12337/20000 [00:36<00:23, 330.61it/s]"
     ]
    },
    {
     "name": "stdout",
     "output_type": "stream",
     "text": [
      "Predicted through Recurrent input tensor([0, 1, 2, 3, 4, 5, 6, 7, 8, 9])\n",
      "Prediction using External drive tensor([0, 1, 2, 3, 4, 5, 6, 7, 8, 9])\n",
      "Actual prediction Loss tensor(-0.9678)\n",
      "Predicted through Recurrent input tensor([0, 1, 2, 3, 4, 5, 6, 7, 8, 9])\n",
      "Prediction using External drive tensor([0, 1, 2, 3, 4, 5, 6, 7, 8, 9])\n",
      "Actual prediction Loss tensor(-0.9046)\n",
      "Predicted through Recurrent input tensor([0, 1, 2, 3, 4, 5, 6, 7, 8, 9])\n",
      "Prediction using External drive tensor([0, 1, 2, 3, 4, 5, 6, 7, 8, 9])\n",
      "Actual prediction Loss tensor(-0.9442)\n",
      "Predicted through Recurrent input tensor([0, 1, 2, 3, 4, 5, 6, 7, 8, 9])\n",
      "Prediction using External drive tensor([0, 1, 2, 3, 4, 5, 6, 7, 8, 9])\n",
      "Actual prediction Loss tensor(-0.9558)\n"
     ]
    },
    {
     "name": "stderr",
     "output_type": "stream",
     "text": [
      " 62%|██████████████████████████████████████████████▍                            | 12371/20000 [00:36<00:23, 322.01it/s]"
     ]
    },
    {
     "name": "stdout",
     "output_type": "stream",
     "text": [
      "Predicted through Recurrent input tensor([0, 1, 2, 0, 4, 5, 6, 7, 8, 9])\n",
      "Prediction using External drive tensor([0, 1, 2, 3, 4, 5, 6, 7, 8, 9])\n",
      "Actual prediction Loss tensor(-0.8817)\n",
      "Predicted through Recurrent input tensor([0, 1, 2, 3, 4, 5, 6, 7, 8, 9])\n",
      "Prediction using External drive tensor([0, 1, 2, 3, 4, 5, 6, 7, 8, 9])\n",
      "Actual prediction Loss tensor(-0.9629)\n",
      "Predicted through Recurrent input tensor([0, 1, 2, 3, 4, 5, 6, 7, 8, 9])\n",
      "Prediction using External drive tensor([0, 1, 2, 3, 4, 5, 6, 7, 8, 9])\n",
      "Actual prediction Loss tensor(-0.9254)\n"
     ]
    },
    {
     "name": "stderr",
     "output_type": "stream",
     "text": [
      " 62%|██████████████████████████████████████████████▌                            | 12404/20000 [00:36<00:23, 324.36it/s]"
     ]
    },
    {
     "name": "stdout",
     "output_type": "stream",
     "text": [
      "Predicted through Recurrent input tensor([0, 1, 2, 3, 4, 5, 6, 7, 8, 9])\n",
      "Prediction using External drive tensor([0, 1, 2, 3, 4, 5, 6, 7, 8, 9])\n",
      "Actual prediction Loss tensor(-0.9388)\n",
      "Predicted through Recurrent input tensor([0, 1, 2, 3, 4, 5, 6, 7, 8, 9])\n",
      "Prediction using External drive tensor([0, 1, 2, 3, 4, 5, 6, 7, 8, 9])\n",
      "Actual prediction Loss tensor(-0.9712)\n",
      "Predicted through Recurrent input tensor([0, 1, 2, 3, 4, 5, 6, 7, 8, 9])\n",
      "Prediction using External drive tensor([0, 1, 2, 3, 4, 5, 6, 7, 8, 9])\n",
      "Actual prediction Loss tensor(-0.9682)\n",
      "Predicted through Recurrent input tensor([0, 1, 2, 3, 4, 5, 6, 7, 8, 9])\n",
      "Prediction using External drive tensor([0, 1, 2, 3, 4, 5, 6, 7, 8, 9])\n",
      "Actual prediction Loss tensor(-0.9059)\n"
     ]
    },
    {
     "name": "stderr",
     "output_type": "stream",
     "text": [
      " 62%|██████████████████████████████████████████████▋                            | 12440/20000 [00:36<00:23, 324.35it/s]"
     ]
    },
    {
     "name": "stdout",
     "output_type": "stream",
     "text": [
      "Predicted through Recurrent input tensor([0, 1, 2, 3, 4, 5, 6, 7, 8, 9])\n",
      "Prediction using External drive tensor([0, 1, 2, 3, 4, 5, 6, 7, 8, 9])\n",
      "Actual prediction Loss tensor(-0.9449)\n",
      "Predicted through Recurrent input tensor([0, 1, 2, 3, 4, 5, 6, 7, 8, 9])\n",
      "Prediction using External drive tensor([0, 1, 2, 3, 4, 5, 6, 7, 8, 9])\n",
      "Actual prediction Loss tensor(-0.9564)\n",
      "Predicted through Recurrent input tensor([0, 1, 2, 0, 4, 5, 6, 7, 8, 9])\n",
      "Prediction using External drive tensor([0, 1, 2, 3, 4, 5, 6, 7, 8, 9])\n",
      "Actual prediction Loss tensor(-0.8831)\n"
     ]
    },
    {
     "name": "stderr",
     "output_type": "stream",
     "text": [
      " 62%|██████████████████████████████████████████████▊                            | 12474/20000 [00:36<00:23, 327.00it/s]"
     ]
    },
    {
     "name": "stdout",
     "output_type": "stream",
     "text": [
      "Predicted through Recurrent input tensor([0, 1, 2, 3, 4, 5, 6, 7, 8, 9])\n",
      "Prediction using External drive tensor([0, 1, 2, 3, 4, 5, 6, 7, 8, 9])\n",
      "Actual prediction Loss tensor(-0.9634)\n",
      "Predicted through Recurrent input tensor([0, 1, 2, 3, 4, 5, 6, 7, 8, 9])\n",
      "Prediction using External drive tensor([0, 1, 2, 3, 4, 5, 6, 7, 8, 9])\n",
      "Actual prediction Loss tensor(-0.9262)\n",
      "Predicted through Recurrent input tensor([0, 1, 2, 3, 4, 5, 6, 7, 8, 9])\n",
      "Prediction using External drive tensor([0, 1, 2, 3, 4, 5, 6, 7, 8, 9])\n",
      "Actual prediction Loss tensor(-0.9396)\n"
     ]
    },
    {
     "name": "stderr",
     "output_type": "stream",
     "text": [
      " 63%|██████████████████████████████████████████████▉                            | 12508/20000 [00:36<00:22, 330.79it/s]"
     ]
    },
    {
     "name": "stdout",
     "output_type": "stream",
     "text": [
      "Predicted through Recurrent input tensor([0, 1, 2, 3, 4, 5, 6, 7, 8, 9])\n",
      "Prediction using External drive tensor([0, 1, 2, 3, 4, 5, 6, 7, 8, 9])\n",
      "Actual prediction Loss tensor(-0.9715)\n",
      "Predicted through Recurrent input tensor([0, 1, 2, 3, 4, 5, 6, 7, 8, 9])\n",
      "Prediction using External drive tensor([0, 1, 2, 3, 4, 5, 6, 7, 8, 9])\n",
      "Actual prediction Loss tensor(-0.9686)\n",
      "Predicted through Recurrent input tensor([0, 1, 2, 3, 4, 5, 6, 7, 8, 9])\n",
      "Prediction using External drive tensor([0, 1, 2, 3, 4, 5, 6, 7, 8, 9])\n",
      "Actual prediction Loss tensor(-0.9072)\n",
      "Predicted through Recurrent input tensor([0, 1, 2, 3, 4, 5, 6, 7, 8, 9])\n",
      "Prediction using External drive tensor([0, 1, 2, 3, 4, 5, 6, 7, 8, 9])\n",
      "Actual prediction Loss tensor(-0.9457)\n"
     ]
    },
    {
     "name": "stderr",
     "output_type": "stream",
     "text": [
      " 63%|███████████████████████████████████████████████                            | 12542/20000 [00:36<00:23, 323.04it/s]"
     ]
    },
    {
     "name": "stdout",
     "output_type": "stream",
     "text": [
      "Predicted through Recurrent input tensor([0, 1, 2, 3, 4, 5, 6, 7, 8, 9])\n",
      "Prediction using External drive tensor([0, 1, 2, 3, 4, 5, 6, 7, 8, 9])\n",
      "Actual prediction Loss tensor(-0.9569)\n",
      "Predicted through Recurrent input tensor([0, 1, 2, 0, 4, 5, 6, 7, 8, 9])\n",
      "Prediction using External drive tensor([0, 1, 2, 3, 4, 5, 6, 7, 8, 9])\n",
      "Actual prediction Loss tensor(-0.8845)\n",
      "Predicted through Recurrent input tensor([0, 1, 2, 3, 4, 5, 6, 7, 8, 9])\n",
      "Prediction using External drive tensor([0, 1, 2, 3, 4, 5, 6, 7, 8, 9])\n",
      "Actual prediction Loss tensor(-0.9638)\n"
     ]
    },
    {
     "name": "stderr",
     "output_type": "stream",
     "text": [
      " 63%|███████████████████████████████████████████████▏                           | 12576/20000 [00:36<00:22, 327.00it/s]"
     ]
    },
    {
     "name": "stdout",
     "output_type": "stream",
     "text": [
      "Predicted through Recurrent input tensor([0, 1, 2, 3, 4, 5, 6, 7, 8, 9])\n",
      "Prediction using External drive tensor([0, 1, 2, 3, 4, 5, 6, 7, 8, 9])\n",
      "Actual prediction Loss tensor(-0.9270)\n",
      "Predicted through Recurrent input tensor([0, 1, 2, 3, 4, 5, 6, 7, 8, 9])\n",
      "Prediction using External drive tensor([0, 1, 2, 3, 4, 5, 6, 7, 8, 9])\n",
      "Actual prediction Loss tensor(-0.9403)\n",
      "Predicted through Recurrent input tensor([0, 1, 2, 3, 4, 5, 6, 7, 8, 9])\n",
      "Prediction using External drive tensor([0, 1, 2, 3, 4, 5, 6, 7, 8, 9])\n",
      "Actual prediction Loss tensor(-0.9719)\n",
      "Predicted through Recurrent input tensor([0, 1, 2, 3, 4, 5, 6, 7, 8, 9])\n",
      "Prediction using External drive tensor([0, 1, 2, 3, 4, 5, 6, 7, 8, 9])\n",
      "Actual prediction Loss tensor(-0.9690)\n"
     ]
    },
    {
     "name": "stderr",
     "output_type": "stream",
     "text": [
      " 63%|███████████████████████████████████████████████▎                           | 12610/20000 [00:36<00:22, 321.42it/s]"
     ]
    },
    {
     "name": "stdout",
     "output_type": "stream",
     "text": [
      "Predicted through Recurrent input tensor([0, 1, 2, 3, 4, 5, 6, 7, 8, 9])\n",
      "Prediction using External drive tensor([0, 1, 2, 3, 4, 5, 6, 7, 8, 9])\n",
      "Actual prediction Loss tensor(-0.9084)\n",
      "Predicted through Recurrent input tensor([0, 1, 2, 3, 4, 5, 6, 7, 8, 9])\n",
      "Prediction using External drive tensor([0, 1, 2, 3, 4, 5, 6, 7, 8, 9])\n",
      "Actual prediction Loss tensor(-0.9464)\n",
      "Predicted through Recurrent input tensor([0, 1, 2, 3, 4, 5, 6, 7, 8, 9])\n",
      "Prediction using External drive tensor([0, 1, 2, 3, 4, 5, 6, 7, 8, 9])\n",
      "Actual prediction Loss tensor(-0.9575)\n"
     ]
    },
    {
     "name": "stderr",
     "output_type": "stream",
     "text": [
      " 63%|███████████████████████████████████████████████▍                           | 12643/20000 [00:37<00:22, 323.94it/s]"
     ]
    },
    {
     "name": "stdout",
     "output_type": "stream",
     "text": [
      "Predicted through Recurrent input tensor([0, 1, 2, 0, 4, 5, 6, 7, 8, 9])\n",
      "Prediction using External drive tensor([0, 1, 2, 3, 4, 5, 6, 7, 8, 9])\n",
      "Actual prediction Loss tensor(-0.8858)\n",
      "Predicted through Recurrent input tensor([0, 1, 2, 3, 4, 5, 6, 7, 8, 9])\n",
      "Prediction using External drive tensor([0, 1, 2, 3, 4, 5, 6, 7, 8, 9])\n",
      "Actual prediction Loss tensor(-0.9642)\n",
      "Predicted through Recurrent input tensor([0, 1, 2, 3, 4, 5, 6, 7, 8, 9])\n",
      "Prediction using External drive tensor([0, 1, 2, 3, 4, 5, 6, 7, 8, 9])\n",
      "Actual prediction Loss tensor(-0.9278)\n"
     ]
    },
    {
     "name": "stderr",
     "output_type": "stream",
     "text": [
      " 63%|███████████████████████████████████████████████▌                           | 12678/20000 [00:37<00:22, 330.41it/s]"
     ]
    },
    {
     "name": "stdout",
     "output_type": "stream",
     "text": [
      "Predicted through Recurrent input tensor([0, 1, 2, 3, 4, 5, 6, 7, 8, 9])\n",
      "Prediction using External drive tensor([0, 1, 2, 3, 4, 5, 6, 7, 8, 9])\n",
      "Actual prediction Loss tensor(-0.9410)\n",
      "Predicted through Recurrent input tensor([0, 1, 2, 3, 4, 5, 6, 7, 8, 9])\n",
      "Prediction using External drive tensor([0, 1, 2, 3, 4, 5, 6, 7, 8, 9])\n",
      "Actual prediction Loss tensor(-0.9722)\n",
      "Predicted through Recurrent input tensor([0, 1, 2, 3, 4, 5, 6, 7, 8, 9])\n",
      "Prediction using External drive tensor([0, 1, 2, 3, 4, 5, 6, 7, 8, 9])\n",
      "Actual prediction Loss tensor(-0.9693)\n",
      "Predicted through Recurrent input tensor([0, 1, 2, 3, 4, 5, 6, 7, 8, 9])\n",
      "Prediction using External drive tensor([0, 1, 2, 3, 4, 5, 6, 7, 8, 9])\n",
      "Actual prediction Loss tensor(-0.9096)\n"
     ]
    },
    {
     "name": "stderr",
     "output_type": "stream",
     "text": [
      " 64%|███████████████████████████████████████████████▋                           | 12712/20000 [00:37<00:22, 322.79it/s]"
     ]
    },
    {
     "name": "stdout",
     "output_type": "stream",
     "text": [
      "Predicted through Recurrent input tensor([0, 1, 2, 3, 4, 5, 6, 7, 8, 9])\n",
      "Prediction using External drive tensor([0, 1, 2, 3, 4, 5, 6, 7, 8, 9])\n",
      "Actual prediction Loss tensor(-0.9472)\n",
      "Predicted through Recurrent input tensor([0, 1, 2, 3, 4, 5, 6, 7, 8, 9])\n",
      "Prediction using External drive tensor([0, 1, 2, 3, 4, 5, 6, 7, 8, 9])\n",
      "Actual prediction Loss tensor(-0.9580)\n",
      "Predicted through Recurrent input tensor([0, 1, 2, 0, 4, 5, 6, 7, 8, 9])\n",
      "Prediction using External drive tensor([0, 1, 2, 3, 4, 5, 6, 7, 8, 9])\n",
      "Actual prediction Loss tensor(-0.8872)\n"
     ]
    },
    {
     "name": "stderr",
     "output_type": "stream",
     "text": [
      " 64%|███████████████████████████████████████████████▊                           | 12746/20000 [00:37<00:22, 326.82it/s]"
     ]
    },
    {
     "name": "stdout",
     "output_type": "stream",
     "text": [
      "Predicted through Recurrent input tensor([0, 1, 2, 3, 4, 5, 6, 7, 8, 9])\n",
      "Prediction using External drive tensor([0, 1, 2, 3, 4, 5, 6, 7, 8, 9])\n",
      "Actual prediction Loss tensor(-0.9646)\n",
      "Predicted through Recurrent input tensor([0, 1, 2, 3, 4, 5, 6, 7, 8, 9])\n",
      "Prediction using External drive tensor([0, 1, 2, 3, 4, 5, 6, 7, 8, 9])\n",
      "Actual prediction Loss tensor(-0.9286)\n",
      "Predicted through Recurrent input tensor([0, 1, 2, 3, 4, 5, 6, 7, 8, 9])\n",
      "Prediction using External drive tensor([0, 1, 2, 3, 4, 5, 6, 7, 8, 9])\n",
      "Actual prediction Loss tensor(-0.9417)\n",
      "Predicted through Recurrent input tensor([0, 1, 2, 3, 4, 5, 6, 7, 8, 9])\n",
      "Prediction using External drive tensor([0, 1, 2, 3, 4, 5, 6, 7, 8, 9])\n",
      "Actual prediction Loss tensor(-0.9726)\n"
     ]
    },
    {
     "name": "stderr",
     "output_type": "stream",
     "text": [
      " 64%|███████████████████████████████████████████████▉                           | 12780/20000 [00:37<00:22, 325.91it/s]"
     ]
    },
    {
     "name": "stdout",
     "output_type": "stream",
     "text": [
      "Predicted through Recurrent input tensor([0, 1, 2, 3, 4, 5, 6, 7, 8, 9])\n",
      "Prediction using External drive tensor([0, 1, 2, 3, 4, 5, 6, 7, 8, 9])\n",
      "Actual prediction Loss tensor(-0.9697)\n",
      "Predicted through Recurrent input tensor([0, 1, 2, 3, 4, 5, 6, 7, 8, 9])\n",
      "Prediction using External drive tensor([0, 1, 2, 3, 4, 5, 6, 7, 8, 9])\n",
      "Actual prediction Loss tensor(-0.9108)\n",
      "Predicted through Recurrent input tensor([0, 1, 2, 3, 4, 5, 6, 7, 8, 9])\n",
      "Prediction using External drive tensor([0, 1, 2, 3, 4, 5, 6, 7, 8, 9])\n",
      "Actual prediction Loss tensor(-0.9479)\n"
     ]
    },
    {
     "name": "stderr",
     "output_type": "stream",
     "text": [
      " 64%|████████████████████████████████████████████████                           | 12813/20000 [00:37<00:22, 324.24it/s]"
     ]
    },
    {
     "name": "stdout",
     "output_type": "stream",
     "text": [
      "Predicted through Recurrent input tensor([0, 1, 2, 3, 4, 5, 6, 7, 8, 9])\n",
      "Prediction using External drive tensor([0, 1, 2, 3, 4, 5, 6, 7, 8, 9])\n",
      "Actual prediction Loss tensor(-0.9585)\n",
      "Predicted through Recurrent input tensor([0, 1, 2, 0, 4, 5, 6, 7, 8, 9])\n",
      "Prediction using External drive tensor([0, 1, 2, 3, 4, 5, 6, 7, 8, 9])\n",
      "Actual prediction Loss tensor(-0.8885)\n",
      "Predicted through Recurrent input tensor([0, 1, 2, 3, 4, 5, 6, 7, 8, 9])\n",
      "Prediction using External drive tensor([0, 1, 2, 3, 4, 5, 6, 7, 8, 9])\n",
      "Actual prediction Loss tensor(-0.9650)\n"
     ]
    },
    {
     "name": "stderr",
     "output_type": "stream",
     "text": [
      " 64%|████████████████████████████████████████████████▏                          | 12847/20000 [00:37<00:21, 327.86it/s]"
     ]
    },
    {
     "name": "stdout",
     "output_type": "stream",
     "text": [
      "Predicted through Recurrent input tensor([0, 1, 2, 3, 4, 5, 6, 7, 8, 9])\n",
      "Prediction using External drive tensor([0, 1, 2, 3, 4, 5, 6, 7, 8, 9])\n",
      "Actual prediction Loss tensor(-0.9294)\n",
      "Predicted through Recurrent input tensor([0, 1, 2, 3, 4, 5, 6, 7, 8, 9])\n",
      "Prediction using External drive tensor([0, 1, 2, 3, 4, 5, 6, 7, 8, 9])\n",
      "Actual prediction Loss tensor(-0.9424)\n",
      "Predicted through Recurrent input tensor([0, 1, 2, 3, 4, 5, 6, 7, 8, 9])\n",
      "Prediction using External drive tensor([0, 1, 2, 3, 4, 5, 6, 7, 8, 9])\n",
      "Actual prediction Loss tensor(-0.9729)\n",
      "Predicted through Recurrent input tensor([0, 1, 2, 3, 4, 5, 6, 7, 8, 9])\n",
      "Prediction using External drive tensor([0, 1, 2, 3, 4, 5, 6, 7, 8, 9])\n",
      "Actual prediction Loss tensor(-0.9701)\n"
     ]
    },
    {
     "name": "stderr",
     "output_type": "stream",
     "text": [
      " 64%|████████████████████████████████████████████████▎                          | 12880/20000 [00:37<00:22, 321.77it/s]"
     ]
    },
    {
     "name": "stdout",
     "output_type": "stream",
     "text": [
      "Predicted through Recurrent input tensor([0, 1, 2, 3, 4, 5, 6, 7, 8, 9])\n",
      "Prediction using External drive tensor([0, 1, 2, 3, 4, 5, 6, 7, 8, 9])\n",
      "Actual prediction Loss tensor(-0.9120)\n",
      "Predicted through Recurrent input tensor([0, 1, 2, 3, 4, 5, 6, 7, 8, 9])\n",
      "Prediction using External drive tensor([0, 1, 2, 3, 4, 5, 6, 7, 8, 9])\n",
      "Actual prediction Loss tensor(-0.9486)\n",
      "Predicted through Recurrent input tensor([0, 1, 2, 3, 4, 5, 6, 7, 8, 9])\n",
      "Prediction using External drive tensor([0, 1, 2, 3, 4, 5, 6, 7, 8, 9])\n",
      "Actual prediction Loss tensor(-0.9591)\n"
     ]
    },
    {
     "name": "stderr",
     "output_type": "stream",
     "text": [
      " 65%|████████████████████████████████████████████████▍                          | 12913/20000 [00:37<00:21, 324.19it/s]"
     ]
    },
    {
     "name": "stdout",
     "output_type": "stream",
     "text": [
      "Predicted through Recurrent input tensor([0, 1, 2, 0, 4, 5, 6, 7, 8, 9])\n",
      "Prediction using External drive tensor([0, 1, 2, 3, 4, 5, 6, 7, 8, 9])\n",
      "Actual prediction Loss tensor(-0.8897)\n",
      "Predicted through Recurrent input tensor([0, 1, 2, 3, 4, 5, 6, 7, 8, 9])\n",
      "Prediction using External drive tensor([0, 1, 2, 3, 4, 5, 6, 7, 8, 9])\n",
      "Actual prediction Loss tensor(-0.9654)\n",
      "Predicted through Recurrent input tensor([0, 1, 2, 3, 4, 5, 6, 7, 8, 9])\n",
      "Prediction using External drive tensor([0, 1, 2, 3, 4, 5, 6, 7, 8, 9])\n",
      "Actual prediction Loss tensor(-0.9302)\n"
     ]
    },
    {
     "name": "stderr",
     "output_type": "stream",
     "text": [
      " 65%|████████████████████████████████████████████████▌                          | 12949/20000 [00:37<00:21, 333.24it/s]"
     ]
    },
    {
     "name": "stdout",
     "output_type": "stream",
     "text": [
      "Predicted through Recurrent input tensor([0, 1, 2, 3, 4, 5, 6, 7, 8, 9])\n",
      "Prediction using External drive tensor([0, 1, 2, 3, 4, 5, 6, 7, 8, 9])\n",
      "Actual prediction Loss tensor(-0.9431)\n",
      "Predicted through Recurrent input tensor([0, 1, 2, 3, 4, 5, 6, 7, 8, 9])\n",
      "Prediction using External drive tensor([0, 1, 2, 3, 4, 5, 6, 7, 8, 9])\n",
      "Actual prediction Loss tensor(-0.9732)\n",
      "Predicted through Recurrent input tensor([0, 1, 2, 3, 4, 5, 6, 7, 8, 9])\n",
      "Prediction using External drive tensor([0, 1, 2, 3, 4, 5, 6, 7, 8, 9])\n",
      "Actual prediction Loss tensor(-0.9704)\n",
      "Predicted through Recurrent input tensor([0, 1, 2, 3, 4, 5, 6, 7, 8, 9])\n",
      "Prediction using External drive tensor([0, 1, 2, 3, 4, 5, 6, 7, 8, 9])\n",
      "Actual prediction Loss tensor(-0.9131)\n"
     ]
    },
    {
     "name": "stderr",
     "output_type": "stream",
     "text": [
      " 65%|████████████████████████████████████████████████▋                          | 12983/20000 [00:38<00:21, 324.68it/s]"
     ]
    },
    {
     "name": "stdout",
     "output_type": "stream",
     "text": [
      "Predicted through Recurrent input tensor([0, 1, 2, 3, 4, 5, 6, 7, 8, 9])\n",
      "Prediction using External drive tensor([0, 1, 2, 3, 4, 5, 6, 7, 8, 9])\n",
      "Actual prediction Loss tensor(-0.9492)\n",
      "Predicted through Recurrent input tensor([0, 1, 2, 3, 4, 5, 6, 7, 8, 9])\n",
      "Prediction using External drive tensor([0, 1, 2, 3, 4, 5, 6, 7, 8, 9])\n",
      "Actual prediction Loss tensor(-0.9596)\n",
      "Predicted through Recurrent input tensor([0, 1, 2, 0, 4, 5, 6, 7, 8, 9])\n",
      "Prediction using External drive tensor([0, 1, 2, 3, 4, 5, 6, 7, 8, 9])\n",
      "Actual prediction Loss tensor(-0.8910)\n"
     ]
    },
    {
     "name": "stderr",
     "output_type": "stream",
     "text": [
      " 65%|████████████████████████████████████████████████▊                          | 13017/20000 [00:38<00:21, 329.12it/s]"
     ]
    },
    {
     "name": "stdout",
     "output_type": "stream",
     "text": [
      "Predicted through Recurrent input tensor([0, 1, 2, 3, 4, 5, 6, 7, 8, 9])\n",
      "Prediction using External drive tensor([0, 1, 2, 3, 4, 5, 6, 7, 8, 9])\n",
      "Actual prediction Loss tensor(-0.9657)\n",
      "Predicted through Recurrent input tensor([0, 1, 2, 3, 4, 5, 6, 7, 8, 9])\n",
      "Prediction using External drive tensor([0, 1, 2, 3, 4, 5, 6, 7, 8, 9])\n",
      "Actual prediction Loss tensor(-0.9309)\n",
      "Predicted through Recurrent input tensor([0, 1, 2, 3, 4, 5, 6, 7, 8, 9])\n",
      "Prediction using External drive tensor([0, 1, 2, 3, 4, 5, 6, 7, 8, 9])\n",
      "Actual prediction Loss tensor(-0.9438)\n",
      "Predicted through Recurrent input tensor([0, 1, 2, 3, 4, 5, 6, 7, 8, 9])\n",
      "Prediction using External drive tensor([0, 1, 2, 3, 4, 5, 6, 7, 8, 9])\n",
      "Actual prediction Loss tensor(-0.9736)\n"
     ]
    },
    {
     "name": "stderr",
     "output_type": "stream",
     "text": [
      " 65%|████████████████████████████████████████████████▉                          | 13051/20000 [00:38<00:21, 323.77it/s]"
     ]
    },
    {
     "name": "stdout",
     "output_type": "stream",
     "text": [
      "Predicted through Recurrent input tensor([0, 1, 2, 3, 4, 5, 6, 7, 8, 9])\n",
      "Prediction using External drive tensor([0, 1, 2, 3, 4, 5, 6, 7, 8, 9])\n",
      "Actual prediction Loss tensor(-0.9708)\n",
      "Predicted through Recurrent input tensor([0, 1, 2, 3, 4, 5, 6, 7, 8, 9])\n",
      "Prediction using External drive tensor([0, 1, 2, 3, 4, 5, 6, 7, 8, 9])\n",
      "Actual prediction Loss tensor(-0.9142)\n",
      "Predicted through Recurrent input tensor([0, 1, 2, 3, 4, 5, 6, 7, 8, 9])\n",
      "Prediction using External drive tensor([0, 1, 2, 3, 4, 5, 6, 7, 8, 9])\n",
      "Actual prediction Loss tensor(-0.9499)\n"
     ]
    },
    {
     "name": "stderr",
     "output_type": "stream",
     "text": [
      " 65%|█████████████████████████████████████████████████                          | 13086/20000 [00:38<00:20, 331.21it/s]"
     ]
    },
    {
     "name": "stdout",
     "output_type": "stream",
     "text": [
      "Predicted through Recurrent input tensor([0, 1, 2, 3, 4, 5, 6, 7, 8, 9])\n",
      "Prediction using External drive tensor([0, 1, 2, 3, 4, 5, 6, 7, 8, 9])\n",
      "Actual prediction Loss tensor(-0.9601)\n",
      "Predicted through Recurrent input tensor([0, 1, 2, 0, 4, 5, 6, 7, 8, 9])\n",
      "Prediction using External drive tensor([0, 1, 2, 3, 4, 5, 6, 7, 8, 9])\n",
      "Actual prediction Loss tensor(-0.8922)\n",
      "Predicted through Recurrent input tensor([0, 1, 2, 3, 4, 5, 6, 7, 8, 9])\n",
      "Prediction using External drive tensor([0, 1, 2, 3, 4, 5, 6, 7, 8, 9])\n",
      "Actual prediction Loss tensor(-0.9661)\n",
      "Predicted through Recurrent input tensor([0, 1, 2, 3, 4, 5, 6, 7, 8, 9])\n",
      "Prediction using External drive tensor([0, 1, 2, 3, 4, 5, 6, 7, 8, 9])\n",
      "Actual prediction Loss tensor(-0.9317)\n"
     ]
    },
    {
     "name": "stderr",
     "output_type": "stream",
     "text": [
      " 66%|█████████████████████████████████████████████████▏                         | 13120/20000 [00:38<00:21, 325.18it/s]"
     ]
    },
    {
     "name": "stdout",
     "output_type": "stream",
     "text": [
      "Predicted through Recurrent input tensor([0, 1, 2, 3, 4, 5, 6, 7, 8, 9])\n",
      "Prediction using External drive tensor([0, 1, 2, 3, 4, 5, 6, 7, 8, 9])\n",
      "Actual prediction Loss tensor(-0.9445)\n",
      "Predicted through Recurrent input tensor([0, 1, 2, 3, 4, 5, 6, 7, 8, 9])\n",
      "Prediction using External drive tensor([0, 1, 2, 3, 4, 5, 6, 7, 8, 9])\n",
      "Actual prediction Loss tensor(-0.9739)\n",
      "Predicted through Recurrent input tensor([0, 1, 2, 3, 4, 5, 6, 7, 8, 9])\n",
      "Prediction using External drive tensor([0, 1, 2, 3, 4, 5, 6, 7, 8, 9])\n",
      "Actual prediction Loss tensor(-0.9711)\n"
     ]
    },
    {
     "name": "stderr",
     "output_type": "stream",
     "text": [
      " 66%|█████████████████████████████████████████████████▎                         | 13154/20000 [00:38<00:20, 328.54it/s]"
     ]
    },
    {
     "name": "stdout",
     "output_type": "stream",
     "text": [
      "Predicted through Recurrent input tensor([0, 1, 2, 3, 4, 5, 6, 7, 8, 9])\n",
      "Prediction using External drive tensor([0, 1, 2, 3, 4, 5, 6, 7, 8, 9])\n",
      "Actual prediction Loss tensor(-0.9153)\n",
      "Predicted through Recurrent input tensor([0, 1, 2, 3, 4, 5, 6, 7, 8, 9])\n",
      "Prediction using External drive tensor([0, 1, 2, 3, 4, 5, 6, 7, 8, 9])\n",
      "Actual prediction Loss tensor(-0.9506)\n",
      "Predicted through Recurrent input tensor([0, 1, 2, 3, 4, 5, 6, 7, 8, 9])\n",
      "Prediction using External drive tensor([0, 1, 2, 3, 4, 5, 6, 7, 8, 9])\n",
      "Actual prediction Loss tensor(-0.9606)\n",
      "Predicted through Recurrent input tensor([0, 1, 2, 0, 4, 5, 6, 7, 8, 9])\n",
      "Prediction using External drive tensor([0, 1, 2, 3, 4, 5, 6, 7, 8, 9])\n",
      "Actual prediction Loss tensor(-0.8934)\n"
     ]
    },
    {
     "name": "stderr",
     "output_type": "stream",
     "text": [
      " 66%|█████████████████████████████████████████████████▍                         | 13190/20000 [00:38<00:20, 330.87it/s]"
     ]
    },
    {
     "name": "stdout",
     "output_type": "stream",
     "text": [
      "Predicted through Recurrent input tensor([0, 1, 2, 3, 4, 5, 6, 7, 8, 9])\n",
      "Prediction using External drive tensor([0, 1, 2, 3, 4, 5, 6, 7, 8, 9])\n",
      "Actual prediction Loss tensor(-0.9665)\n",
      "Predicted through Recurrent input tensor([0, 1, 2, 3, 4, 5, 6, 7, 8, 9])\n",
      "Prediction using External drive tensor([0, 1, 2, 3, 4, 5, 6, 7, 8, 9])\n",
      "Actual prediction Loss tensor(-0.9324)\n",
      "Predicted through Recurrent input tensor([0, 1, 2, 3, 4, 5, 6, 7, 8, 9])\n",
      "Prediction using External drive tensor([0, 1, 2, 3, 4, 5, 6, 7, 8, 9])\n",
      "Actual prediction Loss tensor(-0.9451)\n"
     ]
    },
    {
     "name": "stderr",
     "output_type": "stream",
     "text": [
      " 66%|█████████████████████████████████████████████████▌                         | 13225/20000 [00:38<00:20, 334.46it/s]"
     ]
    },
    {
     "name": "stdout",
     "output_type": "stream",
     "text": [
      "Predicted through Recurrent input tensor([0, 1, 2, 3, 4, 5, 6, 7, 8, 9])\n",
      "Prediction using External drive tensor([0, 1, 2, 3, 4, 5, 6, 7, 8, 9])\n",
      "Actual prediction Loss tensor(-0.9742)\n",
      "Predicted through Recurrent input tensor([0, 1, 2, 3, 4, 5, 6, 7, 8, 9])\n",
      "Prediction using External drive tensor([0, 1, 2, 3, 4, 5, 6, 7, 8, 9])\n",
      "Actual prediction Loss tensor(-0.9714)\n",
      "Predicted through Recurrent input tensor([0, 1, 2, 3, 4, 5, 6, 7, 8, 9])\n",
      "Prediction using External drive tensor([0, 1, 2, 3, 4, 5, 6, 7, 8, 9])\n",
      "Actual prediction Loss tensor(-0.9164)\n",
      "Predicted through Recurrent input tensor([0, 1, 2, 3, 4, 5, 6, 7, 8, 9])\n",
      "Prediction using External drive tensor([0, 1, 2, 3, 4, 5, 6, 7, 8, 9])\n",
      "Actual prediction Loss tensor(-0.9512)\n"
     ]
    },
    {
     "name": "stderr",
     "output_type": "stream",
     "text": [
      " 66%|█████████████████████████████████████████████████▋                         | 13260/20000 [00:38<00:20, 328.47it/s]"
     ]
    },
    {
     "name": "stdout",
     "output_type": "stream",
     "text": [
      "Predicted through Recurrent input tensor([0, 1, 2, 3, 4, 5, 6, 7, 8, 9])\n",
      "Prediction using External drive tensor([0, 1, 2, 3, 4, 5, 6, 7, 8, 9])\n",
      "Actual prediction Loss tensor(-0.9610)\n",
      "Predicted through Recurrent input tensor([0, 1, 2, 0, 4, 5, 6, 7, 8, 9])\n",
      "Prediction using External drive tensor([0, 1, 2, 3, 4, 5, 6, 7, 8, 9])\n",
      "Actual prediction Loss tensor(-0.8946)\n",
      "Predicted through Recurrent input tensor([0, 1, 2, 3, 4, 5, 6, 7, 8, 9])\n",
      "Prediction using External drive tensor([0, 1, 2, 3, 4, 5, 6, 7, 8, 9])\n",
      "Actual prediction Loss tensor(-0.9668)\n"
     ]
    },
    {
     "name": "stderr",
     "output_type": "stream",
     "text": [
      " 66%|█████████████████████████████████████████████████▊                         | 13294/20000 [00:38<00:20, 329.92it/s]"
     ]
    },
    {
     "name": "stdout",
     "output_type": "stream",
     "text": [
      "Predicted through Recurrent input tensor([0, 1, 2, 3, 4, 5, 6, 7, 8, 9])\n",
      "Prediction using External drive tensor([0, 1, 2, 3, 4, 5, 6, 7, 8, 9])\n",
      "Actual prediction Loss tensor(-0.9331)\n",
      "Predicted through Recurrent input tensor([0, 1, 2, 3, 4, 5, 6, 7, 8, 9])\n",
      "Prediction using External drive tensor([0, 1, 2, 3, 4, 5, 6, 7, 8, 9])\n",
      "Actual prediction Loss tensor(-0.9458)\n",
      "Predicted through Recurrent input tensor([0, 1, 2, 3, 4, 5, 6, 7, 8, 9])\n",
      "Prediction using External drive tensor([0, 1, 2, 3, 4, 5, 6, 7, 8, 9])\n",
      "Actual prediction Loss tensor(-0.9745)\n"
     ]
    },
    {
     "name": "stderr",
     "output_type": "stream",
     "text": [
      " 67%|█████████████████████████████████████████████████▉                         | 13329/20000 [00:39<00:19, 335.69it/s]"
     ]
    },
    {
     "name": "stdout",
     "output_type": "stream",
     "text": [
      "Predicted through Recurrent input tensor([0, 1, 2, 3, 4, 5, 6, 7, 8, 9])\n",
      "Prediction using External drive tensor([0, 1, 2, 3, 4, 5, 6, 7, 8, 9])\n",
      "Actual prediction Loss tensor(-0.9718)\n",
      "Predicted through Recurrent input tensor([0, 1, 2, 3, 4, 5, 6, 7, 8, 9])\n",
      "Prediction using External drive tensor([0, 1, 2, 3, 4, 5, 6, 7, 8, 9])\n",
      "Actual prediction Loss tensor(-0.9175)\n",
      "Predicted through Recurrent input tensor([0, 1, 2, 3, 4, 5, 6, 7, 8, 9])\n",
      "Prediction using External drive tensor([0, 1, 2, 3, 4, 5, 6, 7, 8, 9])\n",
      "Actual prediction Loss tensor(-0.9518)\n",
      "Predicted through Recurrent input tensor([0, 1, 2, 3, 4, 5, 6, 7, 8, 9])\n",
      "Prediction using External drive tensor([0, 1, 2, 3, 4, 5, 6, 7, 8, 9])\n",
      "Actual prediction Loss tensor(-0.9615)\n"
     ]
    },
    {
     "name": "stderr",
     "output_type": "stream",
     "text": [
      " 67%|██████████████████████████████████████████████████                         | 13363/20000 [00:39<00:20, 328.19it/s]"
     ]
    },
    {
     "name": "stdout",
     "output_type": "stream",
     "text": [
      "Predicted through Recurrent input tensor([0, 1, 2, 0, 4, 5, 6, 7, 8, 9])\n",
      "Prediction using External drive tensor([0, 1, 2, 3, 4, 5, 6, 7, 8, 9])\n",
      "Actual prediction Loss tensor(-0.8958)\n",
      "Predicted through Recurrent input tensor([0, 1, 2, 3, 4, 5, 6, 7, 8, 9])\n",
      "Prediction using External drive tensor([0, 1, 2, 3, 4, 5, 6, 7, 8, 9])\n",
      "Actual prediction Loss tensor(-0.9672)\n",
      "Predicted through Recurrent input tensor([0, 1, 2, 3, 4, 5, 6, 7, 8, 9])\n",
      "Prediction using External drive tensor([0, 1, 2, 3, 4, 5, 6, 7, 8, 9])\n",
      "Actual prediction Loss tensor(-0.9338)\n"
     ]
    },
    {
     "name": "stderr",
     "output_type": "stream",
     "text": [
      " 67%|██████████████████████████████████████████████████▏                        | 13396/20000 [00:39<00:20, 327.76it/s]"
     ]
    },
    {
     "name": "stdout",
     "output_type": "stream",
     "text": [
      "Predicted through Recurrent input tensor([0, 1, 2, 3, 4, 5, 6, 7, 8, 9])\n",
      "Prediction using External drive tensor([0, 1, 2, 3, 4, 5, 6, 7, 8, 9])\n",
      "Actual prediction Loss tensor(-0.9464)\n",
      "Predicted through Recurrent input tensor([0, 1, 2, 3, 4, 5, 6, 7, 8, 9])\n",
      "Prediction using External drive tensor([0, 1, 2, 3, 4, 5, 6, 7, 8, 9])\n",
      "Actual prediction Loss tensor(-0.9748)\n",
      "Predicted through Recurrent input tensor([0, 1, 2, 3, 4, 5, 6, 7, 8, 9])\n",
      "Prediction using External drive tensor([0, 1, 2, 3, 4, 5, 6, 7, 8, 9])\n",
      "Actual prediction Loss tensor(-0.9721)\n",
      "Predicted through Recurrent input tensor([0, 1, 2, 3, 4, 5, 6, 7, 8, 9])\n",
      "Prediction using External drive tensor([0, 1, 2, 3, 4, 5, 6, 7, 8, 9])\n",
      "Actual prediction Loss tensor(-0.9185)\n"
     ]
    },
    {
     "name": "stderr",
     "output_type": "stream",
     "text": [
      " 67%|██████████████████████████████████████████████████▎                        | 13430/20000 [00:39<00:20, 324.69it/s]"
     ]
    },
    {
     "name": "stdout",
     "output_type": "stream",
     "text": [
      "Predicted through Recurrent input tensor([0, 1, 2, 3, 4, 5, 6, 7, 8, 9])\n",
      "Prediction using External drive tensor([0, 1, 2, 3, 4, 5, 6, 7, 8, 9])\n",
      "Actual prediction Loss tensor(-0.9524)\n",
      "Predicted through Recurrent input tensor([0, 1, 2, 3, 4, 5, 6, 7, 8, 9])\n",
      "Prediction using External drive tensor([0, 1, 2, 3, 4, 5, 6, 7, 8, 9])\n",
      "Actual prediction Loss tensor(-0.9620)\n",
      "Predicted through Recurrent input tensor([0, 1, 2, 0, 4, 5, 6, 7, 8, 9])\n",
      "Prediction using External drive tensor([0, 1, 2, 3, 4, 5, 6, 7, 8, 9])\n",
      "Actual prediction Loss tensor(-0.8970)\n"
     ]
    },
    {
     "name": "stderr",
     "output_type": "stream",
     "text": [
      " 67%|██████████████████████████████████████████████████▍                        | 13465/20000 [00:39<00:19, 330.01it/s]"
     ]
    },
    {
     "name": "stdout",
     "output_type": "stream",
     "text": [
      "Predicted through Recurrent input tensor([0, 1, 2, 3, 4, 5, 6, 7, 8, 9])\n",
      "Prediction using External drive tensor([0, 1, 2, 3, 4, 5, 6, 7, 8, 9])\n",
      "Actual prediction Loss tensor(-0.9676)\n",
      "Predicted through Recurrent input tensor([0, 1, 2, 3, 4, 5, 6, 7, 8, 9])\n",
      "Prediction using External drive tensor([0, 1, 2, 3, 4, 5, 6, 7, 8, 9])\n",
      "Actual prediction Loss tensor(-0.9345)\n",
      "Predicted through Recurrent input tensor([0, 1, 2, 3, 4, 5, 6, 7, 8, 9])\n",
      "Prediction using External drive tensor([0, 1, 2, 3, 4, 5, 6, 7, 8, 9])\n",
      "Actual prediction Loss tensor(-0.9470)\n",
      "Predicted through Recurrent input tensor([0, 1, 2, 3, 4, 5, 6, 7, 8, 9])\n",
      "Prediction using External drive tensor([0, 1, 2, 3, 4, 5, 6, 7, 8, 9])\n",
      "Actual prediction Loss tensor(-0.9751)\n"
     ]
    },
    {
     "name": "stderr",
     "output_type": "stream",
     "text": [
      " 68%|██████████████████████████████████████████████████▋                        | 13500/20000 [00:39<00:19, 326.37it/s]"
     ]
    },
    {
     "name": "stdout",
     "output_type": "stream",
     "text": [
      "Predicted through Recurrent input tensor([0, 1, 2, 3, 4, 5, 6, 7, 8, 9])\n",
      "Prediction using External drive tensor([0, 1, 2, 3, 4, 5, 6, 7, 8, 9])\n",
      "Actual prediction Loss tensor(-0.9724)\n",
      "Predicted through Recurrent input tensor([0, 1, 2, 3, 4, 5, 6, 7, 8, 9])\n",
      "Prediction using External drive tensor([0, 1, 2, 3, 4, 5, 6, 7, 8, 9])\n",
      "Actual prediction Loss tensor(-0.9195)\n",
      "Predicted through Recurrent input tensor([0, 1, 2, 3, 4, 5, 6, 7, 8, 9])\n",
      "Prediction using External drive tensor([0, 1, 2, 3, 4, 5, 6, 7, 8, 9])\n",
      "Actual prediction Loss tensor(-0.9531)\n"
     ]
    },
    {
     "name": "stderr",
     "output_type": "stream",
     "text": [
      " 68%|██████████████████████████████████████████████████▊                        | 13535/20000 [00:39<00:19, 332.17it/s]"
     ]
    },
    {
     "name": "stdout",
     "output_type": "stream",
     "text": [
      "Predicted through Recurrent input tensor([0, 1, 2, 3, 4, 5, 6, 7, 8, 9])\n",
      "Prediction using External drive tensor([0, 1, 2, 3, 4, 5, 6, 7, 8, 9])\n",
      "Actual prediction Loss tensor(-0.9624)\n",
      "Predicted through Recurrent input tensor([0, 1, 2, 0, 4, 5, 6, 7, 8, 9])\n",
      "Prediction using External drive tensor([0, 1, 2, 3, 4, 5, 6, 7, 8, 9])\n",
      "Actual prediction Loss tensor(-0.8981)\n",
      "Predicted through Recurrent input tensor([0, 1, 2, 3, 4, 5, 6, 7, 8, 9])\n",
      "Prediction using External drive tensor([0, 1, 2, 3, 4, 5, 6, 7, 8, 9])\n",
      "Actual prediction Loss tensor(-0.9679)\n",
      "Predicted through Recurrent input tensor([0, 1, 2, 3, 4, 5, 6, 7, 8, 9])\n",
      "Prediction using External drive tensor([0, 1, 2, 3, 4, 5, 6, 7, 8, 9])\n",
      "Actual prediction Loss tensor(-0.9352)\n"
     ]
    },
    {
     "name": "stderr",
     "output_type": "stream",
     "text": [
      " 68%|██████████████████████████████████████████████████▉                        | 13570/20000 [00:39<00:19, 329.70it/s]"
     ]
    },
    {
     "name": "stdout",
     "output_type": "stream",
     "text": [
      "Predicted through Recurrent input tensor([0, 1, 2, 3, 4, 5, 6, 7, 8, 9])\n",
      "Prediction using External drive tensor([0, 1, 2, 3, 4, 5, 6, 7, 8, 9])\n",
      "Actual prediction Loss tensor(-0.9476)\n",
      "Predicted through Recurrent input tensor([0, 1, 2, 3, 4, 5, 6, 7, 8, 9])\n",
      "Prediction using External drive tensor([0, 1, 2, 3, 4, 5, 6, 7, 8, 9])\n",
      "Actual prediction Loss tensor(-0.9754)\n",
      "Predicted through Recurrent input tensor([0, 1, 2, 3, 4, 5, 6, 7, 8, 9])\n",
      "Prediction using External drive tensor([0, 1, 2, 3, 4, 5, 6, 7, 8, 9])\n",
      "Actual prediction Loss tensor(-0.9727)\n"
     ]
    },
    {
     "name": "stderr",
     "output_type": "stream",
     "text": [
      " 68%|███████████████████████████████████████████████████                        | 13604/20000 [00:39<00:19, 328.86it/s]"
     ]
    },
    {
     "name": "stdout",
     "output_type": "stream",
     "text": [
      "Predicted through Recurrent input tensor([0, 1, 2, 3, 4, 5, 6, 7, 8, 9])\n",
      "Prediction using External drive tensor([0, 1, 2, 3, 4, 5, 6, 7, 8, 9])\n",
      "Actual prediction Loss tensor(-0.9205)\n",
      "Predicted through Recurrent input tensor([0, 1, 2, 3, 4, 5, 6, 7, 8, 9])\n",
      "Prediction using External drive tensor([0, 1, 2, 3, 4, 5, 6, 7, 8, 9])\n",
      "Actual prediction Loss tensor(-0.9536)\n",
      "Predicted through Recurrent input tensor([0, 1, 2, 3, 4, 5, 6, 7, 8, 9])\n",
      "Prediction using External drive tensor([0, 1, 2, 3, 4, 5, 6, 7, 8, 9])\n",
      "Actual prediction Loss tensor(-0.9629)\n",
      "Predicted through Recurrent input tensor([0, 1, 2, 0, 4, 5, 6, 7, 8, 9])\n",
      "Prediction using External drive tensor([0, 1, 2, 3, 4, 5, 6, 7, 8, 9])\n",
      "Actual prediction Loss tensor(-0.8992)\n"
     ]
    },
    {
     "name": "stderr",
     "output_type": "stream",
     "text": [
      " 68%|███████████████████████████████████████████████████▏                       | 13640/20000 [00:40<00:19, 328.38it/s]"
     ]
    },
    {
     "name": "stdout",
     "output_type": "stream",
     "text": [
      "Predicted through Recurrent input tensor([0, 1, 2, 3, 4, 5, 6, 7, 8, 9])\n",
      "Prediction using External drive tensor([0, 1, 2, 3, 4, 5, 6, 7, 8, 9])\n",
      "Actual prediction Loss tensor(-0.9682)\n",
      "Predicted through Recurrent input tensor([0, 1, 2, 3, 4, 5, 6, 7, 8, 9])\n",
      "Prediction using External drive tensor([0, 1, 2, 3, 4, 5, 6, 7, 8, 9])\n",
      "Actual prediction Loss tensor(-0.9359)\n",
      "Predicted through Recurrent input tensor([0, 1, 2, 3, 4, 5, 6, 7, 8, 9])\n",
      "Prediction using External drive tensor([0, 1, 2, 3, 4, 5, 6, 7, 8, 9])\n",
      "Actual prediction Loss tensor(-0.9482)\n"
     ]
    },
    {
     "name": "stderr",
     "output_type": "stream",
     "text": [
      " 68%|███████████████████████████████████████████████████▎                       | 13674/20000 [00:40<00:19, 329.85it/s]"
     ]
    },
    {
     "name": "stdout",
     "output_type": "stream",
     "text": [
      "Predicted through Recurrent input tensor([0, 1, 2, 3, 4, 5, 6, 7, 8, 9])\n",
      "Prediction using External drive tensor([0, 1, 2, 3, 4, 5, 6, 7, 8, 9])\n",
      "Actual prediction Loss tensor(-0.9757)\n",
      "Predicted through Recurrent input tensor([0, 1, 2, 3, 4, 5, 6, 7, 8, 9])\n",
      "Prediction using External drive tensor([0, 1, 2, 3, 4, 5, 6, 7, 8, 9])\n",
      "Actual prediction Loss tensor(-0.9730)\n",
      "Predicted through Recurrent input tensor([0, 1, 2, 3, 4, 5, 6, 7, 8, 9])\n",
      "Prediction using External drive tensor([0, 1, 2, 3, 4, 5, 6, 7, 8, 9])\n",
      "Actual prediction Loss tensor(-0.9215)\n",
      "Predicted through Recurrent input tensor([0, 1, 2, 3, 4, 5, 6, 7, 8, 9])\n",
      "Prediction using External drive tensor([0, 1, 2, 3, 4, 5, 6, 7, 8, 9])\n",
      "Actual prediction Loss tensor(-0.9542)\n"
     ]
    },
    {
     "name": "stderr",
     "output_type": "stream",
     "text": [
      " 69%|███████████████████████████████████████████████████▍                       | 13710/20000 [00:40<00:19, 329.98it/s]"
     ]
    },
    {
     "name": "stdout",
     "output_type": "stream",
     "text": [
      "Predicted through Recurrent input tensor([0, 1, 2, 3, 4, 5, 6, 7, 8, 9])\n",
      "Prediction using External drive tensor([0, 1, 2, 3, 4, 5, 6, 7, 8, 9])\n",
      "Actual prediction Loss tensor(-0.9633)\n",
      "Predicted through Recurrent input tensor([0, 1, 2, 0, 4, 5, 6, 7, 8, 9])\n",
      "Prediction using External drive tensor([0, 1, 2, 3, 4, 5, 6, 7, 8, 9])\n",
      "Actual prediction Loss tensor(-0.9003)\n",
      "Predicted through Recurrent input tensor([0, 1, 2, 3, 4, 5, 6, 7, 8, 9])\n",
      "Prediction using External drive tensor([0, 1, 2, 3, 4, 5, 6, 7, 8, 9])\n",
      "Actual prediction Loss tensor(-0.9686)\n"
     ]
    },
    {
     "name": "stderr",
     "output_type": "stream",
     "text": [
      " 69%|███████████████████████████████████████████████████▌                       | 13744/20000 [00:40<00:18, 332.92it/s]"
     ]
    },
    {
     "name": "stdout",
     "output_type": "stream",
     "text": [
      "Predicted through Recurrent input tensor([0, 1, 2, 3, 4, 5, 6, 7, 8, 9])\n",
      "Prediction using External drive tensor([0, 1, 2, 3, 4, 5, 6, 7, 8, 9])\n",
      "Actual prediction Loss tensor(-0.9365)\n",
      "Predicted through Recurrent input tensor([0, 1, 2, 3, 4, 5, 6, 7, 8, 9])\n",
      "Prediction using External drive tensor([0, 1, 2, 3, 4, 5, 6, 7, 8, 9])\n",
      "Actual prediction Loss tensor(-0.9488)\n",
      "Predicted through Recurrent input tensor([0, 1, 2, 3, 4, 5, 6, 7, 8, 9])\n",
      "Prediction using External drive tensor([0, 1, 2, 3, 4, 5, 6, 7, 8, 9])\n",
      "Actual prediction Loss tensor(-0.9760)\n",
      "Predicted through Recurrent input tensor([0, 1, 2, 3, 4, 5, 6, 7, 8, 9])\n",
      "Prediction using External drive tensor([0, 1, 2, 3, 4, 5, 6, 7, 8, 9])\n",
      "Actual prediction Loss tensor(-0.9733)\n"
     ]
    },
    {
     "name": "stderr",
     "output_type": "stream",
     "text": [
      " 69%|███████████████████████████████████████████████████▋                       | 13780/20000 [00:40<00:18, 334.90it/s]"
     ]
    },
    {
     "name": "stdout",
     "output_type": "stream",
     "text": [
      "Predicted through Recurrent input tensor([0, 1, 2, 3, 4, 5, 6, 7, 8, 9])\n",
      "Prediction using External drive tensor([0, 1, 2, 3, 4, 5, 6, 7, 8, 9])\n",
      "Actual prediction Loss tensor(-0.9225)\n",
      "Predicted through Recurrent input tensor([0, 1, 2, 3, 4, 5, 6, 7, 8, 9])\n",
      "Prediction using External drive tensor([0, 1, 2, 3, 4, 5, 6, 7, 8, 9])\n",
      "Actual prediction Loss tensor(-0.9548)\n",
      "Predicted through Recurrent input tensor([0, 1, 2, 3, 4, 5, 6, 7, 8, 9])\n",
      "Prediction using External drive tensor([0, 1, 2, 3, 4, 5, 6, 7, 8, 9])\n",
      "Actual prediction Loss tensor(-0.9638)\n"
     ]
    },
    {
     "name": "stderr",
     "output_type": "stream",
     "text": [
      " 69%|███████████████████████████████████████████████████▊                       | 13814/20000 [00:40<00:18, 335.42it/s]"
     ]
    },
    {
     "name": "stdout",
     "output_type": "stream",
     "text": [
      "Predicted through Recurrent input tensor([0, 1, 2, 0, 4, 5, 6, 7, 8, 9])\n",
      "Prediction using External drive tensor([0, 1, 2, 3, 4, 5, 6, 7, 8, 9])\n",
      "Actual prediction Loss tensor(-0.9014)\n",
      "Predicted through Recurrent input tensor([0, 1, 2, 3, 4, 5, 6, 7, 8, 9])\n",
      "Prediction using External drive tensor([0, 1, 2, 3, 4, 5, 6, 7, 8, 9])\n",
      "Actual prediction Loss tensor(-0.9689)\n",
      "Predicted through Recurrent input tensor([0, 1, 2, 3, 4, 5, 6, 7, 8, 9])\n",
      "Prediction using External drive tensor([0, 1, 2, 3, 4, 5, 6, 7, 8, 9])\n",
      "Actual prediction Loss tensor(-0.9372)\n"
     ]
    },
    {
     "name": "stderr",
     "output_type": "stream",
     "text": [
      " 69%|███████████████████████████████████████████████████▉                       | 13849/20000 [00:40<00:18, 339.67it/s]"
     ]
    },
    {
     "name": "stdout",
     "output_type": "stream",
     "text": [
      "Predicted through Recurrent input tensor([0, 1, 2, 3, 4, 5, 6, 7, 8, 9])\n",
      "Prediction using External drive tensor([0, 1, 2, 3, 4, 5, 6, 7, 8, 9])\n",
      "Actual prediction Loss tensor(-0.9494)\n",
      "Predicted through Recurrent input tensor([0, 1, 2, 3, 4, 5, 6, 7, 8, 9])\n",
      "Prediction using External drive tensor([0, 1, 2, 3, 4, 5, 6, 7, 8, 9])\n",
      "Actual prediction Loss tensor(-0.9763)\n",
      "Predicted through Recurrent input tensor([0, 1, 2, 3, 4, 5, 6, 7, 8, 9])\n",
      "Prediction using External drive tensor([0, 1, 2, 3, 4, 5, 6, 7, 8, 9])\n",
      "Actual prediction Loss tensor(-0.9736)\n",
      "Predicted through Recurrent input tensor([0, 1, 2, 3, 4, 5, 6, 7, 8, 9])\n",
      "Prediction using External drive tensor([0, 1, 2, 3, 4, 5, 6, 7, 8, 9])\n",
      "Actual prediction Loss tensor(-0.9234)\n"
     ]
    },
    {
     "name": "stderr",
     "output_type": "stream",
     "text": [
      " 69%|████████████████████████████████████████████████████                       | 13883/20000 [00:40<00:18, 328.92it/s]"
     ]
    },
    {
     "name": "stdout",
     "output_type": "stream",
     "text": [
      "Predicted through Recurrent input tensor([0, 1, 2, 3, 4, 5, 6, 7, 8, 9])\n",
      "Prediction using External drive tensor([0, 1, 2, 3, 4, 5, 6, 7, 8, 9])\n",
      "Actual prediction Loss tensor(-0.9554)\n",
      "Predicted through Recurrent input tensor([0, 1, 2, 3, 4, 5, 6, 7, 8, 9])\n",
      "Prediction using External drive tensor([0, 1, 2, 3, 4, 5, 6, 7, 8, 9])\n",
      "Actual prediction Loss tensor(-0.9642)\n",
      "Predicted through Recurrent input tensor([0, 1, 2, 0, 4, 5, 6, 7, 8, 9])\n",
      "Prediction using External drive tensor([0, 1, 2, 3, 4, 5, 6, 7, 8, 9])\n",
      "Actual prediction Loss tensor(-0.9025)\n",
      "Predicted through Recurrent input tensor([0, 1, 2, 3, 4, 5, 6, 7, 8, 9])\n",
      "Prediction using External drive tensor([0, 1, 2, 3, 4, 5, 6, 7, 8, 9])\n",
      "Actual prediction Loss tensor(-0.9692)\n"
     ]
    },
    {
     "name": "stderr",
     "output_type": "stream",
     "text": [
      " 70%|████████████████████████████████████████████████████▏                      | 13920/20000 [00:40<00:18, 331.12it/s]"
     ]
    },
    {
     "name": "stdout",
     "output_type": "stream",
     "text": [
      "Predicted through Recurrent input tensor([0, 1, 2, 3, 4, 5, 6, 7, 8, 9])\n",
      "Prediction using External drive tensor([0, 1, 2, 3, 4, 5, 6, 7, 8, 9])\n",
      "Actual prediction Loss tensor(-0.9378)\n",
      "Predicted through Recurrent input tensor([0, 1, 2, 3, 4, 5, 6, 7, 8, 9])\n",
      "Prediction using External drive tensor([0, 1, 2, 3, 4, 5, 6, 7, 8, 9])\n",
      "Actual prediction Loss tensor(-0.9500)\n",
      "Predicted through Recurrent input tensor([0, 1, 2, 3, 4, 5, 6, 7, 8, 9])\n",
      "Prediction using External drive tensor([0, 1, 2, 3, 4, 5, 6, 7, 8, 9])\n",
      "Actual prediction Loss tensor(-0.9765)\n"
     ]
    },
    {
     "name": "stderr",
     "output_type": "stream",
     "text": [
      " 70%|████████████████████████████████████████████████████▎                      | 13954/20000 [00:40<00:18, 331.78it/s]"
     ]
    },
    {
     "name": "stdout",
     "output_type": "stream",
     "text": [
      "Predicted through Recurrent input tensor([0, 1, 2, 3, 4, 5, 6, 7, 8, 9])\n",
      "Prediction using External drive tensor([0, 1, 2, 3, 4, 5, 6, 7, 8, 9])\n",
      "Actual prediction Loss tensor(-0.9739)\n",
      "Predicted through Recurrent input tensor([0, 1, 2, 3, 4, 5, 6, 7, 8, 9])\n",
      "Prediction using External drive tensor([0, 1, 2, 3, 4, 5, 6, 7, 8, 9])\n",
      "Actual prediction Loss tensor(-0.9243)\n",
      "Predicted through Recurrent input tensor([0, 1, 2, 3, 4, 5, 6, 7, 8, 9])\n",
      "Prediction using External drive tensor([0, 1, 2, 3, 4, 5, 6, 7, 8, 9])\n",
      "Actual prediction Loss tensor(-0.9559)\n",
      "Predicted through Recurrent input tensor([0, 1, 2, 3, 4, 5, 6, 7, 8, 9])\n",
      "Prediction using External drive tensor([0, 1, 2, 3, 4, 5, 6, 7, 8, 9])\n",
      "Actual prediction Loss tensor(-0.9646)\n"
     ]
    },
    {
     "name": "stderr",
     "output_type": "stream",
     "text": [
      " 70%|████████████████████████████████████████████████████▍                      | 13990/20000 [00:41<00:18, 330.41it/s]"
     ]
    },
    {
     "name": "stdout",
     "output_type": "stream",
     "text": [
      "Predicted through Recurrent input tensor([0, 1, 2, 0, 4, 5, 6, 7, 8, 9])\n",
      "Prediction using External drive tensor([0, 1, 2, 3, 4, 5, 6, 7, 8, 9])\n",
      "Actual prediction Loss tensor(-0.9036)\n",
      "Predicted through Recurrent input tensor([0, 1, 2, 3, 4, 5, 6, 7, 8, 9])\n",
      "Prediction using External drive tensor([0, 1, 2, 3, 4, 5, 6, 7, 8, 9])\n",
      "Actual prediction Loss tensor(-0.9695)\n",
      "Predicted through Recurrent input tensor([0, 1, 2, 3, 4, 5, 6, 7, 8, 9])\n",
      "Prediction using External drive tensor([0, 1, 2, 3, 4, 5, 6, 7, 8, 9])\n",
      "Actual prediction Loss tensor(-0.9385)\n"
     ]
    },
    {
     "name": "stderr",
     "output_type": "stream",
     "text": [
      " 70%|████████████████████████████████████████████████████▌                      | 14024/20000 [00:41<00:18, 331.29it/s]"
     ]
    },
    {
     "name": "stdout",
     "output_type": "stream",
     "text": [
      "Predicted through Recurrent input tensor([0, 1, 2, 3, 4, 5, 6, 7, 8, 9])\n",
      "Prediction using External drive tensor([0, 1, 2, 3, 4, 5, 6, 7, 8, 9])\n",
      "Actual prediction Loss tensor(-0.9505)\n",
      "Predicted through Recurrent input tensor([0, 1, 2, 3, 4, 5, 6, 7, 8, 9])\n",
      "Prediction using External drive tensor([0, 1, 2, 3, 4, 5, 6, 7, 8, 9])\n",
      "Actual prediction Loss tensor(-0.9768)\n",
      "Predicted through Recurrent input tensor([0, 1, 2, 3, 4, 5, 6, 7, 8, 9])\n",
      "Prediction using External drive tensor([0, 1, 2, 3, 4, 5, 6, 7, 8, 9])\n",
      "Actual prediction Loss tensor(-0.9742)\n"
     ]
    },
    {
     "name": "stderr",
     "output_type": "stream",
     "text": [
      " 70%|████████████████████████████████████████████████████▋                      | 14058/20000 [00:41<00:17, 332.87it/s]"
     ]
    },
    {
     "name": "stdout",
     "output_type": "stream",
     "text": [
      "Predicted through Recurrent input tensor([0, 1, 2, 3, 4, 5, 6, 7, 8, 9])\n",
      "Prediction using External drive tensor([0, 1, 2, 3, 4, 5, 6, 7, 8, 9])\n",
      "Actual prediction Loss tensor(-0.9253)\n",
      "Predicted through Recurrent input tensor([0, 1, 2, 3, 4, 5, 6, 7, 8, 9])\n",
      "Prediction using External drive tensor([0, 1, 2, 3, 4, 5, 6, 7, 8, 9])\n",
      "Actual prediction Loss tensor(-0.9565)\n",
      "Predicted through Recurrent input tensor([0, 1, 2, 3, 4, 5, 6, 7, 8, 9])\n",
      "Prediction using External drive tensor([0, 1, 2, 3, 4, 5, 6, 7, 8, 9])\n",
      "Actual prediction Loss tensor(-0.9650)\n",
      "Predicted through Recurrent input tensor([0, 1, 2, 0, 4, 5, 6, 7, 8, 9])\n",
      "Prediction using External drive tensor([0, 1, 2, 3, 4, 5, 6, 7, 8, 9])\n",
      "Actual prediction Loss tensor(-0.9046)\n"
     ]
    },
    {
     "name": "stderr",
     "output_type": "stream",
     "text": [
      " 70%|████████████████████████████████████████████████████▊                      | 14092/20000 [00:41<00:18, 325.36it/s]"
     ]
    },
    {
     "name": "stdout",
     "output_type": "stream",
     "text": [
      "Predicted through Recurrent input tensor([0, 1, 2, 3, 4, 5, 6, 7, 8, 9])\n",
      "Prediction using External drive tensor([0, 1, 2, 3, 4, 5, 6, 7, 8, 9])\n",
      "Actual prediction Loss tensor(-0.9699)\n",
      "Predicted through Recurrent input tensor([0, 1, 2, 3, 4, 5, 6, 7, 8, 9])\n",
      "Prediction using External drive tensor([0, 1, 2, 3, 4, 5, 6, 7, 8, 9])\n",
      "Actual prediction Loss tensor(-0.9391)\n",
      "Predicted through Recurrent input tensor([0, 1, 2, 3, 4, 5, 6, 7, 8, 9])\n",
      "Prediction using External drive tensor([0, 1, 2, 3, 4, 5, 6, 7, 8, 9])\n",
      "Actual prediction Loss tensor(-0.9511)\n"
     ]
    },
    {
     "name": "stderr",
     "output_type": "stream",
     "text": [
      " 71%|████████████████████████████████████████████████████▉                      | 14126/20000 [00:41<00:17, 329.62it/s]"
     ]
    },
    {
     "name": "stdout",
     "output_type": "stream",
     "text": [
      "Predicted through Recurrent input tensor([0, 1, 2, 3, 4, 5, 6, 7, 8, 9])\n",
      "Prediction using External drive tensor([0, 1, 2, 3, 4, 5, 6, 7, 8, 9])\n",
      "Actual prediction Loss tensor(-0.9771)\n",
      "Predicted through Recurrent input tensor([0, 1, 2, 3, 4, 5, 6, 7, 8, 9])\n",
      "Prediction using External drive tensor([0, 1, 2, 3, 4, 5, 6, 7, 8, 9])\n",
      "Actual prediction Loss tensor(-0.9745)\n",
      "Predicted through Recurrent input tensor([0, 1, 2, 3, 4, 5, 6, 7, 8, 9])\n",
      "Prediction using External drive tensor([0, 1, 2, 3, 4, 5, 6, 7, 8, 9])\n",
      "Actual prediction Loss tensor(-0.9262)\n",
      "Predicted through Recurrent input tensor([0, 1, 2, 3, 4, 5, 6, 7, 8, 9])\n",
      "Prediction using External drive tensor([0, 1, 2, 3, 4, 5, 6, 7, 8, 9])\n",
      "Actual prediction Loss tensor(-0.9570)\n"
     ]
    },
    {
     "name": "stderr",
     "output_type": "stream",
     "text": [
      " 71%|█████████████████████████████████████████████████████                      | 14160/20000 [00:41<00:18, 323.18it/s]"
     ]
    },
    {
     "name": "stdout",
     "output_type": "stream",
     "text": [
      "Predicted through Recurrent input tensor([0, 1, 2, 3, 4, 5, 6, 7, 8, 9])\n",
      "Prediction using External drive tensor([0, 1, 2, 3, 4, 5, 6, 7, 8, 9])\n",
      "Actual prediction Loss tensor(-0.9654)\n",
      "Predicted through Recurrent input tensor([0, 1, 2, 0, 4, 5, 6, 7, 8, 9])\n",
      "Prediction using External drive tensor([0, 1, 2, 3, 4, 5, 6, 7, 8, 9])\n",
      "Actual prediction Loss tensor(-0.9056)\n",
      "Predicted through Recurrent input tensor([0, 1, 2, 3, 4, 5, 6, 7, 8, 9])\n",
      "Prediction using External drive tensor([0, 1, 2, 3, 4, 5, 6, 7, 8, 9])\n",
      "Actual prediction Loss tensor(-0.9702)\n"
     ]
    },
    {
     "name": "stderr",
     "output_type": "stream",
     "text": [
      " 71%|█████████████████████████████████████████████████████▏                     | 14193/20000 [00:41<00:17, 324.24it/s]"
     ]
    },
    {
     "name": "stdout",
     "output_type": "stream",
     "text": [
      "Predicted through Recurrent input tensor([0, 1, 2, 3, 4, 5, 6, 7, 8, 9])\n",
      "Prediction using External drive tensor([0, 1, 2, 3, 4, 5, 6, 7, 8, 9])\n",
      "Actual prediction Loss tensor(-0.9397)\n",
      "Predicted through Recurrent input tensor([0, 1, 2, 3, 4, 5, 6, 7, 8, 9])\n",
      "Prediction using External drive tensor([0, 1, 2, 3, 4, 5, 6, 7, 8, 9])\n",
      "Actual prediction Loss tensor(-0.9516)\n",
      "Predicted through Recurrent input tensor([0, 1, 2, 3, 4, 5, 6, 7, 8, 9])\n",
      "Prediction using External drive tensor([0, 1, 2, 3, 4, 5, 6, 7, 8, 9])\n",
      "Actual prediction Loss tensor(-0.9773)\n",
      "Predicted through Recurrent input tensor([0, 1, 2, 3, 4, 5, 6, 7, 8, 9])\n",
      "Prediction using External drive tensor([0, 1, 2, 3, 4, 5, 6, 7, 8, 9])\n",
      "Actual prediction Loss tensor(-0.9748)\n"
     ]
    },
    {
     "name": "stderr",
     "output_type": "stream",
     "text": [
      " 71%|█████████████████████████████████████████████████████▎                     | 14230/20000 [00:41<00:17, 330.42it/s]"
     ]
    },
    {
     "name": "stdout",
     "output_type": "stream",
     "text": [
      "Predicted through Recurrent input tensor([0, 1, 2, 3, 4, 5, 6, 7, 8, 9])\n",
      "Prediction using External drive tensor([0, 1, 2, 3, 4, 5, 6, 7, 8, 9])\n",
      "Actual prediction Loss tensor(-0.9270)\n",
      "Predicted through Recurrent input tensor([0, 1, 2, 3, 4, 5, 6, 7, 8, 9])\n",
      "Prediction using External drive tensor([0, 1, 2, 3, 4, 5, 6, 7, 8, 9])\n",
      "Actual prediction Loss tensor(-0.9575)\n",
      "Predicted through Recurrent input tensor([0, 1, 2, 3, 4, 5, 6, 7, 8, 9])\n",
      "Prediction using External drive tensor([0, 1, 2, 3, 4, 5, 6, 7, 8, 9])\n",
      "Actual prediction Loss tensor(-0.9658)\n"
     ]
    },
    {
     "name": "stderr",
     "output_type": "stream",
     "text": [
      " 71%|█████████████████████████████████████████████████████▍                     | 14265/20000 [00:41<00:17, 335.09it/s]"
     ]
    },
    {
     "name": "stdout",
     "output_type": "stream",
     "text": [
      "Predicted through Recurrent input tensor([0, 1, 2, 0, 4, 5, 6, 7, 8, 9])\n",
      "Prediction using External drive tensor([0, 1, 2, 3, 4, 5, 6, 7, 8, 9])\n",
      "Actual prediction Loss tensor(-0.9066)\n",
      "Predicted through Recurrent input tensor([0, 1, 2, 3, 4, 5, 6, 7, 8, 9])\n",
      "Prediction using External drive tensor([0, 1, 2, 3, 4, 5, 6, 7, 8, 9])\n",
      "Actual prediction Loss tensor(-0.9705)\n",
      "Predicted through Recurrent input tensor([0, 1, 2, 3, 4, 5, 6, 7, 8, 9])\n",
      "Prediction using External drive tensor([0, 1, 2, 3, 4, 5, 6, 7, 8, 9])\n",
      "Actual prediction Loss tensor(-0.9403)\n",
      "Predicted through Recurrent input tensor([0, 1, 2, 3, 4, 5, 6, 7, 8, 9])\n",
      "Prediction using External drive tensor([0, 1, 2, 3, 4, 5, 6, 7, 8, 9])\n",
      "Actual prediction Loss tensor(-0.9521)\n"
     ]
    },
    {
     "name": "stderr",
     "output_type": "stream",
     "text": [
      " 72%|█████████████████████████████████████████████████████▋                     | 14300/20000 [00:42<00:17, 329.83it/s]"
     ]
    },
    {
     "name": "stdout",
     "output_type": "stream",
     "text": [
      "Predicted through Recurrent input tensor([0, 1, 2, 3, 4, 5, 6, 7, 8, 9])\n",
      "Prediction using External drive tensor([0, 1, 2, 3, 4, 5, 6, 7, 8, 9])\n",
      "Actual prediction Loss tensor(-0.9776)\n",
      "Predicted through Recurrent input tensor([0, 1, 2, 3, 4, 5, 6, 7, 8, 9])\n",
      "Prediction using External drive tensor([0, 1, 2, 3, 4, 5, 6, 7, 8, 9])\n",
      "Actual prediction Loss tensor(-0.9750)\n",
      "Predicted through Recurrent input tensor([0, 1, 2, 3, 4, 5, 6, 7, 8, 9])\n",
      "Prediction using External drive tensor([0, 1, 2, 3, 4, 5, 6, 7, 8, 9])\n",
      "Actual prediction Loss tensor(-0.9279)\n"
     ]
    },
    {
     "name": "stderr",
     "output_type": "stream",
     "text": [
      " 72%|█████████████████████████████████████████████████████▊                     | 14335/20000 [00:42<00:17, 332.76it/s]"
     ]
    },
    {
     "name": "stdout",
     "output_type": "stream",
     "text": [
      "Predicted through Recurrent input tensor([0, 1, 2, 3, 4, 5, 6, 7, 8, 9])\n",
      "Prediction using External drive tensor([0, 1, 2, 3, 4, 5, 6, 7, 8, 9])\n",
      "Actual prediction Loss tensor(-0.9580)\n",
      "Predicted through Recurrent input tensor([0, 1, 2, 3, 4, 5, 6, 7, 8, 9])\n",
      "Prediction using External drive tensor([0, 1, 2, 3, 4, 5, 6, 7, 8, 9])\n",
      "Actual prediction Loss tensor(-0.9662)\n",
      "Predicted through Recurrent input tensor([0, 1, 2, 0, 4, 5, 6, 7, 8, 9])\n",
      "Prediction using External drive tensor([0, 1, 2, 3, 4, 5, 6, 7, 8, 9])\n",
      "Actual prediction Loss tensor(-0.9076)\n",
      "Predicted through Recurrent input tensor([0, 1, 2, 3, 4, 5, 6, 7, 8, 9])\n",
      "Prediction using External drive tensor([0, 1, 2, 3, 4, 5, 6, 7, 8, 9])\n",
      "Actual prediction Loss tensor(-0.9708)\n"
     ]
    },
    {
     "name": "stderr",
     "output_type": "stream",
     "text": [
      " 72%|█████████████████████████████████████████████████████▉                     | 14370/20000 [00:42<00:16, 331.98it/s]"
     ]
    },
    {
     "name": "stdout",
     "output_type": "stream",
     "text": [
      "Predicted through Recurrent input tensor([0, 1, 2, 3, 4, 5, 6, 7, 8, 9])\n",
      "Prediction using External drive tensor([0, 1, 2, 3, 4, 5, 6, 7, 8, 9])\n",
      "Actual prediction Loss tensor(-0.9409)\n",
      "Predicted through Recurrent input tensor([0, 1, 2, 3, 4, 5, 6, 7, 8, 9])\n",
      "Prediction using External drive tensor([0, 1, 2, 3, 4, 5, 6, 7, 8, 9])\n",
      "Actual prediction Loss tensor(-0.9527)\n",
      "Predicted through Recurrent input tensor([0, 1, 2, 3, 4, 5, 6, 7, 8, 9])\n",
      "Prediction using External drive tensor([0, 1, 2, 3, 4, 5, 6, 7, 8, 9])\n",
      "Actual prediction Loss tensor(-0.9778)\n"
     ]
    },
    {
     "name": "stderr",
     "output_type": "stream",
     "text": [
      " 72%|██████████████████████████████████████████████████████                     | 14404/20000 [00:42<00:16, 330.45it/s]"
     ]
    },
    {
     "name": "stdout",
     "output_type": "stream",
     "text": [
      "Predicted through Recurrent input tensor([0, 1, 2, 3, 4, 5, 6, 7, 8, 9])\n",
      "Prediction using External drive tensor([0, 1, 2, 3, 4, 5, 6, 7, 8, 9])\n",
      "Actual prediction Loss tensor(-0.9753)\n",
      "Predicted through Recurrent input tensor([0, 1, 2, 3, 4, 5, 6, 7, 8, 9])\n",
      "Prediction using External drive tensor([0, 1, 2, 3, 4, 5, 6, 7, 8, 9])\n",
      "Actual prediction Loss tensor(-0.9288)\n",
      "Predicted through Recurrent input tensor([0, 1, 2, 3, 4, 5, 6, 7, 8, 9])\n",
      "Prediction using External drive tensor([0, 1, 2, 3, 4, 5, 6, 7, 8, 9])\n",
      "Actual prediction Loss tensor(-0.9585)\n",
      "Predicted through Recurrent input tensor([0, 1, 2, 3, 4, 5, 6, 7, 8, 9])\n",
      "Prediction using External drive tensor([0, 1, 2, 3, 4, 5, 6, 7, 8, 9])\n",
      "Actual prediction Loss tensor(-0.9666)\n"
     ]
    },
    {
     "name": "stderr",
     "output_type": "stream",
     "text": [
      " 72%|██████████████████████████████████████████████████████▏                    | 14440/20000 [00:42<00:16, 329.49it/s]"
     ]
    },
    {
     "name": "stdout",
     "output_type": "stream",
     "text": [
      "Predicted through Recurrent input tensor([0, 1, 2, 0, 4, 5, 6, 7, 8, 9])\n",
      "Prediction using External drive tensor([0, 1, 2, 3, 4, 5, 6, 7, 8, 9])\n",
      "Actual prediction Loss tensor(-0.9086)\n",
      "Predicted through Recurrent input tensor([0, 1, 2, 3, 4, 5, 6, 7, 8, 9])\n",
      "Prediction using External drive tensor([0, 1, 2, 3, 4, 5, 6, 7, 8, 9])\n",
      "Actual prediction Loss tensor(-0.9711)\n",
      "Predicted through Recurrent input tensor([0, 1, 2, 3, 4, 5, 6, 7, 8, 9])\n",
      "Prediction using External drive tensor([0, 1, 2, 3, 4, 5, 6, 7, 8, 9])\n",
      "Actual prediction Loss tensor(-0.9415)\n"
     ]
    },
    {
     "name": "stderr",
     "output_type": "stream",
     "text": [
      " 72%|██████████████████████████████████████████████████████▎                    | 14474/20000 [00:42<00:16, 332.57it/s]"
     ]
    },
    {
     "name": "stdout",
     "output_type": "stream",
     "text": [
      "Predicted through Recurrent input tensor([0, 1, 2, 3, 4, 5, 6, 7, 8, 9])\n",
      "Prediction using External drive tensor([0, 1, 2, 3, 4, 5, 6, 7, 8, 9])\n",
      "Actual prediction Loss tensor(-0.9532)\n",
      "Predicted through Recurrent input tensor([0, 1, 2, 3, 4, 5, 6, 7, 8, 9])\n",
      "Prediction using External drive tensor([0, 1, 2, 3, 4, 5, 6, 7, 8, 9])\n",
      "Actual prediction Loss tensor(-0.9781)\n",
      "Predicted through Recurrent input tensor([0, 1, 2, 3, 4, 5, 6, 7, 8, 9])\n",
      "Prediction using External drive tensor([0, 1, 2, 3, 4, 5, 6, 7, 8, 9])\n",
      "Actual prediction Loss tensor(-0.9756)\n",
      "Predicted through Recurrent input tensor([0, 1, 2, 3, 4, 5, 6, 7, 8, 9])\n",
      "Prediction using External drive tensor([0, 1, 2, 3, 4, 5, 6, 7, 8, 9])\n",
      "Actual prediction Loss tensor(-0.9296)\n"
     ]
    },
    {
     "name": "stderr",
     "output_type": "stream",
     "text": [
      " 73%|██████████████████████████████████████████████████████▍                    | 14510/20000 [00:42<00:16, 329.15it/s]"
     ]
    },
    {
     "name": "stdout",
     "output_type": "stream",
     "text": [
      "Predicted through Recurrent input tensor([0, 1, 2, 3, 4, 5, 6, 7, 8, 9])\n",
      "Prediction using External drive tensor([0, 1, 2, 3, 4, 5, 6, 7, 8, 9])\n",
      "Actual prediction Loss tensor(-0.9590)\n",
      "Predicted through Recurrent input tensor([0, 1, 2, 3, 4, 5, 6, 7, 8, 9])\n",
      "Prediction using External drive tensor([0, 1, 2, 3, 4, 5, 6, 7, 8, 9])\n",
      "Actual prediction Loss tensor(-0.9670)\n",
      "Predicted through Recurrent input tensor([0, 1, 2, 0, 4, 5, 6, 7, 8, 9])\n",
      "Prediction using External drive tensor([0, 1, 2, 3, 4, 5, 6, 7, 8, 9])\n",
      "Actual prediction Loss tensor(-0.9096)\n"
     ]
    },
    {
     "name": "stderr",
     "output_type": "stream",
     "text": [
      " 73%|██████████████████████████████████████████████████████▌                    | 14544/20000 [00:42<00:16, 331.36it/s]"
     ]
    },
    {
     "name": "stdout",
     "output_type": "stream",
     "text": [
      "Predicted through Recurrent input tensor([0, 1, 2, 3, 4, 5, 6, 7, 8, 9])\n",
      "Prediction using External drive tensor([0, 1, 2, 3, 4, 5, 6, 7, 8, 9])\n",
      "Actual prediction Loss tensor(-0.9713)\n",
      "Predicted through Recurrent input tensor([0, 1, 2, 3, 4, 5, 6, 7, 8, 9])\n",
      "Prediction using External drive tensor([0, 1, 2, 3, 4, 5, 6, 7, 8, 9])\n",
      "Actual prediction Loss tensor(-0.9421)\n",
      "Predicted through Recurrent input tensor([0, 1, 2, 3, 4, 5, 6, 7, 8, 9])\n",
      "Prediction using External drive tensor([0, 1, 2, 3, 4, 5, 6, 7, 8, 9])\n",
      "Actual prediction Loss tensor(-0.9537)\n"
     ]
    },
    {
     "name": "stderr",
     "output_type": "stream",
     "text": [
      " 73%|██████████████████████████████████████████████████████▋                    | 14578/20000 [00:42<00:16, 333.91it/s]"
     ]
    },
    {
     "name": "stdout",
     "output_type": "stream",
     "text": [
      "Predicted through Recurrent input tensor([0, 1, 2, 3, 4, 5, 6, 7, 8, 9])\n",
      "Prediction using External drive tensor([0, 1, 2, 3, 4, 5, 6, 7, 8, 9])\n",
      "Actual prediction Loss tensor(-0.9783)\n",
      "Predicted through Recurrent input tensor([0, 1, 2, 3, 4, 5, 6, 7, 8, 9])\n",
      "Prediction using External drive tensor([0, 1, 2, 3, 4, 5, 6, 7, 8, 9])\n",
      "Actual prediction Loss tensor(-0.9758)\n",
      "Predicted through Recurrent input tensor([0, 1, 2, 3, 4, 5, 6, 7, 8, 9])\n",
      "Prediction using External drive tensor([0, 1, 2, 3, 4, 5, 6, 7, 8, 9])\n",
      "Actual prediction Loss tensor(-0.9304)\n",
      "Predicted through Recurrent input tensor([0, 1, 2, 3, 4, 5, 6, 7, 8, 9])\n",
      "Prediction using External drive tensor([0, 1, 2, 3, 4, 5, 6, 7, 8, 9])\n",
      "Actual prediction Loss tensor(-0.9595)\n"
     ]
    },
    {
     "name": "stderr",
     "output_type": "stream",
     "text": [
      " 73%|██████████████████████████████████████████████████████▊                    | 14612/20000 [00:42<00:16, 326.99it/s]"
     ]
    },
    {
     "name": "stdout",
     "output_type": "stream",
     "text": [
      "Predicted through Recurrent input tensor([0, 1, 2, 3, 4, 5, 6, 7, 8, 9])\n",
      "Prediction using External drive tensor([0, 1, 2, 3, 4, 5, 6, 7, 8, 9])\n",
      "Actual prediction Loss tensor(-0.9673)\n",
      "Predicted through Recurrent input tensor([0, 1, 2, 0, 4, 5, 6, 7, 8, 9])\n",
      "Prediction using External drive tensor([0, 1, 2, 3, 4, 5, 6, 7, 8, 9])\n",
      "Actual prediction Loss tensor(-0.9105)\n",
      "Predicted through Recurrent input tensor([0, 1, 2, 3, 4, 5, 6, 7, 8, 9])\n",
      "Prediction using External drive tensor([0, 1, 2, 3, 4, 5, 6, 7, 8, 9])\n",
      "Actual prediction Loss tensor(-0.9716)\n"
     ]
    },
    {
     "name": "stderr",
     "output_type": "stream",
     "text": [
      " 73%|██████████████████████████████████████████████████████▉                    | 14647/20000 [00:43<00:16, 332.62it/s]"
     ]
    },
    {
     "name": "stdout",
     "output_type": "stream",
     "text": [
      "Predicted through Recurrent input tensor([0, 1, 2, 3, 4, 5, 6, 7, 8, 9])\n",
      "Prediction using External drive tensor([0, 1, 2, 3, 4, 5, 6, 7, 8, 9])\n",
      "Actual prediction Loss tensor(-0.9426)\n",
      "Predicted through Recurrent input tensor([0, 1, 2, 3, 4, 5, 6, 7, 8, 9])\n",
      "Prediction using External drive tensor([0, 1, 2, 3, 4, 5, 6, 7, 8, 9])\n",
      "Actual prediction Loss tensor(-0.9542)\n",
      "Predicted through Recurrent input tensor([0, 1, 2, 3, 4, 5, 6, 7, 8, 9])\n",
      "Prediction using External drive tensor([0, 1, 2, 3, 4, 5, 6, 7, 8, 9])\n",
      "Actual prediction Loss tensor(-0.9786)\n",
      "Predicted through Recurrent input tensor([0, 1, 2, 3, 4, 5, 6, 7, 8, 9])\n",
      "Prediction using External drive tensor([0, 1, 2, 3, 4, 5, 6, 7, 8, 9])\n",
      "Actual prediction Loss tensor(-0.9761)\n"
     ]
    },
    {
     "name": "stderr",
     "output_type": "stream",
     "text": [
      " 73%|███████████████████████████████████████████████████████                    | 14681/20000 [00:43<00:16, 326.13it/s]"
     ]
    },
    {
     "name": "stdout",
     "output_type": "stream",
     "text": [
      "Predicted through Recurrent input tensor([0, 1, 2, 3, 4, 5, 6, 7, 8, 9])\n",
      "Prediction using External drive tensor([0, 1, 2, 3, 4, 5, 6, 7, 8, 9])\n",
      "Actual prediction Loss tensor(-0.9312)\n",
      "Predicted through Recurrent input tensor([0, 1, 2, 3, 4, 5, 6, 7, 8, 9])\n",
      "Prediction using External drive tensor([0, 1, 2, 3, 4, 5, 6, 7, 8, 9])\n",
      "Actual prediction Loss tensor(-0.9600)\n",
      "Predicted through Recurrent input tensor([0, 1, 2, 3, 4, 5, 6, 7, 8, 9])\n",
      "Prediction using External drive tensor([0, 1, 2, 3, 4, 5, 6, 7, 8, 9])\n",
      "Actual prediction Loss tensor(-0.9677)\n"
     ]
    },
    {
     "name": "stderr",
     "output_type": "stream",
     "text": [
      " 74%|███████████████████████████████████████████████████████▏                   | 14714/20000 [00:43<00:16, 324.38it/s]"
     ]
    },
    {
     "name": "stdout",
     "output_type": "stream",
     "text": [
      "Predicted through Recurrent input tensor([0, 1, 2, 0, 4, 5, 6, 7, 8, 9])\n",
      "Prediction using External drive tensor([0, 1, 2, 3, 4, 5, 6, 7, 8, 9])\n",
      "Actual prediction Loss tensor(-0.9114)\n",
      "Predicted through Recurrent input tensor([0, 1, 2, 3, 4, 5, 6, 7, 8, 9])\n",
      "Prediction using External drive tensor([0, 1, 2, 3, 4, 5, 6, 7, 8, 9])\n",
      "Actual prediction Loss tensor(-0.9719)\n",
      "Predicted through Recurrent input tensor([0, 1, 2, 3, 4, 5, 6, 7, 8, 9])\n",
      "Prediction using External drive tensor([0, 1, 2, 3, 4, 5, 6, 7, 8, 9])\n",
      "Actual prediction Loss tensor(-0.9432)\n"
     ]
    },
    {
     "name": "stderr",
     "output_type": "stream",
     "text": [
      " 74%|███████████████████████████████████████████████████████▎                   | 14747/20000 [00:43<00:16, 325.09it/s]"
     ]
    },
    {
     "name": "stdout",
     "output_type": "stream",
     "text": [
      "Predicted through Recurrent input tensor([0, 1, 2, 3, 4, 5, 6, 7, 8, 9])\n",
      "Prediction using External drive tensor([0, 1, 2, 3, 4, 5, 6, 7, 8, 9])\n",
      "Actual prediction Loss tensor(-0.9547)\n",
      "Predicted through Recurrent input tensor([0, 1, 2, 3, 4, 5, 6, 7, 8, 9])\n",
      "Prediction using External drive tensor([0, 1, 2, 3, 4, 5, 6, 7, 8, 9])\n",
      "Actual prediction Loss tensor(-0.9788)\n",
      "Predicted through Recurrent input tensor([0, 1, 2, 3, 4, 5, 6, 7, 8, 9])\n",
      "Prediction using External drive tensor([0, 1, 2, 3, 4, 5, 6, 7, 8, 9])\n",
      "Actual prediction Loss tensor(-0.9763)\n",
      "Predicted through Recurrent input tensor([0, 1, 2, 3, 4, 5, 6, 7, 8, 9])\n",
      "Prediction using External drive tensor([0, 1, 2, 3, 4, 5, 6, 7, 8, 9])\n",
      "Actual prediction Loss tensor(-0.9320)\n"
     ]
    },
    {
     "name": "stderr",
     "output_type": "stream",
     "text": [
      " 74%|███████████████████████████████████████████████████████▍                   | 14780/20000 [00:43<00:16, 318.05it/s]"
     ]
    },
    {
     "name": "stdout",
     "output_type": "stream",
     "text": [
      "Predicted through Recurrent input tensor([0, 1, 2, 3, 4, 5, 6, 7, 8, 9])\n",
      "Prediction using External drive tensor([0, 1, 2, 3, 4, 5, 6, 7, 8, 9])\n",
      "Actual prediction Loss tensor(-0.9604)\n",
      "Predicted through Recurrent input tensor([0, 1, 2, 3, 4, 5, 6, 7, 8, 9])\n",
      "Prediction using External drive tensor([0, 1, 2, 3, 4, 5, 6, 7, 8, 9])\n",
      "Actual prediction Loss tensor(-0.9681)\n",
      "Predicted through Recurrent input tensor([0, 1, 2, 0, 4, 5, 6, 7, 8, 9])\n",
      "Prediction using External drive tensor([0, 1, 2, 3, 4, 5, 6, 7, 8, 9])\n",
      "Actual prediction Loss tensor(-0.9123)\n"
     ]
    },
    {
     "name": "stderr",
     "output_type": "stream",
     "text": [
      " 74%|███████████████████████████████████████████████████████▌                   | 14813/20000 [00:43<00:16, 321.54it/s]"
     ]
    },
    {
     "name": "stdout",
     "output_type": "stream",
     "text": [
      "Predicted through Recurrent input tensor([0, 1, 2, 3, 4, 5, 6, 7, 8, 9])\n",
      "Prediction using External drive tensor([0, 1, 2, 3, 4, 5, 6, 7, 8, 9])\n",
      "Actual prediction Loss tensor(-0.9722)\n",
      "Predicted through Recurrent input tensor([0, 1, 2, 3, 4, 5, 6, 7, 8, 9])\n",
      "Prediction using External drive tensor([0, 1, 2, 3, 4, 5, 6, 7, 8, 9])\n",
      "Actual prediction Loss tensor(-0.9438)\n",
      "Predicted through Recurrent input tensor([0, 1, 2, 3, 4, 5, 6, 7, 8, 9])\n",
      "Prediction using External drive tensor([0, 1, 2, 3, 4, 5, 6, 7, 8, 9])\n",
      "Actual prediction Loss tensor(-0.9552)\n"
     ]
    },
    {
     "name": "stderr",
     "output_type": "stream",
     "text": [
      " 74%|███████████████████████████████████████████████████████▋                   | 14847/20000 [00:43<00:15, 324.99it/s]"
     ]
    },
    {
     "name": "stdout",
     "output_type": "stream",
     "text": [
      "Predicted through Recurrent input tensor([0, 1, 2, 3, 4, 5, 6, 7, 8, 9])\n",
      "Prediction using External drive tensor([0, 1, 2, 3, 4, 5, 6, 7, 8, 9])\n",
      "Actual prediction Loss tensor(-0.9790)\n",
      "Predicted through Recurrent input tensor([0, 1, 2, 3, 4, 5, 6, 7, 8, 9])\n",
      "Prediction using External drive tensor([0, 1, 2, 3, 4, 5, 6, 7, 8, 9])\n",
      "Actual prediction Loss tensor(-0.9766)\n",
      "Predicted through Recurrent input tensor([0, 1, 2, 3, 4, 5, 6, 7, 8, 9])\n",
      "Prediction using External drive tensor([0, 1, 2, 3, 4, 5, 6, 7, 8, 9])\n",
      "Actual prediction Loss tensor(-0.9328)\n",
      "Predicted through Recurrent input tensor([0, 1, 2, 3, 4, 5, 6, 7, 8, 9])\n",
      "Prediction using External drive tensor([0, 1, 2, 3, 4, 5, 6, 7, 8, 9])\n",
      "Actual prediction Loss tensor(-0.9609)\n"
     ]
    },
    {
     "name": "stderr",
     "output_type": "stream",
     "text": [
      " 74%|███████████████████████████████████████████████████████▊                   | 14880/20000 [00:43<00:16, 318.91it/s]"
     ]
    },
    {
     "name": "stdout",
     "output_type": "stream",
     "text": [
      "Predicted through Recurrent input tensor([0, 1, 2, 3, 4, 5, 6, 7, 8, 9])\n",
      "Prediction using External drive tensor([0, 1, 2, 3, 4, 5, 6, 7, 8, 9])\n",
      "Actual prediction Loss tensor(-0.9684)\n",
      "Predicted through Recurrent input tensor([0, 1, 2, 0, 4, 5, 6, 7, 8, 9])\n",
      "Prediction using External drive tensor([0, 1, 2, 3, 4, 5, 6, 7, 8, 9])\n",
      "Actual prediction Loss tensor(-0.9133)\n",
      "Predicted through Recurrent input tensor([0, 1, 2, 3, 4, 5, 6, 7, 8, 9])\n",
      "Prediction using External drive tensor([0, 1, 2, 3, 4, 5, 6, 7, 8, 9])\n",
      "Actual prediction Loss tensor(-0.9725)\n"
     ]
    },
    {
     "name": "stderr",
     "output_type": "stream",
     "text": [
      " 75%|███████████████████████████████████████████████████████▉                   | 14913/20000 [00:43<00:15, 322.15it/s]"
     ]
    },
    {
     "name": "stdout",
     "output_type": "stream",
     "text": [
      "Predicted through Recurrent input tensor([0, 1, 2, 3, 4, 5, 6, 7, 8, 9])\n",
      "Prediction using External drive tensor([0, 1, 2, 3, 4, 5, 6, 7, 8, 9])\n",
      "Actual prediction Loss tensor(-0.9443)\n",
      "Predicted through Recurrent input tensor([0, 1, 2, 3, 4, 5, 6, 7, 8, 9])\n",
      "Prediction using External drive tensor([0, 1, 2, 3, 4, 5, 6, 7, 8, 9])\n",
      "Actual prediction Loss tensor(-0.9556)\n",
      "Predicted through Recurrent input tensor([0, 1, 2, 3, 4, 5, 6, 7, 8, 9])\n",
      "Prediction using External drive tensor([0, 1, 2, 3, 4, 5, 6, 7, 8, 9])\n",
      "Actual prediction Loss tensor(-0.9793)\n"
     ]
    },
    {
     "name": "stderr",
     "output_type": "stream",
     "text": [
      " 75%|████████████████████████████████████████████████████████                   | 14948/20000 [00:44<00:15, 328.18it/s]"
     ]
    },
    {
     "name": "stdout",
     "output_type": "stream",
     "text": [
      "Predicted through Recurrent input tensor([0, 1, 2, 3, 4, 5, 6, 7, 8, 9])\n",
      "Prediction using External drive tensor([0, 1, 2, 3, 4, 5, 6, 7, 8, 9])\n",
      "Actual prediction Loss tensor(-0.9768)\n",
      "Predicted through Recurrent input tensor([0, 1, 2, 3, 4, 5, 6, 7, 8, 9])\n",
      "Prediction using External drive tensor([0, 1, 2, 3, 4, 5, 6, 7, 8, 9])\n",
      "Actual prediction Loss tensor(-0.9336)\n",
      "Predicted through Recurrent input tensor([0, 1, 2, 3, 4, 5, 6, 7, 8, 9])\n",
      "Prediction using External drive tensor([0, 1, 2, 3, 4, 5, 6, 7, 8, 9])\n",
      "Actual prediction Loss tensor(-0.9613)\n",
      "Predicted through Recurrent input tensor([0, 1, 2, 3, 4, 5, 6, 7, 8, 9])\n",
      "Prediction using External drive tensor([0, 1, 2, 3, 4, 5, 6, 7, 8, 9])\n",
      "Actual prediction Loss tensor(-0.9688)\n"
     ]
    },
    {
     "name": "stderr",
     "output_type": "stream",
     "text": [
      " 75%|████████████████████████████████████████████████████████▏                  | 14981/20000 [00:44<00:15, 321.04it/s]"
     ]
    },
    {
     "name": "stdout",
     "output_type": "stream",
     "text": [
      "Predicted through Recurrent input tensor([0, 1, 2, 0, 4, 5, 6, 7, 8, 9])\n",
      "Prediction using External drive tensor([0, 1, 2, 3, 4, 5, 6, 7, 8, 9])\n",
      "Actual prediction Loss tensor(-0.9141)\n",
      "Predicted through Recurrent input tensor([0, 1, 2, 3, 4, 5, 6, 7, 8, 9])\n",
      "Prediction using External drive tensor([0, 1, 2, 3, 4, 5, 6, 7, 8, 9])\n",
      "Actual prediction Loss tensor(-0.9727)\n",
      "Predicted through Recurrent input tensor([0, 1, 2, 3, 4, 5, 6, 7, 8, 9])\n",
      "Prediction using External drive tensor([0, 1, 2, 3, 4, 5, 6, 7, 8, 9])\n",
      "Actual prediction Loss tensor(-0.9448)\n"
     ]
    },
    {
     "name": "stderr",
     "output_type": "stream",
     "text": [
      " 75%|████████████████████████████████████████████████████████▎                  | 15015/20000 [00:44<00:15, 325.57it/s]"
     ]
    },
    {
     "name": "stdout",
     "output_type": "stream",
     "text": [
      "Predicted through Recurrent input tensor([0, 1, 2, 3, 4, 5, 6, 7, 8, 9])\n",
      "Prediction using External drive tensor([0, 1, 2, 3, 4, 5, 6, 7, 8, 9])\n",
      "Actual prediction Loss tensor(-0.9561)\n",
      "Predicted through Recurrent input tensor([0, 1, 2, 3, 4, 5, 6, 7, 8, 9])\n",
      "Prediction using External drive tensor([0, 1, 2, 3, 4, 5, 6, 7, 8, 9])\n",
      "Actual prediction Loss tensor(-0.9795)\n",
      "Predicted through Recurrent input tensor([0, 1, 2, 3, 4, 5, 6, 7, 8, 9])\n",
      "Prediction using External drive tensor([0, 1, 2, 3, 4, 5, 6, 7, 8, 9])\n",
      "Actual prediction Loss tensor(-0.9771)\n",
      "Predicted through Recurrent input tensor([0, 1, 2, 3, 4, 5, 6, 7, 8, 9])\n",
      "Prediction using External drive tensor([0, 1, 2, 3, 4, 5, 6, 7, 8, 9])\n",
      "Actual prediction Loss tensor(-0.9343)\n"
     ]
    },
    {
     "name": "stderr",
     "output_type": "stream",
     "text": [
      " 75%|████████████████████████████████████████████████████████▍                  | 15050/20000 [00:44<00:15, 322.42it/s]"
     ]
    },
    {
     "name": "stdout",
     "output_type": "stream",
     "text": [
      "Predicted through Recurrent input tensor([0, 1, 2, 3, 4, 5, 6, 7, 8, 9])\n",
      "Prediction using External drive tensor([0, 1, 2, 3, 4, 5, 6, 7, 8, 9])\n",
      "Actual prediction Loss tensor(-0.9618)\n",
      "Predicted through Recurrent input tensor([0, 1, 2, 3, 4, 5, 6, 7, 8, 9])\n",
      "Prediction using External drive tensor([0, 1, 2, 3, 4, 5, 6, 7, 8, 9])\n",
      "Actual prediction Loss tensor(-0.9691)\n",
      "Predicted through Recurrent input tensor([0, 1, 2, 0, 4, 5, 6, 7, 8, 9])\n",
      "Prediction using External drive tensor([0, 1, 2, 3, 4, 5, 6, 7, 8, 9])\n",
      "Actual prediction Loss tensor(-0.9150)\n"
     ]
    },
    {
     "name": "stderr",
     "output_type": "stream",
     "text": [
      " 75%|████████████████████████████████████████████████████████▌                  | 15083/20000 [00:44<00:15, 323.70it/s]"
     ]
    },
    {
     "name": "stdout",
     "output_type": "stream",
     "text": [
      "Predicted through Recurrent input tensor([0, 1, 2, 3, 4, 5, 6, 7, 8, 9])\n",
      "Prediction using External drive tensor([0, 1, 2, 3, 4, 5, 6, 7, 8, 9])\n",
      "Actual prediction Loss tensor(-0.9730)\n",
      "Predicted through Recurrent input tensor([0, 1, 2, 3, 4, 5, 6, 7, 8, 9])\n",
      "Prediction using External drive tensor([0, 1, 2, 3, 4, 5, 6, 7, 8, 9])\n",
      "Actual prediction Loss tensor(-0.9454)\n",
      "Predicted through Recurrent input tensor([0, 1, 2, 3, 4, 5, 6, 7, 8, 9])\n",
      "Prediction using External drive tensor([0, 1, 2, 3, 4, 5, 6, 7, 8, 9])\n",
      "Actual prediction Loss tensor(-0.9566)\n"
     ]
    },
    {
     "name": "stderr",
     "output_type": "stream",
     "text": [
      " 76%|████████████████████████████████████████████████████████▋                  | 15116/20000 [00:44<00:15, 322.70it/s]"
     ]
    },
    {
     "name": "stdout",
     "output_type": "stream",
     "text": [
      "Predicted through Recurrent input tensor([0, 1, 2, 3, 4, 5, 6, 7, 8, 9])\n",
      "Prediction using External drive tensor([0, 1, 2, 3, 4, 5, 6, 7, 8, 9])\n",
      "Actual prediction Loss tensor(-0.9797)\n",
      "Predicted through Recurrent input tensor([0, 1, 2, 3, 4, 5, 6, 7, 8, 9])\n",
      "Prediction using External drive tensor([0, 1, 2, 3, 4, 5, 6, 7, 8, 9])\n",
      "Actual prediction Loss tensor(-0.9773)\n",
      "Predicted through Recurrent input tensor([0, 1, 2, 3, 4, 5, 6, 7, 8, 9])\n",
      "Prediction using External drive tensor([0, 1, 2, 3, 4, 5, 6, 7, 8, 9])\n",
      "Actual prediction Loss tensor(-0.9350)\n",
      "Predicted through Recurrent input tensor([0, 1, 2, 3, 4, 5, 6, 7, 8, 9])\n",
      "Prediction using External drive tensor([0, 1, 2, 3, 4, 5, 6, 7, 8, 9])\n",
      "Actual prediction Loss tensor(-0.9622)\n"
     ]
    },
    {
     "name": "stderr",
     "output_type": "stream",
     "text": [
      " 76%|████████████████████████████████████████████████████████▊                  | 15150/20000 [00:44<00:15, 322.12it/s]"
     ]
    },
    {
     "name": "stdout",
     "output_type": "stream",
     "text": [
      "Predicted through Recurrent input tensor([0, 1, 2, 3, 4, 5, 6, 7, 8, 9])\n",
      "Prediction using External drive tensor([0, 1, 2, 3, 4, 5, 6, 7, 8, 9])\n",
      "Actual prediction Loss tensor(-0.9695)\n",
      "Predicted through Recurrent input tensor([0, 1, 2, 0, 4, 5, 6, 7, 8, 9])\n",
      "Prediction using External drive tensor([0, 1, 2, 3, 4, 5, 6, 7, 8, 9])\n",
      "Actual prediction Loss tensor(-0.9159)\n",
      "Predicted through Recurrent input tensor([0, 1, 2, 3, 4, 5, 6, 7, 8, 9])\n",
      "Prediction using External drive tensor([0, 1, 2, 3, 4, 5, 6, 7, 8, 9])\n",
      "Actual prediction Loss tensor(-0.9733)\n"
     ]
    },
    {
     "name": "stderr",
     "output_type": "stream",
     "text": [
      " 76%|████████████████████████████████████████████████████████▉                  | 15183/20000 [00:44<00:14, 324.44it/s]"
     ]
    },
    {
     "name": "stdout",
     "output_type": "stream",
     "text": [
      "Predicted through Recurrent input tensor([0, 1, 2, 3, 4, 5, 6, 7, 8, 9])\n",
      "Prediction using External drive tensor([0, 1, 2, 3, 4, 5, 6, 7, 8, 9])\n",
      "Actual prediction Loss tensor(-0.9459)\n",
      "Predicted through Recurrent input tensor([0, 1, 2, 3, 4, 5, 6, 7, 8, 9])\n",
      "Prediction using External drive tensor([0, 1, 2, 3, 4, 5, 6, 7, 8, 9])\n",
      "Actual prediction Loss tensor(-0.9570)\n",
      "Predicted through Recurrent input tensor([0, 1, 2, 3, 4, 5, 6, 7, 8, 9])\n",
      "Prediction using External drive tensor([0, 1, 2, 3, 4, 5, 6, 7, 8, 9])\n",
      "Actual prediction Loss tensor(-0.9799)\n"
     ]
    },
    {
     "name": "stderr",
     "output_type": "stream",
     "text": [
      " 76%|█████████████████████████████████████████████████████████                  | 15218/20000 [00:44<00:14, 330.77it/s]"
     ]
    },
    {
     "name": "stdout",
     "output_type": "stream",
     "text": [
      "Predicted through Recurrent input tensor([0, 1, 2, 3, 4, 5, 6, 7, 8, 9])\n",
      "Prediction using External drive tensor([0, 1, 2, 3, 4, 5, 6, 7, 8, 9])\n",
      "Actual prediction Loss tensor(-0.9775)\n",
      "Predicted through Recurrent input tensor([0, 1, 2, 3, 4, 5, 6, 7, 8, 9])\n",
      "Prediction using External drive tensor([0, 1, 2, 3, 4, 5, 6, 7, 8, 9])\n",
      "Actual prediction Loss tensor(-0.9358)\n",
      "Predicted through Recurrent input tensor([0, 1, 2, 3, 4, 5, 6, 7, 8, 9])\n",
      "Prediction using External drive tensor([0, 1, 2, 3, 4, 5, 6, 7, 8, 9])\n",
      "Actual prediction Loss tensor(-0.9627)\n",
      "Predicted through Recurrent input tensor([0, 1, 2, 3, 4, 5, 6, 7, 8, 9])\n",
      "Prediction using External drive tensor([0, 1, 2, 3, 4, 5, 6, 7, 8, 9])\n",
      "Actual prediction Loss tensor(-0.9698)\n"
     ]
    },
    {
     "name": "stderr",
     "output_type": "stream",
     "text": [
      " 76%|█████████████████████████████████████████████████████████▏                 | 15252/20000 [00:44<00:14, 323.95it/s]"
     ]
    },
    {
     "name": "stdout",
     "output_type": "stream",
     "text": [
      "Predicted through Recurrent input tensor([0, 1, 2, 0, 4, 5, 6, 7, 8, 9])\n",
      "Prediction using External drive tensor([0, 1, 2, 3, 4, 5, 6, 7, 8, 9])\n",
      "Actual prediction Loss tensor(-0.9167)\n",
      "Predicted through Recurrent input tensor([0, 1, 2, 3, 4, 5, 6, 7, 8, 9])\n",
      "Prediction using External drive tensor([0, 1, 2, 3, 4, 5, 6, 7, 8, 9])\n",
      "Actual prediction Loss tensor(-0.9735)\n",
      "Predicted through Recurrent input tensor([0, 1, 2, 3, 4, 5, 6, 7, 8, 9])\n",
      "Prediction using External drive tensor([0, 1, 2, 3, 4, 5, 6, 7, 8, 9])\n",
      "Actual prediction Loss tensor(-0.9464)\n"
     ]
    },
    {
     "name": "stderr",
     "output_type": "stream",
     "text": [
      " 76%|█████████████████████████████████████████████████████████▎                 | 15285/20000 [00:45<00:14, 323.82it/s]"
     ]
    },
    {
     "name": "stdout",
     "output_type": "stream",
     "text": [
      "Predicted through Recurrent input tensor([0, 1, 2, 3, 4, 5, 6, 7, 8, 9])\n",
      "Prediction using External drive tensor([0, 1, 2, 3, 4, 5, 6, 7, 8, 9])\n",
      "Actual prediction Loss tensor(-0.9575)\n",
      "Predicted through Recurrent input tensor([0, 1, 2, 3, 4, 5, 6, 7, 8, 9])\n",
      "Prediction using External drive tensor([0, 1, 2, 3, 4, 5, 6, 7, 8, 9])\n",
      "Actual prediction Loss tensor(-0.9802)\n",
      "Predicted through Recurrent input tensor([0, 1, 2, 3, 4, 5, 6, 7, 8, 9])\n",
      "Prediction using External drive tensor([0, 1, 2, 3, 4, 5, 6, 7, 8, 9])\n",
      "Actual prediction Loss tensor(-0.9778)\n",
      "Predicted through Recurrent input tensor([0, 1, 2, 3, 4, 5, 6, 7, 8, 9])\n",
      "Prediction using External drive tensor([0, 1, 2, 3, 4, 5, 6, 7, 8, 9])\n",
      "Actual prediction Loss tensor(-0.9365)\n"
     ]
    },
    {
     "name": "stderr",
     "output_type": "stream",
     "text": [
      " 77%|█████████████████████████████████████████████████████████▍                 | 15320/20000 [00:45<00:14, 322.11it/s]"
     ]
    },
    {
     "name": "stdout",
     "output_type": "stream",
     "text": [
      "Predicted through Recurrent input tensor([0, 1, 2, 3, 4, 5, 6, 7, 8, 9])\n",
      "Prediction using External drive tensor([0, 1, 2, 3, 4, 5, 6, 7, 8, 9])\n",
      "Actual prediction Loss tensor(-0.9631)\n",
      "Predicted through Recurrent input tensor([0, 1, 2, 3, 4, 5, 6, 7, 8, 9])\n",
      "Prediction using External drive tensor([0, 1, 2, 3, 4, 5, 6, 7, 8, 9])\n",
      "Actual prediction Loss tensor(-0.9701)\n",
      "Predicted through Recurrent input tensor([0, 1, 2, 0, 4, 5, 6, 7, 8, 9])\n",
      "Prediction using External drive tensor([0, 1, 2, 3, 4, 5, 6, 7, 8, 9])\n",
      "Actual prediction Loss tensor(-0.9176)\n"
     ]
    },
    {
     "name": "stderr",
     "output_type": "stream",
     "text": [
      " 77%|█████████████████████████████████████████████████████████▌                 | 15355/20000 [00:45<00:14, 328.14it/s]"
     ]
    },
    {
     "name": "stdout",
     "output_type": "stream",
     "text": [
      "Predicted through Recurrent input tensor([0, 1, 2, 3, 4, 5, 6, 7, 8, 9])\n",
      "Prediction using External drive tensor([0, 1, 2, 3, 4, 5, 6, 7, 8, 9])\n",
      "Actual prediction Loss tensor(-0.9738)\n",
      "Predicted through Recurrent input tensor([0, 1, 2, 3, 4, 5, 6, 7, 8, 9])\n",
      "Prediction using External drive tensor([0, 1, 2, 3, 4, 5, 6, 7, 8, 9])\n",
      "Actual prediction Loss tensor(-0.9469)\n",
      "Predicted through Recurrent input tensor([0, 1, 2, 3, 4, 5, 6, 7, 8, 9])\n",
      "Prediction using External drive tensor([0, 1, 2, 3, 4, 5, 6, 7, 8, 9])\n",
      "Actual prediction Loss tensor(-0.9579)\n",
      "Predicted through Recurrent input tensor([0, 1, 2, 3, 4, 5, 6, 7, 8, 9])\n",
      "Prediction using External drive tensor([0, 1, 2, 3, 4, 5, 6, 7, 8, 9])\n",
      "Actual prediction Loss tensor(-0.9804)\n"
     ]
    },
    {
     "name": "stderr",
     "output_type": "stream",
     "text": [
      " 77%|█████████████████████████████████████████████████████████▋                 | 15390/20000 [00:45<00:14, 325.09it/s]"
     ]
    },
    {
     "name": "stdout",
     "output_type": "stream",
     "text": [
      "Predicted through Recurrent input tensor([0, 1, 2, 3, 4, 5, 6, 7, 8, 9])\n",
      "Prediction using External drive tensor([0, 1, 2, 3, 4, 5, 6, 7, 8, 9])\n",
      "Actual prediction Loss tensor(-0.9780)\n",
      "Predicted through Recurrent input tensor([0, 1, 2, 3, 4, 5, 6, 7, 8, 9])\n",
      "Prediction using External drive tensor([0, 1, 2, 3, 4, 5, 6, 7, 8, 9])\n",
      "Actual prediction Loss tensor(-0.9372)\n",
      "Predicted through Recurrent input tensor([0, 1, 2, 3, 4, 5, 6, 7, 8, 9])\n",
      "Prediction using External drive tensor([0, 1, 2, 3, 4, 5, 6, 7, 8, 9])\n",
      "Actual prediction Loss tensor(-0.9635)\n"
     ]
    },
    {
     "name": "stderr",
     "output_type": "stream",
     "text": [
      " 77%|█████████████████████████████████████████████████████████▊                 | 15424/20000 [00:45<00:13, 327.52it/s]"
     ]
    },
    {
     "name": "stdout",
     "output_type": "stream",
     "text": [
      "Predicted through Recurrent input tensor([0, 1, 2, 3, 4, 5, 6, 7, 8, 9])\n",
      "Prediction using External drive tensor([0, 1, 2, 3, 4, 5, 6, 7, 8, 9])\n",
      "Actual prediction Loss tensor(-0.9704)\n",
      "Predicted through Recurrent input tensor([0, 1, 2, 0, 4, 5, 6, 7, 8, 9])\n",
      "Prediction using External drive tensor([0, 1, 2, 3, 4, 5, 6, 7, 8, 9])\n",
      "Actual prediction Loss tensor(-0.9184)\n",
      "Predicted through Recurrent input tensor([0, 1, 2, 3, 4, 5, 6, 7, 8, 9])\n",
      "Prediction using External drive tensor([0, 1, 2, 3, 4, 5, 6, 7, 8, 9])\n",
      "Actual prediction Loss tensor(-0.9740)\n",
      "Predicted through Recurrent input tensor([0, 1, 2, 3, 4, 5, 6, 7, 8, 9])\n",
      "Prediction using External drive tensor([0, 1, 2, 3, 4, 5, 6, 7, 8, 9])\n",
      "Actual prediction Loss tensor(-0.9474)\n"
     ]
    },
    {
     "name": "stderr",
     "output_type": "stream",
     "text": [
      " 77%|█████████████████████████████████████████████████████████▉                 | 15460/20000 [00:45<00:13, 325.67it/s]"
     ]
    },
    {
     "name": "stdout",
     "output_type": "stream",
     "text": [
      "Predicted through Recurrent input tensor([0, 1, 2, 3, 4, 5, 6, 7, 8, 9])\n",
      "Prediction using External drive tensor([0, 1, 2, 3, 4, 5, 6, 7, 8, 9])\n",
      "Actual prediction Loss tensor(-0.9583)\n",
      "Predicted through Recurrent input tensor([0, 1, 2, 3, 4, 5, 6, 7, 8, 9])\n",
      "Prediction using External drive tensor([0, 1, 2, 3, 4, 5, 6, 7, 8, 9])\n",
      "Actual prediction Loss tensor(-0.9806)\n",
      "Predicted through Recurrent input tensor([0, 1, 2, 3, 4, 5, 6, 7, 8, 9])\n",
      "Prediction using External drive tensor([0, 1, 2, 3, 4, 5, 6, 7, 8, 9])\n",
      "Actual prediction Loss tensor(-0.9782)\n"
     ]
    },
    {
     "name": "stderr",
     "output_type": "stream",
     "text": [
      " 77%|██████████████████████████████████████████████████████████                 | 15493/20000 [00:45<00:13, 325.99it/s]"
     ]
    },
    {
     "name": "stdout",
     "output_type": "stream",
     "text": [
      "Predicted through Recurrent input tensor([0, 1, 2, 3, 4, 5, 6, 7, 8, 9])\n",
      "Prediction using External drive tensor([0, 1, 2, 3, 4, 5, 6, 7, 8, 9])\n",
      "Actual prediction Loss tensor(-0.9379)\n",
      "Predicted through Recurrent input tensor([0, 1, 2, 3, 4, 5, 6, 7, 8, 9])\n",
      "Prediction using External drive tensor([0, 1, 2, 3, 4, 5, 6, 7, 8, 9])\n",
      "Actual prediction Loss tensor(-0.9639)\n",
      "Predicted through Recurrent input tensor([0, 1, 2, 3, 4, 5, 6, 7, 8, 9])\n",
      "Prediction using External drive tensor([0, 1, 2, 3, 4, 5, 6, 7, 8, 9])\n",
      "Actual prediction Loss tensor(-0.9708)\n"
     ]
    },
    {
     "name": "stderr",
     "output_type": "stream",
     "text": [
      " 78%|██████████████████████████████████████████████████████████▏                | 15526/20000 [00:45<00:13, 327.18it/s]"
     ]
    },
    {
     "name": "stdout",
     "output_type": "stream",
     "text": [
      "Predicted through Recurrent input tensor([0, 1, 2, 0, 4, 5, 6, 7, 8, 9])\n",
      "Prediction using External drive tensor([0, 1, 2, 3, 4, 5, 6, 7, 8, 9])\n",
      "Actual prediction Loss tensor(-0.9192)\n",
      "Predicted through Recurrent input tensor([0, 1, 2, 3, 4, 5, 6, 7, 8, 9])\n",
      "Prediction using External drive tensor([0, 1, 2, 3, 4, 5, 6, 7, 8, 9])\n",
      "Actual prediction Loss tensor(-0.9743)\n",
      "Predicted through Recurrent input tensor([0, 1, 2, 3, 4, 5, 6, 7, 8, 9])\n",
      "Prediction using External drive tensor([0, 1, 2, 3, 4, 5, 6, 7, 8, 9])\n",
      "Actual prediction Loss tensor(-0.9479)\n",
      "Predicted through Recurrent input tensor([0, 1, 2, 3, 4, 5, 6, 7, 8, 9])\n",
      "Prediction using External drive tensor([0, 1, 2, 3, 4, 5, 6, 7, 8, 9])\n",
      "Actual prediction Loss tensor(-0.9588)\n"
     ]
    },
    {
     "name": "stderr",
     "output_type": "stream",
     "text": [
      " 78%|██████████████████████████████████████████████████████████▎                | 15560/20000 [00:45<00:13, 321.53it/s]"
     ]
    },
    {
     "name": "stdout",
     "output_type": "stream",
     "text": [
      "Predicted through Recurrent input tensor([0, 1, 2, 3, 4, 5, 6, 7, 8, 9])\n",
      "Prediction using External drive tensor([0, 1, 2, 3, 4, 5, 6, 7, 8, 9])\n",
      "Actual prediction Loss tensor(-0.9808)\n",
      "Predicted through Recurrent input tensor([0, 1, 2, 3, 4, 5, 6, 7, 8, 9])\n",
      "Prediction using External drive tensor([0, 1, 2, 3, 4, 5, 6, 7, 8, 9])\n",
      "Actual prediction Loss tensor(-0.9784)\n",
      "Predicted through Recurrent input tensor([0, 1, 2, 3, 4, 5, 6, 7, 8, 9])\n",
      "Prediction using External drive tensor([0, 1, 2, 3, 4, 5, 6, 7, 8, 9])\n",
      "Actual prediction Loss tensor(-0.9386)\n"
     ]
    },
    {
     "name": "stderr",
     "output_type": "stream",
     "text": [
      " 78%|██████████████████████████████████████████████████████████▍                | 15594/20000 [00:46<00:13, 325.92it/s]"
     ]
    },
    {
     "name": "stdout",
     "output_type": "stream",
     "text": [
      "Predicted through Recurrent input tensor([0, 1, 2, 3, 4, 5, 6, 7, 8, 9])\n",
      "Prediction using External drive tensor([0, 1, 2, 3, 4, 5, 6, 7, 8, 9])\n",
      "Actual prediction Loss tensor(-0.9643)\n",
      "Predicted through Recurrent input tensor([0, 1, 2, 3, 4, 5, 6, 7, 8, 9])\n",
      "Prediction using External drive tensor([0, 1, 2, 3, 4, 5, 6, 7, 8, 9])\n",
      "Actual prediction Loss tensor(-0.9711)\n",
      "Predicted through Recurrent input tensor([0, 1, 2, 0, 4, 5, 6, 7, 8, 9])\n",
      "Prediction using External drive tensor([0, 1, 2, 3, 4, 5, 6, 7, 8, 9])\n",
      "Actual prediction Loss tensor(-0.9200)\n",
      "Predicted through Recurrent input tensor([0, 1, 2, 3, 4, 5, 6, 7, 8, 9])\n",
      "Prediction using External drive tensor([0, 1, 2, 3, 4, 5, 6, 7, 8, 9])\n",
      "Actual prediction Loss tensor(-0.9745)\n"
     ]
    },
    {
     "name": "stderr",
     "output_type": "stream",
     "text": [
      " 78%|██████████████████████████████████████████████████████████▌                | 15630/20000 [00:46<00:13, 323.68it/s]"
     ]
    },
    {
     "name": "stdout",
     "output_type": "stream",
     "text": [
      "Predicted through Recurrent input tensor([0, 1, 2, 3, 4, 5, 6, 7, 8, 9])\n",
      "Prediction using External drive tensor([0, 1, 2, 3, 4, 5, 6, 7, 8, 9])\n",
      "Actual prediction Loss tensor(-0.9484)\n",
      "Predicted through Recurrent input tensor([0, 1, 2, 3, 4, 5, 6, 7, 8, 9])\n",
      "Prediction using External drive tensor([0, 1, 2, 3, 4, 5, 6, 7, 8, 9])\n",
      "Actual prediction Loss tensor(-0.9592)\n",
      "Predicted through Recurrent input tensor([0, 1, 2, 3, 4, 5, 6, 7, 8, 9])\n",
      "Prediction using External drive tensor([0, 1, 2, 3, 4, 5, 6, 7, 8, 9])\n",
      "Actual prediction Loss tensor(-0.9810)\n"
     ]
    },
    {
     "name": "stderr",
     "output_type": "stream",
     "text": [
      " 78%|██████████████████████████████████████████████████████████▋                | 15665/20000 [00:46<00:13, 330.22it/s]"
     ]
    },
    {
     "name": "stdout",
     "output_type": "stream",
     "text": [
      "Predicted through Recurrent input tensor([0, 1, 2, 3, 4, 5, 6, 7, 8, 9])\n",
      "Prediction using External drive tensor([0, 1, 2, 3, 4, 5, 6, 7, 8, 9])\n",
      "Actual prediction Loss tensor(-0.9786)\n",
      "Predicted through Recurrent input tensor([0, 1, 2, 3, 4, 5, 6, 7, 8, 9])\n",
      "Prediction using External drive tensor([0, 1, 2, 3, 4, 5, 6, 7, 8, 9])\n",
      "Actual prediction Loss tensor(-0.9392)\n",
      "Predicted through Recurrent input tensor([0, 1, 2, 3, 4, 5, 6, 7, 8, 9])\n",
      "Prediction using External drive tensor([0, 1, 2, 3, 4, 5, 6, 7, 8, 9])\n",
      "Actual prediction Loss tensor(-0.9647)\n"
     ]
    },
    {
     "name": "stderr",
     "output_type": "stream",
     "text": [
      " 78%|██████████████████████████████████████████████████████████▊                | 15699/20000 [00:46<00:13, 330.18it/s]"
     ]
    },
    {
     "name": "stdout",
     "output_type": "stream",
     "text": [
      "Predicted through Recurrent input tensor([0, 1, 2, 3, 4, 5, 6, 7, 8, 9])\n",
      "Prediction using External drive tensor([0, 1, 2, 3, 4, 5, 6, 7, 8, 9])\n",
      "Actual prediction Loss tensor(-0.9714)\n",
      "Predicted through Recurrent input tensor([0, 1, 2, 0, 4, 5, 6, 7, 8, 9])\n",
      "Prediction using External drive tensor([0, 1, 2, 3, 4, 5, 6, 7, 8, 9])\n",
      "Actual prediction Loss tensor(-0.9208)\n",
      "Predicted through Recurrent input tensor([0, 1, 2, 3, 4, 5, 6, 7, 8, 9])\n",
      "Prediction using External drive tensor([0, 1, 2, 3, 4, 5, 6, 7, 8, 9])\n",
      "Actual prediction Loss tensor(-0.9747)\n",
      "Predicted through Recurrent input tensor([0, 1, 2, 3, 4, 5, 6, 7, 8, 9])\n",
      "Prediction using External drive tensor([0, 1, 2, 3, 4, 5, 6, 7, 8, 9])\n",
      "Actual prediction Loss tensor(-0.9489)\n"
     ]
    },
    {
     "name": "stderr",
     "output_type": "stream",
     "text": [
      " 79%|██████████████████████████████████████████████████████████▉                | 15733/20000 [00:46<00:13, 322.64it/s]"
     ]
    },
    {
     "name": "stdout",
     "output_type": "stream",
     "text": [
      "Predicted through Recurrent input tensor([0, 1, 2, 3, 4, 5, 6, 7, 8, 9])\n",
      "Prediction using External drive tensor([0, 1, 2, 3, 4, 5, 6, 7, 8, 9])\n",
      "Actual prediction Loss tensor(-0.9596)\n",
      "Predicted through Recurrent input tensor([0, 1, 2, 3, 4, 5, 6, 7, 8, 9])\n",
      "Prediction using External drive tensor([0, 1, 2, 3, 4, 5, 6, 7, 8, 9])\n",
      "Actual prediction Loss tensor(-0.9812)\n",
      "Predicted through Recurrent input tensor([0, 1, 2, 3, 4, 5, 6, 7, 8, 9])\n",
      "Prediction using External drive tensor([0, 1, 2, 3, 4, 5, 6, 7, 8, 9])\n",
      "Actual prediction Loss tensor(-0.9789)\n"
     ]
    },
    {
     "name": "stderr",
     "output_type": "stream",
     "text": [
      " 79%|███████████████████████████████████████████████████████████▏               | 15769/20000 [00:46<00:12, 333.01it/s]"
     ]
    },
    {
     "name": "stdout",
     "output_type": "stream",
     "text": [
      "Predicted through Recurrent input tensor([0, 1, 2, 3, 4, 5, 6, 7, 8, 9])\n",
      "Prediction using External drive tensor([0, 1, 2, 3, 4, 5, 6, 7, 8, 9])\n",
      "Actual prediction Loss tensor(-0.9399)\n",
      "Predicted through Recurrent input tensor([0, 1, 2, 3, 4, 5, 6, 7, 8, 9])\n",
      "Prediction using External drive tensor([0, 1, 2, 3, 4, 5, 6, 7, 8, 9])\n",
      "Actual prediction Loss tensor(-0.9651)\n",
      "Predicted through Recurrent input tensor([0, 1, 2, 3, 4, 5, 6, 7, 8, 9])\n",
      "Prediction using External drive tensor([0, 1, 2, 3, 4, 5, 6, 7, 8, 9])\n",
      "Actual prediction Loss tensor(-0.9717)\n",
      "Predicted through Recurrent input tensor([0, 1, 2, 0, 4, 5, 6, 7, 8, 9])\n",
      "Prediction using External drive tensor([0, 1, 2, 3, 4, 5, 6, 7, 8, 9])\n",
      "Actual prediction Loss tensor(-0.9216)\n"
     ]
    },
    {
     "name": "stderr",
     "output_type": "stream",
     "text": [
      " 79%|███████████████████████████████████████████████████████████▎               | 15803/20000 [00:46<00:12, 326.39it/s]"
     ]
    },
    {
     "name": "stdout",
     "output_type": "stream",
     "text": [
      "Predicted through Recurrent input tensor([0, 1, 2, 3, 4, 5, 6, 7, 8, 9])\n",
      "Prediction using External drive tensor([0, 1, 2, 3, 4, 5, 6, 7, 8, 9])\n",
      "Actual prediction Loss tensor(-0.9750)\n",
      "Predicted through Recurrent input tensor([0, 1, 2, 3, 4, 5, 6, 7, 8, 9])\n",
      "Prediction using External drive tensor([0, 1, 2, 3, 4, 5, 6, 7, 8, 9])\n",
      "Actual prediction Loss tensor(-0.9494)\n",
      "Predicted through Recurrent input tensor([0, 1, 2, 3, 4, 5, 6, 7, 8, 9])\n",
      "Prediction using External drive tensor([0, 1, 2, 3, 4, 5, 6, 7, 8, 9])\n",
      "Actual prediction Loss tensor(-0.9600)\n",
      "Predicted through Recurrent input tensor([0, 1, 2, 3, 4, 5, 6, 7, 8, 9])\n",
      "Prediction using External drive tensor([0, 1, 2, 3, 4, 5, 6, 7, 8, 9])\n",
      "Actual prediction Loss tensor(-0.9814)\n"
     ]
    },
    {
     "name": "stderr",
     "output_type": "stream",
     "text": [
      " 79%|███████████████████████████████████████████████████████████▍               | 15840/20000 [00:46<00:12, 331.09it/s]"
     ]
    },
    {
     "name": "stdout",
     "output_type": "stream",
     "text": [
      "Predicted through Recurrent input tensor([0, 1, 2, 3, 4, 5, 6, 7, 8, 9])\n",
      "Prediction using External drive tensor([0, 1, 2, 3, 4, 5, 6, 7, 8, 9])\n",
      "Actual prediction Loss tensor(-0.9791)\n",
      "Predicted through Recurrent input tensor([0, 1, 2, 3, 4, 5, 6, 7, 8, 9])\n",
      "Prediction using External drive tensor([0, 1, 2, 3, 4, 5, 6, 7, 8, 9])\n",
      "Actual prediction Loss tensor(-0.9406)\n",
      "Predicted through Recurrent input tensor([0, 1, 2, 3, 4, 5, 6, 7, 8, 9])\n",
      "Prediction using External drive tensor([0, 1, 2, 3, 4, 5, 6, 7, 8, 9])\n",
      "Actual prediction Loss tensor(-0.9655)\n"
     ]
    },
    {
     "name": "stderr",
     "output_type": "stream",
     "text": [
      " 79%|███████████████████████████████████████████████████████████▌               | 15874/20000 [00:46<00:12, 331.76it/s]"
     ]
    },
    {
     "name": "stdout",
     "output_type": "stream",
     "text": [
      "Predicted through Recurrent input tensor([0, 1, 2, 3, 4, 5, 6, 7, 8, 9])\n",
      "Prediction using External drive tensor([0, 1, 2, 3, 4, 5, 6, 7, 8, 9])\n",
      "Actual prediction Loss tensor(-0.9720)\n",
      "Predicted through Recurrent input tensor([0, 1, 2, 0, 4, 5, 6, 7, 8, 9])\n",
      "Prediction using External drive tensor([0, 1, 2, 3, 4, 5, 6, 7, 8, 9])\n",
      "Actual prediction Loss tensor(-0.9224)\n",
      "Predicted through Recurrent input tensor([0, 1, 2, 3, 4, 5, 6, 7, 8, 9])\n",
      "Prediction using External drive tensor([0, 1, 2, 3, 4, 5, 6, 7, 8, 9])\n",
      "Actual prediction Loss tensor(-0.9752)\n"
     ]
    },
    {
     "name": "stderr",
     "output_type": "stream",
     "text": [
      " 80%|███████████████████████████████████████████████████████████▋               | 15909/20000 [00:46<00:12, 336.06it/s]"
     ]
    },
    {
     "name": "stdout",
     "output_type": "stream",
     "text": [
      "Predicted through Recurrent input tensor([0, 1, 2, 3, 4, 5, 6, 7, 8, 9])\n",
      "Prediction using External drive tensor([0, 1, 2, 3, 4, 5, 6, 7, 8, 9])\n",
      "Actual prediction Loss tensor(-0.9498)\n",
      "Predicted through Recurrent input tensor([0, 1, 2, 3, 4, 5, 6, 7, 8, 9])\n",
      "Prediction using External drive tensor([0, 1, 2, 3, 4, 5, 6, 7, 8, 9])\n",
      "Actual prediction Loss tensor(-0.9604)\n",
      "Predicted through Recurrent input tensor([0, 1, 2, 3, 4, 5, 6, 7, 8, 9])\n",
      "Prediction using External drive tensor([0, 1, 2, 3, 4, 5, 6, 7, 8, 9])\n",
      "Actual prediction Loss tensor(-0.9816)\n",
      "Predicted through Recurrent input tensor([0, 1, 2, 3, 4, 5, 6, 7, 8, 9])\n",
      "Prediction using External drive tensor([0, 1, 2, 3, 4, 5, 6, 7, 8, 9])\n",
      "Actual prediction Loss tensor(-0.9793)\n"
     ]
    },
    {
     "name": "stderr",
     "output_type": "stream",
     "text": [
      " 80%|███████████████████████████████████████████████████████████▊               | 15943/20000 [00:47<00:12, 326.54it/s]"
     ]
    },
    {
     "name": "stdout",
     "output_type": "stream",
     "text": [
      "Predicted through Recurrent input tensor([0, 1, 2, 3, 4, 5, 6, 7, 8, 9])\n",
      "Prediction using External drive tensor([0, 1, 2, 3, 4, 5, 6, 7, 8, 9])\n",
      "Actual prediction Loss tensor(-0.9412)\n",
      "Predicted through Recurrent input tensor([0, 1, 2, 3, 4, 5, 6, 7, 8, 9])\n",
      "Prediction using External drive tensor([0, 1, 2, 3, 4, 5, 6, 7, 8, 9])\n",
      "Actual prediction Loss tensor(-0.9658)\n",
      "Predicted through Recurrent input tensor([0, 1, 2, 3, 4, 5, 6, 7, 8, 9])\n",
      "Prediction using External drive tensor([0, 1, 2, 3, 4, 5, 6, 7, 8, 9])\n",
      "Actual prediction Loss tensor(-0.9723)\n"
     ]
    },
    {
     "name": "stderr",
     "output_type": "stream",
     "text": [
      " 80%|███████████████████████████████████████████████████████████▉               | 15977/20000 [00:47<00:12, 329.51it/s]"
     ]
    },
    {
     "name": "stdout",
     "output_type": "stream",
     "text": [
      "Predicted through Recurrent input tensor([0, 1, 2, 0, 4, 5, 6, 7, 8, 9])\n",
      "Prediction using External drive tensor([0, 1, 2, 3, 4, 5, 6, 7, 8, 9])\n",
      "Actual prediction Loss tensor(-0.9231)\n",
      "Predicted through Recurrent input tensor([0, 1, 2, 3, 4, 5, 6, 7, 8, 9])\n",
      "Prediction using External drive tensor([0, 1, 2, 3, 4, 5, 6, 7, 8, 9])\n",
      "Actual prediction Loss tensor(-0.9754)\n",
      "Predicted through Recurrent input tensor([0, 1, 2, 3, 4, 5, 6, 7, 8, 9])\n",
      "Prediction using External drive tensor([0, 1, 2, 3, 4, 5, 6, 7, 8, 9])\n",
      "Actual prediction Loss tensor(-0.9503)\n",
      "Predicted through Recurrent input tensor([0, 1, 2, 3, 4, 5, 6, 7, 8, 9])\n",
      "Prediction using External drive tensor([0, 1, 2, 3, 4, 5, 6, 7, 8, 9])\n",
      "Actual prediction Loss tensor(-0.9608)\n"
     ]
    },
    {
     "name": "stderr",
     "output_type": "stream",
     "text": [
      " 80%|████████████████████████████████████████████████████████████               | 16011/20000 [00:47<00:12, 327.77it/s]"
     ]
    },
    {
     "name": "stdout",
     "output_type": "stream",
     "text": [
      "Predicted through Recurrent input tensor([0, 1, 2, 3, 4, 5, 6, 7, 8, 9])\n",
      "Prediction using External drive tensor([0, 1, 2, 3, 4, 5, 6, 7, 8, 9])\n",
      "Actual prediction Loss tensor(-0.9818)\n",
      "Predicted through Recurrent input tensor([0, 1, 2, 3, 4, 5, 6, 7, 8, 9])\n",
      "Prediction using External drive tensor([0, 1, 2, 3, 4, 5, 6, 7, 8, 9])\n",
      "Actual prediction Loss tensor(-0.9795)\n",
      "Predicted through Recurrent input tensor([0, 1, 2, 3, 4, 5, 6, 7, 8, 9])\n",
      "Prediction using External drive tensor([0, 1, 2, 3, 4, 5, 6, 7, 8, 9])\n",
      "Actual prediction Loss tensor(-0.9418)\n"
     ]
    },
    {
     "name": "stderr",
     "output_type": "stream",
     "text": [
      " 80%|████████████████████████████████████████████████████████████▏              | 16044/20000 [00:47<00:12, 327.46it/s]"
     ]
    },
    {
     "name": "stdout",
     "output_type": "stream",
     "text": [
      "Predicted through Recurrent input tensor([0, 1, 2, 3, 4, 5, 6, 7, 8, 9])\n",
      "Prediction using External drive tensor([0, 1, 2, 3, 4, 5, 6, 7, 8, 9])\n",
      "Actual prediction Loss tensor(-0.9662)\n",
      "Predicted through Recurrent input tensor([0, 1, 2, 3, 4, 5, 6, 7, 8, 9])\n",
      "Prediction using External drive tensor([0, 1, 2, 3, 4, 5, 6, 7, 8, 9])\n",
      "Actual prediction Loss tensor(-0.9726)\n",
      "Predicted through Recurrent input tensor([0, 1, 2, 0, 4, 5, 6, 7, 8, 9])\n",
      "Prediction using External drive tensor([0, 1, 2, 3, 4, 5, 6, 7, 8, 9])\n",
      "Actual prediction Loss tensor(-0.9239)\n",
      "Predicted through Recurrent input tensor([0, 1, 2, 3, 4, 5, 6, 7, 8, 9])\n",
      "Prediction using External drive tensor([0, 1, 2, 3, 4, 5, 6, 7, 8, 9])\n",
      "Actual prediction Loss tensor(-0.9757)\n"
     ]
    },
    {
     "name": "stderr",
     "output_type": "stream",
     "text": [
      " 80%|████████████████████████████████████████████████████████████▎              | 16080/20000 [00:47<00:11, 327.40it/s]"
     ]
    },
    {
     "name": "stdout",
     "output_type": "stream",
     "text": [
      "Predicted through Recurrent input tensor([0, 1, 2, 3, 4, 5, 6, 7, 8, 9])\n",
      "Prediction using External drive tensor([0, 1, 2, 3, 4, 5, 6, 7, 8, 9])\n",
      "Actual prediction Loss tensor(-0.9508)\n",
      "Predicted through Recurrent input tensor([0, 1, 2, 3, 4, 5, 6, 7, 8, 9])\n",
      "Prediction using External drive tensor([0, 1, 2, 3, 4, 5, 6, 7, 8, 9])\n",
      "Actual prediction Loss tensor(-0.9612)\n",
      "Predicted through Recurrent input tensor([0, 1, 2, 3, 4, 5, 6, 7, 8, 9])\n",
      "Prediction using External drive tensor([0, 1, 2, 3, 4, 5, 6, 7, 8, 9])\n",
      "Actual prediction Loss tensor(-0.9819)\n"
     ]
    },
    {
     "name": "stderr",
     "output_type": "stream",
     "text": [
      " 81%|████████████████████████████████████████████████████████████▍              | 16119/20000 [00:47<00:11, 343.06it/s]"
     ]
    },
    {
     "name": "stdout",
     "output_type": "stream",
     "text": [
      "Predicted through Recurrent input tensor([0, 1, 2, 3, 4, 5, 6, 7, 8, 9])\n",
      "Prediction using External drive tensor([0, 1, 2, 3, 4, 5, 6, 7, 8, 9])\n",
      "Actual prediction Loss tensor(-0.9797)\n",
      "Predicted through Recurrent input tensor([0, 1, 2, 3, 4, 5, 6, 7, 8, 9])\n",
      "Prediction using External drive tensor([0, 1, 2, 3, 4, 5, 6, 7, 8, 9])\n",
      "Actual prediction Loss tensor(-0.9425)\n",
      "Predicted through Recurrent input tensor([0, 1, 2, 3, 4, 5, 6, 7, 8, 9])\n",
      "Prediction using External drive tensor([0, 1, 2, 3, 4, 5, 6, 7, 8, 9])\n",
      "Actual prediction Loss tensor(-0.9666)\n",
      "Predicted through Recurrent input tensor([0, 1, 2, 3, 4, 5, 6, 7, 8, 9])\n",
      "Prediction using External drive tensor([0, 1, 2, 3, 4, 5, 6, 7, 8, 9])\n",
      "Actual prediction Loss tensor(-0.9729)\n"
     ]
    },
    {
     "name": "stderr",
     "output_type": "stream",
     "text": [
      " 81%|████████████████████████████████████████████████████████████▌              | 16154/20000 [00:47<00:11, 334.24it/s]"
     ]
    },
    {
     "name": "stdout",
     "output_type": "stream",
     "text": [
      "Predicted through Recurrent input tensor([0, 1, 2, 0, 4, 5, 6, 7, 8, 9])\n",
      "Prediction using External drive tensor([0, 1, 2, 3, 4, 5, 6, 7, 8, 9])\n",
      "Actual prediction Loss tensor(-0.9246)\n",
      "Predicted through Recurrent input tensor([0, 1, 2, 3, 4, 5, 6, 7, 8, 9])\n",
      "Prediction using External drive tensor([0, 1, 2, 3, 4, 5, 6, 7, 8, 9])\n",
      "Actual prediction Loss tensor(-0.9759)\n",
      "Predicted through Recurrent input tensor([0, 1, 2, 3, 4, 5, 6, 7, 8, 9])\n",
      "Prediction using External drive tensor([0, 1, 2, 3, 4, 5, 6, 7, 8, 9])\n",
      "Actual prediction Loss tensor(-0.9512)\n",
      "Predicted through Recurrent input tensor([0, 1, 2, 3, 4, 5, 6, 7, 8, 9])\n",
      "Prediction using External drive tensor([0, 1, 2, 3, 4, 5, 6, 7, 8, 9])\n",
      "Actual prediction Loss tensor(-0.9616)\n"
     ]
    },
    {
     "name": "stderr",
     "output_type": "stream",
     "text": [
      " 81%|████████████████████████████████████████████████████████████▋              | 16190/20000 [00:47<00:11, 332.12it/s]"
     ]
    },
    {
     "name": "stdout",
     "output_type": "stream",
     "text": [
      "Predicted through Recurrent input tensor([0, 1, 2, 3, 4, 5, 6, 7, 8, 9])\n",
      "Prediction using External drive tensor([0, 1, 2, 3, 4, 5, 6, 7, 8, 9])\n",
      "Actual prediction Loss tensor(-0.9821)\n",
      "Predicted through Recurrent input tensor([0, 1, 2, 3, 4, 5, 6, 7, 8, 9])\n",
      "Prediction using External drive tensor([0, 1, 2, 3, 4, 5, 6, 7, 8, 9])\n",
      "Actual prediction Loss tensor(-0.9799)\n",
      "Predicted through Recurrent input tensor([0, 1, 2, 3, 4, 5, 6, 7, 8, 9])\n",
      "Prediction using External drive tensor([0, 1, 2, 3, 4, 5, 6, 7, 8, 9])\n",
      "Actual prediction Loss tensor(-0.9431)\n"
     ]
    },
    {
     "name": "stderr",
     "output_type": "stream",
     "text": [
      " 81%|████████████████████████████████████████████████████████████▊              | 16224/20000 [00:47<00:11, 330.54it/s]"
     ]
    },
    {
     "name": "stdout",
     "output_type": "stream",
     "text": [
      "Predicted through Recurrent input tensor([0, 1, 2, 3, 4, 5, 6, 7, 8, 9])\n",
      "Prediction using External drive tensor([0, 1, 2, 3, 4, 5, 6, 7, 8, 9])\n",
      "Actual prediction Loss tensor(-0.9669)\n",
      "Predicted through Recurrent input tensor([0, 1, 2, 3, 4, 5, 6, 7, 8, 9])\n",
      "Prediction using External drive tensor([0, 1, 2, 3, 4, 5, 6, 7, 8, 9])\n",
      "Actual prediction Loss tensor(-0.9731)\n",
      "Predicted through Recurrent input tensor([0, 1, 2, 0, 4, 5, 6, 7, 8, 9])\n",
      "Prediction using External drive tensor([0, 1, 2, 3, 4, 5, 6, 7, 8, 9])\n",
      "Actual prediction Loss tensor(-0.9253)\n",
      "Predicted through Recurrent input tensor([0, 1, 2, 3, 4, 5, 6, 7, 8, 9])\n",
      "Prediction using External drive tensor([0, 1, 2, 3, 4, 5, 6, 7, 8, 9])\n",
      "Actual prediction Loss tensor(-0.9761)\n"
     ]
    },
    {
     "name": "stderr",
     "output_type": "stream",
     "text": [
      " 81%|████████████████████████████████████████████████████████████▉              | 16260/20000 [00:48<00:11, 327.75it/s]"
     ]
    },
    {
     "name": "stdout",
     "output_type": "stream",
     "text": [
      "Predicted through Recurrent input tensor([0, 1, 2, 3, 4, 5, 6, 7, 8, 9])\n",
      "Prediction using External drive tensor([0, 1, 2, 3, 4, 5, 6, 7, 8, 9])\n",
      "Actual prediction Loss tensor(-0.9517)\n",
      "Predicted through Recurrent input tensor([0, 1, 2, 3, 4, 5, 6, 7, 8, 9])\n",
      "Prediction using External drive tensor([0, 1, 2, 3, 4, 5, 6, 7, 8, 9])\n",
      "Actual prediction Loss tensor(-0.9620)\n",
      "Predicted through Recurrent input tensor([0, 1, 2, 3, 4, 5, 6, 7, 8, 9])\n",
      "Prediction using External drive tensor([0, 1, 2, 3, 4, 5, 6, 7, 8, 9])\n",
      "Actual prediction Loss tensor(-0.9823)\n"
     ]
    },
    {
     "name": "stderr",
     "output_type": "stream",
     "text": [
      " 81%|█████████████████████████████████████████████████████████████              | 16294/20000 [00:48<00:11, 329.41it/s]"
     ]
    },
    {
     "name": "stdout",
     "output_type": "stream",
     "text": [
      "Predicted through Recurrent input tensor([0, 1, 2, 3, 4, 5, 6, 7, 8, 9])\n",
      "Prediction using External drive tensor([0, 1, 2, 3, 4, 5, 6, 7, 8, 9])\n",
      "Actual prediction Loss tensor(-0.9801)\n",
      "Predicted through Recurrent input tensor([0, 1, 2, 3, 4, 5, 6, 7, 8, 9])\n",
      "Prediction using External drive tensor([0, 1, 2, 3, 4, 5, 6, 7, 8, 9])\n",
      "Actual prediction Loss tensor(-0.9437)\n",
      "Predicted through Recurrent input tensor([0, 1, 2, 3, 4, 5, 6, 7, 8, 9])\n",
      "Prediction using External drive tensor([0, 1, 2, 3, 4, 5, 6, 7, 8, 9])\n",
      "Actual prediction Loss tensor(-0.9673)\n"
     ]
    },
    {
     "name": "stderr",
     "output_type": "stream",
     "text": [
      " 82%|█████████████████████████████████████████████████████████████▏             | 16327/20000 [00:48<00:11, 328.60it/s]"
     ]
    },
    {
     "name": "stdout",
     "output_type": "stream",
     "text": [
      "Predicted through Recurrent input tensor([0, 1, 2, 3, 4, 5, 6, 7, 8, 9])\n",
      "Prediction using External drive tensor([0, 1, 2, 3, 4, 5, 6, 7, 8, 9])\n",
      "Actual prediction Loss tensor(-0.9734)\n",
      "Predicted through Recurrent input tensor([0, 1, 2, 0, 4, 5, 6, 7, 8, 9])\n",
      "Prediction using External drive tensor([0, 1, 2, 3, 4, 5, 6, 7, 8, 9])\n",
      "Actual prediction Loss tensor(-0.9261)\n",
      "Predicted through Recurrent input tensor([0, 1, 2, 3, 4, 5, 6, 7, 8, 9])\n",
      "Prediction using External drive tensor([0, 1, 2, 3, 4, 5, 6, 7, 8, 9])\n",
      "Actual prediction Loss tensor(-0.9763)\n",
      "Predicted through Recurrent input tensor([0, 1, 2, 3, 4, 5, 6, 7, 8, 9])\n",
      "Prediction using External drive tensor([0, 1, 2, 3, 4, 5, 6, 7, 8, 9])\n",
      "Actual prediction Loss tensor(-0.9521)\n"
     ]
    },
    {
     "name": "stderr",
     "output_type": "stream",
     "text": [
      " 82%|█████████████████████████████████████████████████████████████▎             | 16360/20000 [00:48<00:11, 317.62it/s]"
     ]
    },
    {
     "name": "stdout",
     "output_type": "stream",
     "text": [
      "Predicted through Recurrent input tensor([0, 1, 2, 3, 4, 5, 6, 7, 8, 9])\n",
      "Prediction using External drive tensor([0, 1, 2, 3, 4, 5, 6, 7, 8, 9])\n",
      "Actual prediction Loss tensor(-0.9623)\n",
      "Predicted through Recurrent input tensor([0, 1, 2, 3, 4, 5, 6, 7, 8, 9])\n",
      "Prediction using External drive tensor([0, 1, 2, 3, 4, 5, 6, 7, 8, 9])\n",
      "Actual prediction Loss tensor(-0.9825)\n",
      "Predicted through Recurrent input tensor([0, 1, 2, 3, 4, 5, 6, 7, 8, 9])\n",
      "Prediction using External drive tensor([0, 1, 2, 3, 4, 5, 6, 7, 8, 9])\n",
      "Actual prediction Loss tensor(-0.9803)\n"
     ]
    },
    {
     "name": "stderr",
     "output_type": "stream",
     "text": [
      " 82%|█████████████████████████████████████████████████████████████▍             | 16393/20000 [00:48<00:11, 320.30it/s]"
     ]
    },
    {
     "name": "stdout",
     "output_type": "stream",
     "text": [
      "Predicted through Recurrent input tensor([0, 1, 2, 3, 4, 5, 6, 7, 8, 9])\n",
      "Prediction using External drive tensor([0, 1, 2, 3, 4, 5, 6, 7, 8, 9])\n",
      "Actual prediction Loss tensor(-0.9443)\n",
      "Predicted through Recurrent input tensor([0, 1, 2, 3, 4, 5, 6, 7, 8, 9])\n",
      "Prediction using External drive tensor([0, 1, 2, 3, 4, 5, 6, 7, 8, 9])\n",
      "Actual prediction Loss tensor(-0.9676)\n",
      "Predicted through Recurrent input tensor([0, 1, 2, 3, 4, 5, 6, 7, 8, 9])\n",
      "Prediction using External drive tensor([0, 1, 2, 3, 4, 5, 6, 7, 8, 9])\n",
      "Actual prediction Loss tensor(-0.9737)\n"
     ]
    },
    {
     "name": "stderr",
     "output_type": "stream",
     "text": [
      " 82%|█████████████████████████████████████████████████████████████▌             | 16429/20000 [00:48<00:10, 331.26it/s]"
     ]
    },
    {
     "name": "stdout",
     "output_type": "stream",
     "text": [
      "Predicted through Recurrent input tensor([0, 1, 2, 0, 4, 5, 6, 7, 8, 9])\n",
      "Prediction using External drive tensor([0, 1, 2, 3, 4, 5, 6, 7, 8, 9])\n",
      "Actual prediction Loss tensor(-0.9268)\n",
      "Predicted through Recurrent input tensor([0, 1, 2, 3, 4, 5, 6, 7, 8, 9])\n",
      "Prediction using External drive tensor([0, 1, 2, 3, 4, 5, 6, 7, 8, 9])\n",
      "Actual prediction Loss tensor(-0.9766)\n",
      "Predicted through Recurrent input tensor([0, 1, 2, 3, 4, 5, 6, 7, 8, 9])\n",
      "Prediction using External drive tensor([0, 1, 2, 3, 4, 5, 6, 7, 8, 9])\n",
      "Actual prediction Loss tensor(-0.9525)\n",
      "Predicted through Recurrent input tensor([0, 1, 2, 3, 4, 5, 6, 7, 8, 9])\n",
      "Prediction using External drive tensor([0, 1, 2, 3, 4, 5, 6, 7, 8, 9])\n",
      "Actual prediction Loss tensor(-0.9627)\n"
     ]
    },
    {
     "name": "stderr",
     "output_type": "stream",
     "text": [
      " 82%|█████████████████████████████████████████████████████████████▋             | 16463/20000 [00:48<00:10, 324.28it/s]"
     ]
    },
    {
     "name": "stdout",
     "output_type": "stream",
     "text": [
      "Predicted through Recurrent input tensor([0, 1, 2, 3, 4, 5, 6, 7, 8, 9])\n",
      "Prediction using External drive tensor([0, 1, 2, 3, 4, 5, 6, 7, 8, 9])\n",
      "Actual prediction Loss tensor(-0.9827)\n",
      "Predicted through Recurrent input tensor([0, 1, 2, 3, 4, 5, 6, 7, 8, 9])\n",
      "Prediction using External drive tensor([0, 1, 2, 3, 4, 5, 6, 7, 8, 9])\n",
      "Actual prediction Loss tensor(-0.9804)\n",
      "Predicted through Recurrent input tensor([0, 1, 2, 3, 4, 5, 6, 7, 8, 9])\n",
      "Prediction using External drive tensor([0, 1, 2, 3, 4, 5, 6, 7, 8, 9])\n",
      "Actual prediction Loss tensor(-0.9448)\n"
     ]
    },
    {
     "name": "stderr",
     "output_type": "stream",
     "text": [
      " 82%|█████████████████████████████████████████████████████████████▊             | 16499/20000 [00:48<00:10, 333.30it/s]"
     ]
    },
    {
     "name": "stdout",
     "output_type": "stream",
     "text": [
      "Predicted through Recurrent input tensor([0, 1, 2, 3, 4, 5, 6, 7, 8, 9])\n",
      "Prediction using External drive tensor([0, 1, 2, 3, 4, 5, 6, 7, 8, 9])\n",
      "Actual prediction Loss tensor(-0.9680)\n",
      "Predicted through Recurrent input tensor([0, 1, 2, 3, 4, 5, 6, 7, 8, 9])\n",
      "Prediction using External drive tensor([0, 1, 2, 3, 4, 5, 6, 7, 8, 9])\n",
      "Actual prediction Loss tensor(-0.9740)\n",
      "Predicted through Recurrent input tensor([0, 1, 2, 0, 4, 5, 6, 7, 8, 9])\n",
      "Prediction using External drive tensor([0, 1, 2, 3, 4, 5, 6, 7, 8, 9])\n",
      "Actual prediction Loss tensor(-0.9275)\n",
      "Predicted through Recurrent input tensor([0, 1, 2, 3, 4, 5, 6, 7, 8, 9])\n",
      "Prediction using External drive tensor([0, 1, 2, 3, 4, 5, 6, 7, 8, 9])\n",
      "Actual prediction Loss tensor(-0.9768)\n"
     ]
    },
    {
     "name": "stderr",
     "output_type": "stream",
     "text": [
      " 83%|█████████████████████████████████████████████████████████████▉             | 16533/20000 [00:48<00:10, 327.53it/s]"
     ]
    },
    {
     "name": "stdout",
     "output_type": "stream",
     "text": [
      "Predicted through Recurrent input tensor([0, 1, 2, 3, 4, 5, 6, 7, 8, 9])\n",
      "Prediction using External drive tensor([0, 1, 2, 3, 4, 5, 6, 7, 8, 9])\n",
      "Actual prediction Loss tensor(-0.9530)\n",
      "Predicted through Recurrent input tensor([0, 1, 2, 3, 4, 5, 6, 7, 8, 9])\n",
      "Prediction using External drive tensor([0, 1, 2, 3, 4, 5, 6, 7, 8, 9])\n",
      "Actual prediction Loss tensor(-0.9631)\n",
      "Predicted through Recurrent input tensor([0, 1, 2, 3, 4, 5, 6, 7, 8, 9])\n",
      "Prediction using External drive tensor([0, 1, 2, 3, 4, 5, 6, 7, 8, 9])\n",
      "Actual prediction Loss tensor(-0.9828)\n"
     ]
    },
    {
     "name": "stderr",
     "output_type": "stream",
     "text": [
      " 83%|██████████████████████████████████████████████████████████████▏            | 16567/20000 [00:48<00:10, 330.21it/s]"
     ]
    },
    {
     "name": "stdout",
     "output_type": "stream",
     "text": [
      "Predicted through Recurrent input tensor([0, 1, 2, 3, 4, 5, 6, 7, 8, 9])\n",
      "Prediction using External drive tensor([0, 1, 2, 3, 4, 5, 6, 7, 8, 9])\n",
      "Actual prediction Loss tensor(-0.9806)\n",
      "Predicted through Recurrent input tensor([0, 1, 2, 3, 4, 5, 6, 7, 8, 9])\n",
      "Prediction using External drive tensor([0, 1, 2, 3, 4, 5, 6, 7, 8, 9])\n",
      "Actual prediction Loss tensor(-0.9454)\n",
      "Predicted through Recurrent input tensor([0, 1, 2, 3, 4, 5, 6, 7, 8, 9])\n",
      "Prediction using External drive tensor([0, 1, 2, 3, 4, 5, 6, 7, 8, 9])\n",
      "Actual prediction Loss tensor(-0.9683)\n",
      "Predicted through Recurrent input tensor([0, 1, 2, 3, 4, 5, 6, 7, 8, 9])\n",
      "Prediction using External drive tensor([0, 1, 2, 3, 4, 5, 6, 7, 8, 9])\n",
      "Actual prediction Loss tensor(-0.9742)\n"
     ]
    },
    {
     "name": "stderr",
     "output_type": "stream",
     "text": [
      " 83%|██████████████████████████████████████████████████████████████▎            | 16601/20000 [00:49<00:10, 322.66it/s]"
     ]
    },
    {
     "name": "stdout",
     "output_type": "stream",
     "text": [
      "Predicted through Recurrent input tensor([0, 1, 2, 0, 4, 5, 6, 7, 8, 9])\n",
      "Prediction using External drive tensor([0, 1, 2, 3, 4, 5, 6, 7, 8, 9])\n",
      "Actual prediction Loss tensor(-0.9281)\n",
      "Predicted through Recurrent input tensor([0, 1, 2, 3, 4, 5, 6, 7, 8, 9])\n",
      "Prediction using External drive tensor([0, 1, 2, 3, 4, 5, 6, 7, 8, 9])\n",
      "Actual prediction Loss tensor(-0.9770)\n",
      "Predicted through Recurrent input tensor([0, 1, 2, 3, 4, 5, 6, 7, 8, 9])\n",
      "Prediction using External drive tensor([0, 1, 2, 3, 4, 5, 6, 7, 8, 9])\n",
      "Actual prediction Loss tensor(-0.9534)\n"
     ]
    },
    {
     "name": "stderr",
     "output_type": "stream",
     "text": [
      " 83%|██████████████████████████████████████████████████████████████▍            | 16636/20000 [00:49<00:10, 329.47it/s]"
     ]
    },
    {
     "name": "stdout",
     "output_type": "stream",
     "text": [
      "Predicted through Recurrent input tensor([0, 1, 2, 3, 4, 5, 6, 7, 8, 9])\n",
      "Prediction using External drive tensor([0, 1, 2, 3, 4, 5, 6, 7, 8, 9])\n",
      "Actual prediction Loss tensor(-0.9634)\n",
      "Predicted through Recurrent input tensor([0, 1, 2, 3, 4, 5, 6, 7, 8, 9])\n",
      "Prediction using External drive tensor([0, 1, 2, 3, 4, 5, 6, 7, 8, 9])\n",
      "Actual prediction Loss tensor(-0.9830)\n",
      "Predicted through Recurrent input tensor([0, 1, 2, 3, 4, 5, 6, 7, 8, 9])\n",
      "Prediction using External drive tensor([0, 1, 2, 3, 4, 5, 6, 7, 8, 9])\n",
      "Actual prediction Loss tensor(-0.9808)\n",
      "Predicted through Recurrent input tensor([0, 1, 2, 3, 4, 5, 6, 7, 8, 9])\n",
      "Prediction using External drive tensor([0, 1, 2, 3, 4, 5, 6, 7, 8, 9])\n",
      "Actual prediction Loss tensor(-0.9460)\n"
     ]
    },
    {
     "name": "stderr",
     "output_type": "stream",
     "text": [
      " 83%|██████████████████████████████████████████████████████████████▌            | 16670/20000 [00:49<00:10, 323.08it/s]"
     ]
    },
    {
     "name": "stdout",
     "output_type": "stream",
     "text": [
      "Predicted through Recurrent input tensor([0, 1, 2, 3, 4, 5, 6, 7, 8, 9])\n",
      "Prediction using External drive tensor([0, 1, 2, 3, 4, 5, 6, 7, 8, 9])\n",
      "Actual prediction Loss tensor(-0.9686)\n",
      "Predicted through Recurrent input tensor([0, 1, 2, 3, 4, 5, 6, 7, 8, 9])\n",
      "Prediction using External drive tensor([0, 1, 2, 3, 4, 5, 6, 7, 8, 9])\n",
      "Actual prediction Loss tensor(-0.9745)\n",
      "Predicted through Recurrent input tensor([0, 1, 2, 0, 4, 5, 6, 7, 8, 9])\n",
      "Prediction using External drive tensor([0, 1, 2, 3, 4, 5, 6, 7, 8, 9])\n",
      "Actual prediction Loss tensor(-0.9288)\n"
     ]
    },
    {
     "name": "stderr",
     "output_type": "stream",
     "text": [
      " 84%|██████████████████████████████████████████████████████████████▋            | 16703/20000 [00:49<00:10, 325.12it/s]"
     ]
    },
    {
     "name": "stdout",
     "output_type": "stream",
     "text": [
      "Predicted through Recurrent input tensor([0, 1, 2, 3, 4, 5, 6, 7, 8, 9])\n",
      "Prediction using External drive tensor([0, 1, 2, 3, 4, 5, 6, 7, 8, 9])\n",
      "Actual prediction Loss tensor(-0.9772)\n",
      "Predicted through Recurrent input tensor([0, 1, 2, 3, 4, 5, 6, 7, 8, 9])\n",
      "Prediction using External drive tensor([0, 1, 2, 3, 4, 5, 6, 7, 8, 9])\n",
      "Actual prediction Loss tensor(-0.9538)\n",
      "Predicted through Recurrent input tensor([0, 1, 2, 3, 4, 5, 6, 7, 8, 9])\n",
      "Prediction using External drive tensor([0, 1, 2, 3, 4, 5, 6, 7, 8, 9])\n",
      "Actual prediction Loss tensor(-0.9638)\n"
     ]
    },
    {
     "name": "stderr",
     "output_type": "stream",
     "text": [
      " 84%|██████████████████████████████████████████████████████████████▊            | 16739/20000 [00:49<00:09, 333.00it/s]"
     ]
    },
    {
     "name": "stdout",
     "output_type": "stream",
     "text": [
      "Predicted through Recurrent input tensor([0, 1, 2, 3, 4, 5, 6, 7, 8, 9])\n",
      "Prediction using External drive tensor([0, 1, 2, 3, 4, 5, 6, 7, 8, 9])\n",
      "Actual prediction Loss tensor(-0.9832)\n",
      "Predicted through Recurrent input tensor([0, 1, 2, 3, 4, 5, 6, 7, 8, 9])\n",
      "Prediction using External drive tensor([0, 1, 2, 3, 4, 5, 6, 7, 8, 9])\n",
      "Actual prediction Loss tensor(-0.9810)\n",
      "Predicted through Recurrent input tensor([0, 1, 2, 3, 4, 5, 6, 7, 8, 9])\n",
      "Prediction using External drive tensor([0, 1, 2, 3, 4, 5, 6, 7, 8, 9])\n",
      "Actual prediction Loss tensor(-0.9465)\n",
      "Predicted through Recurrent input tensor([0, 1, 2, 3, 4, 5, 6, 7, 8, 9])\n",
      "Prediction using External drive tensor([0, 1, 2, 3, 4, 5, 6, 7, 8, 9])\n",
      "Actual prediction Loss tensor(-0.9690)\n"
     ]
    },
    {
     "name": "stderr",
     "output_type": "stream",
     "text": [
      " 84%|██████████████████████████████████████████████████████████████▉            | 16773/20000 [00:49<00:09, 328.27it/s]"
     ]
    },
    {
     "name": "stdout",
     "output_type": "stream",
     "text": [
      "Predicted through Recurrent input tensor([0, 1, 2, 3, 4, 5, 6, 7, 8, 9])\n",
      "Prediction using External drive tensor([0, 1, 2, 3, 4, 5, 6, 7, 8, 9])\n",
      "Actual prediction Loss tensor(-0.9747)\n",
      "Predicted through Recurrent input tensor([0, 1, 2, 0, 4, 5, 6, 7, 8, 9])\n",
      "Prediction using External drive tensor([0, 1, 2, 3, 4, 5, 6, 7, 8, 9])\n",
      "Actual prediction Loss tensor(-0.9295)\n",
      "Predicted through Recurrent input tensor([0, 1, 2, 3, 4, 5, 6, 7, 8, 9])\n",
      "Prediction using External drive tensor([0, 1, 2, 3, 4, 5, 6, 7, 8, 9])\n",
      "Actual prediction Loss tensor(-0.9774)\n"
     ]
    },
    {
     "name": "stderr",
     "output_type": "stream",
     "text": [
      " 84%|███████████████████████████████████████████████████████████████            | 16808/20000 [00:49<00:09, 333.55it/s]"
     ]
    },
    {
     "name": "stdout",
     "output_type": "stream",
     "text": [
      "Predicted through Recurrent input tensor([0, 1, 2, 3, 4, 5, 6, 7, 8, 9])\n",
      "Prediction using External drive tensor([0, 1, 2, 3, 4, 5, 6, 7, 8, 9])\n",
      "Actual prediction Loss tensor(-0.9542)\n",
      "Predicted through Recurrent input tensor([0, 1, 2, 3, 4, 5, 6, 7, 8, 9])\n",
      "Prediction using External drive tensor([0, 1, 2, 3, 4, 5, 6, 7, 8, 9])\n",
      "Actual prediction Loss tensor(-0.9641)\n",
      "Predicted through Recurrent input tensor([0, 1, 2, 3, 4, 5, 6, 7, 8, 9])\n",
      "Prediction using External drive tensor([0, 1, 2, 3, 4, 5, 6, 7, 8, 9])\n",
      "Actual prediction Loss tensor(-0.9834)\n",
      "Predicted through Recurrent input tensor([0, 1, 2, 3, 4, 5, 6, 7, 8, 9])\n",
      "Prediction using External drive tensor([0, 1, 2, 3, 4, 5, 6, 7, 8, 9])\n",
      "Actual prediction Loss tensor(-0.9812)\n"
     ]
    },
    {
     "name": "stderr",
     "output_type": "stream",
     "text": [
      " 84%|███████████████████████████████████████████████████████████████▏           | 16842/20000 [00:49<00:09, 328.65it/s]"
     ]
    },
    {
     "name": "stdout",
     "output_type": "stream",
     "text": [
      "Predicted through Recurrent input tensor([0, 1, 2, 3, 4, 5, 6, 7, 8, 9])\n",
      "Prediction using External drive tensor([0, 1, 2, 3, 4, 5, 6, 7, 8, 9])\n",
      "Actual prediction Loss tensor(-0.9471)\n",
      "Predicted through Recurrent input tensor([0, 1, 2, 3, 4, 5, 6, 7, 8, 9])\n",
      "Prediction using External drive tensor([0, 1, 2, 3, 4, 5, 6, 7, 8, 9])\n",
      "Actual prediction Loss tensor(-0.9693)\n",
      "Predicted through Recurrent input tensor([0, 1, 2, 3, 4, 5, 6, 7, 8, 9])\n",
      "Prediction using External drive tensor([0, 1, 2, 3, 4, 5, 6, 7, 8, 9])\n",
      "Actual prediction Loss tensor(-0.9750)\n"
     ]
    },
    {
     "name": "stderr",
     "output_type": "stream",
     "text": [
      " 84%|███████████████████████████████████████████████████████████████▎           | 16877/20000 [00:49<00:09, 332.86it/s]"
     ]
    },
    {
     "name": "stdout",
     "output_type": "stream",
     "text": [
      "Predicted through Recurrent input tensor([0, 1, 2, 0, 4, 5, 6, 7, 8, 9])\n",
      "Prediction using External drive tensor([0, 1, 2, 3, 4, 5, 6, 7, 8, 9])\n",
      "Actual prediction Loss tensor(-0.9302)\n",
      "Predicted through Recurrent input tensor([0, 1, 2, 3, 4, 5, 6, 7, 8, 9])\n",
      "Prediction using External drive tensor([0, 1, 2, 3, 4, 5, 6, 7, 8, 9])\n",
      "Actual prediction Loss tensor(-0.9776)\n",
      "Predicted through Recurrent input tensor([0, 1, 2, 3, 4, 5, 6, 7, 8, 9])\n",
      "Prediction using External drive tensor([0, 1, 2, 3, 4, 5, 6, 7, 8, 9])\n",
      "Actual prediction Loss tensor(-0.9546)\n",
      "Predicted through Recurrent input tensor([0, 1, 2, 3, 4, 5, 6, 7, 8, 9])\n",
      "Prediction using External drive tensor([0, 1, 2, 3, 4, 5, 6, 7, 8, 9])\n",
      "Actual prediction Loss tensor(-0.9645)\n"
     ]
    },
    {
     "name": "stderr",
     "output_type": "stream",
     "text": [
      " 85%|███████████████████████████████████████████████████████████████▍           | 16911/20000 [00:50<00:09, 324.43it/s]"
     ]
    },
    {
     "name": "stdout",
     "output_type": "stream",
     "text": [
      "Predicted through Recurrent input tensor([0, 1, 2, 3, 4, 5, 6, 7, 8, 9])\n",
      "Prediction using External drive tensor([0, 1, 2, 3, 4, 5, 6, 7, 8, 9])\n",
      "Actual prediction Loss tensor(-0.9835)\n",
      "Predicted through Recurrent input tensor([0, 1, 2, 3, 4, 5, 6, 7, 8, 9])\n",
      "Prediction using External drive tensor([0, 1, 2, 3, 4, 5, 6, 7, 8, 9])\n",
      "Actual prediction Loss tensor(-0.9814)\n",
      "Predicted through Recurrent input tensor([0, 1, 2, 3, 4, 5, 6, 7, 8, 9])\n",
      "Prediction using External drive tensor([0, 1, 2, 3, 4, 5, 6, 7, 8, 9])\n",
      "Actual prediction Loss tensor(-0.9476)\n"
     ]
    },
    {
     "name": "stderr",
     "output_type": "stream",
     "text": [
      " 85%|███████████████████████████████████████████████████████████████▌           | 16944/20000 [00:50<00:09, 324.15it/s]"
     ]
    },
    {
     "name": "stdout",
     "output_type": "stream",
     "text": [
      "Predicted through Recurrent input tensor([0, 1, 2, 3, 4, 5, 6, 7, 8, 9])\n",
      "Prediction using External drive tensor([0, 1, 2, 3, 4, 5, 6, 7, 8, 9])\n",
      "Actual prediction Loss tensor(-0.9696)\n",
      "Predicted through Recurrent input tensor([0, 1, 2, 3, 4, 5, 6, 7, 8, 9])\n",
      "Prediction using External drive tensor([0, 1, 2, 3, 4, 5, 6, 7, 8, 9])\n",
      "Actual prediction Loss tensor(-0.9752)\n",
      "Predicted through Recurrent input tensor([0, 1, 2, 0, 4, 5, 6, 7, 8, 9])\n",
      "Prediction using External drive tensor([0, 1, 2, 3, 4, 5, 6, 7, 8, 9])\n",
      "Actual prediction Loss tensor(-0.9308)\n"
     ]
    },
    {
     "name": "stderr",
     "output_type": "stream",
     "text": [
      " 85%|███████████████████████████████████████████████████████████████▋           | 16978/20000 [00:50<00:09, 327.80it/s]"
     ]
    },
    {
     "name": "stdout",
     "output_type": "stream",
     "text": [
      "Predicted through Recurrent input tensor([0, 1, 2, 3, 4, 5, 6, 7, 8, 9])\n",
      "Prediction using External drive tensor([0, 1, 2, 3, 4, 5, 6, 7, 8, 9])\n",
      "Actual prediction Loss tensor(-0.9778)\n",
      "Predicted through Recurrent input tensor([0, 1, 2, 3, 4, 5, 6, 7, 8, 9])\n",
      "Prediction using External drive tensor([0, 1, 2, 3, 4, 5, 6, 7, 8, 9])\n",
      "Actual prediction Loss tensor(-0.9550)\n",
      "Predicted through Recurrent input tensor([0, 1, 2, 3, 4, 5, 6, 7, 8, 9])\n",
      "Prediction using External drive tensor([0, 1, 2, 3, 4, 5, 6, 7, 8, 9])\n",
      "Actual prediction Loss tensor(-0.9648)\n",
      "Predicted through Recurrent input tensor([0, 1, 2, 3, 4, 5, 6, 7, 8, 9])\n",
      "Prediction using External drive tensor([0, 1, 2, 3, 4, 5, 6, 7, 8, 9])\n",
      "Actual prediction Loss tensor(-0.9837)\n"
     ]
    },
    {
     "name": "stderr",
     "output_type": "stream",
     "text": [
      " 85%|███████████████████████████████████████████████████████████████▊           | 17011/20000 [00:50<00:09, 322.68it/s]"
     ]
    },
    {
     "name": "stdout",
     "output_type": "stream",
     "text": [
      "Predicted through Recurrent input tensor([0, 1, 2, 3, 4, 5, 6, 7, 8, 9])\n",
      "Prediction using External drive tensor([0, 1, 2, 3, 4, 5, 6, 7, 8, 9])\n",
      "Actual prediction Loss tensor(-0.9815)\n",
      "Predicted through Recurrent input tensor([0, 1, 2, 3, 4, 5, 6, 7, 8, 9])\n",
      "Prediction using External drive tensor([0, 1, 2, 3, 4, 5, 6, 7, 8, 9])\n",
      "Actual prediction Loss tensor(-0.9482)\n",
      "Predicted through Recurrent input tensor([0, 1, 2, 3, 4, 5, 6, 7, 8, 9])\n",
      "Prediction using External drive tensor([0, 1, 2, 3, 4, 5, 6, 7, 8, 9])\n",
      "Actual prediction Loss tensor(-0.9699)\n"
     ]
    },
    {
     "name": "stderr",
     "output_type": "stream",
     "text": [
      " 85%|███████████████████████████████████████████████████████████████▉           | 17046/20000 [00:50<00:08, 329.48it/s]"
     ]
    },
    {
     "name": "stdout",
     "output_type": "stream",
     "text": [
      "Predicted through Recurrent input tensor([0, 1, 2, 3, 4, 5, 6, 7, 8, 9])\n",
      "Prediction using External drive tensor([0, 1, 2, 3, 4, 5, 6, 7, 8, 9])\n",
      "Actual prediction Loss tensor(-0.9755)\n",
      "Predicted through Recurrent input tensor([0, 1, 2, 0, 4, 5, 6, 7, 8, 9])\n",
      "Prediction using External drive tensor([0, 1, 2, 3, 4, 5, 6, 7, 8, 9])\n",
      "Actual prediction Loss tensor(-0.9314)\n",
      "Predicted through Recurrent input tensor([0, 1, 2, 3, 4, 5, 6, 7, 8, 9])\n",
      "Prediction using External drive tensor([0, 1, 2, 3, 4, 5, 6, 7, 8, 9])\n",
      "Actual prediction Loss tensor(-0.9780)\n",
      "Predicted through Recurrent input tensor([0, 1, 2, 3, 4, 5, 6, 7, 8, 9])\n",
      "Prediction using External drive tensor([0, 1, 2, 3, 4, 5, 6, 7, 8, 9])\n",
      "Actual prediction Loss tensor(-0.9554)\n"
     ]
    },
    {
     "name": "stderr",
     "output_type": "stream",
     "text": [
      " 85%|████████████████████████████████████████████████████████████████           | 17080/20000 [00:50<00:09, 323.09it/s]"
     ]
    },
    {
     "name": "stdout",
     "output_type": "stream",
     "text": [
      "Predicted through Recurrent input tensor([0, 1, 2, 3, 4, 5, 6, 7, 8, 9])\n",
      "Prediction using External drive tensor([0, 1, 2, 3, 4, 5, 6, 7, 8, 9])\n",
      "Actual prediction Loss tensor(-0.9651)\n",
      "Predicted through Recurrent input tensor([0, 1, 2, 3, 4, 5, 6, 7, 8, 9])\n",
      "Prediction using External drive tensor([0, 1, 2, 3, 4, 5, 6, 7, 8, 9])\n",
      "Actual prediction Loss tensor(-0.9838)\n",
      "Predicted through Recurrent input tensor([0, 1, 2, 3, 4, 5, 6, 7, 8, 9])\n",
      "Prediction using External drive tensor([0, 1, 2, 3, 4, 5, 6, 7, 8, 9])\n",
      "Actual prediction Loss tensor(-0.9817)\n"
     ]
    },
    {
     "name": "stderr",
     "output_type": "stream",
     "text": [
      " 86%|████████████████████████████████████████████████████████████████▏          | 17114/20000 [00:50<00:08, 327.04it/s]"
     ]
    },
    {
     "name": "stdout",
     "output_type": "stream",
     "text": [
      "Predicted through Recurrent input tensor([0, 1, 2, 3, 4, 5, 6, 7, 8, 9])\n",
      "Prediction using External drive tensor([0, 1, 2, 3, 4, 5, 6, 7, 8, 9])\n",
      "Actual prediction Loss tensor(-0.9487)\n",
      "Predicted through Recurrent input tensor([0, 1, 2, 3, 4, 5, 6, 7, 8, 9])\n",
      "Prediction using External drive tensor([0, 1, 2, 3, 4, 5, 6, 7, 8, 9])\n",
      "Actual prediction Loss tensor(-0.9702)\n",
      "Predicted through Recurrent input tensor([0, 1, 2, 3, 4, 5, 6, 7, 8, 9])\n",
      "Prediction using External drive tensor([0, 1, 2, 3, 4, 5, 6, 7, 8, 9])\n",
      "Actual prediction Loss tensor(-0.9757)\n",
      "Predicted through Recurrent input tensor([0, 1, 2, 0, 4, 5, 6, 7, 8, 9])\n",
      "Prediction using External drive tensor([0, 1, 2, 3, 4, 5, 6, 7, 8, 9])\n",
      "Actual prediction Loss tensor(-0.9321)\n"
     ]
    },
    {
     "name": "stderr",
     "output_type": "stream",
     "text": [
      " 86%|████████████████████████████████████████████████████████████████▎          | 17150/20000 [00:50<00:08, 329.81it/s]"
     ]
    },
    {
     "name": "stdout",
     "output_type": "stream",
     "text": [
      "Predicted through Recurrent input tensor([0, 1, 2, 3, 4, 5, 6, 7, 8, 9])\n",
      "Prediction using External drive tensor([0, 1, 2, 3, 4, 5, 6, 7, 8, 9])\n",
      "Actual prediction Loss tensor(-0.9782)\n",
      "Predicted through Recurrent input tensor([0, 1, 2, 3, 4, 5, 6, 7, 8, 9])\n",
      "Prediction using External drive tensor([0, 1, 2, 3, 4, 5, 6, 7, 8, 9])\n",
      "Actual prediction Loss tensor(-0.9558)\n",
      "Predicted through Recurrent input tensor([0, 1, 2, 3, 4, 5, 6, 7, 8, 9])\n",
      "Prediction using External drive tensor([0, 1, 2, 3, 4, 5, 6, 7, 8, 9])\n",
      "Actual prediction Loss tensor(-0.9655)\n"
     ]
    },
    {
     "name": "stderr",
     "output_type": "stream",
     "text": [
      " 86%|████████████████████████████████████████████████████████████████▍          | 17184/20000 [00:50<00:08, 330.85it/s]"
     ]
    },
    {
     "name": "stdout",
     "output_type": "stream",
     "text": [
      "Predicted through Recurrent input tensor([0, 1, 2, 3, 4, 5, 6, 7, 8, 9])\n",
      "Prediction using External drive tensor([0, 1, 2, 3, 4, 5, 6, 7, 8, 9])\n",
      "Actual prediction Loss tensor(-0.9840)\n",
      "Predicted through Recurrent input tensor([0, 1, 2, 3, 4, 5, 6, 7, 8, 9])\n",
      "Prediction using External drive tensor([0, 1, 2, 3, 4, 5, 6, 7, 8, 9])\n",
      "Actual prediction Loss tensor(-0.9819)\n",
      "Predicted through Recurrent input tensor([0, 1, 2, 3, 4, 5, 6, 7, 8, 9])\n",
      "Prediction using External drive tensor([0, 1, 2, 3, 4, 5, 6, 7, 8, 9])\n",
      "Actual prediction Loss tensor(-0.9492)\n"
     ]
    },
    {
     "name": "stderr",
     "output_type": "stream",
     "text": [
      " 86%|████████████████████████████████████████████████████████████████▌          | 17219/20000 [00:50<00:08, 335.41it/s]"
     ]
    },
    {
     "name": "stdout",
     "output_type": "stream",
     "text": [
      "Predicted through Recurrent input tensor([0, 1, 2, 3, 4, 5, 6, 7, 8, 9])\n",
      "Prediction using External drive tensor([0, 1, 2, 3, 4, 5, 6, 7, 8, 9])\n",
      "Actual prediction Loss tensor(-0.9705)\n",
      "Predicted through Recurrent input tensor([0, 1, 2, 3, 4, 5, 6, 7, 8, 9])\n",
      "Prediction using External drive tensor([0, 1, 2, 3, 4, 5, 6, 7, 8, 9])\n",
      "Actual prediction Loss tensor(-0.9760)\n",
      "Predicted through Recurrent input tensor([0, 1, 2, 0, 4, 5, 6, 7, 8, 9])\n",
      "Prediction using External drive tensor([0, 1, 2, 3, 4, 5, 6, 7, 8, 9])\n",
      "Actual prediction Loss tensor(-0.9327)\n",
      "Predicted through Recurrent input tensor([0, 1, 2, 3, 4, 5, 6, 7, 8, 9])\n",
      "Prediction using External drive tensor([0, 1, 2, 3, 4, 5, 6, 7, 8, 9])\n",
      "Actual prediction Loss tensor(-0.9784)\n"
     ]
    },
    {
     "name": "stderr",
     "output_type": "stream",
     "text": [
      " 86%|████████████████████████████████████████████████████████████████▋          | 17253/20000 [00:51<00:08, 325.18it/s]"
     ]
    },
    {
     "name": "stdout",
     "output_type": "stream",
     "text": [
      "Predicted through Recurrent input tensor([0, 1, 2, 3, 4, 5, 6, 7, 8, 9])\n",
      "Prediction using External drive tensor([0, 1, 2, 3, 4, 5, 6, 7, 8, 9])\n",
      "Actual prediction Loss tensor(-0.9562)\n",
      "Predicted through Recurrent input tensor([0, 1, 2, 3, 4, 5, 6, 7, 8, 9])\n",
      "Prediction using External drive tensor([0, 1, 2, 3, 4, 5, 6, 7, 8, 9])\n",
      "Actual prediction Loss tensor(-0.9658)\n",
      "Predicted through Recurrent input tensor([0, 1, 2, 3, 4, 5, 6, 7, 8, 9])\n",
      "Prediction using External drive tensor([0, 1, 2, 3, 4, 5, 6, 7, 8, 9])\n",
      "Actual prediction Loss tensor(-0.9842)\n"
     ]
    },
    {
     "name": "stderr",
     "output_type": "stream",
     "text": [
      " 86%|████████████████████████████████████████████████████████████████▊          | 17288/20000 [00:51<00:08, 332.25it/s]"
     ]
    },
    {
     "name": "stdout",
     "output_type": "stream",
     "text": [
      "Predicted through Recurrent input tensor([0, 1, 2, 3, 4, 5, 6, 7, 8, 9])\n",
      "Prediction using External drive tensor([0, 1, 2, 3, 4, 5, 6, 7, 8, 9])\n",
      "Actual prediction Loss tensor(-0.9820)\n",
      "Predicted through Recurrent input tensor([0, 1, 2, 3, 4, 5, 6, 7, 8, 9])\n",
      "Prediction using External drive tensor([0, 1, 2, 3, 4, 5, 6, 7, 8, 9])\n",
      "Actual prediction Loss tensor(-0.9497)\n",
      "Predicted through Recurrent input tensor([0, 1, 2, 3, 4, 5, 6, 7, 8, 9])\n",
      "Prediction using External drive tensor([0, 1, 2, 3, 4, 5, 6, 7, 8, 9])\n",
      "Actual prediction Loss tensor(-0.9708)\n",
      "Predicted through Recurrent input tensor([0, 1, 2, 3, 4, 5, 6, 7, 8, 9])\n",
      "Prediction using External drive tensor([0, 1, 2, 3, 4, 5, 6, 7, 8, 9])\n",
      "Actual prediction Loss tensor(-0.9762)\n"
     ]
    },
    {
     "name": "stderr",
     "output_type": "stream",
     "text": [
      " 87%|████████████████████████████████████████████████████████████████▉          | 17322/20000 [00:51<00:08, 322.17it/s]"
     ]
    },
    {
     "name": "stdout",
     "output_type": "stream",
     "text": [
      "Predicted through Recurrent input tensor([0, 1, 2, 0, 4, 5, 6, 7, 8, 9])\n",
      "Prediction using External drive tensor([0, 1, 2, 3, 4, 5, 6, 7, 8, 9])\n",
      "Actual prediction Loss tensor(-0.9333)\n",
      "Predicted through Recurrent input tensor([0, 1, 2, 3, 4, 5, 6, 7, 8, 9])\n",
      "Prediction using External drive tensor([0, 1, 2, 3, 4, 5, 6, 7, 8, 9])\n",
      "Actual prediction Loss tensor(-0.9785)\n",
      "Predicted through Recurrent input tensor([0, 1, 2, 3, 4, 5, 6, 7, 8, 9])\n",
      "Prediction using External drive tensor([0, 1, 2, 3, 4, 5, 6, 7, 8, 9])\n",
      "Actual prediction Loss tensor(-0.9566)\n"
     ]
    },
    {
     "name": "stderr",
     "output_type": "stream",
     "text": [
      " 87%|█████████████████████████████████████████████████████████████████          | 17356/20000 [00:51<00:08, 326.38it/s]"
     ]
    },
    {
     "name": "stdout",
     "output_type": "stream",
     "text": [
      "Predicted through Recurrent input tensor([0, 1, 2, 3, 4, 5, 6, 7, 8, 9])\n",
      "Prediction using External drive tensor([0, 1, 2, 3, 4, 5, 6, 7, 8, 9])\n",
      "Actual prediction Loss tensor(-0.9661)\n",
      "Predicted through Recurrent input tensor([0, 1, 2, 3, 4, 5, 6, 7, 8, 9])\n",
      "Prediction using External drive tensor([0, 1, 2, 3, 4, 5, 6, 7, 8, 9])\n",
      "Actual prediction Loss tensor(-0.9843)\n",
      "Predicted through Recurrent input tensor([0, 1, 2, 3, 4, 5, 6, 7, 8, 9])\n",
      "Prediction using External drive tensor([0, 1, 2, 3, 4, 5, 6, 7, 8, 9])\n",
      "Actual prediction Loss tensor(-0.9822)\n",
      "Predicted through Recurrent input tensor([0, 1, 2, 3, 4, 5, 6, 7, 8, 9])\n",
      "Prediction using External drive tensor([0, 1, 2, 3, 4, 5, 6, 7, 8, 9])\n",
      "Actual prediction Loss tensor(-0.9502)\n"
     ]
    },
    {
     "name": "stderr",
     "output_type": "stream",
     "text": [
      " 87%|█████████████████████████████████████████████████████████████████▏         | 17390/20000 [00:51<00:08, 320.99it/s]"
     ]
    },
    {
     "name": "stdout",
     "output_type": "stream",
     "text": [
      "Predicted through Recurrent input tensor([0, 1, 2, 3, 4, 5, 6, 7, 8, 9])\n",
      "Prediction using External drive tensor([0, 1, 2, 3, 4, 5, 6, 7, 8, 9])\n",
      "Actual prediction Loss tensor(-0.9711)\n",
      "Predicted through Recurrent input tensor([0, 1, 2, 3, 4, 5, 6, 7, 8, 9])\n",
      "Prediction using External drive tensor([0, 1, 2, 3, 4, 5, 6, 7, 8, 9])\n",
      "Actual prediction Loss tensor(-0.9764)\n",
      "Predicted through Recurrent input tensor([0, 1, 2, 0, 4, 5, 6, 7, 8, 9])\n",
      "Prediction using External drive tensor([0, 1, 2, 3, 4, 5, 6, 7, 8, 9])\n",
      "Actual prediction Loss tensor(-0.9339)\n"
     ]
    },
    {
     "name": "stderr",
     "output_type": "stream",
     "text": [
      " 87%|█████████████████████████████████████████████████████████████████▎         | 17424/20000 [00:51<00:07, 325.53it/s]"
     ]
    },
    {
     "name": "stdout",
     "output_type": "stream",
     "text": [
      "Predicted through Recurrent input tensor([0, 1, 2, 3, 4, 5, 6, 7, 8, 9])\n",
      "Prediction using External drive tensor([0, 1, 2, 3, 4, 5, 6, 7, 8, 9])\n",
      "Actual prediction Loss tensor(-0.9787)\n",
      "Predicted through Recurrent input tensor([0, 1, 2, 3, 4, 5, 6, 7, 8, 9])\n",
      "Prediction using External drive tensor([0, 1, 2, 3, 4, 5, 6, 7, 8, 9])\n",
      "Actual prediction Loss tensor(-0.9570)\n",
      "Predicted through Recurrent input tensor([0, 1, 2, 3, 4, 5, 6, 7, 8, 9])\n",
      "Prediction using External drive tensor([0, 1, 2, 3, 4, 5, 6, 7, 8, 9])\n",
      "Actual prediction Loss tensor(-0.9664)\n",
      "Predicted through Recurrent input tensor([0, 1, 2, 3, 4, 5, 6, 7, 8, 9])\n",
      "Prediction using External drive tensor([0, 1, 2, 3, 4, 5, 6, 7, 8, 9])\n",
      "Actual prediction Loss tensor(-0.9845)\n"
     ]
    },
    {
     "name": "stderr",
     "output_type": "stream",
     "text": [
      " 87%|█████████████████████████████████████████████████████████████████▍         | 17460/20000 [00:51<00:07, 325.17it/s]"
     ]
    },
    {
     "name": "stdout",
     "output_type": "stream",
     "text": [
      "Predicted through Recurrent input tensor([0, 1, 2, 3, 4, 5, 6, 7, 8, 9])\n",
      "Prediction using External drive tensor([0, 1, 2, 3, 4, 5, 6, 7, 8, 9])\n",
      "Actual prediction Loss tensor(-0.9824)\n",
      "Predicted through Recurrent input tensor([0, 1, 2, 3, 4, 5, 6, 7, 8, 9])\n",
      "Prediction using External drive tensor([0, 1, 2, 3, 4, 5, 6, 7, 8, 9])\n",
      "Actual prediction Loss tensor(-0.9507)\n",
      "Predicted through Recurrent input tensor([0, 1, 2, 3, 4, 5, 6, 7, 8, 9])\n",
      "Prediction using External drive tensor([0, 1, 2, 3, 4, 5, 6, 7, 8, 9])\n",
      "Actual prediction Loss tensor(-0.9714)\n"
     ]
    },
    {
     "name": "stderr",
     "output_type": "stream",
     "text": [
      " 87%|█████████████████████████████████████████████████████████████████▌         | 17493/20000 [00:51<00:07, 326.60it/s]"
     ]
    },
    {
     "name": "stdout",
     "output_type": "stream",
     "text": [
      "Predicted through Recurrent input tensor([0, 1, 2, 3, 4, 5, 6, 7, 8, 9])\n",
      "Prediction using External drive tensor([0, 1, 2, 3, 4, 5, 6, 7, 8, 9])\n",
      "Actual prediction Loss tensor(-0.9767)\n",
      "Predicted through Recurrent input tensor([0, 1, 2, 0, 4, 5, 6, 7, 8, 9])\n",
      "Prediction using External drive tensor([0, 1, 2, 3, 4, 5, 6, 7, 8, 9])\n",
      "Actual prediction Loss tensor(-0.9345)\n",
      "Predicted through Recurrent input tensor([0, 1, 2, 3, 4, 5, 6, 7, 8, 9])\n",
      "Prediction using External drive tensor([0, 1, 2, 3, 4, 5, 6, 7, 8, 9])\n",
      "Actual prediction Loss tensor(-0.9789)\n"
     ]
    },
    {
     "name": "stderr",
     "output_type": "stream",
     "text": [
      " 88%|█████████████████████████████████████████████████████████████████▋         | 17527/20000 [00:51<00:07, 328.59it/s]"
     ]
    },
    {
     "name": "stdout",
     "output_type": "stream",
     "text": [
      "Predicted through Recurrent input tensor([0, 1, 2, 3, 4, 5, 6, 7, 8, 9])\n",
      "Prediction using External drive tensor([0, 1, 2, 3, 4, 5, 6, 7, 8, 9])\n",
      "Actual prediction Loss tensor(-0.9573)\n",
      "Predicted through Recurrent input tensor([0, 1, 2, 3, 4, 5, 6, 7, 8, 9])\n",
      "Prediction using External drive tensor([0, 1, 2, 3, 4, 5, 6, 7, 8, 9])\n",
      "Actual prediction Loss tensor(-0.9667)\n",
      "Predicted through Recurrent input tensor([0, 1, 2, 3, 4, 5, 6, 7, 8, 9])\n",
      "Prediction using External drive tensor([0, 1, 2, 3, 4, 5, 6, 7, 8, 9])\n",
      "Actual prediction Loss tensor(-0.9846)\n",
      "Predicted through Recurrent input tensor([0, 1, 2, 3, 4, 5, 6, 7, 8, 9])\n",
      "Prediction using External drive tensor([0, 1, 2, 3, 4, 5, 6, 7, 8, 9])\n",
      "Actual prediction Loss tensor(-0.9825)\n"
     ]
    },
    {
     "name": "stderr",
     "output_type": "stream",
     "text": [
      " 88%|█████████████████████████████████████████████████████████████████▊         | 17560/20000 [00:51<00:07, 321.32it/s]"
     ]
    },
    {
     "name": "stdout",
     "output_type": "stream",
     "text": [
      "Predicted through Recurrent input tensor([0, 1, 2, 3, 4, 5, 6, 7, 8, 9])\n",
      "Prediction using External drive tensor([0, 1, 2, 3, 4, 5, 6, 7, 8, 9])\n",
      "Actual prediction Loss tensor(-0.9512)\n",
      "Predicted through Recurrent input tensor([0, 1, 2, 3, 4, 5, 6, 7, 8, 9])\n",
      "Prediction using External drive tensor([0, 1, 2, 3, 4, 5, 6, 7, 8, 9])\n",
      "Actual prediction Loss tensor(-0.9717)\n",
      "Predicted through Recurrent input tensor([0, 1, 2, 3, 4, 5, 6, 7, 8, 9])\n",
      "Prediction using External drive tensor([0, 1, 2, 3, 4, 5, 6, 7, 8, 9])\n",
      "Actual prediction Loss tensor(-0.9769)\n"
     ]
    },
    {
     "name": "stderr",
     "output_type": "stream",
     "text": [
      " 88%|█████████████████████████████████████████████████████████████████▉         | 17594/20000 [00:52<00:07, 325.77it/s]"
     ]
    },
    {
     "name": "stdout",
     "output_type": "stream",
     "text": [
      "Predicted through Recurrent input tensor([0, 1, 2, 0, 4, 5, 6, 7, 8, 9])\n",
      "Prediction using External drive tensor([0, 1, 2, 3, 4, 5, 6, 7, 8, 9])\n",
      "Actual prediction Loss tensor(-0.9351)\n",
      "Predicted through Recurrent input tensor([0, 1, 2, 3, 4, 5, 6, 7, 8, 9])\n",
      "Prediction using External drive tensor([0, 1, 2, 3, 4, 5, 6, 7, 8, 9])\n",
      "Actual prediction Loss tensor(-0.9791)\n",
      "Predicted through Recurrent input tensor([0, 1, 2, 3, 4, 5, 6, 7, 8, 9])\n",
      "Prediction using External drive tensor([0, 1, 2, 3, 4, 5, 6, 7, 8, 9])\n",
      "Actual prediction Loss tensor(-0.9577)\n"
     ]
    },
    {
     "name": "stderr",
     "output_type": "stream",
     "text": [
      " 88%|██████████████████████████████████████████████████████████████████         | 17628/20000 [00:52<00:07, 328.95it/s]"
     ]
    },
    {
     "name": "stdout",
     "output_type": "stream",
     "text": [
      "Predicted through Recurrent input tensor([0, 1, 2, 3, 4, 5, 6, 7, 8, 9])\n",
      "Prediction using External drive tensor([0, 1, 2, 3, 4, 5, 6, 7, 8, 9])\n",
      "Actual prediction Loss tensor(-0.9671)\n",
      "Predicted through Recurrent input tensor([0, 1, 2, 3, 4, 5, 6, 7, 8, 9])\n",
      "Prediction using External drive tensor([0, 1, 2, 3, 4, 5, 6, 7, 8, 9])\n",
      "Actual prediction Loss tensor(-0.9848)\n",
      "Predicted through Recurrent input tensor([0, 1, 2, 3, 4, 5, 6, 7, 8, 9])\n",
      "Prediction using External drive tensor([0, 1, 2, 3, 4, 5, 6, 7, 8, 9])\n",
      "Actual prediction Loss tensor(-0.9827)\n",
      "Predicted through Recurrent input tensor([0, 1, 2, 3, 4, 5, 6, 7, 8, 9])\n",
      "Prediction using External drive tensor([0, 1, 2, 3, 4, 5, 6, 7, 8, 9])\n",
      "Actual prediction Loss tensor(-0.9517)\n"
     ]
    },
    {
     "name": "stderr",
     "output_type": "stream",
     "text": [
      " 88%|██████████████████████████████████████████████████████████████████▏        | 17661/20000 [00:52<00:07, 318.77it/s]"
     ]
    },
    {
     "name": "stdout",
     "output_type": "stream",
     "text": [
      "Predicted through Recurrent input tensor([0, 1, 2, 3, 4, 5, 6, 7, 8, 9])\n",
      "Prediction using External drive tensor([0, 1, 2, 3, 4, 5, 6, 7, 8, 9])\n",
      "Actual prediction Loss tensor(-0.9720)\n",
      "Predicted through Recurrent input tensor([0, 1, 2, 3, 4, 5, 6, 7, 8, 9])\n",
      "Prediction using External drive tensor([0, 1, 2, 3, 4, 5, 6, 7, 8, 9])\n",
      "Actual prediction Loss tensor(-0.9771)\n",
      "Predicted through Recurrent input tensor([0, 1, 2, 0, 4, 5, 6, 7, 8, 9])\n",
      "Prediction using External drive tensor([0, 1, 2, 3, 4, 5, 6, 7, 8, 9])\n",
      "Actual prediction Loss tensor(-0.9357)\n"
     ]
    },
    {
     "name": "stderr",
     "output_type": "stream",
     "text": [
      " 88%|██████████████████████████████████████████████████████████████████▎        | 17694/20000 [00:52<00:07, 320.18it/s]"
     ]
    },
    {
     "name": "stdout",
     "output_type": "stream",
     "text": [
      "Predicted through Recurrent input tensor([0, 1, 2, 3, 4, 5, 6, 7, 8, 9])\n",
      "Prediction using External drive tensor([0, 1, 2, 3, 4, 5, 6, 7, 8, 9])\n",
      "Actual prediction Loss tensor(-0.9793)\n",
      "Predicted through Recurrent input tensor([0, 1, 2, 3, 4, 5, 6, 7, 8, 9])\n",
      "Prediction using External drive tensor([0, 1, 2, 3, 4, 5, 6, 7, 8, 9])\n",
      "Actual prediction Loss tensor(-0.9581)\n",
      "Predicted through Recurrent input tensor([0, 1, 2, 3, 4, 5, 6, 7, 8, 9])\n",
      "Prediction using External drive tensor([0, 1, 2, 3, 4, 5, 6, 7, 8, 9])\n",
      "Actual prediction Loss tensor(-0.9674)\n"
     ]
    },
    {
     "name": "stderr",
     "output_type": "stream",
     "text": [
      " 89%|██████████████████████████████████████████████████████████████████▍        | 17729/20000 [00:52<00:06, 326.74it/s]"
     ]
    },
    {
     "name": "stdout",
     "output_type": "stream",
     "text": [
      "Predicted through Recurrent input tensor([0, 1, 2, 3, 4, 5, 6, 7, 8, 9])\n",
      "Prediction using External drive tensor([0, 1, 2, 3, 4, 5, 6, 7, 8, 9])\n",
      "Actual prediction Loss tensor(-0.9849)\n",
      "Predicted through Recurrent input tensor([0, 1, 2, 3, 4, 5, 6, 7, 8, 9])\n",
      "Prediction using External drive tensor([0, 1, 2, 3, 4, 5, 6, 7, 8, 9])\n",
      "Actual prediction Loss tensor(-0.9828)\n",
      "Predicted through Recurrent input tensor([0, 1, 2, 3, 4, 5, 6, 7, 8, 9])\n",
      "Prediction using External drive tensor([0, 1, 2, 3, 4, 5, 6, 7, 8, 9])\n",
      "Actual prediction Loss tensor(-0.9521)\n",
      "Predicted through Recurrent input tensor([0, 1, 2, 3, 4, 5, 6, 7, 8, 9])\n",
      "Prediction using External drive tensor([0, 1, 2, 3, 4, 5, 6, 7, 8, 9])\n",
      "Actual prediction Loss tensor(-0.9722)\n"
     ]
    },
    {
     "name": "stderr",
     "output_type": "stream",
     "text": [
      " 89%|██████████████████████████████████████████████████████████████████▌        | 17762/20000 [00:52<00:06, 323.85it/s]"
     ]
    },
    {
     "name": "stdout",
     "output_type": "stream",
     "text": [
      "Predicted through Recurrent input tensor([0, 1, 2, 3, 4, 5, 6, 7, 8, 9])\n",
      "Prediction using External drive tensor([0, 1, 2, 3, 4, 5, 6, 7, 8, 9])\n",
      "Actual prediction Loss tensor(-0.9773)\n",
      "Predicted through Recurrent input tensor([0, 1, 2, 0, 4, 5, 6, 7, 8, 9])\n",
      "Prediction using External drive tensor([0, 1, 2, 3, 4, 5, 6, 7, 8, 9])\n",
      "Actual prediction Loss tensor(-0.9363)\n",
      "Predicted through Recurrent input tensor([0, 1, 2, 3, 4, 5, 6, 7, 8, 9])\n",
      "Prediction using External drive tensor([0, 1, 2, 3, 4, 5, 6, 7, 8, 9])\n",
      "Actual prediction Loss tensor(-0.9794)\n"
     ]
    },
    {
     "name": "stderr",
     "output_type": "stream",
     "text": [
      " 89%|██████████████████████████████████████████████████████████████████▋        | 17795/20000 [00:52<00:06, 323.76it/s]"
     ]
    },
    {
     "name": "stdout",
     "output_type": "stream",
     "text": [
      "Predicted through Recurrent input tensor([0, 1, 2, 3, 4, 5, 6, 7, 8, 9])\n",
      "Prediction using External drive tensor([0, 1, 2, 3, 4, 5, 6, 7, 8, 9])\n",
      "Actual prediction Loss tensor(-0.9584)\n",
      "Predicted through Recurrent input tensor([0, 1, 2, 3, 4, 5, 6, 7, 8, 9])\n",
      "Prediction using External drive tensor([0, 1, 2, 3, 4, 5, 6, 7, 8, 9])\n",
      "Actual prediction Loss tensor(-0.9677)\n",
      "Predicted through Recurrent input tensor([0, 1, 2, 3, 4, 5, 6, 7, 8, 9])\n",
      "Prediction using External drive tensor([0, 1, 2, 3, 4, 5, 6, 7, 8, 9])\n",
      "Actual prediction Loss tensor(-0.9850)\n",
      "Predicted through Recurrent input tensor([0, 1, 2, 3, 4, 5, 6, 7, 8, 9])\n",
      "Prediction using External drive tensor([0, 1, 2, 3, 4, 5, 6, 7, 8, 9])\n",
      "Actual prediction Loss tensor(-0.9830)\n"
     ]
    },
    {
     "name": "stderr",
     "output_type": "stream",
     "text": [
      " 89%|██████████████████████████████████████████████████████████████████▊        | 17830/20000 [00:52<00:06, 328.41it/s]"
     ]
    },
    {
     "name": "stdout",
     "output_type": "stream",
     "text": [
      "Predicted through Recurrent input tensor([0, 1, 2, 3, 4, 5, 6, 7, 8, 9])\n",
      "Prediction using External drive tensor([0, 1, 2, 3, 4, 5, 6, 7, 8, 9])\n",
      "Actual prediction Loss tensor(-0.9526)\n",
      "Predicted through Recurrent input tensor([0, 1, 2, 3, 4, 5, 6, 7, 8, 9])\n",
      "Prediction using External drive tensor([0, 1, 2, 3, 4, 5, 6, 7, 8, 9])\n",
      "Actual prediction Loss tensor(-0.9725)\n",
      "Predicted through Recurrent input tensor([0, 1, 2, 3, 4, 5, 6, 7, 8, 9])\n",
      "Prediction using External drive tensor([0, 1, 2, 3, 4, 5, 6, 7, 8, 9])\n",
      "Actual prediction Loss tensor(-0.9776)\n"
     ]
    },
    {
     "name": "stderr",
     "output_type": "stream",
     "text": [
      " 89%|██████████████████████████████████████████████████████████████████▉        | 17865/20000 [00:52<00:06, 332.69it/s]"
     ]
    },
    {
     "name": "stdout",
     "output_type": "stream",
     "text": [
      "Predicted through Recurrent input tensor([0, 1, 2, 0, 4, 5, 6, 7, 8, 9])\n",
      "Prediction using External drive tensor([0, 1, 2, 3, 4, 5, 6, 7, 8, 9])\n",
      "Actual prediction Loss tensor(-0.9369)\n",
      "Predicted through Recurrent input tensor([0, 1, 2, 3, 4, 5, 6, 7, 8, 9])\n",
      "Prediction using External drive tensor([0, 1, 2, 3, 4, 5, 6, 7, 8, 9])\n",
      "Actual prediction Loss tensor(-0.9796)\n",
      "Predicted through Recurrent input tensor([0, 1, 2, 3, 4, 5, 6, 7, 8, 9])\n",
      "Prediction using External drive tensor([0, 1, 2, 3, 4, 5, 6, 7, 8, 9])\n",
      "Actual prediction Loss tensor(-0.9588)\n"
     ]
    },
    {
     "name": "stderr",
     "output_type": "stream",
     "text": [
      " 89%|███████████████████████████████████████████████████████████████████        | 17899/20000 [00:53<00:06, 333.87it/s]"
     ]
    },
    {
     "name": "stdout",
     "output_type": "stream",
     "text": [
      "Predicted through Recurrent input tensor([0, 1, 2, 3, 4, 5, 6, 7, 8, 9])\n",
      "Prediction using External drive tensor([0, 1, 2, 3, 4, 5, 6, 7, 8, 9])\n",
      "Actual prediction Loss tensor(-0.9680)\n",
      "Predicted through Recurrent input tensor([0, 1, 2, 3, 4, 5, 6, 7, 8, 9])\n",
      "Prediction using External drive tensor([0, 1, 2, 3, 4, 5, 6, 7, 8, 9])\n",
      "Actual prediction Loss tensor(-0.9852)\n",
      "Predicted through Recurrent input tensor([0, 1, 2, 3, 4, 5, 6, 7, 8, 9])\n",
      "Prediction using External drive tensor([0, 1, 2, 3, 4, 5, 6, 7, 8, 9])\n",
      "Actual prediction Loss tensor(-0.9831)\n",
      "Predicted through Recurrent input tensor([0, 1, 2, 3, 4, 5, 6, 7, 8, 9])\n",
      "Prediction using External drive tensor([0, 1, 2, 3, 4, 5, 6, 7, 8, 9])\n",
      "Actual prediction Loss tensor(-0.9531)\n"
     ]
    },
    {
     "name": "stderr",
     "output_type": "stream",
     "text": [
      " 90%|███████████████████████████████████████████████████████████████████▏       | 17933/20000 [00:53<00:06, 324.16it/s]"
     ]
    },
    {
     "name": "stdout",
     "output_type": "stream",
     "text": [
      "Predicted through Recurrent input tensor([0, 1, 2, 3, 4, 5, 6, 7, 8, 9])\n",
      "Prediction using External drive tensor([0, 1, 2, 3, 4, 5, 6, 7, 8, 9])\n",
      "Actual prediction Loss tensor(-0.9728)\n",
      "Predicted through Recurrent input tensor([0, 1, 2, 3, 4, 5, 6, 7, 8, 9])\n",
      "Prediction using External drive tensor([0, 1, 2, 3, 4, 5, 6, 7, 8, 9])\n",
      "Actual prediction Loss tensor(-0.9778)\n",
      "Predicted through Recurrent input tensor([0, 1, 2, 0, 4, 5, 6, 7, 8, 9])\n",
      "Prediction using External drive tensor([0, 1, 2, 3, 4, 5, 6, 7, 8, 9])\n",
      "Actual prediction Loss tensor(-0.9374)\n"
     ]
    },
    {
     "name": "stderr",
     "output_type": "stream",
     "text": [
      " 90%|███████████████████████████████████████████████████████████████████▍       | 17967/20000 [00:53<00:06, 326.86it/s]"
     ]
    },
    {
     "name": "stdout",
     "output_type": "stream",
     "text": [
      "Predicted through Recurrent input tensor([0, 1, 2, 3, 4, 5, 6, 7, 8, 9])\n",
      "Prediction using External drive tensor([0, 1, 2, 3, 4, 5, 6, 7, 8, 9])\n",
      "Actual prediction Loss tensor(-0.9798)\n",
      "Predicted through Recurrent input tensor([0, 1, 2, 3, 4, 5, 6, 7, 8, 9])\n",
      "Prediction using External drive tensor([0, 1, 2, 3, 4, 5, 6, 7, 8, 9])\n",
      "Actual prediction Loss tensor(-0.9591)\n",
      "Predicted through Recurrent input tensor([0, 1, 2, 3, 4, 5, 6, 7, 8, 9])\n",
      "Prediction using External drive tensor([0, 1, 2, 3, 4, 5, 6, 7, 8, 9])\n",
      "Actual prediction Loss tensor(-0.9682)\n",
      "Predicted through Recurrent input tensor([0, 1, 2, 3, 4, 5, 6, 7, 8, 9])\n",
      "Prediction using External drive tensor([0, 1, 2, 3, 4, 5, 6, 7, 8, 9])\n",
      "Actual prediction Loss tensor(-0.9853)\n"
     ]
    },
    {
     "name": "stderr",
     "output_type": "stream",
     "text": [
      " 90%|███████████████████████████████████████████████████████████████████▌       | 18000/20000 [00:53<00:06, 322.98it/s]"
     ]
    },
    {
     "name": "stdout",
     "output_type": "stream",
     "text": [
      "Predicted through Recurrent input tensor([0, 1, 2, 3, 4, 5, 6, 7, 8, 9])\n",
      "Prediction using External drive tensor([0, 1, 2, 3, 4, 5, 6, 7, 8, 9])\n",
      "Actual prediction Loss tensor(-0.9833)\n",
      "Predicted through Recurrent input tensor([0, 1, 2, 3, 4, 5, 6, 7, 8, 9])\n",
      "Prediction using External drive tensor([0, 1, 2, 3, 4, 5, 6, 7, 8, 9])\n",
      "Actual prediction Loss tensor(-0.9535)\n",
      "Predicted through Recurrent input tensor([0, 1, 2, 3, 4, 5, 6, 7, 8, 9])\n",
      "Prediction using External drive tensor([0, 1, 2, 3, 4, 5, 6, 7, 8, 9])\n",
      "Actual prediction Loss tensor(-0.9730)\n"
     ]
    },
    {
     "name": "stderr",
     "output_type": "stream",
     "text": [
      " 90%|███████████████████████████████████████████████████████████████████▌       | 18033/20000 [00:53<00:06, 321.26it/s]"
     ]
    },
    {
     "name": "stdout",
     "output_type": "stream",
     "text": [
      "Predicted through Recurrent input tensor([0, 1, 2, 3, 4, 5, 6, 7, 8, 9])\n",
      "Prediction using External drive tensor([0, 1, 2, 3, 4, 5, 6, 7, 8, 9])\n",
      "Actual prediction Loss tensor(-0.9780)\n",
      "Predicted through Recurrent input tensor([0, 1, 2, 0, 4, 5, 6, 7, 8, 9])\n",
      "Prediction using External drive tensor([0, 1, 2, 3, 4, 5, 6, 7, 8, 9])\n",
      "Actual prediction Loss tensor(-0.9380)\n",
      "Predicted through Recurrent input tensor([0, 1, 2, 3, 4, 5, 6, 7, 8, 9])\n",
      "Prediction using External drive tensor([0, 1, 2, 3, 4, 5, 6, 7, 8, 9])\n",
      "Actual prediction Loss tensor(-0.9800)\n"
     ]
    },
    {
     "name": "stderr",
     "output_type": "stream",
     "text": [
      " 90%|███████████████████████████████████████████████████████████████████▊       | 18067/20000 [00:53<00:05, 324.79it/s]"
     ]
    },
    {
     "name": "stdout",
     "output_type": "stream",
     "text": [
      "Predicted through Recurrent input tensor([0, 1, 2, 3, 4, 5, 6, 7, 8, 9])\n",
      "Prediction using External drive tensor([0, 1, 2, 3, 4, 5, 6, 7, 8, 9])\n",
      "Actual prediction Loss tensor(-0.9595)\n",
      "Predicted through Recurrent input tensor([0, 1, 2, 3, 4, 5, 6, 7, 8, 9])\n",
      "Prediction using External drive tensor([0, 1, 2, 3, 4, 5, 6, 7, 8, 9])\n",
      "Actual prediction Loss tensor(-0.9685)\n",
      "Predicted through Recurrent input tensor([0, 1, 2, 3, 4, 5, 6, 7, 8, 9])\n",
      "Prediction using External drive tensor([0, 1, 2, 3, 4, 5, 6, 7, 8, 9])\n",
      "Actual prediction Loss tensor(-0.9855)\n",
      "Predicted through Recurrent input tensor([0, 1, 2, 3, 4, 5, 6, 7, 8, 9])\n",
      "Prediction using External drive tensor([0, 1, 2, 3, 4, 5, 6, 7, 8, 9])\n",
      "Actual prediction Loss tensor(-0.9834)\n"
     ]
    },
    {
     "name": "stderr",
     "output_type": "stream",
     "text": [
      " 90%|███████████████████████████████████████████████████████████████████▉       | 18100/20000 [00:53<00:05, 317.85it/s]"
     ]
    },
    {
     "name": "stdout",
     "output_type": "stream",
     "text": [
      "Predicted through Recurrent input tensor([0, 1, 2, 3, 4, 5, 6, 7, 8, 9])\n",
      "Prediction using External drive tensor([0, 1, 2, 3, 4, 5, 6, 7, 8, 9])\n",
      "Actual prediction Loss tensor(-0.9540)\n",
      "Predicted through Recurrent input tensor([0, 1, 2, 3, 4, 5, 6, 7, 8, 9])\n",
      "Prediction using External drive tensor([0, 1, 2, 3, 4, 5, 6, 7, 8, 9])\n",
      "Actual prediction Loss tensor(-0.9733)\n",
      "Predicted through Recurrent input tensor([0, 1, 2, 3, 4, 5, 6, 7, 8, 9])\n",
      "Prediction using External drive tensor([0, 1, 2, 3, 4, 5, 6, 7, 8, 9])\n",
      "Actual prediction Loss tensor(-0.9782)\n"
     ]
    },
    {
     "name": "stderr",
     "output_type": "stream",
     "text": [
      " 91%|████████████████████████████████████████████████████████████████████       | 18134/20000 [00:53<00:05, 323.26it/s]"
     ]
    },
    {
     "name": "stdout",
     "output_type": "stream",
     "text": [
      "Predicted through Recurrent input tensor([0, 1, 2, 0, 4, 5, 6, 7, 8, 9])\n",
      "Prediction using External drive tensor([0, 1, 2, 3, 4, 5, 6, 7, 8, 9])\n",
      "Actual prediction Loss tensor(-0.9385)\n",
      "Predicted through Recurrent input tensor([0, 1, 2, 3, 4, 5, 6, 7, 8, 9])\n",
      "Prediction using External drive tensor([0, 1, 2, 3, 4, 5, 6, 7, 8, 9])\n",
      "Actual prediction Loss tensor(-0.9801)\n",
      "Predicted through Recurrent input tensor([0, 1, 2, 3, 4, 5, 6, 7, 8, 9])\n",
      "Prediction using External drive tensor([0, 1, 2, 3, 4, 5, 6, 7, 8, 9])\n",
      "Actual prediction Loss tensor(-0.9598)\n"
     ]
    },
    {
     "name": "stderr",
     "output_type": "stream",
     "text": [
      " 91%|████████████████████████████████████████████████████████████████████▏      | 18169/20000 [00:53<00:05, 329.91it/s]"
     ]
    },
    {
     "name": "stdout",
     "output_type": "stream",
     "text": [
      "Predicted through Recurrent input tensor([0, 1, 2, 3, 4, 5, 6, 7, 8, 9])\n",
      "Prediction using External drive tensor([0, 1, 2, 3, 4, 5, 6, 7, 8, 9])\n",
      "Actual prediction Loss tensor(-0.9688)\n",
      "Predicted through Recurrent input tensor([0, 1, 2, 3, 4, 5, 6, 7, 8, 9])\n",
      "Prediction using External drive tensor([0, 1, 2, 3, 4, 5, 6, 7, 8, 9])\n",
      "Actual prediction Loss tensor(-0.9856)\n",
      "Predicted through Recurrent input tensor([0, 1, 2, 3, 4, 5, 6, 7, 8, 9])\n",
      "Prediction using External drive tensor([0, 1, 2, 3, 4, 5, 6, 7, 8, 9])\n",
      "Actual prediction Loss tensor(-0.9836)\n",
      "Predicted through Recurrent input tensor([0, 1, 2, 3, 4, 5, 6, 7, 8, 9])\n",
      "Prediction using External drive tensor([0, 1, 2, 3, 4, 5, 6, 7, 8, 9])\n",
      "Actual prediction Loss tensor(-0.9544)\n"
     ]
    },
    {
     "name": "stderr",
     "output_type": "stream",
     "text": [
      " 91%|████████████████████████████████████████████████████████████████████▎      | 18203/20000 [00:53<00:05, 321.54it/s]"
     ]
    },
    {
     "name": "stdout",
     "output_type": "stream",
     "text": [
      "Predicted through Recurrent input tensor([0, 1, 2, 3, 4, 5, 6, 7, 8, 9])\n",
      "Prediction using External drive tensor([0, 1, 2, 3, 4, 5, 6, 7, 8, 9])\n",
      "Actual prediction Loss tensor(-0.9736)\n",
      "Predicted through Recurrent input tensor([0, 1, 2, 3, 4, 5, 6, 7, 8, 9])\n",
      "Prediction using External drive tensor([0, 1, 2, 3, 4, 5, 6, 7, 8, 9])\n",
      "Actual prediction Loss tensor(-0.9784)\n",
      "Predicted through Recurrent input tensor([0, 1, 2, 0, 4, 5, 6, 7, 8, 9])\n",
      "Prediction using External drive tensor([0, 1, 2, 3, 4, 5, 6, 7, 8, 9])\n",
      "Actual prediction Loss tensor(-0.9391)\n"
     ]
    },
    {
     "name": "stderr",
     "output_type": "stream",
     "text": [
      " 91%|████████████████████████████████████████████████████████████████████▍      | 18236/20000 [00:54<00:05, 323.08it/s]"
     ]
    },
    {
     "name": "stdout",
     "output_type": "stream",
     "text": [
      "Predicted through Recurrent input tensor([0, 1, 2, 3, 4, 5, 6, 7, 8, 9])\n",
      "Prediction using External drive tensor([0, 1, 2, 3, 4, 5, 6, 7, 8, 9])\n",
      "Actual prediction Loss tensor(-0.9803)\n",
      "Predicted through Recurrent input tensor([0, 1, 2, 3, 4, 5, 6, 7, 8, 9])\n",
      "Prediction using External drive tensor([0, 1, 2, 3, 4, 5, 6, 7, 8, 9])\n",
      "Actual prediction Loss tensor(-0.9602)\n",
      "Predicted through Recurrent input tensor([0, 1, 2, 3, 4, 5, 6, 7, 8, 9])\n",
      "Prediction using External drive tensor([0, 1, 2, 3, 4, 5, 6, 7, 8, 9])\n",
      "Actual prediction Loss tensor(-0.9691)\n",
      "Predicted through Recurrent input tensor([0, 1, 2, 3, 4, 5, 6, 7, 8, 9])\n",
      "Prediction using External drive tensor([0, 1, 2, 3, 4, 5, 6, 7, 8, 9])\n",
      "Actual prediction Loss tensor(-0.9857)\n"
     ]
    },
    {
     "name": "stderr",
     "output_type": "stream",
     "text": [
      " 91%|████████████████████████████████████████████████████████████████████▌      | 18270/20000 [00:54<00:05, 316.97it/s]"
     ]
    },
    {
     "name": "stdout",
     "output_type": "stream",
     "text": [
      "Predicted through Recurrent input tensor([0, 1, 2, 3, 4, 5, 6, 7, 8, 9])\n",
      "Prediction using External drive tensor([0, 1, 2, 3, 4, 5, 6, 7, 8, 9])\n",
      "Actual prediction Loss tensor(-0.9837)\n",
      "Predicted through Recurrent input tensor([0, 1, 2, 3, 4, 5, 6, 7, 8, 9])\n",
      "Prediction using External drive tensor([0, 1, 2, 3, 4, 5, 6, 7, 8, 9])\n",
      "Actual prediction Loss tensor(-0.9549)\n",
      "Predicted through Recurrent input tensor([0, 1, 2, 3, 4, 5, 6, 7, 8, 9])\n",
      "Prediction using External drive tensor([0, 1, 2, 3, 4, 5, 6, 7, 8, 9])\n",
      "Actual prediction Loss tensor(-0.9738)\n"
     ]
    },
    {
     "name": "stderr",
     "output_type": "stream",
     "text": [
      " 92%|████████████████████████████████████████████████████████████████████▋      | 18304/20000 [00:54<00:05, 321.71it/s]"
     ]
    },
    {
     "name": "stdout",
     "output_type": "stream",
     "text": [
      "Predicted through Recurrent input tensor([0, 1, 2, 3, 4, 5, 6, 7, 8, 9])\n",
      "Prediction using External drive tensor([0, 1, 2, 3, 4, 5, 6, 7, 8, 9])\n",
      "Actual prediction Loss tensor(-0.9786)\n",
      "Predicted through Recurrent input tensor([0, 1, 2, 0, 4, 5, 6, 7, 8, 9])\n",
      "Prediction using External drive tensor([0, 1, 2, 3, 4, 5, 6, 7, 8, 9])\n",
      "Actual prediction Loss tensor(-0.9396)\n",
      "Predicted through Recurrent input tensor([0, 1, 2, 3, 4, 5, 6, 7, 8, 9])\n",
      "Prediction using External drive tensor([0, 1, 2, 3, 4, 5, 6, 7, 8, 9])\n",
      "Actual prediction Loss tensor(-0.9805)\n",
      "Predicted through Recurrent input tensor([0, 1, 2, 3, 4, 5, 6, 7, 8, 9])\n",
      "Prediction using External drive tensor([0, 1, 2, 3, 4, 5, 6, 7, 8, 9])\n",
      "Actual prediction Loss tensor(-0.9605)\n"
     ]
    },
    {
     "name": "stderr",
     "output_type": "stream",
     "text": [
      " 92%|████████████████████████████████████████████████████████████████████▊      | 18340/20000 [00:54<00:05, 322.49it/s]"
     ]
    },
    {
     "name": "stdout",
     "output_type": "stream",
     "text": [
      "Predicted through Recurrent input tensor([0, 1, 2, 3, 4, 5, 6, 7, 8, 9])\n",
      "Prediction using External drive tensor([0, 1, 2, 3, 4, 5, 6, 7, 8, 9])\n",
      "Actual prediction Loss tensor(-0.9694)\n",
      "Predicted through Recurrent input tensor([0, 1, 2, 3, 4, 5, 6, 7, 8, 9])\n",
      "Prediction using External drive tensor([0, 1, 2, 3, 4, 5, 6, 7, 8, 9])\n",
      "Actual prediction Loss tensor(-0.9859)\n",
      "Predicted through Recurrent input tensor([0, 1, 2, 3, 4, 5, 6, 7, 8, 9])\n",
      "Prediction using External drive tensor([0, 1, 2, 3, 4, 5, 6, 7, 8, 9])\n",
      "Actual prediction Loss tensor(-0.9839)\n"
     ]
    },
    {
     "name": "stderr",
     "output_type": "stream",
     "text": [
      " 92%|████████████████████████████████████████████████████████████████████▉      | 18374/20000 [00:54<00:04, 326.61it/s]"
     ]
    },
    {
     "name": "stdout",
     "output_type": "stream",
     "text": [
      "Predicted through Recurrent input tensor([0, 1, 2, 3, 4, 5, 6, 7, 8, 9])\n",
      "Prediction using External drive tensor([0, 1, 2, 3, 4, 5, 6, 7, 8, 9])\n",
      "Actual prediction Loss tensor(-0.9553)\n",
      "Predicted through Recurrent input tensor([0, 1, 2, 3, 4, 5, 6, 7, 8, 9])\n",
      "Prediction using External drive tensor([0, 1, 2, 3, 4, 5, 6, 7, 8, 9])\n",
      "Actual prediction Loss tensor(-0.9741)\n",
      "Predicted through Recurrent input tensor([0, 1, 2, 3, 4, 5, 6, 7, 8, 9])\n",
      "Prediction using External drive tensor([0, 1, 2, 3, 4, 5, 6, 7, 8, 9])\n",
      "Actual prediction Loss tensor(-0.9788)\n"
     ]
    },
    {
     "name": "stderr",
     "output_type": "stream",
     "text": [
      " 92%|█████████████████████████████████████████████████████████████████████      | 18408/20000 [00:54<00:04, 329.55it/s]"
     ]
    },
    {
     "name": "stdout",
     "output_type": "stream",
     "text": [
      "Predicted through Recurrent input tensor([0, 1, 2, 0, 4, 5, 6, 7, 8, 9])\n",
      "Prediction using External drive tensor([0, 1, 2, 3, 4, 5, 6, 7, 8, 9])\n",
      "Actual prediction Loss tensor(-0.9401)\n",
      "Predicted through Recurrent input tensor([0, 1, 2, 3, 4, 5, 6, 7, 8, 9])\n",
      "Prediction using External drive tensor([0, 1, 2, 3, 4, 5, 6, 7, 8, 9])\n",
      "Actual prediction Loss tensor(-0.9806)\n",
      "Predicted through Recurrent input tensor([0, 1, 2, 3, 4, 5, 6, 7, 8, 9])\n",
      "Prediction using External drive tensor([0, 1, 2, 3, 4, 5, 6, 7, 8, 9])\n",
      "Actual prediction Loss tensor(-0.9608)\n",
      "Predicted through Recurrent input tensor([0, 1, 2, 3, 4, 5, 6, 7, 8, 9])\n",
      "Prediction using External drive tensor([0, 1, 2, 3, 4, 5, 6, 7, 8, 9])\n",
      "Actual prediction Loss tensor(-0.9696)\n"
     ]
    },
    {
     "name": "stderr",
     "output_type": "stream",
     "text": [
      " 92%|█████████████████████████████████████████████████████████████████████▏     | 18441/20000 [00:54<00:04, 319.16it/s]"
     ]
    },
    {
     "name": "stdout",
     "output_type": "stream",
     "text": [
      "Predicted through Recurrent input tensor([0, 1, 2, 3, 4, 5, 6, 7, 8, 9])\n",
      "Prediction using External drive tensor([0, 1, 2, 3, 4, 5, 6, 7, 8, 9])\n",
      "Actual prediction Loss tensor(-0.9860)\n",
      "Predicted through Recurrent input tensor([0, 1, 2, 3, 4, 5, 6, 7, 8, 9])\n",
      "Prediction using External drive tensor([0, 1, 2, 3, 4, 5, 6, 7, 8, 9])\n",
      "Actual prediction Loss tensor(-0.9840)\n",
      "Predicted through Recurrent input tensor([0, 1, 2, 3, 4, 5, 6, 7, 8, 9])\n",
      "Prediction using External drive tensor([0, 1, 2, 3, 4, 5, 6, 7, 8, 9])\n",
      "Actual prediction Loss tensor(-0.9557)\n"
     ]
    },
    {
     "name": "stderr",
     "output_type": "stream",
     "text": [
      " 92%|█████████████████████████████████████████████████████████████████████▎     | 18474/20000 [00:54<00:04, 320.46it/s]"
     ]
    },
    {
     "name": "stdout",
     "output_type": "stream",
     "text": [
      "Predicted through Recurrent input tensor([0, 1, 2, 3, 4, 5, 6, 7, 8, 9])\n",
      "Prediction using External drive tensor([0, 1, 2, 3, 4, 5, 6, 7, 8, 9])\n",
      "Actual prediction Loss tensor(-0.9743)\n",
      "Predicted through Recurrent input tensor([0, 1, 2, 3, 4, 5, 6, 7, 8, 9])\n",
      "Prediction using External drive tensor([0, 1, 2, 3, 4, 5, 6, 7, 8, 9])\n",
      "Actual prediction Loss tensor(-0.9790)\n",
      "Predicted through Recurrent input tensor([0, 1, 2, 0, 4, 5, 6, 7, 8, 9])\n",
      "Prediction using External drive tensor([0, 1, 2, 3, 4, 5, 6, 7, 8, 9])\n",
      "Actual prediction Loss tensor(-0.9407)\n"
     ]
    },
    {
     "name": "stderr",
     "output_type": "stream",
     "text": [
      " 93%|█████████████████████████████████████████████████████████████████████▍     | 18508/20000 [00:54<00:04, 326.08it/s]"
     ]
    },
    {
     "name": "stdout",
     "output_type": "stream",
     "text": [
      "Predicted through Recurrent input tensor([0, 1, 2, 3, 4, 5, 6, 7, 8, 9])\n",
      "Prediction using External drive tensor([0, 1, 2, 3, 4, 5, 6, 7, 8, 9])\n",
      "Actual prediction Loss tensor(-0.9808)\n",
      "Predicted through Recurrent input tensor([0, 1, 2, 3, 4, 5, 6, 7, 8, 9])\n",
      "Prediction using External drive tensor([0, 1, 2, 3, 4, 5, 6, 7, 8, 9])\n",
      "Actual prediction Loss tensor(-0.9612)\n",
      "Predicted through Recurrent input tensor([0, 1, 2, 3, 4, 5, 6, 7, 8, 9])\n",
      "Prediction using External drive tensor([0, 1, 2, 3, 4, 5, 6, 7, 8, 9])\n",
      "Actual prediction Loss tensor(-0.9699)\n",
      "Predicted through Recurrent input tensor([0, 1, 2, 3, 4, 5, 6, 7, 8, 9])\n",
      "Prediction using External drive tensor([0, 1, 2, 3, 4, 5, 6, 7, 8, 9])\n",
      "Actual prediction Loss tensor(-0.9861)\n"
     ]
    },
    {
     "name": "stderr",
     "output_type": "stream",
     "text": [
      " 93%|█████████████████████████████████████████████████████████████████████▌     | 18541/20000 [00:55<00:04, 319.64it/s]"
     ]
    },
    {
     "name": "stdout",
     "output_type": "stream",
     "text": [
      "Predicted through Recurrent input tensor([0, 1, 2, 3, 4, 5, 6, 7, 8, 9])\n",
      "Prediction using External drive tensor([0, 1, 2, 3, 4, 5, 6, 7, 8, 9])\n",
      "Actual prediction Loss tensor(-0.9842)\n",
      "Predicted through Recurrent input tensor([0, 1, 2, 3, 4, 5, 6, 7, 8, 9])\n",
      "Prediction using External drive tensor([0, 1, 2, 3, 4, 5, 6, 7, 8, 9])\n",
      "Actual prediction Loss tensor(-0.9561)\n",
      "Predicted through Recurrent input tensor([0, 1, 2, 3, 4, 5, 6, 7, 8, 9])\n",
      "Prediction using External drive tensor([0, 1, 2, 3, 4, 5, 6, 7, 8, 9])\n",
      "Actual prediction Loss tensor(-0.9746)\n"
     ]
    },
    {
     "name": "stderr",
     "output_type": "stream",
     "text": [
      " 93%|█████████████████████████████████████████████████████████████████████▋     | 18575/20000 [00:55<00:04, 323.63it/s]"
     ]
    },
    {
     "name": "stdout",
     "output_type": "stream",
     "text": [
      "Predicted through Recurrent input tensor([0, 1, 2, 3, 4, 5, 6, 7, 8, 9])\n",
      "Prediction using External drive tensor([0, 1, 2, 3, 4, 5, 6, 7, 8, 9])\n",
      "Actual prediction Loss tensor(-0.9792)\n",
      "Predicted through Recurrent input tensor([0, 1, 2, 0, 4, 5, 6, 7, 8, 9])\n",
      "Prediction using External drive tensor([0, 1, 2, 3, 4, 5, 6, 7, 8, 9])\n",
      "Actual prediction Loss tensor(-0.9412)\n",
      "Predicted through Recurrent input tensor([0, 1, 2, 3, 4, 5, 6, 7, 8, 9])\n",
      "Prediction using External drive tensor([0, 1, 2, 3, 4, 5, 6, 7, 8, 9])\n",
      "Actual prediction Loss tensor(-0.9809)\n",
      "Predicted through Recurrent input tensor([0, 1, 2, 3, 4, 5, 6, 7, 8, 9])\n",
      "Prediction using External drive tensor([0, 1, 2, 3, 4, 5, 6, 7, 8, 9])\n",
      "Actual prediction Loss tensor(-0.9615)\n"
     ]
    },
    {
     "name": "stderr",
     "output_type": "stream",
     "text": [
      " 93%|█████████████████████████████████████████████████████████████████████▊     | 18610/20000 [00:55<00:04, 322.86it/s]"
     ]
    },
    {
     "name": "stdout",
     "output_type": "stream",
     "text": [
      "Predicted through Recurrent input tensor([0, 1, 2, 3, 4, 5, 6, 7, 8, 9])\n",
      "Prediction using External drive tensor([0, 1, 2, 3, 4, 5, 6, 7, 8, 9])\n",
      "Actual prediction Loss tensor(-0.9702)\n",
      "Predicted through Recurrent input tensor([0, 1, 2, 3, 4, 5, 6, 7, 8, 9])\n",
      "Prediction using External drive tensor([0, 1, 2, 3, 4, 5, 6, 7, 8, 9])\n",
      "Actual prediction Loss tensor(-0.9862)\n",
      "Predicted through Recurrent input tensor([0, 1, 2, 3, 4, 5, 6, 7, 8, 9])\n",
      "Prediction using External drive tensor([0, 1, 2, 3, 4, 5, 6, 7, 8, 9])\n",
      "Actual prediction Loss tensor(-0.9843)\n"
     ]
    },
    {
     "name": "stderr",
     "output_type": "stream",
     "text": [
      " 93%|█████████████████████████████████████████████████████████████████████▉     | 18643/20000 [00:55<00:04, 319.32it/s]"
     ]
    },
    {
     "name": "stdout",
     "output_type": "stream",
     "text": [
      "Predicted through Recurrent input tensor([0, 1, 2, 3, 4, 5, 6, 7, 8, 9])\n",
      "Prediction using External drive tensor([0, 1, 2, 3, 4, 5, 6, 7, 8, 9])\n",
      "Actual prediction Loss tensor(-0.9565)\n",
      "Predicted through Recurrent input tensor([0, 1, 2, 3, 4, 5, 6, 7, 8, 9])\n",
      "Prediction using External drive tensor([0, 1, 2, 3, 4, 5, 6, 7, 8, 9])\n",
      "Actual prediction Loss tensor(-0.9748)\n",
      "Predicted through Recurrent input tensor([0, 1, 2, 3, 4, 5, 6, 7, 8, 9])\n",
      "Prediction using External drive tensor([0, 1, 2, 3, 4, 5, 6, 7, 8, 9])\n",
      "Actual prediction Loss tensor(-0.9794)\n"
     ]
    },
    {
     "name": "stderr",
     "output_type": "stream",
     "text": [
      " 93%|██████████████████████████████████████████████████████████████████████     | 18676/20000 [00:55<00:04, 322.44it/s]"
     ]
    },
    {
     "name": "stdout",
     "output_type": "stream",
     "text": [
      "Predicted through Recurrent input tensor([0, 1, 2, 0, 4, 5, 6, 7, 8, 9])\n",
      "Prediction using External drive tensor([0, 1, 2, 3, 4, 5, 6, 7, 8, 9])\n",
      "Actual prediction Loss tensor(-0.9417)\n",
      "Predicted through Recurrent input tensor([0, 1, 2, 3, 4, 5, 6, 7, 8, 9])\n",
      "Prediction using External drive tensor([0, 1, 2, 3, 4, 5, 6, 7, 8, 9])\n",
      "Actual prediction Loss tensor(-0.9811)\n",
      "Predicted through Recurrent input tensor([0, 1, 2, 3, 4, 5, 6, 7, 8, 9])\n",
      "Prediction using External drive tensor([0, 1, 2, 3, 4, 5, 6, 7, 8, 9])\n",
      "Actual prediction Loss tensor(-0.9618)\n",
      "Predicted through Recurrent input tensor([0, 1, 2, 3, 4, 5, 6, 7, 8, 9])\n",
      "Prediction using External drive tensor([0, 1, 2, 3, 4, 5, 6, 7, 8, 9])\n",
      "Actual prediction Loss tensor(-0.9704)\n"
     ]
    },
    {
     "name": "stderr",
     "output_type": "stream",
     "text": [
      " 94%|██████████████████████████████████████████████████████████████████████▏    | 18710/20000 [00:55<00:03, 322.85it/s]"
     ]
    },
    {
     "name": "stdout",
     "output_type": "stream",
     "text": [
      "Predicted through Recurrent input tensor([0, 1, 2, 3, 4, 5, 6, 7, 8, 9])\n",
      "Prediction using External drive tensor([0, 1, 2, 3, 4, 5, 6, 7, 8, 9])\n",
      "Actual prediction Loss tensor(-0.9864)\n",
      "Predicted through Recurrent input tensor([0, 1, 2, 3, 4, 5, 6, 7, 8, 9])\n",
      "Prediction using External drive tensor([0, 1, 2, 3, 4, 5, 6, 7, 8, 9])\n",
      "Actual prediction Loss tensor(-0.9844)\n",
      "Predicted through Recurrent input tensor([0, 1, 2, 3, 4, 5, 6, 7, 8, 9])\n",
      "Prediction using External drive tensor([0, 1, 2, 3, 4, 5, 6, 7, 8, 9])\n",
      "Actual prediction Loss tensor(-0.9569)\n"
     ]
    },
    {
     "name": "stderr",
     "output_type": "stream",
     "text": [
      " 94%|██████████████████████████████████████████████████████████████████████▎    | 18744/20000 [00:55<00:03, 325.93it/s]"
     ]
    },
    {
     "name": "stdout",
     "output_type": "stream",
     "text": [
      "Predicted through Recurrent input tensor([0, 1, 2, 3, 4, 5, 6, 7, 8, 9])\n",
      "Prediction using External drive tensor([0, 1, 2, 3, 4, 5, 6, 7, 8, 9])\n",
      "Actual prediction Loss tensor(-0.9750)\n",
      "Predicted through Recurrent input tensor([0, 1, 2, 3, 4, 5, 6, 7, 8, 9])\n",
      "Prediction using External drive tensor([0, 1, 2, 3, 4, 5, 6, 7, 8, 9])\n",
      "Actual prediction Loss tensor(-0.9796)\n",
      "Predicted through Recurrent input tensor([0, 1, 2, 0, 4, 5, 6, 7, 8, 9])\n",
      "Prediction using External drive tensor([0, 1, 2, 3, 4, 5, 6, 7, 8, 9])\n",
      "Actual prediction Loss tensor(-0.9422)\n"
     ]
    },
    {
     "name": "stderr",
     "output_type": "stream",
     "text": [
      " 94%|██████████████████████████████████████████████████████████████████████▍    | 18779/20000 [00:55<00:03, 332.79it/s]"
     ]
    },
    {
     "name": "stdout",
     "output_type": "stream",
     "text": [
      "Predicted through Recurrent input tensor([0, 1, 2, 3, 4, 5, 6, 7, 8, 9])\n",
      "Prediction using External drive tensor([0, 1, 2, 3, 4, 5, 6, 7, 8, 9])\n",
      "Actual prediction Loss tensor(-0.9813)\n",
      "Predicted through Recurrent input tensor([0, 1, 2, 3, 4, 5, 6, 7, 8, 9])\n",
      "Prediction using External drive tensor([0, 1, 2, 3, 4, 5, 6, 7, 8, 9])\n",
      "Actual prediction Loss tensor(-0.9621)\n",
      "Predicted through Recurrent input tensor([0, 1, 2, 3, 4, 5, 6, 7, 8, 9])\n",
      "Prediction using External drive tensor([0, 1, 2, 3, 4, 5, 6, 7, 8, 9])\n",
      "Actual prediction Loss tensor(-0.9707)\n",
      "Predicted through Recurrent input tensor([0, 1, 2, 3, 4, 5, 6, 7, 8, 9])\n",
      "Prediction using External drive tensor([0, 1, 2, 3, 4, 5, 6, 7, 8, 9])\n",
      "Actual prediction Loss tensor(-0.9865)\n"
     ]
    },
    {
     "name": "stderr",
     "output_type": "stream",
     "text": [
      " 94%|██████████████████████████████████████████████████████████████████████▌    | 18813/20000 [00:55<00:03, 323.45it/s]"
     ]
    },
    {
     "name": "stdout",
     "output_type": "stream",
     "text": [
      "Predicted through Recurrent input tensor([0, 1, 2, 3, 4, 5, 6, 7, 8, 9])\n",
      "Prediction using External drive tensor([0, 1, 2, 3, 4, 5, 6, 7, 8, 9])\n",
      "Actual prediction Loss tensor(-0.9846)\n",
      "Predicted through Recurrent input tensor([0, 1, 2, 3, 4, 5, 6, 7, 8, 9])\n",
      "Prediction using External drive tensor([0, 1, 2, 3, 4, 5, 6, 7, 8, 9])\n",
      "Actual prediction Loss tensor(-0.9573)\n",
      "Predicted through Recurrent input tensor([0, 1, 2, 3, 4, 5, 6, 7, 8, 9])\n",
      "Prediction using External drive tensor([0, 1, 2, 3, 4, 5, 6, 7, 8, 9])\n",
      "Actual prediction Loss tensor(-0.9753)\n"
     ]
    },
    {
     "name": "stderr",
     "output_type": "stream",
     "text": [
      " 94%|██████████████████████████████████████████████████████████████████████▋    | 18849/20000 [00:55<00:03, 332.69it/s]"
     ]
    },
    {
     "name": "stdout",
     "output_type": "stream",
     "text": [
      "Predicted through Recurrent input tensor([0, 1, 2, 3, 4, 5, 6, 7, 8, 9])\n",
      "Prediction using External drive tensor([0, 1, 2, 3, 4, 5, 6, 7, 8, 9])\n",
      "Actual prediction Loss tensor(-0.9798)\n",
      "Predicted through Recurrent input tensor([0, 1, 2, 0, 4, 5, 6, 7, 8, 9])\n",
      "Prediction using External drive tensor([0, 1, 2, 3, 4, 5, 6, 7, 8, 9])\n",
      "Actual prediction Loss tensor(-0.9427)\n",
      "Predicted through Recurrent input tensor([0, 1, 2, 3, 4, 5, 6, 7, 8, 9])\n",
      "Prediction using External drive tensor([0, 1, 2, 3, 4, 5, 6, 7, 8, 9])\n",
      "Actual prediction Loss tensor(-0.9814)\n",
      "Predicted through Recurrent input tensor([0, 1, 2, 3, 4, 5, 6, 7, 8, 9])\n",
      "Prediction using External drive tensor([0, 1, 2, 3, 4, 5, 6, 7, 8, 9])\n",
      "Actual prediction Loss tensor(-0.9624)\n"
     ]
    },
    {
     "name": "stderr",
     "output_type": "stream",
     "text": [
      " 94%|██████████████████████████████████████████████████████████████████████▊    | 18883/20000 [00:56<00:03, 329.02it/s]"
     ]
    },
    {
     "name": "stdout",
     "output_type": "stream",
     "text": [
      "Predicted through Recurrent input tensor([0, 1, 2, 3, 4, 5, 6, 7, 8, 9])\n",
      "Prediction using External drive tensor([0, 1, 2, 3, 4, 5, 6, 7, 8, 9])\n",
      "Actual prediction Loss tensor(-0.9710)\n",
      "Predicted through Recurrent input tensor([0, 1, 2, 3, 4, 5, 6, 7, 8, 9])\n",
      "Prediction using External drive tensor([0, 1, 2, 3, 4, 5, 6, 7, 8, 9])\n",
      "Actual prediction Loss tensor(-0.9866)\n",
      "Predicted through Recurrent input tensor([0, 1, 2, 3, 4, 5, 6, 7, 8, 9])\n",
      "Prediction using External drive tensor([0, 1, 2, 3, 4, 5, 6, 7, 8, 9])\n",
      "Actual prediction Loss tensor(-0.9847)\n"
     ]
    },
    {
     "name": "stderr",
     "output_type": "stream",
     "text": [
      " 95%|██████████████████████████████████████████████████████████████████████▉    | 18917/20000 [00:56<00:03, 331.27it/s]"
     ]
    },
    {
     "name": "stdout",
     "output_type": "stream",
     "text": [
      "Predicted through Recurrent input tensor([0, 1, 2, 3, 4, 5, 6, 7, 8, 9])\n",
      "Prediction using External drive tensor([0, 1, 2, 3, 4, 5, 6, 7, 8, 9])\n",
      "Actual prediction Loss tensor(-0.9577)\n",
      "Predicted through Recurrent input tensor([0, 1, 2, 3, 4, 5, 6, 7, 8, 9])\n",
      "Prediction using External drive tensor([0, 1, 2, 3, 4, 5, 6, 7, 8, 9])\n",
      "Actual prediction Loss tensor(-0.9755)\n",
      "Predicted through Recurrent input tensor([0, 1, 2, 3, 4, 5, 6, 7, 8, 9])\n",
      "Prediction using External drive tensor([0, 1, 2, 3, 4, 5, 6, 7, 8, 9])\n",
      "Actual prediction Loss tensor(-0.9800)\n",
      "Predicted through Recurrent input tensor([0, 1, 2, 0, 4, 5, 6, 7, 8, 9])\n",
      "Prediction using External drive tensor([0, 1, 2, 3, 4, 5, 6, 7, 8, 9])\n",
      "Actual prediction Loss tensor(-0.9432)\n"
     ]
    },
    {
     "name": "stderr",
     "output_type": "stream",
     "text": [
      " 95%|███████████████████████████████████████████████████████████████████████    | 18951/20000 [00:56<00:03, 329.95it/s]"
     ]
    },
    {
     "name": "stdout",
     "output_type": "stream",
     "text": [
      "Predicted through Recurrent input tensor([0, 1, 2, 3, 4, 5, 6, 7, 8, 9])\n",
      "Prediction using External drive tensor([0, 1, 2, 3, 4, 5, 6, 7, 8, 9])\n",
      "Actual prediction Loss tensor(-0.9816)\n",
      "Predicted through Recurrent input tensor([0, 1, 2, 3, 4, 5, 6, 7, 8, 9])\n",
      "Prediction using External drive tensor([0, 1, 2, 3, 4, 5, 6, 7, 8, 9])\n",
      "Actual prediction Loss tensor(-0.9627)\n",
      "Predicted through Recurrent input tensor([0, 1, 2, 3, 4, 5, 6, 7, 8, 9])\n",
      "Prediction using External drive tensor([0, 1, 2, 3, 4, 5, 6, 7, 8, 9])\n",
      "Actual prediction Loss tensor(-0.9712)\n"
     ]
    },
    {
     "name": "stderr",
     "output_type": "stream",
     "text": [
      " 95%|███████████████████████████████████████████████████████████████████████▏   | 18987/20000 [00:56<00:03, 337.47it/s]"
     ]
    },
    {
     "name": "stdout",
     "output_type": "stream",
     "text": [
      "Predicted through Recurrent input tensor([0, 1, 2, 3, 4, 5, 6, 7, 8, 9])\n",
      "Prediction using External drive tensor([0, 1, 2, 3, 4, 5, 6, 7, 8, 9])\n",
      "Actual prediction Loss tensor(-0.9867)\n",
      "Predicted through Recurrent input tensor([0, 1, 2, 3, 4, 5, 6, 7, 8, 9])\n",
      "Prediction using External drive tensor([0, 1, 2, 3, 4, 5, 6, 7, 8, 9])\n",
      "Actual prediction Loss tensor(-0.9848)\n",
      "Predicted through Recurrent input tensor([0, 1, 2, 3, 4, 5, 6, 7, 8, 9])\n",
      "Prediction using External drive tensor([0, 1, 2, 3, 4, 5, 6, 7, 8, 9])\n",
      "Actual prediction Loss tensor(-0.9581)\n",
      "Predicted through Recurrent input tensor([0, 1, 2, 3, 4, 5, 6, 7, 8, 9])\n",
      "Prediction using External drive tensor([0, 1, 2, 3, 4, 5, 6, 7, 8, 9])\n",
      "Actual prediction Loss tensor(-0.9757)\n"
     ]
    },
    {
     "name": "stderr",
     "output_type": "stream",
     "text": [
      " 95%|███████████████████████████████████████████████████████████████████████▎   | 19021/20000 [00:56<00:02, 331.30it/s]"
     ]
    },
    {
     "name": "stdout",
     "output_type": "stream",
     "text": [
      "Predicted through Recurrent input tensor([0, 1, 2, 3, 4, 5, 6, 7, 8, 9])\n",
      "Prediction using External drive tensor([0, 1, 2, 3, 4, 5, 6, 7, 8, 9])\n",
      "Actual prediction Loss tensor(-0.9801)\n",
      "Predicted through Recurrent input tensor([0, 1, 2, 0, 4, 5, 6, 7, 8, 9])\n",
      "Prediction using External drive tensor([0, 1, 2, 3, 4, 5, 6, 7, 8, 9])\n",
      "Actual prediction Loss tensor(-0.9437)\n",
      "Predicted through Recurrent input tensor([0, 1, 2, 3, 4, 5, 6, 7, 8, 9])\n",
      "Prediction using External drive tensor([0, 1, 2, 3, 4, 5, 6, 7, 8, 9])\n",
      "Actual prediction Loss tensor(-0.9817)\n"
     ]
    },
    {
     "name": "stderr",
     "output_type": "stream",
     "text": [
      " 95%|███████████████████████████████████████████████████████████████████████▍   | 19055/20000 [00:56<00:02, 329.02it/s]"
     ]
    },
    {
     "name": "stdout",
     "output_type": "stream",
     "text": [
      "Predicted through Recurrent input tensor([0, 1, 2, 3, 4, 5, 6, 7, 8, 9])\n",
      "Prediction using External drive tensor([0, 1, 2, 3, 4, 5, 6, 7, 8, 9])\n",
      "Actual prediction Loss tensor(-0.9630)\n",
      "Predicted through Recurrent input tensor([0, 1, 2, 3, 4, 5, 6, 7, 8, 9])\n",
      "Prediction using External drive tensor([0, 1, 2, 3, 4, 5, 6, 7, 8, 9])\n",
      "Actual prediction Loss tensor(-0.9715)\n",
      "Predicted through Recurrent input tensor([0, 1, 2, 3, 4, 5, 6, 7, 8, 9])\n",
      "Prediction using External drive tensor([0, 1, 2, 3, 4, 5, 6, 7, 8, 9])\n",
      "Actual prediction Loss tensor(-0.9869)\n",
      "Predicted through Recurrent input tensor([0, 1, 2, 3, 4, 5, 6, 7, 8, 9])\n",
      "Prediction using External drive tensor([0, 1, 2, 3, 4, 5, 6, 7, 8, 9])\n",
      "Actual prediction Loss tensor(-0.9849)\n"
     ]
    },
    {
     "name": "stderr",
     "output_type": "stream",
     "text": [
      " 95%|███████████████████████████████████████████████████████████████████████▌   | 19090/20000 [00:56<00:02, 330.30it/s]"
     ]
    },
    {
     "name": "stdout",
     "output_type": "stream",
     "text": [
      "Predicted through Recurrent input tensor([0, 1, 2, 3, 4, 5, 6, 7, 8, 9])\n",
      "Prediction using External drive tensor([0, 1, 2, 3, 4, 5, 6, 7, 8, 9])\n",
      "Actual prediction Loss tensor(-0.9585)\n",
      "Predicted through Recurrent input tensor([0, 1, 2, 3, 4, 5, 6, 7, 8, 9])\n",
      "Prediction using External drive tensor([0, 1, 2, 3, 4, 5, 6, 7, 8, 9])\n",
      "Actual prediction Loss tensor(-0.9760)\n",
      "Predicted through Recurrent input tensor([0, 1, 2, 3, 4, 5, 6, 7, 8, 9])\n",
      "Prediction using External drive tensor([0, 1, 2, 3, 4, 5, 6, 7, 8, 9])\n",
      "Actual prediction Loss tensor(-0.9803)\n"
     ]
    },
    {
     "name": "stderr",
     "output_type": "stream",
     "text": [
      " 96%|███████████████████████████████████████████████████████████████████████▋   | 19124/20000 [00:56<00:02, 332.18it/s]"
     ]
    },
    {
     "name": "stdout",
     "output_type": "stream",
     "text": [
      "Predicted through Recurrent input tensor([0, 1, 2, 0, 4, 5, 6, 7, 8, 9])\n",
      "Prediction using External drive tensor([0, 1, 2, 3, 4, 5, 6, 7, 8, 9])\n",
      "Actual prediction Loss tensor(-0.9441)\n",
      "Predicted through Recurrent input tensor([0, 1, 2, 3, 4, 5, 6, 7, 8, 9])\n",
      "Prediction using External drive tensor([0, 1, 2, 3, 4, 5, 6, 7, 8, 9])\n",
      "Actual prediction Loss tensor(-0.9819)\n",
      "Predicted through Recurrent input tensor([0, 1, 2, 3, 4, 5, 6, 7, 8, 9])\n",
      "Prediction using External drive tensor([0, 1, 2, 3, 4, 5, 6, 7, 8, 9])\n",
      "Actual prediction Loss tensor(-0.9633)\n",
      "Predicted through Recurrent input tensor([0, 1, 2, 3, 4, 5, 6, 7, 8, 9])\n",
      "Prediction using External drive tensor([0, 1, 2, 3, 4, 5, 6, 7, 8, 9])\n",
      "Actual prediction Loss tensor(-0.9717)\n"
     ]
    },
    {
     "name": "stderr",
     "output_type": "stream",
     "text": [
      " 96%|███████████████████████████████████████████████████████████████████████▊   | 19160/20000 [00:56<00:02, 327.98it/s]"
     ]
    },
    {
     "name": "stdout",
     "output_type": "stream",
     "text": [
      "Predicted through Recurrent input tensor([0, 1, 2, 3, 4, 5, 6, 7, 8, 9])\n",
      "Prediction using External drive tensor([0, 1, 2, 3, 4, 5, 6, 7, 8, 9])\n",
      "Actual prediction Loss tensor(-0.9870)\n",
      "Predicted through Recurrent input tensor([0, 1, 2, 3, 4, 5, 6, 7, 8, 9])\n",
      "Prediction using External drive tensor([0, 1, 2, 3, 4, 5, 6, 7, 8, 9])\n",
      "Actual prediction Loss tensor(-0.9851)\n",
      "Predicted through Recurrent input tensor([0, 1, 2, 3, 4, 5, 6, 7, 8, 9])\n",
      "Prediction using External drive tensor([0, 1, 2, 3, 4, 5, 6, 7, 8, 9])\n",
      "Actual prediction Loss tensor(-0.9589)\n"
     ]
    },
    {
     "name": "stderr",
     "output_type": "stream",
     "text": [
      " 96%|███████████████████████████████████████████████████████████████████████▉   | 19195/20000 [00:57<00:02, 333.33it/s]"
     ]
    },
    {
     "name": "stdout",
     "output_type": "stream",
     "text": [
      "Predicted through Recurrent input tensor([0, 1, 2, 3, 4, 5, 6, 7, 8, 9])\n",
      "Prediction using External drive tensor([0, 1, 2, 3, 4, 5, 6, 7, 8, 9])\n",
      "Actual prediction Loss tensor(-0.9762)\n",
      "Predicted through Recurrent input tensor([0, 1, 2, 3, 4, 5, 6, 7, 8, 9])\n",
      "Prediction using External drive tensor([0, 1, 2, 3, 4, 5, 6, 7, 8, 9])\n",
      "Actual prediction Loss tensor(-0.9805)\n",
      "Predicted through Recurrent input tensor([0, 1, 2, 0, 4, 5, 6, 7, 8, 9])\n",
      "Prediction using External drive tensor([0, 1, 2, 3, 4, 5, 6, 7, 8, 9])\n",
      "Actual prediction Loss tensor(-0.9446)\n",
      "Predicted through Recurrent input tensor([0, 1, 2, 3, 4, 5, 6, 7, 8, 9])\n",
      "Prediction using External drive tensor([0, 1, 2, 3, 4, 5, 6, 7, 8, 9])\n",
      "Actual prediction Loss tensor(-0.9820)\n"
     ]
    },
    {
     "name": "stderr",
     "output_type": "stream",
     "text": [
      " 96%|████████████████████████████████████████████████████████████████████████   | 19230/20000 [00:57<00:02, 331.44it/s]"
     ]
    },
    {
     "name": "stdout",
     "output_type": "stream",
     "text": [
      "Predicted through Recurrent input tensor([0, 1, 2, 3, 4, 5, 6, 7, 8, 9])\n",
      "Prediction using External drive tensor([0, 1, 2, 3, 4, 5, 6, 7, 8, 9])\n",
      "Actual prediction Loss tensor(-0.9636)\n",
      "Predicted through Recurrent input tensor([0, 1, 2, 3, 4, 5, 6, 7, 8, 9])\n",
      "Prediction using External drive tensor([0, 1, 2, 3, 4, 5, 6, 7, 8, 9])\n",
      "Actual prediction Loss tensor(-0.9720)\n",
      "Predicted through Recurrent input tensor([0, 1, 2, 3, 4, 5, 6, 7, 8, 9])\n",
      "Prediction using External drive tensor([0, 1, 2, 3, 4, 5, 6, 7, 8, 9])\n",
      "Actual prediction Loss tensor(-0.9871)\n"
     ]
    },
    {
     "name": "stderr",
     "output_type": "stream",
     "text": [
      " 96%|████████████████████████████████████████████████████████████████████████▏  | 19264/20000 [00:57<00:02, 332.00it/s]"
     ]
    },
    {
     "name": "stdout",
     "output_type": "stream",
     "text": [
      "Predicted through Recurrent input tensor([0, 1, 2, 3, 4, 5, 6, 7, 8, 9])\n",
      "Prediction using External drive tensor([0, 1, 2, 3, 4, 5, 6, 7, 8, 9])\n",
      "Actual prediction Loss tensor(-0.9852)\n",
      "Predicted through Recurrent input tensor([0, 1, 2, 3, 4, 5, 6, 7, 8, 9])\n",
      "Prediction using External drive tensor([0, 1, 2, 3, 4, 5, 6, 7, 8, 9])\n",
      "Actual prediction Loss tensor(-0.9593)\n",
      "Predicted through Recurrent input tensor([0, 1, 2, 3, 4, 5, 6, 7, 8, 9])\n",
      "Prediction using External drive tensor([0, 1, 2, 3, 4, 5, 6, 7, 8, 9])\n",
      "Actual prediction Loss tensor(-0.9764)\n"
     ]
    },
    {
     "name": "stderr",
     "output_type": "stream",
     "text": [
      " 96%|████████████████████████████████████████████████████████████████████████▎  | 19299/20000 [00:57<00:02, 335.27it/s]"
     ]
    },
    {
     "name": "stdout",
     "output_type": "stream",
     "text": [
      "Predicted through Recurrent input tensor([0, 1, 2, 3, 4, 5, 6, 7, 8, 9])\n",
      "Prediction using External drive tensor([0, 1, 2, 3, 4, 5, 6, 7, 8, 9])\n",
      "Actual prediction Loss tensor(-0.9807)\n",
      "Predicted through Recurrent input tensor([0, 1, 2, 0, 4, 5, 6, 7, 8, 9])\n",
      "Prediction using External drive tensor([0, 1, 2, 3, 4, 5, 6, 7, 8, 9])\n",
      "Actual prediction Loss tensor(-0.9451)\n",
      "Predicted through Recurrent input tensor([0, 1, 2, 3, 4, 5, 6, 7, 8, 9])\n",
      "Prediction using External drive tensor([0, 1, 2, 3, 4, 5, 6, 7, 8, 9])\n",
      "Actual prediction Loss tensor(-0.9821)\n",
      "Predicted through Recurrent input tensor([0, 1, 2, 3, 4, 5, 6, 7, 8, 9])\n",
      "Prediction using External drive tensor([0, 1, 2, 3, 4, 5, 6, 7, 8, 9])\n",
      "Actual prediction Loss tensor(-0.9639)\n"
     ]
    },
    {
     "name": "stderr",
     "output_type": "stream",
     "text": [
      " 97%|████████████████████████████████████████████████████████████████████████▍  | 19333/20000 [00:57<00:02, 327.91it/s]"
     ]
    },
    {
     "name": "stdout",
     "output_type": "stream",
     "text": [
      "Predicted through Recurrent input tensor([0, 1, 2, 3, 4, 5, 6, 7, 8, 9])\n",
      "Prediction using External drive tensor([0, 1, 2, 3, 4, 5, 6, 7, 8, 9])\n",
      "Actual prediction Loss tensor(-0.9722)\n",
      "Predicted through Recurrent input tensor([0, 1, 2, 3, 4, 5, 6, 7, 8, 9])\n",
      "Prediction using External drive tensor([0, 1, 2, 3, 4, 5, 6, 7, 8, 9])\n",
      "Actual prediction Loss tensor(-0.9872)\n",
      "Predicted through Recurrent input tensor([0, 1, 2, 3, 4, 5, 6, 7, 8, 9])\n",
      "Prediction using External drive tensor([0, 1, 2, 3, 4, 5, 6, 7, 8, 9])\n",
      "Actual prediction Loss tensor(-0.9853)\n"
     ]
    },
    {
     "name": "stderr",
     "output_type": "stream",
     "text": [
      " 97%|████████████████████████████████████████████████████████████████████████▋  | 19368/20000 [00:57<00:01, 333.28it/s]"
     ]
    },
    {
     "name": "stdout",
     "output_type": "stream",
     "text": [
      "Predicted through Recurrent input tensor([0, 1, 2, 3, 4, 5, 6, 7, 8, 9])\n",
      "Prediction using External drive tensor([0, 1, 2, 3, 4, 5, 6, 7, 8, 9])\n",
      "Actual prediction Loss tensor(-0.9596)\n",
      "Predicted through Recurrent input tensor([0, 1, 2, 3, 4, 5, 6, 7, 8, 9])\n",
      "Prediction using External drive tensor([0, 1, 2, 3, 4, 5, 6, 7, 8, 9])\n",
      "Actual prediction Loss tensor(-0.9766)\n",
      "Predicted through Recurrent input tensor([0, 1, 2, 3, 4, 5, 6, 7, 8, 9])\n",
      "Prediction using External drive tensor([0, 1, 2, 3, 4, 5, 6, 7, 8, 9])\n",
      "Actual prediction Loss tensor(-0.9808)\n",
      "Predicted through Recurrent input tensor([0, 1, 2, 0, 4, 5, 6, 7, 8, 9])\n",
      "Prediction using External drive tensor([0, 1, 2, 3, 4, 5, 6, 7, 8, 9])\n",
      "Actual prediction Loss tensor(-0.9455)\n"
     ]
    },
    {
     "name": "stderr",
     "output_type": "stream",
     "text": [
      " 97%|████████████████████████████████████████████████████████████████████████▊  | 19402/20000 [00:57<00:01, 324.70it/s]"
     ]
    },
    {
     "name": "stdout",
     "output_type": "stream",
     "text": [
      "Predicted through Recurrent input tensor([0, 1, 2, 3, 4, 5, 6, 7, 8, 9])\n",
      "Prediction using External drive tensor([0, 1, 2, 3, 4, 5, 6, 7, 8, 9])\n",
      "Actual prediction Loss tensor(-0.9823)\n",
      "Predicted through Recurrent input tensor([0, 1, 2, 3, 4, 5, 6, 7, 8, 9])\n",
      "Prediction using External drive tensor([0, 1, 2, 3, 4, 5, 6, 7, 8, 9])\n",
      "Actual prediction Loss tensor(-0.9642)\n",
      "Predicted through Recurrent input tensor([0, 1, 2, 3, 4, 5, 6, 7, 8, 9])\n",
      "Prediction using External drive tensor([0, 1, 2, 3, 4, 5, 6, 7, 8, 9])\n",
      "Actual prediction Loss tensor(-0.9724)\n"
     ]
    },
    {
     "name": "stderr",
     "output_type": "stream",
     "text": [
      " 97%|████████████████████████████████████████████████████████████████████████▉  | 19435/20000 [00:57<00:01, 324.35it/s]"
     ]
    },
    {
     "name": "stdout",
     "output_type": "stream",
     "text": [
      "Predicted through Recurrent input tensor([0, 1, 2, 3, 4, 5, 6, 7, 8, 9])\n",
      "Prediction using External drive tensor([0, 1, 2, 3, 4, 5, 6, 7, 8, 9])\n",
      "Actual prediction Loss tensor(-0.9873)\n",
      "Predicted through Recurrent input tensor([0, 1, 2, 3, 4, 5, 6, 7, 8, 9])\n",
      "Prediction using External drive tensor([0, 1, 2, 3, 4, 5, 6, 7, 8, 9])\n",
      "Actual prediction Loss tensor(-0.9854)\n",
      "Predicted through Recurrent input tensor([0, 1, 2, 3, 4, 5, 6, 7, 8, 9])\n",
      "Prediction using External drive tensor([0, 1, 2, 3, 4, 5, 6, 7, 8, 9])\n",
      "Actual prediction Loss tensor(-0.9600)\n",
      "Predicted through Recurrent input tensor([0, 1, 2, 3, 4, 5, 6, 7, 8, 9])\n",
      "Prediction using External drive tensor([0, 1, 2, 3, 4, 5, 6, 7, 8, 9])\n",
      "Actual prediction Loss tensor(-0.9768)\n"
     ]
    },
    {
     "name": "stderr",
     "output_type": "stream",
     "text": [
      " 97%|█████████████████████████████████████████████████████████████████████████  | 19470/20000 [00:57<00:01, 323.37it/s]"
     ]
    },
    {
     "name": "stdout",
     "output_type": "stream",
     "text": [
      "Predicted through Recurrent input tensor([0, 1, 2, 3, 4, 5, 6, 7, 8, 9])\n",
      "Prediction using External drive tensor([0, 1, 2, 3, 4, 5, 6, 7, 8, 9])\n",
      "Actual prediction Loss tensor(-0.9810)\n",
      "Predicted through Recurrent input tensor([0, 1, 2, 0, 4, 5, 6, 7, 8, 9])\n",
      "Prediction using External drive tensor([0, 1, 2, 3, 4, 5, 6, 7, 8, 9])\n",
      "Actual prediction Loss tensor(-0.9460)\n",
      "Predicted through Recurrent input tensor([0, 1, 2, 3, 4, 5, 6, 7, 8, 9])\n",
      "Prediction using External drive tensor([0, 1, 2, 3, 4, 5, 6, 7, 8, 9])\n",
      "Actual prediction Loss tensor(-0.9824)\n"
     ]
    },
    {
     "name": "stderr",
     "output_type": "stream",
     "text": [
      " 98%|█████████████████████████████████████████████████████████████████████████▏ | 19504/20000 [00:57<00:01, 327.24it/s]"
     ]
    },
    {
     "name": "stdout",
     "output_type": "stream",
     "text": [
      "Predicted through Recurrent input tensor([0, 1, 2, 3, 4, 5, 6, 7, 8, 9])\n",
      "Prediction using External drive tensor([0, 1, 2, 3, 4, 5, 6, 7, 8, 9])\n",
      "Actual prediction Loss tensor(-0.9645)\n",
      "Predicted through Recurrent input tensor([0, 1, 2, 3, 4, 5, 6, 7, 8, 9])\n",
      "Prediction using External drive tensor([0, 1, 2, 3, 4, 5, 6, 7, 8, 9])\n",
      "Actual prediction Loss tensor(-0.9727)\n",
      "Predicted through Recurrent input tensor([0, 1, 2, 3, 4, 5, 6, 7, 8, 9])\n",
      "Prediction using External drive tensor([0, 1, 2, 3, 4, 5, 6, 7, 8, 9])\n",
      "Actual prediction Loss tensor(-0.9874)\n",
      "Predicted through Recurrent input tensor([0, 1, 2, 3, 4, 5, 6, 7, 8, 9])\n",
      "Prediction using External drive tensor([0, 1, 2, 3, 4, 5, 6, 7, 8, 9])\n",
      "Actual prediction Loss tensor(-0.9856)\n"
     ]
    },
    {
     "name": "stderr",
     "output_type": "stream",
     "text": [
      " 98%|█████████████████████████████████████████████████████████████████████████▎ | 19540/20000 [00:58<00:01, 329.95it/s]"
     ]
    },
    {
     "name": "stdout",
     "output_type": "stream",
     "text": [
      "Predicted through Recurrent input tensor([0, 1, 2, 3, 4, 5, 6, 7, 8, 9])\n",
      "Prediction using External drive tensor([0, 1, 2, 3, 4, 5, 6, 7, 8, 9])\n",
      "Actual prediction Loss tensor(-0.9604)\n",
      "Predicted through Recurrent input tensor([0, 1, 2, 3, 4, 5, 6, 7, 8, 9])\n",
      "Prediction using External drive tensor([0, 1, 2, 3, 4, 5, 6, 7, 8, 9])\n",
      "Actual prediction Loss tensor(-0.9770)\n",
      "Predicted through Recurrent input tensor([0, 1, 2, 3, 4, 5, 6, 7, 8, 9])\n",
      "Prediction using External drive tensor([0, 1, 2, 3, 4, 5, 6, 7, 8, 9])\n",
      "Actual prediction Loss tensor(-0.9812)\n"
     ]
    },
    {
     "name": "stderr",
     "output_type": "stream",
     "text": [
      " 98%|█████████████████████████████████████████████████████████████████████████▍ | 19574/20000 [00:58<00:01, 332.90it/s]"
     ]
    },
    {
     "name": "stdout",
     "output_type": "stream",
     "text": [
      "Predicted through Recurrent input tensor([0, 1, 2, 0, 4, 5, 6, 7, 8, 9])\n",
      "Prediction using External drive tensor([0, 1, 2, 3, 4, 5, 6, 7, 8, 9])\n",
      "Actual prediction Loss tensor(-0.9464)\n",
      "Predicted through Recurrent input tensor([0, 1, 2, 3, 4, 5, 6, 7, 8, 9])\n",
      "Prediction using External drive tensor([0, 1, 2, 3, 4, 5, 6, 7, 8, 9])\n",
      "Actual prediction Loss tensor(-0.9826)\n",
      "Predicted through Recurrent input tensor([0, 1, 2, 3, 4, 5, 6, 7, 8, 9])\n",
      "Prediction using External drive tensor([0, 1, 2, 3, 4, 5, 6, 7, 8, 9])\n",
      "Actual prediction Loss tensor(-0.9648)\n"
     ]
    },
    {
     "name": "stderr",
     "output_type": "stream",
     "text": [
      " 98%|█████████████████████████████████████████████████████████████████████████▌ | 19608/20000 [00:58<00:01, 335.00it/s]"
     ]
    },
    {
     "name": "stdout",
     "output_type": "stream",
     "text": [
      "Predicted through Recurrent input tensor([0, 1, 2, 3, 4, 5, 6, 7, 8, 9])\n",
      "Prediction using External drive tensor([0, 1, 2, 3, 4, 5, 6, 7, 8, 9])\n",
      "Actual prediction Loss tensor(-0.9729)\n",
      "Predicted through Recurrent input tensor([0, 1, 2, 3, 4, 5, 6, 7, 8, 9])\n",
      "Prediction using External drive tensor([0, 1, 2, 3, 4, 5, 6, 7, 8, 9])\n",
      "Actual prediction Loss tensor(-0.9875)\n",
      "Predicted through Recurrent input tensor([0, 1, 2, 3, 4, 5, 6, 7, 8, 9])\n",
      "Prediction using External drive tensor([0, 1, 2, 3, 4, 5, 6, 7, 8, 9])\n",
      "Actual prediction Loss tensor(-0.9857)\n",
      "Predicted through Recurrent input tensor([0, 1, 2, 3, 4, 5, 6, 7, 8, 9])\n",
      "Prediction using External drive tensor([0, 1, 2, 3, 4, 5, 6, 7, 8, 9])\n",
      "Actual prediction Loss tensor(-0.9607)\n"
     ]
    },
    {
     "name": "stderr",
     "output_type": "stream",
     "text": [
      " 98%|█████████████████████████████████████████████████████████████████████████▋ | 19642/20000 [00:58<00:01, 327.73it/s]"
     ]
    },
    {
     "name": "stdout",
     "output_type": "stream",
     "text": [
      "Predicted through Recurrent input tensor([0, 1, 2, 3, 4, 5, 6, 7, 8, 9])\n",
      "Prediction using External drive tensor([0, 1, 2, 3, 4, 5, 6, 7, 8, 9])\n",
      "Actual prediction Loss tensor(-0.9772)\n",
      "Predicted through Recurrent input tensor([0, 1, 2, 3, 4, 5, 6, 7, 8, 9])\n",
      "Prediction using External drive tensor([0, 1, 2, 3, 4, 5, 6, 7, 8, 9])\n",
      "Actual prediction Loss tensor(-0.9814)\n",
      "Predicted through Recurrent input tensor([0, 1, 2, 0, 4, 5, 6, 7, 8, 9])\n",
      "Prediction using External drive tensor([0, 1, 2, 3, 4, 5, 6, 7, 8, 9])\n",
      "Actual prediction Loss tensor(-0.9469)\n"
     ]
    },
    {
     "name": "stderr",
     "output_type": "stream",
     "text": [
      " 98%|█████████████████████████████████████████████████████████████████████████▊ | 19676/20000 [00:58<00:00, 330.35it/s]"
     ]
    },
    {
     "name": "stdout",
     "output_type": "stream",
     "text": [
      "Predicted through Recurrent input tensor([0, 1, 2, 3, 4, 5, 6, 7, 8, 9])\n",
      "Prediction using External drive tensor([0, 1, 2, 3, 4, 5, 6, 7, 8, 9])\n",
      "Actual prediction Loss tensor(-0.9827)\n",
      "Predicted through Recurrent input tensor([0, 1, 2, 3, 4, 5, 6, 7, 8, 9])\n",
      "Prediction using External drive tensor([0, 1, 2, 3, 4, 5, 6, 7, 8, 9])\n",
      "Actual prediction Loss tensor(-0.9651)\n",
      "Predicted through Recurrent input tensor([0, 1, 2, 3, 4, 5, 6, 7, 8, 9])\n",
      "Prediction using External drive tensor([0, 1, 2, 3, 4, 5, 6, 7, 8, 9])\n",
      "Actual prediction Loss tensor(-0.9731)\n",
      "Predicted through Recurrent input tensor([0, 1, 2, 3, 4, 5, 6, 7, 8, 9])\n",
      "Prediction using External drive tensor([0, 1, 2, 3, 4, 5, 6, 7, 8, 9])\n",
      "Actual prediction Loss tensor(-0.9877)\n"
     ]
    },
    {
     "name": "stderr",
     "output_type": "stream",
     "text": [
      " 99%|█████████████████████████████████████████████████████████████████████████▉ | 19710/20000 [00:58<00:00, 326.47it/s]"
     ]
    },
    {
     "name": "stdout",
     "output_type": "stream",
     "text": [
      "Predicted through Recurrent input tensor([0, 1, 2, 3, 4, 5, 6, 7, 8, 9])\n",
      "Prediction using External drive tensor([0, 1, 2, 3, 4, 5, 6, 7, 8, 9])\n",
      "Actual prediction Loss tensor(-0.9858)\n",
      "Predicted through Recurrent input tensor([0, 1, 2, 3, 4, 5, 6, 7, 8, 9])\n",
      "Prediction using External drive tensor([0, 1, 2, 3, 4, 5, 6, 7, 8, 9])\n",
      "Actual prediction Loss tensor(-0.9611)\n",
      "Predicted through Recurrent input tensor([0, 1, 2, 3, 4, 5, 6, 7, 8, 9])\n",
      "Prediction using External drive tensor([0, 1, 2, 3, 4, 5, 6, 7, 8, 9])\n",
      "Actual prediction Loss tensor(-0.9775)\n"
     ]
    },
    {
     "name": "stderr",
     "output_type": "stream",
     "text": [
      " 99%|██████████████████████████████████████████████████████████████████████████ | 19743/20000 [00:58<00:00, 326.55it/s]"
     ]
    },
    {
     "name": "stdout",
     "output_type": "stream",
     "text": [
      "Predicted through Recurrent input tensor([0, 1, 2, 3, 4, 5, 6, 7, 8, 9])\n",
      "Prediction using External drive tensor([0, 1, 2, 3, 4, 5, 6, 7, 8, 9])\n",
      "Actual prediction Loss tensor(-0.9815)\n",
      "Predicted through Recurrent input tensor([0, 1, 2, 0, 4, 5, 6, 7, 8, 9])\n",
      "Prediction using External drive tensor([0, 1, 2, 3, 4, 5, 6, 7, 8, 9])\n",
      "Actual prediction Loss tensor(-0.9473)\n",
      "Predicted through Recurrent input tensor([0, 1, 2, 3, 4, 5, 6, 7, 8, 9])\n",
      "Prediction using External drive tensor([0, 1, 2, 3, 4, 5, 6, 7, 8, 9])\n",
      "Actual prediction Loss tensor(-0.9828)\n"
     ]
    },
    {
     "name": "stderr",
     "output_type": "stream",
     "text": [
      " 99%|██████████████████████████████████████████████████████████████████████████▏| 19776/20000 [00:58<00:00, 326.61it/s]"
     ]
    },
    {
     "name": "stdout",
     "output_type": "stream",
     "text": [
      "Predicted through Recurrent input tensor([0, 1, 2, 3, 4, 5, 6, 7, 8, 9])\n",
      "Prediction using External drive tensor([0, 1, 2, 3, 4, 5, 6, 7, 8, 9])\n",
      "Actual prediction Loss tensor(-0.9654)\n",
      "Predicted through Recurrent input tensor([0, 1, 2, 3, 4, 5, 6, 7, 8, 9])\n",
      "Prediction using External drive tensor([0, 1, 2, 3, 4, 5, 6, 7, 8, 9])\n",
      "Actual prediction Loss tensor(-0.9734)\n",
      "Predicted through Recurrent input tensor([0, 1, 2, 3, 4, 5, 6, 7, 8, 9])\n",
      "Prediction using External drive tensor([0, 1, 2, 3, 4, 5, 6, 7, 8, 9])\n",
      "Actual prediction Loss tensor(-0.9878)\n",
      "Predicted through Recurrent input tensor([0, 1, 2, 3, 4, 5, 6, 7, 8, 9])\n",
      "Prediction using External drive tensor([0, 1, 2, 3, 4, 5, 6, 7, 8, 9])\n",
      "Actual prediction Loss tensor(-0.9859)\n"
     ]
    },
    {
     "name": "stderr",
     "output_type": "stream",
     "text": [
      " 99%|██████████████████████████████████████████████████████████████████████████▎| 19810/20000 [00:58<00:00, 322.97it/s]"
     ]
    },
    {
     "name": "stdout",
     "output_type": "stream",
     "text": [
      "Predicted through Recurrent input tensor([0, 1, 2, 3, 4, 5, 6, 7, 8, 9])\n",
      "Prediction using External drive tensor([0, 1, 2, 3, 4, 5, 6, 7, 8, 9])\n",
      "Actual prediction Loss tensor(-0.9614)\n",
      "Predicted through Recurrent input tensor([0, 1, 2, 3, 4, 5, 6, 7, 8, 9])\n",
      "Prediction using External drive tensor([0, 1, 2, 3, 4, 5, 6, 7, 8, 9])\n",
      "Actual prediction Loss tensor(-0.9777)\n",
      "Predicted through Recurrent input tensor([0, 1, 2, 3, 4, 5, 6, 7, 8, 9])\n",
      "Prediction using External drive tensor([0, 1, 2, 3, 4, 5, 6, 7, 8, 9])\n",
      "Actual prediction Loss tensor(-0.9817)\n"
     ]
    },
    {
     "name": "stderr",
     "output_type": "stream",
     "text": [
      " 99%|██████████████████████████████████████████████████████████████████████████▍| 19846/20000 [00:58<00:00, 332.33it/s]"
     ]
    },
    {
     "name": "stdout",
     "output_type": "stream",
     "text": [
      "Predicted through Recurrent input tensor([0, 1, 2, 0, 4, 5, 6, 7, 8, 9])\n",
      "Prediction using External drive tensor([0, 1, 2, 3, 4, 5, 6, 7, 8, 9])\n",
      "Actual prediction Loss tensor(-0.9478)\n",
      "Predicted through Recurrent input tensor([0, 1, 2, 3, 4, 5, 6, 7, 8, 9])\n",
      "Prediction using External drive tensor([0, 1, 2, 3, 4, 5, 6, 7, 8, 9])\n",
      "Actual prediction Loss tensor(-0.9830)\n",
      "Predicted through Recurrent input tensor([0, 1, 2, 3, 4, 5, 6, 7, 8, 9])\n",
      "Prediction using External drive tensor([0, 1, 2, 3, 4, 5, 6, 7, 8, 9])\n",
      "Actual prediction Loss tensor(-0.9656)\n",
      "Predicted through Recurrent input tensor([0, 1, 2, 3, 4, 5, 6, 7, 8, 9])\n",
      "Prediction using External drive tensor([0, 1, 2, 3, 4, 5, 6, 7, 8, 9])\n",
      "Actual prediction Loss tensor(-0.9736)\n"
     ]
    },
    {
     "name": "stderr",
     "output_type": "stream",
     "text": [
      " 99%|██████████████████████████████████████████████████████████████████████████▌| 19880/20000 [00:59<00:00, 328.77it/s]"
     ]
    },
    {
     "name": "stdout",
     "output_type": "stream",
     "text": [
      "Predicted through Recurrent input tensor([0, 1, 2, 3, 4, 5, 6, 7, 8, 9])\n",
      "Prediction using External drive tensor([0, 1, 2, 3, 4, 5, 6, 7, 8, 9])\n",
      "Actual prediction Loss tensor(-0.9879)\n",
      "Predicted through Recurrent input tensor([0, 1, 2, 3, 4, 5, 6, 7, 8, 9])\n",
      "Prediction using External drive tensor([0, 1, 2, 3, 4, 5, 6, 7, 8, 9])\n",
      "Actual prediction Loss tensor(-0.9860)\n",
      "Predicted through Recurrent input tensor([0, 1, 2, 3, 4, 5, 6, 7, 8, 9])\n",
      "Prediction using External drive tensor([0, 1, 2, 3, 4, 5, 6, 7, 8, 9])\n",
      "Actual prediction Loss tensor(-0.9618)\n"
     ]
    },
    {
     "name": "stderr",
     "output_type": "stream",
     "text": [
      "100%|██████████████████████████████████████████████████████████████████████████▋| 19914/20000 [00:59<00:00, 331.09it/s]"
     ]
    },
    {
     "name": "stdout",
     "output_type": "stream",
     "text": [
      "Predicted through Recurrent input tensor([0, 1, 2, 3, 4, 5, 6, 7, 8, 9])\n",
      "Prediction using External drive tensor([0, 1, 2, 3, 4, 5, 6, 7, 8, 9])\n",
      "Actual prediction Loss tensor(-0.9779)\n",
      "Predicted through Recurrent input tensor([0, 1, 2, 3, 4, 5, 6, 7, 8, 9])\n",
      "Prediction using External drive tensor([0, 1, 2, 3, 4, 5, 6, 7, 8, 9])\n",
      "Actual prediction Loss tensor(-0.9818)\n",
      "Predicted through Recurrent input tensor([0, 1, 2, 0, 4, 5, 6, 7, 8, 9])\n",
      "Prediction using External drive tensor([0, 1, 2, 3, 4, 5, 6, 7, 8, 9])\n",
      "Actual prediction Loss tensor(-0.9482)\n"
     ]
    },
    {
     "name": "stderr",
     "output_type": "stream",
     "text": [
      "100%|██████████████████████████████████████████████████████████████████████████▊| 19948/20000 [00:59<00:00, 331.76it/s]"
     ]
    },
    {
     "name": "stdout",
     "output_type": "stream",
     "text": [
      "Predicted through Recurrent input tensor([0, 1, 2, 3, 4, 5, 6, 7, 8, 9])\n",
      "Prediction using External drive tensor([0, 1, 2, 3, 4, 5, 6, 7, 8, 9])\n",
      "Actual prediction Loss tensor(-0.9831)\n",
      "Predicted through Recurrent input tensor([0, 1, 2, 3, 4, 5, 6, 7, 8, 9])\n",
      "Prediction using External drive tensor([0, 1, 2, 3, 4, 5, 6, 7, 8, 9])\n",
      "Actual prediction Loss tensor(-0.9659)\n",
      "Predicted through Recurrent input tensor([0, 1, 2, 3, 4, 5, 6, 7, 8, 9])\n",
      "Prediction using External drive tensor([0, 1, 2, 3, 4, 5, 6, 7, 8, 9])\n",
      "Actual prediction Loss tensor(-0.9738)\n",
      "Predicted through Recurrent input tensor([0, 1, 2, 3, 4, 5, 6, 7, 8, 9])\n",
      "Prediction using External drive tensor([0, 1, 2, 3, 4, 5, 6, 7, 8, 9])\n",
      "Actual prediction Loss tensor(-0.9880)\n"
     ]
    },
    {
     "name": "stderr",
     "output_type": "stream",
     "text": [
      "100%|██████████████████████████████████████████████████████████████████████████▉| 19982/20000 [00:59<00:00, 320.94it/s]"
     ]
    },
    {
     "name": "stdout",
     "output_type": "stream",
     "text": [
      "Predicted through Recurrent input tensor([0, 1, 2, 3, 4, 5, 6, 7, 8, 9])\n",
      "Prediction using External drive tensor([0, 1, 2, 3, 4, 5, 6, 7, 8, 9])\n",
      "Actual prediction Loss tensor(-0.9862)\n",
      "Predicted through Recurrent input tensor([0, 1, 2, 3, 4, 5, 6, 7, 8, 9])\n",
      "Prediction using External drive tensor([0, 1, 2, 3, 4, 5, 6, 7, 8, 9])\n",
      "Actual prediction Loss tensor(-0.9621)\n"
     ]
    },
    {
     "name": "stderr",
     "output_type": "stream",
     "text": [
      "100%|███████████████████████████████████████████████████████████████████████████| 20000/20000 [00:59<00:00, 336.37it/s]\n"
     ]
    }
   ],
   "source": [
    "# Note total time steps for SORN will be time_steps*input_size i.e., \n",
    "# each input vector is fed time_step times into SORN\n",
    "# Epoch and timesteps variables are interchangable\n",
    "\n",
    "# SORN's output layer will be trained epochs*input_size*time_step (input_size = batch_size) / len(target) times\n",
    "\n",
    "# epoch - Number of epochs the outputs from reservoir is used to optimize the output layer wrt targets\n",
    "\n",
    "X_out,Y_out,R_out,matrix_collections,errors,errors_r,frac_pos_active_conn = Optimize_SORN(phase = 'Training',matrices = train_plast_inp_mat,time_steps = 2000,\n",
    "                                                                      inputs = _inputs,targets = list(range(len(inputs))),\n",
    "                                                                      epochs = 1,batch_size = 10,\n",
    "                                                                      output_dims = 10,learning_rate= 0.001).train_sorn()"
   ]
  },
  {
   "cell_type": "code",
   "execution_count": null,
   "metadata": {},
   "outputs": [],
   "source": []
  },
  {
   "cell_type": "code",
   "execution_count": 40,
   "metadata": {},
   "outputs": [],
   "source": [
    "def smooth(y, box_pts):\n",
    "    box = np.ones(box_pts)/box_pts\n",
    "    y_smooth = np.convolve(y, box, mode='same')\n",
    "    return y_smooth"
   ]
  },
  {
   "cell_type": "code",
   "execution_count": 41,
   "metadata": {},
   "outputs": [
    {
     "data": {
      "image/png": "[encoded data removed]",
      "text/plain": [
       "<Figure size 720x360 with 1 Axes>"
      ]
     },
     "metadata": {
      "needs_background": "light"
     },
     "output_type": "display_data"
    }
   ],
   "source": [
    "plt.figure(figsize=(10,5))\n",
    "plt.xlabel('Time steps')\n",
    "plt.ylabel(' Average prediction error')\n",
    "plt.plot(smooth(errors,10)[:-10],label = 'Actual prediction error')\n",
    "plt.plot(smooth(errors_r,10)[:-10],label = 'Recurrent Error')\n",
    "plt.legend()\n",
    "plt.savefig('performance')\n",
    "plt.show()"
   ]
  },
  {
   "cell_type": "code",
   "execution_count": 42,
   "metadata": {},
   "outputs": [],
   "source": [
    "with open('stdp09gauss.pkl', 'wb') as f:  \n",
    "    pickle.dump([X_out,Y_out,R_out,matrix_collections,smooth(errors,10)[:-10],smooth(errors_r,10)[:-10],frac_pos_active_conn], f)"
   ]
  },
  {
   "cell_type": "code",
   "execution_count": 39,
   "metadata": {},
   "outputs": [
    {
     "ename": "FileNotFoundError",
     "evalue": "[Errno 2] No such file or directory: 'stdp13_100ts_FeedInputs_Multinodes_all_matrices.pkl'",
     "output_type": "error",
     "traceback": [
      "\u001b[1;31m---------------------------------------------------------------------------\u001b[0m",
      "\u001b[1;31mFileNotFoundError\u001b[0m                         Traceback (most recent call last)",
      "\u001b[1;32m<ipython-input-39-c0c8dca91eb6>\u001b[0m in \u001b[0;36m<module>\u001b[1;34m\u001b[0m\n\u001b[1;32m----> 1\u001b[1;33m \u001b[1;32mwith\u001b[0m \u001b[0mopen\u001b[0m\u001b[1;33m(\u001b[0m\u001b[1;34m'stdp13_100ts_FeedInputs_Multinodes_all_matrices.pkl'\u001b[0m\u001b[1;33m,\u001b[0m\u001b[1;34m'rb'\u001b[0m\u001b[1;33m)\u001b[0m \u001b[1;32mas\u001b[0m \u001b[0mf\u001b[0m\u001b[1;33m:\u001b[0m\u001b[1;33m\u001b[0m\u001b[1;33m\u001b[0m\u001b[0m\n\u001b[0m\u001b[0;32m      2\u001b[0m     \u001b[0mX_out\u001b[0m\u001b[1;33m,\u001b[0m\u001b[0mY_out\u001b[0m\u001b[1;33m,\u001b[0m\u001b[0mR_out\u001b[0m\u001b[1;33m,\u001b[0m\u001b[0mmatrix_collections\u001b[0m\u001b[1;33m,\u001b[0m\u001b[0merrors\u001b[0m\u001b[1;33m,\u001b[0m\u001b[0merrors_r\u001b[0m\u001b[1;33m,\u001b[0m\u001b[0mfrac_pos_active_conn\u001b[0m \u001b[1;33m=\u001b[0m \u001b[0mpickle\u001b[0m\u001b[1;33m.\u001b[0m\u001b[0mload\u001b[0m\u001b[1;33m(\u001b[0m\u001b[0mf\u001b[0m\u001b[1;33m)\u001b[0m\u001b[1;33m\u001b[0m\u001b[1;33m\u001b[0m\u001b[0m\n",
      "\u001b[1;31mFileNotFoundError\u001b[0m: [Errno 2] No such file or directory: 'stdp13_100ts_FeedInputs_Multinodes_all_matrices.pkl'"
     ]
    }
   ],
   "source": [
    "with open('stdp13_100ts_FeedInputs_Multinodes_all_matrices.pkl','rb') as f:  \n",
    "    X_out,Y_out,R_out,matrix_collections,errors,errors_r,frac_pos_active_conn = pickle.load(f)"
   ]
  },
  {
   "cell_type": "code",
   "execution_count": null,
   "metadata": {},
   "outputs": [],
   "source": [
    "plt.plot(frac_pos_active_conn)"
   ]
  },
  {
   "cell_type": "code",
   "execution_count": null,
   "metadata": {},
   "outputs": [],
   "source": [
    "spike_train = np.asarray(X_out)\n",
    "\n",
    "# Get the indices where spike_train is 1\n",
    "x,y = np.argwhere(spike_train[0:1000].T == 1).T\n",
    "\n",
    "fr = firing_rate_network(spike_train[0:1000]).tolist()\n",
    "\n",
    "_scatter_plot(x,y,fr)"
   ]
  },
  {
   "cell_type": "code",
   "execution_count": null,
   "metadata": {},
   "outputs": [],
   "source": [
    "## Plot the correlation\n",
    "import seaborn as sns\n",
    "\n",
    "def avg_corr_coeff(spike_train):\n",
    "    \n",
    "    \"\"\"Measure Average Pearson correlation coeffecient between neurons\"\"\"\n",
    "    \n",
    "    corr_mat = np.corrcoef(np.asarray(spike_train).T)\n",
    "    avg_corr = np.sum(corr_mat,axis = 1) / 200\n",
    "    corr_coeff = avg_corr.sum()/200 ; # 2D to 1D and either upper  or lower half of correlation matrix. \n",
    "    \n",
    "    print('Average correlation coeffecient between neurons in excitatory pool is', corr_coeff)\n",
    "    \n",
    "    return corr_mat,corr_coeff\n",
    "\n",
    "\n",
    "# PLOT THE CORRELATION BETWEEN EXCITATORY NEURONS\n",
    "\n",
    "def plot_correlation(corr):\n",
    "    \n",
    "    \"\"\" Plot correlation between neurons\"\"\"\n",
    "    \n",
    "    # Generate a mask for the upper triangle\n",
    "    mask = np.zeros_like(corr, dtype=np.bool)\n",
    "    mask[np.triu_indices_from(mask)] = True\n",
    "\n",
    "    f, ax = plt.subplots(figsize=(40, 40))\n",
    "\n",
    "    # Custom diverging colormap\n",
    "    cmap = sns.diverging_palette(220, 10, as_cmap=True)\n",
    "\n",
    "    # Draw the heatmap with the mask and correct aspect ratio\n",
    "    return sns.heatmap(corr, mask=mask, cmap=cmap,xticklabels=1, yticklabels=1, vmax=.9, center=0,\n",
    "                square=False, linewidths=0.0, cbar_kws={\"shrink\": .9})\n",
    "\n",
    "\n",
    "corr, avg_corr = avg_corr_coeff(spike_train[0:1000])\n",
    "\n",
    "plot_correlation(corr)"
   ]
  },
  {
   "cell_type": "code",
   "execution_count": null,
   "metadata": {},
   "outputs": [],
   "source": []
  }
 ],
 "metadata": {
  "colab": {
   "collapsed_sections": [],
   "name": "SORN2013_10_Exp.ipynb",
   "provenance": [],
   "version": "0.3.2"
  },
  "kernelspec": {
   "display_name": "Python 3",
   "language": "python",
   "name": "python3"
  },
  "language_info": {
   "codemirror_mode": {
    "name": "ipython",
    "version": 3
   },
   "file_extension": ".py",
   "mimetype": "text/x-python",
   "name": "python",
   "nbconvert_exporter": "python",
   "pygments_lexer": "ipython3",
   "version": "3.6.10"
  }
 },
 "nbformat": 4,
 "nbformat_minor": 4
}
