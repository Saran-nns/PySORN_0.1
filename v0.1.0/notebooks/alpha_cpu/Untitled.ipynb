{
 "cells": [
  {
   "cell_type": "code",
   "execution_count": 1,
   "metadata": {},
   "outputs": [
    {
     "name": "stderr",
     "output_type": "stream",
     "text": [
      "C:\\Users\\saran\\AppData\\Local\\conda\\conda\\envs\\tensor\\lib\\site-packages\\numpy\\core\\__init__.py:29: UserWarning: loaded more than 1 DLL from .libs:\n",
      "C:\\Users\\saran\\AppData\\Local\\conda\\conda\\envs\\tensor\\lib\\site-packages\\numpy\\.libs\\libopenblas.BNVRK7633HSX7YVO2TADGR4A5KEKXJAW.gfortran-win_amd64.dll\n",
      "C:\\Users\\saran\\AppData\\Local\\conda\\conda\\envs\\tensor\\lib\\site-packages\\numpy\\.libs\\libopenblas.IPBC74C7KURV7CB2PKT5Z5FNR3SIBV4J.gfortran-win_amd64.dll\n",
      "  stacklevel=1)\n"
     ]
    }
   ],
   "source": [
    "# for fast array manipulation\n",
    "import numpy as np\n",
    "# for plotting\n",
    "import matplotlib.pyplot as plt\n",
    "# for numerical ODE integration\n",
    "from scipy.integrate import odeint\n",
    "# for nonlinear equations\n",
    "from scipy.optimize import fsolve\n",
    "# to display plots in-line\n",
    "%matplotlib inline\n",
    "plt.style.use('ggplot')"
   ]
  },
  {
   "cell_type": "code",
   "execution_count": 3,
   "metadata": {},
   "outputs": [],
   "source": [
    "def sigmoid(x, a, thr):\n",
    "    return 1 / (1 + np.exp(-a * (x - thr)))"
   ]
  },
  {
   "cell_type": "code",
   "execution_count": 4,
   "metadata": {},
   "outputs": [],
   "source": [
    "# couplings\n",
    "c1 = 16\n",
    "c2 = 12\n",
    "c3 = 15\n",
    "c4 = 3\n",
    "\n",
    "# refractory periods\n",
    "rE = 1\n",
    "rI = 1\n",
    "\n",
    "# external inputs\n",
    "P = 1.\n",
    "Q = 1\n",
    "\n",
    "# nonlinear functions\n",
    "def Se(x):\n",
    "    aE = 1.3\n",
    "    thrE = 4\n",
    "    return sigmoid(x, thrE, aE) - sigmoid(0, thrE, aE)\n",
    "\n",
    "def Si(x):\n",
    "    aI = 2\n",
    "    thrI = 3.7\n",
    "    return sigmoid(x, thrI, aI) - sigmoid(0, thrI, aI)"
   ]
  },
  {
   "cell_type": "code",
   "execution_count": null,
   "metadata": {},
   "outputs": [],
   "source": [
    "    "
   ]
  }
 ],
 "metadata": {
  "kernelspec": {
   "display_name": "tensor",
   "language": "python",
   "name": "tensor"
  },
  "language_info": {
   "codemirror_mode": {
    "name": "ipython",
    "version": 3
   },
   "file_extension": ".py",
   "mimetype": "text/x-python",
   "name": "python",
   "nbconvert_exporter": "python",
   "pygments_lexer": "ipython3",
   "version": "3.6.7"
  }
 },
 "nbformat": 4,
 "nbformat_minor": 2
}
