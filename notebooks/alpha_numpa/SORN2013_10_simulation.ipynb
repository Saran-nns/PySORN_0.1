{
  "nbformat": 4,
  "nbformat_minor": 0,
  "metadata": {
    "colab": {
      "name": "SORN2013_10_train.ipynb",
      "version": "0.3.2",
      "provenance": [],
      "collapsed_sections": []
    },
    "kernelspec": {
      "display_name": "Python 3",
      "language": "python",
      "name": "python3"
    }
  },
  "cells": [
    {
      "metadata": {
        "colab_type": "text",
        "id": "R5_nLzMn1LsC"
      },
      "cell_type": "markdown",
      "source": [
        "# SORN 2013 Model \n",
        "### Initialized with 10 percent connection density. \n",
        "### Added noise during simulation. Number of input nodes 10\n",
        "### Weights are initialized from Uniform distribution [0,1]\n",
        "### eSTDP - 0.004\n",
        "### eIP - 0.001\n",
        "### Gaussian noise mu = 0.0 and sigma = 0.04"
      ]
    },
    {
      "metadata": {
        "id": "bkaMmZRvJYBh",
        "colab_type": "code",
        "outputId": "d8208eae-859f-44fe-b669-dd311727c8c3",
        "colab": {
          "resources": {
            "http://localhost:8080/nbextensions/google.colab/files.js": {
              "data": "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",
              "ok": true,
              "headers": [
                [
                  "content-type",
                  "application/javascript"
                ]
              ],
              "status": 200,
              "status_text": ""
            }
          },
          "base_uri": "https://localhost:8080/",
          "height": 57
        }
      },
      "cell_type": "code",
      "source": [
        "from google.colab import files\n",
        "files.upload()"
      ],
      "execution_count": 0,
      "outputs": [
        {
          "output_type": "display_data",
          "data": {
            "text/html": [
              "\n",
              "     <input type=\"file\" id=\"files-fba8c1d1-1d7f-42a2-a651-48c962fbd1bb\" name=\"files[]\" multiple disabled />\n",
              "     <output id=\"result-fba8c1d1-1d7f-42a2-a651-48c962fbd1bb\">\n",
              "      Upload widget is only available when the cell has been executed in the\n",
              "      current browser session. Please rerun this cell to enable.\n",
              "      </output>\n",
              "      <script src=\"/nbextensions/google.colab/files.js\"></script> "
            ],
            "text/plain": [
              "<IPython.core.display.HTML object>"
            ]
          },
          "metadata": {
            "tags": []
          }
        },
        {
          "output_type": "execute_result",
          "data": {
            "text/plain": [
              "{}"
            ]
          },
          "metadata": {
            "tags": []
          },
          "execution_count": 1
        }
      ]
    },
    {
      "metadata": {
        "colab_type": "raw",
        "id": "gMLVY3zd802S"
      },
      "cell_type": "markdown",
      "source": [
        "### IMPORT REQUIRED LIBRARIES\n",
        "\n",
        "\n",
        "\n"
      ]
    },
    {
      "metadata": {
        "colab_type": "code",
        "id": "GfD36lDc802N",
        "colab": {}
      },
      "cell_type": "code",
      "source": [
        "from __future__ import division\n",
        "import numpy as np\n",
        "from scipy.stats import norm\n",
        "import random\n",
        "import tqdm\n",
        "import pandas as pd\n",
        "from collections import OrderedDict\n",
        "import matplotlib.pyplot as plt\n",
        "import heapq\n",
        "import pickle\n"
      ],
      "execution_count": 0,
      "outputs": []
    },
    {
      "metadata": {
        "colab_type": "text",
        "id": "x6HcbHay802U"
      },
      "cell_type": "markdown",
      "source": [
        "### UTILS"
      ]
    },
    {
      "metadata": {
        "colab_type": "code",
        "id": "qnKD75Bm802V",
        "colab": {}
      },
      "cell_type": "code",
      "source": [
        "def normalize_weight_matrix(weight_matrix):\n",
        "    \n",
        "    # Applied only while initializing the weight. Later Synaptic scalling applied on weight matrices\n",
        "    \n",
        "    \"\"\" Normalize the weights in the matrix such that incoming connections to a neuron sum up to 1\n",
        "    \n",
        "    Args:\n",
        "        weight_matrix(array) -- Incoming Weights from W_ee or W_ei or W_ie\n",
        "    \n",
        "    Returns:\n",
        "        weight_matrix(array) -- Normalized weight matrix\"\"\"\n",
        "\n",
        "    normalized_weight_matrix = weight_matrix / np.sum(weight_matrix,axis = 0)\n",
        "\n",
        "    return normalized_weight_matrix"
      ],
      "execution_count": 0,
      "outputs": []
    },
    {
      "metadata": {
        "colab_type": "text",
        "id": "6N2LuY9c27YO"
      },
      "cell_type": "markdown",
      "source": [
        "### Implement lambda incoming connections for Excitatory neurons and outgoing connections per Inhibitory neuron"
      ]
    },
    {
      "metadata": {
        "colab_type": "code",
        "id": "KdS96s3-802Z",
        "colab": {}
      },
      "cell_type": "code",
      "source": [
        "\n",
        "\n",
        "def generate_lambd_connections(synaptic_connection,ne,ni, lambd_w,lambd_std):\n",
        "    \n",
        "    \n",
        "    \"\"\"\n",
        "    Args:\n",
        "    synaptic_connection -  Type of sysnpatic connection (EE,EI or IE)\n",
        "    ne - Number of excitatory units\n",
        "    ni - Number of inhibitory units\n",
        "    lambd_w - Average number of incoming connections\n",
        "    lambd_std - Standard deviation of average number of connections per neuron\n",
        "    \n",
        "    Returns:\n",
        "    \n",
        "    connection_weights - Weight matrix\n",
        "    \n",
        "    \"\"\"\n",
        "    \n",
        "    \n",
        "    if synaptic_connection == 'EE':\n",
        "        \n",
        "        \n",
        "        \"\"\"Choose random lamda connections per neuron\"\"\"\n",
        "\n",
        "        # Draw normally distribued ne integers with mean lambd_w\n",
        "\n",
        "        lambdas_incoming = norm.ppf(np.random.random(ne), loc=lambd_w, scale=lambd_std).astype(int)\n",
        "        \n",
        "        # lambdas_outgoing = norm.ppf(np.random.random(ne), loc=lambd_w, scale=lambd_std).astype(int)\n",
        "    \n",
        "        # List of neurons \n",
        "\n",
        "        list_neurons= list(range(ne))\n",
        "\n",
        "        # Connection weights\n",
        "\n",
        "        connection_weights = np.zeros((ne,ne))\n",
        "\n",
        "        # For each lambd value in the above list,\n",
        "        # generate weights for incoming and outgoing connections\n",
        "            \n",
        "        #-------------Gaussian Distribution of weights --------------\n",
        "            \n",
        "        # weight_matrix = np.random.randn(Sorn.ne, Sorn.ni) + 2 # Small random values from gaussian distribution\n",
        "                                                                # Centered around 2 to make all values positive \n",
        "            \n",
        "        # ------------Uniform Distribution --------------------------\n",
        "        global_incoming_weights = np.random.uniform(0.0,0.1,sum(lambdas_incoming))\n",
        "        \n",
        "        # Index Counter\n",
        "        global_incoming_weights_idx = 0\n",
        "        \n",
        "        # Choose the neurons in order [0 to 199]\n",
        "        \n",
        "        for neuron in list_neurons:\n",
        "\n",
        "            ### Choose ramdom unique (lambdas[neuron]) neurons from  list_neurons\n",
        "            possible_connections = list_neurons.copy()\n",
        "            \n",
        "            possible_connections.remove(neuron)  # Remove the selected neuron from possible connections i!=j\n",
        "            \n",
        "            # Choose random presynaptic neurons\n",
        "            possible_incoming_connections = random.sample(possible_connections,lambdas_incoming[neuron])  \n",
        "\n",
        "           \n",
        "            incoming_weights_neuron = global_incoming_weights[global_incoming_weights_idx:global_incoming_weights_idx+lambdas_incoming[neuron]]\n",
        "            \n",
        "            # ---------- Update the connection weight matrix ------------\n",
        "\n",
        "            # Update incoming connection weights for selected 'neuron'\n",
        "\n",
        "            for incoming_idx,incoming_weight in enumerate(incoming_weights_neuron):  \n",
        "                connection_weights[possible_incoming_connections[incoming_idx]][neuron] = incoming_weight\n",
        "            \n",
        "            global_incoming_weights_idx += lambdas_incoming[neuron]\n",
        "        \n",
        "        return connection_weights\n",
        "    \n",
        "    if synaptic_connection == 'EI':\n",
        "        \n",
        "        \"\"\"Choose random lamda connections per neuron\"\"\"\n",
        "\n",
        "        # Draw normally distribued ni integers with mean lambd_w\n",
        "        lambdas = norm.ppf(np.random.random(ni), loc=lambd_w, scale=lambd_std).astype(int)\n",
        "        \n",
        "        # List of neurons \n",
        "\n",
        "        list_neurons= list(range(ni))  # Each i can connect with random ne neurons \n",
        "\n",
        "        # Initializing connection weights variable\n",
        "\n",
        "        connection_weights = np.zeros((ni,ne))\n",
        "\n",
        "        # ------------Uniform Distribution -----------------------------\n",
        "        global_outgoing_weights = np.random.uniform(0.0,0.1,sum(lambdas))\n",
        "        \n",
        "        # Index Counter\n",
        "        global_outgoing_weights_idx = 0\n",
        "        \n",
        "        # Choose the neurons in order [0 to 40]\n",
        "\n",
        "        for neuron in list_neurons:\n",
        "\n",
        "            ### Choose ramdom unique (lambdas[neuron]) neurons from  list_neurons\n",
        "            possible_connections = list(range(ne))\n",
        "            \n",
        "            possible_outgoing_connections = random.sample(possible_connections,lambdas[neuron])  # possible_outgoing connections to the neuron\n",
        "\n",
        "            # Update weights\n",
        "            outgoing_weights = global_outgoing_weights[global_outgoing_weights_idx:global_outgoing_weights_idx+lambdas[neuron]]\n",
        "\n",
        "            # ---------- Update the connection weight matrix ------------\n",
        "\n",
        "            # Update outgoing connections for the neuron\n",
        "\n",
        "            for outgoing_idx,outgoing_weight in enumerate(outgoing_weights):  # Update the columns in the connection matrix\n",
        "                connection_weights[neuron][possible_outgoing_connections[outgoing_idx]] = outgoing_weight\n",
        "            \n",
        "            # Update the global weight values index\n",
        "            global_outgoing_weights_idx += lambdas[neuron]\n",
        "            \n",
        "        \n",
        "        return connection_weights\n",
        "        \n",
        "        "
      ],
      "execution_count": 0,
      "outputs": []
    },
    {
      "metadata": {
        "colab_type": "text",
        "id": "kwA0K5_u4nkG"
      },
      "cell_type": "markdown",
      "source": [
        "### More Util functions"
      ]
    },
    {
      "metadata": {
        "colab_type": "code",
        "id": "Bturycg4802d",
        "colab": {}
      },
      "cell_type": "code",
      "source": [
        "def get_incoming_connection_dict(weights):\n",
        "    \n",
        "    # Get the non-zero entires in columns is the incoming connections for the neurons\n",
        "    \n",
        "    # Indices of nonzero entries in the columns\n",
        "    connection_dict=dict.fromkeys(range(1,len(weights)+1),0)\n",
        "    \n",
        "    for i in range(len(weights[0])):  # For each neuron\n",
        "        connection_dict[i] = list(np.nonzero(weights[:,i])[0])\n",
        "        \n",
        "    return connection_dict\n",
        "    "
      ],
      "execution_count": 0,
      "outputs": []
    },
    {
      "metadata": {
        "colab_type": "code",
        "id": "b0l1Ly2g802h",
        "colab": {}
      },
      "cell_type": "code",
      "source": [
        "def get_outgoing_connection_dict(weights):\n",
        "    # Get the non-zero entires in rows is the outgoing connections for the neurons\n",
        "    \n",
        "    # Indices of nonzero entries in the rows\n",
        "    connection_dict=dict.fromkeys(range(1,len(weights)+1),1)\n",
        "    \n",
        "    for i in range(len(weights[0])):  # For each neuron\n",
        "        connection_dict[i] = list(np.nonzero(weights[i,:])[0])\n",
        "        \n",
        "    return connection_dict"
      ],
      "execution_count": 0,
      "outputs": []
    },
    {
      "metadata": {
        "colab_type": "code",
        "id": "4YScmyJa802l",
        "colab": {}
      },
      "cell_type": "code",
      "source": [
        "def prune_small_weights(weights,cutoff_weight):\n",
        "    \n",
        "    \"\"\" Prune the connections with negative connection strength\"\"\"\n",
        "    weights[weights <= cutoff_weight] = cutoff_weight\n",
        "    \n",
        "    return weights\n",
        "    "
      ],
      "execution_count": 0,
      "outputs": []
    },
    {
      "metadata": {
        "colab_type": "code",
        "id": "nuGuabFp802p",
        "colab": {}
      },
      "cell_type": "code",
      "source": [
        "def set_max_cutoff_weight(weights, cutoff_weight):\n",
        "    \n",
        "    \"\"\" Set cutoff limit for the values in given array\"\"\"\n",
        "    \n",
        "    weights[weights > cutoff_weight] = cutoff_weight\n",
        "    \n",
        "    return weights"
      ],
      "execution_count": 0,
      "outputs": []
    },
    {
      "metadata": {
        "colab_type": "code",
        "id": "IR2-66u6802t",
        "colab": {}
      },
      "cell_type": "code",
      "source": [
        "def get_unconnected_indexes(wee):\n",
        "    \n",
        "    \"\"\"\n",
        "    Helper function for Structural plasticity to randomly select the unconnected units\n",
        "    \n",
        "    Args: \n",
        "    wee -  Weight matrix\n",
        "    \n",
        "    Returns:\n",
        "    list (indices) // indices = (row_idx,col_idx)\"\"\"\n",
        "    \n",
        "\n",
        "    i,j = np.where(wee <= 0.)\n",
        "    indices = list(zip(i,j))\n",
        "    \n",
        "    self_conn_removed = []\n",
        "    for i,idxs in enumerate(indices):\n",
        "        \n",
        "        if idxs[0] != idxs[1]:\n",
        "            \n",
        "            self_conn_removed.append(indices[i])\n",
        "    \n",
        "    return self_conn_removed"
      ],
      "execution_count": 0,
      "outputs": []
    },
    {
      "metadata": {
        "colab_type": "code",
        "id": "Q1qctjLG802x",
        "colab": {}
      },
      "cell_type": "code",
      "source": [
        "def white_gaussian_noise(mu, sigma,t):\n",
        "\n",
        "    \"\"\"Generates white gaussian noise with mean mu, standard deviation sigma and\n",
        "    the noise length equals t \"\"\"\n",
        "    \n",
        "    noise = np.random.normal(mu, sigma, t)   \n",
        "    \n",
        "    return np.expand_dims(noise,1)\n"
      ],
      "execution_count": 0,
      "outputs": []
    },
    {
      "metadata": {
        "colab_type": "code",
        "id": "O2lmxtlC8024",
        "colab": {}
      },
      "cell_type": "code",
      "source": [
        "### SANITY CHECK EACH WEIGHTS\n",
        "#### Note this function has no influence in weight matrix, will be deprecated in next version\n",
        "\n",
        "def zero_sum_incoming_check(weights):\n",
        "    \n",
        "    zero_sum_incomings = np.where(np.sum(weights,axis = 0) == 0.)\n",
        "    \n",
        "    if len(zero_sum_incomings[-1]) == 0:\n",
        "        return weights\n",
        "    else:\n",
        "        for zero_sum_incoming in zero_sum_incomings[-1]:\n",
        "            \n",
        "            rand_indices = np.random.randint(40,size = 2)  # 5 because each excitatory neuron connects with 5 inhibitory neurons \n",
        "                                                            # given the probability of connections 0.2\n",
        "            rand_values = np.random.uniform(0.0,0.1,2)\n",
        "            \n",
        "            for i,idx in enumerate(rand_indices):\n",
        "                \n",
        "                weights[:,zero_sum_incoming][idx] = rand_values[i]\n",
        "            \n",
        "    return weights"
      ],
      "execution_count": 0,
      "outputs": []
    },
    {
      "metadata": {
        "colab_type": "text",
        "id": "b7lA_nOd803A"
      },
      "cell_type": "markdown",
      "source": [
        "### SORN "
      ]
    },
    {
      "metadata": {
        "colab_type": "code",
        "id": "ukB19wse803C",
        "colab": {}
      },
      "cell_type": "code",
      "source": [
        "class Sorn(object):\n",
        "    \n",
        "    \"\"\"SORN 1 network model Initialization\"\"\"\n",
        "\n",
        "    def __init__(self):\n",
        "        pass\n",
        "\n",
        "    \"\"\"Initialize network variables as class variables of SORN\"\"\"\n",
        "    \n",
        "    nu = 10                    # Number of input units\n",
        "    ne = 200                   # Number of excitatory units\n",
        "    ni = int(0.2*ne)           # Number of inhibitory units in the network\n",
        "    eta_stdp = 0.004\n",
        "    eta_inhib = 0.001\n",
        "    eta_ip = 0.01\n",
        "    te_max = 1.0 \n",
        "    ti_max = 0.5\n",
        "    ti_min = 0.0\n",
        "    te_min = 0.0\n",
        "    mu_ip = 0.1\n",
        "    sigma_ip  = 0.0 # Standard deviation, variance == 0 \n",
        "    \n",
        "    \n",
        "    # Initialize weight matrices\n",
        "\n",
        "    def initialize_weight_matrix(self, network_type,synaptic_connection, self_connection, lambd_w): \n",
        "\n",
        "        \n",
        "        \"\"\"\n",
        "        Args:\n",
        "        \n",
        "        network_type(str) - Spare or Dense\n",
        "        synaptic_connection(str) - EE,EI,IE: Note that Spare connection is defined only for EE connections\n",
        "        self_connection(str) - True or False: i-->i ; Network is tested only using j-->i\n",
        "        lambd_w(int) - Average number of incoming and outgoing connections per neuron\n",
        "        \n",
        "        Returns:\n",
        "        weight_matrix(array) -  Array of connection strengths \n",
        "        \"\"\"\n",
        "        \n",
        "        if (network_type == \"Sparse\") and (self_connection == \"False\"):\n",
        "\n",
        "            \"\"\"Generate weight matrix for E-E/ E-I connections with mean lamda incoming and outgiong connections per neuron\"\"\"\n",
        "            \n",
        "            weight_matrix = generate_lambd_connections(synaptic_connection,Sorn.ne,Sorn.ni,lambd_w,lambd_std = 1)\n",
        "        \n",
        "        # Dense matrix for W_ie\n",
        "\n",
        "        elif (network_type == 'Dense') and (self_connection == 'False'):\n",
        "\n",
        "            # Gaussian distribution of weights\n",
        "            # weight_matrix = np.random.randn(Sorn.ne, Sorn.ni) + 2 # Small random values from gaussian distribution\n",
        "            # Centered around 1 \n",
        "            # weight_matrix.reshape(Sorn.ne, Sorn.ni) \n",
        "            # weight_matrix *= 0.01 # Setting spectral radius \n",
        "            \n",
        "            # Uniform distribution of weights\n",
        "            weight_matrix = np.random.uniform(0.0,0.1,(Sorn.ne, Sorn.ni))\n",
        "            weight_matrix.reshape((Sorn.ne,Sorn.ni))\n",
        "\n",
        "        return weight_matrix\n",
        "\n",
        "    def initialize_threshold_matrix(self, te_min,te_max, ti_min,ti_max):\n",
        "\n",
        "        # Initialize the threshold for excitatory and inhibitory neurons\n",
        "        \n",
        "        \"\"\"Args:\n",
        "            te_min(float) -- Min threshold value for excitatory units\n",
        "            ti_min(float) -- Min threshold value for inhibitory units\n",
        "            te_max(float) -- Max threshold value for excitatory units\n",
        "            ti_max(float) -- Max threshold value for inhibitory units\n",
        "        Returns:\n",
        "            te(vector) -- Threshold values for excitatory units\n",
        "            ti(vector) -- Threshold values for inhibitory units\"\"\"\n",
        "\n",
        "        te = np.random.uniform(0., te_max, (Sorn.ne, 1))\n",
        "        ti = np.random.uniform(0., ti_max, (Sorn.ni, 1))\n",
        "\n",
        "        return te, ti\n",
        "\n",
        "    def initialize_activity_vector(self,ne, ni):\n",
        "        \n",
        "        # Initialize the activity vectors X and Y for excitatory and inhibitory neurons\n",
        "        \n",
        "        \"\"\"Args:\n",
        "            ne(int) -- Number of excitatory neurons\n",
        "            ni(int) -- Number of inhibitory neurons\n",
        "        Returns:\n",
        "             x(array) -- Array of activity vectors of excitatory population\n",
        "             y(array) -- Array of activity vectors of inhibitory population\"\"\"\n",
        "\n",
        "        x = np.zeros((ne, 2))\n",
        "        y = np.zeros((ni, 2))\n",
        "\n",
        "        return x, y"
      ],
      "execution_count": 0,
      "outputs": []
    },
    {
      "metadata": {
        "colab_type": "text",
        "id": "Ano-rNsvc778"
      },
      "cell_type": "markdown",
      "source": [
        "## NOTE: DO NOT TRANSPOSE THE WEIGHT MATRIX WEI FOR SORN 2 MODEL"
      ]
    },
    {
      "metadata": {
        "colab_type": "code",
        "id": "w1aFRLVp803G",
        "outputId": "252a7f56-4894-4569-d954-a22fefaaae6b",
        "colab": {
          "base_uri": "https://localhost:8080/",
          "height": 52
        }
      },
      "cell_type": "code",
      "source": [
        "# Create and initialize sorn object and varaibles\n",
        "\n",
        "sorn_init = Sorn()\n",
        "WEE_init = sorn_init.initialize_weight_matrix(network_type='Sparse',synaptic_connection = 'EE', self_connection='False',lambd_w = 20)\n",
        "WEI_init = sorn_init.initialize_weight_matrix(network_type='Sparse',synaptic_connection = 'EI', self_connection='False',lambd_w = 40)\n",
        "WIE_init = sorn_init.initialize_weight_matrix(network_type='Dense',synaptic_connection = 'IE', self_connection='False',lambd_w = None)\n",
        "\n",
        "Wee_init = zero_sum_incoming_check(WEE_init)\n",
        "#Wei_init = zero_sum_incoming_check(WEI_init.T)\n",
        "Wei_init = zero_sum_incoming_check(WEI_init)\n",
        "Wie_init = zero_sum_incoming_check(WIE_init)\n",
        "\n",
        "c = np.count_nonzero(Wee_init)  \n",
        "v = np.count_nonzero(Wei_init)  \n",
        "b = np.count_nonzero(Wie_init) \n",
        "\n",
        "print(c,v,b)\n",
        "print('Shapes Wee %s Wei %s Wie %s' %(Wee_init.shape,Wei_init.shape,Wie_init.shape))"
      ],
      "execution_count": 0,
      "outputs": [
        {
          "output_type": "stream",
          "text": [
            "3902 1568 8000\n",
            "Shapes Wee (200, 200) Wei (40, 200) Wie (200, 40)\n"
          ],
          "name": "stdout"
        }
      ]
    },
    {
      "metadata": {
        "colab_type": "code",
        "id": "L5_hdN8J803P",
        "colab": {}
      },
      "cell_type": "code",
      "source": [
        "# Normaalize the incoming weights i.e sum(incoming weights to a neuron) = 1\n",
        "\n",
        "normalized_wee = normalize_weight_matrix(Wee_init)\n",
        "normalized_wei = normalize_weight_matrix(Wei_init)\n",
        "normalized_wie = normalize_weight_matrix(Wie_init)\n"
      ],
      "execution_count": 0,
      "outputs": []
    },
    {
      "metadata": {
        "colab_type": "code",
        "id": "5qV-JkZ6803V",
        "colab": {}
      },
      "cell_type": "code",
      "source": [
        "\n",
        "normalized_wee = normalize_weight_matrix(Wee_init)\n",
        "normalized_wei = normalize_weight_matrix(Wei_init)\n",
        "normalized_wie = normalize_weight_matrix(Wie_init)\n",
        "te_init, ti_init = sorn_init.initialize_threshold_matrix(Sorn.te_min,Sorn.te_max,Sorn.ti_min,Sorn.ti_max)\n",
        "x_init, y_init = sorn_init.initialize_activity_vector(Sorn.ne, Sorn.ni)\n",
        "\n",
        "# Measure the mean number of incoming and outgoing connections in WEE and WEI"
      ],
      "execution_count": 0,
      "outputs": []
    },
    {
      "metadata": {
        "colab_type": "code",
        "id": "j0a0prEb803Z",
        "colab": {}
      },
      "cell_type": "code",
      "source": [
        "# Initializing variables from sorn_initialize.py\n",
        "\n",
        "wee_init = normalized_wee.copy()\n",
        "wei_init = normalized_wei.copy()\n",
        "wie_init = normalized_wie.copy()\n",
        "te_init = te_init.copy()\n",
        "ti_init = ti_init.copy()\n",
        "x_init = x_init.copy()\n",
        "y_init = y_init.copy()\n"
      ],
      "execution_count": 0,
      "outputs": []
    },
    {
      "metadata": {
        "colab_type": "code",
        "id": "_MDrcQ0w803d",
        "colab": {}
      },
      "cell_type": "code",
      "source": [
        "class Plasticity(Sorn):\n",
        "    \"\"\"\n",
        "    Instance of class Sorn. Inherits the variables and functions defined in class Sorn\n",
        "    Encapsulates all plasticity mechanisms mentioned in the article \"\"\"\n",
        "\n",
        "    # Initialize the global variables for the class //Class attributes\n",
        "\n",
        "    def __init__(self):\n",
        "        \n",
        "        super().__init__()\n",
        "        self.nu = Sorn.nu                  # Number of input units\n",
        "        self.ne = Sorn.ne                  # Number of excitatory units\n",
        "        self.eta_stdp = Sorn.eta_stdp      # STDP plasticity Learning rate constant; SORN1 and SORN2\n",
        "        self.eta_ip = Sorn.eta_ip          # Intrinsic plasticity learning rate constant; SORN1 and SORN2\n",
        "        self.eta_inhib = Sorn.eta_inhib    # Intrinsic plasticity learning rate constant; SORN2 only\n",
        "        self.h_ip = 2 * Sorn.nu / Sorn.ne  # Target firing rate\n",
        "        self.mu_ip = Sorn.mu_ip            # Mean target firing rate  \n",
        "        self.ni = Sorn.ni                  # Number of inhibitory units in the network\n",
        "        self.time_steps = Sorn.time_steps  # Total time steps of simulation\n",
        "        self.te_min = Sorn.te_min          # Excitatory minimum Threshold\n",
        "        self.te_max = Sorn.te_max          # Excitatory maximum Threshold\n",
        "        \n",
        "    def stdp(self, wee, x, cutoff_weights):\n",
        "        \n",
        "        \"\"\" Apply STDP rule : Regulates synaptic strength between the pre(Xj) and post(Xi) synaptic neurons\"\"\"\n",
        "\n",
        "        x = np.asarray(x)\n",
        "        xt_1 = x[:,0]\n",
        "        xt = x[:,1]\n",
        "        wee_t = wee.copy()\n",
        "        \n",
        "        # STDP applies only on the neurons which are connected.\n",
        "        \n",
        "        for i in range(len(wee_t[0])): # Each neuron i, Post-synaptic neuron\n",
        "            \n",
        "            for j in range(len(wee_t[0:])): # Incoming connection from jth pre-synaptic neuron to ith neuron\n",
        "                \n",
        "                if wee_t[j][i] != 0. : # Check connectivity\n",
        "                    \n",
        "                    # Get the change in weight\n",
        "                    delta_wee_t = self.eta_stdp * (xt[i] * xt_1[j] - xt_1[i]*xt[j])\n",
        "\n",
        "                    # Update the weight between jth neuron to i \"\"Different from notation in article \n",
        "\n",
        "                    wee_t[j][i] = wee[j][i] + delta_wee_t\n",
        "        \n",
        "        \"\"\" Prune the smallest weights induced by plasticity mechanisms; Apply lower cutoff weight\"\"\"\n",
        "        wee_t = prune_small_weights(wee_t,cutoff_weights[0])\n",
        "        \n",
        "        \"\"\"Check and set all weights < upper cutoff weight \"\"\"\n",
        "        wee_t = set_max_cutoff_weight(wee_t,cutoff_weights[1])\n",
        "\n",
        "        return wee_t\n",
        "\n",
        "    def ip(self, te, x):\n",
        "        \n",
        "        # IP rule: Active unit increases its threshold and inactive decreases its threshold.\n",
        "\n",
        "        xt = x[:, 1]\n",
        "\n",
        "        te_update = te + self.eta_ip * (xt.reshape(self.ne, 1) - self.h_ip)\n",
        "        \n",
        "        \"\"\" Check whether all te are in range [0.0,1.0] and update acordingly\"\"\"\n",
        "        \n",
        "        # Update te < 0.0 ---> 0.0\n",
        "        # te_update = prune_small_weights(te_update,self.te_min)\n",
        "        \n",
        "        # Set all te > 1.0 --> 1.0\n",
        "        # te_update = set_max_cutoff_weight(te_update,self.te_max)\n",
        "\n",
        "        return te_update\n",
        "\n",
        "    def ss(self, wee_t):\n",
        "        \n",
        "        \"\"\"Synaptic Scaling or Synaptic Normalization\"\"\"\n",
        "        \n",
        "        wee_t = wee_t / np.sum(wee_t,axis=0)\n",
        "\n",
        "        return wee_t\n",
        "\n",
        "    \n",
        "    def istdp(self, wei, x, y, cutoff_weights):\n",
        "\n",
        "        #  Apply iSTDP rule : Regulates synaptic strength between the pre(Yj) and post(Xi) synaptic neurons\n",
        "        \n",
        "        # Excitaotry network activity\n",
        "        x = np.asarray(x) # Array sanity check\n",
        "        xt_1 = x[:, 0]  \n",
        "        xt = x[:, 1]  \n",
        "    \n",
        "        # Inhibitory network activity\n",
        "        y = np.asarray(y)\n",
        "\n",
        "        yt_1 = y[:, 0]    \n",
        "        yt = y[:, 1]  \n",
        " \n",
        "\n",
        "        # iSTDP applies only on the neurons which are connected.\n",
        "        wei_t = wei.copy()\n",
        "\n",
        "        for i in range(len(wei_t[0])): # Each neuron i, Post-synaptic neuron: means for each column; \n",
        "            \n",
        "            for j in range(len(wei_t[0:])): # Incoming connection from j, pre-synaptic neuron to ith neuron\n",
        "                \n",
        "                if wei_t[j][i] != 0. : # Check connectivity\n",
        "                    \n",
        "                    # Get the change in weight\n",
        "                    delta_wei_t = - self.eta_inhib * yt_1[j] * (1 - xt[i]*(1 + 1/self.mu_ip))\n",
        "\n",
        "                    # Update the weight between jth neuron to i \"\"Different from notation in article \n",
        "\n",
        "                    wei_t[j][i] = wei[j][i] + delta_wei_t\n",
        "        \n",
        "        \"\"\" Prune the smallest weights induced by plasticity mechanisms; Apply lower cutoff weight\"\"\"\n",
        "        wei_t = prune_small_weights(wei_t,cutoff_weights[0])\n",
        "        \n",
        "        \"\"\"Check and set all weights < upper cutoff weight \"\"\"\n",
        "        wei_t = set_max_cutoff_weight(wei_t,cutoff_weights[1])\n",
        "        \n",
        "        return wei_t\n",
        "\n",
        "    @staticmethod\n",
        "    def structural_plasticity(wee):\n",
        "\n",
        "        \"\"\" Add new connection value to the smallest weight between excitatory units randomly\"\"\"\n",
        "\n",
        "        p_c = np.random.randint(0, 10, 1)\n",
        "\n",
        "        if p_c == 0:  # p_c= 0.1\n",
        "\n",
        "            \"\"\" Do structural plasticity \"\"\"\n",
        "\n",
        "            # Choose the smallest weights randomly from the weight matrix wee\n",
        "            \n",
        "            indexes = get_unconnected_indexes(wee) \n",
        "\n",
        "            # Choose any idx randomly\n",
        "            idx_rand = random.choice(indexes)\n",
        "            \n",
        "            if idx_rand[0] == idx_rand[1]:\n",
        "                \n",
        "                idx_rand = random.choice(indexes)\n",
        "                \n",
        "            wee[idx_rand[0]][idx_rand[1]] = 0.001\n",
        "            \n",
        "\n",
        "        return wee\n",
        "\n",
        "    ###########################################################\n",
        "\n",
        "    @staticmethod\n",
        "    def initialize_plasticity():\n",
        "\n",
        "        wee = wee_init\n",
        "        wei = wei_init\n",
        "        wie = wie_init\n",
        "        te = te_init\n",
        "        ti = ti_init\n",
        "        x = x_init\n",
        "        y = y_init\n",
        "\n",
        "        return wee, wei, wie, te, ti, x, y\n",
        "\n",
        "    @staticmethod\n",
        "    def reorganize_network():\n",
        "        pass"
      ],
      "execution_count": 0,
      "outputs": []
    },
    {
      "metadata": {
        "colab_type": "code",
        "id": "6RrY8CIS803j",
        "colab": {}
      },
      "cell_type": "code",
      "source": [
        "class MatrixCollection(Sorn):\n",
        "    def __init__(self,phase, matrices = None):\n",
        "        super().__init__()\n",
        "        \n",
        "        self.phase = phase\n",
        "        self.matrices = matrices\n",
        "        if self.phase == 'Plasticity' and self.matrices == None :\n",
        "\n",
        "            self.time_steps = Sorn.time_steps + 1  # Total training steps\n",
        "            self.Wee, self.Wei, self.Wie, self.Te, self.Ti, self.X, self.Y = [0] * self.time_steps, [0] * self.time_steps, \\\n",
        "                                                                             [0] * self.time_steps, [0] * self.time_steps, \\\n",
        "                                                                             [0] * self.time_steps, [0] * self.time_steps, \\\n",
        "                                                                             [0] * self.time_steps\n",
        "            wee, wei, wie, te, ti, x, y = Plasticity.initialize_plasticity()\n",
        "\n",
        "            # Assign initial matrix to the master matrices\n",
        "            self.Wee[0] = wee\n",
        "            self.Wei[0] = wei\n",
        "            self.Wie[0] = wie\n",
        "            self.Te[0] = te\n",
        "            self.Ti[0] = ti\n",
        "            self.X[0] = x\n",
        "            self.Y[0] = y\n",
        "        \n",
        "        elif self.phase == 'Plasticity' and self.matrices != None:\n",
        "            \n",
        "            self.time_steps = Sorn.time_steps + 1  # Total training steps\n",
        "            self.Wee, self.Wei, self.Wie, self.Te, self.Ti, self.X, self.Y = [0] * self.time_steps, [0] * self.time_steps, \\\n",
        "                                                                             [0] * self.time_steps, [0] * self.time_steps, \\\n",
        "                                                                             [0] * self.time_steps, [0] * self.time_steps, \\\n",
        "                                                                             [0] * self.time_steps\n",
        "            # Assign matrices from plasticity phase to the new master matrices for training phase\n",
        "            self.Wee[0] = matrices['Wee']\n",
        "            self.Wei[0] = matrices['Wei']\n",
        "            self.Wie[0] = matrices['Wie']\n",
        "            self.Te[0] = matrices['Te']\n",
        "            self.Ti[0] = matrices['Ti']\n",
        "            self.X[0] = matrices['X']\n",
        "            self.Y[0] = matrices['Y']\n",
        "            \n",
        "        elif self.phase == 'Training':\n",
        "\n",
        "            \"\"\"NOTE:\n",
        "            time_steps here is diferent for plasticity or trianing phase\"\"\"\n",
        "            self.time_steps = Sorn.time_steps + 1  # Total training steps\n",
        "            self.Wee, self.Wei, self.Wie, self.Te, self.Ti, self.X, self.Y = [0] * self.time_steps, [0] * self.time_steps, \\\n",
        "                                                                             [0] * self.time_steps, [0] * self.time_steps, \\\n",
        "                                                                             [0] * self.time_steps, [0] * self.time_steps, \\\n",
        "                                                                             [0] * self.time_steps\n",
        "            # Assign matrices from plasticity phase to new respective matrices for training phase\n",
        "            self.Wee[0] = matrices['Wee']\n",
        "            self.Wei[0] = matrices['Wei']\n",
        "            self.Wie[0] = matrices['Wie']\n",
        "            self.Te[0] = matrices['Te']\n",
        "            self.Ti[0] = matrices['Ti']\n",
        "            self.X[0] = matrices['X']\n",
        "            self.Y[0] = matrices['Y']\n",
        "            \n",
        "    # @staticmethod\n",
        "    def weight_matrix(self, wee, wei, wie, i):\n",
        "        # Get delta_weight from Plasticity.stdp\n",
        "    \n",
        "        # i - training step\n",
        "        self.Wee[i + 1] = wee\n",
        "        self.Wei[i + 1] = wei\n",
        "        self.Wie[i + 1] = wie\n",
        "\n",
        "        return self.Wee, self.Wei, self.Wie\n",
        "\n",
        "    # @staticmethod\n",
        "    def threshold_matrix(self, te, ti, i):\n",
        "        self.Te[i + 1] = te\n",
        "        self.Ti[i + 1] = ti\n",
        "        return self.Te, self.Ti\n",
        "\n",
        "    # @staticmethod\n",
        "    def network_activity_t(self, excitatory_net, inhibitory_net, i):\n",
        "        self.X[i + 1] = excitatory_net\n",
        "        self.Y[i + 1] = inhibitory_net\n",
        "\n",
        "        return self.X, self.Y\n",
        "\n",
        "    # @staticmethod\n",
        "    def network_activity_t_1(self, x, y, i):\n",
        "        x_1, y_1 = [0] * self.time_steps, [0] * self.time_steps\n",
        "        x_1[i] = x\n",
        "        y_1[i] = y\n",
        "\n",
        "        return x_1, y_1"
      ],
      "execution_count": 0,
      "outputs": []
    },
    {
      "metadata": {
        "colab_type": "code",
        "id": "XnPxhhDj803p",
        "colab": {}
      },
      "cell_type": "code",
      "source": [
        "class NetworkState(Plasticity):\n",
        "    \n",
        "    \"\"\"The evolution of network states\"\"\"\n",
        "\n",
        "    def __init__(self, v_t):\n",
        "        super().__init__()\n",
        "        self.v_t = v_t\n",
        "    \n",
        "    def incoming_drive(self,weights,activity_vector):\n",
        "            \n",
        "        # Broadcasting weight*acivity vectors \n",
        "        \n",
        "        incoming = weights* activity_vector\n",
        "        incoming = np.array(incoming.sum(axis=0))\n",
        "        return incoming\n",
        "        \n",
        "    def excitatory_network_state(self, wee, wei, te, x, y,white_noise_e):\n",
        "        \n",
        "        \"\"\" Activity of Excitatory neurons in the network\"\"\"\n",
        "    \n",
        "        xt = x[:, 1]  \n",
        "        xt = xt.reshape(self.ne, 1)\n",
        "        yt = y[:, 1]\n",
        "        yt = yt.reshape(self.ni, 1)\n",
        "        \n",
        "        \n",
        "        incoming_drive_e = np.expand_dims(self.incoming_drive(weights = wee,activity_vector=xt),1)\n",
        "        incoming_drive_i = np.expand_dims(self.incoming_drive(weights = wei,activity_vector=yt),1)\n",
        "        \n",
        "        tot_incoming_drive = incoming_drive_e -  incoming_drive_i + white_noise_e + np.asarray(self.v_t) - te\n",
        "        \n",
        "        \"\"\"Heaviside step function\"\"\"\n",
        "\n",
        "        heaviside_step = [0] * len(tot_incoming_drive)\n",
        "        for t in range(len(tot_incoming_drive)):\n",
        "            heaviside_step[t] = 0.0 if tot_incoming_drive[t] < te[t] else 1.0\n",
        "\n",
        "        xt_next = np.asarray(heaviside_step.copy())\n",
        "\n",
        "        return xt_next\n",
        "\n",
        "    def inhibitory_network_state(self, wie, ti, x,white_noise_i):\n",
        "\n",
        "        # Activity of inhibitory neurons\n",
        "\n",
        "        wie = np.asarray(wie)\n",
        "        xt = x[:, 1]\n",
        "        xt = xt.reshape(Sorn.ne, 1)\n",
        "    \n",
        "        incoming_drive_e = np.expand_dims(self.incoming_drive(weights = wie,activity_vector=xt),1)\n",
        "        \n",
        "        tot_incoming_drive = incoming_drive_e + white_noise_i - ti\n",
        "        \n",
        "        \"\"\"Implement Heaviside step function\"\"\"\n",
        "\n",
        "        heaviside_step = [0] * len(tot_incoming_drive)\n",
        "\n",
        "        for t in range(len(tot_incoming_drive)):\n",
        "            heaviside_step[t] = 0.0 if tot_incoming_drive[t] < ti[t] else 1.0\n",
        "\n",
        "        yt_next = np.asarray(heaviside_step.copy())  \n",
        "\n",
        "        return yt_next\n",
        "\n",
        "    \n",
        "    def recurrent_drive(self, wee, wei, te, x, y,white_noise_e):\n",
        "        \n",
        "        \"\"\"Network state due to recurrent drive received by the each unit at time t+1\"\"\"\n",
        "        \n",
        "    \n",
        "        xt = x[:, 1]  \n",
        "        xt = xt.reshape(self.ne, 1)\n",
        "        yt = y[:, 1]\n",
        "        yt = yt.reshape(self.ni, 1)\n",
        "        \n",
        "        incoming_drive_e = np.expand_dims(self.incoming_drive(weights = wee,activity_vector=xt),1)\n",
        "        incoming_drive_i = np.expand_dims(self.incoming_drive(weights = wei,activity_vector=yt),1)\n",
        "        \n",
        "        tot_incoming_drive = incoming_drive_e -  incoming_drive_i + white_noise_e - te\n",
        "        \n",
        "        \"\"\"Heaviside step function\"\"\"\n",
        "\n",
        "        heaviside_step = [0] * len(tot_incoming_drive)\n",
        "        for t in range(len(tot_incoming_drive)):\n",
        "            heaviside_step[t] = 0.0 if tot_incoming_drive[t] < te[t] else 1.0\n",
        "\n",
        "        xt_next = np.asarray(heaviside_step.copy())\n",
        "\n",
        "        return xt_next\n",
        "\n",
        "    "
      ],
      "execution_count": 0,
      "outputs": []
    },
    {
      "metadata": {
        "colab_type": "text",
        "id": "hKfHRNuM803u"
      },
      "cell_type": "markdown",
      "source": [
        "### Run SORN to study the internal dynamics of the network"
      ]
    },
    {
      "metadata": {
        "colab_type": "text",
        "id": "ztBm1E1qTdyI"
      },
      "cell_type": "markdown",
      "source": [
        "## Generate random strings of length 20 as input\n"
      ]
    },
    {
      "metadata": {
        "id": "kkPAYFN3rEIB",
        "colab_type": "code",
        "colab": {}
      },
      "cell_type": "code",
      "source": [
        "### Generate gaussian input\n",
        "\n",
        "def generate_normal_inp(length):\n",
        "    \n",
        "    '''First 10 neurons in the reservoir acts as inputs'''\n",
        "    \n",
        "    out = [0] * 200\n",
        "    x = [0]*length\n",
        "    idx = np.random.choice(length,np.random.randint(10))\n",
        "    \n",
        "    for i in idx:\n",
        "      x[i] = 1.0e4\n",
        "      \n",
        "    out[:len(x)] = x \n",
        "    \n",
        "    return out\n",
        "    \n",
        "    \n"
      ],
      "execution_count": 0,
      "outputs": []
    },
    {
      "metadata": {
        "colab_type": "text",
        "id": "vSAzRMx2803z"
      },
      "cell_type": "markdown",
      "source": [
        "### First batch of plastiity phase"
      ]
    },
    {
      "metadata": {
        "colab_type": "code",
        "id": "M4jcFHFY803v",
        "colab": {}
      },
      "cell_type": "code",
      "source": [
        "\n",
        "class RunSorn(Sorn):\n",
        "    \n",
        "    def __init__(self,phase,matrices,time_steps):\n",
        "        \n",
        "        super().__init__()\n",
        "        self.time_steps = time_steps\n",
        "        Sorn.time_steps = time_steps\n",
        "        self.phase = phase\n",
        "        self.matrices = matrices\n",
        "\n",
        "    def run_sorn(self, inp):\n",
        "        \n",
        "        # Initialize/Get the weight, threshold matrices and activity vectors\n",
        "        matrix_collection = MatrixCollection(phase = self.phase,matrices = self.matrices)\n",
        "        \n",
        "        # Collect the network activity at all time steps\n",
        "        \n",
        "        X_all = [0]*self.time_steps\n",
        "        Y_all = [0]*self.time_steps\n",
        "        R_all = [0]*self.time_steps\n",
        "        \n",
        "        frac_pos_active_conn = []\n",
        "        \n",
        "        # To get the last activation status of Exc and Inh neurons\n",
        "            \n",
        "        for i in tqdm.tqdm(range(self.time_steps)):\n",
        "            \n",
        "            \n",
        "            \"\"\" Generate white noise\"\"\"\n",
        "            white_noise_e = white_gaussian_noise(mu= 0., sigma = 0.04,t = Sorn.ne)\n",
        "            white_noise_i = white_gaussian_noise(mu= 0., sigma = 0.04,t = Sorn.ni)\n",
        "\n",
        "            # Generate inputs\n",
        "            inp_ = np.expand_dims(generate_normal_inp(10),1)\n",
        "            \n",
        "       \n",
        "            network_state = NetworkState(inp_)  # Feed input and initialize network state\n",
        "            \n",
        "            # Buffers to get the resulting x and y vectors at the current time step and update the master matrix\n",
        "\n",
        "            x_buffer, y_buffer = np.zeros(( Sorn.ne, 2)), np.zeros((Sorn.ni, 2))\n",
        "\n",
        "            te_buffer, ti_buffer = np.zeros((Sorn.ne, 1)), np.zeros((Sorn.ni, 1))\n",
        "\n",
        "            # Get the matrices and rename them for ease of reading\n",
        "\n",
        "            Wee, Wei, Wie = matrix_collection.Wee, matrix_collection.Wei, matrix_collection.Wie\n",
        "            Te, Ti = matrix_collection.Te, matrix_collection.Ti\n",
        "            X, Y = matrix_collection.X, matrix_collection.Y\n",
        "            \n",
        "            \n",
        "            \"\"\" Fraction of active connections between E-E network\"\"\"\n",
        "            frac_pos_active_conn.append((Wee[i] > 0.0).sum())\n",
        "            \n",
        "            \"\"\" Recurrent drive\"\"\"\n",
        "            \n",
        "            r = network_state.recurrent_drive(Wee[i], Wei[i], Te[i], X[i], Y[i],white_noise_e)\n",
        "            \n",
        "            \"\"\"Get excitatory states and inhibitory states given the weights and thresholds\"\"\"\n",
        "\n",
        "            # x(t+1), y(t+1)\n",
        "            excitatory_state_xt_buffer = network_state.excitatory_network_state(Wee[i], Wei[i], Te[i], X[i], Y[i],white_noise_e)\n",
        "\n",
        "            inhibitory_state_yt_buffer = network_state.inhibitory_network_state(Wie[i], Ti[i], X[i],white_noise_i)\n",
        "\n",
        "            \n",
        "            \"\"\" Update X and Y \"\"\"\n",
        "            x_buffer[:, 0] = X[i][:, 1]  # xt -->(becomes) xt_1\n",
        "            x_buffer[:, 1] = excitatory_state_xt_buffer.T  # New_activation; x_buffer --> xt\n",
        "            \n",
        "\n",
        "            y_buffer[:, 0] = Y[i][:, 1]\n",
        "            y_buffer[:, 1] = inhibitory_state_yt_buffer.T\n",
        "            \n",
        "            \"\"\"Plasticity phase\"\"\"\n",
        "\n",
        "            plasticity = Plasticity()  #  Can be initialised outside loop--> Plasticity may receive some dynamic args in future version\n",
        "\n",
        "            # STDP \n",
        "            Wee_t = plasticity.stdp(Wee[i],x_buffer,cutoff_weights = (0.0,1.0))\n",
        "              \n",
        "            # Intrinsic plasticity\n",
        "            Te_t = plasticity.ip(Te[i],x_buffer)\n",
        "              \n",
        "            # Structural plasticity\n",
        "            Wee_t = plasticity.structural_plasticity(Wee_t)      \n",
        "            \n",
        "            # iSTDP \n",
        "            Wei_t = plasticity.istdp(Wei[i],x_buffer,y_buffer,cutoff_weights = (0.0,1.0))\n",
        "            \n",
        "            # Synaptic scaling Wee\n",
        "            Wee_t = Plasticity().ss(Wee_t)\n",
        "            \n",
        "            # Synaptic scaling Wei\n",
        "            Wei_t = Plasticity().ss(Wei_t)\n",
        "\n",
        "            \"\"\"Assign the matrices to the matrix collections\"\"\"\n",
        "            matrix_collection.weight_matrix(Wee_t, Wei_t, Wie[i], i)\n",
        "            matrix_collection.threshold_matrix(Te_t, Ti[i], i)\n",
        "            matrix_collection.network_activity_t(x_buffer, y_buffer, i)\n",
        "            \n",
        "            X_all[i] = x_buffer[:,1]\n",
        "            Y_all[i] = y_buffer[:,1]\n",
        "            R_all[i] = r\n",
        "   \n",
        "        plastic_matrices = {'Wee':matrix_collection.Wee[-1], \n",
        "                            'Wei': matrix_collection.Wei[-1], \n",
        "                            'Wie':matrix_collection.Wie[-1],\n",
        "                            'Te': matrix_collection.Te[-1], 'Ti': matrix_collection.Ti[-1],\n",
        "                            'X': X[-1], 'Y': Y[-1]}\n",
        "        \n",
        "        return plastic_matrices,X_all,Y_all,R_all,frac_pos_active_conn\n",
        "        \n"
      ],
      "execution_count": 0,
      "outputs": []
    },
    {
      "metadata": {
        "colab_type": "text",
        "id": "HOt3oRZqOoaX"
      },
      "cell_type": "markdown",
      "source": [
        "# Start the Simulation step with random input strings"
      ]
    },
    {
      "metadata": {
        "id": "sU4MnDu6aYWe",
        "colab_type": "code",
        "colab": {}
      },
      "cell_type": "code",
      "source": [
        "_inputs = None"
      ],
      "execution_count": 0,
      "outputs": []
    },
    {
      "metadata": {
        "colab_type": "code",
        "id": "gtE3iFnNQQnT",
        "outputId": "362bafc7-27ed-4b79-d23e-32e8d8091bd9",
        "colab": {
          "base_uri": "https://localhost:8080/",
          "height": 34
        }
      },
      "cell_type": "code",
      "source": [
        "plastic_matrices,X_all,Y_all,R_all,frac_pos_active_conn = RunSorn(phase = 'Plasticity',matrices = None,time_steps = 10000).run_sorn(_inputs)\n",
        "\n",
        "with open('stdp2013_10k.pkl', 'wb') as f:  \n",
        "    pickle.dump([plastic_matrices,X_all,Y_all,R_all,frac_pos_active_conn], f)"
      ],
      "execution_count": 0,
      "outputs": [
        {
          "output_type": "stream",
          "text": [
            "100%|██████████| 10000/10000 [04:31<00:00, 36.86it/s]\n"
          ],
          "name": "stderr"
        }
      ]
    },
    {
      "metadata": {
        "colab_type": "code",
        "id": "ArswbDXV804C",
        "outputId": "6696af31-f1ad-4918-b6cd-16f061337418",
        "colab": {
          "base_uri": "https://localhost:8080/",
          "height": 34
        }
      },
      "cell_type": "code",
      "source": [
        "with open('stdp2013_10k.pkl','rb') as f:  \n",
        "    plastic_matrices,X_all,Y_all,R_all,frac_pos_active_conn = pickle.load(f)\n",
        "    \n",
        "plastic_matrices,X_all,Y_all,R_all,frac_pos_active_conn = RunSorn(phase = 'Plasticity',matrices = plastic_matrices,time_steps = 20000).run_sorn(inp =None)\n",
        "\n",
        "with open('stdp2013_20k.pkl', 'wb') as f:  \n",
        "    pickle.dump([plastic_matrices,X_all,Y_all,R_all,frac_pos_active_conn], f)"
      ],
      "execution_count": 0,
      "outputs": [
        {
          "output_type": "stream",
          "text": [
            "100%|██████████| 20000/20000 [08:28<00:00, 40.61it/s]\n"
          ],
          "name": "stderr"
        }
      ]
    },
    {
      "metadata": {
        "colab_type": "code",
        "id": "IHTuRfK1804F",
        "outputId": "9f3f325d-7512-4d14-db42-22066fdff118",
        "colab": {
          "base_uri": "https://localhost:8080/",
          "height": 34
        }
      },
      "cell_type": "code",
      "source": [
        "with open('stdp2013_20k.pkl','rb') as f:  \n",
        "    plastic_matrices,X_all,Y_all,R_all,frac_pos_active_conn = pickle.load(f)\n",
        "    \n",
        "plastic_matrices,X_all,Y_all,R_all,frac_pos_active_conn = RunSorn(phase = 'Plasticity',matrices = plastic_matrices,time_steps = 10000).run_sorn(_inputs)\n",
        "\n",
        "with open('stdp2013_30k.pkl', 'wb') as f:  \n",
        "    pickle.dump([plastic_matrices,X_all,Y_all,R_all,frac_pos_active_conn], f)"
      ],
      "execution_count": 0,
      "outputs": [
        {
          "output_type": "stream",
          "text": [
            "100%|██████████| 10000/10000 [04:15<00:00, 39.14it/s]\n"
          ],
          "name": "stderr"
        }
      ]
    },
    {
      "metadata": {
        "colab_type": "code",
        "id": "R-3E8sCg804M",
        "outputId": "24d44639-b35b-4062-a25e-a13d97751a88",
        "colab": {
          "base_uri": "https://localhost:8080/",
          "height": 34
        }
      },
      "cell_type": "code",
      "source": [
        "with open('stdp2013_30k.pkl','rb') as f:  \n",
        "    plastic_matrices,X_all,Y_all,R_all,frac_pos_active_conn = pickle.load(f)\n",
        "    \n",
        "plastic_matrices,X_all,Y_all,R_all,frac_pos_active_conn = RunSorn(phase = 'Plasticity',matrices = plastic_matrices,time_steps = 10000).run_sorn(_inputs)\n",
        "\n",
        "with open('stdp2013_40k.pkl', 'wb') as f:  \n",
        "    pickle.dump([plastic_matrices,X_all,Y_all,R_all,frac_pos_active_conn], f)"
      ],
      "execution_count": 0,
      "outputs": [
        {
          "output_type": "stream",
          "text": [
            "100%|██████████| 10000/10000 [04:15<00:00, 39.15it/s]\n"
          ],
          "name": "stderr"
        }
      ]
    },
    {
      "metadata": {
        "colab_type": "code",
        "id": "qiwJj_7i804Q",
        "outputId": "d52a23c7-0fd1-4682-b9e7-005f58a105d0",
        "colab": {
          "base_uri": "https://localhost:8080/",
          "height": 34
        }
      },
      "cell_type": "code",
      "source": [
        "with open('stdp2013_40k.pkl','rb') as f:  \n",
        "    plastic_matrices,X_all,Y_all,R_all,frac_pos_active_conn = pickle.load(f)\n",
        "    \n",
        "plastic_matrices,X_all,Y_all,R_all,frac_pos_active_conn = RunSorn(phase = 'Plasticity',matrices = plastic_matrices,time_steps = 10000).run_sorn(_inputs)\n",
        "\n",
        "with open('stdp2013_50k.pkl', 'wb') as f:  \n",
        "    pickle.dump([plastic_matrices,X_all,Y_all,R_all,frac_pos_active_conn], f)"
      ],
      "execution_count": 0,
      "outputs": [
        {
          "output_type": "stream",
          "text": [
            "100%|██████████| 10000/10000 [04:15<00:00, 39.18it/s]\n"
          ],
          "name": "stderr"
        }
      ]
    },
    {
      "metadata": {
        "colab_type": "code",
        "id": "P5an5mdoVe0x",
        "outputId": "0b25c835-62ad-4955-8451-4fe1b8189764",
        "colab": {
          "base_uri": "https://localhost:8080/",
          "height": 34
        }
      },
      "cell_type": "code",
      "source": [
        "with open('stdp2013_50k.pkl','rb') as f:  \n",
        "    plastic_matrices,X_all,Y_all,R_all,frac_pos_active_conn = pickle.load(f)\n",
        "    \n",
        "plastic_matrices,X_all,Y_all,R_all,frac_pos_active_conn = RunSorn(phase = 'Plasticity',matrices = plastic_matrices,time_steps = 30000).run_sorn(_inputs)\n",
        "\n",
        "with open('stdp2013_80k.pkl', 'wb') as f:  \n",
        "    pickle.dump([plastic_matrices,X_all,Y_all,R_all,frac_pos_active_conn], f)"
      ],
      "execution_count": 0,
      "outputs": [
        {
          "output_type": "stream",
          "text": [
            "100%|██████████| 30000/30000 [12:59<00:00, 36.46it/s]\n"
          ],
          "name": "stderr"
        }
      ]
    },
    {
      "metadata": {
        "colab_type": "code",
        "id": "odNH99f_Vehr",
        "outputId": "236bf33a-9859-42fe-cfec-b5e02817a53b",
        "colab": {
          "base_uri": "https://localhost:8080/",
          "height": 34
        }
      },
      "cell_type": "code",
      "source": [
        "with open('stdp2013_80k.pkl','rb') as f:  \n",
        "    plastic_matrices,X_all,Y_all,R_all,frac_pos_active_conn = pickle.load(f)\n",
        "    \n",
        "plastic_matrices,X_all,Y_all,R_all,frac_pos_active_conn = RunSorn(phase = 'Plasticity',matrices = plastic_matrices,time_steps = 20000).run_sorn(_inputs)\n",
        "\n",
        "with open('stdp2013_100k.pkl', 'wb') as f:  \n",
        "    pickle.dump([plastic_matrices,X_all,Y_all,R_all,frac_pos_active_conn], f)"
      ],
      "execution_count": 0,
      "outputs": [
        {
          "output_type": "stream",
          "text": [
            "100%|██████████| 20000/20000 [08:44<00:00, 36.21it/s]\n"
          ],
          "name": "stderr"
        }
      ]
    },
    {
      "metadata": {
        "colab_type": "code",
        "id": "L-1-nvbjX-kM",
        "outputId": "f8af72c1-013f-4056-ab01-c8ffca2c4fff",
        "colab": {
          "base_uri": "https://localhost:8080/",
          "height": 34
        }
      },
      "cell_type": "code",
      "source": [
        "with open('stdp2013_100k.pkl','rb') as f:  \n",
        "    plastic_matrices,X_all,Y_all,R_all,frac_pos_active_conn = pickle.load(f)\n",
        "    \n",
        "plastic_matrices,X_all,Y_all,R_all,frac_pos_active_conn = RunSorn(phase = 'Plasticity',matrices = plastic_matrices,time_steps = 30000).run_sorn(_inputs)\n",
        "\n",
        "with open('stdp2013_130k.pkl', 'wb') as f:  \n",
        "    pickle.dump([plastic_matrices,X_all,Y_all,R_all,frac_pos_active_conn], f)"
      ],
      "execution_count": 0,
      "outputs": [
        {
          "output_type": "stream",
          "text": [
            "100%|██████████| 30000/30000 [13:18<00:00, 37.55it/s]\n"
          ],
          "name": "stderr"
        }
      ]
    },
    {
      "metadata": {
        "colab_type": "code",
        "id": "Mzbi0TFHdyoY",
        "outputId": "66324b0b-1fff-4b53-f474-945b013d86f4",
        "colab": {
          "base_uri": "https://localhost:8080/",
          "height": 34
        }
      },
      "cell_type": "code",
      "source": [
        "with open('stdp2013_130k.pkl','rb') as f:  \n",
        "    plastic_matrices,X_all,Y_all,R_all,frac_pos_active_conn = pickle.load(f)\n",
        "    \n",
        "plastic_matrices,X_all,Y_all,R_all,frac_pos_active_conn = RunSorn(phase = 'Plasticity',matrices = plastic_matrices,time_steps = 30000).run_sorn(_inputs)\n",
        "\n",
        "with open('stdp2013_160k.pkl', 'wb') as f:  \n",
        "    pickle.dump([plastic_matrices,X_all,Y_all,R_all,frac_pos_active_conn], f)"
      ],
      "execution_count": 0,
      "outputs": [
        {
          "output_type": "stream",
          "text": [
            "100%|██████████| 30000/30000 [13:39<00:00, 36.80it/s]\n"
          ],
          "name": "stderr"
        }
      ]
    },
    {
      "metadata": {
        "colab_type": "code",
        "id": "l-pfagYbgR5v",
        "outputId": "e606bfc2-3320-4b4e-d4e2-445d801ac348",
        "colab": {
          "base_uri": "https://localhost:8080/",
          "height": 34
        }
      },
      "cell_type": "code",
      "source": [
        "with open('stdp2013_160k.pkl','rb') as f:  \n",
        "    plastic_matrices,X_all,Y_all,R_all,frac_pos_active_conn = pickle.load(f)\n",
        "    \n",
        "plastic_matrices,X_all,Y_all,R_all,frac_pos_active_conn = RunSorn(phase = 'Plasticity',matrices = plastic_matrices,time_steps = 30000).run_sorn(_inputs)\n",
        "\n",
        "with open('stdp2013_190k.pkl', 'wb') as f:  \n",
        "    pickle.dump([plastic_matrices,X_all,Y_all,R_all,frac_pos_active_conn], f)"
      ],
      "execution_count": 0,
      "outputs": [
        {
          "output_type": "stream",
          "text": [
            "100%|██████████| 30000/30000 [13:39<00:00, 36.61it/s]\n"
          ],
          "name": "stderr"
        }
      ]
    },
    {
      "metadata": {
        "colab_type": "code",
        "id": "WlON3tKeiZl0",
        "outputId": "f29dcbd0-09cc-4d3d-c032-50336417ba35",
        "colab": {
          "base_uri": "https://localhost:8080/",
          "height": 34
        }
      },
      "cell_type": "code",
      "source": [
        " with open('stdp2013_190k.pkl','rb') as f:  \n",
        "    plastic_matrices,X_all,Y_all,R_all,frac_pos_active_conn = pickle.load(f)\n",
        "    \n",
        "plastic_matrices,X_all,Y_all,R_all,frac_pos_active_conn = RunSorn(phase = 'Plasticity',matrices = plastic_matrices,time_steps = 10000).run_sorn(_inputs)\n",
        "\n",
        "with open('stdp2013_200k.pkl', 'wb') as f:  \n",
        "    pickle.dump([plastic_matrices,X_all,Y_all,R_all,frac_pos_active_conn], f)"
      ],
      "execution_count": 0,
      "outputs": [
        {
          "output_type": "stream",
          "text": [
            "100%|██████████| 10000/10000 [04:35<00:00, 36.35it/s]\n"
          ],
          "name": "stderr"
        }
      ]
    },
    {
      "metadata": {
        "colab_type": "code",
        "id": "9AX4j_K-knb0",
        "outputId": "ed38c292-c783-4514-a48d-08a0fe1fd78e",
        "colab": {
          "base_uri": "https://localhost:8080/",
          "height": 34
        }
      },
      "cell_type": "code",
      "source": [
        "with open('stdp2013_200k.pkl','rb') as f:  \n",
        "    plastic_matrices,X_all,Y_all,R_all,frac_pos_active_conn = pickle.load(f)\n",
        "    \n",
        "plastic_matrices,X_all,Y_all,R_all,frac_pos_active_conn = RunSorn(phase = 'Plasticity',matrices = plastic_matrices,time_steps = 20000).run_sorn(_inputs)\n",
        "\n",
        "with open('stdp2013_220k.pkl', 'wb') as f:  \n",
        "    pickle.dump([plastic_matrices,X_all,Y_all,R_all,frac_pos_active_conn], f)"
      ],
      "execution_count": 0,
      "outputs": [
        {
          "output_type": "stream",
          "text": [
            "100%|██████████| 20000/20000 [09:10<00:00, 37.70it/s]\n"
          ],
          "name": "stderr"
        }
      ]
    },
    {
      "metadata": {
        "colab_type": "code",
        "id": "06O6JkATmJ2z",
        "outputId": "2571bd8d-1f20-4c77-8047-a582b5574602",
        "colab": {
          "base_uri": "https://localhost:8080/",
          "height": 34
        }
      },
      "cell_type": "code",
      "source": [
        "with open('stdp2013_220k.pkl','rb') as f:  \n",
        "    plastic_matrices,X_all,Y_all,R_all,frac_pos_active_conn = pickle.load(f)\n",
        "    \n",
        "plastic_matrices,X_all,Y_all,R_all,frac_pos_active_conn = RunSorn(phase = 'Plasticity',matrices = plastic_matrices,time_steps = 30000).run_sorn(_inputs)\n",
        "\n",
        "with open('stdp2013_250k.pkl', 'wb') as f:  \n",
        "    pickle.dump([plastic_matrices,X_all,Y_all,R_all,frac_pos_active_conn], f)"
      ],
      "execution_count": 0,
      "outputs": [
        {
          "output_type": "stream",
          "text": [
            "100%|██████████| 30000/30000 [13:59<00:00, 35.72it/s]\n"
          ],
          "name": "stderr"
        }
      ]
    },
    {
      "metadata": {
        "colab_type": "code",
        "id": "VdJ6-M-roes2",
        "outputId": "4c6f2ccf-7b24-458a-aa4a-a2c25dbcef4d",
        "colab": {
          "base_uri": "https://localhost:8080/",
          "height": 34
        }
      },
      "cell_type": "code",
      "source": [
        " with open('stdp2013_250k.pkl','rb') as f:  \n",
        "    plastic_matrices,X_all,Y_all,R_all,frac_pos_active_conn = pickle.load(f)\n",
        "    \n",
        "plastic_matrices,X_all,Y_all,R_all,frac_pos_active_conn = RunSorn(phase = 'Plasticity',matrices = plastic_matrices,time_steps = 30000).run_sorn(_inputs)\n",
        "\n",
        "with open('stdp2013_280k.pkl', 'wb') as f:  \n",
        "    pickle.dump([plastic_matrices,X_all,Y_all,R_all,frac_pos_active_conn], f)"
      ],
      "execution_count": 0,
      "outputs": [
        {
          "output_type": "stream",
          "text": [
            "100%|██████████| 30000/30000 [14:03<00:00, 35.56it/s]\n"
          ],
          "name": "stderr"
        }
      ]
    },
    {
      "metadata": {
        "colab_type": "code",
        "id": "lM-B6sLcJfZB",
        "outputId": "db4f2032-3421-497b-86f4-5e7eb4f135c4",
        "colab": {
          "base_uri": "https://localhost:8080/",
          "height": 34
        }
      },
      "cell_type": "code",
      "source": [
        "with open('stdp2013_280k.pkl','rb') as f:  \n",
        "    plastic_matrices,X_all,Y_all,R_all,frac_pos_active_conn = pickle.load(f)\n",
        "    \n",
        "plastic_matrices,X_all,Y_all,R_all,frac_pos_active_conn = RunSorn(phase = 'Plasticity',matrices = plastic_matrices,time_steps = 30000).run_sorn(_inputs)\n",
        "\n",
        "with open('stdp2013_310k.pkl', 'wb') as f:  \n",
        "    pickle.dump([plastic_matrices,X_all,Y_all,R_all,frac_pos_active_conn], f)"
      ],
      "execution_count": 0,
      "outputs": [
        {
          "output_type": "stream",
          "text": [
            "100%|██████████| 30000/30000 [14:13<00:00, 36.41it/s]\n"
          ],
          "name": "stderr"
        }
      ]
    },
    {
      "metadata": {
        "colab_type": "code",
        "id": "1PJ6Lz_3JffE",
        "outputId": "7c1654e7-02b5-4516-a9fe-15ee616c589f",
        "colab": {
          "base_uri": "https://localhost:8080/",
          "height": 34
        }
      },
      "cell_type": "code",
      "source": [
        "with open('stdp2013_310k.pkl','rb') as f:  \n",
        "    plastic_matrices,X_all,Y_all,R_all,frac_pos_active_conn = pickle.load(f)\n",
        "    \n",
        "plastic_matrices,X_all,Y_all,R_all,frac_pos_active_conn = RunSorn(phase = 'Plasticity',matrices = plastic_matrices,time_steps = 30000).run_sorn(_inputs)\n",
        "\n",
        "with open('stdp2013_340k.pkl', 'wb') as f:  \n",
        "    pickle.dump([plastic_matrices,X_all,Y_all,R_all,frac_pos_active_conn], f)"
      ],
      "execution_count": 0,
      "outputs": [
        {
          "output_type": "stream",
          "text": [
            "100%|██████████| 30000/30000 [14:20<00:00, 34.87it/s]\n"
          ],
          "name": "stderr"
        }
      ]
    },
    {
      "metadata": {
        "colab_type": "code",
        "id": "VKbWlo3pJfiP",
        "outputId": "17b6dee1-6bed-4a0f-bc0b-409d0962ddb4",
        "colab": {
          "base_uri": "https://localhost:8080/",
          "height": 34
        }
      },
      "cell_type": "code",
      "source": [
        "with open('stdp2013_340k.pkl','rb') as f:  \n",
        "    plastic_matrices,X_all,Y_all,R_all,frac_pos_active_conn = pickle.load(f)\n",
        "    \n",
        "plastic_matrices,X_all,Y_all,R_all,frac_pos_active_conn = RunSorn(phase = 'Plasticity',matrices = plastic_matrices,time_steps = 30000).run_sorn(_inputs)\n",
        "\n",
        "with open('stdp2013_370k.pkl', 'wb') as f:  \n",
        "    pickle.dump([plastic_matrices,X_all,Y_all,R_all,frac_pos_active_conn], f)"
      ],
      "execution_count": 0,
      "outputs": [
        {
          "output_type": "stream",
          "text": [
            "100%|██████████| 30000/30000 [14:21<00:00, 34.83it/s]\n"
          ],
          "name": "stderr"
        }
      ]
    },
    {
      "metadata": {
        "colab_type": "code",
        "id": "8-VhMCvjJfoF",
        "outputId": "dfc53375-c883-4d19-e480-ca2071e53c36",
        "colab": {
          "base_uri": "https://localhost:8080/",
          "height": 34
        }
      },
      "cell_type": "code",
      "source": [
        "with open('stdp2013_370k.pkl','rb') as f:  \n",
        "    plastic_matrices,X_all,Y_all,R_all,frac_pos_active_conn = pickle.load(f)\n",
        "    \n",
        "plastic_matrices,X_all,Y_all,R_all,frac_pos_active_conn = RunSorn(phase = 'Plasticity',matrices = plastic_matrices,time_steps = 30000).run_sorn(_inputs)\n",
        "\n",
        "with open('stdp2013_400k.pkl', 'wb') as f:  \n",
        "    pickle.dump([plastic_matrices,X_all,Y_all,R_all,frac_pos_active_conn], f)"
      ],
      "execution_count": 0,
      "outputs": [
        {
          "output_type": "stream",
          "text": [
            "100%|██████████| 30000/30000 [14:27<00:00, 34.56it/s]\n"
          ],
          "name": "stderr"
        }
      ]
    },
    {
      "metadata": {
        "colab_type": "code",
        "id": "-RzAN1RyJfsT",
        "outputId": "66e0487f-03c8-4f5a-bf03-63102819b38e",
        "colab": {
          "base_uri": "https://localhost:8080/",
          "height": 34
        }
      },
      "cell_type": "code",
      "source": [
        "with open('stdp2013_400k.pkl','rb') as f:  \n",
        "    plastic_matrices,X_all,Y_all,R_all,frac_pos_active_conn = pickle.load(f)\n",
        "    \n",
        "plastic_matrices,X_all,Y_all,R_all,frac_pos_active_conn = RunSorn(phase = 'Plasticity',matrices = plastic_matrices,time_steps = 30000).run_sorn(_inputs)\n",
        "\n",
        "with open('stdp2013_430k.pkl', 'wb') as f:  \n",
        "    pickle.dump([plastic_matrices,X_all,Y_all,R_all,frac_pos_active_conn], f)"
      ],
      "execution_count": 0,
      "outputs": [
        {
          "output_type": "stream",
          "text": [
            "100%|██████████| 30000/30000 [14:39<00:00, 34.12it/s]\n"
          ],
          "name": "stderr"
        }
      ]
    },
    {
      "metadata": {
        "colab_type": "code",
        "id": "2Iwk78QjJflo",
        "outputId": "e128be57-528a-4c20-d4ee-756babefe417",
        "colab": {
          "base_uri": "https://localhost:8080/",
          "height": 34
        }
      },
      "cell_type": "code",
      "source": [
        "with open('stdp2013_430k.pkl','rb') as f:  \n",
        "    plastic_matrices,X_all,Y_all,R_all,frac_pos_active_conn = pickle.load(f)\n",
        "    \n",
        "plastic_matrices,X_all,Y_all,R_all,frac_pos_active_conn = RunSorn(phase = 'Plasticity',matrices = plastic_matrices,time_steps = 30000).run_sorn(_inputs)\n",
        "\n",
        "with open('stdp2013_460k.pkl', 'wb') as f:  \n",
        "    pickle.dump([plastic_matrices,X_all,Y_all,R_all,frac_pos_active_conn], f)"
      ],
      "execution_count": 0,
      "outputs": [
        {
          "output_type": "stream",
          "text": [
            "100%|██████████| 30000/30000 [14:42<00:00, 34.00it/s]\n"
          ],
          "name": "stderr"
        }
      ]
    },
    {
      "metadata": {
        "colab_type": "code",
        "id": "SoYTfmvsJfcS",
        "outputId": "a23039e1-510d-4626-a228-d77e5054de3b",
        "colab": {
          "base_uri": "https://localhost:8080/",
          "height": 34
        }
      },
      "cell_type": "code",
      "source": [
        "with open('stdp2013_460k.pkl','rb') as f:  \n",
        "    plastic_matrices,X_all,Y_all,R_all,frac_pos_active_conn = pickle.load(f)\n",
        "    \n",
        "plastic_matrices,X_all,Y_all,R_all,frac_pos_active_conn = RunSorn(phase = 'Plasticity',matrices = plastic_matrices,time_steps = 30000).run_sorn(_inputs)\n",
        "\n",
        "with open('stdp2013_490k.pkl', 'wb') as f:  \n",
        "    pickle.dump([plastic_matrices,X_all,Y_all,R_all,frac_pos_active_conn], f)"
      ],
      "execution_count": 0,
      "outputs": [
        {
          "output_type": "stream",
          "text": [
            "100%|██████████| 30000/30000 [14:52<00:00, 33.62it/s]\n"
          ],
          "name": "stderr"
        }
      ]
    },
    {
      "metadata": {
        "colab_type": "code",
        "id": "TWfOKPzHJfV0",
        "outputId": "686114e1-8dd7-4253-9281-a084231d22a8",
        "colab": {
          "base_uri": "https://localhost:8080/",
          "height": 34
        }
      },
      "cell_type": "code",
      "source": [
        " with open('stdp2013_490k.pkl','rb') as f:  \n",
        "    plastic_matrices,X_all,Y_all,R_all,frac_pos_active_conn = pickle.load(f)\n",
        "    \n",
        "plastic_matrices,X_all,Y_all,R_all,frac_pos_active_conn = RunSorn(phase = 'Plasticity',matrices = plastic_matrices,time_steps = 30000).run_sorn(_inputs)\n",
        "\n",
        "with open('stdp2013_500k.pkl', 'wb') as f:  \n",
        "    pickle.dump([plastic_matrices,X_all,Y_all,R_all,frac_pos_active_conn], f)"
      ],
      "execution_count": 0,
      "outputs": [
        {
          "output_type": "stream",
          "text": [
            " 66%|██████▋   | 19878/30000 [09:56<04:54, 34.34it/s]"
          ],
          "name": "stderr"
        }
      ]
    },
    {
      "metadata": {
        "colab_type": "code",
        "id": "leVbkZc80Eni",
        "colab": {}
      },
      "cell_type": "code",
      "source": [
        " with open('stdp2013_500k.pkl','rb') as f:  \n",
        "    plastic_matrices,X_all,Y_all,R_all,frac_pos_active_conn = pickle.load(f)\n",
        "    \n",
        "plastic_matrices,X_all,Y_all,R_all,frac_pos_active_conn = RunSorn(phase = 'Plasticity',matrices = plastic_matrices,time_steps = 30000).run_sorn(_inputs)\n",
        "\n",
        "with open('stdp2013_530k.pkl', 'wb') as f:  \n",
        "    pickle.dump([plastic_matrices,X_all,Y_all,R_all,frac_pos_active_conn], f)"
      ],
      "execution_count": 0,
      "outputs": []
    },
    {
      "metadata": {
        "colab_type": "code",
        "id": "PoID6Pqw0EwZ",
        "colab": {}
      },
      "cell_type": "code",
      "source": [
        " with open('stdp2013_530k.pkl','rb') as f:  \n",
        "    plastic_matrices,X_all,Y_all,R_all,frac_pos_active_conn = pickle.load(f)\n",
        "    \n",
        "plastic_matrices,X_all,Y_all,R_all,frac_pos_active_conn = RunSorn(phase = 'Plasticity',matrices = plastic_matrices,time_steps = 30000).run_sorn(_inputs)\n",
        "\n",
        "with open('stdp2013_560k.pkl', 'wb') as f:  \n",
        "    pickle.dump([plastic_matrices,X_all,Y_all,R_all,frac_pos_active_conn], f)"
      ],
      "execution_count": 0,
      "outputs": []
    },
    {
      "metadata": {
        "colab_type": "code",
        "id": "sCC_Seix0FAb",
        "outputId": "b78a4152-899b-4a5d-80a8-a49d7d5786ba",
        "colab": {
          "base_uri": "https://localhost:8080/",
          "height": 34
        }
      },
      "cell_type": "code",
      "source": [
        " with open('stdp2013_560k.pkl','rb') as f:  \n",
        "    plastic_matrices,X_all,Y_all,R_all,frac_pos_active_conn = pickle.load(f)\n",
        "    \n",
        "plastic_matrices,X_all,Y_all,R_all,frac_pos_active_conn = RunSorn(phase = 'Plasticity',matrices = plastic_matrices,time_steps = 30000).run_sorn(_inputs)\n",
        "\n",
        "with open('stdp2013_590k.pkl', 'wb') as f:  \n",
        "    pickle.dump([plastic_matrices,X_all,Y_all,R_all,frac_pos_active_conn], f)"
      ],
      "execution_count": 0,
      "outputs": [
        {
          "output_type": "stream",
          "text": [
            "100%|██████████| 30000/30000 [14:34<00:00, 34.30it/s]\n"
          ],
          "name": "stderr"
        }
      ]
    },
    {
      "metadata": {
        "colab_type": "code",
        "id": "PC-O7D8Y0FGQ",
        "outputId": "aea04186-9c2b-473a-da2f-c22d9e1aa0d9",
        "colab": {
          "base_uri": "https://localhost:8080/",
          "height": 34
        }
      },
      "cell_type": "code",
      "source": [
        " with open('stdp2013_590k.pkl','rb') as f:  \n",
        "    plastic_matrices,X_all,Y_all,R_all,frac_pos_active_conn = pickle.load(f)\n",
        "    \n",
        "plastic_matrices,X_all,Y_all,R_all,frac_pos_active_conn = RunSorn(phase = 'Plasticity',matrices = plastic_matrices,time_steps = 30000).run_sorn(_inputs)\n",
        "\n",
        "with open('stdp2013_620k.pkl', 'wb') as f:  \n",
        "    pickle.dump([plastic_matrices,X_all,Y_all,R_all,frac_pos_active_conn], f)"
      ],
      "execution_count": 0,
      "outputs": [
        {
          "output_type": "stream",
          "text": [
            "100%|██████████| 30000/30000 [14:26<00:00, 31.86it/s]\n"
          ],
          "name": "stderr"
        }
      ]
    },
    {
      "metadata": {
        "colab_type": "code",
        "id": "FmYO9nSf0E8r",
        "outputId": "d37d2c3d-db56-4b13-ccf6-37edcf526c4e",
        "colab": {
          "base_uri": "https://localhost:8080/",
          "height": 34
        }
      },
      "cell_type": "code",
      "source": [
        " with open('stdp2013_620k.pkl','rb') as f:  \n",
        "    plastic_matrices,X_all,Y_all,R_all,frac_pos_active_conn = pickle.load(f)\n",
        "    \n",
        "plastic_matrices,X_all,Y_all,R_all,frac_pos_active_conn = RunSorn(phase = 'Plasticity',matrices = plastic_matrices,time_steps = 30000).run_sorn(_inputs)\n",
        "\n",
        "with open('stdp2013_650k.pkl', 'wb') as f:  \n",
        "    pickle.dump([plastic_matrices,X_all,Y_all,R_all,frac_pos_active_conn], f)"
      ],
      "execution_count": 0,
      "outputs": [
        {
          "output_type": "stream",
          "text": [
            "100%|██████████| 30000/30000 [14:38<00:00, 32.96it/s]\n"
          ],
          "name": "stderr"
        }
      ]
    },
    {
      "metadata": {
        "colab_type": "code",
        "id": "ksbg-wOd0E4u",
        "outputId": "a5bd6051-47a7-445e-a0bb-db0e3504a911",
        "colab": {
          "base_uri": "https://localhost:8080/",
          "height": 34
        }
      },
      "cell_type": "code",
      "source": [
        " with open('stdp2013_650k.pkl','rb') as f:  \n",
        "    plastic_matrices,X_all,Y_all,R_all,frac_pos_active_conn = pickle.load(f)\n",
        "    \n",
        "plastic_matrices,X_all,Y_all,R_all,frac_pos_active_conn = RunSorn(phase = 'Plasticity',matrices = plastic_matrices,time_steps = 30000).run_sorn(_inputs)\n",
        "\n",
        "with open('stdp2013_680k.pkl', 'wb') as f:  \n",
        "    pickle.dump([plastic_matrices,X_all,Y_all,R_all,frac_pos_active_conn], f)\n",
        "    \n",
        "\n"
      ],
      "execution_count": 0,
      "outputs": [
        {
          "output_type": "stream",
          "text": [
            "100%|██████████| 30000/30000 [14:34<00:00, 34.30it/s]\n"
          ],
          "name": "stderr"
        }
      ]
    },
    {
      "metadata": {
        "id": "yVc_5KeW0EgX",
        "colab_type": "text"
      },
      "cell_type": "markdown",
      "source": [
        ""
      ]
    },
    {
      "metadata": {
        "id": "229sKeK6PrRG",
        "colab_type": "code",
        "outputId": "5dbfaabb-0807-4fa2-acf5-52e2ffb2202a",
        "colab": {
          "base_uri": "https://localhost:8080/",
          "height": 105
        }
      },
      "cell_type": "code",
      "source": [
        "with open('stdp2013_680k.pkl','rb') as f:  \n",
        "    plastic_matrices,X_all,Y_all,R_all,frac_pos_active_conn = pickle.load(f)\n",
        "    \n",
        "plastic_matrices,X_all,Y_all,R_all,frac_pos_active_conn = RunSorn(phase = 'Plasticity',matrices = plastic_matrices,time_steps = 30000).run_sorn(_inputs)\n",
        "\n",
        "with open('stdp2013_710k.pkl', 'wb') as f:  \n",
        "    pickle.dump([plastic_matrices,X_all,Y_all,R_all,frac_pos_active_conn], f)\n",
        "    \n",
        "with open('stdp2013_710k.pkl','rb') as f:  \n",
        "    plastic_matrices,X_all,Y_all,R_all,frac_pos_active_conn = pickle.load(f)\n",
        "    \n",
        "plastic_matrices,X_all,Y_all,R_all,frac_pos_active_conn = RunSorn(phase = 'Plasticity',matrices = plastic_matrices,time_steps = 30000).run_sorn(_inputs)\n",
        "\n",
        "with open('stdp2013_740k.pkl', 'wb') as f:  \n",
        "    pickle.dump([plastic_matrices,X_all,Y_all,R_all,frac_pos_active_conn], f)\n",
        "    \n",
        "\n",
        "with open('stdp2013_740k.pkl','rb') as f:  \n",
        "    plastic_matrices,X_all,Y_all,R_all,frac_pos_active_conn = pickle.load(f)\n",
        "    \n",
        "plastic_matrices,X_all,Y_all,R_all,frac_pos_active_conn = RunSorn(phase = 'Plasticity',matrices = plastic_matrices,time_steps = 30000).run_sorn(_inputs)\n",
        "\n",
        "with open('stdp2013_770k.pkl', 'wb') as f:  \n",
        "    pickle.dump([plastic_matrices,X_all,Y_all,R_all,frac_pos_active_conn], f)\n",
        "    \n",
        "with open('stdp2013_770k.pkl','rb') as f:  \n",
        "    plastic_matrices,X_all,Y_all,R_all,frac_pos_active_conn = pickle.load(f)\n",
        "    \n",
        "plastic_matrices,X_all,Y_all,R_all,frac_pos_active_conn = RunSorn(phase = 'Plasticity',matrices = plastic_matrices,time_steps = 30000).run_sorn(_inputs)\n",
        "\n",
        "with open('stdp2013_800k.pkl', 'wb') as f:  \n",
        "    pickle.dump([plastic_matrices,X_all,Y_all,R_all,frac_pos_active_conn], f)\n",
        "    \n",
        "\n",
        "with open('stdp2013_800k.pkl','rb') as f:  \n",
        "    plastic_matrices,X_all,Y_all,R_all,frac_pos_active_conn = pickle.load(f)\n",
        "    \n",
        "plastic_matrices,X_all,Y_all,R_all,frac_pos_active_conn = RunSorn(phase = 'Plasticity',matrices = plastic_matrices,time_steps = 30000).run_sorn(_inputs)\n",
        "\n",
        "with open('stdp2013_830k.pkl', 'wb') as f:  \n",
        "    pickle.dump([plastic_matrices,X_all,Y_all,R_all,frac_pos_active_conn], f)"
      ],
      "execution_count": 0,
      "outputs": [
        {
          "output_type": "stream",
          "text": [
            "100%|██████████| 30000/30000 [14:46<00:00, 33.84it/s]\n",
            "100%|██████████| 30000/30000 [14:57<00:00, 33.42it/s]\n",
            "100%|██████████| 30000/30000 [14:55<00:00, 33.51it/s]\n",
            "100%|██████████| 30000/30000 [14:53<00:00, 33.58it/s]\n",
            "100%|██████████| 30000/30000 [15:17<00:00, 32.69it/s]\n"
          ],
          "name": "stderr"
        }
      ]
    },
    {
      "metadata": {
        "id": "s0sZMBQv19JE",
        "colab_type": "code",
        "outputId": "1b71a700-2714-44d7-a091-08a9096be4ce",
        "colab": {
          "base_uri": "https://localhost:8080/",
          "height": 105
        }
      },
      "cell_type": "code",
      "source": [
        "with open('stdp2013_830k.pkl','rb') as f:  \n",
        "    plastic_matrices,X_all,Y_all,R_all,frac_pos_active_conn = pickle.load(f)\n",
        "    \n",
        "plastic_matrices,X_all,Y_all,R_all,frac_pos_active_conn = RunSorn(phase = 'Plasticity',matrices = plastic_matrices,time_steps = 30000).run_sorn(_inputs)\n",
        "\n",
        "with open('stdp2013_860k.pkl', 'wb') as f:  \n",
        "    pickle.dump([plastic_matrices,X_all,Y_all,R_all,frac_pos_active_conn], f)\n",
        "    \n",
        "with open('stdp2013_860k.pkl','rb') as f:  \n",
        "    plastic_matrices,X_all,Y_all,R_all,frac_pos_active_conn = pickle.load(f)\n",
        "    \n",
        "plastic_matrices,X_all,Y_all,R_all,frac_pos_active_conn = RunSorn(phase = 'Plasticity',matrices = plastic_matrices,time_steps = 30000).run_sorn(_inputs)\n",
        "\n",
        "with open('stdp2013_890k.pkl', 'wb') as f:  \n",
        "    pickle.dump([plastic_matrices,X_all,Y_all,R_all,frac_pos_active_conn], f)\n",
        "    \n",
        "\n",
        "with open('stdp2013_890k.pkl','rb') as f:  \n",
        "    plastic_matrices,X_all,Y_all,R_all,frac_pos_active_conn = pickle.load(f)\n",
        "    \n",
        "plastic_matrices,X_all,Y_all,R_all,frac_pos_active_conn = RunSorn(phase = 'Plasticity',matrices = plastic_matrices,time_steps = 30000).run_sorn(_inputs)\n",
        "\n",
        "with open('stdp2013_920k.pkl', 'wb') as f:  \n",
        "    pickle.dump([plastic_matrices,X_all,Y_all,R_all,frac_pos_active_conn], f)\n",
        "    \n",
        "with open('stdp2013_920k.pkl','rb') as f:  \n",
        "    plastic_matrices,X_all,Y_all,R_all,frac_pos_active_conn = pickle.load(f)\n",
        "    \n",
        "plastic_matrices,X_all,Y_all,R_all,frac_pos_active_conn = RunSorn(phase = 'Plasticity',matrices = plastic_matrices,time_steps = 30000).run_sorn(_inputs)\n",
        "\n",
        "with open('stdp2013_950k.pkl', 'wb') as f:  \n",
        "    pickle.dump([plastic_matrices,X_all,Y_all,R_all,frac_pos_active_conn], f)\n",
        "    \n",
        "\n",
        "with open('stdp2013_950k.pkl','rb') as f:  \n",
        "    plastic_matrices,X_all,Y_all,R_all,frac_pos_active_conn = pickle.load(f)\n",
        "    \n",
        "plastic_matrices,X_all,Y_all,R_all,frac_pos_active_conn = RunSorn(phase = 'Plasticity',matrices = plastic_matrices,time_steps = 30000).run_sorn(_inputs)\n",
        "\n",
        "with open('stdp2013_980k.pkl', 'wb') as f:  \n",
        "    pickle.dump([plastic_matrices,X_all,Y_all,R_all,frac_pos_active_conn], f)"
      ],
      "execution_count": 0,
      "outputs": [
        {
          "output_type": "stream",
          "text": [
            "100%|██████████| 30000/30000 [15:33<00:00, 32.13it/s]\n",
            "100%|██████████| 30000/30000 [15:12<00:00, 32.86it/s]\n",
            "100%|██████████| 30000/30000 [15:13<00:00, 32.83it/s]\n",
            "100%|██████████| 30000/30000 [15:35<00:00, 33.14it/s]\n",
            "100%|██████████| 30000/30000 [15:26<00:00, 32.38it/s]\n"
          ],
          "name": "stderr"
        }
      ]
    },
    {
      "metadata": {
        "id": "crg0c0q2GxsL",
        "colab_type": "code",
        "outputId": "43242dae-4fce-494c-c67b-dbb0762f0343",
        "colab": {
          "base_uri": "https://localhost:8080/",
          "height": 105
        }
      },
      "cell_type": "code",
      "source": [
        "with open('stdp2013_980k.pkl','rb') as f:  \n",
        "    plastic_matrices,X_all,Y_all,R_all,frac_pos_active_conn = pickle.load(f)\n",
        "    \n",
        "plastic_matrices,X_all,Y_all,R_all,frac_pos_active_conn = RunSorn(phase = 'Plasticity',matrices = plastic_matrices,time_steps = 30000).run_sorn(_inputs)\n",
        "\n",
        "with open('stdp2013_1010k.pkl', 'wb') as f:  \n",
        "    pickle.dump([plastic_matrices,X_all,Y_all,R_all,frac_pos_active_conn], f)\n",
        "    \n",
        "with open('stdp2013_1010k.pkl','rb') as f:  \n",
        "    plastic_matrices,X_all,Y_all,R_all,frac_pos_active_conn = pickle.load(f)\n",
        "    \n",
        "plastic_matrices,X_all,Y_all,R_all,frac_pos_active_conn = RunSorn(phase = 'Plasticity',matrices = plastic_matrices,time_steps = 30000).run_sorn(_inputs)\n",
        "\n",
        "with open('stdp2013_1040k.pkl', 'wb') as f:  \n",
        "    pickle.dump([plastic_matrices,X_all,Y_all,R_all,frac_pos_active_conn], f)\n",
        "    \n",
        "\n",
        "with open('stdp2013_1040k.pkl','rb') as f:  \n",
        "    plastic_matrices,X_all,Y_all,R_all,frac_pos_active_conn = pickle.load(f)\n",
        "    \n",
        "plastic_matrices,X_all,Y_all,R_all,frac_pos_active_conn = RunSorn(phase = 'Plasticity',matrices = plastic_matrices,time_steps = 30000).run_sorn(_inputs)\n",
        "\n",
        "with open('stdp2013_1070k.pkl', 'wb') as f:  \n",
        "    pickle.dump([plastic_matrices,X_all,Y_all,R_all,frac_pos_active_conn], f)\n",
        "    \n",
        "with open('stdp2013_1070k.pkl','rb') as f:  \n",
        "    plastic_matrices,X_all,Y_all,R_all,frac_pos_active_conn = pickle.load(f)\n",
        "    \n",
        "plastic_matrices,X_all,Y_all,R_all,frac_pos_active_conn = RunSorn(phase = 'Plasticity',matrices = plastic_matrices,time_steps = 30000).run_sorn(_inputs)\n",
        "\n",
        "with open('stdp2013_1100k.pkl', 'wb') as f:  \n",
        "    pickle.dump([plastic_matrices,X_all,Y_all,R_all,frac_pos_active_conn], f)\n",
        "    \n",
        "\n",
        "with open('stdp2013_1100k.pkl','rb') as f:  \n",
        "    plastic_matrices,X_all,Y_all,R_all,frac_pos_active_conn = pickle.load(f)\n",
        "    \n",
        "plastic_matrices,X_all,Y_all,R_all,frac_pos_active_conn = RunSorn(phase = 'Plasticity',matrices = plastic_matrices,time_steps = 30000).run_sorn(_inputs)\n",
        "\n",
        "with open('stdp2013_1130k.pkl', 'wb') as f:  \n",
        "    pickle.dump([plastic_matrices,X_all,Y_all,R_all,frac_pos_active_conn], f)"
      ],
      "execution_count": 0,
      "outputs": [
        {
          "output_type": "stream",
          "text": [
            "100%|██████████| 30000/30000 [15:49<00:00, 31.61it/s]\n",
            "100%|██████████| 30000/30000 [16:09<00:00, 30.28it/s]\n",
            "100%|██████████| 30000/30000 [15:39<00:00, 30.63it/s]\n",
            "100%|██████████| 30000/30000 [15:54<00:00, 31.41it/s]\n",
            "100%|██████████| 30000/30000 [16:05<00:00, 31.08it/s]\n"
          ],
          "name": "stderr"
        }
      ]
    },
    {
      "metadata": {
        "id": "uVc9EvCncKFf",
        "colab_type": "code",
        "outputId": "367ad0d3-21aa-4763-d310-312f77380227",
        "colab": {
          "base_uri": "https://localhost:8080/",
          "height": 105
        }
      },
      "cell_type": "code",
      "source": [
        "with open('stdp2013_1130k.pkl','rb') as f:  \n",
        "    plastic_matrices,X_all,Y_all,R_all,frac_pos_active_conn = pickle.load(f)\n",
        "    \n",
        "plastic_matrices,X_all,Y_all,R_all,frac_pos_active_conn = RunSorn(phase = 'Plasticity',matrices = plastic_matrices,time_steps = 30000).run_sorn(_inputs)\n",
        "\n",
        "with open('stdp2013_1160k.pkl', 'wb') as f:  \n",
        "    pickle.dump([plastic_matrices,X_all,Y_all,R_all,frac_pos_active_conn], f)\n",
        "    \n",
        "with open('stdp2013_1160k.pkl','rb') as f:  \n",
        "    plastic_matrices,X_all,Y_all,R_all,frac_pos_active_conn = pickle.load(f)\n",
        "    \n",
        "plastic_matrices,X_all,Y_all,R_all,frac_pos_active_conn = RunSorn(phase = 'Plasticity',matrices = plastic_matrices,time_steps = 30000).run_sorn(_inputs)\n",
        "\n",
        "with open('stdp2013_1190k.pkl', 'wb') as f:  \n",
        "    pickle.dump([plastic_matrices,X_all,Y_all,R_all,frac_pos_active_conn], f)\n",
        "    \n",
        "\n",
        "with open('stdp2013_1190k.pkl','rb') as f:  \n",
        "    plastic_matrices,X_all,Y_all,R_all,frac_pos_active_conn = pickle.load(f)\n",
        "    \n",
        "plastic_matrices,X_all,Y_all,R_all,frac_pos_active_conn = RunSorn(phase = 'Plasticity',matrices = plastic_matrices,time_steps = 30000).run_sorn(_inputs)\n",
        "\n",
        "with open('stdp2013_1220k.pkl', 'wb') as f:  \n",
        "    pickle.dump([plastic_matrices,X_all,Y_all,R_all,frac_pos_active_conn], f)\n",
        "    \n",
        "with open('stdp2013_1220k.pkl','rb') as f:  \n",
        "    plastic_matrices,X_all,Y_all,R_all,frac_pos_active_conn = pickle.load(f)\n",
        "    \n",
        "plastic_matrices,X_all,Y_all,R_all,frac_pos_active_conn = RunSorn(phase = 'Plasticity',matrices = plastic_matrices,time_steps = 30000).run_sorn(_inputs)\n",
        "\n",
        "with open('stdp2013_1250k.pkl', 'wb') as f:  \n",
        "    pickle.dump([plastic_matrices,X_all,Y_all,R_all,frac_pos_active_conn], f)\n",
        "    \n",
        "\n",
        "with open('stdp2013_1250k.pkl','rb') as f:  \n",
        "    plastic_matrices,X_all,Y_all,R_all,frac_pos_active_conn = pickle.load(f)\n",
        "    \n",
        "plastic_matrices,X_all,Y_all,R_all,frac_pos_active_conn = RunSorn(phase = 'Plasticity',matrices = plastic_matrices,time_steps = 30000).run_sorn(_inputs)\n",
        "\n",
        "with open('stdp2013_1280k.pkl', 'wb') as f:  \n",
        "    pickle.dump([plastic_matrices,X_all,Y_all,R_all,frac_pos_active_conn], f)"
      ],
      "execution_count": 0,
      "outputs": [
        {
          "output_type": "stream",
          "text": [
            "100%|██████████| 30000/30000 [16:07<00:00, 28.29it/s]\n",
            "100%|██████████| 30000/30000 [16:10<00:00, 30.91it/s]\n",
            "100%|██████████| 30000/30000 [16:00<00:00, 31.22it/s]\n",
            "100%|██████████| 30000/30000 [16:12<00:00, 27.02it/s]\n",
            "100%|██████████| 30000/30000 [16:08<00:00, 29.84it/s]\n"
          ],
          "name": "stderr"
        }
      ]
    },
    {
      "metadata": {
        "id": "BI8H1yVaupzE",
        "colab_type": "code",
        "outputId": "495aa61b-73cc-4acd-81e0-8cc232fcf58d",
        "colab": {
          "base_uri": "https://localhost:8080/",
          "height": 105
        }
      },
      "cell_type": "code",
      "source": [
        "with open('stdp2013_1280k.pkl','rb') as f:  \n",
        "    plastic_matrices,X_all,Y_all,R_all,frac_pos_active_conn = pickle.load(f)\n",
        "    \n",
        "plastic_matrices,X_all,Y_all,R_all,frac_pos_active_conn = RunSorn(phase = 'Plasticity',matrices = plastic_matrices,time_steps = 30000).run_sorn(_inputs)\n",
        "\n",
        "with open('stdp2013_1310k.pkl', 'wb') as f:  \n",
        "    pickle.dump([plastic_matrices,X_all,Y_all,R_all,frac_pos_active_conn], f)\n",
        "    \n",
        "with open('stdp2013_1310k.pkl','rb') as f:  \n",
        "    plastic_matrices,X_all,Y_all,R_all,frac_pos_active_conn = pickle.load(f)\n",
        "    \n",
        "plastic_matrices,X_all,Y_all,R_all,frac_pos_active_conn = RunSorn(phase = 'Plasticity',matrices = plastic_matrices,time_steps = 30000).run_sorn(_inputs)\n",
        "\n",
        "with open('stdp2013_1340k.pkl', 'wb') as f:  \n",
        "    pickle.dump([plastic_matrices,X_all,Y_all,R_all,frac_pos_active_conn], f)\n",
        "    \n",
        "\n",
        "with open('stdp2013_1340k.pkl','rb') as f:  \n",
        "    plastic_matrices,X_all,Y_all,R_all,frac_pos_active_conn = pickle.load(f)\n",
        "    \n",
        "plastic_matrices,X_all,Y_all,R_all,frac_pos_active_conn = RunSorn(phase = 'Plasticity',matrices = plastic_matrices,time_steps = 30000).run_sorn(_inputs)\n",
        "\n",
        "with open('stdp2013_1370k.pkl', 'wb') as f:  \n",
        "    pickle.dump([plastic_matrices,X_all,Y_all,R_all,frac_pos_active_conn], f)\n",
        "    \n",
        "with open('stdp2013_1370k.pkl','rb') as f:  \n",
        "    plastic_matrices,X_all,Y_all,R_all,frac_pos_active_conn = pickle.load(f)\n",
        "    \n",
        "plastic_matrices,X_all,Y_all,R_all,frac_pos_active_conn = RunSorn(phase = 'Plasticity',matrices = plastic_matrices,time_steps = 30000).run_sorn(_inputs)\n",
        "\n",
        "with open('stdp2013_1400k.pkl', 'wb') as f:  \n",
        "    pickle.dump([plastic_matrices,X_all,Y_all,R_all,frac_pos_active_conn], f)\n",
        "    \n",
        "\n",
        "with open('stdp2013_1400k.pkl','rb') as f:  \n",
        "    plastic_matrices,X_all,Y_all,R_all,frac_pos_active_conn = pickle.load(f)\n",
        "    \n",
        "plastic_matrices,X_all,Y_all,R_all,frac_pos_active_conn = RunSorn(phase = 'Plasticity',matrices = plastic_matrices,time_steps = 30000).run_sorn(_inputs)\n",
        "\n",
        "with open('stdp2013_1430k.pkl', 'wb') as f:  \n",
        "    pickle.dump([plastic_matrices,X_all,Y_all,R_all,frac_pos_active_conn], f)"
      ],
      "execution_count": 0,
      "outputs": [
        {
          "output_type": "stream",
          "text": [
            "100%|██████████| 30000/30000 [16:20<00:00, 30.90it/s]\n",
            "100%|██████████| 30000/30000 [16:22<00:00, 30.40it/s]\n",
            "100%|██████████| 30000/30000 [16:25<00:00, 30.43it/s]\n",
            "100%|██████████| 30000/30000 [16:21<00:00, 30.57it/s]\n",
            "100%|██████████| 30000/30000 [16:24<00:00, 30.47it/s]\n"
          ],
          "name": "stderr"
        }
      ]
    },
    {
      "metadata": {
        "id": "nJjas9q2_Zvw",
        "colab_type": "code",
        "outputId": "66c05cff-48a6-454f-f277-16243fb7d83f",
        "colab": {
          "base_uri": "https://localhost:8080/",
          "height": 122
        }
      },
      "cell_type": "code",
      "source": [
        "with open('stdp2013_1430k.pkl','rb') as f:  \n",
        "    plastic_matrices,X_all,Y_all,R_all,frac_pos_active_conn = pickle.load(f)\n",
        "    \n",
        "plastic_matrices,X_all,Y_all,R_all,frac_pos_active_conn = RunSorn(phase = 'Plasticity',matrices = plastic_matrices,time_steps = 30000).run_sorn(_inputs)\n",
        "\n",
        "with open('stdp2013_1460k.pkl', 'wb') as f:  \n",
        "    pickle.dump([plastic_matrices,X_all,Y_all,R_all,frac_pos_active_conn], f)\n",
        "    \n",
        "with open('stdp2013_1460k.pkl','rb') as f:  \n",
        "    plastic_matrices,X_all,Y_all,R_all,frac_pos_active_conn = pickle.load(f)\n",
        "    \n",
        "plastic_matrices,X_all,Y_all,R_all,frac_pos_active_conn = RunSorn(phase = 'Plasticity',matrices = plastic_matrices,time_steps = 30000).run_sorn(_inputs)\n",
        "\n",
        "with open('stdp2013_1490k.pkl', 'wb') as f:  \n",
        "    pickle.dump([plastic_matrices,X_all,Y_all,R_all,frac_pos_active_conn], f)\n",
        "    \n",
        "\n",
        "with open('stdp2013_1490k.pkl','rb') as f:  \n",
        "    plastic_matrices,X_all,Y_all,R_all,frac_pos_active_conn = pickle.load(f)\n",
        "    \n",
        "plastic_matrices,X_all,Y_all,R_all,frac_pos_active_conn = RunSorn(phase = 'Plasticity',matrices = plastic_matrices,time_steps = 30000).run_sorn(_inputs)\n",
        "\n",
        "with open('stdp2013_1520k.pkl', 'wb') as f:  \n",
        "    pickle.dump([plastic_matrices,X_all,Y_all,R_all,frac_pos_active_conn], f)\n",
        "    \n",
        "with open('stdp2013_1520k.pkl','rb') as f:  \n",
        "    plastic_matrices,X_all,Y_all,R_all,frac_pos_active_conn = pickle.load(f)\n",
        "    \n",
        "plastic_matrices,X_all,Y_all,R_all,frac_pos_active_conn = RunSorn(phase = 'Plasticity',matrices = plastic_matrices,time_steps = 30000).run_sorn(_inputs)\n",
        "\n",
        "with open('stdp2013_1550k.pkl', 'wb') as f:  \n",
        "    pickle.dump([plastic_matrices,X_all,Y_all,R_all,frac_pos_active_conn], f)\n",
        "    \n",
        "\n",
        "with open('stdp2013_1550k.pkl','rb') as f:  \n",
        "    plastic_matrices,X_all,Y_all,R_all,frac_pos_active_conn = pickle.load(f)\n",
        "    \n",
        "plastic_matrices,X_all,Y_all,R_all,frac_pos_active_conn = RunSorn(phase = 'Plasticity',matrices = plastic_matrices,time_steps = 30000).run_sorn(_inputs)\n",
        "\n",
        "with open('stdp2013_1580k.pkl', 'wb') as f:  \n",
        "    pickle.dump([plastic_matrices,X_all,Y_all,R_all,frac_pos_active_conn], f)\n",
        "    \n",
        "with open('stdp2013_1580k.pkl','rb') as f:  \n",
        "    plastic_matrices,X_all,Y_all,R_all,frac_pos_active_conn = pickle.load(f)\n",
        "    \n",
        "plastic_matrices,X_all,Y_all,R_all,frac_pos_active_conn = RunSorn(phase = 'Plasticity',matrices = plastic_matrices,time_steps = 30000).run_sorn(_inputs)\n",
        "\n",
        "with open('stdp2013_1610k.pkl', 'wb') as f:  \n",
        "    pickle.dump([plastic_matrices,X_all,Y_all,R_all,frac_pos_active_conn], f)"
      ],
      "execution_count": 0,
      "outputs": [
        {
          "output_type": "stream",
          "text": [
            "100%|██████████| 30000/30000 [16:17<00:00, 30.70it/s]\n",
            "100%|██████████| 30000/30000 [16:20<00:00, 29.57it/s]\n",
            "100%|██████████| 30000/30000 [16:22<00:00, 30.54it/s]\n",
            "100%|██████████| 30000/30000 [16:16<00:00, 30.74it/s]\n",
            "100%|██████████| 30000/30000 [16:25<00:00, 30.44it/s]\n",
            "100%|██████████| 30000/30000 [16:18<00:00, 30.66it/s]\n"
          ],
          "name": "stderr"
        }
      ]
    },
    {
      "metadata": {
        "id": "WnEAt76aWFiD",
        "colab_type": "code",
        "outputId": "e859898c-8276-4fe2-da83-b6867023dcc8",
        "colab": {
          "base_uri": "https://localhost:8080/",
          "height": 105
        }
      },
      "cell_type": "code",
      "source": [
        "with open('stdp2013_1610k.pkl','rb') as f:  \n",
        "    plastic_matrices,X_all,Y_all,R_all,frac_pos_active_conn = pickle.load(f)\n",
        "    \n",
        "plastic_matrices,X_all,Y_all,R_all,frac_pos_active_conn = RunSorn(phase = 'Plasticity',matrices = plastic_matrices,time_steps = 30000).run_sorn(_inputs)\n",
        "\n",
        "with open('stdp2013_1640k.pkl', 'wb') as f:  \n",
        "    pickle.dump([plastic_matrices,X_all,Y_all,R_all,frac_pos_active_conn], f)\n",
        "    \n",
        "with open('stdp2013_1640k.pkl','rb') as f:  \n",
        "    plastic_matrices,X_all,Y_all,R_all,frac_pos_active_conn = pickle.load(f)\n",
        "    \n",
        "plastic_matrices,X_all,Y_all,R_all,frac_pos_active_conn = RunSorn(phase = 'Plasticity',matrices = plastic_matrices,time_steps = 30000).run_sorn(_inputs)\n",
        "\n",
        "with open('stdp2013_1670k.pkl', 'wb') as f:  \n",
        "    pickle.dump([plastic_matrices,X_all,Y_all,R_all,frac_pos_active_conn], f)\n",
        "    \n",
        "\n",
        "with open('stdp2013_1670k.pkl','rb') as f:  \n",
        "    plastic_matrices,X_all,Y_all,R_all,frac_pos_active_conn = pickle.load(f)\n",
        "    \n",
        "plastic_matrices,X_all,Y_all,R_all,frac_pos_active_conn = RunSorn(phase = 'Plasticity',matrices = plastic_matrices,time_steps = 30000).run_sorn(_inputs)\n",
        "\n",
        "with open('stdp2013_1700k.pkl', 'wb') as f:  \n",
        "    pickle.dump([plastic_matrices,X_all,Y_all,R_all,frac_pos_active_conn], f)\n",
        "    \n",
        "with open('stdp2013_1700k.pkl','rb') as f:  \n",
        "    plastic_matrices,X_all,Y_all,R_all,frac_pos_active_conn = pickle.load(f)\n",
        "    \n",
        "plastic_matrices,X_all,Y_all,R_all,frac_pos_active_conn = RunSorn(phase = 'Plasticity',matrices = plastic_matrices,time_steps = 30000).run_sorn(_inputs)\n",
        "\n",
        "with open('stdp2013_1730k.pkl', 'wb') as f:  \n",
        "    pickle.dump([plastic_matrices,X_all,Y_all,R_all,frac_pos_active_conn], f)\n",
        "    \n",
        "\n",
        "with open('stdp2013_1730k.pkl','rb') as f:  \n",
        "    plastic_matrices,X_all,Y_all,R_all,frac_pos_active_conn = pickle.load(f)\n",
        "    \n",
        "plastic_matrices,X_all,Y_all,R_all,frac_pos_active_conn = RunSorn(phase = 'Plasticity',matrices = plastic_matrices,time_steps = 30000).run_sorn(_inputs)\n",
        "\n",
        "with open('stdp2013_1760k.pkl', 'wb') as f:  \n",
        "    pickle.dump([plastic_matrices,X_all,Y_all,R_all,frac_pos_active_conn], f)\n",
        "    \n",
        "with open('stdp2013_1760k.pkl','rb') as f:  \n",
        "    plastic_matrices,X_all,Y_all,R_all,frac_pos_active_conn = pickle.load(f)\n",
        "    \n",
        "plastic_matrices,X_all,Y_all,R_all,frac_pos_active_conn = RunSorn(phase = 'Plasticity',matrices = plastic_matrices,time_steps = 30000).run_sorn(_inputs)\n",
        "\n",
        "with open('stdp2013_1790k.pkl', 'wb') as f:  \n",
        "    pickle.dump([plastic_matrices,X_all,Y_all,R_all,frac_pos_active_conn], f)"
      ],
      "execution_count": 0,
      "outputs": [
        {
          "output_type": "stream",
          "text": [
            "100%|██████████| 30000/30000 [16:14<00:00, 30.78it/s]\n",
            "100%|██████████| 30000/30000 [16:21<00:00, 30.46it/s]\n",
            "100%|██████████| 30000/30000 [16:24<00:00, 31.31it/s]\n",
            "100%|██████████| 30000/30000 [16:18<00:00, 30.66it/s]\n",
            " 96%|█████████▋| 28899/30000 [15:55<00:45, 24.05it/s]"
          ],
          "name": "stderr"
        }
      ]
    },
    {
      "metadata": {
        "id": "cngNT_KSwFnA",
        "colab_type": "code",
        "outputId": "a9181d07-36a6-4f57-d02b-89343eb9f4e2",
        "colab": {
          "resources": {
            "http://localhost:8080/nbextensions/google.colab/files.js": {
              "data": "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",
              "ok": true,
              "headers": [
                [
                  "content-type",
                  "application/javascript"
                ]
              ],
              "status": 200,
              "status_text": ""
            }
          },
          "base_uri": "https://localhost:8080/",
          "height": 74
        }
      },
      "cell_type": "code",
      "source": [
        "from google.colab import files\n",
        "files.upload()"
      ],
      "execution_count": 0,
      "outputs": [
        {
          "output_type": "display_data",
          "data": {
            "text/html": [
              "\n",
              "     <input type=\"file\" id=\"files-dc339dcc-642e-4a28-bd69-8dc0f97602d0\" name=\"files[]\" multiple disabled />\n",
              "     <output id=\"result-dc339dcc-642e-4a28-bd69-8dc0f97602d0\">\n",
              "      Upload widget is only available when the cell has been executed in the\n",
              "      current browser session. Please rerun this cell to enable.\n",
              "      </output>\n",
              "      <script src=\"/nbextensions/google.colab/files.js\"></script> "
            ],
            "text/plain": [
              "<IPython.core.display.HTML object>"
            ]
          },
          "metadata": {
            "tags": []
          }
        },
        {
          "output_type": "stream",
          "text": [
            "Saving stdp2013_1730k.pkl to stdp2013_1730k.pkl\n"
          ],
          "name": "stdout"
        }
      ]
    },
    {
      "metadata": {
        "id": "gDPX_JADo9wE",
        "colab_type": "code",
        "outputId": "396c2112-58bd-4ca2-8d99-3cd1016e5354",
        "colab": {
          "base_uri": "https://localhost:8080/",
          "height": 175
        }
      },
      "cell_type": "code",
      "source": [
        "with open('stdp2013_1730k.pkl','rb') as f:  \n",
        "    plastic_matrices,X_all,Y_all,R_all,frac_pos_active_conn = pickle.load(f)\n",
        "    \n",
        "plastic_matrices,X_all,Y_all,R_all,frac_pos_active_conn = RunSorn(phase = 'Plasticity',matrices = plastic_matrices,time_steps = 30000).run_sorn(_inputs)\n",
        "\n",
        "with open('stdp2013_1760k.pkl', 'wb') as f:  \n",
        "    pickle.dump([plastic_matrices,X_all,Y_all,R_all,frac_pos_active_conn], f)\n",
        "    \n",
        "with open('stdp2013_1760k.pkl','rb') as f:  \n",
        "    plastic_matrices,X_all,Y_all,R_all,frac_pos_active_conn = pickle.load(f)\n",
        "    \n",
        "plastic_matrices,X_all,Y_all,R_all,frac_pos_active_conn = RunSorn(phase = 'Plasticity',matrices = plastic_matrices,time_steps = 30000).run_sorn(_inputs)\n",
        "\n",
        "with open('stdp2013_1790k.pkl', 'wb') as f:  \n",
        "    pickle.dump([plastic_matrices,X_all,Y_all,R_all,frac_pos_active_conn], f)\n",
        "\n",
        "with open('stdp2013_1790k.pkl','rb') as f:  \n",
        "    plastic_matrices,X_all,Y_all,R_all,frac_pos_active_conn = pickle.load(f)\n",
        "    \n",
        "plastic_matrices,X_all,Y_all,R_all,frac_pos_active_conn = RunSorn(phase = 'Plasticity',matrices = plastic_matrices,time_steps = 30000).run_sorn(_inputs)\n",
        "\n",
        "with open('stdp2013_1820k.pkl', 'wb') as f:  \n",
        "    pickle.dump([plastic_matrices,X_all,Y_all,R_all,frac_pos_active_conn], f)\n",
        "    \n",
        "with open('stdp2013_1820k.pkl','rb') as f:  \n",
        "    plastic_matrices,X_all,Y_all,R_all,frac_pos_active_conn = pickle.load(f)\n",
        "    \n",
        "plastic_matrices,X_all,Y_all,R_all,frac_pos_active_conn = RunSorn(phase = 'Plasticity',matrices = plastic_matrices,time_steps = 30000).run_sorn(_inputs)\n",
        "\n",
        "with open('stdp2013_1850k.pkl', 'wb') as f:  \n",
        "    pickle.dump([plastic_matrices,X_all,Y_all,R_all,frac_pos_active_conn], f)\n",
        "    \n",
        "with open('stdp2013_1850k.pkl','rb') as f:  \n",
        "    plastic_matrices,X_all,Y_all,R_all,frac_pos_active_conn = pickle.load(f)\n",
        "    \n",
        "plastic_matrices,X_all,Y_all,R_all,frac_pos_active_conn = RunSorn(phase = 'Plasticity',matrices = plastic_matrices,time_steps = 30000).run_sorn(_inputs)\n",
        "\n",
        "with open('stdp2013_1880k.pkl', 'wb') as f:  \n",
        "    pickle.dump([plastic_matrices,X_all,Y_all,R_all,frac_pos_active_conn], f)\n",
        "    \n",
        "\n",
        "with open('stdp2013_1880k.pkl','rb') as f:  \n",
        "    plastic_matrices,X_all,Y_all,R_all,frac_pos_active_conn = pickle.load(f)\n",
        "    \n",
        "plastic_matrices,X_all,Y_all,R_all,frac_pos_active_conn = RunSorn(phase = 'Plasticity',matrices = plastic_matrices,time_steps = 30000).run_sorn(_inputs)\n",
        "\n",
        "with open('stdp2013_1910k.pkl', 'wb') as f:  \n",
        "    pickle.dump([plastic_matrices,X_all,Y_all,R_all,frac_pos_active_conn], f)\n",
        "    \n",
        "with open('stdp2013_1910k.pkl','rb') as f:  \n",
        "    plastic_matrices,X_all,Y_all,R_all,frac_pos_active_conn = pickle.load(f)\n",
        "    \n",
        "plastic_matrices,X_all,Y_all,R_all,frac_pos_active_conn = RunSorn(phase = 'Plasticity',matrices = plastic_matrices,time_steps = 30000).run_sorn(_inputs)\n",
        "\n",
        "with open('stdp2013_1940k.pkl', 'wb') as f:  \n",
        "    pickle.dump([plastic_matrices,X_all,Y_all,R_all,frac_pos_active_conn], f)\n",
        "    \n",
        "\n",
        "with open('stdp2013_1940k.pkl','rb') as f:  \n",
        "    plastic_matrices,X_all,Y_all,R_all,frac_pos_active_conn = pickle.load(f)\n",
        "    \n",
        "plastic_matrices,X_all,Y_all,R_all,frac_pos_active_conn = RunSorn(phase = 'Plasticity',matrices = plastic_matrices,time_steps = 30000).run_sorn(_inputs)\n",
        "\n",
        "with open('stdp2013_1970k.pkl', 'wb') as f:  \n",
        "    pickle.dump([plastic_matrices,X_all,Y_all,R_all,frac_pos_active_conn], f)\n",
        "    \n",
        "with open('stdp2013_1970k.pkl','rb') as f:  \n",
        "    plastic_matrices,X_all,Y_all,R_all,frac_pos_active_conn = pickle.load(f)\n",
        "    \n",
        "plastic_matrices,X_all,Y_all,R_all,frac_pos_active_conn = RunSorn(phase = 'Plasticity',matrices = plastic_matrices,time_steps = 30000).run_sorn(_inputs)\n",
        "\n",
        "with open('stdp2013_2000k.pkl', 'wb') as f:  \n",
        "    pickle.dump([plastic_matrices,X_all,Y_all,R_all,frac_pos_active_conn], f)"
      ],
      "execution_count": 0,
      "outputs": [
        {
          "output_type": "stream",
          "text": [
            "100%|██████████| 30000/30000 [16:01<00:00, 31.21it/s]\n",
            "100%|██████████| 30000/30000 [15:54<00:00, 31.44it/s]\n",
            "100%|██████████| 30000/30000 [15:54<00:00, 31.44it/s]\n",
            "100%|██████████| 30000/30000 [15:54<00:00, 31.42it/s]\n",
            "100%|██████████| 30000/30000 [15:50<00:00, 31.56it/s]\n",
            "100%|██████████| 30000/30000 [15:53<00:00, 28.81it/s]\n",
            "100%|██████████| 30000/30000 [16:03<00:00, 31.39it/s]\n",
            "100%|██████████| 30000/30000 [16:00<00:00, 31.25it/s]\n",
            "100%|██████████| 30000/30000 [15:29<00:00, 32.26it/s]\n"
          ],
          "name": "stderr"
        }
      ]
    },
    {
      "metadata": {
        "id": "6ZQxPRpJwb6x",
        "colab_type": "code",
        "outputId": "0c99c9e4-9677-4216-cd76-21b2e78f1284",
        "colab": {
          "base_uri": "https://localhost:8080/",
          "height": 122
        }
      },
      "cell_type": "code",
      "source": [
        "with open('stdp2013_2120k.pkl','rb') as f:  \n",
        "    plastic_matrices,X_all,Y_all,R_all,frac_pos_active_conn = pickle.load(f)\n",
        "    \n",
        "plastic_matrices,X_all,Y_all,R_all,frac_pos_active_conn = RunSorn(phase = 'Plasticity',matrices = plastic_matrices,time_steps = 30000).run_sorn(_inputs)\n",
        "\n",
        "with open('stdp2013_2150k.pkl', 'wb') as f:  \n",
        "    pickle.dump([plastic_matrices,X_all,Y_all,R_all,frac_pos_active_conn], f)\n",
        "    \n",
        "\n",
        "with open('stdp2013_2150k.pkl','rb') as f:  \n",
        "    plastic_matrices,X_all,Y_all,R_all,frac_pos_active_conn = pickle.load(f)\n",
        "    \n",
        "plastic_matrices,X_all,Y_all,R_all,frac_pos_active_conn = RunSorn(phase = 'Plasticity',matrices = plastic_matrices,time_steps = 30000).run_sorn(_inputs)\n",
        "\n",
        "with open('stdp2013_2180k.pkl', 'wb') as f:  \n",
        "    pickle.dump([plastic_matrices,X_all,Y_all,R_all,frac_pos_active_conn], f)\n",
        "    \n",
        "with open('stdp2013_2180k.pkl','rb') as f:  \n",
        "    plastic_matrices,X_all,Y_all,R_all,frac_pos_active_conn = pickle.load(f)\n",
        "    \n",
        "plastic_matrices,X_all,Y_all,R_all,frac_pos_active_conn = RunSorn(phase = 'Plasticity',matrices = plastic_matrices,time_steps = 30000).run_sorn(_inputs)\n",
        "\n",
        "with open('stdp2013_2210k.pkl', 'wb') as f:  \n",
        "    pickle.dump([plastic_matrices,X_all,Y_all,R_all,frac_pos_active_conn], f)\n",
        "    \n",
        "\n",
        "with open('stdp2013_2210k.pkl','rb') as f:  \n",
        "    plastic_matrices,X_all,Y_all,R_all,frac_pos_active_conn = pickle.load(f)\n",
        "    \n",
        "plastic_matrices,X_all,Y_all,R_all,frac_pos_active_conn = RunSorn(phase = 'Plasticity',matrices = plastic_matrices,time_steps = 30000).run_sorn(_inputs)\n",
        "\n",
        "with open('stdp2013_2240k.pkl', 'wb') as f:  \n",
        "    pickle.dump([plastic_matrices,X_all,Y_all,R_all,frac_pos_active_conn], f)\n",
        "    \n",
        "with open('stdp2013_2240k.pkl','rb') as f:  \n",
        "    plastic_matrices,X_all,Y_all,R_all,frac_pos_active_conn = pickle.load(f)\n",
        "    \n",
        "plastic_matrices,X_all,Y_all,R_all,frac_pos_active_conn = RunSorn(phase = 'Plasticity',matrices = plastic_matrices,time_steps = 30000).run_sorn(_inputs)\n",
        "\n",
        "with open('stdp2013_2270k.pkl', 'wb') as f:  \n",
        "    pickle.dump([plastic_matrices,X_all,Y_all,R_all,frac_pos_active_conn], f)\n",
        "    \n",
        "       \n",
        "with open('stdp2013_2270k.pkl','rb') as f:  \n",
        "    plastic_matrices,X_all,Y_all,R_all,frac_pos_active_conn = pickle.load(f)\n",
        "    \n",
        "plastic_matrices,X_all,Y_all,R_all,frac_pos_active_conn = RunSorn(phase = 'Plasticity',matrices = plastic_matrices,time_steps = 30000).run_sorn(_inputs)\n",
        "\n",
        "with open('stdp2013_2300k.pkl', 'wb') as f:  \n",
        "    pickle.dump([plastic_matrices,X_all,Y_all,R_all,frac_pos_active_conn], f)"
      ],
      "execution_count": 0,
      "outputs": [
        {
          "output_type": "stream",
          "text": [
            "100%|██████████| 30000/30000 [15:25<00:00, 32.40it/s]\n",
            "100%|██████████| 30000/30000 [15:40<00:00, 31.88it/s]\n",
            "100%|██████████| 30000/30000 [15:46<00:00, 31.68it/s]\n",
            "100%|██████████| 30000/30000 [15:55<00:00, 31.41it/s]\n",
            "100%|██████████| 30000/30000 [15:59<00:00, 31.27it/s]\n",
            "100%|██████████| 30000/30000 [16:10<00:00, 30.91it/s]\n"
          ],
          "name": "stderr"
        }
      ]
    },
    {
      "metadata": {
        "id": "LuA3ICS3Gb5h",
        "colab_type": "code",
        "outputId": "58e37d71-3f52-4546-8e88-7e9f9bf027fc",
        "colab": {
          "base_uri": "https://localhost:8080/",
          "height": 193
        }
      },
      "cell_type": "code",
      "source": [
        "with open('stdp2013_2300k.pkl','rb') as f:  \n",
        "    plastic_matrices,X_all,Y_all,R_all,frac_pos_active_conn = pickle.load(f)\n",
        "    \n",
        "plastic_matrices,X_all,Y_all,R_all,frac_pos_active_conn = RunSorn(phase = 'Plasticity',matrices = plastic_matrices,time_steps = 30000).run_sorn(_inputs)\n",
        "\n",
        "with open('stdp2013_2330k.pkl', 'wb') as f:  \n",
        "    pickle.dump([plastic_matrices,X_all,Y_all,R_all,frac_pos_active_conn], f)\n",
        "    \n",
        "with open('stdp2013_2330k.pkl','rb') as f:  \n",
        "    plastic_matrices,X_all,Y_all,R_all,frac_pos_active_conn = pickle.load(f)\n",
        "    \n",
        "plastic_matrices,X_all,Y_all,R_all,frac_pos_active_conn = RunSorn(phase = 'Plasticity',matrices = plastic_matrices,time_steps = 30000).run_sorn(_inputs)\n",
        "\n",
        "with open('stdp2013_2360k.pkl', 'wb') as f:  \n",
        "    pickle.dump([plastic_matrices,X_all,Y_all,R_all,frac_pos_active_conn], f)\n",
        "\n",
        "with open('stdp2013_2360k.pkl','rb') as f:  \n",
        "    plastic_matrices,X_all,Y_all,R_all,frac_pos_active_conn = pickle.load(f)\n",
        "    \n",
        "plastic_matrices,X_all,Y_all,R_all,frac_pos_active_conn = RunSorn(phase = 'Plasticity',matrices = plastic_matrices,time_steps = 30000).run_sorn(_inputs)\n",
        "\n",
        "with open('stdp2013_2390k.pkl', 'wb') as f:  \n",
        "    pickle.dump([plastic_matrices,X_all,Y_all,R_all,frac_pos_active_conn], f)\n",
        "    \n",
        "with open('stdp2013_2390k.pkl','rb') as f:  \n",
        "    plastic_matrices,X_all,Y_all,R_all,frac_pos_active_conn = pickle.load(f)\n",
        "    \n",
        "plastic_matrices,X_all,Y_all,R_all,frac_pos_active_conn = RunSorn(phase = 'Plasticity',matrices = plastic_matrices,time_steps = 30000).run_sorn(_inputs)\n",
        "\n",
        "with open('stdp2013_2420k.pkl', 'wb') as f:  \n",
        "    pickle.dump([plastic_matrices,X_all,Y_all,R_all,frac_pos_active_conn], f)\n",
        "    \n",
        "with open('stdp2013_2420k.pkl','rb') as f:  \n",
        "    plastic_matrices,X_all,Y_all,R_all,frac_pos_active_conn = pickle.load(f)\n",
        "    \n",
        "plastic_matrices,X_all,Y_all,R_all,frac_pos_active_conn = RunSorn(phase = 'Plasticity',matrices = plastic_matrices,time_steps = 30000).run_sorn(_inputs)\n",
        "\n",
        "with open('stdp2013_2450k.pkl', 'wb') as f:  \n",
        "    pickle.dump([plastic_matrices,X_all,Y_all,R_all,frac_pos_active_conn], f)\n",
        "    \n",
        "\n",
        "with open('stdp2013_2450k.pkl','rb') as f:  \n",
        "    plastic_matrices,X_all,Y_all,R_all,frac_pos_active_conn = pickle.load(f)\n",
        "    \n",
        "plastic_matrices,X_all,Y_all,R_all,frac_pos_active_conn = RunSorn(phase = 'Plasticity',matrices = plastic_matrices,time_steps = 30000).run_sorn(_inputs)\n",
        "\n",
        "with open('stdp2013_2480k.pkl', 'wb') as f:  \n",
        "    pickle.dump([plastic_matrices,X_all,Y_all,R_all,frac_pos_active_conn], f)\n",
        "    \n",
        "with open('stdp2013_2480k.pkl','rb') as f:  \n",
        "    plastic_matrices,X_all,Y_all,R_all,frac_pos_active_conn = pickle.load(f)\n",
        "    \n",
        "plastic_matrices,X_all,Y_all,R_all,frac_pos_active_conn = RunSorn(phase = 'Plasticity',matrices = plastic_matrices,time_steps = 30000).run_sorn(_inputs)\n",
        "\n",
        "with open('stdp2013_2510k.pkl', 'wb') as f:  \n",
        "    pickle.dump([plastic_matrices,X_all,Y_all,R_all,frac_pos_active_conn], f)\n",
        "    \n",
        "\n",
        "with open('stdp2013_2510k.pkl','rb') as f:  \n",
        "    plastic_matrices,X_all,Y_all,R_all,frac_pos_active_conn = pickle.load(f)\n",
        "    \n",
        "plastic_matrices,X_all,Y_all,R_all,frac_pos_active_conn = RunSorn(phase = 'Plasticity',matrices = plastic_matrices,time_steps = 30000).run_sorn(_inputs)\n",
        "\n",
        "with open('stdp2013_2540k.pkl', 'wb') as f:  \n",
        "    pickle.dump([plastic_matrices,X_all,Y_all,R_all,frac_pos_active_conn], f)\n",
        "    \n",
        "with open('stdp2013_2540k.pkl','rb') as f:  \n",
        "    plastic_matrices,X_all,Y_all,R_all,frac_pos_active_conn = pickle.load(f)\n",
        "    \n",
        "plastic_matrices,X_all,Y_all,R_all,frac_pos_active_conn = RunSorn(phase = 'Plasticity',matrices = plastic_matrices,time_steps = 30000).run_sorn(_inputs)\n",
        "\n",
        "with open('stdp2013_2570k.pkl', 'wb') as f:  \n",
        "    pickle.dump([plastic_matrices,X_all,Y_all,R_all,frac_pos_active_conn], f)\n",
        "    \n",
        "       \n",
        "with open('stdp2013_2570k.pkl','rb') as f:  \n",
        "    plastic_matrices,X_all,Y_all,R_all,frac_pos_active_conn = pickle.load(f)\n",
        "    \n",
        "plastic_matrices,X_all,Y_all,R_all,frac_pos_active_conn = RunSorn(phase = 'Plasticity',matrices = plastic_matrices,time_steps = 30000).run_sorn(_inputs)\n",
        "\n",
        "with open('stdp2013_2600k.pkl', 'wb') as f:  \n",
        "    pickle.dump([plastic_matrices,X_all,Y_all,R_all,frac_pos_active_conn], f)"
      ],
      "execution_count": 0,
      "outputs": [
        {
          "output_type": "stream",
          "text": [
            "100%|██████████| 30000/30000 [16:26<00:00, 30.41it/s]\n",
            "100%|██████████| 30000/30000 [16:29<00:00, 30.32it/s]\n",
            "100%|██████████| 30000/30000 [16:32<00:00, 29.48it/s]\n",
            "100%|██████████| 30000/30000 [16:43<00:00, 29.89it/s]\n",
            "100%|██████████| 30000/30000 [16:51<00:00, 29.67it/s]\n",
            "100%|██████████| 30000/30000 [16:57<00:00, 29.49it/s]\n",
            "100%|██████████| 30000/30000 [16:28<00:00, 32.79it/s]\n",
            "100%|██████████| 30000/30000 [16:10<00:00, 27.12it/s]\n",
            "100%|██████████| 30000/30000 [16:01<00:00, 31.19it/s]\n",
            " 53%|█████▎    | 16033/30000 [08:42<07:24, 31.43it/s]"
          ],
          "name": "stderr"
        },
        {
          "output_type": "stream",
          "text": [
            "Buffered data was truncated after reaching the output size limit."
          ],
          "name": "stdout"
        }
      ]
    },
    {
      "metadata": {
        "id": "T34tbWs4NfLV",
        "colab_type": "code",
        "outputId": "6900b52d-2d55-4bc9-d1b7-46391d460c08",
        "colab": {
          "base_uri": "https://localhost:8080/",
          "height": 193
        }
      },
      "cell_type": "code",
      "source": [
        "with open('stdp2013_2600k.pkl','rb') as f:  \n",
        "    plastic_matrices,X_all,Y_all,R_all,frac_pos_active_conn = pickle.load(f)\n",
        "    \n",
        "plastic_matrices,X_all,Y_all,R_all,frac_pos_active_conn = RunSorn(phase = 'Plasticity',matrices = plastic_matrices,time_steps = 30000).run_sorn(_inputs)\n",
        "\n",
        "with open('stdp2013_2630k.pkl', 'wb') as f:  \n",
        "    pickle.dump([plastic_matrices,X_all,Y_all,R_all,frac_pos_active_conn], f)\n",
        "    \n",
        "with open('stdp2013_2630k.pkl','rb') as f:  \n",
        "    plastic_matrices,X_all,Y_all,R_all,frac_pos_active_conn = pickle.load(f)\n",
        "    \n",
        "plastic_matrices,X_all,Y_all,R_all,frac_pos_active_conn = RunSorn(phase = 'Plasticity',matrices = plastic_matrices,time_steps = 30000).run_sorn(_inputs)\n",
        "\n",
        "with open('stdp2013_2660k.pkl', 'wb') as f:  \n",
        "    pickle.dump([plastic_matrices,X_all,Y_all,R_all,frac_pos_active_conn], f)\n",
        "\n",
        "with open('stdp2013_2660k.pkl','rb') as f:  \n",
        "    plastic_matrices,X_all,Y_all,R_all,frac_pos_active_conn = pickle.load(f)\n",
        "    \n",
        "plastic_matrices,X_all,Y_all,R_all,frac_pos_active_conn = RunSorn(phase = 'Plasticity',matrices = plastic_matrices,time_steps = 30000).run_sorn(_inputs)\n",
        "\n",
        "with open('stdp2013_2690k.pkl', 'wb') as f:  \n",
        "    pickle.dump([plastic_matrices,X_all,Y_all,R_all,frac_pos_active_conn], f)\n",
        "    \n",
        "with open('stdp2013_2690k.pkl','rb') as f:  \n",
        "    plastic_matrices,X_all,Y_all,R_all,frac_pos_active_conn = pickle.load(f)\n",
        "    \n",
        "plastic_matrices,X_all,Y_all,R_all,frac_pos_active_conn = RunSorn(phase = 'Plasticity',matrices = plastic_matrices,time_steps = 30000).run_sorn(_inputs)\n",
        "\n",
        "with open('stdp2013_2720k.pkl', 'wb') as f:  \n",
        "    pickle.dump([plastic_matrices,X_all,Y_all,R_all,frac_pos_active_conn], f)\n",
        "    \n",
        "with open('stdp2013_2720k.pkl','rb') as f:  \n",
        "    plastic_matrices,X_all,Y_all,R_all,frac_pos_active_conn = pickle.load(f)\n",
        "    \n",
        "plastic_matrices,X_all,Y_all,R_all,frac_pos_active_conn = RunSorn(phase = 'Plasticity',matrices = plastic_matrices,time_steps = 30000).run_sorn(_inputs)\n",
        "\n",
        "with open('stdp2013_2750k.pkl', 'wb') as f:  \n",
        "    pickle.dump([plastic_matrices,X_all,Y_all,R_all,frac_pos_active_conn], f)\n",
        "    \n",
        "\n",
        "with open('stdp2013_2750k.pkl','rb') as f:  \n",
        "    plastic_matrices,X_all,Y_all,R_all,frac_pos_active_conn = pickle.load(f)\n",
        "    \n",
        "plastic_matrices,X_all,Y_all,R_all,frac_pos_active_conn = RunSorn(phase = 'Plasticity',matrices = plastic_matrices,time_steps = 30000).run_sorn(_inputs)\n",
        "\n",
        "with open('stdp2013_2780k.pkl', 'wb') as f:  \n",
        "    pickle.dump([plastic_matrices,X_all,Y_all,R_all,frac_pos_active_conn], f)\n",
        "    \n",
        "with open('stdp2013_2780k.pkl','rb') as f:  \n",
        "    plastic_matrices,X_all,Y_all,R_all,frac_pos_active_conn = pickle.load(f)\n",
        "    \n",
        "plastic_matrices,X_all,Y_all,R_all,frac_pos_active_conn = RunSorn(phase = 'Plasticity',matrices = plastic_matrices,time_steps = 30000).run_sorn(_inputs)\n",
        "\n",
        "with open('stdp2013_2810k.pkl', 'wb') as f:  \n",
        "    pickle.dump([plastic_matrices,X_all,Y_all,R_all,frac_pos_active_conn], f)\n",
        "    \n",
        "\n",
        "with open('stdp2013_2810k.pkl','rb') as f:  \n",
        "    plastic_matrices,X_all,Y_all,R_all,frac_pos_active_conn = pickle.load(f)\n",
        "    \n",
        "plastic_matrices,X_all,Y_all,R_all,frac_pos_active_conn = RunSorn(phase = 'Plasticity',matrices = plastic_matrices,time_steps = 30000).run_sorn(_inputs)\n",
        "\n",
        "with open('stdp2013_2840k.pkl', 'wb') as f:  \n",
        "    pickle.dump([plastic_matrices,X_all,Y_all,R_all,frac_pos_active_conn], f)\n",
        "    \n",
        "with open('stdp2013_2840k.pkl','rb') as f:  \n",
        "    plastic_matrices,X_all,Y_all,R_all,frac_pos_active_conn = pickle.load(f)\n",
        "    \n",
        "plastic_matrices,X_all,Y_all,R_all,frac_pos_active_conn = RunSorn(phase = 'Plasticity',matrices = plastic_matrices,time_steps = 30000).run_sorn(_inputs)\n",
        "\n",
        "with open('stdp2013_2870k.pkl', 'wb') as f:  \n",
        "    pickle.dump([plastic_matrices,X_all,Y_all,R_all,frac_pos_active_conn], f)\n",
        "    \n",
        "       \n",
        "with open('stdp2013_2870k.pkl','rb') as f:  \n",
        "    plastic_matrices,X_all,Y_all,R_all,frac_pos_active_conn = pickle.load(f)\n",
        "    \n",
        "plastic_matrices,X_all,Y_all,R_all,frac_pos_active_conn = RunSorn(phase = 'Plasticity',matrices = plastic_matrices,time_steps = 30000).run_sorn(_inputs)\n",
        "\n",
        "with open('stdp2013_2900k.pkl', 'wb') as f:  \n",
        "    pickle.dump([plastic_matrices,X_all,Y_all,R_all,frac_pos_active_conn], f)"
      ],
      "execution_count": 0,
      "outputs": [
        {
          "output_type": "stream",
          "text": [
            "100%|██████████| 30000/30000 [16:03<00:00, 31.13it/s]\n",
            "100%|██████████| 30000/30000 [16:23<00:00, 30.49it/s]\n",
            "100%|██████████| 30000/30000 [16:29<00:00, 30.32it/s]\n",
            "100%|██████████| 30000/30000 [16:46<00:00, 29.82it/s]\n",
            "100%|██████████| 30000/30000 [16:51<00:00, 30.73it/s]\n",
            "100%|██████████| 30000/30000 [17:06<00:00, 29.22it/s]\n",
            "100%|██████████| 30000/30000 [17:12<00:00, 29.06it/s]\n",
            "100%|██████████| 30000/30000 [17:22<00:00, 28.78it/s]\n",
            "100%|██████████| 30000/30000 [17:32<00:00, 28.51it/s]\n",
            "100%|██████████| 30000/30000 [17:37<00:00, 28.38it/s]\n"
          ],
          "name": "stderr"
        }
      ]
    },
    {
      "metadata": {
        "id": "NoRIp0fn4CEs",
        "colab_type": "code",
        "outputId": "7a1cf170-59db-4dc5-b019-6fd4312a593f",
        "colab": {
          "base_uri": "https://localhost:8080/",
          "height": 87
        }
      },
      "cell_type": "code",
      "source": [
        "with open('stdp2013_2900k.pkl','rb') as f:  \n",
        "    plastic_matrices,X_all,Y_all,R_all,frac_pos_active_conn = pickle.load(f)\n",
        "    \n",
        "plastic_matrices,X_all,Y_all,R_all,frac_pos_active_conn = RunSorn(phase = 'Plasticity',matrices = plastic_matrices,time_steps = 30000).run_sorn(_inputs)\n",
        "\n",
        "with open('stdp2013_2930k.pkl', 'wb') as f:  \n",
        "    pickle.dump([plastic_matrices,X_all,Y_all,R_all,frac_pos_active_conn], f)\n",
        "    \n",
        "with open('stdp2013_2930k.pkl','rb') as f:  \n",
        "    plastic_matrices,X_all,Y_all,R_all,frac_pos_active_conn = pickle.load(f)\n",
        "    \n",
        "plastic_matrices,X_all,Y_all,R_all,frac_pos_active_conn = RunSorn(phase = 'Plasticity',matrices = plastic_matrices,time_steps = 30000).run_sorn(_inputs)\n",
        "\n",
        "with open('stdp2013_2960k.pkl', 'wb') as f:  \n",
        "    pickle.dump([plastic_matrices,X_all,Y_all,R_all,frac_pos_active_conn], f)\n",
        "    \n",
        "       \n",
        "with open('stdp2013_2960k.pkl','rb') as f:  \n",
        "    plastic_matrices,X_all,Y_all,R_all,frac_pos_active_conn = pickle.load(f)\n",
        "    \n",
        "plastic_matrices,X_all,Y_all,R_all,frac_pos_active_conn = RunSorn(phase = 'Plasticity',matrices = plastic_matrices,time_steps = 30000).run_sorn(_inputs)\n",
        "\n",
        "with open('stdp2013_2990k.pkl', 'wb') as f:  \n",
        "    pickle.dump([plastic_matrices,X_all,Y_all,R_all,frac_pos_active_conn], f)\n",
        "    \n",
        "       \n",
        "with open('stdp2013_2990k.pkl','rb') as f:  \n",
        "    plastic_matrices,X_all,Y_all,R_all,frac_pos_active_conn = pickle.load(f)\n",
        "    \n",
        "plastic_matrices,X_all,Y_all,R_all,frac_pos_active_conn = RunSorn(phase = 'Plasticity',matrices = plastic_matrices,time_steps = 30000).run_sorn(_inputs)\n",
        "\n",
        "with open('stdp2013_3200k.pkl', 'wb') as f:  \n",
        "    pickle.dump([plastic_matrices,X_all,Y_all,R_all,frac_pos_active_conn], f)"
      ],
      "execution_count": 0,
      "outputs": [
        {
          "output_type": "stream",
          "text": [
            "100%|██████████| 30000/30000 [17:45<00:00, 28.14it/s]\n",
            "100%|██████████| 30000/30000 [17:36<00:00, 28.40it/s]\n",
            "100%|██████████| 30000/30000 [17:46<00:00, 28.08it/s]\n",
            "100%|██████████| 30000/30000 [17:46<00:00, 28.12it/s]\n"
          ],
          "name": "stderr"
        }
      ]
    },
    {
      "metadata": {
        "colab_type": "text",
        "id": "rSgIwHUmwsRc"
      },
      "cell_type": "markdown",
      "source": [
        "# PERTURBATION / CRITICALITY ANALYSIS"
      ]
    },
    {
      "metadata": {
        "colab_type": "code",
        "id": "ewrGsMlxwueZ",
        "colab": {}
      },
      "cell_type": "code",
      "source": [
        "with open('stdp2013_3020k.pkl','rb') as f:  \n",
        "    plastic_matrices,X_all,Y_all,R_all,frac_pos_active_conn = pickle.load(f)"
      ],
      "execution_count": 0,
      "outputs": []
    },
    {
      "metadata": {
        "colab_type": "code",
        "id": "byJfBw0dw86n",
        "outputId": "77badc3b-bb45-478a-ebbe-2f8ee81ab43a",
        "colab": {}
      },
      "cell_type": "code",
      "source": [
        "actual_states = plastic_matrices['X'][:,1]\n",
        "perturbed_states = plastic_matrices['X'][:,1].copy()\n",
        "print(plastic_matrices['X'][:,1])\n"
      ],
      "execution_count": 0,
      "outputs": [
        {
          "output_type": "stream",
          "text": [
            "[0. 0. 0. 0. 0. 0. 0. 0. 0. 1. 0. 0. 0. 0. 0. 0. 0. 0. 0. 0. 0. 0. 0. 0.\n",
            " 0. 0. 0. 0. 0. 0. 0. 0. 0. 0. 0. 1. 0. 0. 0. 0. 0. 0. 0. 0. 0. 0. 0. 0.\n",
            " 0. 0. 0. 0. 0. 0. 0. 0. 0. 0. 0. 0. 0. 0. 0. 0. 0. 0. 0. 0. 0. 0. 0. 1.\n",
            " 0. 0. 0. 0. 0. 0. 0. 0. 0. 1. 0. 0. 0. 0. 0. 0. 0. 0. 0. 0. 0. 0. 0. 0.\n",
            " 0. 0. 0. 0. 0. 1. 0. 0. 1. 0. 0. 0. 0. 0. 1. 0. 0. 0. 0. 0. 0. 0. 0. 0.\n",
            " 0. 0. 0. 0. 1. 0. 0. 0. 0. 0. 0. 0. 0. 0. 0. 0. 0. 0. 0. 0. 0. 0. 0. 0.\n",
            " 0. 0. 0. 0. 0. 0. 0. 0. 0. 0. 0. 0. 0. 0. 1. 0. 0. 0. 0. 0. 0. 0. 0. 0.\n",
            " 0. 0. 0. 0. 0. 0. 0. 1. 0. 0. 1. 0. 0. 0. 1. 0. 0. 0. 0. 0. 0. 1. 0. 0.\n",
            " 0. 0. 0. 0. 0. 0. 0. 0.]\n"
          ],
          "name": "stdout"
        }
      ]
    },
    {
      "metadata": {
        "id": "JoYV4nkPrEef",
        "colab_type": "text"
      },
      "cell_type": "markdown",
      "source": [
        "#### Perturbate the network by changing the activity of 4th neuron"
      ]
    },
    {
      "metadata": {
        "id": "q6uRFfMIrEfP",
        "colab_type": "code",
        "colab": {}
      },
      "cell_type": "code",
      "source": [
        "perturbed_states[3] = 1.0"
      ],
      "execution_count": 0,
      "outputs": []
    },
    {
      "metadata": {
        "colab_type": "code",
        "id": "_hiyd2A3xI36",
        "colab": {}
      },
      "cell_type": "code",
      "source": [
        "plastic_matrices['X'][:,1] = perturbed_states.copy()"
      ],
      "execution_count": 0,
      "outputs": []
    },
    {
      "metadata": {
        "colab_type": "code",
        "id": "Mq4aiX4RxPIM",
        "outputId": "4ae1d274-b20e-43e8-f165-1460494e2858",
        "colab": {}
      },
      "cell_type": "code",
      "source": [
        "print(plastic_matrices['X'][:,1])"
      ],
      "execution_count": 0,
      "outputs": [
        {
          "output_type": "stream",
          "text": [
            "[0. 0. 0. 1. 0. 0. 0. 0. 0. 1. 0. 0. 0. 0. 0. 0. 0. 0. 0. 0. 0. 0. 0. 0.\n",
            " 0. 0. 0. 0. 0. 0. 0. 0. 0. 0. 0. 1. 0. 0. 0. 0. 0. 0. 0. 0. 0. 0. 0. 0.\n",
            " 0. 0. 0. 0. 0. 0. 0. 0. 0. 0. 0. 0. 0. 0. 0. 0. 0. 0. 0. 0. 0. 0. 0. 1.\n",
            " 0. 0. 0. 0. 0. 0. 0. 0. 0. 1. 0. 0. 0. 0. 0. 0. 0. 0. 0. 0. 0. 0. 0. 0.\n",
            " 0. 0. 0. 0. 0. 1. 0. 0. 1. 0. 0. 0. 0. 0. 1. 0. 0. 0. 0. 0. 0. 0. 0. 0.\n",
            " 0. 0. 0. 0. 1. 0. 0. 0. 0. 0. 0. 0. 0. 0. 0. 0. 0. 0. 0. 0. 0. 0. 0. 0.\n",
            " 0. 0. 0. 0. 0. 0. 0. 0. 0. 0. 0. 0. 0. 0. 1. 0. 0. 0. 0. 0. 0. 0. 0. 0.\n",
            " 0. 0. 0. 0. 0. 0. 0. 1. 0. 0. 1. 0. 0. 0. 1. 0. 0. 0. 0. 0. 0. 1. 0. 0.\n",
            " 0. 0. 0. 0. 0. 0. 0. 0.]\n"
          ],
          "name": "stdout"
        }
      ]
    },
    {
      "metadata": {
        "colab_type": "text",
        "id": "J_134i7WxXuF"
      },
      "cell_type": "markdown",
      "source": [
        "## Run SORN using perturbated network state\n",
        "### CHECK: Random input defined inside the train class"
      ]
    },
    {
      "metadata": {
        "id": "mUxoOPcH03rg",
        "colab_type": "code",
        "colab": {}
      },
      "cell_type": "code",
      "source": [
        "with open('stdp2013_5_perturbed1.pkl','rb') as f:  \n",
        "    plastic_matrices,X_all,Y_all,R_all,frac_pos_active_conn = pickle.load(f)"
      ],
      "execution_count": 0,
      "outputs": []
    },
    {
      "metadata": {
        "colab_type": "code",
        "id": "SqC2CSKkxcsx",
        "outputId": "49b60f37-0f5f-4f68-b8fd-3372cd3b93b0",
        "colab": {
          "base_uri": "https://localhost:8080/",
          "height": 34
        }
      },
      "cell_type": "code",
      "source": [
        " \n",
        "plastic_matrices,X_all,Y_all,R_all,frac_pos_active_conn = RunSorn(phase = 'Plasticity',matrices = plastic_matrices,time_steps =30000).run_sorn(None)"
      ],
      "execution_count": 0,
      "outputs": [
        {
          "output_type": "stream",
          "text": [
            "100%|██████████| 30000/30000 [13:44<00:00, 35.66it/s]\n"
          ],
          "name": "stderr"
        }
      ]
    },
    {
      "metadata": {
        "colab_type": "code",
        "id": "2DyUevjQxq6d",
        "colab": {}
      },
      "cell_type": "code",
      "source": [
        "with open('stdp2013_5_perturbed2.pkl', 'wb') as f:  \n",
        "    pickle.dump([plastic_matrices,X_all,Y_all,R_all,frac_pos_active_conn], f)"
      ],
      "execution_count": 0,
      "outputs": []
    },
    {
      "metadata": {
        "id": "z88ylzDl1t70",
        "colab_type": "code",
        "outputId": "a8dcb1ee-f640-4ad9-bbb5-f7e211cf52e2",
        "colab": {
          "base_uri": "https://localhost:8080/",
          "height": 34
        }
      },
      "cell_type": "code",
      "source": [
        "with open('stdp2013_5_perturbed2.pkl','rb') as f:  \n",
        "    plastic_matrices,X_all,Y_all,R_all,frac_pos_active_conn = pickle.load(f)\n",
        "\n",
        "plastic_matrices,X_all,Y_all,R_all,frac_pos_active_conn = RunSorn(phase = 'Plasticity',matrices = plastic_matrices,time_steps =30000).run_sorn(None)"
      ],
      "execution_count": 0,
      "outputs": [
        {
          "output_type": "stream",
          "text": [
            "100%|██████████| 30000/30000 [14:15<00:00, 35.22it/s]\n"
          ],
          "name": "stderr"
        }
      ]
    },
    {
      "metadata": {
        "id": "UmCDoGHh2EK-",
        "colab_type": "code",
        "outputId": "82073bdb-5ff4-4e54-dd2e-bde96c2c18a8",
        "colab": {
          "base_uri": "https://localhost:8080/",
          "height": 34
        }
      },
      "cell_type": "code",
      "source": [
        "with open('stdp2013_5_perturbed3.pkl','rb') as f:  \n",
        "    plastic_matrices,X_all,Y_all,R_all,frac_pos_active_conn = pickle.load(f)\n",
        "\n",
        "plastic_matrices,X_all,Y_all,R_all,frac_pos_active_conn = RunSorn(phase = 'Plasticity',matrices = plastic_matrices,time_steps =30000).run_sorn(None)\n",
        "\n",
        "with open('stdp2013_5_perturbed4.pkl', 'wb') as f:  \n",
        "    pickle.dump([plastic_matrices,X_all,Y_all,R_all,frac_pos_active_conn], f)"
      ],
      "execution_count": 0,
      "outputs": [
        {
          "output_type": "stream",
          "text": [
            "100%|██████████| 30000/30000 [14:46<00:00, 33.83it/s]\n"
          ],
          "name": "stderr"
        }
      ]
    },
    {
      "metadata": {
        "colab_type": "text",
        "id": "WBCdniXk2lEF"
      },
      "cell_type": "markdown",
      "source": [
        "## Run SORN with actual states"
      ]
    },
    {
      "metadata": {
        "colab_type": "code",
        "id": "CAN4iuJ12nNl",
        "colab": {}
      },
      "cell_type": "code",
      "source": [
        "with open('stdp2013_5_act1.pkl','rb') as f:  \n",
        "    plastic_matrices,X_all,Y_all,R_all,frac_pos_active_conn = pickle.load(f)"
      ],
      "execution_count": 0,
      "outputs": []
    },
    {
      "metadata": {
        "colab_type": "code",
        "id": "voSbXRBe28wO",
        "outputId": "26877d91-aff7-48b4-a782-a0e77f7fae7e",
        "colab": {
          "base_uri": "https://localhost:8080/",
          "height": 34
        }
      },
      "cell_type": "code",
      "source": [
        "plastic_matrices,X_all,Y_all,R_all,frac_pos_active_conn = RunSorn(phase = 'Plasticity',matrices = plastic_matrices,time_steps =30000).run_sorn(None)\n",
        "\n",
        "with open('stdp2013_5_act2.pkl', 'wb') as f:  \n",
        "    pickle.dump([plastic_matrices,X_all,Y_all,R_all,frac_pos_active_conn], f)"
      ],
      "execution_count": 0,
      "outputs": [
        {
          "output_type": "stream",
          "text": [
            "100%|██████████| 30000/30000 [14:13<00:00, 35.16it/s]\n"
          ],
          "name": "stderr"
        }
      ]
    },
    {
      "metadata": {
        "colab_type": "code",
        "id": "IJUY7bQS355_",
        "outputId": "cf9ce726-4ac1-49c2-b95d-259c6eda2de4",
        "colab": {
          "base_uri": "https://localhost:8080/",
          "height": 34
        }
      },
      "cell_type": "code",
      "source": [
        "with open('stdp2013_5_act2.pkl','rb') as f:  \n",
        "    plastic_matrices,X_all,Y_all,R_all,frac_pos_active_conn = pickle.load(f)\n",
        "    \n",
        "plastic_matrices,X_all,Y_all,R_all,frac_pos_active_conn = RunSorn(phase = 'Plasticity',matrices = plastic_matrices,time_steps =30000).run_sorn(None)\n",
        "\n",
        "with open('stdp2013_5_act3.pkl', 'wb') as f:  \n",
        "    pickle.dump([plastic_matrices,X_all,Y_all,R_all,frac_pos_active_conn], f)"
      ],
      "execution_count": 0,
      "outputs": [
        {
          "output_type": "stream",
          "text": [
            "100%|██████████| 30000/30000 [14:42<00:00, 34.01it/s]\n"
          ],
          "name": "stderr"
        }
      ]
    },
    {
      "metadata": {
        "id": "tfJxpBzMnRWT",
        "colab_type": "code",
        "colab": {}
      },
      "cell_type": "code",
      "source": [
        ""
      ],
      "execution_count": 0,
      "outputs": []
    }
  ]
}